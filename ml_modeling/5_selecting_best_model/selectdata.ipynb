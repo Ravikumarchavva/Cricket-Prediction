{
 "cells": [
  {
   "cell_type": "code",
   "execution_count": 6,
   "metadata": {},
   "outputs": [
    {
     "data": {
      "text/html": [
       "Finishing last run (ID:9q1jc24i) before initializing another..."
      ],
      "text/plain": [
       "<IPython.core.display.HTML object>"
      ]
     },
     "metadata": {},
     "output_type": "display_data"
    },
    {
     "data": {
      "application/vnd.jupyter.widget-view+json": {
       "model_id": "be1064c549484363ace725c14e15c0ff",
       "version_major": 2,
       "version_minor": 0
      },
      "text/plain": [
       "VBox(children=(Label(value='0.006 MB of 0.006 MB uploaded\\r'), FloatProgress(value=1.0, max=1.0)))"
      ]
     },
     "metadata": {},
     "output_type": "display_data"
    },
    {
     "data": {
      "text/html": [
       " View run <strong style=\"color:#cdcd00\">misunderstood-fog-19</strong> at: <a href='https://wandb.ai/ravikumarchavva-org/T20I-CRICKET-WINNER-PREDICTION/runs/9q1jc24i' target=\"_blank\">https://wandb.ai/ravikumarchavva-org/T20I-CRICKET-WINNER-PREDICTION/runs/9q1jc24i</a><br/> View project at: <a href='https://wandb.ai/ravikumarchavva-org/T20I-CRICKET-WINNER-PREDICTION' target=\"_blank\">https://wandb.ai/ravikumarchavva-org/T20I-CRICKET-WINNER-PREDICTION</a><br/>Synced 5 W&B file(s), 0 media file(s), 0 artifact file(s) and 0 other file(s)"
      ],
      "text/plain": [
       "<IPython.core.display.HTML object>"
      ]
     },
     "metadata": {},
     "output_type": "display_data"
    },
    {
     "data": {
      "text/html": [
       "Find logs at: <code>.\\wandb\\run-20241123_095712-9q1jc24i\\logs</code>"
      ],
      "text/plain": [
       "<IPython.core.display.HTML object>"
      ]
     },
     "metadata": {},
     "output_type": "display_data"
    },
    {
     "data": {
      "text/html": [
       "Successfully finished last run (ID:9q1jc24i). Initializing new run:<br/>"
      ],
      "text/plain": [
       "<IPython.core.display.HTML object>"
      ]
     },
     "metadata": {},
     "output_type": "display_data"
    },
    {
     "data": {
      "text/html": [
       "Tracking run with wandb version 0.18.3"
      ],
      "text/plain": [
       "<IPython.core.display.HTML object>"
      ]
     },
     "metadata": {},
     "output_type": "display_data"
    },
    {
     "data": {
      "text/html": [
       "Run data is saved locally in <code>d:\\github\\Cricket-Prediction\\ml_modeling\\5_selecting_best_model\\wandb\\run-20241123_100151-7895ltgp</code>"
      ],
      "text/plain": [
       "<IPython.core.display.HTML object>"
      ]
     },
     "metadata": {},
     "output_type": "display_data"
    },
    {
     "data": {
      "text/html": [
       "Syncing run <strong><a href='https://wandb.ai/ravikumarchavva-org/T20I-CRICKET-WINNER-PREDICTION/runs/7895ltgp' target=\"_blank\">wild-pond-21</a></strong> to <a href='https://wandb.ai/ravikumarchavva-org/T20I-CRICKET-WINNER-PREDICTION' target=\"_blank\">Weights & Biases</a> (<a href='https://wandb.me/run' target=\"_blank\">docs</a>)<br/>"
      ],
      "text/plain": [
       "<IPython.core.display.HTML object>"
      ]
     },
     "metadata": {},
     "output_type": "display_data"
    },
    {
     "data": {
      "text/html": [
       " View project at <a href='https://wandb.ai/ravikumarchavva-org/T20I-CRICKET-WINNER-PREDICTION' target=\"_blank\">https://wandb.ai/ravikumarchavva-org/T20I-CRICKET-WINNER-PREDICTION</a>"
      ],
      "text/plain": [
       "<IPython.core.display.HTML object>"
      ]
     },
     "metadata": {},
     "output_type": "display_data"
    },
    {
     "data": {
      "text/html": [
       " View run at <a href='https://wandb.ai/ravikumarchavva-org/T20I-CRICKET-WINNER-PREDICTION/runs/7895ltgp' target=\"_blank\">https://wandb.ai/ravikumarchavva-org/T20I-CRICKET-WINNER-PREDICTION/runs/7895ltgp</a>"
      ],
      "text/plain": [
       "<IPython.core.display.HTML object>"
      ]
     },
     "metadata": {},
     "output_type": "display_data"
    },
    {
     "name": "stderr",
     "output_type": "stream",
     "text": [
      "C:\\Users\\chavv\\AppData\\Local\\Temp\\ipykernel_7556\\2644094845.py:15: FutureWarning: You are using `torch.load` with `weights_only=False` (the current default value), which uses the default pickle module implicitly. It is possible to construct malicious pickle data which will execute arbitrary code during unpickling (See https://github.com/pytorch/pytorch/blob/main/SECURITY.md#untrusted-models for more details). In a future release, the default value for `weights_only` will be flipped to `True`. This limits the functions that could be executed during unpickling. Arbitrary objects will no longer be allowed to be loaded via this mode unless they are explicitly allowlisted by the user via `torch.serialization.add_safe_globals`. We recommend you start setting `weights_only=True` for any use case where you don't have full control of the loaded file. Please open an issue on GitHub for any issues related to this experimental feature.\n",
      "  model = torch.load(model_path)\n"
     ]
    },
    {
     "name": "stdout",
     "output_type": "stream",
     "text": [
      "Model loaded successfully!\n"
     ]
    },
    {
     "data": {
      "application/vnd.jupyter.widget-view+json": {
       "model_id": "61a00d44a0bd449ca6887bc61e9686ba",
       "version_major": 2,
       "version_minor": 0
      },
      "text/plain": [
       "VBox(children=(Label(value='0.007 MB of 0.007 MB uploaded\\r'), FloatProgress(value=1.0, max=1.0)))"
      ]
     },
     "metadata": {},
     "output_type": "display_data"
    },
    {
     "data": {
      "text/html": [
       " View run <strong style=\"color:#cdcd00\">wild-pond-21</strong> at: <a href='https://wandb.ai/ravikumarchavva-org/T20I-CRICKET-WINNER-PREDICTION/runs/7895ltgp' target=\"_blank\">https://wandb.ai/ravikumarchavva-org/T20I-CRICKET-WINNER-PREDICTION/runs/7895ltgp</a><br/> View project at: <a href='https://wandb.ai/ravikumarchavva-org/T20I-CRICKET-WINNER-PREDICTION' target=\"_blank\">https://wandb.ai/ravikumarchavva-org/T20I-CRICKET-WINNER-PREDICTION</a><br/>Synced 5 W&B file(s), 0 media file(s), 0 artifact file(s) and 0 other file(s)"
      ],
      "text/plain": [
       "<IPython.core.display.HTML object>"
      ]
     },
     "metadata": {},
     "output_type": "display_data"
    },
    {
     "data": {
      "text/html": [
       "Find logs at: <code>.\\wandb\\run-20241123_100151-7895ltgp\\logs</code>"
      ],
      "text/plain": [
       "<IPython.core.display.HTML object>"
      ]
     },
     "metadata": {},
     "output_type": "display_data"
    }
   ],
   "source": [
    "import wandb\n",
    "import os\n",
    "import torch\n",
    "\n",
    "# Initialize a W&B run\n",
    "run = wandb.init(project=\"T20I-CRICKET-WINNER-PREDICTION\")\n",
    "\n",
    "# Use the `best_model` artifact\n",
    "artifact = run.use_artifact('ravikumarchavva-org/T20I-CRICKET-WINNER-PREDICTION/best_model_val_loss_0.1193:v0', type='model')\n",
    "\n",
    "# Download the model file locally\n",
    "model_path = artifact.get_entry('best_model.pth').download()\n",
    "\n",
    "# Load the model into memory using PyTorch\n",
    "model = torch.load(model_path)\n",
    "\n",
    "# Optional: Remove the downloaded file if it's no longer needed\n",
    "os.remove(model_path)\n",
    "\n",
    "# Print confirmation\n",
    "print(\"Model loaded successfully!\")\n",
    "\n",
    "# Finish the W&B run\n",
    "run.finish()"
   ]
  },
  {
   "cell_type": "code",
   "execution_count": 7,
   "metadata": {},
   "outputs": [
    {
     "data": {
      "text/html": [
       "Tracking run with wandb version 0.18.3"
      ],
      "text/plain": [
       "<IPython.core.display.HTML object>"
      ]
     },
     "metadata": {},
     "output_type": "display_data"
    },
    {
     "data": {
      "text/html": [
       "Run data is saved locally in <code>d:\\github\\Cricket-Prediction\\ml_modeling\\5_selecting_best_model\\wandb\\run-20241123_100216-52br038t</code>"
      ],
      "text/plain": [
       "<IPython.core.display.HTML object>"
      ]
     },
     "metadata": {},
     "output_type": "display_data"
    },
    {
     "data": {
      "text/html": [
       "Syncing run <strong><a href='https://wandb.ai/ravikumarchavva-org/T20I-CRICKET-WINNER-PREDICTION/runs/52br038t' target=\"_blank\">fragrant-shape-22</a></strong> to <a href='https://wandb.ai/ravikumarchavva-org/T20I-CRICKET-WINNER-PREDICTION' target=\"_blank\">Weights & Biases</a> (<a href='https://wandb.me/run' target=\"_blank\">docs</a>)<br/>"
      ],
      "text/plain": [
       "<IPython.core.display.HTML object>"
      ]
     },
     "metadata": {},
     "output_type": "display_data"
    },
    {
     "data": {
      "text/html": [
       " View project at <a href='https://wandb.ai/ravikumarchavva-org/T20I-CRICKET-WINNER-PREDICTION' target=\"_blank\">https://wandb.ai/ravikumarchavva-org/T20I-CRICKET-WINNER-PREDICTION</a>"
      ],
      "text/plain": [
       "<IPython.core.display.HTML object>"
      ]
     },
     "metadata": {},
     "output_type": "display_data"
    },
    {
     "data": {
      "text/html": [
       " View run at <a href='https://wandb.ai/ravikumarchavva-org/T20I-CRICKET-WINNER-PREDICTION/runs/52br038t' target=\"_blank\">https://wandb.ai/ravikumarchavva-org/T20I-CRICKET-WINNER-PREDICTION/runs/52br038t</a>"
      ],
      "text/plain": [
       "<IPython.core.display.HTML object>"
      ]
     },
     "metadata": {},
     "output_type": "display_data"
    },
    {
     "name": "stdout",
     "output_type": "stream",
     "text": [
      "Train Dataset: 824 samples\n",
      "Validation Dataset: 103 samples\n",
      "Test Dataset: 104 samples\n"
     ]
    },
    {
     "name": "stderr",
     "output_type": "stream",
     "text": [
      "wandb: WARNING Fatal error while uploading data. Some run data will not be synced, but it will still be written to disk. Use `wandb sync` at the end of the run to try uploading.\n"
     ]
    }
   ],
   "source": [
    "import sys\n",
    "import os\n",
    "sys.path.append(os.path.join(os.getcwd(),\"..\"))\n",
    "\n",
    "from model_utils import collate_fn_with_padding, extract_data, augument_data, load_datasets\n",
    "from torch.utils.data import DataLoader\n",
    "\n",
    "# Load the Datasets\n",
    "train_dataset, test_dataset, val_dataset = load_datasets()\n",
    "\n",
    "# Step 2: Augment Data\n",
    "# train_dataset, test_dataset, val_dataset = augument_data(train_dataset, test_dataset, val_dataset)\n",
    "\n",
    "# Step 4: Create DataLoaders\n",
    "train_dataloader = DataLoader(train_dataset, batch_size=32, shuffle=True, collate_fn=collate_fn_with_padding)\n",
    "val_dataloader = DataLoader(val_dataset, batch_size=32, shuffle=True, collate_fn=collate_fn_with_padding)\n",
    "test_dataloader = DataLoader(test_dataset, batch_size=32, shuffle=False, collate_fn=collate_fn_with_padding)\n",
    "\n",
    "# Step 5: Extract Data\n",
    "train_team_data, train_player_data, train_ball_data, train_labels = extract_data(train_dataset)"
   ]
  },
  {
   "cell_type": "code",
   "execution_count": 15,
   "metadata": {},
   "outputs": [
    {
     "name": "stdout",
     "output_type": "stream",
     "text": [
      "best_model.pth\n"
     ]
    }
   ],
   "source": [
    "for file in artifact.files():\n",
    "    print(file.name)"
   ]
  },
  {
   "cell_type": "code",
   "execution_count": 19,
   "metadata": {},
   "outputs": [
    {
     "name": "stdout",
     "output_type": "stream",
     "text": [
      "{'lr': 0.001, 'dropout': 0.5, 'num_epochs': 50, 'num_layers': 2, 'hidden_size': 128, 'weight_decay': 0.0001}\n"
     ]
    },
    {
     "data": {
      "text/plain": [
       "<All keys matched successfully>"
      ]
     },
     "execution_count": 19,
     "metadata": {},
     "output_type": "execute_result"
    }
   ],
   "source": [
    "from model_utils import initialize_model\n",
    "device = torch.device('cuda' if torch.cuda.is_available() else 'cpu')\n",
    "\n",
    "config = artifact.metadata\n",
    "print(config)\n",
    "config['device'] = device\n",
    "config['batch_size'] = 32\n",
    "m = initialize_model(config,train_dataset,device)\n",
    "\n",
    "\n",
    "# load the model from state dict\n",
    "m.load_state_dict(model)"
   ]
  },
  {
   "cell_type": "code",
   "execution_count": 20,
   "metadata": {},
   "outputs": [
    {
     "name": "stdout",
     "output_type": "stream",
     "text": [
      "Test Accuracy: 92.23 %\n"
     ]
    }
   ],
   "source": [
    "m.eval()\n",
    "all_labels = []\n",
    "all_predictions = []\n",
    "all_probs = []\n",
    "\n",
    "\n",
    "# Define window sizes\n",
    "stage_metrics = {}\n",
    "with torch.no_grad():\n",
    "    correct = 0\n",
    "    total = 0\n",
    "    for team, player, ball, labels in test_dataloader:\n",
    "        team, player, ball, labels = team.to(device), player.to(device), ball.to(device), labels.to(device)  # Move data to device\n",
    "        team = team.float()\n",
    "        player = player.float()\n",
    "        ball = ball.float()\n",
    "        labels = labels.float()\n",
    "        \n",
    "        outputs = m(team, player, ball)\n",
    "        probs = outputs.squeeze().cpu().numpy()\n",
    "        if probs.ndim == 0:\n",
    "            probs = probs.reshape(1)  # Convert scalar to 1D array\n",
    "        predicted = (outputs.data > 0.5).float()\n",
    "        all_labels.extend(labels.cpu().numpy())\n",
    "        all_predictions.extend(predicted.cpu().numpy())\n",
    "        all_probs.extend(probs)\n",
    "        total += labels.size(0)\n",
    "        correct += (predicted == labels).sum().item()\n",
    "    \n",
    "    print('Test Accuracy: {:.2f} %'.format(100 * correct / total))"
   ]
  },
  {
   "cell_type": "code",
   "execution_count": null,
   "metadata": {},
   "outputs": [],
   "source": []
  }
 ],
 "metadata": {
  "kernelspec": {
   "display_name": "huggingface-torch",
   "language": "python",
   "name": "python3"
  },
  "language_info": {
   "codemirror_mode": {
    "name": "ipython",
    "version": 3
   },
   "file_extension": ".py",
   "mimetype": "text/x-python",
   "name": "python",
   "nbconvert_exporter": "python",
   "pygments_lexer": "ipython3",
   "version": "3.9.20"
  }
 },
 "nbformat": 4,
 "nbformat_minor": 4
}
