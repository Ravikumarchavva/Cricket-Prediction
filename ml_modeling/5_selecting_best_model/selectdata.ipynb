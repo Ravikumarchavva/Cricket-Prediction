{
 "cells": [
  {
   "cell_type": "code",
   "execution_count": 1,
   "metadata": {},
   "outputs": [
    {
     "name": "stderr",
     "output_type": "stream",
     "text": [
      "wandb: Using wandb-core as the SDK backend. Please refer to https://wandb.me/wandb-core for more information.\n",
      "wandb:   1 of 1 files downloaded.  \n"
     ]
    }
   ],
   "source": [
    "import wandb\n",
    "import os\n",
    "import torch\n",
    "\n",
    "# Initialize the W&B API\n",
    "api = wandb.Api()\n",
    "\n",
    "# Access the run and the artifact you want to download\n",
    "artifact = api.artifact('ravikumarchavva-org/T20I-CRICKET-WINNER-PREDICTION/best_model_val_loss_0.3673:v0', type='model')\n",
    "config = artifact.metadata\n",
    "model_path = artifact.download()"
   ]
  },
  {
   "cell_type": "code",
   "execution_count": 2,
   "metadata": {},
   "outputs": [
    {
     "name": "stderr",
     "output_type": "stream",
     "text": [
      "wandb: Currently logged in as: ravikumarchavva (ravikumarchavva-org). Use `wandb login --relogin` to force relogin\n"
     ]
    },
    {
     "data": {
      "text/html": [
       "Tracking run with wandb version 0.18.3"
      ],
      "text/plain": [
       "<IPython.core.display.HTML object>"
      ]
     },
     "metadata": {},
     "output_type": "display_data"
    },
    {
     "data": {
      "text/html": [
       "Run data is saved locally in <code>d:\\github\\Cricket-Prediction\\ml_modeling\\5_selecting_best_model\\wandb\\run-20241124_115149-prnijaj0</code>"
      ],
      "text/plain": [
       "<IPython.core.display.HTML object>"
      ]
     },
     "metadata": {},
     "output_type": "display_data"
    },
    {
     "data": {
      "text/html": [
       "Syncing run <strong><a href='https://wandb.ai/ravikumarchavva-org/T20I-CRICKET-WINNER-PREDICTION/runs/prnijaj0' target=\"_blank\">glowing-frost-120</a></strong> to <a href='https://wandb.ai/ravikumarchavva-org/T20I-CRICKET-WINNER-PREDICTION' target=\"_blank\">Weights & Biases</a> (<a href='https://wandb.me/run' target=\"_blank\">docs</a>)<br/>"
      ],
      "text/plain": [
       "<IPython.core.display.HTML object>"
      ]
     },
     "metadata": {},
     "output_type": "display_data"
    },
    {
     "data": {
      "text/html": [
       " View project at <a href='https://wandb.ai/ravikumarchavva-org/T20I-CRICKET-WINNER-PREDICTION' target=\"_blank\">https://wandb.ai/ravikumarchavva-org/T20I-CRICKET-WINNER-PREDICTION</a>"
      ],
      "text/plain": [
       "<IPython.core.display.HTML object>"
      ]
     },
     "metadata": {},
     "output_type": "display_data"
    },
    {
     "data": {
      "text/html": [
       " View run at <a href='https://wandb.ai/ravikumarchavva-org/T20I-CRICKET-WINNER-PREDICTION/runs/prnijaj0' target=\"_blank\">https://wandb.ai/ravikumarchavva-org/T20I-CRICKET-WINNER-PREDICTION/runs/prnijaj0</a>"
      ],
      "text/plain": [
       "<IPython.core.display.HTML object>"
      ]
     },
     "metadata": {},
     "output_type": "display_data"
    }
   ],
   "source": [
    "import sys\n",
    "import os\n",
    "sys.path.append(os.path.join(os.getcwd(),\"..\"))\n",
    "\n",
    "from data_utils import collate_fn_with_padding, load_datasets, augument_data, dataset_to_list\n",
    "from torch.utils.data import DataLoader\n",
    "\n",
    "# Load the Datasets\n",
    "train_dataset, test_dataset, val_dataset = load_datasets()\n",
    "\n",
    "# Step 2: Augment Data\n",
    "train_dataset, test_dataset, val_dataset = augument_data(train_dataset, test_dataset, val_dataset)\n",
    "\n",
    "# Step 4: Create DataLoaders\n",
    "train_dataloader = DataLoader(train_dataset, batch_size=config['batch_size'], shuffle=True, collate_fn=collate_fn_with_padding)\n",
    "val_dataloader = DataLoader(val_dataset, batch_size=config['batch_size'], shuffle=False, collate_fn=collate_fn_with_padding)\n",
    "test_dataloader = DataLoader(test_dataset, batch_size=config['batch_size'], shuffle=False, collate_fn=collate_fn_with_padding)\n",
    "\n",
    "# Step 5: Extract Data\n",
    "train_team_data, train_player_data, train_ball_data, train_labels = dataset_to_list(train_dataset)"
   ]
  },
  {
   "cell_type": "code",
   "execution_count": 3,
   "metadata": {},
   "outputs": [],
   "source": [
    "device = torch.device('cuda' if torch.cuda.is_available() else 'cpu')\n",
    "import os\n",
    "\n",
    "# Load the model\n",
    "model = torch.load(os.path.join(model_path, 'best_model.pth'),weights_only=False)"
   ]
  },
  {
   "cell_type": "code",
   "execution_count": 5,
   "metadata": {},
   "outputs": [
    {
     "name": "stdout",
     "output_type": "stream",
     "text": [
      "{'lr': 0.001, 'device': 'cuda', 'dropout': 0.6850228699929526, 'batch_size': 32, 'num_epochs': 50, 'num_layers': 3, 'hidden_size': 64, 'weight_decay': 4.858864028099076e-05, 'enable_plots': False}\n",
      "Test Accuracy: 82.69 %\n",
      "\n",
      "Stage Metrics:\n",
      "   Stage  accuracy  precision   recall       f1\n",
      "20 overs  0.808333   0.921569 0.712121 0.803419\n",
      "25 overs  0.846667   0.936508 0.756410 0.836879\n",
      "30 overs  0.822222   0.819444 0.756410 0.786667\n",
      "35 overs  0.828571   0.821429 0.766667 0.793103\n",
      "40 overs  0.829167   0.854369 0.771930 0.811060\n",
      "45 overs  0.822222   0.833333 0.750000 0.789474\n",
      "\n",
      "Overall Metrics:\n",
      "  Stage  accuracy  precision   recall       f1\n",
      "Overall  0.826861   0.838565 0.724806 0.777547\n",
      "Confusion Matrix:\n",
      "[[324  36]\n",
      " [ 71 187]]\n",
      "Classification Report:\n",
      "              precision    recall  f1-score   support\n",
      "\n",
      "     Class 0       0.82      0.90      0.86       360\n",
      "     Class 1       0.84      0.72      0.78       258\n",
      "\n",
      "    accuracy                           0.83       618\n",
      "   macro avg       0.83      0.81      0.82       618\n",
      "weighted avg       0.83      0.83      0.82       618\n",
      "\n"
     ]
    }
   ],
   "source": [
    "from model_utils import evaluate_model, plot_roc_curve\n",
    "from sklearn.metrics import confusion_matrix, classification_report, roc_curve, auc\n",
    "\n",
    "config['enable_plots'] = False\n",
    "\n",
    "save_dir = os.path.dirname(os.getcwd())\n",
    "\n",
    "# Define window sizes\n",
    "window_sizes = [20, 25, 30, 35, 40, 45]\n",
    "print(config)\n",
    "metrics, all_labels, all_predictions, all_probs = evaluate_model(\n",
    "    model, test_dataloader, device, window_sizes, config=config, save_dir=save_dir\n",
    ")\n",
    "\n",
    "# Calculate metrics for each window size\n",
    "stage_metrics = metrics[\"stage_metrics\"]\n",
    "overall_metrics = metrics[\"overall_metrics\"]\n",
    "\n",
    "import pandas as pd\n",
    "# Convert metrics to pandas DataFrames\n",
    "stage_df = pd.DataFrame(stage_metrics).T\n",
    "stage_df.index.name = \"Stage\"\n",
    "stage_df.reset_index(inplace=True)\n",
    "\n",
    "overall_df = pd.DataFrame(overall_metrics, index=[\"Overall\"]).reset_index()\n",
    "overall_df.rename(columns={\"index\": \"Stage\"}, inplace=True)\n",
    "\n",
    "# Print metrics in DataFrame format\n",
    "print(\"\\nStage Metrics:\")\n",
    "print(stage_df.to_string(index=False))\n",
    "\n",
    "print(\"\\nOverall Metrics:\")\n",
    "print(overall_df.to_string(index=False))\n",
    "\n",
    "# Convert DataFrames to wandb Tables\n",
    "stage_table = wandb.Table(data=stage_df)\n",
    "overall_table = wandb.Table(data=overall_df)\n",
    "\n",
    "# Log metrics tables to Weights & Biases\n",
    "wandb.log({\"Stage Metrics\": stage_table, \"Overall Metrics\": overall_table})\n",
    "\n",
    "# Step 7: Generate Evaluation Metrics\n",
    "conf_matrix = confusion_matrix(all_labels, all_predictions)\n",
    "print(\"Confusion Matrix:\")\n",
    "print(conf_matrix)\n",
    "\n",
    "class_report = classification_report(\n",
    "    all_labels, all_predictions, target_names=[\"Class 0\", \"Class 1\"]\n",
    ")\n",
    "print(\"Classification Report:\")\n",
    "print(class_report)\n",
    "\n",
    "fpr, tpr, _ = roc_curve(all_labels, all_probs)\n",
    "roc_auc = auc(fpr, tpr)\n",
    "\n",
    "plot_roc_curve(fpr=fpr, tpr=tpr, roc_auc=roc_auc, save_path=save_dir)\n",
    "\n",
    "# Convert confusion matrix to DataFrame for logging\n",
    "conf_matrix_df = pd.DataFrame(\n",
    "    conf_matrix,\n",
    "    index=[\"Actual Class 0\", \"Actual Class 1\"],\n",
    "    columns=[\"Predicted Class 0\", \"Predicted Class 1\"],\n",
    ")"
   ]
  },
  {
   "cell_type": "code",
   "execution_count": null,
   "metadata": {},
   "outputs": [],
   "source": []
  }
 ],
 "metadata": {
  "kernelspec": {
   "display_name": "huggingface-torch",
   "language": "python",
   "name": "python3"
  },
  "language_info": {
   "codemirror_mode": {
    "name": "ipython",
    "version": 3
   },
   "file_extension": ".py",
   "mimetype": "text/x-python",
   "name": "python",
   "nbconvert_exporter": "python",
   "pygments_lexer": "ipython3",
   "version": "3.9.20"
  }
 },
 "nbformat": 4,
 "nbformat_minor": 4
}
