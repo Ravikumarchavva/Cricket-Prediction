{
 "cells": [
  {
   "cell_type": "code",
   "execution_count": 2,
   "metadata": {},
   "outputs": [
    {
     "name": "stderr",
     "output_type": "stream",
     "text": [
      "\u001b[34m\u001b[1mwandb\u001b[0m: Network error (ConnectionError), entering retry loop.\n"
     ]
    },
    {
     "name": "stdout",
     "output_type": "stream",
     "text": [
      "Best run ID: yjilby5q\n",
      "Validation Accuracy: 83.49514563106796\n"
     ]
    },
    {
     "data": {
      "text/plain": [
       "{'lr': 0.0001,\n",
       " 'dropout': 0.6882847989323215,\n",
       " 'batch_size': 32,\n",
       " 'num_epochs': 100,\n",
       " 'num_layers': 3,\n",
       " 'hidden_size': 256,\n",
       " 'enable_plots': False,\n",
       " 'weight_decay': 5.754095511533712e-06,\n",
       " 'learning_rate': 0.0009693209823947022}"
      ]
     },
     "execution_count": 2,
     "metadata": {},
     "output_type": "execute_result"
    }
   ],
   "source": [
    "import wandb\n",
    "\n",
    "# Initialize your WandB API\n",
    "api = wandb.Api()\n",
    "\n",
    "# Define your project and sweep details\n",
    "entity = \"ravikumarchavva-org\"  # Replace with your WandB organization or username\n",
    "project = \"T20I-CRICKET-WINNER-PREDICTION\"\n",
    "sweep_id = \"qqakx1g3\"  # The specific sweep ID\n",
    "\n",
    "# Fetch the sweep\n",
    "sweep = api.sweep(f\"{entity}/{project}/{sweep_id}\")\n",
    "\n",
    "# Retrieve all runs in the sweep\n",
    "runs = sweep.runs\n",
    "\n",
    "# Sort runs by a specific metric, e.g., validation accuracy (replace with your metric name)\n",
    "# Use the metric key name you logged in your WandB runs\n",
    "best_run = sorted(\n",
    "    runs, key=lambda run: run.summary.get(\"val_accuracy\", float(\"-inf\")), reverse=True\n",
    ")[1]\n",
    "\n",
    "# Print details of the best run\n",
    "print(f\"Best run ID: {best_run.id}\")\n",
    "print(f\"Validation Accuracy: {best_run.summary.get('val_accuracy')}\")\n",
    "config = best_run.config\n",
    "config"
   ]
  },
  {
   "cell_type": "code",
   "execution_count": 3,
   "metadata": {},
   "outputs": [
    {
     "name": "stdout",
     "output_type": "stream",
     "text": [
      "Downloading artifact: best_model_val_loss_0.3524:v0\n"
     ]
    },
    {
     "name": "stderr",
     "output_type": "stream",
     "text": [
      "wandb: Using wandb-core as the SDK backend. Please refer to https://wandb.me/wandb-core for more information.\n",
      "wandb:   1 of 1 files downloaded.  \n"
     ]
    },
    {
     "name": "stdout",
     "output_type": "stream",
     "text": [
      "Artifact downloaded to: d:\\github\\Cricket-Prediction\\ml_modeling\\5_selecting_best_model_to_onnx\\artifacts\\best_model_val_loss_0.3524-v0\n"
     ]
    }
   ],
   "source": [
    "# Get the model from run id\n",
    "run_path = f\"ravikumarchavva-org/T20I-CRICKET-WINNER-PREDICTION/{best_run.id}\"\n",
    "\n",
    "# Get the specific run\n",
    "run = api.run(run_path)\n",
    "\n",
    "# List and download output artifacts\n",
    "for artifact in run.logged_artifacts():\n",
    "    if artifact.name.startswith(\"best_model\"):\n",
    "        print(f\"Downloading artifact: {artifact.name}\")\n",
    "        artifact_dir = artifact.download()\n",
    "        print(f\"Artifact downloaded to: {artifact_dir}\")"
   ]
  },
  {
   "cell_type": "code",
   "execution_count": 4,
   "metadata": {},
   "outputs": [
    {
     "name": "stderr",
     "output_type": "stream",
     "text": [
      "wandb: Currently logged in as: ravikumarchavva (ravikumarchavva-org). Use `wandb login --relogin` to force relogin\n"
     ]
    },
    {
     "data": {
      "text/html": [
       "Tracking run with wandb version 0.18.3"
      ],
      "text/plain": [
       "<IPython.core.display.HTML object>"
      ]
     },
     "metadata": {},
     "output_type": "display_data"
    },
    {
     "data": {
      "text/html": [
       "Run data is saved locally in <code>d:\\github\\Cricket-Prediction\\ml_modeling\\5_selecting_best_model_to_onnx\\wandb\\run-20241204_162052-p3hg05er</code>"
      ],
      "text/plain": [
       "<IPython.core.display.HTML object>"
      ]
     },
     "metadata": {},
     "output_type": "display_data"
    },
    {
     "data": {
      "text/html": [
       "Syncing run <strong><a href='https://wandb.ai/ravikumarchavva-org/T20I-CRICKET-WINNER-PREDICTION/runs/p3hg05er' target=\"_blank\">polished-capybara-243</a></strong> to <a href='https://wandb.ai/ravikumarchavva-org/T20I-CRICKET-WINNER-PREDICTION' target=\"_blank\">Weights & Biases</a> (<a href='https://wandb.me/run' target=\"_blank\">docs</a>)<br/>"
      ],
      "text/plain": [
       "<IPython.core.display.HTML object>"
      ]
     },
     "metadata": {},
     "output_type": "display_data"
    },
    {
     "data": {
      "text/html": [
       " View project at <a href='https://wandb.ai/ravikumarchavva-org/T20I-CRICKET-WINNER-PREDICTION' target=\"_blank\">https://wandb.ai/ravikumarchavva-org/T20I-CRICKET-WINNER-PREDICTION</a>"
      ],
      "text/plain": [
       "<IPython.core.display.HTML object>"
      ]
     },
     "metadata": {},
     "output_type": "display_data"
    },
    {
     "data": {
      "text/html": [
       " View run at <a href='https://wandb.ai/ravikumarchavva-org/T20I-CRICKET-WINNER-PREDICTION/runs/p3hg05er' target=\"_blank\">https://wandb.ai/ravikumarchavva-org/T20I-CRICKET-WINNER-PREDICTION/runs/p3hg05er</a>"
      ],
      "text/plain": [
       "<IPython.core.display.HTML object>"
      ]
     },
     "metadata": {},
     "output_type": "display_data"
    }
   ],
   "source": [
    "import sys\n",
    "import os\n",
    "sys.path.append(os.path.join(os.getcwd(),\"..\",\"..\"))\n",
    "\n",
    "from utils.data_utils import collate_fn_with_padding, load_datasets, augument_data\n",
    "from utils.model_utils import set_seed\n",
    "from torch.utils.data import DataLoader\n",
    "\n",
    "set_seed()\n",
    "# Load the Datasets\n",
    "train_dataset, val_dataset, test_dataset = load_datasets()\n",
    "\n",
    "# Step 2: Augment Data\n",
    "train_dataset, val_dataset, test_dataset = augument_data(train_dataset, val_dataset, test_dataset)\n",
    "\n",
    "# Step 3: Create DataLoaders\n",
    "train_dataloader = DataLoader(train_dataset, batch_size=config['batch_size'], shuffle=True, collate_fn=collate_fn_with_padding)\n",
    "val_dataloader = DataLoader(val_dataset, batch_size=config['batch_size'], shuffle=False, collate_fn=collate_fn_with_padding)\n",
    "test_dataloader = DataLoader(test_dataset, batch_size=config['batch_size'], shuffle=False, collate_fn=collate_fn_with_padding)"
   ]
  },
  {
   "cell_type": "code",
   "execution_count": 5,
   "metadata": {},
   "outputs": [],
   "source": [
    "import torch\n",
    "device = torch.device('cuda' if torch.cuda.is_available() else 'cpu')\n",
    "import os\n",
    "\n",
    "# Load the model\n",
    "model = torch.load(os.path.join(artifact_dir, 'best_model.pth'),weights_only=False)"
   ]
  },
  {
   "cell_type": "markdown",
   "metadata": {},
   "source": [
    "# Evaluating on `test_dataset`"
   ]
  },
  {
   "cell_type": "code",
   "execution_count": 6,
   "metadata": {},
   "outputs": [
    {
     "name": "stdout",
     "output_type": "stream",
     "text": [
      "Accuracy: 85.58 %\n",
      "\n",
      "Test Data Metrics:\n",
      "Overall Metrics:\n",
      "  Stage  accuracy  precision   recall      f1\n",
      "Overall  0.855769   0.924138 0.797619 0.85623\n",
      "\n",
      "Stage Metrics:\n"
     ]
    },
    {
     "data": {
      "text/html": [
       "<div>\n",
       "<style scoped>\n",
       "    .dataframe tbody tr th:only-of-type {\n",
       "        vertical-align: middle;\n",
       "    }\n",
       "\n",
       "    .dataframe tbody tr th {\n",
       "        vertical-align: top;\n",
       "    }\n",
       "\n",
       "    .dataframe thead th {\n",
       "        text-align: right;\n",
       "    }\n",
       "</style>\n",
       "<table border=\"1\" class=\"dataframe\">\n",
       "  <thead>\n",
       "    <tr style=\"text-align: right;\">\n",
       "      <th></th>\n",
       "      <th>Stage</th>\n",
       "      <th>accuracy</th>\n",
       "      <th>precision</th>\n",
       "      <th>recall</th>\n",
       "      <th>f1</th>\n",
       "    </tr>\n",
       "  </thead>\n",
       "  <tbody>\n",
       "    <tr>\n",
       "      <th>0</th>\n",
       "      <td>5 overs</td>\n",
       "      <td>0.700000</td>\n",
       "      <td>0.666667</td>\n",
       "      <td>0.500000</td>\n",
       "      <td>0.571429</td>\n",
       "    </tr>\n",
       "    <tr>\n",
       "      <th>1</th>\n",
       "      <td>10 overs</td>\n",
       "      <td>0.783333</td>\n",
       "      <td>0.869565</td>\n",
       "      <td>0.666667</td>\n",
       "      <td>0.754717</td>\n",
       "    </tr>\n",
       "    <tr>\n",
       "      <th>2</th>\n",
       "      <td>15 overs</td>\n",
       "      <td>0.811111</td>\n",
       "      <td>0.878049</td>\n",
       "      <td>0.750000</td>\n",
       "      <td>0.808989</td>\n",
       "    </tr>\n",
       "    <tr>\n",
       "      <th>3</th>\n",
       "      <td>20 overs</td>\n",
       "      <td>0.850000</td>\n",
       "      <td>0.900000</td>\n",
       "      <td>0.818182</td>\n",
       "      <td>0.857143</td>\n",
       "    </tr>\n",
       "    <tr>\n",
       "      <th>4</th>\n",
       "      <td>25 overs</td>\n",
       "      <td>0.860000</td>\n",
       "      <td>0.909091</td>\n",
       "      <td>0.833333</td>\n",
       "      <td>0.869565</td>\n",
       "    </tr>\n",
       "    <tr>\n",
       "      <th>5</th>\n",
       "      <td>30 overs</td>\n",
       "      <td>0.855556</td>\n",
       "      <td>0.913043</td>\n",
       "      <td>0.823529</td>\n",
       "      <td>0.865979</td>\n",
       "    </tr>\n",
       "    <tr>\n",
       "      <th>6</th>\n",
       "      <td>35 overs</td>\n",
       "      <td>0.861905</td>\n",
       "      <td>0.925234</td>\n",
       "      <td>0.825000</td>\n",
       "      <td>0.872247</td>\n",
       "    </tr>\n",
       "    <tr>\n",
       "      <th>7</th>\n",
       "      <td>40 overs</td>\n",
       "      <td>0.875000</td>\n",
       "      <td>0.928571</td>\n",
       "      <td>0.847826</td>\n",
       "      <td>0.886364</td>\n",
       "    </tr>\n",
       "    <tr>\n",
       "      <th>8</th>\n",
       "      <td>45 overs</td>\n",
       "      <td>0.877778</td>\n",
       "      <td>0.933333</td>\n",
       "      <td>0.840000</td>\n",
       "      <td>0.884211</td>\n",
       "    </tr>\n",
       "  </tbody>\n",
       "</table>\n",
       "</div>"
      ],
      "text/plain": [
       "      Stage  accuracy  precision    recall        f1\n",
       "0   5 overs  0.700000   0.666667  0.500000  0.571429\n",
       "1  10 overs  0.783333   0.869565  0.666667  0.754717\n",
       "2  15 overs  0.811111   0.878049  0.750000  0.808989\n",
       "3  20 overs  0.850000   0.900000  0.818182  0.857143\n",
       "4  25 overs  0.860000   0.909091  0.833333  0.869565\n",
       "5  30 overs  0.855556   0.913043  0.823529  0.865979\n",
       "6  35 overs  0.861905   0.925234  0.825000  0.872247\n",
       "7  40 overs  0.875000   0.928571  0.847826  0.886364\n",
       "8  45 overs  0.877778   0.933333  0.840000  0.884211"
      ]
     },
     "execution_count": 6,
     "metadata": {},
     "output_type": "execute_result"
    }
   ],
   "source": [
    "from utils.model_utils import evaluate_model\n",
    "\n",
    "config['enable_plots'] = False\n",
    "\n",
    "save_dir = os.path.dirname(os.getcwd())\n",
    "\n",
    "# Define window sizes\n",
    "window_sizes = [5,10,15,20, 25, 30, 35, 40, 45]\n",
    "\n",
    "# Evaluate the model\n",
    "metrics, all_labels, all_predictions, all_probs = evaluate_model(\n",
    "    model, test_dataloader, device, window_sizes, config, save_dir=os.getcwd()\n",
    ")\n",
    "overall_metrics = metrics[\"overall_metrics\"]\n",
    "stage_metrics = metrics[\"stage_metrics\"]\n",
    "import pandas as pd\n",
    "# Convert metrics to pandas DataFrames\n",
    "stage_df = pd.DataFrame(stage_metrics).T\n",
    "stage_df.index.name = \"Stage\"\n",
    "stage_df.reset_index(inplace=True)\n",
    "\n",
    "overall_df = pd.DataFrame(overall_metrics, index=[\"Overall\"]).reset_index()\n",
    "overall_df.rename(columns={\"index\": \"Stage\"}, inplace=True)\n",
    "\n",
    "print(\"\\nTest Data Metrics:\")\n",
    "# Print metrics in DataFrame format\n",
    "print(\"Overall Metrics:\")\n",
    "print(overall_df.to_string(index=False))\n",
    "\n",
    "print(\"\\nStage Metrics:\")\n",
    "stage_df"
   ]
  },
  {
   "cell_type": "code",
   "execution_count": 7,
   "metadata": {},
   "outputs": [
    {
     "data": {
      "text/plain": [
       "(torch.Size([1, 13]), torch.Size([1, 1, 22, 12]), torch.Size([1, 120, 10]))"
      ]
     },
     "execution_count": 7,
     "metadata": {},
     "output_type": "execute_result"
    }
   ],
   "source": [
    "# i = torch.randint(0, len(test_dataset), (1,)).item()\n",
    "i = 0\n",
    "train_dataset[i][0].unsqueeze(0).shape, train_dataset[i][1].unsqueeze(0).unsqueeze(0).shape, train_dataset[i][2].unsqueeze(0).shape"
   ]
  },
  {
   "cell_type": "code",
   "execution_count": 8,
   "metadata": {},
   "outputs": [
    {
     "name": "stdout",
     "output_type": "stream",
     "text": [
      "13\n"
     ]
    }
   ],
   "source": [
    "print(train_dataset[i][0].shape[-1])"
   ]
  },
  {
   "cell_type": "code",
   "execution_count": 9,
   "metadata": {},
   "outputs": [
    {
     "data": {
      "text/plain": [
       "'model_visualization.png'"
      ]
     },
     "execution_count": 9,
     "metadata": {},
     "output_type": "execute_result"
    }
   ],
   "source": [
    "# Move the model to the device\n",
    "model.to(device)\n",
    "\n",
    "# Set the model to evaluation mode\n",
    "model.eval()\n",
    "\n",
    "# Visualize the model architecture\n",
    "from torchinfo import summary  # Replace torchsummary with torchinfo\n",
    "from torchviz import make_dot  # Add import for torchviz\n",
    "\n",
    "# Visualize the model architecture using torchinfo\n",
    "summary(model, input_size=[(1, 13), (1, 1, 22, 12), (1, 10)])\n",
    "\n",
    "# Create a dummy input to visualize the graph\n",
    "team_dummy = train_dataset[i][0].unsqueeze(0).to(device)\n",
    "player_dummy = train_dataset[i][1].unsqueeze(0).to(device)\n",
    "ball_dummy = train_dataset[i][2].unsqueeze(0).to(device)\n",
    "# Forward pass to get the output\n",
    "output = model(team_dummy, player_dummy, ball_dummy)\n",
    "\n",
    "# Generate and save the model visualization\n",
    "dot = make_dot(output, params=None)\n",
    "dot.format = 'png'\n",
    "dot.render('model_visualization')  # Saves as model_visualization.png"
   ]
  },
  {
   "cell_type": "markdown",
   "metadata": {},
   "source": [
    "# Saving to ONNX format"
   ]
  },
  {
   "cell_type": "code",
   "execution_count": 11,
   "metadata": {},
   "outputs": [
    {
     "name": "stderr",
     "output_type": "stream",
     "text": [
      "c:\\Users\\chavv\\anaconda\\envs\\huggingface-torch\\lib\\site-packages\\torch\\onnx\\symbolic_opset9.py:4545: UserWarning: Exporting a model to ONNX with a batch_size other than 1, with a variable length with LSTM can cause an error when running the ONNX model with a different batch size. Make sure to save the model with a batch size of 1, or define the initial states (h0/c0) as inputs of the model. \n",
      "  warnings.warn(\n"
     ]
    },
    {
     "name": "stdout",
     "output_type": "stream",
     "text": [
      "Model has been exported to d:\\github\\Cricket-Prediction\\ml_modeling\\5_selecting_best_model_to_onnx\\model.onnx\n"
     ]
    }
   ],
   "source": [
    "# Export the model to ONNX\n",
    "\n",
    "from utils.model_utils import export_model_to_onnx\n",
    "\n",
    "export_path = os.path.join(os.getcwd(), \"model.onnx\")\n",
    "export_model_to_onnx(model, export_path, (team_dummy, player_dummy, ball_dummy))"
   ]
  },
  {
   "cell_type": "markdown",
   "metadata": {},
   "source": [
    "# Predict using onnx"
   ]
  },
  {
   "cell_type": "code",
   "execution_count": 12,
   "metadata": {},
   "outputs": [
    {
     "name": "stdout",
     "output_type": "stream",
     "text": [
      "Input Names: ['team_input', 'player_input', 'ball_input']\n",
      "Output Names: ['output']\n"
     ]
    }
   ],
   "source": [
    "#import from onnx\n",
    "import onnx\n",
    "import onnxruntime as ort\n",
    "\n",
    "# Load the ONNX model\n",
    "onnx_model = onnx.load(export_path)\n",
    "\n",
    "# Check the ONNX model\n",
    "onnx.checker.check_model(onnx_model)\n",
    "\n",
    "# Initialize the ONNX runtime session\n",
    "ort_session = ort.InferenceSession(export_path)\n",
    "\n",
    "# Get the input names\n",
    "input_names = [input.name for input in ort_session.get_inputs()]\n",
    "\n",
    "# Get the output names\n",
    "output_names = [output.name for output in ort_session.get_outputs()]\n",
    "\n",
    "# Print the input and output names\n",
    "print(f\"Input Names: {input_names}\")\n",
    "print(f\"Output Names: {output_names}\")"
   ]
  },
  {
   "cell_type": "code",
   "execution_count": 13,
   "metadata": {},
   "outputs": [
    {
     "data": {
      "text/plain": [
       "tensor(0.)"
      ]
     },
     "execution_count": 13,
     "metadata": {},
     "output_type": "execute_result"
    }
   ],
   "source": [
    "i= torch.randint(0, len(val_dataset), (1,)).item()\n",
    "team_input, player_input, ball_input,label = train_dataset[i]\n",
    "team_input = team_input.unsqueeze(0).to(device)\n",
    "player_input = player_input.unsqueeze(0).to(device)\n",
    "ball_input = ball_input.unsqueeze(0).to(device)\n",
    "label"
   ]
  },
  {
   "cell_type": "code",
   "execution_count": 14,
   "metadata": {},
   "outputs": [],
   "source": [
    "onnx_input = {\n",
    "    \"team_input\": team_input.cpu().numpy(),\n",
    "    \"player_input\": player_input.cpu().numpy(),\n",
    "    \"ball_input\": ball_input.cpu().numpy(),\n",
    "}\n"
   ]
  },
  {
   "cell_type": "code",
   "execution_count": 15,
   "metadata": {},
   "outputs": [
    {
     "name": "stdout",
     "output_type": "stream",
     "text": [
      "[array([[0.07113281]], dtype=float32)]\n"
     ]
    }
   ],
   "source": [
    "# Run the ONNX model using the ONNX runtime session\n",
    "outputs = ort_session.run(None, onnx_input)\n",
    "\n",
    "# Print the outputs\n",
    "print(outputs)"
   ]
  },
  {
   "cell_type": "code",
   "execution_count": 18,
   "metadata": {},
   "outputs": [
    {
     "data": {
      "text/plain": [
       "(208, 250)"
      ]
     },
     "execution_count": 18,
     "metadata": {},
     "output_type": "execute_result"
    }
   ],
   "source": [
    "# select 2 random samples from the test dataset where 1 is a win and 1 is a loss\n",
    "win_indices = [i for i, label in enumerate(all_labels) if label == 1]\n",
    "loss_indices = [i for i, label in enumerate(all_labels) if label == 0]\n",
    "\n",
    "win_index = torch.randint(0, len(win_indices), (1,)).item()\n",
    "loss_index = torch.randint(0, len(loss_indices), (1,)).item()\n",
    "\n",
    "win_index, loss_index"
   ]
  },
  {
   "cell_type": "code",
   "execution_count": 19,
   "metadata": {},
   "outputs": [
    {
     "data": {
      "text/plain": [
       "(tensor(1.), tensor(0.))"
      ]
     },
     "execution_count": 19,
     "metadata": {},
     "output_type": "execute_result"
    }
   ],
   "source": [
    "win_team_input, win_player_input, win_ball_input, win_label = test_dataset[win_indices[win_index]]\n",
    "loss_team_input, loss_player_input, loss_ball_input, loss_label = test_dataset[loss_indices[loss_index]]\n",
    "\n",
    "win_team_input = win_team_input.unsqueeze(0).to(device)\n",
    "win_player_input = win_player_input.unsqueeze(0).to(device)\n",
    "win_ball_input = win_ball_input.unsqueeze(0).to(device)\n",
    "\n",
    "loss_team_input = loss_team_input.unsqueeze(0).to(device)\n",
    "loss_player_input = loss_player_input.unsqueeze(0).to(device)\n",
    "loss_ball_input = loss_ball_input.unsqueeze(0).to(device)\n",
    "\n",
    "win_label, loss_label"
   ]
  },
  {
   "cell_type": "code",
   "execution_count": 20,
   "metadata": {},
   "outputs": [
    {
     "name": "stdout",
     "output_type": "stream",
     "text": [
      "Win Outputs: [array([[0.8578379]], dtype=float32)]\n",
      "Loss Outputs: [array([[0.01378292]], dtype=float32)]\n"
     ]
    }
   ],
   "source": [
    "onnx_input_win = {\n",
    "    \"team_input\": win_team_input.cpu().numpy(),\n",
    "    \"player_input\": win_player_input.cpu().numpy(),\n",
    "    \"ball_input\": win_ball_input.cpu().numpy(),\n",
    "}\n",
    "\n",
    "onnx_input_loss = {\n",
    "    \"team_input\": loss_team_input.cpu().numpy(),\n",
    "    \"player_input\": loss_player_input.cpu().numpy(),\n",
    "    \"ball_input\": loss_ball_input.cpu().numpy(),\n",
    "}\n",
    "\n",
    "# Run the ONNX model using the ONNX runtime session\n",
    "win_outputs = ort_session.run(None, onnx_input_win)\n",
    "loss_outputs = ort_session.run(None, onnx_input_loss)\n",
    "\n",
    "# Print the outputs\n",
    "print(\"Win Outputs:\", win_outputs)\n",
    "print(\"Loss Outputs:\", loss_outputs)"
   ]
  },
  {
   "cell_type": "markdown",
   "metadata": {},
   "source": [
    "# Printing from taking image"
   ]
  },
  {
   "cell_type": "code",
   "execution_count": null,
   "metadata": {},
   "outputs": [
    {
     "name": "stdout",
     "output_type": "stream",
     "text": [
      "Actual:1.0, Predicted:[0.8578379]\n"
     ]
    },
    {
     "data": {
      "text/html": [
       "<div>\n",
       "<style scoped>\n",
       "    .dataframe tbody tr th:only-of-type {\n",
       "        vertical-align: middle;\n",
       "    }\n",
       "\n",
       "    .dataframe tbody tr th {\n",
       "        vertical-align: top;\n",
       "    }\n",
       "\n",
       "    .dataframe thead th {\n",
       "        text-align: right;\n",
       "    }\n",
       "</style>\n",
       "<table border=\"1\" class=\"dataframe\">\n",
       "  <thead>\n",
       "    <tr style=\"text-align: right;\">\n",
       "      <th></th>\n",
       "      <th>innings</th>\n",
       "      <th>ball</th>\n",
       "      <th>runs</th>\n",
       "      <th>wickets</th>\n",
       "      <th>total_runs</th>\n",
       "      <th>total_wickets</th>\n",
       "      <th>overs</th>\n",
       "      <th>run_rate</th>\n",
       "      <th>req_run_rate</th>\n",
       "      <th>target</th>\n",
       "    </tr>\n",
       "  </thead>\n",
       "  <tbody>\n",
       "    <tr>\n",
       "      <th>235</th>\n",
       "      <td>2.0</td>\n",
       "      <td>17.500000</td>\n",
       "      <td>1.0</td>\n",
       "      <td>0.0</td>\n",
       "      <td>179.0</td>\n",
       "      <td>5.0</td>\n",
       "      <td>17.0</td>\n",
       "      <td>10.529411</td>\n",
       "      <td>5.000000</td>\n",
       "      <td>194.0</td>\n",
       "    </tr>\n",
       "    <tr>\n",
       "      <th>236</th>\n",
       "      <td>2.0</td>\n",
       "      <td>17.600000</td>\n",
       "      <td>2.0</td>\n",
       "      <td>0.0</td>\n",
       "      <td>181.0</td>\n",
       "      <td>5.0</td>\n",
       "      <td>17.0</td>\n",
       "      <td>10.647058</td>\n",
       "      <td>4.333333</td>\n",
       "      <td>194.0</td>\n",
       "    </tr>\n",
       "    <tr>\n",
       "      <th>237</th>\n",
       "      <td>2.0</td>\n",
       "      <td>18.100000</td>\n",
       "      <td>1.0</td>\n",
       "      <td>0.0</td>\n",
       "      <td>182.0</td>\n",
       "      <td>5.0</td>\n",
       "      <td>18.0</td>\n",
       "      <td>10.111111</td>\n",
       "      <td>6.000000</td>\n",
       "      <td>194.0</td>\n",
       "    </tr>\n",
       "    <tr>\n",
       "      <th>238</th>\n",
       "      <td>2.0</td>\n",
       "      <td>18.200001</td>\n",
       "      <td>6.0</td>\n",
       "      <td>0.0</td>\n",
       "      <td>188.0</td>\n",
       "      <td>5.0</td>\n",
       "      <td>18.0</td>\n",
       "      <td>10.444445</td>\n",
       "      <td>3.000000</td>\n",
       "      <td>194.0</td>\n",
       "    </tr>\n",
       "    <tr>\n",
       "      <th>239</th>\n",
       "      <td>2.0</td>\n",
       "      <td>18.299999</td>\n",
       "      <td>1.0</td>\n",
       "      <td>0.0</td>\n",
       "      <td>189.0</td>\n",
       "      <td>5.0</td>\n",
       "      <td>18.0</td>\n",
       "      <td>10.500000</td>\n",
       "      <td>2.500000</td>\n",
       "      <td>194.0</td>\n",
       "    </tr>\n",
       "  </tbody>\n",
       "</table>\n",
       "</div>"
      ],
      "text/plain": [
       "     innings       ball  runs  wickets  total_runs  total_wickets  overs  \\\n",
       "235      2.0  17.500000   1.0      0.0       179.0            5.0   17.0   \n",
       "236      2.0  17.600000   2.0      0.0       181.0            5.0   17.0   \n",
       "237      2.0  18.100000   1.0      0.0       182.0            5.0   18.0   \n",
       "238      2.0  18.200001   6.0      0.0       188.0            5.0   18.0   \n",
       "239      2.0  18.299999   1.0      0.0       189.0            5.0   18.0   \n",
       "\n",
       "      run_rate  req_run_rate  target  \n",
       "235  10.529411      5.000000   194.0  \n",
       "236  10.647058      4.333333   194.0  \n",
       "237  10.111111      6.000000   194.0  \n",
       "238  10.444445      3.000000   194.0  \n",
       "239  10.500000      2.500000   194.0  "
      ]
     },
     "execution_count": 31,
     "metadata": {},
     "output_type": "execute_result"
    }
   ],
   "source": [
    "# printing for taking image\n",
    "import pandas as pd\n",
    "columns = ['innings', 'ball', 'runs', 'wickets', 'total_runs','total_wickets', 'overs', 'run_rate', 'req_run_rate', 'target']\n",
    "print(f\"Actual:{win_label}, Predicted:{win_outputs[0][0]}\")\n",
    "pd.DataFrame(win_ball_input.cpu().numpy().reshape(-1,10),columns=columns).tail(5)"
   ]
  },
  {
   "cell_type": "code",
   "execution_count": 35,
   "metadata": {},
   "outputs": [
    {
     "name": "stdout",
     "output_type": "stream",
     "text": [
      "Actual:0.0, Predicted:[0.01378292]\n"
     ]
    },
    {
     "data": {
      "text/html": [
       "<div>\n",
       "<style scoped>\n",
       "    .dataframe tbody tr th:only-of-type {\n",
       "        vertical-align: middle;\n",
       "    }\n",
       "\n",
       "    .dataframe tbody tr th {\n",
       "        vertical-align: top;\n",
       "    }\n",
       "\n",
       "    .dataframe thead th {\n",
       "        text-align: right;\n",
       "    }\n",
       "</style>\n",
       "<table border=\"1\" class=\"dataframe\">\n",
       "  <thead>\n",
       "    <tr style=\"text-align: right;\">\n",
       "      <th></th>\n",
       "      <th>innings</th>\n",
       "      <th>ball</th>\n",
       "      <th>runs</th>\n",
       "      <th>wickets</th>\n",
       "      <th>total_runs</th>\n",
       "      <th>total_wickets</th>\n",
       "      <th>overs</th>\n",
       "      <th>run_rate</th>\n",
       "      <th>req_run_rate</th>\n",
       "      <th>target</th>\n",
       "    </tr>\n",
       "  </thead>\n",
       "  <tbody>\n",
       "    <tr>\n",
       "      <th>222</th>\n",
       "      <td>2.0</td>\n",
       "      <td>15.2</td>\n",
       "      <td>0.0</td>\n",
       "      <td>1.0</td>\n",
       "      <td>99.0</td>\n",
       "      <td>8.0</td>\n",
       "      <td>15.0</td>\n",
       "      <td>6.600000</td>\n",
       "      <td>21.000000</td>\n",
       "      <td>204.0</td>\n",
       "    </tr>\n",
       "    <tr>\n",
       "      <th>223</th>\n",
       "      <td>2.0</td>\n",
       "      <td>15.3</td>\n",
       "      <td>1.0</td>\n",
       "      <td>0.0</td>\n",
       "      <td>100.0</td>\n",
       "      <td>8.0</td>\n",
       "      <td>15.0</td>\n",
       "      <td>6.666667</td>\n",
       "      <td>20.799999</td>\n",
       "      <td>204.0</td>\n",
       "    </tr>\n",
       "    <tr>\n",
       "      <th>224</th>\n",
       "      <td>2.0</td>\n",
       "      <td>15.4</td>\n",
       "      <td>0.0</td>\n",
       "      <td>0.0</td>\n",
       "      <td>100.0</td>\n",
       "      <td>8.0</td>\n",
       "      <td>15.0</td>\n",
       "      <td>6.666667</td>\n",
       "      <td>20.799999</td>\n",
       "      <td>204.0</td>\n",
       "    </tr>\n",
       "    <tr>\n",
       "      <th>225</th>\n",
       "      <td>2.0</td>\n",
       "      <td>15.5</td>\n",
       "      <td>1.0</td>\n",
       "      <td>0.0</td>\n",
       "      <td>101.0</td>\n",
       "      <td>8.0</td>\n",
       "      <td>15.0</td>\n",
       "      <td>6.733333</td>\n",
       "      <td>20.600000</td>\n",
       "      <td>204.0</td>\n",
       "    </tr>\n",
       "    <tr>\n",
       "      <th>226</th>\n",
       "      <td>2.0</td>\n",
       "      <td>15.6</td>\n",
       "      <td>0.0</td>\n",
       "      <td>1.0</td>\n",
       "      <td>101.0</td>\n",
       "      <td>9.0</td>\n",
       "      <td>15.0</td>\n",
       "      <td>6.733333</td>\n",
       "      <td>20.600000</td>\n",
       "      <td>204.0</td>\n",
       "    </tr>\n",
       "  </tbody>\n",
       "</table>\n",
       "</div>"
      ],
      "text/plain": [
       "     innings  ball  runs  wickets  total_runs  total_wickets  overs  run_rate  \\\n",
       "222      2.0  15.2   0.0      1.0        99.0            8.0   15.0  6.600000   \n",
       "223      2.0  15.3   1.0      0.0       100.0            8.0   15.0  6.666667   \n",
       "224      2.0  15.4   0.0      0.0       100.0            8.0   15.0  6.666667   \n",
       "225      2.0  15.5   1.0      0.0       101.0            8.0   15.0  6.733333   \n",
       "226      2.0  15.6   0.0      1.0       101.0            9.0   15.0  6.733333   \n",
       "\n",
       "     req_run_rate  target  \n",
       "222     21.000000   204.0  \n",
       "223     20.799999   204.0  \n",
       "224     20.799999   204.0  \n",
       "225     20.600000   204.0  \n",
       "226     20.600000   204.0  "
      ]
     },
     "execution_count": 35,
     "metadata": {},
     "output_type": "execute_result"
    }
   ],
   "source": [
    "print(f\"Actual:{loss_label}, Predicted:{loss_outputs[0][0]}\")\n",
    "pd.DataFrame(loss_ball_input.cpu().numpy().reshape(-1,10),columns=columns).tail(5)"
   ]
  },
  {
   "cell_type": "code",
   "execution_count": null,
   "metadata": {},
   "outputs": [],
   "source": []
  }
 ],
 "metadata": {
  "kernelspec": {
   "display_name": "huggingface-torch",
   "language": "python",
   "name": "python3"
  },
  "language_info": {
   "codemirror_mode": {
    "name": "ipython",
    "version": 3
   },
   "file_extension": ".py",
   "mimetype": "text/x-python",
   "name": "python",
   "nbconvert_exporter": "python",
   "pygments_lexer": "ipython3",
   "version": "3.9.20"
  }
 },
 "nbformat": 4,
 "nbformat_minor": 2
}
