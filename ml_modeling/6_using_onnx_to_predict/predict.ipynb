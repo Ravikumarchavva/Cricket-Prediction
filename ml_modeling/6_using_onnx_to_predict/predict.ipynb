{
 "cells": [
  {
   "cell_type": "code",
   "execution_count": 7,
   "metadata": {},
   "outputs": [
    {
     "name": "stdout",
     "output_type": "stream",
     "text": [
      "Input Names: ['team_input', 'player_input', 'ball_input']\n",
      "Output Names: ['output']\n"
     ]
    }
   ],
   "source": [
    "import os\n",
    "\n",
    "#import from onnx\n",
    "import onnx\n",
    "import onnxruntime as ort\n",
    "\n",
    "# Load the ONNX model\n",
    "onnx_model = onnx.load(os.path.join(os.getcwd(), '..', '5_selecting_best_model_to_onnx', 'model.onnx'))\n",
    "\n",
    "# Check the ONNX model\n",
    "onnx.checker.check_model(onnx_model)\n",
    "\n",
    "# Initialize the ONNX runtime session\n",
    "ort_session = ort.InferenceSession(os.path.join(os.getcwd(), '..', '5_selecting_best_model_to_onnx', 'model.onnx'))\n",
    "\n",
    "# Get the input names\n",
    "input_names = [input.name for input in ort_session.get_inputs()]\n",
    "\n",
    "# Get the output names\n",
    "output_names = [output.name for output in ort_session.get_outputs()]\n",
    "\n",
    "# Print the input and output names\n",
    "print(f\"Input Names: {input_names}\")\n",
    "print(f\"Output Names: {output_names}\")"
   ]
  },
  {
   "cell_type": "code",
   "execution_count": 3,
   "metadata": {},
   "outputs": [
    {
     "data": {
      "text/plain": [
       "['c:\\\\Users\\\\chavv\\\\anaconda\\\\envs\\\\huggingface-torch\\\\python39.zip',\n",
       " 'c:\\\\Users\\\\chavv\\\\anaconda\\\\envs\\\\huggingface-torch\\\\DLLs',\n",
       " 'c:\\\\Users\\\\chavv\\\\anaconda\\\\envs\\\\huggingface-torch\\\\lib',\n",
       " 'c:\\\\Users\\\\chavv\\\\anaconda\\\\envs\\\\huggingface-torch',\n",
       " '',\n",
       " 'C:\\\\Users\\\\chavv\\\\AppData\\\\Roaming\\\\Python\\\\Python39\\\\site-packages',\n",
       " 'c:\\\\Users\\\\chavv\\\\anaconda\\\\envs\\\\huggingface-torch\\\\lib\\\\site-packages',\n",
       " 'c:\\\\Users\\\\chavv\\\\anaconda\\\\envs\\\\huggingface-torch\\\\lib\\\\site-packages\\\\win32',\n",
       " 'c:\\\\Users\\\\chavv\\\\anaconda\\\\envs\\\\huggingface-torch\\\\lib\\\\site-packages\\\\win32\\\\lib',\n",
       " 'c:\\\\Users\\\\chavv\\\\anaconda\\\\envs\\\\huggingface-torch\\\\lib\\\\site-packages\\\\Pythonwin',\n",
       " 'c:\\\\Users\\\\chavv\\\\anaconda\\\\envs\\\\huggingface-torch\\\\lib\\\\site-packages\\\\setuptools\\\\_vendor',\n",
       " 'd:\\\\github\\\\Cricket-Prediction\\\\ml_modeling\\\\6_using_onnx_to_predict\\\\..\\\\5_selecting_best_model_to_onnx']"
      ]
     },
     "execution_count": 3,
     "metadata": {},
     "output_type": "execute_result"
    }
   ],
   "source": [
    "sys.path"
   ]
  },
  {
   "cell_type": "code",
   "execution_count": null,
   "metadata": {},
   "outputs": [],
   "source": []
  }
 ],
 "metadata": {
  "kernelspec": {
   "display_name": "huggingface-torch",
   "language": "python",
   "name": "python3"
  },
  "language_info": {
   "codemirror_mode": {
    "name": "ipython",
    "version": 3
   },
   "file_extension": ".py",
   "mimetype": "text/x-python",
   "name": "python",
   "nbconvert_exporter": "python",
   "pygments_lexer": "ipython3",
   "version": "3.9.20"
  }
 },
 "nbformat": 4,
 "nbformat_minor": 2
}
