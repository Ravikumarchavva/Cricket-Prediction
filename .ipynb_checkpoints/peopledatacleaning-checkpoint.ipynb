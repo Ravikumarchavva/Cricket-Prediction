{
 "cells": [
  {
   "cell_type": "code",
   "execution_count": 1,
   "metadata": {},
   "outputs": [],
   "source": [
    "import polars as pl"
   ]
  },
  {
   "cell_type": "code",
   "execution_count": 5,
   "metadata": {},
   "outputs": [
    {
     "data": {
      "text/html": [
       "<div><style>\n",
       ".dataframe > thead > tr,\n",
       ".dataframe > tbody > tr {\n",
       "  text-align: right;\n",
       "  white-space: pre-wrap;\n",
       "}\n",
       "</style>\n",
       "<small>shape: (3_958, 15)</small><table border=\"1\" class=\"dataframe\"><thead><tr><th>Player</th><th>Span</th><th>Mat</th><th>Inns</th><th>NO</th><th>Runs</th><th>HS</th><th>Ave</th><th>BF</th><th>SR</th><th>100</th><th>50</th><th>0</th><th>4s</th><th>6s</th></tr><tr><td>str</td><td>str</td><td>f64</td><td>f64</td><td>f64</td><td>f64</td><td>f64</td><td>f64</td><td>f64</td><td>f64</td><td>f64</td><td>f64</td><td>f64</td><td>f64</td><td>f64</td></tr></thead><tbody><tr><td>&quot;K Yamamoto-Lake (JPN)&quot;</td><td>&quot;2024-2024&quot;</td><td>4.0</td><td>0.0</td><td>0.0</td><td>0.0</td><td>0.0</td><td>0.0</td><td>0.0</td><td>0.0</td><td>0.0</td><td>0.0</td><td>0.0</td><td>0.0</td><td>0.0</td></tr><tr><td>&quot;Yash Talati (KENYA)&quot;</td><td>&quot;2022-2022&quot;</td><td>2.0</td><td>0.0</td><td>0.0</td><td>0.0</td><td>0.0</td><td>0.0</td><td>0.0</td><td>0.0</td><td>0.0</td><td>0.0</td><td>0.0</td><td>0.0</td><td>0.0</td></tr><tr><td>&quot;Zabiullah Ibrahimkhel (Aut)&quot;</td><td>&quot;2021-2021&quot;</td><td>1.0</td><td>0.0</td><td>0.0</td><td>0.0</td><td>0.0</td><td>0.0</td><td>0.0</td><td>0.0</td><td>0.0</td><td>0.0</td><td>0.0</td><td>0.0</td><td>0.0</td></tr><tr><td>&quot;Zahid Mahmood (PAK)&quot;</td><td>&quot;2021-2021&quot;</td><td>1.0</td><td>0.0</td><td>0.0</td><td>0.0</td><td>0.0</td><td>0.0</td><td>0.0</td><td>0.0</td><td>0.0</td><td>0.0</td><td>0.0</td><td>0.0</td><td>0.0</td></tr><tr><td>&quot;Zamir Khan (AFG)&quot;</td><td>&quot;2012-2012&quot;</td><td>1.0</td><td>0.0</td><td>0.0</td><td>0.0</td><td>0.0</td><td>0.0</td><td>0.0</td><td>0.0</td><td>0.0</td><td>0.0</td><td>0.0</td><td>0.0</td><td>0.0</td></tr><tr><td>&hellip;</td><td>&hellip;</td><td>&hellip;</td><td>&hellip;</td><td>&hellip;</td><td>&hellip;</td><td>&hellip;</td><td>&hellip;</td><td>&hellip;</td><td>&hellip;</td><td>&hellip;</td><td>&hellip;</td><td>&hellip;</td><td>&hellip;</td><td>&hellip;</td></tr><tr><td>&quot;S Dhawan (IND)&quot;</td><td>&quot;2011-2021&quot;</td><td>68.0</td><td>66.0</td><td>3.0</td><td>1759.0</td><td>92.0</td><td>27.92</td><td>1392.0</td><td>126.36</td><td>0.0</td><td>11.0</td><td>2.0</td><td>191.0</td><td>50.0</td></tr><tr><td>&quot;Tamim Iqbal (BAN/ICC/World)&quot;</td><td>&quot;2007-2020&quot;</td><td>78.0</td><td>78.0</td><td>5.0</td><td>1758.0</td><td>103.0</td><td>24.08</td><td>1503.0</td><td>116.96</td><td>1.0</td><td>7.0</td><td>6.0</td><td>188.0</td><td>45.0</td></tr><tr><td>&quot;MDKJ Perera (SL)&quot;</td><td>&quot;2013-2024&quot;</td><td>68.0</td><td>67.0</td><td>2.0</td><td>1750.0</td><td>84.0</td><td>26.92</td><td>1334.0</td><td>131.18</td><td>0.0</td><td>14.0</td><td>3.0</td><td>164.0</td><td>57.0</td></tr><tr><td>&quot;CO Obuya (KENYA)&quot;</td><td>&quot;2007-2024&quot;</td><td>75.0</td><td>70.0</td><td>12.0</td><td>1742.0</td><td>96.0</td><td>30.03</td><td>1460.0</td><td>119.31</td><td>0.0</td><td>9.0</td><td>6.0</td><td>127.0</td><td>84.0</td></tr><tr><td>&quot;C Munro (NZ)&quot;</td><td>&quot;2012-2020&quot;</td><td>65.0</td><td>62.0</td><td>7.0</td><td>1724.0</td><td>109.0</td><td>31.34</td><td>1102.0</td><td>156.44</td><td>3.0</td><td>11.0</td><td>5.0</td><td>132.0</td><td>107.0</td></tr></tbody></table></div>"
      ],
      "text/plain": [
       "shape: (3_958, 15)\n",
       "┌─────────────────────────────┬───────────┬──────┬──────┬───┬──────┬─────┬───────┬───────┐\n",
       "│ Player                      ┆ Span      ┆ Mat  ┆ Inns ┆ … ┆ 50   ┆ 0   ┆ 4s    ┆ 6s    │\n",
       "│ ---                         ┆ ---       ┆ ---  ┆ ---  ┆   ┆ ---  ┆ --- ┆ ---   ┆ ---   │\n",
       "│ str                         ┆ str       ┆ f64  ┆ f64  ┆   ┆ f64  ┆ f64 ┆ f64   ┆ f64   │\n",
       "╞═════════════════════════════╪═══════════╪══════╪══════╪═══╪══════╪═════╪═══════╪═══════╡\n",
       "│ K Yamamoto-Lake (JPN)       ┆ 2024-2024 ┆ 4.0  ┆ 0.0  ┆ … ┆ 0.0  ┆ 0.0 ┆ 0.0   ┆ 0.0   │\n",
       "│ Yash Talati (KENYA)         ┆ 2022-2022 ┆ 2.0  ┆ 0.0  ┆ … ┆ 0.0  ┆ 0.0 ┆ 0.0   ┆ 0.0   │\n",
       "│ Zabiullah Ibrahimkhel (Aut) ┆ 2021-2021 ┆ 1.0  ┆ 0.0  ┆ … ┆ 0.0  ┆ 0.0 ┆ 0.0   ┆ 0.0   │\n",
       "│ Zahid Mahmood (PAK)         ┆ 2021-2021 ┆ 1.0  ┆ 0.0  ┆ … ┆ 0.0  ┆ 0.0 ┆ 0.0   ┆ 0.0   │\n",
       "│ Zamir Khan (AFG)            ┆ 2012-2012 ┆ 1.0  ┆ 0.0  ┆ … ┆ 0.0  ┆ 0.0 ┆ 0.0   ┆ 0.0   │\n",
       "│ …                           ┆ …         ┆ …    ┆ …    ┆ … ┆ …    ┆ …   ┆ …     ┆ …     │\n",
       "│ S Dhawan (IND)              ┆ 2011-2021 ┆ 68.0 ┆ 66.0 ┆ … ┆ 11.0 ┆ 2.0 ┆ 191.0 ┆ 50.0  │\n",
       "│ Tamim Iqbal (BAN/ICC/World) ┆ 2007-2020 ┆ 78.0 ┆ 78.0 ┆ … ┆ 7.0  ┆ 6.0 ┆ 188.0 ┆ 45.0  │\n",
       "│ MDKJ Perera (SL)            ┆ 2013-2024 ┆ 68.0 ┆ 67.0 ┆ … ┆ 14.0 ┆ 3.0 ┆ 164.0 ┆ 57.0  │\n",
       "│ CO Obuya (KENYA)            ┆ 2007-2024 ┆ 75.0 ┆ 70.0 ┆ … ┆ 9.0  ┆ 6.0 ┆ 127.0 ┆ 84.0  │\n",
       "│ C Munro (NZ)                ┆ 2012-2020 ┆ 65.0 ┆ 62.0 ┆ … ┆ 11.0 ┆ 5.0 ┆ 132.0 ┆ 107.0 │\n",
       "└─────────────────────────────┴───────────┴──────┴──────┴───┴──────┴─────┴───────┴───────┘"
      ]
     },
     "execution_count": 5,
     "metadata": {},
     "output_type": "execute_result"
    }
   ],
   "source": [
    "batters = pl.read_parquet(\"./historical_data/scrapped/player_stats_batting.parquet\")\n",
    "batters"
   ]
  },
  {
   "cell_type": "code",
   "execution_count": 22,
   "metadata": {},
   "outputs": [
    {
     "data": {
      "text/html": [
       "<div><style>\n",
       ".dataframe > thead > tr,\n",
       ".dataframe > tbody > tr {\n",
       "  text-align: right;\n",
       "  white-space: pre-wrap;\n",
       "}\n",
       "</style>\n",
       "<small>shape: (3_923, 1)</small><table border=\"1\" class=\"dataframe\"><thead><tr><th>Player</th></tr><tr><td>str</td></tr></thead><tbody><tr><td>&quot;Parvez Rasool&quot;</td></tr><tr><td>&quot;M Shumba&quot;</td></tr><tr><td>&quot;Mominul Haque&quot;</td></tr><tr><td>&quot;DI Allan&quot;</td></tr><tr><td>&quot;Mohammad Naim&quot;</td></tr><tr><td>&hellip;</td></tr><tr><td>&quot;Taher Muhammad&quot;</td></tr><tr><td>&quot;HD Rutherford&quot;</td></tr><tr><td>&quot;Tanveer Ahmed&quot;</td></tr><tr><td>&quot;G Wijekoon&quot;</td></tr><tr><td>&quot;MM Sharma&quot;</td></tr></tbody></table></div>"
      ],
      "text/plain": [
       "shape: (3_923, 1)\n",
       "┌────────────────┐\n",
       "│ Player         │\n",
       "│ ---            │\n",
       "│ str            │\n",
       "╞════════════════╡\n",
       "│ Parvez Rasool  │\n",
       "│ M Shumba       │\n",
       "│ Mominul Haque  │\n",
       "│ DI Allan       │\n",
       "│ Mohammad Naim  │\n",
       "│ …              │\n",
       "│ Taher Muhammad │\n",
       "│ HD Rutherford  │\n",
       "│ Tanveer Ahmed  │\n",
       "│ G Wijekoon     │\n",
       "│ MM Sharma      │\n",
       "└────────────────┘"
      ]
     },
     "execution_count": 22,
     "metadata": {},
     "output_type": "execute_result"
    }
   ],
   "source": [
    "df = pl.DataFrame(batters['Player'].str.replace(r\"\\s*\\(.*?\\)\", \"\").unique())\n",
    "df"
   ]
  },
  {
   "cell_type": "code",
   "execution_count": 26,
   "metadata": {},
   "outputs": [],
   "source": [
    "df.write_csv(\"player_names.csv\")"
   ]
  }
 ],
 "metadata": {
  "kernelspec": {
   "display_name": "eda",
   "language": "python",
   "name": "python3"
  },
  "language_info": {
   "codemirror_mode": {
    "name": "ipython",
    "version": 3
   },
   "file_extension": ".py",
   "mimetype": "text/x-python",
   "name": "python",
   "nbconvert_exporter": "python",
   "pygments_lexer": "ipython3",
   "version": "3.8.19"
  }
 },
 "nbformat": 4,
 "nbformat_minor": 2
}
