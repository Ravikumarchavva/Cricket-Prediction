{
 "cells": [
  {
   "cell_type": "code",
   "execution_count": 24,
   "metadata": {},
   "outputs": [],
   "source": [
    "import polars as pl"
   ]
  },
  {
   "cell_type": "code",
   "execution_count": 33,
   "metadata": {},
   "outputs": [
    {
     "data": {
      "text/html": [
       "<div>\n",
       "<style scoped>\n",
       "    .dataframe tbody tr th:only-of-type {\n",
       "        vertical-align: middle;\n",
       "    }\n",
       "\n",
       "    .dataframe tbody tr th {\n",
       "        vertical-align: top;\n",
       "    }\n",
       "\n",
       "    .dataframe thead th {\n",
       "        text-align: right;\n",
       "    }\n",
       "</style>\n",
       "<table border=\"1\" class=\"dataframe\">\n",
       "  <thead>\n",
       "    <tr style=\"text-align: right;\">\n",
       "      <th></th>\n",
       "      <th>match_id</th>\n",
       "      <th>season</th>\n",
       "      <th>start_date</th>\n",
       "      <th>venue</th>\n",
       "      <th>innings</th>\n",
       "      <th>ball</th>\n",
       "      <th>batting_team</th>\n",
       "      <th>bowling_team</th>\n",
       "      <th>striker</th>\n",
       "      <th>non_striker</th>\n",
       "      <th>...</th>\n",
       "      <th>extras</th>\n",
       "      <th>wides</th>\n",
       "      <th>noballs</th>\n",
       "      <th>byes</th>\n",
       "      <th>legbyes</th>\n",
       "      <th>penalty</th>\n",
       "      <th>wicket_type</th>\n",
       "      <th>player_dismissed</th>\n",
       "      <th>other_wicket_type</th>\n",
       "      <th>other_player_dismissed</th>\n",
       "    </tr>\n",
       "  </thead>\n",
       "  <tbody>\n",
       "    <tr>\n",
       "      <th>0</th>\n",
       "      <td>1001349</td>\n",
       "      <td>2016/17</td>\n",
       "      <td>2017-02-17</td>\n",
       "      <td>Melbourne Cricket Ground</td>\n",
       "      <td>1</td>\n",
       "      <td>0.1</td>\n",
       "      <td>Australia</td>\n",
       "      <td>Sri Lanka</td>\n",
       "      <td>AJ Finch</td>\n",
       "      <td>M Klinger</td>\n",
       "      <td>...</td>\n",
       "      <td>0</td>\n",
       "      <td>NaN</td>\n",
       "      <td>None</td>\n",
       "      <td>NaN</td>\n",
       "      <td>NaN</td>\n",
       "      <td>None</td>\n",
       "      <td>None</td>\n",
       "      <td>None</td>\n",
       "      <td>None</td>\n",
       "      <td>None</td>\n",
       "    </tr>\n",
       "    <tr>\n",
       "      <th>1</th>\n",
       "      <td>1001349</td>\n",
       "      <td>2016/17</td>\n",
       "      <td>2017-02-17</td>\n",
       "      <td>Melbourne Cricket Ground</td>\n",
       "      <td>1</td>\n",
       "      <td>0.2</td>\n",
       "      <td>Australia</td>\n",
       "      <td>Sri Lanka</td>\n",
       "      <td>AJ Finch</td>\n",
       "      <td>M Klinger</td>\n",
       "      <td>...</td>\n",
       "      <td>0</td>\n",
       "      <td>NaN</td>\n",
       "      <td>None</td>\n",
       "      <td>NaN</td>\n",
       "      <td>NaN</td>\n",
       "      <td>None</td>\n",
       "      <td>None</td>\n",
       "      <td>None</td>\n",
       "      <td>None</td>\n",
       "      <td>None</td>\n",
       "    </tr>\n",
       "    <tr>\n",
       "      <th>2</th>\n",
       "      <td>1001349</td>\n",
       "      <td>2016/17</td>\n",
       "      <td>2017-02-17</td>\n",
       "      <td>Melbourne Cricket Ground</td>\n",
       "      <td>1</td>\n",
       "      <td>0.3</td>\n",
       "      <td>Australia</td>\n",
       "      <td>Sri Lanka</td>\n",
       "      <td>AJ Finch</td>\n",
       "      <td>M Klinger</td>\n",
       "      <td>...</td>\n",
       "      <td>0</td>\n",
       "      <td>NaN</td>\n",
       "      <td>None</td>\n",
       "      <td>NaN</td>\n",
       "      <td>NaN</td>\n",
       "      <td>None</td>\n",
       "      <td>None</td>\n",
       "      <td>None</td>\n",
       "      <td>None</td>\n",
       "      <td>None</td>\n",
       "    </tr>\n",
       "    <tr>\n",
       "      <th>3</th>\n",
       "      <td>1001349</td>\n",
       "      <td>2016/17</td>\n",
       "      <td>2017-02-17</td>\n",
       "      <td>Melbourne Cricket Ground</td>\n",
       "      <td>1</td>\n",
       "      <td>0.4</td>\n",
       "      <td>Australia</td>\n",
       "      <td>Sri Lanka</td>\n",
       "      <td>M Klinger</td>\n",
       "      <td>AJ Finch</td>\n",
       "      <td>...</td>\n",
       "      <td>0</td>\n",
       "      <td>NaN</td>\n",
       "      <td>None</td>\n",
       "      <td>NaN</td>\n",
       "      <td>NaN</td>\n",
       "      <td>None</td>\n",
       "      <td>None</td>\n",
       "      <td>None</td>\n",
       "      <td>None</td>\n",
       "      <td>None</td>\n",
       "    </tr>\n",
       "    <tr>\n",
       "      <th>4</th>\n",
       "      <td>1001349</td>\n",
       "      <td>2016/17</td>\n",
       "      <td>2017-02-17</td>\n",
       "      <td>Melbourne Cricket Ground</td>\n",
       "      <td>1</td>\n",
       "      <td>0.5</td>\n",
       "      <td>Australia</td>\n",
       "      <td>Sri Lanka</td>\n",
       "      <td>M Klinger</td>\n",
       "      <td>AJ Finch</td>\n",
       "      <td>...</td>\n",
       "      <td>0</td>\n",
       "      <td>NaN</td>\n",
       "      <td>None</td>\n",
       "      <td>NaN</td>\n",
       "      <td>NaN</td>\n",
       "      <td>None</td>\n",
       "      <td>None</td>\n",
       "      <td>None</td>\n",
       "      <td>None</td>\n",
       "      <td>None</td>\n",
       "    </tr>\n",
       "  </tbody>\n",
       "</table>\n",
       "<p>5 rows × 22 columns</p>\n",
       "</div>"
      ],
      "text/plain": [
       "   match_id   season  start_date                     venue  innings  ball  \\\n",
       "0   1001349  2016/17  2017-02-17  Melbourne Cricket Ground        1   0.1   \n",
       "1   1001349  2016/17  2017-02-17  Melbourne Cricket Ground        1   0.2   \n",
       "2   1001349  2016/17  2017-02-17  Melbourne Cricket Ground        1   0.3   \n",
       "3   1001349  2016/17  2017-02-17  Melbourne Cricket Ground        1   0.4   \n",
       "4   1001349  2016/17  2017-02-17  Melbourne Cricket Ground        1   0.5   \n",
       "\n",
       "  batting_team bowling_team    striker non_striker  ... extras  wides  \\\n",
       "0    Australia    Sri Lanka   AJ Finch   M Klinger  ...      0    NaN   \n",
       "1    Australia    Sri Lanka   AJ Finch   M Klinger  ...      0    NaN   \n",
       "2    Australia    Sri Lanka   AJ Finch   M Klinger  ...      0    NaN   \n",
       "3    Australia    Sri Lanka  M Klinger    AJ Finch  ...      0    NaN   \n",
       "4    Australia    Sri Lanka  M Klinger    AJ Finch  ...      0    NaN   \n",
       "\n",
       "   noballs  byes legbyes  penalty  wicket_type player_dismissed  \\\n",
       "0     None   NaN     NaN     None         None             None   \n",
       "1     None   NaN     NaN     None         None             None   \n",
       "2     None   NaN     NaN     None         None             None   \n",
       "3     None   NaN     NaN     None         None             None   \n",
       "4     None   NaN     NaN     None         None             None   \n",
       "\n",
       "  other_wicket_type other_player_dismissed  \n",
       "0              None                   None  \n",
       "1              None                   None  \n",
       "2              None                   None  \n",
       "3              None                   None  \n",
       "4              None                   None  \n",
       "\n",
       "[5 rows x 22 columns]"
      ]
     },
     "execution_count": 33,
     "metadata": {},
     "output_type": "execute_result"
    }
   ],
   "source": [
    "deliveries=pl.read_parquet('..\\historical_data\\cricsheetSource\\deliveries.parquet')\n",
    "deliveries.head()"
   ]
  },
  {
   "cell_type": "code",
   "execution_count": 35,
   "metadata": {},
   "outputs": [
    {
     "data": {
      "text/plain": [
       "array([None, '5'], dtype=object)"
      ]
     },
     "execution_count": 35,
     "metadata": {},
     "output_type": "execute_result"
    }
   ],
   "source": [
    "deliveries['penalty'].unique()"
   ]
  },
  {
   "cell_type": "code",
   "execution_count": 3,
   "metadata": {},
   "outputs": [],
   "source": [
    "deliveries.write_csv('..\\historical_data\\cricsheetSource\\deliveries.csv')"
   ]
  },
  {
   "cell_type": "code",
   "execution_count": 4,
   "metadata": {},
   "outputs": [
    {
     "data": {
      "text/html": [
       "<div><style>\n",
       ".dataframe > thead > tr,\n",
       ".dataframe > tbody > tr {\n",
       "  text-align: right;\n",
       "  white-space: pre-wrap;\n",
       "}\n",
       "</style>\n",
       "<small>shape: (794_009, 16)</small><table border=\"1\" class=\"dataframe\"><thead><tr><th>match_id</th><th>innings</th><th>ball</th><th>batting_team</th><th>bowling_team</th><th>runs_off_bat</th><th>extras</th><th>wides</th><th>noballs</th><th>byes</th><th>legbyes</th><th>penalty</th><th>wicket_type</th><th>player_dismissed</th><th>other_wicket_type</th><th>other_player_dismissed</th></tr><tr><td>i64</td><td>i64</td><td>f64</td><td>str</td><td>str</td><td>i64</td><td>i64</td><td>i64</td><td>str</td><td>i64</td><td>i64</td><td>str</td><td>str</td><td>str</td><td>str</td><td>str</td></tr></thead><tbody><tr><td>1001349</td><td>1</td><td>0.1</td><td>&quot;Australia&quot;</td><td>&quot;Sri Lanka&quot;</td><td>0</td><td>0</td><td>0</td><td>null</td><td>0</td><td>0</td><td>null</td><td>null</td><td>null</td><td>null</td><td>null</td></tr><tr><td>1001349</td><td>1</td><td>0.2</td><td>&quot;Australia&quot;</td><td>&quot;Sri Lanka&quot;</td><td>0</td><td>0</td><td>0</td><td>null</td><td>0</td><td>0</td><td>null</td><td>null</td><td>null</td><td>null</td><td>null</td></tr><tr><td>1001349</td><td>1</td><td>0.3</td><td>&quot;Australia&quot;</td><td>&quot;Sri Lanka&quot;</td><td>1</td><td>0</td><td>0</td><td>null</td><td>0</td><td>0</td><td>null</td><td>null</td><td>null</td><td>null</td><td>null</td></tr><tr><td>1001349</td><td>1</td><td>0.4</td><td>&quot;Australia&quot;</td><td>&quot;Sri Lanka&quot;</td><td>2</td><td>0</td><td>0</td><td>null</td><td>0</td><td>0</td><td>null</td><td>null</td><td>null</td><td>null</td><td>null</td></tr><tr><td>1001349</td><td>1</td><td>0.5</td><td>&quot;Australia&quot;</td><td>&quot;Sri Lanka&quot;</td><td>0</td><td>0</td><td>0</td><td>null</td><td>0</td><td>0</td><td>null</td><td>null</td><td>null</td><td>null</td><td>null</td></tr><tr><td>&hellip;</td><td>&hellip;</td><td>&hellip;</td><td>&hellip;</td><td>&hellip;</td><td>&hellip;</td><td>&hellip;</td><td>&hellip;</td><td>&hellip;</td><td>&hellip;</td><td>&hellip;</td><td>&hellip;</td><td>&hellip;</td><td>&hellip;</td><td>&hellip;</td><td>&hellip;</td></tr><tr><td>995469</td><td>2</td><td>17.1</td><td>&quot;Australia&quot;</td><td>&quot;Sri Lanka&quot;</td><td>1</td><td>0</td><td>0</td><td>null</td><td>0</td><td>0</td><td>null</td><td>null</td><td>null</td><td>null</td><td>null</td></tr><tr><td>995469</td><td>2</td><td>17.2</td><td>&quot;Australia&quot;</td><td>&quot;Sri Lanka&quot;</td><td>3</td><td>0</td><td>0</td><td>null</td><td>0</td><td>0</td><td>null</td><td>null</td><td>null</td><td>null</td><td>null</td></tr><tr><td>995469</td><td>2</td><td>17.3</td><td>&quot;Australia&quot;</td><td>&quot;Sri Lanka&quot;</td><td>0</td><td>0</td><td>0</td><td>null</td><td>0</td><td>0</td><td>null</td><td>null</td><td>null</td><td>null</td><td>null</td></tr><tr><td>995469</td><td>2</td><td>17.4</td><td>&quot;Australia&quot;</td><td>&quot;Sri Lanka&quot;</td><td>0</td><td>0</td><td>0</td><td>null</td><td>0</td><td>0</td><td>null</td><td>null</td><td>null</td><td>null</td><td>null</td></tr><tr><td>995469</td><td>2</td><td>17.5</td><td>&quot;Australia&quot;</td><td>&quot;Sri Lanka&quot;</td><td>6</td><td>0</td><td>0</td><td>null</td><td>0</td><td>0</td><td>null</td><td>null</td><td>null</td><td>null</td><td>null</td></tr></tbody></table></div>"
      ],
      "text/plain": [
       "shape: (794_009, 16)\n",
       "┌──────────┬─────────┬──────┬─────────────┬───┬─────────────┬────────────┬────────────┬────────────┐\n",
       "│ match_id ┆ innings ┆ ball ┆ batting_tea ┆ … ┆ wicket_type ┆ player_dis ┆ other_wick ┆ other_play │\n",
       "│ ---      ┆ ---     ┆ ---  ┆ m           ┆   ┆ ---         ┆ missed     ┆ et_type    ┆ er_dismiss │\n",
       "│ i64      ┆ i64     ┆ f64  ┆ ---         ┆   ┆ str         ┆ ---        ┆ ---        ┆ ed         │\n",
       "│          ┆         ┆      ┆ str         ┆   ┆             ┆ str        ┆ str        ┆ ---        │\n",
       "│          ┆         ┆      ┆             ┆   ┆             ┆            ┆            ┆ str        │\n",
       "╞══════════╪═════════╪══════╪═════════════╪═══╪═════════════╪════════════╪════════════╪════════════╡\n",
       "│ 1001349  ┆ 1       ┆ 0.1  ┆ Australia   ┆ … ┆ null        ┆ null       ┆ null       ┆ null       │\n",
       "│ 1001349  ┆ 1       ┆ 0.2  ┆ Australia   ┆ … ┆ null        ┆ null       ┆ null       ┆ null       │\n",
       "│ 1001349  ┆ 1       ┆ 0.3  ┆ Australia   ┆ … ┆ null        ┆ null       ┆ null       ┆ null       │\n",
       "│ 1001349  ┆ 1       ┆ 0.4  ┆ Australia   ┆ … ┆ null        ┆ null       ┆ null       ┆ null       │\n",
       "│ 1001349  ┆ 1       ┆ 0.5  ┆ Australia   ┆ … ┆ null        ┆ null       ┆ null       ┆ null       │\n",
       "│ …        ┆ …       ┆ …    ┆ …           ┆ … ┆ …           ┆ …          ┆ …          ┆ …          │\n",
       "│ 995469   ┆ 2       ┆ 17.1 ┆ Australia   ┆ … ┆ null        ┆ null       ┆ null       ┆ null       │\n",
       "│ 995469   ┆ 2       ┆ 17.2 ┆ Australia   ┆ … ┆ null        ┆ null       ┆ null       ┆ null       │\n",
       "│ 995469   ┆ 2       ┆ 17.3 ┆ Australia   ┆ … ┆ null        ┆ null       ┆ null       ┆ null       │\n",
       "│ 995469   ┆ 2       ┆ 17.4 ┆ Australia   ┆ … ┆ null        ┆ null       ┆ null       ┆ null       │\n",
       "│ 995469   ┆ 2       ┆ 17.5 ┆ Australia   ┆ … ┆ null        ┆ null       ┆ null       ┆ null       │\n",
       "└──────────┴─────────┴──────┴─────────────┴───┴─────────────┴────────────┴────────────┴────────────┘"
      ]
     },
     "execution_count": 4,
     "metadata": {},
     "output_type": "execute_result"
    }
   ],
   "source": [
    "deliveries=deliveries.fill_null(0).drop(['season','venue','start_date','venue','striker','non_striker','bowler'])\n",
    "deliveries"
   ]
  },
  {
   "cell_type": "code",
   "execution_count": 5,
   "metadata": {},
   "outputs": [],
   "source": [
    "deliveries=deliveries.with_columns(deliveries['noballs'].cast(pl.Int16).fill_null(0))\n",
    "deliveries=deliveries.with_columns(deliveries['penalty'].cast(pl.Int16).fill_null(0))\n",
    "deliveries=deliveries.with_columns(deliveries['player_dismissed'].is_not_null().cast(pl.Int16))\n",
    "deliveries=deliveries.with_columns(deliveries['other_player_dismissed'].is_not_null().cast(pl.Int16))"
   ]
  },
  {
   "cell_type": "code",
   "execution_count": 6,
   "metadata": {},
   "outputs": [
    {
     "data": {
      "text/html": [
       "<div><style>\n",
       ".dataframe > thead > tr,\n",
       ".dataframe > tbody > tr {\n",
       "  text-align: right;\n",
       "  white-space: pre-wrap;\n",
       "}\n",
       "</style>\n",
       "<small>shape: (794_009, 16)</small><table border=\"1\" class=\"dataframe\"><thead><tr><th>match_id</th><th>innings</th><th>ball</th><th>batting_team</th><th>bowling_team</th><th>runs_off_bat</th><th>extras</th><th>wides</th><th>noballs</th><th>byes</th><th>legbyes</th><th>penalty</th><th>wicket_type</th><th>player_dismissed</th><th>other_wicket_type</th><th>other_player_dismissed</th></tr><tr><td>i64</td><td>i64</td><td>f64</td><td>str</td><td>str</td><td>i64</td><td>i64</td><td>i64</td><td>i16</td><td>i64</td><td>i64</td><td>i16</td><td>str</td><td>i16</td><td>str</td><td>i16</td></tr></thead><tbody><tr><td>1001349</td><td>1</td><td>0.1</td><td>&quot;Australia&quot;</td><td>&quot;Sri Lanka&quot;</td><td>0</td><td>0</td><td>0</td><td>0</td><td>0</td><td>0</td><td>0</td><td>null</td><td>0</td><td>null</td><td>0</td></tr><tr><td>1001349</td><td>1</td><td>0.2</td><td>&quot;Australia&quot;</td><td>&quot;Sri Lanka&quot;</td><td>0</td><td>0</td><td>0</td><td>0</td><td>0</td><td>0</td><td>0</td><td>null</td><td>0</td><td>null</td><td>0</td></tr><tr><td>1001349</td><td>1</td><td>0.3</td><td>&quot;Australia&quot;</td><td>&quot;Sri Lanka&quot;</td><td>1</td><td>0</td><td>0</td><td>0</td><td>0</td><td>0</td><td>0</td><td>null</td><td>0</td><td>null</td><td>0</td></tr><tr><td>1001349</td><td>1</td><td>0.4</td><td>&quot;Australia&quot;</td><td>&quot;Sri Lanka&quot;</td><td>2</td><td>0</td><td>0</td><td>0</td><td>0</td><td>0</td><td>0</td><td>null</td><td>0</td><td>null</td><td>0</td></tr><tr><td>1001349</td><td>1</td><td>0.5</td><td>&quot;Australia&quot;</td><td>&quot;Sri Lanka&quot;</td><td>0</td><td>0</td><td>0</td><td>0</td><td>0</td><td>0</td><td>0</td><td>null</td><td>0</td><td>null</td><td>0</td></tr><tr><td>&hellip;</td><td>&hellip;</td><td>&hellip;</td><td>&hellip;</td><td>&hellip;</td><td>&hellip;</td><td>&hellip;</td><td>&hellip;</td><td>&hellip;</td><td>&hellip;</td><td>&hellip;</td><td>&hellip;</td><td>&hellip;</td><td>&hellip;</td><td>&hellip;</td><td>&hellip;</td></tr><tr><td>995469</td><td>2</td><td>17.1</td><td>&quot;Australia&quot;</td><td>&quot;Sri Lanka&quot;</td><td>1</td><td>0</td><td>0</td><td>0</td><td>0</td><td>0</td><td>0</td><td>null</td><td>0</td><td>null</td><td>0</td></tr><tr><td>995469</td><td>2</td><td>17.2</td><td>&quot;Australia&quot;</td><td>&quot;Sri Lanka&quot;</td><td>3</td><td>0</td><td>0</td><td>0</td><td>0</td><td>0</td><td>0</td><td>null</td><td>0</td><td>null</td><td>0</td></tr><tr><td>995469</td><td>2</td><td>17.3</td><td>&quot;Australia&quot;</td><td>&quot;Sri Lanka&quot;</td><td>0</td><td>0</td><td>0</td><td>0</td><td>0</td><td>0</td><td>0</td><td>null</td><td>0</td><td>null</td><td>0</td></tr><tr><td>995469</td><td>2</td><td>17.4</td><td>&quot;Australia&quot;</td><td>&quot;Sri Lanka&quot;</td><td>0</td><td>0</td><td>0</td><td>0</td><td>0</td><td>0</td><td>0</td><td>null</td><td>0</td><td>null</td><td>0</td></tr><tr><td>995469</td><td>2</td><td>17.5</td><td>&quot;Australia&quot;</td><td>&quot;Sri Lanka&quot;</td><td>6</td><td>0</td><td>0</td><td>0</td><td>0</td><td>0</td><td>0</td><td>null</td><td>0</td><td>null</td><td>0</td></tr></tbody></table></div>"
      ],
      "text/plain": [
       "shape: (794_009, 16)\n",
       "┌──────────┬─────────┬──────┬─────────────┬───┬─────────────┬────────────┬────────────┬────────────┐\n",
       "│ match_id ┆ innings ┆ ball ┆ batting_tea ┆ … ┆ wicket_type ┆ player_dis ┆ other_wick ┆ other_play │\n",
       "│ ---      ┆ ---     ┆ ---  ┆ m           ┆   ┆ ---         ┆ missed     ┆ et_type    ┆ er_dismiss │\n",
       "│ i64      ┆ i64     ┆ f64  ┆ ---         ┆   ┆ str         ┆ ---        ┆ ---        ┆ ed         │\n",
       "│          ┆         ┆      ┆ str         ┆   ┆             ┆ i16        ┆ str        ┆ ---        │\n",
       "│          ┆         ┆      ┆             ┆   ┆             ┆            ┆            ┆ i16        │\n",
       "╞══════════╪═════════╪══════╪═════════════╪═══╪═════════════╪════════════╪════════════╪════════════╡\n",
       "│ 1001349  ┆ 1       ┆ 0.1  ┆ Australia   ┆ … ┆ null        ┆ 0          ┆ null       ┆ 0          │\n",
       "│ 1001349  ┆ 1       ┆ 0.2  ┆ Australia   ┆ … ┆ null        ┆ 0          ┆ null       ┆ 0          │\n",
       "│ 1001349  ┆ 1       ┆ 0.3  ┆ Australia   ┆ … ┆ null        ┆ 0          ┆ null       ┆ 0          │\n",
       "│ 1001349  ┆ 1       ┆ 0.4  ┆ Australia   ┆ … ┆ null        ┆ 0          ┆ null       ┆ 0          │\n",
       "│ 1001349  ┆ 1       ┆ 0.5  ┆ Australia   ┆ … ┆ null        ┆ 0          ┆ null       ┆ 0          │\n",
       "│ …        ┆ …       ┆ …    ┆ …           ┆ … ┆ …           ┆ …          ┆ …          ┆ …          │\n",
       "│ 995469   ┆ 2       ┆ 17.1 ┆ Australia   ┆ … ┆ null        ┆ 0          ┆ null       ┆ 0          │\n",
       "│ 995469   ┆ 2       ┆ 17.2 ┆ Australia   ┆ … ┆ null        ┆ 0          ┆ null       ┆ 0          │\n",
       "│ 995469   ┆ 2       ┆ 17.3 ┆ Australia   ┆ … ┆ null        ┆ 0          ┆ null       ┆ 0          │\n",
       "│ 995469   ┆ 2       ┆ 17.4 ┆ Australia   ┆ … ┆ null        ┆ 0          ┆ null       ┆ 0          │\n",
       "│ 995469   ┆ 2       ┆ 17.5 ┆ Australia   ┆ … ┆ null        ┆ 0          ┆ null       ┆ 0          │\n",
       "└──────────┴─────────┴──────┴─────────────┴───┴─────────────┴────────────┴────────────┴────────────┘"
      ]
     },
     "execution_count": 6,
     "metadata": {},
     "output_type": "execute_result"
    }
   ],
   "source": [
    "deliveries"
   ]
  },
  {
   "cell_type": "code",
   "execution_count": 7,
   "metadata": {},
   "outputs": [
    {
     "data": {
      "text/html": [
       "<div><style>\n",
       ".dataframe > thead > tr,\n",
       ".dataframe > tbody > tr {\n",
       "  text-align: right;\n",
       "  white-space: pre-wrap;\n",
       "}\n",
       "</style>\n",
       "<small>shape: (794_009, 7)</small><table border=\"1\" class=\"dataframe\"><thead><tr><th>match_id</th><th>innings</th><th>ball</th><th>batting_team</th><th>bowling_team</th><th>runs</th><th>wickets</th></tr><tr><td>i64</td><td>i64</td><td>f64</td><td>str</td><td>str</td><td>i64</td><td>i16</td></tr></thead><tbody><tr><td>1001349</td><td>1</td><td>0.1</td><td>&quot;Australia&quot;</td><td>&quot;Sri Lanka&quot;</td><td>0</td><td>0</td></tr><tr><td>1001349</td><td>1</td><td>0.2</td><td>&quot;Australia&quot;</td><td>&quot;Sri Lanka&quot;</td><td>0</td><td>0</td></tr><tr><td>1001349</td><td>1</td><td>0.3</td><td>&quot;Australia&quot;</td><td>&quot;Sri Lanka&quot;</td><td>1</td><td>0</td></tr><tr><td>1001349</td><td>1</td><td>0.4</td><td>&quot;Australia&quot;</td><td>&quot;Sri Lanka&quot;</td><td>2</td><td>0</td></tr><tr><td>1001349</td><td>1</td><td>0.5</td><td>&quot;Australia&quot;</td><td>&quot;Sri Lanka&quot;</td><td>0</td><td>0</td></tr><tr><td>&hellip;</td><td>&hellip;</td><td>&hellip;</td><td>&hellip;</td><td>&hellip;</td><td>&hellip;</td><td>&hellip;</td></tr><tr><td>995469</td><td>2</td><td>17.1</td><td>&quot;Australia&quot;</td><td>&quot;Sri Lanka&quot;</td><td>1</td><td>0</td></tr><tr><td>995469</td><td>2</td><td>17.2</td><td>&quot;Australia&quot;</td><td>&quot;Sri Lanka&quot;</td><td>3</td><td>0</td></tr><tr><td>995469</td><td>2</td><td>17.3</td><td>&quot;Australia&quot;</td><td>&quot;Sri Lanka&quot;</td><td>0</td><td>0</td></tr><tr><td>995469</td><td>2</td><td>17.4</td><td>&quot;Australia&quot;</td><td>&quot;Sri Lanka&quot;</td><td>0</td><td>0</td></tr><tr><td>995469</td><td>2</td><td>17.5</td><td>&quot;Australia&quot;</td><td>&quot;Sri Lanka&quot;</td><td>6</td><td>0</td></tr></tbody></table></div>"
      ],
      "text/plain": [
       "shape: (794_009, 7)\n",
       "┌──────────┬─────────┬──────┬──────────────┬──────────────┬──────┬─────────┐\n",
       "│ match_id ┆ innings ┆ ball ┆ batting_team ┆ bowling_team ┆ runs ┆ wickets │\n",
       "│ ---      ┆ ---     ┆ ---  ┆ ---          ┆ ---          ┆ ---  ┆ ---     │\n",
       "│ i64      ┆ i64     ┆ f64  ┆ str          ┆ str          ┆ i64  ┆ i16     │\n",
       "╞══════════╪═════════╪══════╪══════════════╪══════════════╪══════╪═════════╡\n",
       "│ 1001349  ┆ 1       ┆ 0.1  ┆ Australia    ┆ Sri Lanka    ┆ 0    ┆ 0       │\n",
       "│ 1001349  ┆ 1       ┆ 0.2  ┆ Australia    ┆ Sri Lanka    ┆ 0    ┆ 0       │\n",
       "│ 1001349  ┆ 1       ┆ 0.3  ┆ Australia    ┆ Sri Lanka    ┆ 1    ┆ 0       │\n",
       "│ 1001349  ┆ 1       ┆ 0.4  ┆ Australia    ┆ Sri Lanka    ┆ 2    ┆ 0       │\n",
       "│ 1001349  ┆ 1       ┆ 0.5  ┆ Australia    ┆ Sri Lanka    ┆ 0    ┆ 0       │\n",
       "│ …        ┆ …       ┆ …    ┆ …            ┆ …            ┆ …    ┆ …       │\n",
       "│ 995469   ┆ 2       ┆ 17.1 ┆ Australia    ┆ Sri Lanka    ┆ 1    ┆ 0       │\n",
       "│ 995469   ┆ 2       ┆ 17.2 ┆ Australia    ┆ Sri Lanka    ┆ 3    ┆ 0       │\n",
       "│ 995469   ┆ 2       ┆ 17.3 ┆ Australia    ┆ Sri Lanka    ┆ 0    ┆ 0       │\n",
       "│ 995469   ┆ 2       ┆ 17.4 ┆ Australia    ┆ Sri Lanka    ┆ 0    ┆ 0       │\n",
       "│ 995469   ┆ 2       ┆ 17.5 ┆ Australia    ┆ Sri Lanka    ┆ 6    ┆ 0       │\n",
       "└──────────┴─────────┴──────┴──────────────┴──────────────┴──────┴─────────┘"
      ]
     },
     "execution_count": 7,
     "metadata": {},
     "output_type": "execute_result"
    }
   ],
   "source": [
    "deliveries=deliveries.with_columns(deliveries[['runs_off_bat','extras','wides','noballs','byes','legbyes','penalty']].sum_horizontal().alias(\"runs\")).drop(['runs_off_bat','extras','wides','noballs','byes','legbyes','penalty'])\n",
    "deliveries=deliveries.with_columns(deliveries[['player_dismissed','other_player_dismissed']].sum_horizontal().alias(\"wickets\")).drop(['wicket_type','player_dismissed','other_wicket_type','other_player_dismissed'])\n",
    "deliveries"
   ]
  },
  {
   "cell_type": "code",
   "execution_count": 8,
   "metadata": {},
   "outputs": [
    {
     "data": {
      "text/html": [
       "<div><style>\n",
       ".dataframe > thead > tr,\n",
       ".dataframe > tbody > tr {\n",
       "  text-align: right;\n",
       "  white-space: pre-wrap;\n",
       "}\n",
       "</style>\n",
       "<small>shape: (794_009, 7)</small><table border=\"1\" class=\"dataframe\"><thead><tr><th>match_id</th><th>innings</th><th>ball</th><th>batting_team</th><th>bowling_team</th><th>curr_score</th><th>curr_wickets</th></tr><tr><td>i64</td><td>i64</td><td>f64</td><td>str</td><td>str</td><td>i64</td><td>i64</td></tr></thead><tbody><tr><td>1001349</td><td>1</td><td>0.1</td><td>&quot;Australia&quot;</td><td>&quot;Sri Lanka&quot;</td><td>0</td><td>0</td></tr><tr><td>1001349</td><td>1</td><td>0.2</td><td>&quot;Australia&quot;</td><td>&quot;Sri Lanka&quot;</td><td>0</td><td>0</td></tr><tr><td>1001349</td><td>1</td><td>0.3</td><td>&quot;Australia&quot;</td><td>&quot;Sri Lanka&quot;</td><td>1</td><td>0</td></tr><tr><td>1001349</td><td>1</td><td>0.4</td><td>&quot;Australia&quot;</td><td>&quot;Sri Lanka&quot;</td><td>3</td><td>0</td></tr><tr><td>1001349</td><td>1</td><td>0.5</td><td>&quot;Australia&quot;</td><td>&quot;Sri Lanka&quot;</td><td>3</td><td>0</td></tr><tr><td>&hellip;</td><td>&hellip;</td><td>&hellip;</td><td>&hellip;</td><td>&hellip;</td><td>&hellip;</td><td>&hellip;</td></tr><tr><td>995469</td><td>2</td><td>17.1</td><td>&quot;Australia&quot;</td><td>&quot;Sri Lanka&quot;</td><td>126</td><td>6</td></tr><tr><td>995469</td><td>2</td><td>17.2</td><td>&quot;Australia&quot;</td><td>&quot;Sri Lanka&quot;</td><td>129</td><td>6</td></tr><tr><td>995469</td><td>2</td><td>17.3</td><td>&quot;Australia&quot;</td><td>&quot;Sri Lanka&quot;</td><td>129</td><td>6</td></tr><tr><td>995469</td><td>2</td><td>17.4</td><td>&quot;Australia&quot;</td><td>&quot;Sri Lanka&quot;</td><td>129</td><td>6</td></tr><tr><td>995469</td><td>2</td><td>17.5</td><td>&quot;Australia&quot;</td><td>&quot;Sri Lanka&quot;</td><td>135</td><td>6</td></tr></tbody></table></div>"
      ],
      "text/plain": [
       "shape: (794_009, 7)\n",
       "┌──────────┬─────────┬──────┬──────────────┬──────────────┬────────────┬──────────────┐\n",
       "│ match_id ┆ innings ┆ ball ┆ batting_team ┆ bowling_team ┆ curr_score ┆ curr_wickets │\n",
       "│ ---      ┆ ---     ┆ ---  ┆ ---          ┆ ---          ┆ ---        ┆ ---          │\n",
       "│ i64      ┆ i64     ┆ f64  ┆ str          ┆ str          ┆ i64        ┆ i64          │\n",
       "╞══════════╪═════════╪══════╪══════════════╪══════════════╪════════════╪══════════════╡\n",
       "│ 1001349  ┆ 1       ┆ 0.1  ┆ Australia    ┆ Sri Lanka    ┆ 0          ┆ 0            │\n",
       "│ 1001349  ┆ 1       ┆ 0.2  ┆ Australia    ┆ Sri Lanka    ┆ 0          ┆ 0            │\n",
       "│ 1001349  ┆ 1       ┆ 0.3  ┆ Australia    ┆ Sri Lanka    ┆ 1          ┆ 0            │\n",
       "│ 1001349  ┆ 1       ┆ 0.4  ┆ Australia    ┆ Sri Lanka    ┆ 3          ┆ 0            │\n",
       "│ 1001349  ┆ 1       ┆ 0.5  ┆ Australia    ┆ Sri Lanka    ┆ 3          ┆ 0            │\n",
       "│ …        ┆ …       ┆ …    ┆ …            ┆ …            ┆ …          ┆ …            │\n",
       "│ 995469   ┆ 2       ┆ 17.1 ┆ Australia    ┆ Sri Lanka    ┆ 126        ┆ 6            │\n",
       "│ 995469   ┆ 2       ┆ 17.2 ┆ Australia    ┆ Sri Lanka    ┆ 129        ┆ 6            │\n",
       "│ 995469   ┆ 2       ┆ 17.3 ┆ Australia    ┆ Sri Lanka    ┆ 129        ┆ 6            │\n",
       "│ 995469   ┆ 2       ┆ 17.4 ┆ Australia    ┆ Sri Lanka    ┆ 129        ┆ 6            │\n",
       "│ 995469   ┆ 2       ┆ 17.5 ┆ Australia    ┆ Sri Lanka    ┆ 135        ┆ 6            │\n",
       "└──────────┴─────────┴──────┴──────────────┴──────────────┴────────────┴──────────────┘"
      ]
     },
     "execution_count": 8,
     "metadata": {},
     "output_type": "execute_result"
    }
   ],
   "source": [
    "deliveries=deliveries.with_columns(pl.col('runs').cum_sum().over([\"match_id\",'innings']).alias(\"curr_score\")).drop('runs')\n",
    "deliveries=deliveries.with_columns(pl.col('wickets').cum_sum().over([\"match_id\",'innings']).alias(\"curr_wickets\")).drop(\"wickets\")\n",
    "\n",
    "deliveries"
   ]
  },
  {
   "cell_type": "code",
   "execution_count": 9,
   "metadata": {},
   "outputs": [
    {
     "data": {
      "text/html": [
       "<div><style>\n",
       ".dataframe > thead > tr,\n",
       ".dataframe > tbody > tr {\n",
       "  text-align: right;\n",
       "  white-space: pre-wrap;\n",
       "}\n",
       "</style>\n",
       "<small>shape: (3_463, 11)</small><table border=\"1\" class=\"dataframe\"><thead><tr><th>team1</th><th>team2</th><th>gender</th><th>season</th><th>date</th><th>venue</th><th>city</th><th>toss_winner</th><th>toss_decision</th><th>winner</th><th>match_id</th></tr><tr><td>str</td><td>str</td><td>str</td><td>str</td><td>str</td><td>str</td><td>str</td><td>str</td><td>str</td><td>str</td><td>i64</td></tr></thead><tbody><tr><td>&quot;Australia&quot;</td><td>&quot;Sri Lanka&quot;</td><td>&quot;male&quot;</td><td>&quot;2016/17&quot;</td><td>&quot;2017/02/17&quot;</td><td>&quot;Melbourne Cricket Ground&quot;</td><td>null</td><td>&quot;Sri Lanka&quot;</td><td>&quot;field&quot;</td><td>&quot;Sri Lanka&quot;</td><td>1001349</td></tr><tr><td>&quot;Australia&quot;</td><td>&quot;Sri Lanka&quot;</td><td>&quot;male&quot;</td><td>&quot;2016/17&quot;</td><td>&quot;2017/02/19&quot;</td><td>&quot;Simonds Stadium, South Geelong&quot;</td><td>&quot;Victoria&quot;</td><td>&quot;Sri Lanka&quot;</td><td>&quot;field&quot;</td><td>&quot;Sri Lanka&quot;</td><td>1001351</td></tr><tr><td>&quot;Australia&quot;</td><td>&quot;Sri Lanka&quot;</td><td>&quot;male&quot;</td><td>&quot;2016/17&quot;</td><td>&quot;2017/02/22&quot;</td><td>&quot;Adelaide Oval&quot;</td><td>null</td><td>&quot;Sri Lanka&quot;</td><td>&quot;field&quot;</td><td>&quot;Australia&quot;</td><td>1001353</td></tr><tr><td>&quot;Ireland&quot;</td><td>&quot;Hong Kong&quot;</td><td>&quot;male&quot;</td><td>&quot;2016&quot;</td><td>&quot;2016/09/05&quot;</td><td>&quot;Bready Cricket Club, Magherama…</td><td>&quot;Londonderry&quot;</td><td>&quot;Hong Kong&quot;</td><td>&quot;bat&quot;</td><td>&quot;Hong Kong&quot;</td><td>1004729</td></tr><tr><td>&quot;Zimbabwe&quot;</td><td>&quot;India&quot;</td><td>&quot;male&quot;</td><td>&quot;2016&quot;</td><td>&quot;2016/06/18&quot;</td><td>&quot;Harare Sports Club&quot;</td><td>null</td><td>&quot;India&quot;</td><td>&quot;field&quot;</td><td>&quot;Zimbabwe&quot;</td><td>1007655</td></tr><tr><td>&hellip;</td><td>&hellip;</td><td>&hellip;</td><td>&hellip;</td><td>&hellip;</td><td>&hellip;</td><td>&hellip;</td><td>&hellip;</td><td>&hellip;</td><td>&hellip;</td><td>&hellip;</td></tr><tr><td>&quot;Pakistan&quot;</td><td>&quot;Sri Lanka&quot;</td><td>&quot;male&quot;</td><td>&quot;2015/16&quot;</td><td>&quot;2016/03/04&quot;</td><td>&quot;Shere Bangla National Stadium&quot;</td><td>&quot;Mirpur&quot;</td><td>&quot;Pakistan&quot;</td><td>&quot;field&quot;</td><td>&quot;Pakistan&quot;</td><td>966763</td></tr><tr><td>&quot;Bangladesh&quot;</td><td>&quot;India&quot;</td><td>&quot;male&quot;</td><td>&quot;2015/16&quot;</td><td>&quot;2016/03/06&quot;</td><td>&quot;Shere Bangla National Stadium&quot;</td><td>&quot;Mirpur&quot;</td><td>&quot;India&quot;</td><td>&quot;field&quot;</td><td>&quot;India&quot;</td><td>966765</td></tr><tr><td>&quot;United Arab Emirates&quot;</td><td>&quot;Netherlands&quot;</td><td>&quot;male&quot;</td><td>&quot;2015/16&quot;</td><td>&quot;2016/02/03&quot;</td><td>&quot;ICC Academy&quot;</td><td>&quot;Dubai&quot;</td><td>&quot;United Arab Emirates&quot;</td><td>&quot;field&quot;</td><td>&quot;Netherlands&quot;</td><td>967081</td></tr><tr><td>&quot;Sri Lanka&quot;</td><td>&quot;Australia&quot;</td><td>&quot;male&quot;</td><td>&quot;2016&quot;</td><td>&quot;2016/09/06&quot;</td><td>&quot;Pallekele International Cricke…</td><td>null</td><td>&quot;Sri Lanka&quot;</td><td>&quot;field&quot;</td><td>&quot;Australia&quot;</td><td>995467</td></tr><tr><td>&quot;Sri Lanka&quot;</td><td>&quot;Australia&quot;</td><td>&quot;male&quot;</td><td>&quot;2016&quot;</td><td>&quot;2016/09/09&quot;</td><td>&quot;R Premadasa Stadium&quot;</td><td>&quot;Colombo&quot;</td><td>&quot;Sri Lanka&quot;</td><td>&quot;bat&quot;</td><td>&quot;Australia&quot;</td><td>995469</td></tr></tbody></table></div>"
      ],
      "text/plain": [
       "shape: (3_463, 11)\n",
       "┌────────────┬────────────┬────────┬─────────┬───┬────────────┬────────────┬────────────┬──────────┐\n",
       "│ team1      ┆ team2      ┆ gender ┆ season  ┆ … ┆ toss_winne ┆ toss_decis ┆ winner     ┆ match_id │\n",
       "│ ---        ┆ ---        ┆ ---    ┆ ---     ┆   ┆ r          ┆ ion        ┆ ---        ┆ ---      │\n",
       "│ str        ┆ str        ┆ str    ┆ str     ┆   ┆ ---        ┆ ---        ┆ str        ┆ i64      │\n",
       "│            ┆            ┆        ┆         ┆   ┆ str        ┆ str        ┆            ┆          │\n",
       "╞════════════╪════════════╪════════╪═════════╪═══╪════════════╪════════════╪════════════╪══════════╡\n",
       "│ Australia  ┆ Sri Lanka  ┆ male   ┆ 2016/17 ┆ … ┆ Sri Lanka  ┆ field      ┆ Sri Lanka  ┆ 1001349  │\n",
       "│ Australia  ┆ Sri Lanka  ┆ male   ┆ 2016/17 ┆ … ┆ Sri Lanka  ┆ field      ┆ Sri Lanka  ┆ 1001351  │\n",
       "│ Australia  ┆ Sri Lanka  ┆ male   ┆ 2016/17 ┆ … ┆ Sri Lanka  ┆ field      ┆ Australia  ┆ 1001353  │\n",
       "│ Ireland    ┆ Hong Kong  ┆ male   ┆ 2016    ┆ … ┆ Hong Kong  ┆ bat        ┆ Hong Kong  ┆ 1004729  │\n",
       "│ Zimbabwe   ┆ India      ┆ male   ┆ 2016    ┆ … ┆ India      ┆ field      ┆ Zimbabwe   ┆ 1007655  │\n",
       "│ …          ┆ …          ┆ …      ┆ …       ┆ … ┆ …          ┆ …          ┆ …          ┆ …        │\n",
       "│ Pakistan   ┆ Sri Lanka  ┆ male   ┆ 2015/16 ┆ … ┆ Pakistan   ┆ field      ┆ Pakistan   ┆ 966763   │\n",
       "│ Bangladesh ┆ India      ┆ male   ┆ 2015/16 ┆ … ┆ India      ┆ field      ┆ India      ┆ 966765   │\n",
       "│ United     ┆ Netherland ┆ male   ┆ 2015/16 ┆ … ┆ United     ┆ field      ┆ Netherland ┆ 967081   │\n",
       "│ Arab       ┆ s          ┆        ┆         ┆   ┆ Arab       ┆            ┆ s          ┆          │\n",
       "│ Emirates   ┆            ┆        ┆         ┆   ┆ Emirates   ┆            ┆            ┆          │\n",
       "│ Sri Lanka  ┆ Australia  ┆ male   ┆ 2016    ┆ … ┆ Sri Lanka  ┆ field      ┆ Australia  ┆ 995467   │\n",
       "│ Sri Lanka  ┆ Australia  ┆ male   ┆ 2016    ┆ … ┆ Sri Lanka  ┆ bat        ┆ Australia  ┆ 995469   │\n",
       "└────────────┴────────────┴────────┴─────────┴───┴────────────┴────────────┴────────────┴──────────┘"
      ]
     },
     "execution_count": 9,
     "metadata": {},
     "output_type": "execute_result"
    }
   ],
   "source": [
    "matches = pl.read_parquet('..\\historical_data\\cricsheetSource\\matches.parquet')\n",
    "matches"
   ]
  },
  {
   "cell_type": "code",
   "execution_count": 10,
   "metadata": {},
   "outputs": [],
   "source": [
    "matches.write_csv('..\\historical_data\\cricsheetSource\\matches.csv')"
   ]
  },
  {
   "cell_type": "code",
   "execution_count": 22,
   "metadata": {},
   "outputs": [
    {
     "data": {
      "text/html": [
       "<div><style>\n",
       ".dataframe > thead > tr,\n",
       ".dataframe > tbody > tr {\n",
       "  text-align: right;\n",
       "  white-space: pre-wrap;\n",
       "}\n",
       "</style>\n",
       "<small>shape: (3_463, 23)</small><table border=\"1\" class=\"dataframe\"><thead><tr><th>team1_player1</th><th>team1_player2</th><th>team1_player3</th><th>team1_player4</th><th>team1_player5</th><th>team1_player6</th><th>team1_player7</th><th>team1_player8</th><th>team1_player9</th><th>team1_player10</th><th>team1_player11</th><th>team2_players1</th><th>team2_players2</th><th>team2_players3</th><th>team2_players4</th><th>team2_players5</th><th>team2_players6</th><th>team2_players7</th><th>team2_players8</th><th>team2_players9</th><th>team2_players10</th><th>team2_players11</th><th>match_id</th></tr><tr><td>str</td><td>str</td><td>str</td><td>str</td><td>str</td><td>str</td><td>str</td><td>str</td><td>str</td><td>str</td><td>str</td><td>str</td><td>str</td><td>str</td><td>str</td><td>str</td><td>str</td><td>str</td><td>str</td><td>str</td><td>str</td><td>str</td><td>i64</td></tr></thead><tbody><tr><td>&quot;AJ Finch&quot;</td><td>&quot;M Klinger&quot;</td><td>&quot;TM Head&quot;</td><td>&quot;MC Henriques&quot;</td><td>&quot;AJ Turner&quot;</td><td>&quot;JP Faulkner&quot;</td><td>&quot;TD Paine&quot;</td><td>&quot;PJ Cummins&quot;</td><td>&quot;A Zampa&quot;</td><td>&quot;B Stanlake&quot;</td><td>&quot;AJ Tye&quot;</td><td>&quot;N Dickwella&quot;</td><td>&quot;WU Tharanga&quot;</td><td>&quot;EMDY Munaweera&quot;</td><td>&quot;DAS Gunaratne&quot;</td><td>&quot;TAM Siriwardana&quot;</td><td>&quot;CK Kapugedera&quot;</td><td>&quot;S Prasanna&quot;</td><td>&quot;JRMVB Sanjaya&quot;</td><td>&quot;SL Malinga&quot;</td><td>&quot;KMDN Kulasekara&quot;</td><td>&quot;PADLR Sandakan&quot;</td><td>1001349</td></tr><tr><td>&quot;M Klinger&quot;</td><td>&quot;AJ Finch&quot;</td><td>&quot;BR Dunk&quot;</td><td>&quot;MC Henriques&quot;</td><td>&quot;TM Head&quot;</td><td>&quot;AJ Turner&quot;</td><td>&quot;JP Faulkner&quot;</td><td>&quot;TD Paine&quot;</td><td>&quot;PJ Cummins&quot;</td><td>&quot;AJ Tye&quot;</td><td>&quot;JA Richardson&quot;</td><td>&quot;N Dickwella&quot;</td><td>&quot;WU Tharanga&quot;</td><td>&quot;EMDY Munaweera&quot;</td><td>&quot;BKG Mendis&quot;</td><td>&quot;DAS Gunaratne&quot;</td><td>&quot;TAM Siriwardana&quot;</td><td>&quot;CK Kapugedera&quot;</td><td>&quot;S Prasanna&quot;</td><td>&quot;KMDN Kulasekara&quot;</td><td>&quot;SL Malinga&quot;</td><td>&quot;JRMVB Sanjaya&quot;</td><td>1001351</td></tr><tr><td>&quot;AJ Finch&quot;</td><td>&quot;M Klinger&quot;</td><td>&quot;BR Dunk&quot;</td><td>&quot;TM Head&quot;</td><td>&quot;MC Henriques&quot;</td><td>&quot;AJ Turner&quot;</td><td>&quot;JP Faulkner&quot;</td><td>&quot;TD Paine&quot;</td><td>&quot;PJ Cummins&quot;</td><td>&quot;JA Richardson&quot;</td><td>&quot;A Zampa&quot;</td><td>&quot;EMDY Munaweera&quot;</td><td>&quot;WU Tharanga&quot;</td><td>&quot;BKG Mendis&quot;</td><td>&quot;DAS Gunaratne&quot;</td><td>&quot;TAM Siriwardana&quot;</td><td>&quot;CK Kapugedera&quot;</td><td>&quot;MD Shanaka&quot;</td><td>&quot;S Prasanna&quot;</td><td>&quot;KMDN Kulasekara&quot;</td><td>&quot;SL Malinga&quot;</td><td>&quot;JRMVB Sanjaya&quot;</td><td>1001353</td></tr><tr><td>&quot;Nizakat Khan&quot;</td><td>&quot;Aizaz Khan&quot;</td><td>&quot;Babar Hayat&quot;</td><td>&quot;Anshuman Rath&quot;</td><td>&quot;Ehsan Khan&quot;</td><td>&quot;Tanwir Afzal&quot;</td><td>&quot;Shahid Wasif&quot;</td><td>&quot;Tanveer Ahmed&quot;</td><td>&quot;Ehsan Nawaz&quot;</td><td>&quot;Nadeem Ahmed&quot;</td><td>&quot;C Carter&quot;</td><td>&quot;WTS Porterfield&quot;</td><td>&quot;DA Rankin&quot;</td><td>&quot;SP Terry&quot;</td><td>&quot;JNK Shannon&quot;</td><td>&quot;KJ O&#x27;Brien&quot;</td><td>&quot;GJ Thompson&quot;</td><td>&quot;AR McBrine&quot;</td><td>&quot;L Tucker&quot;</td><td>&quot;J Mulder&quot;</td><td>&quot;J Little&quot;</td><td>&quot;CA Young&quot;</td><td>1004729</td></tr><tr><td>&quot;KL Rahul&quot;</td><td>&quot;Mandeep Singh&quot;</td><td>&quot;AT Rayudu&quot;</td><td>&quot;MK Pandey&quot;</td><td>&quot;KM Jadhav&quot;</td><td>&quot;MS Dhoni&quot;</td><td>&quot;AR Patel&quot;</td><td>&quot;R Dhawan&quot;</td><td>&quot;JJ Bumrah&quot;</td><td>&quot;JD Unadkat&quot;</td><td>&quot;YS Chahal&quot;</td><td>&quot;CJ Chibhabha&quot;</td><td>&quot;H Masakadza&quot;</td><td>&quot;R Mutumbami&quot;</td><td>&quot;Sikandar Raza&quot;</td><td>&quot;MN Waller&quot;</td><td>&quot;CT Mutombodzi&quot;</td><td>&quot;E Chigumbura&quot;</td><td>&quot;AG Cremer&quot;</td><td>&quot;N Madziva&quot;</td><td>&quot;T Muzarabani&quot;</td><td>&quot;DT Tiripano&quot;</td><td>1007655</td></tr><tr><td>&hellip;</td><td>&hellip;</td><td>&hellip;</td><td>&hellip;</td><td>&hellip;</td><td>&hellip;</td><td>&hellip;</td><td>&hellip;</td><td>&hellip;</td><td>&hellip;</td><td>&hellip;</td><td>&hellip;</td><td>&hellip;</td><td>&hellip;</td><td>&hellip;</td><td>&hellip;</td><td>&hellip;</td><td>&hellip;</td><td>&hellip;</td><td>&hellip;</td><td>&hellip;</td><td>&hellip;</td><td>&hellip;</td></tr><tr><td>&quot;Sharjeel Khan&quot;</td><td>&quot;Mohammad Hafeez&quot;</td><td>&quot;Sarfraz Ahmed&quot;</td><td>&quot;Umar Akmal&quot;</td><td>&quot;Shoaib Malik&quot;</td><td>&quot;Iftikhar Ahmed&quot;</td><td>&quot;Shahid Afridi&quot;</td><td>&quot;Mohammad Amir&quot;</td><td>&quot;Wahab Riaz&quot;</td><td>&quot;Mohammad Irfan&quot;</td><td>&quot;Mohammad Nawaz (3)&quot;</td><td>&quot;LD Chandimal&quot;</td><td>&quot;TM Dilshan&quot;</td><td>&quot;GSNFG Jayasuriya&quot;</td><td>&quot;CK Kapugedera&quot;</td><td>&quot;MD Shanaka&quot;</td><td>&quot;TAM Siriwardana&quot;</td><td>&quot;N Dickwella&quot;</td><td>&quot;NLTC Perera&quot;</td><td>&quot;KMDN Kulasekara&quot;</td><td>&quot;HMRKB Herath&quot;</td><td>&quot;PVD Chameera&quot;</td><td>966763</td></tr><tr><td>&quot;Tamim Iqbal&quot;</td><td>&quot;Soumya Sarkar&quot;</td><td>&quot;Sabbir Rahman&quot;</td><td>&quot;Shakib Al Hasan&quot;</td><td>&quot;Mushfiqur Rahim&quot;</td><td>&quot;Mashrafe Mortaza&quot;</td><td>&quot;Mahmudullah&quot;</td><td>&quot;Nasir Hossain&quot;</td><td>&quot;Al-Amin Hossain&quot;</td><td>&quot;Abu Hider&quot;</td><td>&quot;Taskin Ahmed&quot;</td><td>&quot;RG Sharma&quot;</td><td>&quot;S Dhawan&quot;</td><td>&quot;V Kohli&quot;</td><td>&quot;MS Dhoni&quot;</td><td>&quot;SK Raina&quot;</td><td>&quot;Yuvraj Singh&quot;</td><td>&quot;HH Pandya&quot;</td><td>&quot;RA Jadeja&quot;</td><td>&quot;R Ashwin&quot;</td><td>&quot;JJ Bumrah&quot;</td><td>&quot;A Nehra&quot;</td><td>966765</td></tr><tr><td>&quot;MR Swart&quot;</td><td>&quot;SJ Myburgh&quot;</td><td>&quot;W Barresi&quot;</td><td>&quot;PW Borren&quot;</td><td>&quot;PM Seelaar&quot;</td><td>&quot;MP O&#x27;Dowd&quot;</td><td>&quot;Mudassar Bukhari&quot;</td><td>&quot;MJG Rippon&quot;</td><td>&quot;Sikander Zulfiqar&quot;</td><td>&quot;PA van Meekeren&quot;</td><td>&quot;Ahsan Malik&quot;</td><td>&quot;Hafiz Qaleem&quot;</td><td>&quot;Mohammad Shahzad (2)&quot;</td><td>&quot;Shaiman Anwar&quot;</td><td>&quot;SP Patil&quot;</td><td>&quot;Mohammad Usman&quot;</td><td>&quot;Fahad Tariq&quot;</td><td>&quot;Rohan Mustafa&quot;</td><td>&quot;Mohammad Naveed&quot;</td><td>&quot;Ahmed Raza&quot;</td><td>&quot;Farhan Ahmed&quot;</td><td>&quot;Qadeer Ahmed&quot;</td><td>967081</td></tr><tr><td>&quot;GJ Maxwell&quot;</td><td>&quot;DA Warner&quot;</td><td>&quot;UT Khawaja&quot;</td><td>&quot;TM Head&quot;</td><td>&quot;GJ Bailey&quot;</td><td>&quot;MC Henriques&quot;</td><td>&quot;PM Nevill&quot;</td><td>&quot;JP Faulkner&quot;</td><td>&quot;MA Starc&quot;</td><td>&quot;A Zampa&quot;</td><td>&quot;SM Boland&quot;</td><td>&quot;MDKJ Perera&quot;</td><td>&quot;TM Dilshan&quot;</td><td>&quot;DM de Silva&quot;</td><td>&quot;LD Chandimal&quot;</td><td>&quot;BKG Mendis&quot;</td><td>&quot;NLTC Perera&quot;</td><td>&quot;CK Kapugedera&quot;</td><td>&quot;SS Pathirana&quot;</td><td>&quot;SMSM Senanayake&quot;</td><td>&quot;RAS Lakmal&quot;</td><td>&quot;CAK Rajitha&quot;</td><td>995467</td></tr><tr><td>&quot;DA Warner&quot;</td><td>&quot;GJ Maxwell&quot;</td><td>&quot;MC Henriques&quot;</td><td>&quot;JP Faulkner&quot;</td><td>&quot;MS Wade&quot;</td><td>&quot;UT Khawaja&quot;</td><td>&quot;TM Head&quot;</td><td>&quot;PM Nevill&quot;</td><td>&quot;MA Starc&quot;</td><td>&quot;A Zampa&quot;</td><td>&quot;JW Hastings&quot;</td><td>&quot;MDKJ Perera&quot;</td><td>&quot;TM Dilshan&quot;</td><td>&quot;DM de Silva&quot;</td><td>&quot;LD Chandimal&quot;</td><td>&quot;BKG Mendis&quot;</td><td>&quot;CK Kapugedera&quot;</td><td>&quot;NLTC Perera&quot;</td><td>&quot;SS Pathirana&quot;</td><td>&quot;S Prasanna&quot;</td><td>&quot;SMSM Senanayake&quot;</td><td>&quot;RAS Lakmal&quot;</td><td>995469</td></tr></tbody></table></div>"
      ],
      "text/plain": [
       "shape: (3_463, 23)\n",
       "┌───────────┬───────────┬───────────┬───────────┬───┬───────────┬───────────┬───────────┬──────────┐\n",
       "│ team1_pla ┆ team1_pla ┆ team1_pla ┆ team1_pla ┆ … ┆ team2_pla ┆ team2_pla ┆ team2_pla ┆ match_id │\n",
       "│ yer1      ┆ yer2      ┆ yer3      ┆ yer4      ┆   ┆ yers9     ┆ yers10    ┆ yers11    ┆ ---      │\n",
       "│ ---       ┆ ---       ┆ ---       ┆ ---       ┆   ┆ ---       ┆ ---       ┆ ---       ┆ i64      │\n",
       "│ str       ┆ str       ┆ str       ┆ str       ┆   ┆ str       ┆ str       ┆ str       ┆          │\n",
       "╞═══════════╪═══════════╪═══════════╪═══════════╪═══╪═══════════╪═══════════╪═══════════╪══════════╡\n",
       "│ AJ Finch  ┆ M Klinger ┆ TM Head   ┆ MC        ┆ … ┆ SL        ┆ KMDN Kula ┆ PADLR     ┆ 1001349  │\n",
       "│           ┆           ┆           ┆ Henriques ┆   ┆ Malinga   ┆ sekara    ┆ Sandakan  ┆          │\n",
       "│ M Klinger ┆ AJ Finch  ┆ BR Dunk   ┆ MC        ┆ … ┆ KMDN Kula ┆ SL        ┆ JRMVB     ┆ 1001351  │\n",
       "│           ┆           ┆           ┆ Henriques ┆   ┆ sekara    ┆ Malinga   ┆ Sanjaya   ┆          │\n",
       "│ AJ Finch  ┆ M Klinger ┆ BR Dunk   ┆ TM Head   ┆ … ┆ KMDN Kula ┆ SL        ┆ JRMVB     ┆ 1001353  │\n",
       "│           ┆           ┆           ┆           ┆   ┆ sekara    ┆ Malinga   ┆ Sanjaya   ┆          │\n",
       "│ Nizakat   ┆ Aizaz     ┆ Babar     ┆ Anshuman  ┆ … ┆ J Mulder  ┆ J Little  ┆ CA Young  ┆ 1004729  │\n",
       "│ Khan      ┆ Khan      ┆ Hayat     ┆ Rath      ┆   ┆           ┆           ┆           ┆          │\n",
       "│ KL Rahul  ┆ Mandeep   ┆ AT Rayudu ┆ MK Pandey ┆ … ┆ N Madziva ┆ T Muzarab ┆ DT        ┆ 1007655  │\n",
       "│           ┆ Singh     ┆           ┆           ┆   ┆           ┆ ani       ┆ Tiripano  ┆          │\n",
       "│ …         ┆ …         ┆ …         ┆ …         ┆ … ┆ …         ┆ …         ┆ …         ┆ …        │\n",
       "│ Sharjeel  ┆ Mohammad  ┆ Sarfraz   ┆ Umar      ┆ … ┆ KMDN Kula ┆ HMRKB     ┆ PVD       ┆ 966763   │\n",
       "│ Khan      ┆ Hafeez    ┆ Ahmed     ┆ Akmal     ┆   ┆ sekara    ┆ Herath    ┆ Chameera  ┆          │\n",
       "│ Tamim     ┆ Soumya    ┆ Sabbir    ┆ Shakib Al ┆ … ┆ R Ashwin  ┆ JJ Bumrah ┆ A Nehra   ┆ 966765   │\n",
       "│ Iqbal     ┆ Sarkar    ┆ Rahman    ┆ Hasan     ┆   ┆           ┆           ┆           ┆          │\n",
       "│ MR Swart  ┆ SJ        ┆ W Barresi ┆ PW Borren ┆ … ┆ Ahmed     ┆ Farhan    ┆ Qadeer    ┆ 967081   │\n",
       "│           ┆ Myburgh   ┆           ┆           ┆   ┆ Raza      ┆ Ahmed     ┆ Ahmed     ┆          │\n",
       "│ GJ        ┆ DA Warner ┆ UT        ┆ TM Head   ┆ … ┆ SMSM Sena ┆ RAS       ┆ CAK       ┆ 995467   │\n",
       "│ Maxwell   ┆           ┆ Khawaja   ┆           ┆   ┆ nayake    ┆ Lakmal    ┆ Rajitha   ┆          │\n",
       "│ DA Warner ┆ GJ        ┆ MC        ┆ JP        ┆ … ┆ S         ┆ SMSM Sena ┆ RAS       ┆ 995469   │\n",
       "│           ┆ Maxwell   ┆ Henriques ┆ Faulkner  ┆   ┆ Prasanna  ┆ nayake    ┆ Lakmal    ┆          │\n",
       "└───────────┴───────────┴───────────┴───────────┴───┴───────────┴───────────┴───────────┴──────────┘"
      ]
     },
     "execution_count": 22,
     "metadata": {},
     "output_type": "execute_result"
    }
   ],
   "source": [
    "match_players = pl.read_parquet('..\\historical_data\\cricsheetSource\\match_players.parquet')\n",
    "match_players"
   ]
  },
  {
   "cell_type": "code",
   "execution_count": 23,
   "metadata": {},
   "outputs": [],
   "source": [
    "match_players.write_csv('..\\historical_data\\cricsheetSource\\match_players.csv')"
   ]
  },
  {
   "cell_type": "code",
   "execution_count": 11,
   "metadata": {},
   "outputs": [
    {
     "data": {
      "text/html": [
       "<div><style>\n",
       ".dataframe > thead > tr,\n",
       ".dataframe > tbody > tr {\n",
       "  text-align: right;\n",
       "  white-space: pre-wrap;\n",
       "}\n",
       "</style>\n",
       "<small>shape: (2_288, 2)</small><table border=\"1\" class=\"dataframe\"><thead><tr><th>winner</th><th>match_id</th></tr><tr><td>str</td><td>i64</td></tr></thead><tbody><tr><td>&quot;Sri Lanka&quot;</td><td>1001349</td></tr><tr><td>&quot;Sri Lanka&quot;</td><td>1001351</td></tr><tr><td>&quot;Australia&quot;</td><td>1001353</td></tr><tr><td>&quot;Hong Kong&quot;</td><td>1004729</td></tr><tr><td>&quot;Zimbabwe&quot;</td><td>1007655</td></tr><tr><td>&hellip;</td><td>&hellip;</td></tr><tr><td>&quot;Pakistan&quot;</td><td>966763</td></tr><tr><td>&quot;India&quot;</td><td>966765</td></tr><tr><td>&quot;Netherlands&quot;</td><td>967081</td></tr><tr><td>&quot;Australia&quot;</td><td>995467</td></tr><tr><td>&quot;Australia&quot;</td><td>995469</td></tr></tbody></table></div>"
      ],
      "text/plain": [
       "shape: (2_288, 2)\n",
       "┌─────────────┬──────────┐\n",
       "│ winner      ┆ match_id │\n",
       "│ ---         ┆ ---      │\n",
       "│ str         ┆ i64      │\n",
       "╞═════════════╪══════════╡\n",
       "│ Sri Lanka   ┆ 1001349  │\n",
       "│ Sri Lanka   ┆ 1001351  │\n",
       "│ Australia   ┆ 1001353  │\n",
       "│ Hong Kong   ┆ 1004729  │\n",
       "│ Zimbabwe    ┆ 1007655  │\n",
       "│ …           ┆ …        │\n",
       "│ Pakistan    ┆ 966763   │\n",
       "│ India       ┆ 966765   │\n",
       "│ Netherlands ┆ 967081   │\n",
       "│ Australia   ┆ 995467   │\n",
       "│ Australia   ┆ 995469   │\n",
       "└─────────────┴──────────┘"
      ]
     },
     "execution_count": 11,
     "metadata": {},
     "output_type": "execute_result"
    }
   ],
   "source": [
    "matches=matches.filter(matches['gender']=='male').drop(['team1','team2','gender','season','date','venue','city','toss_winner','toss_decision'])\n",
    "matches"
   ]
  },
  {
   "cell_type": "code",
   "execution_count": 12,
   "metadata": {},
   "outputs": [
    {
     "data": {
      "text/html": [
       "<div><style>\n",
       ".dataframe > thead > tr,\n",
       ".dataframe > tbody > tr {\n",
       "  text-align: right;\n",
       "  white-space: pre-wrap;\n",
       "}\n",
       "</style>\n",
       "<small>shape: (526_918, 8)</small><table border=\"1\" class=\"dataframe\"><thead><tr><th>match_id</th><th>innings</th><th>ball</th><th>batting_team</th><th>bowling_team</th><th>curr_score</th><th>curr_wickets</th><th>winner</th></tr><tr><td>i64</td><td>i64</td><td>f64</td><td>str</td><td>str</td><td>i64</td><td>i64</td><td>str</td></tr></thead><tbody><tr><td>1001349</td><td>1</td><td>0.1</td><td>&quot;Australia&quot;</td><td>&quot;Sri Lanka&quot;</td><td>0</td><td>0</td><td>&quot;Sri Lanka&quot;</td></tr><tr><td>1001349</td><td>1</td><td>0.2</td><td>&quot;Australia&quot;</td><td>&quot;Sri Lanka&quot;</td><td>0</td><td>0</td><td>&quot;Sri Lanka&quot;</td></tr><tr><td>1001349</td><td>1</td><td>0.3</td><td>&quot;Australia&quot;</td><td>&quot;Sri Lanka&quot;</td><td>1</td><td>0</td><td>&quot;Sri Lanka&quot;</td></tr><tr><td>1001349</td><td>1</td><td>0.4</td><td>&quot;Australia&quot;</td><td>&quot;Sri Lanka&quot;</td><td>3</td><td>0</td><td>&quot;Sri Lanka&quot;</td></tr><tr><td>1001349</td><td>1</td><td>0.5</td><td>&quot;Australia&quot;</td><td>&quot;Sri Lanka&quot;</td><td>3</td><td>0</td><td>&quot;Sri Lanka&quot;</td></tr><tr><td>&hellip;</td><td>&hellip;</td><td>&hellip;</td><td>&hellip;</td><td>&hellip;</td><td>&hellip;</td><td>&hellip;</td><td>&hellip;</td></tr><tr><td>995469</td><td>2</td><td>17.1</td><td>&quot;Australia&quot;</td><td>&quot;Sri Lanka&quot;</td><td>126</td><td>6</td><td>&quot;Australia&quot;</td></tr><tr><td>995469</td><td>2</td><td>17.2</td><td>&quot;Australia&quot;</td><td>&quot;Sri Lanka&quot;</td><td>129</td><td>6</td><td>&quot;Australia&quot;</td></tr><tr><td>995469</td><td>2</td><td>17.3</td><td>&quot;Australia&quot;</td><td>&quot;Sri Lanka&quot;</td><td>129</td><td>6</td><td>&quot;Australia&quot;</td></tr><tr><td>995469</td><td>2</td><td>17.4</td><td>&quot;Australia&quot;</td><td>&quot;Sri Lanka&quot;</td><td>129</td><td>6</td><td>&quot;Australia&quot;</td></tr><tr><td>995469</td><td>2</td><td>17.5</td><td>&quot;Australia&quot;</td><td>&quot;Sri Lanka&quot;</td><td>135</td><td>6</td><td>&quot;Australia&quot;</td></tr></tbody></table></div>"
      ],
      "text/plain": [
       "shape: (526_918, 8)\n",
       "┌──────────┬─────────┬──────┬──────────────┬──────────────┬────────────┬──────────────┬───────────┐\n",
       "│ match_id ┆ innings ┆ ball ┆ batting_team ┆ bowling_team ┆ curr_score ┆ curr_wickets ┆ winner    │\n",
       "│ ---      ┆ ---     ┆ ---  ┆ ---          ┆ ---          ┆ ---        ┆ ---          ┆ ---       │\n",
       "│ i64      ┆ i64     ┆ f64  ┆ str          ┆ str          ┆ i64        ┆ i64          ┆ str       │\n",
       "╞══════════╪═════════╪══════╪══════════════╪══════════════╪════════════╪══════════════╪═══════════╡\n",
       "│ 1001349  ┆ 1       ┆ 0.1  ┆ Australia    ┆ Sri Lanka    ┆ 0          ┆ 0            ┆ Sri Lanka │\n",
       "│ 1001349  ┆ 1       ┆ 0.2  ┆ Australia    ┆ Sri Lanka    ┆ 0          ┆ 0            ┆ Sri Lanka │\n",
       "│ 1001349  ┆ 1       ┆ 0.3  ┆ Australia    ┆ Sri Lanka    ┆ 1          ┆ 0            ┆ Sri Lanka │\n",
       "│ 1001349  ┆ 1       ┆ 0.4  ┆ Australia    ┆ Sri Lanka    ┆ 3          ┆ 0            ┆ Sri Lanka │\n",
       "│ 1001349  ┆ 1       ┆ 0.5  ┆ Australia    ┆ Sri Lanka    ┆ 3          ┆ 0            ┆ Sri Lanka │\n",
       "│ …        ┆ …       ┆ …    ┆ …            ┆ …            ┆ …          ┆ …            ┆ …         │\n",
       "│ 995469   ┆ 2       ┆ 17.1 ┆ Australia    ┆ Sri Lanka    ┆ 126        ┆ 6            ┆ Australia │\n",
       "│ 995469   ┆ 2       ┆ 17.2 ┆ Australia    ┆ Sri Lanka    ┆ 129        ┆ 6            ┆ Australia │\n",
       "│ 995469   ┆ 2       ┆ 17.3 ┆ Australia    ┆ Sri Lanka    ┆ 129        ┆ 6            ┆ Australia │\n",
       "│ 995469   ┆ 2       ┆ 17.4 ┆ Australia    ┆ Sri Lanka    ┆ 129        ┆ 6            ┆ Australia │\n",
       "│ 995469   ┆ 2       ┆ 17.5 ┆ Australia    ┆ Sri Lanka    ┆ 135        ┆ 6            ┆ Australia │\n",
       "└──────────┴─────────┴──────┴──────────────┴──────────────┴────────────┴──────────────┴───────────┘"
      ]
     },
     "execution_count": 12,
     "metadata": {},
     "output_type": "execute_result"
    }
   ],
   "source": [
    "data=deliveries.join(matches,on='match_id')\n",
    "data"
   ]
  },
  {
   "cell_type": "code",
   "execution_count": 13,
   "metadata": {},
   "outputs": [],
   "source": [
    "innings1= data.filter(data['innings']==1)\n",
    "innings2= data.filter(data['innings']==2)"
   ]
  },
  {
   "cell_type": "code",
   "execution_count": 14,
   "metadata": {},
   "outputs": [
    {
     "data": {
      "text/html": [
       "<div><style>\n",
       ".dataframe > thead > tr,\n",
       ".dataframe > tbody > tr {\n",
       "  text-align: right;\n",
       "  white-space: pre-wrap;\n",
       "}\n",
       "</style>\n",
       "<small>shape: (279_413, 9)</small><table border=\"1\" class=\"dataframe\"><thead><tr><th>match_id</th><th>innings</th><th>ball</th><th>batting_team</th><th>bowling_team</th><th>curr_score</th><th>curr_wickets</th><th>winner</th><th>target</th></tr><tr><td>i64</td><td>i64</td><td>f64</td><td>str</td><td>str</td><td>i64</td><td>i64</td><td>str</td><td>i64</td></tr></thead><tbody><tr><td>1001349</td><td>1</td><td>0.1</td><td>&quot;Australia&quot;</td><td>&quot;Sri Lanka&quot;</td><td>0</td><td>0</td><td>&quot;Sri Lanka&quot;</td><td>175</td></tr><tr><td>1001349</td><td>1</td><td>0.2</td><td>&quot;Australia&quot;</td><td>&quot;Sri Lanka&quot;</td><td>0</td><td>0</td><td>&quot;Sri Lanka&quot;</td><td>175</td></tr><tr><td>1001349</td><td>1</td><td>0.3</td><td>&quot;Australia&quot;</td><td>&quot;Sri Lanka&quot;</td><td>1</td><td>0</td><td>&quot;Sri Lanka&quot;</td><td>175</td></tr><tr><td>1001349</td><td>1</td><td>0.4</td><td>&quot;Australia&quot;</td><td>&quot;Sri Lanka&quot;</td><td>3</td><td>0</td><td>&quot;Sri Lanka&quot;</td><td>175</td></tr><tr><td>1001349</td><td>1</td><td>0.5</td><td>&quot;Australia&quot;</td><td>&quot;Sri Lanka&quot;</td><td>3</td><td>0</td><td>&quot;Sri Lanka&quot;</td><td>175</td></tr><tr><td>&hellip;</td><td>&hellip;</td><td>&hellip;</td><td>&hellip;</td><td>&hellip;</td><td>&hellip;</td><td>&hellip;</td><td>&hellip;</td><td>&hellip;</td></tr><tr><td>995469</td><td>1</td><td>19.3</td><td>&quot;Sri Lanka&quot;</td><td>&quot;Australia&quot;</td><td>132</td><td>8</td><td>&quot;Australia&quot;</td><td>135</td></tr><tr><td>995469</td><td>1</td><td>19.4</td><td>&quot;Sri Lanka&quot;</td><td>&quot;Australia&quot;</td><td>132</td><td>8</td><td>&quot;Australia&quot;</td><td>135</td></tr><tr><td>995469</td><td>1</td><td>19.5</td><td>&quot;Sri Lanka&quot;</td><td>&quot;Australia&quot;</td><td>132</td><td>9</td><td>&quot;Australia&quot;</td><td>135</td></tr><tr><td>995469</td><td>1</td><td>19.6</td><td>&quot;Sri Lanka&quot;</td><td>&quot;Australia&quot;</td><td>134</td><td>9</td><td>&quot;Australia&quot;</td><td>135</td></tr><tr><td>995469</td><td>1</td><td>19.7</td><td>&quot;Sri Lanka&quot;</td><td>&quot;Australia&quot;</td><td>135</td><td>9</td><td>&quot;Australia&quot;</td><td>135</td></tr></tbody></table></div>"
      ],
      "text/plain": [
       "shape: (279_413, 9)\n",
       "┌──────────┬─────────┬──────┬──────────────┬───┬────────────┬──────────────┬───────────┬────────┐\n",
       "│ match_id ┆ innings ┆ ball ┆ batting_team ┆ … ┆ curr_score ┆ curr_wickets ┆ winner    ┆ target │\n",
       "│ ---      ┆ ---     ┆ ---  ┆ ---          ┆   ┆ ---        ┆ ---          ┆ ---       ┆ ---    │\n",
       "│ i64      ┆ i64     ┆ f64  ┆ str          ┆   ┆ i64        ┆ i64          ┆ str       ┆ i64    │\n",
       "╞══════════╪═════════╪══════╪══════════════╪═══╪════════════╪══════════════╪═══════════╪════════╡\n",
       "│ 1001349  ┆ 1       ┆ 0.1  ┆ Australia    ┆ … ┆ 0          ┆ 0            ┆ Sri Lanka ┆ 175    │\n",
       "│ 1001349  ┆ 1       ┆ 0.2  ┆ Australia    ┆ … ┆ 0          ┆ 0            ┆ Sri Lanka ┆ 175    │\n",
       "│ 1001349  ┆ 1       ┆ 0.3  ┆ Australia    ┆ … ┆ 1          ┆ 0            ┆ Sri Lanka ┆ 175    │\n",
       "│ 1001349  ┆ 1       ┆ 0.4  ┆ Australia    ┆ … ┆ 3          ┆ 0            ┆ Sri Lanka ┆ 175    │\n",
       "│ 1001349  ┆ 1       ┆ 0.5  ┆ Australia    ┆ … ┆ 3          ┆ 0            ┆ Sri Lanka ┆ 175    │\n",
       "│ …        ┆ …       ┆ …    ┆ …            ┆ … ┆ …          ┆ …            ┆ …         ┆ …      │\n",
       "│ 995469   ┆ 1       ┆ 19.3 ┆ Sri Lanka    ┆ … ┆ 132        ┆ 8            ┆ Australia ┆ 135    │\n",
       "│ 995469   ┆ 1       ┆ 19.4 ┆ Sri Lanka    ┆ … ┆ 132        ┆ 8            ┆ Australia ┆ 135    │\n",
       "│ 995469   ┆ 1       ┆ 19.5 ┆ Sri Lanka    ┆ … ┆ 132        ┆ 9            ┆ Australia ┆ 135    │\n",
       "│ 995469   ┆ 1       ┆ 19.6 ┆ Sri Lanka    ┆ … ┆ 134        ┆ 9            ┆ Australia ┆ 135    │\n",
       "│ 995469   ┆ 1       ┆ 19.7 ┆ Sri Lanka    ┆ … ┆ 135        ┆ 9            ┆ Australia ┆ 135    │\n",
       "└──────────┴─────────┴──────┴──────────────┴───┴────────────┴──────────────┴───────────┴────────┘"
      ]
     },
     "execution_count": 14,
     "metadata": {},
     "output_type": "execute_result"
    }
   ],
   "source": [
    "innings1=innings1.with_columns(pl.col('curr_score').max().over('match_id').alias('target'))\n",
    "innings1"
   ]
  },
  {
   "cell_type": "code",
   "execution_count": 15,
   "metadata": {},
   "outputs": [
    {
     "data": {
      "text/plain": [
       "(279413, 247505, 526918)"
      ]
     },
     "execution_count": 15,
     "metadata": {},
     "output_type": "execute_result"
    }
   ],
   "source": [
    "a=len(innings1)\n",
    "b=len(innings2)\n",
    "a,b,a+b"
   ]
  },
  {
   "cell_type": "code",
   "execution_count": 16,
   "metadata": {},
   "outputs": [
    {
     "data": {
      "text/html": [
       "<div><style>\n",
       ".dataframe > thead > tr,\n",
       ".dataframe > tbody > tr {\n",
       "  text-align: right;\n",
       "  white-space: pre-wrap;\n",
       "}\n",
       "</style>\n",
       "<small>shape: (247_575, 11)</small><table border=\"1\" class=\"dataframe\"><thead><tr><th>match_id</th><th>ball</th><th>batting_team</th><th>bowling_team</th><th>curr_score</th><th>curr_wickets</th><th>winner</th><th>curr_score_right</th><th>curr_wickets_right</th><th>winner_right</th><th>target</th></tr><tr><td>i64</td><td>f64</td><td>str</td><td>str</td><td>i64</td><td>i64</td><td>str</td><td>i64</td><td>i64</td><td>str</td><td>i64</td></tr></thead><tbody><tr><td>1001349</td><td>0.1</td><td>&quot;Sri Lanka&quot;</td><td>&quot;Australia&quot;</td><td>1</td><td>0</td><td>&quot;Sri Lanka&quot;</td><td>0</td><td>0</td><td>&quot;Sri Lanka&quot;</td><td>175</td></tr><tr><td>1001349</td><td>0.2</td><td>&quot;Sri Lanka&quot;</td><td>&quot;Australia&quot;</td><td>3</td><td>0</td><td>&quot;Sri Lanka&quot;</td><td>0</td><td>0</td><td>&quot;Sri Lanka&quot;</td><td>175</td></tr><tr><td>1001349</td><td>0.3</td><td>&quot;Sri Lanka&quot;</td><td>&quot;Australia&quot;</td><td>3</td><td>0</td><td>&quot;Sri Lanka&quot;</td><td>1</td><td>0</td><td>&quot;Sri Lanka&quot;</td><td>175</td></tr><tr><td>1001349</td><td>0.4</td><td>&quot;Sri Lanka&quot;</td><td>&quot;Australia&quot;</td><td>3</td><td>0</td><td>&quot;Sri Lanka&quot;</td><td>3</td><td>0</td><td>&quot;Sri Lanka&quot;</td><td>175</td></tr><tr><td>1001349</td><td>0.5</td><td>&quot;Sri Lanka&quot;</td><td>&quot;Australia&quot;</td><td>6</td><td>0</td><td>&quot;Sri Lanka&quot;</td><td>3</td><td>0</td><td>&quot;Sri Lanka&quot;</td><td>175</td></tr><tr><td>&hellip;</td><td>&hellip;</td><td>&hellip;</td><td>&hellip;</td><td>&hellip;</td><td>&hellip;</td><td>&hellip;</td><td>&hellip;</td><td>&hellip;</td><td>&hellip;</td><td>&hellip;</td></tr><tr><td>995469</td><td>17.1</td><td>&quot;Australia&quot;</td><td>&quot;Sri Lanka&quot;</td><td>126</td><td>6</td><td>&quot;Australia&quot;</td><td>111</td><td>7</td><td>&quot;Australia&quot;</td><td>135</td></tr><tr><td>995469</td><td>17.2</td><td>&quot;Australia&quot;</td><td>&quot;Sri Lanka&quot;</td><td>129</td><td>6</td><td>&quot;Australia&quot;</td><td>115</td><td>7</td><td>&quot;Australia&quot;</td><td>135</td></tr><tr><td>995469</td><td>17.3</td><td>&quot;Australia&quot;</td><td>&quot;Sri Lanka&quot;</td><td>129</td><td>6</td><td>&quot;Australia&quot;</td><td>116</td><td>7</td><td>&quot;Australia&quot;</td><td>135</td></tr><tr><td>995469</td><td>17.4</td><td>&quot;Australia&quot;</td><td>&quot;Sri Lanka&quot;</td><td>129</td><td>6</td><td>&quot;Australia&quot;</td><td>117</td><td>7</td><td>&quot;Australia&quot;</td><td>135</td></tr><tr><td>995469</td><td>17.5</td><td>&quot;Australia&quot;</td><td>&quot;Sri Lanka&quot;</td><td>135</td><td>6</td><td>&quot;Australia&quot;</td><td>118</td><td>7</td><td>&quot;Australia&quot;</td><td>135</td></tr></tbody></table></div>"
      ],
      "text/plain": [
       "shape: (247_575, 11)\n",
       "┌──────────┬──────┬─────────────┬─────────────┬───┬─────────────┬────────────┬────────────┬────────┐\n",
       "│ match_id ┆ ball ┆ batting_tea ┆ bowling_tea ┆ … ┆ curr_score_ ┆ curr_wicke ┆ winner_rig ┆ target │\n",
       "│ ---      ┆ ---  ┆ m           ┆ m           ┆   ┆ right       ┆ ts_right   ┆ ht         ┆ ---    │\n",
       "│ i64      ┆ f64  ┆ ---         ┆ ---         ┆   ┆ ---         ┆ ---        ┆ ---        ┆ i64    │\n",
       "│          ┆      ┆ str         ┆ str         ┆   ┆ i64         ┆ i64        ┆ str        ┆        │\n",
       "╞══════════╪══════╪═════════════╪═════════════╪═══╪═════════════╪════════════╪════════════╪════════╡\n",
       "│ 1001349  ┆ 0.1  ┆ Sri Lanka   ┆ Australia   ┆ … ┆ 0           ┆ 0          ┆ Sri Lanka  ┆ 175    │\n",
       "│ 1001349  ┆ 0.2  ┆ Sri Lanka   ┆ Australia   ┆ … ┆ 0           ┆ 0          ┆ Sri Lanka  ┆ 175    │\n",
       "│ 1001349  ┆ 0.3  ┆ Sri Lanka   ┆ Australia   ┆ … ┆ 1           ┆ 0          ┆ Sri Lanka  ┆ 175    │\n",
       "│ 1001349  ┆ 0.4  ┆ Sri Lanka   ┆ Australia   ┆ … ┆ 3           ┆ 0          ┆ Sri Lanka  ┆ 175    │\n",
       "│ 1001349  ┆ 0.5  ┆ Sri Lanka   ┆ Australia   ┆ … ┆ 3           ┆ 0          ┆ Sri Lanka  ┆ 175    │\n",
       "│ …        ┆ …    ┆ …           ┆ …           ┆ … ┆ …           ┆ …          ┆ …          ┆ …      │\n",
       "│ 995469   ┆ 17.1 ┆ Australia   ┆ Sri Lanka   ┆ … ┆ 111         ┆ 7          ┆ Australia  ┆ 135    │\n",
       "│ 995469   ┆ 17.2 ┆ Australia   ┆ Sri Lanka   ┆ … ┆ 115         ┆ 7          ┆ Australia  ┆ 135    │\n",
       "│ 995469   ┆ 17.3 ┆ Australia   ┆ Sri Lanka   ┆ … ┆ 116         ┆ 7          ┆ Australia  ┆ 135    │\n",
       "│ 995469   ┆ 17.4 ┆ Australia   ┆ Sri Lanka   ┆ … ┆ 117         ┆ 7          ┆ Australia  ┆ 135    │\n",
       "│ 995469   ┆ 17.5 ┆ Australia   ┆ Sri Lanka   ┆ … ┆ 118         ┆ 7          ┆ Australia  ┆ 135    │\n",
       "└──────────┴──────┴─────────────┴─────────────┴───┴─────────────┴────────────┴────────────┴────────┘"
      ]
     },
     "execution_count": 16,
     "metadata": {},
     "output_type": "execute_result"
    }
   ],
   "source": [
    "comparision_data=innings2.join(innings1,on=['match_id','ball'],how='left').drop(['innings','innings_right','batting_team_right','bowling_team_right'])\n",
    "comparision_data"
   ]
  },
  {
   "cell_type": "code",
   "execution_count": 17,
   "metadata": {},
   "outputs": [
    {
     "data": {
      "text/html": [
       "<div><style>\n",
       ".dataframe > thead > tr,\n",
       ".dataframe > tbody > tr {\n",
       "  text-align: right;\n",
       "  white-space: pre-wrap;\n",
       "}\n",
       "</style>\n",
       "<small>shape: (1, 11)</small><table border=\"1\" class=\"dataframe\"><thead><tr><th>match_id</th><th>ball</th><th>batting_team</th><th>bowling_team</th><th>curr_score</th><th>curr_wickets</th><th>winner</th><th>curr_score_right</th><th>curr_wickets_right</th><th>winner_right</th><th>target</th></tr><tr><td>u32</td><td>u32</td><td>u32</td><td>u32</td><td>u32</td><td>u32</td><td>u32</td><td>u32</td><td>u32</td><td>u32</td><td>u32</td></tr></thead><tbody><tr><td>0</td><td>0</td><td>0</td><td>0</td><td>0</td><td>0</td><td>0</td><td>8185</td><td>8185</td><td>8185</td><td>8185</td></tr></tbody></table></div>"
      ],
      "text/plain": [
       "shape: (1, 11)\n",
       "┌──────────┬──────┬─────────────┬─────────────┬───┬─────────────┬────────────┬────────────┬────────┐\n",
       "│ match_id ┆ ball ┆ batting_tea ┆ bowling_tea ┆ … ┆ curr_score_ ┆ curr_wicke ┆ winner_rig ┆ target │\n",
       "│ ---      ┆ ---  ┆ m           ┆ m           ┆   ┆ right       ┆ ts_right   ┆ ht         ┆ ---    │\n",
       "│ u32      ┆ u32  ┆ ---         ┆ ---         ┆   ┆ ---         ┆ ---        ┆ ---        ┆ u32    │\n",
       "│          ┆      ┆ u32         ┆ u32         ┆   ┆ u32         ┆ u32        ┆ u32        ┆        │\n",
       "╞══════════╪══════╪═════════════╪═════════════╪═══╪═════════════╪════════════╪════════════╪════════╡\n",
       "│ 0        ┆ 0    ┆ 0           ┆ 0           ┆ … ┆ 8185        ┆ 8185       ┆ 8185       ┆ 8185   │\n",
       "└──────────┴──────┴─────────────┴─────────────┴───┴─────────────┴────────────┴────────────┴────────┘"
      ]
     },
     "execution_count": 17,
     "metadata": {},
     "output_type": "execute_result"
    }
   ],
   "source": [
    "comparision_data.null_count()"
   ]
  },
  {
   "cell_type": "code",
   "execution_count": 18,
   "metadata": {},
   "outputs": [
    {
     "data": {
      "text/html": [
       "<div><style>\n",
       ".dataframe > thead > tr,\n",
       ".dataframe > tbody > tr {\n",
       "  text-align: right;\n",
       "  white-space: pre-wrap;\n",
       "}\n",
       "</style>\n",
       "<small>shape: (247_575, 9)</small><table border=\"1\" class=\"dataframe\"><thead><tr><th>match_id</th><th>ball</th><th>curr_score</th><th>curr_wickets</th><th>curr_score_right</th><th>curr_wickets_right</th><th>winner_right</th><th>target</th><th>win</th></tr><tr><td>i64</td><td>f64</td><td>i64</td><td>i64</td><td>i64</td><td>i64</td><td>str</td><td>i64</td><td>i16</td></tr></thead><tbody><tr><td>1001349</td><td>0.1</td><td>1</td><td>0</td><td>0</td><td>0</td><td>&quot;Sri Lanka&quot;</td><td>175</td><td>1</td></tr><tr><td>1001349</td><td>0.2</td><td>3</td><td>0</td><td>0</td><td>0</td><td>&quot;Sri Lanka&quot;</td><td>175</td><td>1</td></tr><tr><td>1001349</td><td>0.3</td><td>3</td><td>0</td><td>1</td><td>0</td><td>&quot;Sri Lanka&quot;</td><td>175</td><td>1</td></tr><tr><td>1001349</td><td>0.4</td><td>3</td><td>0</td><td>3</td><td>0</td><td>&quot;Sri Lanka&quot;</td><td>175</td><td>1</td></tr><tr><td>1001349</td><td>0.5</td><td>6</td><td>0</td><td>3</td><td>0</td><td>&quot;Sri Lanka&quot;</td><td>175</td><td>1</td></tr><tr><td>&hellip;</td><td>&hellip;</td><td>&hellip;</td><td>&hellip;</td><td>&hellip;</td><td>&hellip;</td><td>&hellip;</td><td>&hellip;</td><td>&hellip;</td></tr><tr><td>995469</td><td>17.1</td><td>126</td><td>6</td><td>111</td><td>7</td><td>&quot;Australia&quot;</td><td>135</td><td>1</td></tr><tr><td>995469</td><td>17.2</td><td>129</td><td>6</td><td>115</td><td>7</td><td>&quot;Australia&quot;</td><td>135</td><td>1</td></tr><tr><td>995469</td><td>17.3</td><td>129</td><td>6</td><td>116</td><td>7</td><td>&quot;Australia&quot;</td><td>135</td><td>1</td></tr><tr><td>995469</td><td>17.4</td><td>129</td><td>6</td><td>117</td><td>7</td><td>&quot;Australia&quot;</td><td>135</td><td>1</td></tr><tr><td>995469</td><td>17.5</td><td>135</td><td>6</td><td>118</td><td>7</td><td>&quot;Australia&quot;</td><td>135</td><td>1</td></tr></tbody></table></div>"
      ],
      "text/plain": [
       "shape: (247_575, 9)\n",
       "┌──────────┬──────┬────────────┬──────────────┬───┬──────────────────┬──────────────┬────────┬─────┐\n",
       "│ match_id ┆ ball ┆ curr_score ┆ curr_wickets ┆ … ┆ curr_wickets_rig ┆ winner_right ┆ target ┆ win │\n",
       "│ ---      ┆ ---  ┆ ---        ┆ ---          ┆   ┆ ht               ┆ ---          ┆ ---    ┆ --- │\n",
       "│ i64      ┆ f64  ┆ i64        ┆ i64          ┆   ┆ ---              ┆ str          ┆ i64    ┆ i16 │\n",
       "│          ┆      ┆            ┆              ┆   ┆ i64              ┆              ┆        ┆     │\n",
       "╞══════════╪══════╪════════════╪══════════════╪═══╪══════════════════╪══════════════╪════════╪═════╡\n",
       "│ 1001349  ┆ 0.1  ┆ 1          ┆ 0            ┆ … ┆ 0                ┆ Sri Lanka    ┆ 175    ┆ 1   │\n",
       "│ 1001349  ┆ 0.2  ┆ 3          ┆ 0            ┆ … ┆ 0                ┆ Sri Lanka    ┆ 175    ┆ 1   │\n",
       "│ 1001349  ┆ 0.3  ┆ 3          ┆ 0            ┆ … ┆ 0                ┆ Sri Lanka    ┆ 175    ┆ 1   │\n",
       "│ 1001349  ┆ 0.4  ┆ 3          ┆ 0            ┆ … ┆ 0                ┆ Sri Lanka    ┆ 175    ┆ 1   │\n",
       "│ 1001349  ┆ 0.5  ┆ 6          ┆ 0            ┆ … ┆ 0                ┆ Sri Lanka    ┆ 175    ┆ 1   │\n",
       "│ …        ┆ …    ┆ …          ┆ …            ┆ … ┆ …                ┆ …            ┆ …      ┆ …   │\n",
       "│ 995469   ┆ 17.1 ┆ 126        ┆ 6            ┆ … ┆ 7                ┆ Australia    ┆ 135    ┆ 1   │\n",
       "│ 995469   ┆ 17.2 ┆ 129        ┆ 6            ┆ … ┆ 7                ┆ Australia    ┆ 135    ┆ 1   │\n",
       "│ 995469   ┆ 17.3 ┆ 129        ┆ 6            ┆ … ┆ 7                ┆ Australia    ┆ 135    ┆ 1   │\n",
       "│ 995469   ┆ 17.4 ┆ 129        ┆ 6            ┆ … ┆ 7                ┆ Australia    ┆ 135    ┆ 1   │\n",
       "│ 995469   ┆ 17.5 ┆ 135        ┆ 6            ┆ … ┆ 7                ┆ Australia    ┆ 135    ┆ 1   │\n",
       "└──────────┴──────┴────────────┴──────────────┴───┴──────────────────┴──────────────┴────────┴─────┘"
      ]
     },
     "execution_count": 18,
     "metadata": {},
     "output_type": "execute_result"
    }
   ],
   "source": [
    "comparision_data=comparision_data.with_columns([\n",
    "    (pl.col('batting_team') == pl.col('winner')).alias('win').cast(pl.Int16)\n",
    "]).drop('winner','batting_team','bowling_team').fill_null(strategy='forward')\n",
    "comparision_data"
   ]
  },
  {
   "cell_type": "code",
   "execution_count": 19,
   "metadata": {},
   "outputs": [
    {
     "data": {
      "text/html": [
       "<div><style>\n",
       ".dataframe > thead > tr,\n",
       ".dataframe > tbody > tr {\n",
       "  text-align: right;\n",
       "  white-space: pre-wrap;\n",
       "}\n",
       "</style>\n",
       "<small>shape: (247_575, 8)</small><table border=\"1\" class=\"dataframe\"><thead><tr><th>match_id</th><th>ball</th><th>curr_score</th><th>curr_wickets</th><th>curr_score_1st_innings</th><th>curr_wickets_1st_innings</th><th>target</th><th>win</th></tr><tr><td>i64</td><td>f64</td><td>i64</td><td>i64</td><td>i64</td><td>i64</td><td>i64</td><td>i16</td></tr></thead><tbody><tr><td>1001349</td><td>0.1</td><td>1</td><td>0</td><td>0</td><td>0</td><td>175</td><td>1</td></tr><tr><td>1001349</td><td>0.2</td><td>3</td><td>0</td><td>0</td><td>0</td><td>175</td><td>1</td></tr><tr><td>1001349</td><td>0.3</td><td>3</td><td>0</td><td>1</td><td>0</td><td>175</td><td>1</td></tr><tr><td>1001349</td><td>0.4</td><td>3</td><td>0</td><td>3</td><td>0</td><td>175</td><td>1</td></tr><tr><td>1001349</td><td>0.5</td><td>6</td><td>0</td><td>3</td><td>0</td><td>175</td><td>1</td></tr><tr><td>&hellip;</td><td>&hellip;</td><td>&hellip;</td><td>&hellip;</td><td>&hellip;</td><td>&hellip;</td><td>&hellip;</td><td>&hellip;</td></tr><tr><td>995469</td><td>17.1</td><td>126</td><td>6</td><td>111</td><td>7</td><td>135</td><td>1</td></tr><tr><td>995469</td><td>17.2</td><td>129</td><td>6</td><td>115</td><td>7</td><td>135</td><td>1</td></tr><tr><td>995469</td><td>17.3</td><td>129</td><td>6</td><td>116</td><td>7</td><td>135</td><td>1</td></tr><tr><td>995469</td><td>17.4</td><td>129</td><td>6</td><td>117</td><td>7</td><td>135</td><td>1</td></tr><tr><td>995469</td><td>17.5</td><td>135</td><td>6</td><td>118</td><td>7</td><td>135</td><td>1</td></tr></tbody></table></div>"
      ],
      "text/plain": [
       "shape: (247_575, 8)\n",
       "┌──────────┬──────┬────────────┬──────────────┬──────────────────┬──────────────────┬────────┬─────┐\n",
       "│ match_id ┆ ball ┆ curr_score ┆ curr_wickets ┆ curr_score_1st_i ┆ curr_wickets_1st ┆ target ┆ win │\n",
       "│ ---      ┆ ---  ┆ ---        ┆ ---          ┆ nnings           ┆ _innings         ┆ ---    ┆ --- │\n",
       "│ i64      ┆ f64  ┆ i64        ┆ i64          ┆ ---              ┆ ---              ┆ i64    ┆ i16 │\n",
       "│          ┆      ┆            ┆              ┆ i64              ┆ i64              ┆        ┆     │\n",
       "╞══════════╪══════╪════════════╪══════════════╪══════════════════╪══════════════════╪════════╪═════╡\n",
       "│ 1001349  ┆ 0.1  ┆ 1          ┆ 0            ┆ 0                ┆ 0                ┆ 175    ┆ 1   │\n",
       "│ 1001349  ┆ 0.2  ┆ 3          ┆ 0            ┆ 0                ┆ 0                ┆ 175    ┆ 1   │\n",
       "│ 1001349  ┆ 0.3  ┆ 3          ┆ 0            ┆ 1                ┆ 0                ┆ 175    ┆ 1   │\n",
       "│ 1001349  ┆ 0.4  ┆ 3          ┆ 0            ┆ 3                ┆ 0                ┆ 175    ┆ 1   │\n",
       "│ 1001349  ┆ 0.5  ┆ 6          ┆ 0            ┆ 3                ┆ 0                ┆ 175    ┆ 1   │\n",
       "│ …        ┆ …    ┆ …          ┆ …            ┆ …                ┆ …                ┆ …      ┆ …   │\n",
       "│ 995469   ┆ 17.1 ┆ 126        ┆ 6            ┆ 111              ┆ 7                ┆ 135    ┆ 1   │\n",
       "│ 995469   ┆ 17.2 ┆ 129        ┆ 6            ┆ 115              ┆ 7                ┆ 135    ┆ 1   │\n",
       "│ 995469   ┆ 17.3 ┆ 129        ┆ 6            ┆ 116              ┆ 7                ┆ 135    ┆ 1   │\n",
       "│ 995469   ┆ 17.4 ┆ 129        ┆ 6            ┆ 117              ┆ 7                ┆ 135    ┆ 1   │\n",
       "│ 995469   ┆ 17.5 ┆ 135        ┆ 6            ┆ 118              ┆ 7                ┆ 135    ┆ 1   │\n",
       "└──────────┴──────┴────────────┴──────────────┴──────────────────┴──────────────────┴────────┴─────┘"
      ]
     },
     "execution_count": 19,
     "metadata": {},
     "output_type": "execute_result"
    }
   ],
   "source": [
    "comparision_data=comparision_data.drop('match_id_right','ball_right','innings')\n",
    "comparision_data=comparision_data.with_columns(pl.col('curr_score_right').alias('curr_score_1st_innings')).drop('curr_score_right')\n",
    "\n",
    "comparision_data=comparision_data.with_columns(pl.col('curr_wickets_right').alias('curr_wickets_1st_innings')).drop('curr_wickets_right')\n",
    "comparision_data=comparision_data[['match_id','ball','curr_score','curr_wickets','curr_score_1st_innings','curr_wickets_1st_innings','target','win']]\n",
    "comparision_data"
   ]
  },
  {
   "cell_type": "code",
   "execution_count": 20,
   "metadata": {},
   "outputs": [],
   "source": [
    "from sklearn.model_selection import train_test_split\n",
    "X_train,X_test,y_train,y_test = train_test_split(comparision_data.drop(['match_id','win']),comparision_data['win'],test_size=0.3,random_state=42)"
   ]
  },
  {
   "cell_type": "code",
   "execution_count": 21,
   "metadata": {},
   "outputs": [
    {
     "data": {
      "text/html": [
       "<style>#sk-container-id-1 {color: black;}#sk-container-id-1 pre{padding: 0;}#sk-container-id-1 div.sk-toggleable {background-color: white;}#sk-container-id-1 label.sk-toggleable__label {cursor: pointer;display: block;width: 100%;margin-bottom: 0;padding: 0.3em;box-sizing: border-box;text-align: center;}#sk-container-id-1 label.sk-toggleable__label-arrow:before {content: \"▸\";float: left;margin-right: 0.25em;color: #696969;}#sk-container-id-1 label.sk-toggleable__label-arrow:hover:before {color: black;}#sk-container-id-1 div.sk-estimator:hover label.sk-toggleable__label-arrow:before {color: black;}#sk-container-id-1 div.sk-toggleable__content {max-height: 0;max-width: 0;overflow: hidden;text-align: left;background-color: #f0f8ff;}#sk-container-id-1 div.sk-toggleable__content pre {margin: 0.2em;color: black;border-radius: 0.25em;background-color: #f0f8ff;}#sk-container-id-1 input.sk-toggleable__control:checked~div.sk-toggleable__content {max-height: 200px;max-width: 100%;overflow: auto;}#sk-container-id-1 input.sk-toggleable__control:checked~label.sk-toggleable__label-arrow:before {content: \"▾\";}#sk-container-id-1 div.sk-estimator input.sk-toggleable__control:checked~label.sk-toggleable__label {background-color: #d4ebff;}#sk-container-id-1 div.sk-label input.sk-toggleable__control:checked~label.sk-toggleable__label {background-color: #d4ebff;}#sk-container-id-1 input.sk-hidden--visually {border: 0;clip: rect(1px 1px 1px 1px);clip: rect(1px, 1px, 1px, 1px);height: 1px;margin: -1px;overflow: hidden;padding: 0;position: absolute;width: 1px;}#sk-container-id-1 div.sk-estimator {font-family: monospace;background-color: #f0f8ff;border: 1px dotted black;border-radius: 0.25em;box-sizing: border-box;margin-bottom: 0.5em;}#sk-container-id-1 div.sk-estimator:hover {background-color: #d4ebff;}#sk-container-id-1 div.sk-parallel-item::after {content: \"\";width: 100%;border-bottom: 1px solid gray;flex-grow: 1;}#sk-container-id-1 div.sk-label:hover label.sk-toggleable__label {background-color: #d4ebff;}#sk-container-id-1 div.sk-serial::before {content: \"\";position: absolute;border-left: 1px solid gray;box-sizing: border-box;top: 0;bottom: 0;left: 50%;z-index: 0;}#sk-container-id-1 div.sk-serial {display: flex;flex-direction: column;align-items: center;background-color: white;padding-right: 0.2em;padding-left: 0.2em;position: relative;}#sk-container-id-1 div.sk-item {position: relative;z-index: 1;}#sk-container-id-1 div.sk-parallel {display: flex;align-items: stretch;justify-content: center;background-color: white;position: relative;}#sk-container-id-1 div.sk-item::before, #sk-container-id-1 div.sk-parallel-item::before {content: \"\";position: absolute;border-left: 1px solid gray;box-sizing: border-box;top: 0;bottom: 0;left: 50%;z-index: -1;}#sk-container-id-1 div.sk-parallel-item {display: flex;flex-direction: column;z-index: 1;position: relative;background-color: white;}#sk-container-id-1 div.sk-parallel-item:first-child::after {align-self: flex-end;width: 50%;}#sk-container-id-1 div.sk-parallel-item:last-child::after {align-self: flex-start;width: 50%;}#sk-container-id-1 div.sk-parallel-item:only-child::after {width: 0;}#sk-container-id-1 div.sk-dashed-wrapped {border: 1px dashed gray;margin: 0 0.4em 0.5em 0.4em;box-sizing: border-box;padding-bottom: 0.4em;background-color: white;}#sk-container-id-1 div.sk-label label {font-family: monospace;font-weight: bold;display: inline-block;line-height: 1.2em;}#sk-container-id-1 div.sk-label-container {text-align: center;}#sk-container-id-1 div.sk-container {/* jupyter's `normalize.less` sets `[hidden] { display: none; }` but bootstrap.min.css set `[hidden] { display: none !important; }` so we also need the `!important` here to be able to override the default hidden behavior on the sphinx rendered scikit-learn.org. See: https://github.com/scikit-learn/scikit-learn/issues/21755 */display: inline-block !important;position: relative;}#sk-container-id-1 div.sk-text-repr-fallback {display: none;}</style><div id=\"sk-container-id-1\" class=\"sk-top-container\"><div class=\"sk-text-repr-fallback\"><pre>LogisticRegression()</pre><b>In a Jupyter environment, please rerun this cell to show the HTML representation or trust the notebook. <br />On GitHub, the HTML representation is unable to render, please try loading this page with nbviewer.org.</b></div><div class=\"sk-container\" hidden><div class=\"sk-item\"><div class=\"sk-estimator sk-toggleable\"><input class=\"sk-toggleable__control sk-hidden--visually\" id=\"sk-estimator-id-1\" type=\"checkbox\" checked><label for=\"sk-estimator-id-1\" class=\"sk-toggleable__label sk-toggleable__label-arrow\">LogisticRegression</label><div class=\"sk-toggleable__content\"><pre>LogisticRegression()</pre></div></div></div></div></div>"
      ],
      "text/plain": [
       "LogisticRegression()"
      ]
     },
     "execution_count": 21,
     "metadata": {},
     "output_type": "execute_result"
    }
   ],
   "source": [
    "from sklearn.linear_model import LogisticRegression\n",
    "lr= LogisticRegression()\n",
    "lr.fit(X_train,y_train)"
   ]
  },
  {
   "cell_type": "code",
   "execution_count": null,
   "metadata": {},
   "outputs": [],
   "source": []
  },
  {
   "cell_type": "code",
   "execution_count": 121,
   "metadata": {},
   "outputs": [
    {
     "data": {
      "text/plain": [
       "((173302,), (173302,))"
      ]
     },
     "execution_count": 121,
     "metadata": {},
     "output_type": "execute_result"
    }
   ],
   "source": [
    "X_train[:,0].shape,logit_y.shape"
   ]
  },
  {
   "cell_type": "code",
   "execution_count": 124,
   "metadata": {},
   "outputs": [
    {
     "data": {
      "text/plain": [
       "array([[-0.23167686,  0.07534662, -0.65964975, -0.02469518,  0.11616078,\n",
       "        -0.04589044]])"
      ]
     },
     "execution_count": 124,
     "metadata": {},
     "output_type": "execute_result"
    }
   ],
   "source": [
    "lr.coef_"
   ]
  },
  {
   "cell_type": "code",
   "execution_count": 140,
   "metadata": {},
   "outputs": [
    {
     "data": {
      "image/png": "[encoded data removed]",
      "text/plain": [
       "<Figure size 640x480 with 1 Axes>"
      ]
     },
     "metadata": {},
     "output_type": "display_data"
    }
   ],
   "source": [
    "y_proba = lr.predict_proba(X_train)[:, 1]  # Assuming binary classification, get probability for class 1\n",
    "logit_y = np.log(y_proba / (1 - y_proba))\n",
    "import matplotlib.pyplot as plt\n",
    "\n",
    "# Assuming X_train has a single feature for simplicity\n",
    "plt.scatter(X_train[:,2], logit_y)\n",
    "plt.xlabel(\"Feature Value\")\n",
    "plt.ylabel(\"Logit\")\n",
    "plt.title(\"Logit of Predicted Probabilities\")\n",
    "plt.axhline(0, color='r', linestyle='--', label='Decision Boundary (logit=0)')\n",
    "plt.axvline(-0.04589044/.07534662, color='g', linestyle='--', label='Decision Boundary (X)')\n",
    "\n",
    "plt.show()\n"
   ]
  },
  {
   "cell_type": "code",
   "execution_count": 38,
   "metadata": {},
   "outputs": [
    {
     "data": {
      "text/plain": [
       "0.816945592611043"
      ]
     },
     "execution_count": 38,
     "metadata": {},
     "output_type": "execute_result"
    }
   ],
   "source": [
    "from sklearn.metrics import accuracy_score,confusion_matrix,classification_report\n",
    "accuracy_score(y_test,y_pred)"
   ]
  },
  {
   "cell_type": "code",
   "execution_count": 39,
   "metadata": {},
   "outputs": [
    {
     "data": {
      "text/plain": [
       "array([[32767,  6643],\n",
       "       [ 6953, 27910]], dtype=int64)"
      ]
     },
     "execution_count": 39,
     "metadata": {},
     "output_type": "execute_result"
    }
   ],
   "source": [
    "confusion_matrix(y_test,y_pred)"
   ]
  },
  {
   "cell_type": "code",
   "execution_count": 40,
   "metadata": {},
   "outputs": [
    {
     "name": "stdout",
     "output_type": "stream",
     "text": [
      "              precision    recall  f1-score   support\n",
      "\n",
      "           0       0.82      0.83      0.83     39410\n",
      "           1       0.81      0.80      0.80     34863\n",
      "\n",
      "    accuracy                           0.82     74273\n",
      "   macro avg       0.82      0.82      0.82     74273\n",
      "weighted avg       0.82      0.82      0.82     74273\n",
      "\n"
     ]
    }
   ],
   "source": [
    "print(classification_report(y_test,y_pred))"
   ]
  },
  {
   "cell_type": "code",
   "execution_count": 141,
   "metadata": {},
   "outputs": [
    {
     "data": {
      "image/png": "[encoded data removed]",
      "text/plain": [
       "<Figure size 640x480 with 1 Axes>"
      ]
     },
     "metadata": {},
     "output_type": "display_data"
    }
   ],
   "source": [
    "import numpy as np\n",
    "import matplotlib.pyplot as plt\n",
    "\n",
    "# Coefficients\n",
    "beta_0 = -2\n",
    "beta_1 = 0.5\n",
    "\n",
    "# Generate some data points\n",
    "X = np.linspace(-10, 10, 100)\n",
    "logits = beta_0 + beta_1 * X\n",
    "\n",
    "# Plot logit function\n",
    "plt.plot( logits, X, label='Logit Function')\n",
    "\n",
    "# Indicate decision boundary\n",
    "plt.axhline(0, color='r', linestyle='--', label='Decision Boundary (logit=0)')\n",
    "plt.axvline(-beta_0/beta_1, color='g', linestyle='--', label='Decision Boundary (X)')\n",
    "\n",
    "plt.xlabel('Predictor X')\n",
    "plt.ylabel('Logit (Log-Odds)')\n",
    "plt.title('Logit Function and Decision Boundary')\n",
    "plt.legend()\n",
    "plt.show()"
   ]
  },
  {
   "cell_type": "code",
   "execution_count": null,
   "metadata": {},
   "outputs": [],
   "source": []
  }
 ],
 "metadata": {
  "kernelspec": {
   "display_name": "eda",
   "language": "python",
   "name": "python3"
  },
  "language_info": {
   "codemirror_mode": {
    "name": "ipython",
    "version": 3
   },
   "file_extension": ".py",
   "mimetype": "text/x-python",
   "name": "python",
   "nbconvert_exporter": "python",
   "pygments_lexer": "ipython3",
   "version": "3.8.19"
  }
 },
 "nbformat": 4,
 "nbformat_minor": 4
}
