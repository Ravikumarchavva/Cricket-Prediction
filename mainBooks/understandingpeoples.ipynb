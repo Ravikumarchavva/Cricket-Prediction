{
 "cells": [
  {
   "cell_type": "code",
   "execution_count": 5,
   "metadata": {},
   "outputs": [
    {
     "data": {
      "text/html": [
       "<div><style>\n",
       ".dataframe > thead > tr,\n",
       ".dataframe > tbody > tr {\n",
       "  text-align: right;\n",
       "  white-space: pre-wrap;\n",
       "}\n",
       "</style>\n",
       "<small>shape: (15_372, 4)</small><table border=\"1\" class=\"dataframe\"><thead><tr><th>identifier</th><th>name</th><th>unique_name</th><th>key_cricinfo</th></tr><tr><td>str</td><td>str</td><td>str</td><td>i64</td></tr></thead><tbody><tr><td>&quot;b4a23876&quot;</td><td>&quot;AAA Amsterdam&quot;</td><td>&quot;AAA Amsterdam&quot;</td><td>772407</td></tr><tr><td>&quot;482762af&quot;</td><td>&quot;AA Adeoye&quot;</td><td>&quot;AA Adeoye&quot;</td><td>380588</td></tr><tr><td>&quot;4b0e3049&quot;</td><td>&quot;AA Alleyne&quot;</td><td>&quot;AA Alleyne&quot;</td><td>661441</td></tr><tr><td>&quot;fd3c5c00&quot;</td><td>&quot;AAA Patel&quot;</td><td>&quot;AAA Patel&quot;</td><td>1163136</td></tr><tr><td>&quot;bc005f0d&quot;</td><td>&quot;AAA White&quot;</td><td>&quot;AAA White&quot;</td><td>474307</td></tr><tr><td>&hellip;</td><td>&hellip;</td><td>&hellip;</td><td>&hellip;</td></tr><tr><td>&quot;ee9bdbc8&quot;</td><td>&quot;Zulqarnain Haider&quot;</td><td>&quot;Zulqarnain Haider&quot;</td><td>43860</td></tr><tr><td>&quot;2d46e8ed&quot;</td><td>&quot;Zulqarnain Haider&quot;</td><td>&quot;Zulqarnain Haider (2)&quot;</td><td>1046641</td></tr><tr><td>&quot;b71670a0&quot;</td><td>&quot;Zulufat Mutoniwase&quot;</td><td>&quot;Zulufat Mutoniwase&quot;</td><td>1380564</td></tr><tr><td>&quot;d35c1fc7&quot;</td><td>&quot;Zumika Azmi&quot;</td><td>&quot;Zumika Azmi&quot;</td><td>1050037</td></tr><tr><td>&quot;78a3ae4b&quot;</td><td>&quot;ZXM Vukusic&quot;</td><td>&quot;ZXM Vukusic&quot;</td><td>1442092</td></tr></tbody></table></div>"
      ],
      "text/plain": [
       "shape: (15_372, 4)\n",
       "┌────────────┬────────────────────┬───────────────────────┬──────────────┐\n",
       "│ identifier ┆ name               ┆ unique_name           ┆ key_cricinfo │\n",
       "│ ---        ┆ ---                ┆ ---                   ┆ ---          │\n",
       "│ str        ┆ str                ┆ str                   ┆ i64          │\n",
       "╞════════════╪════════════════════╪═══════════════════════╪══════════════╡\n",
       "│ b4a23876   ┆ AAA Amsterdam      ┆ AAA Amsterdam         ┆ 772407       │\n",
       "│ 482762af   ┆ AA Adeoye          ┆ AA Adeoye             ┆ 380588       │\n",
       "│ 4b0e3049   ┆ AA Alleyne         ┆ AA Alleyne            ┆ 661441       │\n",
       "│ fd3c5c00   ┆ AAA Patel          ┆ AAA Patel             ┆ 1163136      │\n",
       "│ bc005f0d   ┆ AAA White          ┆ AAA White             ┆ 474307       │\n",
       "│ …          ┆ …                  ┆ …                     ┆ …            │\n",
       "│ ee9bdbc8   ┆ Zulqarnain Haider  ┆ Zulqarnain Haider     ┆ 43860        │\n",
       "│ 2d46e8ed   ┆ Zulqarnain Haider  ┆ Zulqarnain Haider (2) ┆ 1046641      │\n",
       "│ b71670a0   ┆ Zulufat Mutoniwase ┆ Zulufat Mutoniwase    ┆ 1380564      │\n",
       "│ d35c1fc7   ┆ Zumika Azmi        ┆ Zumika Azmi           ┆ 1050037      │\n",
       "│ 78a3ae4b   ┆ ZXM Vukusic        ┆ ZXM Vukusic           ┆ 1442092      │\n",
       "└────────────┴────────────────────┴───────────────────────┴──────────────┘"
      ]
     },
     "execution_count": 5,
     "metadata": {},
     "output_type": "execute_result"
    }
   ],
   "source": [
    "import polars as pl\n",
    "\n",
    "people = pl.read_csv(\"../historical_data/cricsheetSource/people.csv\")[['identifier', 'name', 'unique_name','key_cricinfo']]\n",
    "people"
   ]
  },
  {
   "cell_type": "code",
   "execution_count": 6,
   "metadata": {},
   "outputs": [
    {
     "data": {
      "text/html": [
       "<div><style>\n",
       ".dataframe > thead > tr,\n",
       ".dataframe > tbody > tr {\n",
       "  text-align: right;\n",
       "  white-space: pre-wrap;\n",
       "}\n",
       "</style>\n",
       "<small>shape: (9, 5)</small><table border=\"1\" class=\"dataframe\"><thead><tr><th>statistic</th><th>identifier</th><th>name</th><th>unique_name</th><th>key_cricinfo</th></tr><tr><td>str</td><td>str</td><td>str</td><td>str</td><td>f64</td></tr></thead><tbody><tr><td>&quot;count&quot;</td><td>&quot;15372&quot;</td><td>&quot;15372&quot;</td><td>&quot;15372&quot;</td><td>15327.0</td></tr><tr><td>&quot;null_count&quot;</td><td>&quot;0&quot;</td><td>&quot;0&quot;</td><td>&quot;0&quot;</td><td>45.0</td></tr><tr><td>&quot;mean&quot;</td><td>null</td><td>null</td><td>null</td><td>646314.648985</td></tr><tr><td>&quot;std&quot;</td><td>null</td><td>null</td><td>null</td><td>505566.220289</td></tr><tr><td>&quot;min&quot;</td><td>&quot;0000a6d2&quot;</td><td>&quot;A Adams&quot;</td><td>&quot;A Adams&quot;</td><td>3931.0</td></tr><tr><td>&quot;25%&quot;</td><td>null</td><td>null</td><td>null</td><td>52912.0</td></tr><tr><td>&quot;50%&quot;</td><td>null</td><td>null</td><td>null</td><td>571761.0</td></tr><tr><td>&quot;75%&quot;</td><td>null</td><td>null</td><td>null</td><td>1.163139e6</td></tr><tr><td>&quot;max&quot;</td><td>&quot;fffa744b&quot;</td><td>&quot;Zumika Azmi&quot;</td><td>&quot;Zumika Azmi&quot;</td><td>1.442102e6</td></tr></tbody></table></div>"
      ],
      "text/plain": [
       "shape: (9, 5)\n",
       "┌────────────┬────────────┬─────────────┬─────────────┬───────────────┐\n",
       "│ statistic  ┆ identifier ┆ name        ┆ unique_name ┆ key_cricinfo  │\n",
       "│ ---        ┆ ---        ┆ ---         ┆ ---         ┆ ---           │\n",
       "│ str        ┆ str        ┆ str         ┆ str         ┆ f64           │\n",
       "╞════════════╪════════════╪═════════════╪═════════════╪═══════════════╡\n",
       "│ count      ┆ 15372      ┆ 15372       ┆ 15372       ┆ 15327.0       │\n",
       "│ null_count ┆ 0          ┆ 0           ┆ 0           ┆ 45.0          │\n",
       "│ mean       ┆ null       ┆ null        ┆ null        ┆ 646314.648985 │\n",
       "│ std        ┆ null       ┆ null        ┆ null        ┆ 505566.220289 │\n",
       "│ min        ┆ 0000a6d2   ┆ A Adams     ┆ A Adams     ┆ 3931.0        │\n",
       "│ 25%        ┆ null       ┆ null        ┆ null        ┆ 52912.0       │\n",
       "│ 50%        ┆ null       ┆ null        ┆ null        ┆ 571761.0      │\n",
       "│ 75%        ┆ null       ┆ null        ┆ null        ┆ 1.163139e6    │\n",
       "│ max        ┆ fffa744b   ┆ Zumika Azmi ┆ Zumika Azmi ┆ 1.442102e6    │\n",
       "└────────────┴────────────┴─────────────┴─────────────┴───────────────┘"
      ]
     },
     "execution_count": 6,
     "metadata": {},
     "output_type": "execute_result"
    }
   ],
   "source": [
    "people.describe()"
   ]
  },
  {
   "cell_type": "code",
   "execution_count": null,
   "metadata": {},
   "outputs": [],
   "source": []
  }
 ],
 "metadata": {
  "kernelspec": {
   "display_name": "eda",
   "language": "python",
   "name": "python3"
  },
  "language_info": {
   "codemirror_mode": {
    "name": "ipython",
    "version": 3
   },
   "file_extension": ".py",
   "mimetype": "text/x-python",
   "name": "python",
   "nbconvert_exporter": "python",
   "pygments_lexer": "ipython3",
   "version": "3.8.19"
  }
 },
 "nbformat": 4,
 "nbformat_minor": 2
}
