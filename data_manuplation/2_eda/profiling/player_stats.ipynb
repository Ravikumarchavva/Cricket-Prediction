{
 "cells": [
  {
   "cell_type": "code",
   "execution_count": 2,
   "metadata": {},
   "outputs": [
    {
     "data": {
      "text/html": [
       "<div><style>\n",
       ".dataframe > thead > tr,\n",
       ".dataframe > tbody > tr {\n",
       "  text-align: right;\n",
       "  white-space: pre-wrap;\n",
       "}\n",
       "</style>\n",
       "<small>shape: (13_060, 26)</small><table border=\"1\" class=\"dataframe\"><thead><tr><th>Player</th><th>Season</th><th>Mat</th><th>Inns</th><th>Batting Runs</th><th>SR</th><th>Ave</th><th>Country</th><th>Cum batting Ave</th><th>Cum battings Runs Total</th><th>Cum Inns Total</th><th>Cum SR</th><th>player_id</th><th>Overs</th><th>Bowling_Runs</th><th>Wkts</th><th>Econ</th><th>Cumulative Overs</th><th>Cumulative Wkts</th><th>Cumulative Runs</th><th>Cumulative Inns</th><th>Cumulative Econ</th><th>Dis</th><th>Ct</th><th>St</th><th>D/I</th></tr><tr><td>str</td><td>str</td><td>i64</td><td>f64</td><td>f64</td><td>f64</td><td>f64</td><td>str</td><td>f64</td><td>f64</td><td>f64</td><td>f64</td><td>str</td><td>f64</td><td>f64</td><td>f64</td><td>f64</td><td>f64</td><td>f64</td><td>f64</td><td>f64</td><td>f64</td><td>f64</td><td>f64</td><td>f64</td><td>f64</td></tr></thead><tbody><tr><td>&quot;A Ahmadhel&quot;</td><td>&quot;2019/20&quot;</td><td>3</td><td>2.0</td><td>16.0</td><td>100.0</td><td>8.0</td><td>&quot;Bulgaria&quot;</td><td>8.0</td><td>16.0</td><td>2.0</td><td>100.0</td><td>&quot;55a5cffb&quot;</td><td>10.0</td><td>75.0</td><td>3.0</td><td>7.5</td><td>10.0</td><td>3.0</td><td>75.0</td><td>3.0</td><td>25.0</td><td>0.0</td><td>0.0</td><td>0.0</td><td>0.0</td></tr><tr><td>&quot;A Ahmadhel&quot;</td><td>&quot;2020&quot;</td><td>1</td><td>1.0</td><td>8.0</td><td>100.0</td><td>8.0</td><td>&quot;Bulgaria&quot;</td><td>8.0</td><td>24.0</td><td>3.0</td><td>100.0</td><td>&quot;55a5cffb&quot;</td><td>2.0</td><td>22.0</td><td>1.0</td><td>11.0</td><td>12.0</td><td>4.0</td><td>97.0</td><td>4.0</td><td>24.25</td><td>0.0</td><td>0.0</td><td>0.0</td><td>0.0</td></tr><tr><td>&quot;A Ahmadhel&quot;</td><td>&quot;2020/21&quot;</td><td>2</td><td>1.0</td><td>2.0</td><td>28.57</td><td>2.0</td><td>&quot;Bulgaria&quot;</td><td>6.5</td><td>26.0</td><td>4.0</td><td>76.19</td><td>&quot;55a5cffb&quot;</td><td>2.4</td><td>27.0</td><td>2.0</td><td>10.12</td><td>14.4</td><td>6.0</td><td>124.0</td><td>6.0</td><td>20.666667</td><td>0.0</td><td>0.0</td><td>0.0</td><td>0.0</td></tr><tr><td>&quot;A Ahmadhel&quot;</td><td>&quot;2021&quot;</td><td>3</td><td>3.0</td><td>5.0</td><td>38.46</td><td>1.66</td><td>&quot;Bulgaria&quot;</td><td>4.43</td><td>31.0</td><td>7.0</td><td>66.76</td><td>&quot;55a5cffb&quot;</td><td>3.0</td><td>31.0</td><td>0.0</td><td>10.33</td><td>17.4</td><td>6.0</td><td>155.0</td><td>8.0</td><td>19.375</td><td>0.0</td><td>0.0</td><td>0.0</td><td>0.0</td></tr><tr><td>&quot;A Ahmadhel&quot;</td><td>&quot;2023&quot;</td><td>2</td><td>0.0</td><td>0.0</td><td>0.0</td><td>0.0</td><td>&quot;Bulgaria&quot;</td><td>4.43</td><td>31.0</td><td>7.0</td><td>53.41</td><td>&quot;55a5cffb&quot;</td><td>0.0</td><td>0.0</td><td>0.0</td><td>0.0</td><td>17.4</td><td>6.0</td><td>155.0</td><td>8.0</td><td>19.375</td><td>0.0</td><td>0.0</td><td>0.0</td><td>0.0</td></tr><tr><td>&hellip;</td><td>&hellip;</td><td>&hellip;</td><td>&hellip;</td><td>&hellip;</td><td>&hellip;</td><td>&hellip;</td><td>&hellip;</td><td>&hellip;</td><td>&hellip;</td><td>&hellip;</td><td>&hellip;</td><td>&hellip;</td><td>&hellip;</td><td>&hellip;</td><td>&hellip;</td><td>&hellip;</td><td>&hellip;</td><td>&hellip;</td><td>&hellip;</td><td>&hellip;</td><td>&hellip;</td><td>&hellip;</td><td>&hellip;</td><td>&hellip;</td><td>&hellip;</td></tr><tr><td>&quot;Zulqarnain Haider&quot;</td><td>&quot;2019&quot;</td><td>4</td><td>1.0</td><td>0.0</td><td>0.0</td><td>0.0</td><td>&quot;Spain&quot;</td><td>0.0</td><td>0.0</td><td>1.0</td><td>0.0</td><td>&quot;2d46e8ed&quot;</td><td>10.0</td><td>53.0</td><td>3.0</td><td>5.3</td><td>10.0</td><td>3.0</td><td>53.0</td><td>4.0</td><td>13.25</td><td>1.0</td><td>1.0</td><td>0.0</td><td>0.25</td></tr><tr><td>&quot;Zulqarnain Haider&quot;</td><td>&quot;2019/20&quot;</td><td>1</td><td>0.0</td><td>0.0</td><td>0.0</td><td>0.0</td><td>&quot;Spain&quot;</td><td>0.0</td><td>0.0</td><td>1.0</td><td>0.0</td><td>&quot;2d46e8ed&quot;</td><td>3.0</td><td>7.0</td><td>0.0</td><td>2.33</td><td>13.0</td><td>3.0</td><td>60.0</td><td>5.0</td><td>12.0</td><td>1.0</td><td>1.0</td><td>0.0</td><td>0.2</td></tr><tr><td>&quot;Zulqarnain Haider&quot;</td><td>&quot;2022&quot;</td><td>6</td><td>3.0</td><td>8.0</td><td>66.66</td><td>4.0</td><td>&quot;Spain&quot;</td><td>3.0</td><td>8.0</td><td>4.0</td><td>22.22</td><td>&quot;2d46e8ed&quot;</td><td>15.0</td><td>91.0</td><td>5.0</td><td>6.06</td><td>28.0</td><td>8.0</td><td>151.0</td><td>11.0</td><td>13.727273</td><td>1.0</td><td>1.0</td><td>0.0</td><td>0.090909</td></tr><tr><td>&quot;Zulqarnain Haider&quot;</td><td>&quot;2006/07&quot;</td><td>1</td><td>1.0</td><td>5.0</td><td>55.55</td><td>5.0</td><td>&quot;Pakistan&quot;</td><td>5.0</td><td>5.0</td><td>1.0</td><td>55.55</td><td>&quot;ee9bdbc8&quot;</td><td>0.0</td><td>0.0</td><td>0.0</td><td>0.0</td><td>0.0</td><td>0.0</td><td>0.0</td><td>0.0</td><td>0.0</td><td>0.0</td><td>0.0</td><td>0.0</td><td>0.0</td></tr><tr><td>&quot;Zulqarnain Haider&quot;</td><td>&quot;2010/11&quot;</td><td>2</td><td>2.0</td><td>18.0</td><td>85.71</td><td>9.0</td><td>&quot;Pakistan&quot;</td><td>7.67</td><td>23.0</td><td>3.0</td><td>70.63</td><td>&quot;ee9bdbc8&quot;</td><td>0.0</td><td>0.0</td><td>0.0</td><td>0.0</td><td>0.0</td><td>0.0</td><td>0.0</td><td>0.0</td><td>0.0</td><td>1.0</td><td>0.0</td><td>1.0</td><td>0.333333</td></tr></tbody></table></div>"
      ],
      "text/plain": [
       "shape: (13_060, 26)\n",
       "┌───────────────────┬─────────┬─────┬──────┬───┬─────┬─────┬─────┬──────────┐\n",
       "│ Player            ┆ Season  ┆ Mat ┆ Inns ┆ … ┆ Dis ┆ Ct  ┆ St  ┆ D/I      │\n",
       "│ ---               ┆ ---     ┆ --- ┆ ---  ┆   ┆ --- ┆ --- ┆ --- ┆ ---      │\n",
       "│ str               ┆ str     ┆ i64 ┆ f64  ┆   ┆ f64 ┆ f64 ┆ f64 ┆ f64      │\n",
       "╞═══════════════════╪═════════╪═════╪══════╪═══╪═════╪═════╪═════╪══════════╡\n",
       "│ A Ahmadhel        ┆ 2019/20 ┆ 3   ┆ 2.0  ┆ … ┆ 0.0 ┆ 0.0 ┆ 0.0 ┆ 0.0      │\n",
       "│ A Ahmadhel        ┆ 2020    ┆ 1   ┆ 1.0  ┆ … ┆ 0.0 ┆ 0.0 ┆ 0.0 ┆ 0.0      │\n",
       "│ A Ahmadhel        ┆ 2020/21 ┆ 2   ┆ 1.0  ┆ … ┆ 0.0 ┆ 0.0 ┆ 0.0 ┆ 0.0      │\n",
       "│ A Ahmadhel        ┆ 2021    ┆ 3   ┆ 3.0  ┆ … ┆ 0.0 ┆ 0.0 ┆ 0.0 ┆ 0.0      │\n",
       "│ A Ahmadhel        ┆ 2023    ┆ 2   ┆ 0.0  ┆ … ┆ 0.0 ┆ 0.0 ┆ 0.0 ┆ 0.0      │\n",
       "│ …                 ┆ …       ┆ …   ┆ …    ┆ … ┆ …   ┆ …   ┆ …   ┆ …        │\n",
       "│ Zulqarnain Haider ┆ 2019    ┆ 4   ┆ 1.0  ┆ … ┆ 1.0 ┆ 1.0 ┆ 0.0 ┆ 0.25     │\n",
       "│ Zulqarnain Haider ┆ 2019/20 ┆ 1   ┆ 0.0  ┆ … ┆ 1.0 ┆ 1.0 ┆ 0.0 ┆ 0.2      │\n",
       "│ Zulqarnain Haider ┆ 2022    ┆ 6   ┆ 3.0  ┆ … ┆ 1.0 ┆ 1.0 ┆ 0.0 ┆ 0.090909 │\n",
       "│ Zulqarnain Haider ┆ 2006/07 ┆ 1   ┆ 1.0  ┆ … ┆ 0.0 ┆ 0.0 ┆ 0.0 ┆ 0.0      │\n",
       "│ Zulqarnain Haider ┆ 2010/11 ┆ 2   ┆ 2.0  ┆ … ┆ 1.0 ┆ 0.0 ┆ 1.0 ┆ 0.333333 │\n",
       "└───────────────────┴─────────┴─────┴──────┴───┴─────┴─────┴─────┴──────────┘"
      ]
     },
     "execution_count": 2,
     "metadata": {},
     "output_type": "execute_result"
    }
   ],
   "source": [
    "import os\n",
    "directory = r'D:\\github\\Cricket-Prediction\\data\\2_processedData'\n",
    "\n",
    "import polars as pl\n",
    "player_data = pl.read_csv(os.path.join(directory, 'playerStats.csv'))\n",
    "player_data"
   ]
  },
  {
   "cell_type": "code",
   "execution_count": 3,
   "metadata": {},
   "outputs": [
    {
     "data": {
      "application/vnd.jupyter.widget-view+json": {
       "model_id": "cee722054b884678b32353b1c264c9aa",
       "version_major": 2,
       "version_minor": 0
      },
      "text/plain": [
       "Summarize dataset:   0%|          | 0/5 [00:00<?, ?it/s]"
      ]
     },
     "metadata": {},
     "output_type": "display_data"
    },
    {
     "data": {
      "application/vnd.jupyter.widget-view+json": {
       "model_id": "33065e79b45f4f1f8ea396f5a6a0ed65",
       "version_major": 2,
       "version_minor": 0
      },
      "text/plain": [
       "Generate report structure:   0%|          | 0/1 [00:00<?, ?it/s]"
      ]
     },
     "metadata": {},
     "output_type": "display_data"
    },
    {
     "data": {
      "application/vnd.jupyter.widget-view+json": {
       "model_id": "15968932669e4d7499d8e4ed2518e5cb",
       "version_major": 2,
       "version_minor": 0
      },
      "text/plain": [
       "Render widgets:   0%|          | 0/1 [00:00<?, ?it/s]"
      ]
     },
     "metadata": {},
     "output_type": "display_data"
    },
    {
     "data": {
      "application/vnd.jupyter.widget-view+json": {
       "model_id": "7a12f4c17fd64d7089db5bc531ff1470",
       "version_major": 2,
       "version_minor": 0
      },
      "text/plain": [
       "VBox(children=(Tab(children=(Tab(children=(GridBox(children=(VBox(children=(GridspecLayout(children=(HTML(valu…"
      ]
     },
     "metadata": {},
     "output_type": "display_data"
    }
   ],
   "source": [
    "import ydata_profiling\n",
    "from ydata_profiling import ProfileReport\n",
    "profile = ProfileReport(player_data.to_pandas(), title='Pandas Profiling Report', explorative=True)\n",
    "profile.to_widgets()"
   ]
  },
  {
   "cell_type": "code",
   "execution_count": 4,
   "metadata": {},
   "outputs": [
    {
     "data": {
      "application/vnd.jupyter.widget-view+json": {
       "model_id": "4b185a0cf8f848cbb63ddeb5ae933382",
       "version_major": 2,
       "version_minor": 0
      },
      "text/plain": [
       "Render HTML:   0%|          | 0/1 [00:00<?, ?it/s]"
      ]
     },
     "metadata": {},
     "output_type": "display_data"
    },
    {
     "data": {
      "application/vnd.jupyter.widget-view+json": {
       "model_id": "a5704e4ef1974da4bb2f217bdde1ecb8",
       "version_major": 2,
       "version_minor": 0
      },
      "text/plain": [
       "Export report to file:   0%|          | 0/1 [00:00<?, ?it/s]"
      ]
     },
     "metadata": {},
     "output_type": "display_data"
    }
   ],
   "source": [
    "profile.to_file(\"playerStats.html\")"
   ]
  },
  {
   "cell_type": "code",
   "execution_count": null,
   "metadata": {},
   "outputs": [],
   "source": []
  }
 ],
 "metadata": {
  "kernelspec": {
   "display_name": "eda",
   "language": "python",
   "name": "python3"
  },
  "language_info": {
   "codemirror_mode": {
    "name": "ipython",
    "version": 3
   },
   "file_extension": ".py",
   "mimetype": "text/x-python",
   "name": "python",
   "nbconvert_exporter": "python",
   "pygments_lexer": "ipython3",
   "version": "3.8.19"
  }
 },
 "nbformat": 4,
 "nbformat_minor": 2
}
