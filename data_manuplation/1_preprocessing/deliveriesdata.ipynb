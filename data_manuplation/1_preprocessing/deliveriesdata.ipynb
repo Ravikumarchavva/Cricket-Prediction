{
 "cells": [
  {
   "cell_type": "code",
   "execution_count": null,
   "metadata": {},
   "outputs": [
    {
     "data": {
      "text/html": [
       "<pre style=\"white-space:pre;overflow-x:auto;line-height:normal;font-family:Menlo,'DejaVu Sans Mono',consolas,'Courier New',monospace\"><span style=\"color: #808000; text-decoration-color: #808000; font-weight: bold\">/home/ravikumar/miniconda3/envs/t20i/lib/python3.12/site-packages/airflow/configuration.py:</span><span style=\"color: #808000; text-decoration-color: #808000; font-weight: bold\">859</span><span style=\"color: #808000; text-decoration-color: #808000; font-weight: bold\"> FutureWarning</span><span style=\"color: #808000; text-decoration-color: #808000\">: section/key </span><span style=\"color: #808000; text-decoration-color: #808000; font-weight: bold\">[</span><span style=\"color: #808000; text-decoration-color: #808000\">core/sql_alchemy_conn</span><span style=\"color: #808000; text-decoration-color: #808000; font-weight: bold\">]</span><span style=\"color: #808000; text-decoration-color: #808000\"> has been deprecated, you should use</span><span style=\"color: #808000; text-decoration-color: #808000; font-weight: bold\">[</span><span style=\"color: #808000; text-decoration-color: #808000\">database/sql_alchemy_conn</span><span style=\"color: #808000; text-decoration-color: #808000; font-weight: bold\">]</span><span style=\"color: #808000; text-decoration-color: #808000\"> instead. Please update your `conf.get*` call to use the new name</span>\n",
       "</pre>\n"
      ],
      "text/plain": [
       "\u001b[1;33m/home/ravikumar/miniconda3/envs/t20i/lib/python3.12/site-packages/airflow/\u001b[0m\u001b[1;33mconfiguration.py\u001b[0m\u001b[1;33m:\u001b[0m\u001b[1;33m859\u001b[0m\u001b[1;33m FutureWarning\u001b[0m\u001b[33m: section/key \u001b[0m\u001b[1;33m[\u001b[0m\u001b[33mcore/sql_alchemy_conn\u001b[0m\u001b[1;33m]\u001b[0m\u001b[33m has been deprecated, you should use\u001b[0m\u001b[1;33m[\u001b[0m\u001b[33mdatabase/sql_alchemy_conn\u001b[0m\u001b[1;33m]\u001b[0m\u001b[33m instead. Please update your `conf.get*` call to use the new name\u001b[0m\n"
      ]
     },
     "metadata": {},
     "output_type": "display_data"
    },
    {
     "name": "stdout",
     "output_type": "stream",
     "text": [
      "/usr/ravi/t20/data/1_rawData/t20s_csv2\n",
      "[\u001b[34m2024-11-24T13:51:33.734+0530\u001b[0m] {\u001b[34mbase.py:\u001b[0m84} INFO\u001b[0m - Retrieving connection 'webhdfs_default'\u001b[0m\n",
      "[\u001b[34m2024-11-24T13:51:33.737+0530\u001b[0m] {\u001b[34mwebhdfs.py:\u001b[0m82} INFO\u001b[0m - Trying to connect to 192.168.245.142:9870\u001b[0m\n",
      "[\u001b[34m2024-11-24T13:51:33.739+0530\u001b[0m] {\u001b[34mwebhdfs.py:\u001b[0m86} INFO\u001b[0m - Trying namenode 192.168.245.142\u001b[0m\n",
      "[\u001b[34m2024-11-24T13:51:33.741+0530\u001b[0m] {\u001b[34mclient.py:\u001b[0m192} INFO\u001b[0m - Instantiated <InsecureClient(url='http://192.168.245.142:9870/')>.\u001b[0m\n",
      "[\u001b[34m2024-11-24T13:51:33.744+0530\u001b[0m] {\u001b[34mclient.py:\u001b[0m320} INFO\u001b[0m - Fetching status for '/'.\u001b[0m\n",
      "[\u001b[34m2024-11-24T13:51:33.763+0530\u001b[0m] {\u001b[34mwebhdfs.py:\u001b[0m96} INFO\u001b[0m - Using namenode 192.168.245.142 for hook\u001b[0m\n",
      "[\u001b[34m2024-11-24T13:51:33.765+0530\u001b[0m] {\u001b[34mclient.py:\u001b[0m1116} INFO\u001b[0m - Listing '/usr/ravi/t20/data/1_rawData/t20s_csv2'.\u001b[0m\n"
     ]
    }
   ],
   "source": [
    "import os\n",
    "import sys\n",
    "\n",
    "sys.path.append(os.path.join(os.getcwd(), \"..\", \"..\", \"..\"))\n",
    "from configs import spark_config as config\n",
    "from utils import spark_utils as utils\n",
    "\n",
    "# Specify the directory where your CSV files are located\n",
    "directory = os.path.join(config.RAW_DATA_DIR, \"t20s_csv2\")\n",
    "print(directory)\n",
    "client = utils.get_hdfs_client()\n",
    "\n",
    "all_files = client.list(directory)\n",
    "info_files = [os.path.join(directory, file) for file in all_files if \"info\" in file]\n",
    "delivery_files = [\n",
    "    os.path.join(directory, file) for file in all_files if \"info\" not in file\n",
    "]\n",
    "\n",
    "matches = []\n",
    "deliveries = []\n",
    "# Print the list of CSV files\n",
    "for info_file in info_files:\n",
    "    matches.append(info_file.split(\"\\\\\")[-1])\n",
    "for delivery in delivery_files:\n",
    "    if \"_info\" not in delivery:\n",
    "        deliveries.append(delivery.split(\"\\\\\")[-1])"
   ]
  },
  {
   "cell_type": "code",
   "execution_count": 2,
   "metadata": {},
   "outputs": [
    {
     "name": "stdout",
     "output_type": "stream",
     "text": [
      "[\u001b[34m2024-11-24T13:51:33.970+0530\u001b[0m] {\u001b[34mspark_utils.py:\u001b[0m17} INFO\u001b[0m - Creating Spark session.\u001b[0m\n"
     ]
    },
    {
     "name": "stderr",
     "output_type": "stream",
     "text": [
      "your 131072x1 screen size is bogus. expect trouble\n",
      "24/11/24 13:51:37 WARN NativeCodeLoader: Unable to load native-hadoop library for your platform... using builtin-java classes where applicable\n",
      "24/11/24 13:51:41 WARN Utils: spark.executor.instances less than spark.dynamicAllocation.minExecutors is invalid, ignoring its setting, please update your configs.\n"
     ]
    },
    {
     "name": "stdout",
     "output_type": "stream",
     "text": [
      "[\u001b[34m2024-11-24T13:51:42.352+0530\u001b[0m] {\u001b[34mspark_utils.py:\u001b[0m37} INFO\u001b[0m - Spark session created successfully.\u001b[0m\n"
     ]
    },
    {
     "name": "stderr",
     "output_type": "stream",
     "text": [
      "[Stage 1:>                                                          (0 + 1) / 1]\r"
     ]
    },
    {
     "name": "stdout",
     "output_type": "stream",
     "text": [
      "+--------+-------+----------+--------------------+-------+----+------------+------------+-------------+-------------+-----------+------------+------+-----+-------+----+-------+-------+-----------+----------------+-----------------+----------------------+\n",
      "|match_id| season|start_date|               venue|innings|ball|batting_team|bowling_team|      striker|  non_striker|     bowler|runs_off_bat|extras|wides|noballs|byes|legbyes|penalty|wicket_type|player_dismissed|other_wicket_type|other_player_dismissed|\n",
      "+--------+-------+----------+--------------------+-------+----+------------+------------+-------------+-------------+-----------+------------+------+-----+-------+----+-------+-------+-----------+----------------+-----------------+----------------------+\n",
      "| 1306389|2021/22|2022-03-22|Al Amerat Cricket...|      1| 0.1|     Bahrain|Saudi Arabia|TI Gajanayake|    R Rodrigo|C Sewsunker|           0|     0| null|   null|null|   null|   null|       null|            null|             null|                  null|\n",
      "| 1306389|2021/22|2022-03-22|Al Amerat Cricket...|      1| 0.2|     Bahrain|Saudi Arabia|TI Gajanayake|    R Rodrigo|C Sewsunker|           0|     1|    1|   null|null|   null|   null|       null|            null|             null|                  null|\n",
      "| 1306389|2021/22|2022-03-22|Al Amerat Cricket...|      1| 0.3|     Bahrain|Saudi Arabia|TI Gajanayake|    R Rodrigo|C Sewsunker|           0|     1|    1|   null|null|   null|   null|       null|            null|             null|                  null|\n",
      "| 1306389|2021/22|2022-03-22|Al Amerat Cricket...|      1| 0.4|     Bahrain|Saudi Arabia|TI Gajanayake|    R Rodrigo|C Sewsunker|           0|     2|    2|   null|null|   null|   null|       null|            null|             null|                  null|\n",
      "| 1306389|2021/22|2022-03-22|Al Amerat Cricket...|      1| 0.5|     Bahrain|Saudi Arabia|    R Rodrigo|TI Gajanayake|C Sewsunker|           0|     0| null|   null|null|   null|   null|       null|            null|             null|                  null|\n",
      "+--------+-------+----------+--------------------+-------+----+------------+------------+-------------+-------------+-----------+------------+------+-----+-------+----+-------+-------+-----------+----------------+-----------------+----------------------+\n",
      "only showing top 5 rows\n",
      "\n"
     ]
    },
    {
     "name": "stderr",
     "output_type": "stream",
     "text": [
      "                                                                                \r"
     ]
    }
   ],
   "source": [
    "from pyspark.sql.types import (\n",
    "    StructType,\n",
    "    StructField,\n",
    "    IntegerType,\n",
    "    StringType,\n",
    "    FloatType,\n",
    ")\n",
    "\n",
    "spark = utils.create_spark_session(\n",
    "    \"deliveries\",\n",
    "    {\n",
    "        \"spark.executor.memory\": \"5g\",\n",
    "        \"spark.executor.cores\": \"6\",\n",
    "    },\n",
    ")\n",
    "\n",
    "\n",
    "# Define the schema for the deliveries data\n",
    "delivery_schema = StructType(\n",
    "    [\n",
    "        StructField(\"match_id\", IntegerType(), True),\n",
    "        StructField(\"season\", StringType(), True),\n",
    "        StructField(\"start_date\", StringType(), True),\n",
    "        StructField(\"venue\", StringType(), True),\n",
    "        StructField(\"innings\", IntegerType(), True),\n",
    "        StructField(\"ball\", FloatType(), True),\n",
    "        StructField(\"batting_team\", StringType(), True),\n",
    "        StructField(\"bowling_team\", StringType(), True),\n",
    "        StructField(\"striker\", StringType(), True),\n",
    "        StructField(\"non_striker\", StringType(), True),\n",
    "        StructField(\"bowler\", StringType(), True),\n",
    "        StructField(\"runs_off_bat\", IntegerType(), True),\n",
    "        StructField(\"extras\", IntegerType(), True),\n",
    "        StructField(\"wides\", IntegerType(), True),\n",
    "        StructField(\"noballs\", StringType(), True),\n",
    "        StructField(\"byes\", IntegerType(), True),\n",
    "        StructField(\"legbyes\", IntegerType(), True),\n",
    "        StructField(\"penalty\", StringType(), True),\n",
    "        StructField(\"wicket_type\", StringType(), True),\n",
    "        StructField(\"player_dismissed\", StringType(), True),\n",
    "        StructField(\"other_wicket_type\", StringType(), True),\n",
    "        StructField(\"other_player_dismissed\", StringType(), True),\n",
    "    ]\n",
    ")\n",
    "\n",
    "# Initialize an empty DataFrame with the schema\n",
    "deliveries_data = spark.read.csv(delivery_files, header=True, schema=delivery_schema)\n",
    "deliveries_data.show(5)"
   ]
  },
  {
   "cell_type": "code",
   "execution_count": 3,
   "metadata": {},
   "outputs": [
    {
     "name": "stderr",
     "output_type": "stream",
     "text": [
      "[Stage 2:=====================================================> (116 + 4) / 120]\r"
     ]
    },
    {
     "name": "stdout",
     "output_type": "stream",
     "text": [
      "+--------+------+----------+-----+-------+----+------------+------------+-------+-----------+------+------------+------+------+-------+------+-------+-------+-----------+----------------+-----------------+----------------------+\n",
      "|match_id|season|start_date|venue|innings|ball|batting_team|bowling_team|striker|non_striker|bowler|runs_off_bat|extras| wides|noballs|  byes|legbyes|penalty|wicket_type|player_dismissed|other_wicket_type|other_player_dismissed|\n",
      "+--------+------+----------+-----+-------+----+------------+------------+-------+-----------+------+------------+------+------+-------+------+-------+-------+-----------+----------------+-----------------+----------------------+\n",
      "|       0|     0|         0|    0|      0|   0|           0|           0|      0|          0|     0|           0|     0|829104| 860895|861878| 854592| 865627|     817721|          817721|           865640|                865640|\n",
      "+--------+------+----------+-----+-------+----+------------+------------+-------+-----------+------+------------+------+------+-------+------+-------+-------+-----------+----------------+-----------------+----------------------+\n",
      "\n"
     ]
    },
    {
     "name": "stderr",
     "output_type": "stream",
     "text": [
      "                                                                                \r"
     ]
    }
   ],
   "source": [
    "from pyspark.sql.functions import col, sum\n",
    "\n",
    "# Count the number of null values in each column\n",
    "null_counts = deliveries_data.select([sum(col(c).isNull().cast(\"int\")).alias(c) for c in deliveries_data.columns])\n",
    "null_counts.show()"
   ]
  },
  {
   "cell_type": "code",
   "execution_count": 4,
   "metadata": {},
   "outputs": [
    {
     "name": "stdout",
     "output_type": "stream",
     "text": [
      "+--------+-------+----------+--------------------+-------+----+------------+------------+-------------+-------------+-----------+------------+------+-----+-------+----+-------+-------+-----------+----------------+-----------------+----------------------+\n",
      "|match_id| season|start_date|               venue|innings|ball|batting_team|bowling_team|      striker|  non_striker|     bowler|runs_off_bat|extras|wides|noballs|byes|legbyes|penalty|wicket_type|player_dismissed|other_wicket_type|other_player_dismissed|\n",
      "+--------+-------+----------+--------------------+-------+----+------------+------------+-------------+-------------+-----------+------------+------+-----+-------+----+-------+-------+-----------+----------------+-----------------+----------------------+\n",
      "| 1306389|2021/22|2022-03-22|Al Amerat Cricket...|      1| 0.1|     Bahrain|Saudi Arabia|TI Gajanayake|    R Rodrigo|C Sewsunker|           0|     0|    0|   null|   0|      0|   null|       null|            null|             null|                  null|\n",
      "| 1306389|2021/22|2022-03-22|Al Amerat Cricket...|      1| 0.2|     Bahrain|Saudi Arabia|TI Gajanayake|    R Rodrigo|C Sewsunker|           0|     1|    1|   null|   0|      0|   null|       null|            null|             null|                  null|\n",
      "| 1306389|2021/22|2022-03-22|Al Amerat Cricket...|      1| 0.3|     Bahrain|Saudi Arabia|TI Gajanayake|    R Rodrigo|C Sewsunker|           0|     1|    1|   null|   0|      0|   null|       null|            null|             null|                  null|\n",
      "| 1306389|2021/22|2022-03-22|Al Amerat Cricket...|      1| 0.4|     Bahrain|Saudi Arabia|TI Gajanayake|    R Rodrigo|C Sewsunker|           0|     2|    2|   null|   0|      0|   null|       null|            null|             null|                  null|\n",
      "| 1306389|2021/22|2022-03-22|Al Amerat Cricket...|      1| 0.5|     Bahrain|Saudi Arabia|    R Rodrigo|TI Gajanayake|C Sewsunker|           0|     0|    0|   null|   0|      0|   null|       null|            null|             null|                  null|\n",
      "+--------+-------+----------+--------------------+-------+----+------------+------------+-------------+-------------+-----------+------------+------+-----+-------+----+-------+-------+-----------+----------------+-----------------+----------------------+\n",
      "only showing top 5 rows\n",
      "\n"
     ]
    }
   ],
   "source": [
    "deliveries_data = deliveries_data.fillna(0)\n",
    "deliveries_data.show(5)"
   ]
  },
  {
   "cell_type": "code",
   "execution_count": 5,
   "metadata": {},
   "outputs": [
    {
     "name": "stderr",
     "output_type": "stream",
     "text": [
      "[Stage 6:====================================================>  (114 + 6) / 120]\r"
     ]
    },
    {
     "name": "stdout",
     "output_type": "stream",
     "text": [
      "+--------+------+----------+-----+-------+----+------------+------------+-------+-----------+------+------------+------+-----+-------+----+-------+-------+-----------+----------------+-----------------+----------------------+\n",
      "|match_id|season|start_date|venue|innings|ball|batting_team|bowling_team|striker|non_striker|bowler|runs_off_bat|extras|wides|noballs|byes|legbyes|penalty|wicket_type|player_dismissed|other_wicket_type|other_player_dismissed|\n",
      "+--------+------+----------+-----+-------+----+------------+------------+-------+-----------+------+------------+------+-----+-------+----+-------+-------+-----------+----------------+-----------------+----------------------+\n",
      "|       0|     0|         0|    0|      0|   0|           0|           0|      0|          0|     0|           0|     0|    0| 860895|   0|      0| 865627|     817721|          817721|           865640|                865640|\n",
      "+--------+------+----------+-----+-------+----+------------+------------+-------+-----------+------+------------+------+-----+-------+----+-------+-------+-----------+----------------+-----------------+----------------------+\n",
      "\n"
     ]
    },
    {
     "name": "stderr",
     "output_type": "stream",
     "text": [
      "                                                                                \r"
     ]
    }
   ],
   "source": [
    "null_counts = deliveries_data.select([sum(col(c).isNull().cast(\"int\")).alias(c) for c in deliveries_data.columns])\n",
    "null_counts.show()"
   ]
  },
  {
   "cell_type": "code",
   "execution_count": 6,
   "metadata": {},
   "outputs": [
    {
     "name": "stdout",
     "output_type": "stream",
     "text": [
      "root\n",
      " |-- match_id: integer (nullable = true)\n",
      " |-- season: string (nullable = true)\n",
      " |-- start_date: string (nullable = true)\n",
      " |-- venue: string (nullable = true)\n",
      " |-- innings: integer (nullable = true)\n",
      " |-- ball: float (nullable = false)\n",
      " |-- batting_team: string (nullable = true)\n",
      " |-- bowling_team: string (nullable = true)\n",
      " |-- striker: string (nullable = true)\n",
      " |-- non_striker: string (nullable = true)\n",
      " |-- bowler: string (nullable = true)\n",
      " |-- runs_off_bat: integer (nullable = true)\n",
      " |-- extras: integer (nullable = true)\n",
      " |-- wides: integer (nullable = true)\n",
      " |-- noballs: string (nullable = true)\n",
      " |-- byes: integer (nullable = true)\n",
      " |-- legbyes: integer (nullable = true)\n",
      " |-- penalty: string (nullable = true)\n",
      " |-- wicket_type: string (nullable = true)\n",
      " |-- player_dismissed: string (nullable = true)\n",
      " |-- other_wicket_type: string (nullable = true)\n",
      " |-- other_player_dismissed: string (nullable = true)\n",
      "\n"
     ]
    }
   ],
   "source": [
    "deliveries_data.printSchema()"
   ]
  },
  {
   "cell_type": "code",
   "execution_count": 7,
   "metadata": {},
   "outputs": [
    {
     "name": "stdout",
     "output_type": "stream",
     "text": [
      "+--------+-------+----------+--------------------+-------+----+------------+------------+-------------+-------------+-----------+------------+------+-----+-------+----+-------+-------+-----------+----------------+-----------------+----------------------+\n",
      "|match_id| season|start_date|               venue|innings|ball|batting_team|bowling_team|      striker|  non_striker|     bowler|runs_off_bat|extras|wides|noballs|byes|legbyes|penalty|wicket_type|player_dismissed|other_wicket_type|other_player_dismissed|\n",
      "+--------+-------+----------+--------------------+-------+----+------------+------------+-------------+-------------+-----------+------------+------+-----+-------+----+-------+-------+-----------+----------------+-----------------+----------------------+\n",
      "| 1306389|2021/22|2022-03-22|Al Amerat Cricket...|      1| 0.1|     Bahrain|Saudi Arabia|TI Gajanayake|    R Rodrigo|C Sewsunker|           0|     0|    0|      0|   0|      0|      0|       null|            null|             null|                  null|\n",
      "| 1306389|2021/22|2022-03-22|Al Amerat Cricket...|      1| 0.2|     Bahrain|Saudi Arabia|TI Gajanayake|    R Rodrigo|C Sewsunker|           0|     1|    1|      0|   0|      0|      0|       null|            null|             null|                  null|\n",
      "| 1306389|2021/22|2022-03-22|Al Amerat Cricket...|      1| 0.3|     Bahrain|Saudi Arabia|TI Gajanayake|    R Rodrigo|C Sewsunker|           0|     1|    1|      0|   0|      0|      0|       null|            null|             null|                  null|\n",
      "| 1306389|2021/22|2022-03-22|Al Amerat Cricket...|      1| 0.4|     Bahrain|Saudi Arabia|TI Gajanayake|    R Rodrigo|C Sewsunker|           0|     2|    2|      0|   0|      0|      0|       null|            null|             null|                  null|\n",
      "| 1306389|2021/22|2022-03-22|Al Amerat Cricket...|      1| 0.5|     Bahrain|Saudi Arabia|    R Rodrigo|TI Gajanayake|C Sewsunker|           0|     0|    0|      0|   0|      0|      0|       null|            null|             null|                  null|\n",
      "+--------+-------+----------+--------------------+-------+----+------------+------------+-------------+-------------+-----------+------------+------+-----+-------+----+-------+-------+-----------+----------------+-----------------+----------------------+\n",
      "only showing top 5 rows\n",
      "\n"
     ]
    }
   ],
   "source": [
    "from pyspark.sql.functions import when\n",
    "\n",
    "deliveries_data = deliveries_data.withColumn('noballs', when(col('noballs').isNull(), '0').otherwise(col('noballs')).cast(IntegerType()))\n",
    "deliveries_data = deliveries_data.withColumn('penalty', when(col('penalty').isNull(), '0').otherwise(col('penalty')).cast(IntegerType()))\n",
    "deliveries_data.show(5)"
   ]
  },
  {
   "cell_type": "code",
   "execution_count": 8,
   "metadata": {},
   "outputs": [
    {
     "name": "stdout",
     "output_type": "stream",
     "text": [
      "+--------+-------+----------+--------------------+-------+----+------------+------------+-------------+-------------+-----------+------------+------+-----+-------+----+-------+-------+-----------+----------------+-----------------+----------------------+\n",
      "|match_id| season|start_date|               venue|innings|ball|batting_team|bowling_team|      striker|  non_striker|     bowler|runs_off_bat|extras|wides|noballs|byes|legbyes|penalty|wicket_type|player_dismissed|other_wicket_type|other_player_dismissed|\n",
      "+--------+-------+----------+--------------------+-------+----+------------+------------+-------------+-------------+-----------+------------+------+-----+-------+----+-------+-------+-----------+----------------+-----------------+----------------------+\n",
      "| 1306389|2021/22|2022-03-22|Al Amerat Cricket...|      1| 0.1|     Bahrain|Saudi Arabia|TI Gajanayake|    R Rodrigo|C Sewsunker|           0|     0|    0|      0|   0|      0|      0|          0|               0|                0|                     0|\n",
      "| 1306389|2021/22|2022-03-22|Al Amerat Cricket...|      1| 0.2|     Bahrain|Saudi Arabia|TI Gajanayake|    R Rodrigo|C Sewsunker|           0|     1|    1|      0|   0|      0|      0|          0|               0|                0|                     0|\n",
      "| 1306389|2021/22|2022-03-22|Al Amerat Cricket...|      1| 0.3|     Bahrain|Saudi Arabia|TI Gajanayake|    R Rodrigo|C Sewsunker|           0|     1|    1|      0|   0|      0|      0|          0|               0|                0|                     0|\n",
      "| 1306389|2021/22|2022-03-22|Al Amerat Cricket...|      1| 0.4|     Bahrain|Saudi Arabia|TI Gajanayake|    R Rodrigo|C Sewsunker|           0|     2|    2|      0|   0|      0|      0|          0|               0|                0|                     0|\n",
      "| 1306389|2021/22|2022-03-22|Al Amerat Cricket...|      1| 0.5|     Bahrain|Saudi Arabia|    R Rodrigo|TI Gajanayake|C Sewsunker|           0|     0|    0|      0|   0|      0|      0|          0|               0|                0|                     0|\n",
      "| 1306389|2021/22|2022-03-22|Al Amerat Cricket...|      1| 0.6|     Bahrain|Saudi Arabia|    R Rodrigo|TI Gajanayake|C Sewsunker|           0|     1|    1|      0|   0|      0|      0|          0|               0|                0|                     0|\n",
      "| 1306389|2021/22|2022-03-22|Al Amerat Cricket...|      1| 0.7|     Bahrain|Saudi Arabia|    R Rodrigo|TI Gajanayake|C Sewsunker|           0|     1|    1|      0|   0|      0|      0|          0|               0|                0|                     0|\n",
      "| 1306389|2021/22|2022-03-22|Al Amerat Cricket...|      1| 0.8|     Bahrain|Saudi Arabia|    R Rodrigo|TI Gajanayake|C Sewsunker|           1|     0|    0|      0|   0|      0|      0|          0|               0|                0|                     0|\n",
      "| 1306389|2021/22|2022-03-22|Al Amerat Cricket...|      1| 0.9|     Bahrain|Saudi Arabia|TI Gajanayake|    R Rodrigo|C Sewsunker|           1|     0|    0|      0|   0|      0|      0|          0|               0|                0|                     0|\n",
      "| 1306389|2021/22|2022-03-22|Al Amerat Cricket...|      1| 0.1|     Bahrain|Saudi Arabia|    R Rodrigo|TI Gajanayake|C Sewsunker|           4|     0|    0|      0|   0|      0|      0|          0|               0|                0|                     0|\n",
      "| 1306389|2021/22|2022-03-22|Al Amerat Cricket...|      1|0.11|     Bahrain|Saudi Arabia|    R Rodrigo|TI Gajanayake|C Sewsunker|           0|     1|    1|      0|   0|      0|      0|          0|               0|                0|                     0|\n",
      "| 1306389|2021/22|2022-03-22|Al Amerat Cricket...|      1|0.12|     Bahrain|Saudi Arabia|    R Rodrigo|TI Gajanayake|C Sewsunker|           2|     0|    0|      0|   0|      0|      0|          0|               0|                0|                     0|\n",
      "| 1306389|2021/22|2022-03-22|Al Amerat Cricket...|      1| 1.1|     Bahrain|Saudi Arabia|TI Gajanayake|    R Rodrigo| Maira Khan|           0|     1|    0|      1|   0|      0|      0|          0|               0|                0|                     0|\n",
      "| 1306389|2021/22|2022-03-22|Al Amerat Cricket...|      1| 1.2|     Bahrain|Saudi Arabia|TI Gajanayake|    R Rodrigo| Maira Khan|           4|     0|    0|      0|   0|      0|      0|          0|               0|                0|                     0|\n",
      "| 1306389|2021/22|2022-03-22|Al Amerat Cricket...|      1| 1.3|     Bahrain|Saudi Arabia|TI Gajanayake|    R Rodrigo| Maira Khan|           0|     1|    1|      0|   0|      0|      0|          0|               0|                0|                     0|\n",
      "| 1306389|2021/22|2022-03-22|Al Amerat Cricket...|      1| 1.4|     Bahrain|Saudi Arabia|TI Gajanayake|    R Rodrigo| Maira Khan|           0|     1|    1|      0|   0|      0|      0|          0|               0|                0|                     0|\n",
      "| 1306389|2021/22|2022-03-22|Al Amerat Cricket...|      1| 1.5|     Bahrain|Saudi Arabia|TI Gajanayake|    R Rodrigo| Maira Khan|           2|     0|    0|      0|   0|      0|      0|          0|               0|                0|                     0|\n",
      "| 1306389|2021/22|2022-03-22|Al Amerat Cricket...|      1| 1.6|     Bahrain|Saudi Arabia|TI Gajanayake|    R Rodrigo| Maira Khan|           0|     1|    1|      0|   0|      0|      0|          0|               0|                0|                     0|\n",
      "| 1306389|2021/22|2022-03-22|Al Amerat Cricket...|      1| 1.7|     Bahrain|Saudi Arabia|TI Gajanayake|    R Rodrigo| Maira Khan|           0|     0|    0|      0|   0|      0|      0|          0|               0|                0|                     0|\n",
      "| 1306389|2021/22|2022-03-22|Al Amerat Cricket...|      1| 1.8|     Bahrain|Saudi Arabia|TI Gajanayake|    R Rodrigo| Maira Khan|           1|     0|    0|      0|   0|      0|      0|          0|               0|                0|                     0|\n",
      "+--------+-------+----------+--------------------+-------+----+------------+------------+-------------+-------------+-----------+------------+------+-----+-------+----+-------+-------+-----------+----------------+-----------------+----------------------+\n",
      "only showing top 20 rows\n",
      "\n"
     ]
    }
   ],
   "source": [
    "from pyspark.sql.functions import when\n",
    "columns = ['wicket_type','player_dismissed','other_wicket_type','other_player_dismissed']\n",
    "for column in columns:\n",
    "    deliveries_data = deliveries_data.withColumn(column, when(col(column).isNull(), '0').otherwise('1').cast(IntegerType()))\n",
    "\n",
    "deliveries_data.show()"
   ]
  },
  {
   "cell_type": "code",
   "execution_count": 9,
   "metadata": {},
   "outputs": [
    {
     "name": "stdout",
     "output_type": "stream",
     "text": [
      "+--------+-------+-------+----+------------+------------+------------+------+-----+-------+----+-------+-------+-----------+----------------+-----------------+----------------------+\n",
      "|match_id| season|innings|ball|batting_team|bowling_team|runs_off_bat|extras|wides|noballs|byes|legbyes|penalty|wicket_type|player_dismissed|other_wicket_type|other_player_dismissed|\n",
      "+--------+-------+-------+----+------------+------------+------------+------+-----+-------+----+-------+-------+-----------+----------------+-----------------+----------------------+\n",
      "| 1306389|2021/22|      1| 0.1|     Bahrain|Saudi Arabia|           0|     0|    0|      0|   0|      0|      0|          0|               0|                0|                     0|\n",
      "| 1306389|2021/22|      1| 0.2|     Bahrain|Saudi Arabia|           0|     1|    1|      0|   0|      0|      0|          0|               0|                0|                     0|\n",
      "| 1306389|2021/22|      1| 0.3|     Bahrain|Saudi Arabia|           0|     1|    1|      0|   0|      0|      0|          0|               0|                0|                     0|\n",
      "| 1306389|2021/22|      1| 0.4|     Bahrain|Saudi Arabia|           0|     2|    2|      0|   0|      0|      0|          0|               0|                0|                     0|\n",
      "| 1306389|2021/22|      1| 0.5|     Bahrain|Saudi Arabia|           0|     0|    0|      0|   0|      0|      0|          0|               0|                0|                     0|\n",
      "+--------+-------+-------+----+------------+------------+------------+------+-----+-------+----+-------+-------+-----------+----------------+-----------------+----------------------+\n",
      "only showing top 5 rows\n",
      "\n"
     ]
    }
   ],
   "source": [
    "deliveries_data = deliveries_data.select('match_id','season','innings','ball','batting_team','bowling_team','runs_off_bat','extras','wides','noballs','byes','legbyes','penalty','wicket_type','player_dismissed','other_wicket_type','other_player_dismissed')\n",
    "deliveries_data.show(5)"
   ]
  },
  {
   "cell_type": "code",
   "execution_count": 10,
   "metadata": {},
   "outputs": [
    {
     "name": "stderr",
     "output_type": "stream",
     "text": [
      "                                                                                \r"
     ]
    }
   ],
   "source": [
    "# Save the DataFrame to a CSV file\n",
    "deliveries_data.write.csv(config.PROCESSED_DATA_DIR + 'deliveries.csv', header=True, mode='overwrite')\n",
    "spark.stop()"
   ]
  },
  {
   "cell_type": "code",
   "execution_count": null,
   "metadata": {},
   "outputs": [],
   "source": []
  }
 ],
 "metadata": {
  "kernelspec": {
   "display_name": "t20i",
   "language": "python",
   "name": "python3"
  },
  "language_info": {
   "codemirror_mode": {
    "name": "ipython",
    "version": 3
   },
   "file_extension": ".py",
   "mimetype": "text/x-python",
   "name": "python",
   "nbconvert_exporter": "python",
   "pygments_lexer": "ipython3",
   "version": "3.12.7"
  }
 },
 "nbformat": 4,
 "nbformat_minor": 2
}
