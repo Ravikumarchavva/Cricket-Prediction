{
 "cells": [
  {
   "cell_type": "code",
   "execution_count": 12,
   "metadata": {},
   "outputs": [
    {
     "name": "stdout",
     "output_type": "stream",
     "text": [
      "['match_id', 'innings', 'ball', 'runs', 'wickets', 'curr_score', 'curr_wickets', 'overs', 'run_rate', 'required_run_rate', 'target', 'won']\n",
      "['match_id', 'gender', 'Cumulative Won team1', 'Cumulative Lost team1', 'Cumulative Tied team1', 'Cumulative W/L team1', 'Cumulative AveRPW team1', 'Cumulative AveRPO team1', 'Cumulative Won team2', 'Cumulative Lost team2', 'Cumulative Tied team2', 'Cumulative W/L team2', 'Cumulative AveRPW team2', 'Cumulative AveRPO team2']\n",
      "['match_id', 'Cum Mat Total', 'Cum Runs Total', 'Cum SR', 'Cumulative Overs', 'Cumulative Bowling Runs', 'Cumulative Wkts', 'Cumulative Econ', 'Cumulative Dis', 'Cumulative Ct', 'Cumulative St', 'Cumulative D/I']\n",
      "shape: (1, 12)\n",
      "┌──────────┬─────────┬──────┬──────┬───┬──────────┬───────────────────┬────────┬─────┐\n",
      "│ match_id ┆ innings ┆ ball ┆ runs ┆ … ┆ run_rate ┆ required_run_rate ┆ target ┆ won │\n",
      "│ ---      ┆ ---     ┆ ---  ┆ ---  ┆   ┆ ---      ┆ ---               ┆ ---    ┆ --- │\n",
      "│ i64      ┆ i64     ┆ f64  ┆ i64  ┆   ┆ f64      ┆ f64               ┆ i64    ┆ i64 │\n",
      "╞══════════╪═════════╪══════╪══════╪═══╪══════════╪═══════════════════╪════════╪═════╡\n",
      "│ 754717   ┆ 1       ┆ 0.1  ┆ 0    ┆ … ┆ 0.0      ┆ 0.0               ┆ 0      ┆ 0   │\n",
      "└──────────┴─────────┴──────┴──────┴───┴──────────┴───────────────────┴────────┴─────┘ shape: (1, 14)\n",
      "┌──────────┬────────┬────────────┬────────────┬───┬────────────┬───────────┬───────────┬───────────┐\n",
      "│ match_id ┆ gender ┆ Cumulative ┆ Cumulative ┆ … ┆ Cumulative ┆ Cumulativ ┆ Cumulativ ┆ Cumulativ │\n",
      "│ ---      ┆ ---    ┆ Won team1  ┆ Lost team1 ┆   ┆ Tied team2 ┆ e W/L     ┆ e AveRPW  ┆ e AveRPO  │\n",
      "│ i64      ┆ i64    ┆ ---        ┆ ---        ┆   ┆ ---        ┆ team2     ┆ team2     ┆ team2     │\n",
      "│          ┆        ┆ i64        ┆ i64        ┆   ┆ i64        ┆ ---       ┆ ---       ┆ ---       │\n",
      "│          ┆        ┆            ┆            ┆   ┆            ┆ f64       ┆ f64       ┆ f64       │\n",
      "╞══════════╪════════╪════════════╪════════════╪═══╪════════════╪═══════════╪═══════════╪═══════════╡\n",
      "│ 211028   ┆ 0      ┆ 0          ┆ 0          ┆ … ┆ 0          ┆ 0.0       ┆ 42.8      ┆ 0.0       │\n",
      "└──────────┴────────┴────────────┴────────────┴───┴────────────┴───────────┴───────────┴───────────┘ shape: (1, 12)\n",
      "┌──────────┬────────────┬────────────┬────────┬───┬────────────┬───────────┬───────────┬───────────┐\n",
      "│ match_id ┆ Cum Mat    ┆ Cum Runs   ┆ Cum SR ┆ … ┆ Cumulative ┆ Cumulativ ┆ Cumulativ ┆ Cumulativ │\n",
      "│ ---      ┆ Total      ┆ Total      ┆ ---    ┆   ┆ Dis        ┆ e Ct      ┆ e St      ┆ e D/I     │\n",
      "│ i64      ┆ ---        ┆ ---        ┆ f64    ┆   ┆ ---        ┆ ---       ┆ ---       ┆ ---       │\n",
      "│          ┆ i64        ┆ i64        ┆        ┆   ┆ f64        ┆ f64       ┆ f64       ┆ f64       │\n",
      "╞══════════╪════════════╪════════════╪════════╪═══╪════════════╪═══════════╪═══════════╪═══════════╡\n",
      "│ 211028   ┆ 1          ┆ 1          ┆ 33.33  ┆ … ┆ 0.0        ┆ 0.0       ┆ 0.0       ┆ 0.0       │\n",
      "└──────────┴────────────┴────────────┴────────┴───┴────────────┴───────────┴───────────┴───────────┘\n"
     ]
    }
   ],
   "source": [
    "import os\n",
    "import sys\n",
    "sys.path.append(os.path.join(os.getcwd(),\"..\"))\n",
    "\n",
    "import model_utils\n",
    "\n",
    "import polars as pl\n",
    "# import data\n",
    "def load_data():\n",
    "    balltoball = pl.read_csv(os.path.join(os.path.join( '..',\"data\", \"filtered_data\" , \"balltoball.csv\")))\n",
    "    team_stats = pl.read_csv(os.path.join(os.path.join( '..',\"data\", \"filtered_data\" , \"team12_stats.csv\")))\n",
    "    players_stats = pl.read_csv(os.path.join(os.path.join( '..',\"data\", \"filtered_data\" , \"players_stats.csv\")))\n",
    "    return balltoball, team_stats, players_stats\n",
    "balltoball,team_stats,players_stats = load_data()\n",
    "print(balltoball.columns)\n",
    "print(team_stats.columns)\n",
    "print(players_stats.columns)\n",
    "print(balltoball.head(1),team_stats.head(1),players_stats.head(1))"
   ]
  },
  {
   "cell_type": "code",
   "execution_count": null,
   "metadata": {},
   "outputs": [],
   "source": [
    "def partition_data_with_keys(df, group_keys):\n",
    "    partitions = df.partition_by(group_keys)\n",
    "    keys = [tuple(partition.select(group_keys).unique().to_numpy()[0]) for partition in partitions]\n",
    "    partitions = [partition.drop(group_keys).to_numpy() for partition in partitions]\n",
    "    # partitions = [partition for partition in partitions]                  # for testing\n",
    "    return keys, partitions\n",
    "\n",
    "# Use the updated partition_data_with_keys function\n",
    "balltoball_keys, balltoball_partitions = partition_data_with_keys(balltoball, [\"match_id\"])\n",
    "team_stats_keys, team_stats_partitions = partition_data_with_keys(team_stats, [\"match_id\"])\n",
    "players_stats_keys, players_stats_partitions = partition_data_with_keys(players_stats, [\"match_id\"])\n",
    "\n",
    "# Align the partitions using common keys\n",
    "common_keys = set(balltoball_keys) & set(team_stats_keys) & set(players_stats_keys)\n",
    "\n",
    "balltoball_dict = dict(zip(balltoball_keys, balltoball_partitions))\n",
    "team_stats_dict = dict(zip(team_stats_keys, team_stats_partitions))\n",
    "players_stats_dict = dict(zip(players_stats_keys, players_stats_partitions))\n",
    "\n",
    "aligned_balltoball_partitions = []\n",
    "aligned_team_stats_partitions = []\n",
    "aligned_players_stats_partitions = []\n",
    "labels = []\n",
    "\n",
    "for key in common_keys:\n",
    "    balltoball_partition = balltoball_dict[key]\n",
    "    team_stats_partition = team_stats_dict[key]\n",
    "    players_stats_partition = players_stats_dict[key]\n",
    "\n",
    "    label = balltoball_partition[:, -1][0]\n",
    "    aligned_balltoball_partitions.append(balltoball_partition[:, :-1])\n",
    "    aligned_team_stats_partitions.append(team_stats_partition)\n",
    "    aligned_players_stats_partitions.append(players_stats_partition)\n",
    "    labels.append(label)\n",
    "\n",
    "import numpy as np\n",
    "labels = np.array(labels)"
   ]
  },
  {
   "cell_type": "code",
   "execution_count": 29,
   "metadata": {},
   "outputs": [
    {
     "name": "stdout",
     "output_type": "stream",
     "text": [
      "Team input shape: torch.Size([32, 14])\n",
      "Player input shape: torch.Size([32, 22, 12])\n",
      "Padded ball input shape: torch.Size([32, 256, 11])\n",
      "Mask shape: torch.Size([32, 256])\n",
      "Labels shape: torch.Size([32])\n"
     ]
    }
   ],
   "source": [
    "from sklearn.model_selection import train_test_split\n",
    "from torch.utils.data import DataLoader, Subset\n",
    "\n",
    "team_data = [team.to_numpy() if isinstance(team, pl.DataFrame) else team for team in aligned_team_stats_partitions]\n",
    "player_data = [players.to_numpy() if isinstance(players, pl.DataFrame) else players for players in aligned_players_stats_partitions]\n",
    "ball_data = [ball.to_numpy() if isinstance(ball, pl.DataFrame) else ball for ball in aligned_balltoball_partitions]\n",
    "\n",
    "train_indices, val_indices = train_test_split(np.arange(len(labels)), test_size=0.2, random_state=42)\n",
    "val_indices, test_indices = train_test_split(val_indices, test_size=0.5, random_state=42)\n",
    "\n",
    "dataset = model_utils.CricketDataset(\n",
    "    team_data,\n",
    "    player_data,\n",
    "    ball_data,\n",
    "    labels\n",
    ")\n",
    "\n",
    "train_dataset = Subset(dataset, train_indices)\n",
    "val_dataset = Subset(dataset, val_indices)\n",
    "test_dataset = Subset(dataset, test_indices)\n",
    "\n",
    "\n",
    "train_dataloader = DataLoader(train_dataset, batch_size=32, shuffle=True, collate_fn=model_utils.collate_fn_with_padding)\n",
    "val_dataloader = DataLoader(val_dataset, batch_size=32, shuffle=True, collate_fn=model_utils.collate_fn_with_padding)\n",
    "test_dataloader = DataLoader(test_dataset, batch_size=32, shuffle=False, collate_fn=model_utils.collate_fn_with_padding)\n",
    "\n",
    "for team_input, player_input, ball_input, labels, mask in train_dataloader:\n",
    "    print(f\"Team input shape: {team_input.shape}\")  # [batch_size, team_feature_dim]\n",
    "    print(f\"Player input shape: {player_input.shape}\")  # [batch_size, player_feature_dim]\n",
    "    print(f\"Padded ball input shape: {ball_input.shape}\")  # [batch_size, max_seq_len, ball_feature_dim]\n",
    "    print(f\"Mask shape: {mask.shape}\")  # [batch_size, max_seq_len]\n",
    "    print(f\"Labels shape: {labels.shape}\")  # [batch_size]\n",
    "    break"
   ]
  },
  {
   "cell_type": "code",
   "execution_count": 15,
   "metadata": {},
   "outputs": [],
   "source": [
    "import pickle\n",
    "with open(os.path.join( '..',\"data\", \"pytorch_data\" , \"train_dataloader.pkl\"), \"wb\") as f:\n",
    "    pickle.dump(train_dataloader, f)\n",
    "\n",
    "with open(os.path.join( '..',\"data\", \"pytorch_data\" , \"val_dataloader.pkl\"), \"wb\") as f:\n",
    "    pickle.dump(val_dataloader, f)\n",
    "\n",
    "with open(os.path.join( '..',\"data\", \"pytorch_data\" , \"test_dataloader.pkl\"), \"wb\") as f:\n",
    "    pickle.dump(test_dataloader, f)"
   ]
  },
  {
   "cell_type": "code",
   "execution_count": 16,
   "metadata": {},
   "outputs": [],
   "source": [
    "train_dataloader = pickle.load(open(os.path.join( '..',\"data\", \"pytorch_data\" , \"train_dataloader.pkl\"), \"rb\"))\n",
    "val_dataloader = pickle.load(open(os.path.join( '..',\"data\", \"pytorch_data\" , \"val_dataloader.pkl\"), \"rb\"))\n",
    "test_dataloader = pickle.load(open(os.path.join( '..',\"data\", \"pytorch_data\" , \"test_dataloader.pkl\"), \"rb\"))"
   ]
  },
  {
   "cell_type": "code",
   "execution_count": 17,
   "metadata": {},
   "outputs": [
    {
     "name": "stdout",
     "output_type": "stream",
     "text": [
      "26\n"
     ]
    }
   ],
   "source": [
    "j=0\n",
    "for i in train_dataloader:\n",
    "    j+=1\n",
    "print(j)"
   ]
  },
  {
   "cell_type": "code",
   "execution_count": null,
   "metadata": {},
   "outputs": [
    {
     "name": "stdout",
     "output_type": "stream",
     "text": [
      "(1, 14) (22, 12) (258, 11)\n"
     ]
    },
    {
     "data": {
      "text/html": [
       "<div><style>\n",
       ".dataframe > thead > tr,\n",
       ".dataframe > tbody > tr {\n",
       "  text-align: right;\n",
       "  white-space: pre-wrap;\n",
       "}\n",
       "</style>\n",
       "<small>shape: (1, 14)</small><table border=\"1\" class=\"dataframe\"><thead><tr><th>match_id</th><th>gender</th><th>Cumulative Won team1</th><th>Cumulative Lost team1</th><th>Cumulative Tied team1</th><th>Cumulative W/L team1</th><th>Cumulative AveRPW team1</th><th>Cumulative AveRPO team1</th><th>Cumulative Won team2</th><th>Cumulative Lost team2</th><th>Cumulative Tied team2</th><th>Cumulative W/L team2</th><th>Cumulative AveRPW team2</th><th>Cumulative AveRPO team2</th></tr><tr><td>f32</td><td>f32</td><td>f32</td><td>f32</td><td>f32</td><td>f32</td><td>f32</td><td>f32</td><td>f32</td><td>f32</td><td>f32</td><td>f32</td><td>f32</td><td>f32</td></tr></thead><tbody><tr><td>533289.0</td><td>0.0</td><td>24.0</td><td>17.0</td><td>0.0</td><td>1.41</td><td>23.5</td><td>7.67</td><td>16.0</td><td>20.0</td><td>2.0</td><td>0.8</td><td>22.99</td><td>7.66</td></tr></tbody></table></div>"
      ],
      "text/plain": [
       "shape: (1, 14)\n",
       "┌──────────┬────────┬────────────┬────────────┬───┬────────────┬───────────┬───────────┬───────────┐\n",
       "│ match_id ┆ gender ┆ Cumulative ┆ Cumulative ┆ … ┆ Cumulative ┆ Cumulativ ┆ Cumulativ ┆ Cumulativ │\n",
       "│ ---      ┆ ---    ┆ Won team1  ┆ Lost team1 ┆   ┆ Tied team2 ┆ e W/L     ┆ e AveRPW  ┆ e AveRPO  │\n",
       "│ f32      ┆ f32    ┆ ---        ┆ ---        ┆   ┆ ---        ┆ team2     ┆ team2     ┆ team2     │\n",
       "│          ┆        ┆ f32        ┆ f32        ┆   ┆ f32        ┆ ---       ┆ ---       ┆ ---       │\n",
       "│          ┆        ┆            ┆            ┆   ┆            ┆ f32       ┆ f32       ┆ f32       │\n",
       "╞══════════╪════════╪════════════╪════════════╪═══╪════════════╪═══════════╪═══════════╪═══════════╡\n",
       "│ 533289.0 ┆ 0.0    ┆ 24.0       ┆ 17.0       ┆ … ┆ 2.0        ┆ 0.8       ┆ 22.99     ┆ 7.66      │\n",
       "└──────────┴────────┴────────────┴────────────┴───┴────────────┴───────────┴───────────┴───────────┘"
      ]
     },
     "execution_count": 30,
     "metadata": {},
     "output_type": "execute_result"
    }
   ],
   "source": [
    "for i in train_dataloader:\n",
    "    j = np.random.randint(32)\n",
    "    data0 = np.array(i[0][j]).reshape(1,-1)\n",
    "    data1 = np.array(i[1][j])\n",
    "    data2 = np.array(i[2][j])\n",
    "    print(data0.shape, data1.shape, data2.shape)\n",
    "    # team0 = pl.DataFrame(data0,schema=team_stats.columns)\n",
    "    # players1 = pl.DataFrame(data1,schema=players_stats.columns)\n",
    "    # balltoball2 = pl.DataFrame(data2,schema=balltoball.columns[:-1])\n",
    "    team0 = pl.DataFrame(data0,schema=team_stats.columns[1:])\n",
    "    players1 = pl.DataFrame(data1,schema=players_stats.columns[1:])\n",
    "    balltoball2 = pl.DataFrame(data2,schema=balltoball.columns[1:-1])\n",
    "    break\n",
    "team0"
   ]
  },
  {
   "cell_type": "code",
   "execution_count": 31,
   "metadata": {},
   "outputs": [
    {
     "data": {
      "text/html": [
       "<div><style>\n",
       ".dataframe > thead > tr,\n",
       ".dataframe > tbody > tr {\n",
       "  text-align: right;\n",
       "  white-space: pre-wrap;\n",
       "}\n",
       "</style>\n",
       "<small>shape: (22, 12)</small><table border=\"1\" class=\"dataframe\"><thead><tr><th>match_id</th><th>Cum Mat Total</th><th>Cum Runs Total</th><th>Cum SR</th><th>Cumulative Overs</th><th>Cumulative Bowling Runs</th><th>Cumulative Wkts</th><th>Cumulative Econ</th><th>Cumulative Dis</th><th>Cumulative Ct</th><th>Cumulative St</th><th>Cumulative D/I</th></tr><tr><td>f32</td><td>f32</td><td>f32</td><td>f32</td><td>f32</td><td>f32</td><td>f32</td><td>f32</td><td>f32</td><td>f32</td><td>f32</td><td>f32</td></tr></thead><tbody><tr><td>533289.0</td><td>37.0</td><td>981.0</td><td>134.350006</td><td>1.0</td><td>8.0</td><td>0.0</td><td>8.0</td><td>11.0</td><td>11.0</td><td>0.0</td><td>0.3</td></tr><tr><td>533289.0</td><td>38.0</td><td>917.0</td><td>114.610001</td><td>24.6</td><td>185.0</td><td>5.0</td><td>8.06</td><td>20.0</td><td>18.0</td><td>2.0</td><td>0.53</td></tr><tr><td>533289.0</td><td>35.0</td><td>910.0</td><td>117.089996</td><td>0.0</td><td>0.0</td><td>0.0</td><td>0.0</td><td>28.0</td><td>17.0</td><td>11.0</td><td>0.8</td></tr><tr><td>533289.0</td><td>28.0</td><td>363.0</td><td>123.669998</td><td>56.099998</td><td>386.0</td><td>17.0</td><td>6.78</td><td>9.0</td><td>9.0</td><td>0.0</td><td>0.32</td></tr><tr><td>533289.0</td><td>4.0</td><td>41.0</td><td>111.400002</td><td>6.0</td><td>36.0</td><td>1.0</td><td>6.13</td><td>1.0</td><td>1.0</td><td>0.0</td><td>0.25</td></tr><tr><td>&hellip;</td><td>&hellip;</td><td>&hellip;</td><td>&hellip;</td><td>&hellip;</td><td>&hellip;</td><td>&hellip;</td><td>&hellip;</td><td>&hellip;</td><td>&hellip;</td><td>&hellip;</td><td>&hellip;</td></tr><tr><td>533289.0</td><td>29.0</td><td>184.0</td><td>111.360001</td><td>83.0</td><td>542.0</td><td>31.0</td><td>6.56</td><td>14.0</td><td>14.0</td><td>0.0</td><td>0.48</td></tr><tr><td>533289.0</td><td>26.0</td><td>229.0</td><td>120.790001</td><td>0.0</td><td>0.0</td><td>0.0</td><td>0.0</td><td>26.0</td><td>21.0</td><td>5.0</td><td>1.0</td></tr><tr><td>533289.0</td><td>5.0</td><td>2.0</td><td>50.0</td><td>20.0</td><td>128.0</td><td>7.0</td><td>6.4</td><td>0.0</td><td>0.0</td><td>0.0</td><td>0.0</td></tr><tr><td>533289.0</td><td>12.0</td><td>11.0</td><td>33.330002</td><td>45.5</td><td>408.0</td><td>16.0</td><td>9.0</td><td>0.0</td><td>0.0</td><td>0.0</td><td>0.0</td></tr><tr><td>533289.0</td><td>17.0</td><td>10.0</td><td>81.25</td><td>52.599998</td><td>434.0</td><td>14.0</td><td>8.28</td><td>5.0</td><td>5.0</td><td>0.0</td><td>0.29</td></tr></tbody></table></div>"
      ],
      "text/plain": [
       "shape: (22, 12)\n",
       "┌──────────┬───────────┬───────────┬───────────┬───┬───────────┬───────────┬───────────┬───────────┐\n",
       "│ match_id ┆ Cum Mat   ┆ Cum Runs  ┆ Cum SR    ┆ … ┆ Cumulativ ┆ Cumulativ ┆ Cumulativ ┆ Cumulativ │\n",
       "│ ---      ┆ Total     ┆ Total     ┆ ---       ┆   ┆ e Dis     ┆ e Ct      ┆ e St      ┆ e D/I     │\n",
       "│ f32      ┆ ---       ┆ ---       ┆ f32       ┆   ┆ ---       ┆ ---       ┆ ---       ┆ ---       │\n",
       "│          ┆ f32       ┆ f32       ┆           ┆   ┆ f32       ┆ f32       ┆ f32       ┆ f32       │\n",
       "╞══════════╪═══════════╪═══════════╪═══════════╪═══╪═══════════╪═══════════╪═══════════╪═══════════╡\n",
       "│ 533289.0 ┆ 37.0      ┆ 981.0     ┆ 134.35000 ┆ … ┆ 11.0      ┆ 11.0      ┆ 0.0       ┆ 0.3       │\n",
       "│          ┆           ┆           ┆ 6         ┆   ┆           ┆           ┆           ┆           │\n",
       "│ 533289.0 ┆ 38.0      ┆ 917.0     ┆ 114.61000 ┆ … ┆ 20.0      ┆ 18.0      ┆ 2.0       ┆ 0.53      │\n",
       "│          ┆           ┆           ┆ 1         ┆   ┆           ┆           ┆           ┆           │\n",
       "│ 533289.0 ┆ 35.0      ┆ 910.0     ┆ 117.08999 ┆ … ┆ 28.0      ┆ 17.0      ┆ 11.0      ┆ 0.8       │\n",
       "│          ┆           ┆           ┆ 6         ┆   ┆           ┆           ┆           ┆           │\n",
       "│ 533289.0 ┆ 28.0      ┆ 363.0     ┆ 123.66999 ┆ … ┆ 9.0       ┆ 9.0       ┆ 0.0       ┆ 0.32      │\n",
       "│          ┆           ┆           ┆ 8         ┆   ┆           ┆           ┆           ┆           │\n",
       "│ 533289.0 ┆ 4.0       ┆ 41.0      ┆ 111.40000 ┆ … ┆ 1.0       ┆ 1.0       ┆ 0.0       ┆ 0.25      │\n",
       "│          ┆           ┆           ┆ 2         ┆   ┆           ┆           ┆           ┆           │\n",
       "│ …        ┆ …         ┆ …         ┆ …         ┆ … ┆ …         ┆ …         ┆ …         ┆ …         │\n",
       "│ 533289.0 ┆ 29.0      ┆ 184.0     ┆ 111.36000 ┆ … ┆ 14.0      ┆ 14.0      ┆ 0.0       ┆ 0.48      │\n",
       "│          ┆           ┆           ┆ 1         ┆   ┆           ┆           ┆           ┆           │\n",
       "│ 533289.0 ┆ 26.0      ┆ 229.0     ┆ 120.79000 ┆ … ┆ 26.0      ┆ 21.0      ┆ 5.0       ┆ 1.0       │\n",
       "│          ┆           ┆           ┆ 1         ┆   ┆           ┆           ┆           ┆           │\n",
       "│ 533289.0 ┆ 5.0       ┆ 2.0       ┆ 50.0      ┆ … ┆ 0.0       ┆ 0.0       ┆ 0.0       ┆ 0.0       │\n",
       "│ 533289.0 ┆ 12.0      ┆ 11.0      ┆ 33.330002 ┆ … ┆ 0.0       ┆ 0.0       ┆ 0.0       ┆ 0.0       │\n",
       "│ 533289.0 ┆ 17.0      ┆ 10.0      ┆ 81.25     ┆ … ┆ 5.0       ┆ 5.0       ┆ 0.0       ┆ 0.29      │\n",
       "└──────────┴───────────┴───────────┴───────────┴───┴───────────┴───────────┴───────────┴───────────┘"
      ]
     },
     "execution_count": 31,
     "metadata": {},
     "output_type": "execute_result"
    }
   ],
   "source": [
    "players1"
   ]
  },
  {
   "cell_type": "code",
   "execution_count": 32,
   "metadata": {},
   "outputs": [
    {
     "data": {
      "text/html": [
       "<div><style>\n",
       ".dataframe > thead > tr,\n",
       ".dataframe > tbody > tr {\n",
       "  text-align: right;\n",
       "  white-space: pre-wrap;\n",
       "}\n",
       "</style>\n",
       "<small>shape: (258, 11)</small><table border=\"1\" class=\"dataframe\"><thead><tr><th>match_id</th><th>innings</th><th>ball</th><th>runs</th><th>wickets</th><th>curr_score</th><th>curr_wickets</th><th>overs</th><th>run_rate</th><th>required_run_rate</th><th>target</th></tr><tr><td>f32</td><td>f32</td><td>f32</td><td>f32</td><td>f32</td><td>f32</td><td>f32</td><td>f32</td><td>f32</td><td>f32</td><td>f32</td></tr></thead><tbody><tr><td>533289.0</td><td>1.0</td><td>0.1</td><td>0.0</td><td>0.0</td><td>0.0</td><td>0.0</td><td>0.0</td><td>0.0</td><td>0.0</td><td>0.0</td></tr><tr><td>533289.0</td><td>1.0</td><td>0.2</td><td>0.0</td><td>0.0</td><td>0.0</td><td>0.0</td><td>0.0</td><td>0.0</td><td>0.0</td><td>0.0</td></tr><tr><td>533289.0</td><td>1.0</td><td>0.3</td><td>0.0</td><td>0.0</td><td>0.0</td><td>0.0</td><td>0.0</td><td>0.0</td><td>0.0</td><td>0.0</td></tr><tr><td>533289.0</td><td>1.0</td><td>0.4</td><td>1.0</td><td>0.0</td><td>1.0</td><td>0.0</td><td>0.0</td><td>0.0</td><td>0.0</td><td>0.0</td></tr><tr><td>533289.0</td><td>1.0</td><td>0.5</td><td>1.0</td><td>0.0</td><td>2.0</td><td>0.0</td><td>0.0</td><td>0.0</td><td>0.0</td><td>0.0</td></tr><tr><td>&hellip;</td><td>&hellip;</td><td>&hellip;</td><td>&hellip;</td><td>&hellip;</td><td>&hellip;</td><td>&hellip;</td><td>&hellip;</td><td>&hellip;</td><td>&hellip;</td><td>&hellip;</td></tr><tr><td>0.0</td><td>0.0</td><td>0.0</td><td>0.0</td><td>0.0</td><td>0.0</td><td>0.0</td><td>0.0</td><td>0.0</td><td>0.0</td><td>0.0</td></tr><tr><td>0.0</td><td>0.0</td><td>0.0</td><td>0.0</td><td>0.0</td><td>0.0</td><td>0.0</td><td>0.0</td><td>0.0</td><td>0.0</td><td>0.0</td></tr><tr><td>0.0</td><td>0.0</td><td>0.0</td><td>0.0</td><td>0.0</td><td>0.0</td><td>0.0</td><td>0.0</td><td>0.0</td><td>0.0</td><td>0.0</td></tr><tr><td>0.0</td><td>0.0</td><td>0.0</td><td>0.0</td><td>0.0</td><td>0.0</td><td>0.0</td><td>0.0</td><td>0.0</td><td>0.0</td><td>0.0</td></tr><tr><td>0.0</td><td>0.0</td><td>0.0</td><td>0.0</td><td>0.0</td><td>0.0</td><td>0.0</td><td>0.0</td><td>0.0</td><td>0.0</td><td>0.0</td></tr></tbody></table></div>"
      ],
      "text/plain": [
       "shape: (258, 11)\n",
       "┌──────────┬─────────┬──────┬──────┬───┬───────┬──────────┬───────────────────┬────────┐\n",
       "│ match_id ┆ innings ┆ ball ┆ runs ┆ … ┆ overs ┆ run_rate ┆ required_run_rate ┆ target │\n",
       "│ ---      ┆ ---     ┆ ---  ┆ ---  ┆   ┆ ---   ┆ ---      ┆ ---               ┆ ---    │\n",
       "│ f32      ┆ f32     ┆ f32  ┆ f32  ┆   ┆ f32   ┆ f32      ┆ f32               ┆ f32    │\n",
       "╞══════════╪═════════╪══════╪══════╪═══╪═══════╪══════════╪═══════════════════╪════════╡\n",
       "│ 533289.0 ┆ 1.0     ┆ 0.1  ┆ 0.0  ┆ … ┆ 0.0   ┆ 0.0      ┆ 0.0               ┆ 0.0    │\n",
       "│ 533289.0 ┆ 1.0     ┆ 0.2  ┆ 0.0  ┆ … ┆ 0.0   ┆ 0.0      ┆ 0.0               ┆ 0.0    │\n",
       "│ 533289.0 ┆ 1.0     ┆ 0.3  ┆ 0.0  ┆ … ┆ 0.0   ┆ 0.0      ┆ 0.0               ┆ 0.0    │\n",
       "│ 533289.0 ┆ 1.0     ┆ 0.4  ┆ 1.0  ┆ … ┆ 0.0   ┆ 0.0      ┆ 0.0               ┆ 0.0    │\n",
       "│ 533289.0 ┆ 1.0     ┆ 0.5  ┆ 1.0  ┆ … ┆ 0.0   ┆ 0.0      ┆ 0.0               ┆ 0.0    │\n",
       "│ …        ┆ …       ┆ …    ┆ …    ┆ … ┆ …     ┆ …        ┆ …                 ┆ …      │\n",
       "│ 0.0      ┆ 0.0     ┆ 0.0  ┆ 0.0  ┆ … ┆ 0.0   ┆ 0.0      ┆ 0.0               ┆ 0.0    │\n",
       "│ 0.0      ┆ 0.0     ┆ 0.0  ┆ 0.0  ┆ … ┆ 0.0   ┆ 0.0      ┆ 0.0               ┆ 0.0    │\n",
       "│ 0.0      ┆ 0.0     ┆ 0.0  ┆ 0.0  ┆ … ┆ 0.0   ┆ 0.0      ┆ 0.0               ┆ 0.0    │\n",
       "│ 0.0      ┆ 0.0     ┆ 0.0  ┆ 0.0  ┆ … ┆ 0.0   ┆ 0.0      ┆ 0.0               ┆ 0.0    │\n",
       "│ 0.0      ┆ 0.0     ┆ 0.0  ┆ 0.0  ┆ … ┆ 0.0   ┆ 0.0      ┆ 0.0               ┆ 0.0    │\n",
       "└──────────┴─────────┴──────┴──────┴───┴───────┴──────────┴───────────────────┴────────┘"
      ]
     },
     "execution_count": 32,
     "metadata": {},
     "output_type": "execute_result"
    }
   ],
   "source": [
    "balltoball2"
   ]
  },
  {
   "cell_type": "code",
   "execution_count": null,
   "metadata": {},
   "outputs": [],
   "source": []
  }
 ],
 "metadata": {
  "kernelspec": {
   "display_name": "t20i",
   "language": "python",
   "name": "python3"
  },
  "language_info": {
   "codemirror_mode": {
    "name": "ipython",
    "version": 3
   },
   "file_extension": ".py",
   "mimetype": "text/x-python",
   "name": "python",
   "nbconvert_exporter": "python",
   "pygments_lexer": "ipython3",
   "version": "3.12.7"
  }
 },
 "nbformat": 4,
 "nbformat_minor": 2
}
