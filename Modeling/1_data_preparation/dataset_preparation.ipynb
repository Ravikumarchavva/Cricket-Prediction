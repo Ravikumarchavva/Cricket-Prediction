{
 "cells": [
  {
   "cell_type": "code",
   "execution_count": 22,
   "metadata": {},
   "outputs": [
    {
     "name": "stdout",
     "output_type": "stream",
     "text": [
      "['match_id', 'flip', 'innings', 'ball', 'runs', 'wickets', 'overs', 'run_rate', 'curr_score', 'curr_wickets', 'target', 'won']\n",
      "['match_id', 'flip', 'gender', 'Cumulative Won team1', 'Cumulative Lost team1', 'Cumulative Tied team1', 'Cumulative W/L team1', 'Cumulative AveRPW team1', 'Cumulative AveRPO team1', 'Cumulative Won team2', 'Cumulative Lost team2', 'Cumulative Tied team2', 'Cumulative W/L team2', 'Cumulative AveRPW team2', 'Cumulative AveRPO team2']\n",
      "['match_id', 'flip', 'Cum Mat Total', 'Cum Runs Total', 'Cum SR', 'Cumulative Overs', 'Cumulative Bowling Runs', 'Cumulative Wkts', 'Cumulative Econ', 'Cumulative Dis', 'Cumulative Ct', 'Cumulative St', 'Cumulative D/I']\n",
      "shape: (1, 12)\n",
      "┌──────────┬──────┬─────────┬──────┬───┬────────────┬──────────────┬────────┬─────┐\n",
      "│ match_id ┆ flip ┆ innings ┆ ball ┆ … ┆ curr_score ┆ curr_wickets ┆ target ┆ won │\n",
      "│ ---      ┆ ---  ┆ ---     ┆ ---  ┆   ┆ ---        ┆ ---          ┆ ---    ┆ --- │\n",
      "│ i64      ┆ i64  ┆ i64     ┆ f64  ┆   ┆ i64        ┆ i64          ┆ i64    ┆ i64 │\n",
      "╞══════════╪══════╪═════════╪══════╪═══╪════════════╪══════════════╪════════╪═════╡\n",
      "│ 226374   ┆ 0    ┆ 1       ┆ 0.1  ┆ … ┆ 0          ┆ 0            ┆ 0      ┆ 1   │\n",
      "└──────────┴──────┴─────────┴──────┴───┴────────────┴──────────────┴────────┴─────┘ shape: (1, 15)\n",
      "┌──────────┬──────┬────────┬─────────────┬───┬─────────────┬─────────────┬────────────┬────────────┐\n",
      "│ match_id ┆ flip ┆ gender ┆ Cumulative  ┆ … ┆ Cumulative  ┆ Cumulative  ┆ Cumulative ┆ Cumulative │\n",
      "│ ---      ┆ ---  ┆ ---    ┆ Won team1   ┆   ┆ Tied team2  ┆ W/L team2   ┆ AveRPW     ┆ AveRPO     │\n",
      "│ i64      ┆ i64  ┆ i64    ┆ ---         ┆   ┆ ---         ┆ ---         ┆ team2      ┆ team2      │\n",
      "│          ┆      ┆        ┆ i64         ┆   ┆ i64         ┆ f64         ┆ ---        ┆ ---        │\n",
      "│          ┆      ┆        ┆             ┆   ┆             ┆             ┆ f64        ┆ f64        │\n",
      "╞══════════╪══════╪════════╪═════════════╪═══╪═════════════╪═════════════╪════════════╪════════════╡\n",
      "│ 211028   ┆ 0    ┆ 0      ┆ 0           ┆ … ┆ 0           ┆ 0.0         ┆ 42.8       ┆ 0.0        │\n",
      "└──────────┴──────┴────────┴─────────────┴───┴─────────────┴─────────────┴────────────┴────────────┘ shape: (1, 13)\n",
      "┌──────────┬──────┬────────────┬────────────┬───┬────────────┬────────────┬────────────┬───────────┐\n",
      "│ match_id ┆ flip ┆ Cum Mat    ┆ Cum Runs   ┆ … ┆ Cumulative ┆ Cumulative ┆ Cumulative ┆ Cumulativ │\n",
      "│ ---      ┆ ---  ┆ Total      ┆ Total      ┆   ┆ Dis        ┆ Ct         ┆ St         ┆ e D/I     │\n",
      "│ i64      ┆ i64  ┆ ---        ┆ ---        ┆   ┆ ---        ┆ ---        ┆ ---        ┆ ---       │\n",
      "│          ┆      ┆ i64        ┆ i64        ┆   ┆ f64        ┆ f64        ┆ f64        ┆ f64       │\n",
      "╞══════════╪══════╪════════════╪════════════╪═══╪════════════╪════════════╪════════════╪═══════════╡\n",
      "│ 211028   ┆ 0    ┆ 1          ┆ 32         ┆ … ┆ 0.0        ┆ 0.0        ┆ 0.0        ┆ 0.0       │\n",
      "└──────────┴──────┴────────────┴────────────┴───┴────────────┴────────────┴────────────┴───────────┘\n"
     ]
    }
   ],
   "source": [
    "import os\n",
    "import sys\n",
    "sys.path.append(os.path.join(os.getcwd(),\"..\"))\n",
    "\n",
    "import model_utils\n",
    "\n",
    "import polars as pl\n",
    "# import data\n",
    "def load_data():\n",
    "    balltoball = pl.read_csv(os.path.join(os.path.join( '..',\"data\", \"filtered_data\" , \"balltoball.csv\")))\n",
    "    team_stats = pl.read_csv(os.path.join(os.path.join( '..',\"data\", \"filtered_data\" , \"team12_stats.csv\")))\n",
    "    players_stats = pl.read_csv(os.path.join(os.path.join( '..',\"data\", \"filtered_data\" , \"players_stats.csv\")))\n",
    "    return balltoball, team_stats, players_stats\n",
    "balltoball,team_stats,players_stats = load_data()\n",
    "print(balltoball.columns)\n",
    "print(team_stats.columns)\n",
    "print(players_stats.columns)\n",
    "print(balltoball.head(1),team_stats.head(1),players_stats.head(1))"
   ]
  },
  {
   "cell_type": "code",
   "execution_count": 23,
   "metadata": {},
   "outputs": [],
   "source": [
    "def partition_data_with_keys(df, group_keys):\n",
    "    partitions = df.partition_by(group_keys)\n",
    "    keys = [tuple(partition.select(group_keys).unique().to_numpy()[0]) for partition in partitions]\n",
    "    partitions = [partition.drop(group_keys).to_numpy() for partition in partitions]\n",
    "    # partitions = [partition for partition in partitions]                  # for testing\n",
    "    return keys, partitions\n",
    "\n",
    "# Use the updated partition_data_with_keys function\n",
    "balltoball_keys, balltoball_partitions = partition_data_with_keys(balltoball, [\"match_id\", \"flip\"])\n",
    "team_stats_keys, team_stats_partitions = partition_data_with_keys(team_stats, [\"match_id\", \"flip\"])\n",
    "players_stats_keys, players_stats_partitions = partition_data_with_keys(players_stats, [\"match_id\", \"flip\"])\n",
    "\n",
    "# Align the partitions using common keys\n",
    "common_keys = set(balltoball_keys) & set(team_stats_keys) & set(players_stats_keys)\n",
    "\n",
    "balltoball_dict = dict(zip(balltoball_keys, balltoball_partitions))\n",
    "team_stats_dict = dict(zip(team_stats_keys, team_stats_partitions))\n",
    "players_stats_dict = dict(zip(players_stats_keys, players_stats_partitions))\n",
    "\n",
    "aligned_balltoball_partitions = []\n",
    "aligned_team_stats_partitions = []\n",
    "aligned_players_stats_partitions = []\n",
    "labels = []\n",
    "\n",
    "for key in common_keys:\n",
    "    balltoball_partition = balltoball_dict[key]\n",
    "    team_stats_partition = team_stats_dict[key]\n",
    "    players_stats_partition = players_stats_dict[key]\n",
    "\n",
    "    label = balltoball_partition[:, -1][0]\n",
    "    aligned_balltoball_partitions.append(balltoball_partition[:, :-1])\n",
    "    aligned_team_stats_partitions.append(team_stats_partition)\n",
    "    aligned_players_stats_partitions.append(players_stats_partition)\n",
    "    labels.append(label)\n",
    "\n",
    "import numpy as np\n",
    "labels = np.array(labels)"
   ]
  },
  {
   "cell_type": "code",
   "execution_count": 24,
   "metadata": {},
   "outputs": [
    {
     "name": "stdout",
     "output_type": "stream",
     "text": [
      "Team input shape: torch.Size([32, 13])\n",
      "Player input shape: torch.Size([32, 22, 11])\n",
      "Padded ball input shape: torch.Size([32, 255, 9])\n",
      "Mask shape: torch.Size([32, 255])\n",
      "Labels shape: torch.Size([32])\n"
     ]
    }
   ],
   "source": [
    "from sklearn.model_selection import train_test_split\n",
    "from torch.utils.data import DataLoader, Subset\n",
    "\n",
    "team_data = [team.to_numpy() if isinstance(team, pl.DataFrame) else team for team in aligned_team_stats_partitions]\n",
    "player_data = [players.to_numpy() if isinstance(players, pl.DataFrame) else players for players in aligned_players_stats_partitions]\n",
    "ball_data = [ball.to_numpy() if isinstance(ball, pl.DataFrame) else ball for ball in aligned_balltoball_partitions]\n",
    "\n",
    "train_indices, val_indices = train_test_split(np.arange(len(labels)), test_size=0.2, random_state=42)\n",
    "val_indices, test_indices = train_test_split(val_indices, test_size=0.5, random_state=42)\n",
    "\n",
    "dataset = model_utils.CricketDataset(\n",
    "    team_data,\n",
    "    player_data,\n",
    "    ball_data,\n",
    "    labels\n",
    ")\n",
    "\n",
    "train_dataset = Subset(dataset, train_indices)\n",
    "val_dataset = Subset(dataset, val_indices)\n",
    "test_dataset = Subset(dataset, test_indices)\n",
    "\n",
    "\n",
    "train_dataloader = DataLoader(train_dataset, batch_size=32, shuffle=True, collate_fn=model_utils.collate_fn_with_padding)\n",
    "val_dataloader = DataLoader(val_dataset, batch_size=32, shuffle=True, collate_fn=model_utils.collate_fn_with_padding)\n",
    "test_dataloader = DataLoader(test_dataset, batch_size=32, shuffle=False, collate_fn=model_utils.collate_fn_with_padding)\n",
    "\n",
    "for team_input, player_input, ball_input, labels, mask in train_dataloader:\n",
    "    print(f\"Team input shape: {team_input.shape}\")  # [batch_size, team_feature_dim]\n",
    "    print(f\"Player input shape: {player_input.shape}\")  # [batch_size, player_feature_dim]\n",
    "    print(f\"Padded ball input shape: {ball_input.shape}\")  # [batch_size, max_seq_len, ball_feature_dim]\n",
    "    print(f\"Mask shape: {mask.shape}\")  # [batch_size, max_seq_len]\n",
    "    print(f\"Labels shape: {labels.shape}\")  # [batch_size]\n",
    "    break"
   ]
  },
  {
   "cell_type": "code",
   "execution_count": 25,
   "metadata": {},
   "outputs": [],
   "source": [
    "import pickle\n",
    "with open(os.path.join( '..',\"data\", \"pytorch_data\" , \"train_dataloader.pkl\"), \"wb\") as f:\n",
    "    pickle.dump(train_dataloader, f)\n",
    "\n",
    "with open(os.path.join( '..',\"data\", \"pytorch_data\" , \"val_dataloader.pkl\"), \"wb\") as f:\n",
    "    pickle.dump(val_dataloader, f)\n",
    "\n",
    "with open(os.path.join( '..',\"data\", \"pytorch_data\" , \"test_dataloader.pkl\"), \"wb\") as f:\n",
    "    pickle.dump(test_dataloader, f)"
   ]
  },
  {
   "cell_type": "code",
   "execution_count": 26,
   "metadata": {},
   "outputs": [],
   "source": [
    "train_dataloader = pickle.load(open(os.path.join( '..',\"data\", \"pytorch_data\" , \"train_dataloader.pkl\"), \"rb\"))\n",
    "val_dataloader = pickle.load(open(os.path.join( '..',\"data\", \"pytorch_data\" , \"val_dataloader.pkl\"), \"rb\"))\n",
    "test_dataloader = pickle.load(open(os.path.join( '..',\"data\", \"pytorch_data\" , \"test_dataloader.pkl\"), \"rb\"))"
   ]
  },
  {
   "cell_type": "code",
   "execution_count": 27,
   "metadata": {},
   "outputs": [
    {
     "name": "stdout",
     "output_type": "stream",
     "text": [
      "57\n"
     ]
    }
   ],
   "source": [
    "j=0\n",
    "for i in train_dataloader:\n",
    "    j+=1\n",
    "print(j)"
   ]
  },
  {
   "cell_type": "code",
   "execution_count": 28,
   "metadata": {},
   "outputs": [
    {
     "name": "stdout",
     "output_type": "stream",
     "text": [
      "(1, 13) (22, 11) (265, 9)\n"
     ]
    },
    {
     "data": {
      "text/html": [
       "<div><style>\n",
       ".dataframe > thead > tr,\n",
       ".dataframe > tbody > tr {\n",
       "  text-align: right;\n",
       "  white-space: pre-wrap;\n",
       "}\n",
       "</style>\n",
       "<small>shape: (1, 13)</small><table border=\"1\" class=\"dataframe\"><thead><tr><th>gender</th><th>Cumulative Won team1</th><th>Cumulative Lost team1</th><th>Cumulative Tied team1</th><th>Cumulative W/L team1</th><th>Cumulative AveRPW team1</th><th>Cumulative AveRPO team1</th><th>Cumulative Won team2</th><th>Cumulative Lost team2</th><th>Cumulative Tied team2</th><th>Cumulative W/L team2</th><th>Cumulative AveRPW team2</th><th>Cumulative AveRPO team2</th></tr><tr><td>f32</td><td>f32</td><td>f32</td><td>f32</td><td>f32</td><td>f32</td><td>f32</td><td>f32</td><td>f32</td><td>f32</td><td>f32</td><td>f32</td><td>f32</td></tr></thead><tbody><tr><td>0.0</td><td>9.0</td><td>21.0</td><td>0.0</td><td>0.43</td><td>19.049999</td><td>7.29</td><td>32.0</td><td>21.0</td><td>1.0</td><td>1.52</td><td>24.360001</td><td>7.67</td></tr></tbody></table></div>"
      ],
      "text/plain": [
       "shape: (1, 13)\n",
       "┌────────┬────────────┬────────────┬───────────┬───┬───────────┬───────────┬───────────┬───────────┐\n",
       "│ gender ┆ Cumulative ┆ Cumulative ┆ Cumulativ ┆ … ┆ Cumulativ ┆ Cumulativ ┆ Cumulativ ┆ Cumulativ │\n",
       "│ ---    ┆ Won team1  ┆ Lost team1 ┆ e Tied    ┆   ┆ e Tied    ┆ e W/L     ┆ e AveRPW  ┆ e AveRPO  │\n",
       "│ f32    ┆ ---        ┆ ---        ┆ team1     ┆   ┆ team2     ┆ team2     ┆ team2     ┆ team2     │\n",
       "│        ┆ f32        ┆ f32        ┆ ---       ┆   ┆ ---       ┆ ---       ┆ ---       ┆ ---       │\n",
       "│        ┆            ┆            ┆ f32       ┆   ┆ f32       ┆ f32       ┆ f32       ┆ f32       │\n",
       "╞════════╪════════════╪════════════╪═══════════╪═══╪═══════════╪═══════════╪═══════════╪═══════════╡\n",
       "│ 0.0    ┆ 9.0        ┆ 21.0       ┆ 0.0       ┆ … ┆ 1.0       ┆ 1.52      ┆ 24.360001 ┆ 7.67      │\n",
       "└────────┴────────────┴────────────┴───────────┴───┴───────────┴───────────┴───────────┴───────────┘"
      ]
     },
     "execution_count": 28,
     "metadata": {},
     "output_type": "execute_result"
    }
   ],
   "source": [
    "for i in train_dataloader:\n",
    "    j = np.random.randint(32)\n",
    "    data0 = np.array(i[0][j]).reshape(1,-1)\n",
    "    data1 = np.array(i[1][j])\n",
    "    data2 = np.array(i[2][j])\n",
    "    print(data0.shape, data1.shape, data2.shape)\n",
    "    # team0 = pl.DataFrame(data0,schema=team_stats.columns)\n",
    "    # players1 = pl.DataFrame(data1,schema=players_stats.columns)\n",
    "    # balltoball2 = pl.DataFrame(data2,schema=balltoball.columns[:-1])\n",
    "    team0 = pl.DataFrame(data0,schema=team_stats.columns[2:])\n",
    "    players1 = pl.DataFrame(data1,schema=players_stats.columns[2:])\n",
    "    balltoball2 = pl.DataFrame(data2,schema=balltoball.columns[2:-1])\n",
    "    break\n",
    "team0"
   ]
  },
  {
   "cell_type": "code",
   "execution_count": 29,
   "metadata": {},
   "outputs": [
    {
     "data": {
      "text/html": [
       "<div><style>\n",
       ".dataframe > thead > tr,\n",
       ".dataframe > tbody > tr {\n",
       "  text-align: right;\n",
       "  white-space: pre-wrap;\n",
       "}\n",
       "</style>\n",
       "<small>shape: (22, 11)</small><table border=\"1\" class=\"dataframe\"><thead><tr><th>Cum Mat Total</th><th>Cum Runs Total</th><th>Cum SR</th><th>Cumulative Overs</th><th>Cumulative Bowling Runs</th><th>Cumulative Wkts</th><th>Cumulative Econ</th><th>Cumulative Dis</th><th>Cumulative Ct</th><th>Cumulative St</th><th>Cumulative D/I</th></tr><tr><td>f32</td><td>f32</td><td>f32</td><td>f32</td><td>f32</td><td>f32</td><td>f32</td><td>f32</td><td>f32</td><td>f32</td><td>f32</td></tr></thead><tbody><tr><td>6.0</td><td>145.0</td><td>108.709999</td><td>0.0</td><td>0.0</td><td>0.0</td><td>0.0</td><td>3.0</td><td>3.0</td><td>0.0</td><td>0.5</td></tr><tr><td>50.0</td><td>1203.0</td><td>113.529999</td><td>31.6</td><td>231.0</td><td>5.0</td><td>7.78</td><td>27.0</td><td>25.0</td><td>2.0</td><td>0.54</td></tr><tr><td>18.0</td><td>211.0</td><td>83.5</td><td>0.0</td><td>0.0</td><td>0.0</td><td>0.0</td><td>2.0</td><td>2.0</td><td>0.0</td><td>0.11</td></tr><tr><td>45.0</td><td>1178.0</td><td>118.410004</td><td>0.0</td><td>0.0</td><td>0.0</td><td>0.0</td><td>38.0</td><td>20.0</td><td>18.0</td><td>0.84</td></tr><tr><td>0.0</td><td>0.0</td><td>0.0</td><td>0.0</td><td>0.0</td><td>0.0</td><td>0.0</td><td>0.0</td><td>0.0</td><td>0.0</td><td>0.0</td></tr><tr><td>&hellip;</td><td>&hellip;</td><td>&hellip;</td><td>&hellip;</td><td>&hellip;</td><td>&hellip;</td><td>&hellip;</td><td>&hellip;</td><td>&hellip;</td><td>&hellip;</td><td>&hellip;</td></tr><tr><td>8.0</td><td>56.0</td><td>88.459999</td><td>16.0</td><td>175.0</td><td>4.0</td><td>10.83</td><td>3.0</td><td>3.0</td><td>0.0</td><td>0.38</td></tr><tr><td>4.0</td><td>19.0</td><td>103.459999</td><td>16.0</td><td>130.0</td><td>3.0</td><td>8.13</td><td>1.0</td><td>1.0</td><td>0.0</td><td>0.25</td></tr><tr><td>0.0</td><td>0.0</td><td>0.0</td><td>0.0</td><td>0.0</td><td>0.0</td><td>0.0</td><td>0.0</td><td>0.0</td><td>0.0</td><td>0.0</td></tr><tr><td>20.0</td><td>196.0</td><td>129.020004</td><td>74.300003</td><td>612.0</td><td>19.0</td><td>8.21</td><td>3.0</td><td>3.0</td><td>0.0</td><td>0.15</td></tr><tr><td>7.0</td><td>8.0</td><td>80.0</td><td>24.200001</td><td>245.0</td><td>6.0</td><td>9.87</td><td>1.0</td><td>1.0</td><td>0.0</td><td>0.14</td></tr></tbody></table></div>"
      ],
      "text/plain": [
       "shape: (22, 11)\n",
       "┌───────────┬───────────┬───────────┬───────────┬───┬───────────┬───────────┬───────────┬──────────┐\n",
       "│ Cum Mat   ┆ Cum Runs  ┆ Cum SR    ┆ Cumulativ ┆ … ┆ Cumulativ ┆ Cumulativ ┆ Cumulativ ┆ Cumulati │\n",
       "│ Total     ┆ Total     ┆ ---       ┆ e Overs   ┆   ┆ e Dis     ┆ e Ct      ┆ e St      ┆ ve D/I   │\n",
       "│ ---       ┆ ---       ┆ f32       ┆ ---       ┆   ┆ ---       ┆ ---       ┆ ---       ┆ ---      │\n",
       "│ f32       ┆ f32       ┆           ┆ f32       ┆   ┆ f32       ┆ f32       ┆ f32       ┆ f32      │\n",
       "╞═══════════╪═══════════╪═══════════╪═══════════╪═══╪═══════════╪═══════════╪═══════════╪══════════╡\n",
       "│ 6.0       ┆ 145.0     ┆ 108.70999 ┆ 0.0       ┆ … ┆ 3.0       ┆ 3.0       ┆ 0.0       ┆ 0.5      │\n",
       "│           ┆           ┆ 9         ┆           ┆   ┆           ┆           ┆           ┆          │\n",
       "│ 50.0      ┆ 1203.0    ┆ 113.52999 ┆ 31.6      ┆ … ┆ 27.0      ┆ 25.0      ┆ 2.0       ┆ 0.54     │\n",
       "│           ┆           ┆ 9         ┆           ┆   ┆           ┆           ┆           ┆          │\n",
       "│ 18.0      ┆ 211.0     ┆ 83.5      ┆ 0.0       ┆ … ┆ 2.0       ┆ 2.0       ┆ 0.0       ┆ 0.11     │\n",
       "│ 45.0      ┆ 1178.0    ┆ 118.41000 ┆ 0.0       ┆ … ┆ 38.0      ┆ 20.0      ┆ 18.0      ┆ 0.84     │\n",
       "│           ┆           ┆ 4         ┆           ┆   ┆           ┆           ┆           ┆          │\n",
       "│ 0.0       ┆ 0.0       ┆ 0.0       ┆ 0.0       ┆ … ┆ 0.0       ┆ 0.0       ┆ 0.0       ┆ 0.0      │\n",
       "│ …         ┆ …         ┆ …         ┆ …         ┆ … ┆ …         ┆ …         ┆ …         ┆ …        │\n",
       "│ 8.0       ┆ 56.0      ┆ 88.459999 ┆ 16.0      ┆ … ┆ 3.0       ┆ 3.0       ┆ 0.0       ┆ 0.38     │\n",
       "│ 4.0       ┆ 19.0      ┆ 103.45999 ┆ 16.0      ┆ … ┆ 1.0       ┆ 1.0       ┆ 0.0       ┆ 0.25     │\n",
       "│           ┆           ┆ 9         ┆           ┆   ┆           ┆           ┆           ┆          │\n",
       "│ 0.0       ┆ 0.0       ┆ 0.0       ┆ 0.0       ┆ … ┆ 0.0       ┆ 0.0       ┆ 0.0       ┆ 0.0      │\n",
       "│ 20.0      ┆ 196.0     ┆ 129.02000 ┆ 74.300003 ┆ … ┆ 3.0       ┆ 3.0       ┆ 0.0       ┆ 0.15     │\n",
       "│           ┆           ┆ 4         ┆           ┆   ┆           ┆           ┆           ┆          │\n",
       "│ 7.0       ┆ 8.0       ┆ 80.0      ┆ 24.200001 ┆ … ┆ 1.0       ┆ 1.0       ┆ 0.0       ┆ 0.14     │\n",
       "└───────────┴───────────┴───────────┴───────────┴───┴───────────┴───────────┴───────────┴──────────┘"
      ]
     },
     "execution_count": 29,
     "metadata": {},
     "output_type": "execute_result"
    }
   ],
   "source": [
    "players1"
   ]
  },
  {
   "cell_type": "code",
   "execution_count": 30,
   "metadata": {},
   "outputs": [
    {
     "data": {
      "text/html": [
       "<div><style>\n",
       ".dataframe > thead > tr,\n",
       ".dataframe > tbody > tr {\n",
       "  text-align: right;\n",
       "  white-space: pre-wrap;\n",
       "}\n",
       "</style>\n",
       "<small>shape: (265, 9)</small><table border=\"1\" class=\"dataframe\"><thead><tr><th>innings</th><th>ball</th><th>runs</th><th>wickets</th><th>overs</th><th>run_rate</th><th>curr_score</th><th>curr_wickets</th><th>target</th></tr><tr><td>f32</td><td>f32</td><td>f32</td><td>f32</td><td>f32</td><td>f32</td><td>f32</td><td>f32</td><td>f32</td></tr></thead><tbody><tr><td>1.0</td><td>0.1</td><td>2.0</td><td>0.0</td><td>0.0</td><td>0.0</td><td>2.0</td><td>0.0</td><td>0.0</td></tr><tr><td>1.0</td><td>0.2</td><td>4.0</td><td>0.0</td><td>0.0</td><td>0.0</td><td>6.0</td><td>0.0</td><td>0.0</td></tr><tr><td>1.0</td><td>0.3</td><td>1.0</td><td>0.0</td><td>0.0</td><td>0.0</td><td>7.0</td><td>0.0</td><td>0.0</td></tr><tr><td>1.0</td><td>0.4</td><td>0.0</td><td>0.0</td><td>0.0</td><td>0.0</td><td>7.0</td><td>0.0</td><td>0.0</td></tr><tr><td>1.0</td><td>0.5</td><td>0.0</td><td>0.0</td><td>0.0</td><td>0.0</td><td>7.0</td><td>0.0</td><td>0.0</td></tr><tr><td>&hellip;</td><td>&hellip;</td><td>&hellip;</td><td>&hellip;</td><td>&hellip;</td><td>&hellip;</td><td>&hellip;</td><td>&hellip;</td><td>&hellip;</td></tr><tr><td>0.0</td><td>0.0</td><td>0.0</td><td>0.0</td><td>0.0</td><td>0.0</td><td>0.0</td><td>0.0</td><td>0.0</td></tr><tr><td>0.0</td><td>0.0</td><td>0.0</td><td>0.0</td><td>0.0</td><td>0.0</td><td>0.0</td><td>0.0</td><td>0.0</td></tr><tr><td>0.0</td><td>0.0</td><td>0.0</td><td>0.0</td><td>0.0</td><td>0.0</td><td>0.0</td><td>0.0</td><td>0.0</td></tr><tr><td>0.0</td><td>0.0</td><td>0.0</td><td>0.0</td><td>0.0</td><td>0.0</td><td>0.0</td><td>0.0</td><td>0.0</td></tr><tr><td>0.0</td><td>0.0</td><td>0.0</td><td>0.0</td><td>0.0</td><td>0.0</td><td>0.0</td><td>0.0</td><td>0.0</td></tr></tbody></table></div>"
      ],
      "text/plain": [
       "shape: (265, 9)\n",
       "┌─────────┬──────┬──────┬─────────┬───┬──────────┬────────────┬──────────────┬────────┐\n",
       "│ innings ┆ ball ┆ runs ┆ wickets ┆ … ┆ run_rate ┆ curr_score ┆ curr_wickets ┆ target │\n",
       "│ ---     ┆ ---  ┆ ---  ┆ ---     ┆   ┆ ---      ┆ ---        ┆ ---          ┆ ---    │\n",
       "│ f32     ┆ f32  ┆ f32  ┆ f32     ┆   ┆ f32      ┆ f32        ┆ f32          ┆ f32    │\n",
       "╞═════════╪══════╪══════╪═════════╪═══╪══════════╪════════════╪══════════════╪════════╡\n",
       "│ 1.0     ┆ 0.1  ┆ 2.0  ┆ 0.0     ┆ … ┆ 0.0      ┆ 2.0        ┆ 0.0          ┆ 0.0    │\n",
       "│ 1.0     ┆ 0.2  ┆ 4.0  ┆ 0.0     ┆ … ┆ 0.0      ┆ 6.0        ┆ 0.0          ┆ 0.0    │\n",
       "│ 1.0     ┆ 0.3  ┆ 1.0  ┆ 0.0     ┆ … ┆ 0.0      ┆ 7.0        ┆ 0.0          ┆ 0.0    │\n",
       "│ 1.0     ┆ 0.4  ┆ 0.0  ┆ 0.0     ┆ … ┆ 0.0      ┆ 7.0        ┆ 0.0          ┆ 0.0    │\n",
       "│ 1.0     ┆ 0.5  ┆ 0.0  ┆ 0.0     ┆ … ┆ 0.0      ┆ 7.0        ┆ 0.0          ┆ 0.0    │\n",
       "│ …       ┆ …    ┆ …    ┆ …       ┆ … ┆ …        ┆ …          ┆ …            ┆ …      │\n",
       "│ 0.0     ┆ 0.0  ┆ 0.0  ┆ 0.0     ┆ … ┆ 0.0      ┆ 0.0        ┆ 0.0          ┆ 0.0    │\n",
       "│ 0.0     ┆ 0.0  ┆ 0.0  ┆ 0.0     ┆ … ┆ 0.0      ┆ 0.0        ┆ 0.0          ┆ 0.0    │\n",
       "│ 0.0     ┆ 0.0  ┆ 0.0  ┆ 0.0     ┆ … ┆ 0.0      ┆ 0.0        ┆ 0.0          ┆ 0.0    │\n",
       "│ 0.0     ┆ 0.0  ┆ 0.0  ┆ 0.0     ┆ … ┆ 0.0      ┆ 0.0        ┆ 0.0          ┆ 0.0    │\n",
       "│ 0.0     ┆ 0.0  ┆ 0.0  ┆ 0.0     ┆ … ┆ 0.0      ┆ 0.0        ┆ 0.0          ┆ 0.0    │\n",
       "└─────────┴──────┴──────┴─────────┴───┴──────────┴────────────┴──────────────┴────────┘"
      ]
     },
     "execution_count": 30,
     "metadata": {},
     "output_type": "execute_result"
    }
   ],
   "source": [
    "balltoball2"
   ]
  },
  {
   "cell_type": "code",
   "execution_count": null,
   "metadata": {},
   "outputs": [],
   "source": []
  }
 ],
 "metadata": {
  "kernelspec": {
   "display_name": "huggingface-torch",
   "language": "python",
   "name": "python3"
  },
  "language_info": {
   "codemirror_mode": {
    "name": "ipython",
    "version": 3
   },
   "file_extension": ".py",
   "mimetype": "text/x-python",
   "name": "python",
   "nbconvert_exporter": "python",
   "pygments_lexer": "ipython3",
   "version": "3.9.20"
  }
 },
 "nbformat": 4,
 "nbformat_minor": 2
}
