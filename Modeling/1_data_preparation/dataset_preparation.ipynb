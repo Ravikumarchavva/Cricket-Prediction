{
 "cells": [
  {
   "cell_type": "code",
   "execution_count": 159,
   "metadata": {},
   "outputs": [
    {
     "name": "stdout",
     "output_type": "stream",
     "text": [
      "['match_id', 'innings', 'ball', 'runs', 'wickets', 'curr_score', 'curr_wickets', 'overs', 'run_rate', 'required_run_rate', 'target', 'won']\n",
      "['match_id', 'gender', 'Cumulative Won team1', 'Cumulative Lost team1', 'Cumulative Tied team1', 'Cumulative W/L team1', 'Cumulative AveRPW team1', 'Cumulative AveRPO team1', 'Cumulative Won team2', 'Cumulative Lost team2', 'Cumulative Tied team2', 'Cumulative W/L team2', 'Cumulative AveRPW team2', 'Cumulative AveRPO team2']\n",
      "['match_id', 'Cum Mat Total', 'Cum Inns Total', 'Cum Runs Total', 'Cum Batting Ave', 'Cum SR', 'Cumulative Overs', 'Cumulative Bowling Runs', 'Cumulative Wkts', 'Cumulative Econ', 'Cumulative Dis', 'Cumulative Ct', 'Cumulative St', 'Cumulative D/I']\n",
      "shape: (1, 12)\n",
      "┌──────────┬─────────┬──────┬──────┬───┬──────────┬───────────────────┬────────┬─────┐\n",
      "│ match_id ┆ innings ┆ ball ┆ runs ┆ … ┆ run_rate ┆ required_run_rate ┆ target ┆ won │\n",
      "│ ---      ┆ ---     ┆ ---  ┆ ---  ┆   ┆ ---      ┆ ---               ┆ ---    ┆ --- │\n",
      "│ i64      ┆ i64     ┆ f64  ┆ i64  ┆   ┆ f64      ┆ f64               ┆ i64    ┆ i64 │\n",
      "╞══════════╪═════════╪══════╪══════╪═══╪══════════╪═══════════════════╪════════╪═════╡\n",
      "│ 211028   ┆ 1       ┆ 0.1  ┆ 0    ┆ … ┆ 0.0      ┆ 0.0               ┆ 0      ┆ 0   │\n",
      "└──────────┴─────────┴──────┴──────┴───┴──────────┴───────────────────┴────────┴─────┘ shape: (1, 14)\n",
      "┌──────────┬────────┬────────────┬────────────┬───┬────────────┬───────────┬───────────┬───────────┐\n",
      "│ match_id ┆ gender ┆ Cumulative ┆ Cumulative ┆ … ┆ Cumulative ┆ Cumulativ ┆ Cumulativ ┆ Cumulativ │\n",
      "│ ---      ┆ ---    ┆ Won team1  ┆ Lost team1 ┆   ┆ Tied team2 ┆ e W/L     ┆ e AveRPW  ┆ e AveRPO  │\n",
      "│ i64      ┆ i64    ┆ ---        ┆ ---        ┆   ┆ ---        ┆ team2     ┆ team2     ┆ team2     │\n",
      "│          ┆        ┆ i64        ┆ i64        ┆   ┆ i64        ┆ ---       ┆ ---       ┆ ---       │\n",
      "│          ┆        ┆            ┆            ┆   ┆            ┆ f64       ┆ f64       ┆ f64       │\n",
      "╞══════════╪════════╪════════════╪════════════╪═══╪════════════╪═══════════╪═══════════╪═══════════╡\n",
      "│ 211028   ┆ 0      ┆ 0          ┆ 0          ┆ … ┆ 0          ┆ 0.0       ┆ 42.8      ┆ 0.0       │\n",
      "└──────────┴────────┴────────────┴────────────┴───┴────────────┴───────────┴───────────┴───────────┘ shape: (1, 14)\n",
      "┌──────────┬───────────┬───────────┬───────────┬───┬───────────┬───────────┬───────────┬───────────┐\n",
      "│ match_id ┆ Cum Mat   ┆ Cum Inns  ┆ Cum Runs  ┆ … ┆ Cumulativ ┆ Cumulativ ┆ Cumulativ ┆ Cumulativ │\n",
      "│ ---      ┆ Total     ┆ Total     ┆ Total     ┆   ┆ e Dis     ┆ e Ct      ┆ e St      ┆ e D/I     │\n",
      "│ i64      ┆ ---       ┆ ---       ┆ ---       ┆   ┆ ---       ┆ ---       ┆ ---       ┆ ---       │\n",
      "│          ┆ i64       ┆ i64       ┆ i64       ┆   ┆ f64       ┆ f64       ┆ f64       ┆ f64       │\n",
      "╞══════════╪═══════════╪═══════════╪═══════════╪═══╪═══════════╪═══════════╪═══════════╪═══════════╡\n",
      "│ 211028   ┆ 1         ┆ 1         ┆ 1         ┆ … ┆ 0.0       ┆ 0.0       ┆ 0.0       ┆ 0.0       │\n",
      "└──────────┴───────────┴───────────┴───────────┴───┴───────────┴───────────┴───────────┴───────────┘\n"
     ]
    }
   ],
   "source": [
    "import os\n",
    "import sys\n",
    "sys.path.append(os.path.join(os.getcwd(),\"..\"))\n",
    "\n",
    "import model_utils\n",
    "\n",
    "import polars as pl\n",
    "# import data\n",
    "def load_data():\n",
    "    balltoball = pl.read_csv(os.path.join(os.path.join( '..',\"data\", \"filtered_data\" , \"balltoball.csv\")))\n",
    "    team_stats = pl.read_csv(os.path.join(os.path.join( '..',\"data\", \"filtered_data\" , \"team12_stats.csv\")))\n",
    "    players_stats = pl.read_csv(os.path.join(os.path.join( '..',\"data\", \"filtered_data\" , \"players_stats.csv\")))\n",
    "    return balltoball, team_stats, players_stats\n",
    "balltoball,team_stats,players_stats = load_data()\n",
    "print(balltoball.columns)\n",
    "print(team_stats.columns)\n",
    "print(players_stats.columns)\n",
    "print(balltoball.head(1),team_stats.head(1),players_stats.head(1))"
   ]
  },
  {
   "cell_type": "code",
   "execution_count": 160,
   "metadata": {},
   "outputs": [],
   "source": [
    "def partition_data_with_keys(df, group_keys):\n",
    "    partitions = df.partition_by(group_keys)\n",
    "    keys = [tuple(partition.select(group_keys).unique().to_numpy()[0]) for partition in partitions]\n",
    "    partitions = [partition.drop(group_keys).to_numpy() for partition in partitions]\n",
    "    # partitions = [partition for partition in partitions]                  # for testing\n",
    "    return keys, partitions\n",
    "\n",
    "# Use the updated partition_data_with_keys function\n",
    "balltoball_keys, balltoball_partitions = partition_data_with_keys(balltoball, [\"match_id\"])\n",
    "team_stats_keys, team_stats_partitions = partition_data_with_keys(team_stats, [\"match_id\"])\n",
    "players_stats_keys, players_stats_partitions = partition_data_with_keys(players_stats, [\"match_id\"])\n",
    "\n",
    "# Align the partitions using common keys\n",
    "common_keys = set(balltoball_keys) & set(team_stats_keys) & set(players_stats_keys)\n",
    "\n",
    "balltoball_dict = dict(zip(balltoball_keys, balltoball_partitions))\n",
    "team_stats_dict = dict(zip(team_stats_keys, team_stats_partitions))\n",
    "players_stats_dict = dict(zip(players_stats_keys, players_stats_partitions))\n",
    "\n",
    "aligned_balltoball_partitions = []\n",
    "aligned_team_stats_partitions = []\n",
    "aligned_players_stats_partitions = []\n",
    "labels = []\n",
    "\n",
    "for key in common_keys:\n",
    "    balltoball_partition = balltoball_dict[key]\n",
    "    team_stats_partition = team_stats_dict[key]\n",
    "    players_stats_partition = players_stats_dict[key]\n",
    "\n",
    "    label = balltoball_partition[:, -1][0]\n",
    "    aligned_balltoball_partitions.append(balltoball_partition[:, :-1])\n",
    "    aligned_team_stats_partitions.append(team_stats_partition)\n",
    "    aligned_players_stats_partitions.append(players_stats_partition)\n",
    "    labels.append(label)\n",
    "\n",
    "import numpy as np\n",
    "labels = np.array(labels)"
   ]
  },
  {
   "cell_type": "code",
   "execution_count": 161,
   "metadata": {},
   "outputs": [],
   "source": [
    "from sklearn.model_selection import train_test_split\n",
    "from torch.utils.data import DataLoader, Subset\n",
    "\n",
    "team_data = [team.to_numpy() if isinstance(team, pl.DataFrame) else team for team in aligned_team_stats_partitions]\n",
    "player_data = [players.to_numpy() if isinstance(players, pl.DataFrame) else players for players in aligned_players_stats_partitions]\n",
    "ball_data = [ball.to_numpy() if isinstance(ball, pl.DataFrame) else ball for ball in aligned_balltoball_partitions]\n",
    "\n",
    "train_indices, val_indices = train_test_split(np.arange(len(labels)), test_size=0.2, random_state=42)\n",
    "val_indices, test_indices = train_test_split(val_indices, test_size=0.5, random_state=42)\n",
    "\n",
    "dataset = model_utils.CricketDataset(\n",
    "    team_data,\n",
    "    player_data,\n",
    "    ball_data,\n",
    "    labels\n",
    ")\n",
    "\n",
    "train_dataset = Subset(dataset, train_indices)\n",
    "val_dataset = Subset(dataset, val_indices)\n",
    "test_dataset = Subset(dataset, test_indices)\n",
    "\n",
    "\n",
    "train_dataloader = DataLoader(train_dataset, batch_size=32, shuffle=True, collate_fn=model_utils.collate_fn_with_packing)\n",
    "val_dataloader = DataLoader(val_dataset, batch_size=32, shuffle=True, collate_fn=model_utils.collate_fn_with_packing)\n",
    "test_dataloader = DataLoader(test_dataset, batch_size=32, shuffle=False, collate_fn=model_utils.collate_fn_with_packing)"
   ]
  },
  {
   "cell_type": "code",
   "execution_count": 162,
   "metadata": {},
   "outputs": [],
   "source": [
    "import pickle\n",
    "with open(os.path.join( '..',\"data\", \"pytorch_data\" , \"train_dataloader.pkl\"), \"wb\") as f:\n",
    "    pickle.dump(train_dataloader, f)\n",
    "\n",
    "with open(os.path.join( '..',\"data\", \"pytorch_data\" , \"val_dataloader.pkl\"), \"wb\") as f:\n",
    "    pickle.dump(val_dataloader, f)\n",
    "\n",
    "with open(os.path.join( '..',\"data\", \"pytorch_data\" , \"test_dataloader.pkl\"), \"wb\") as f:\n",
    "    pickle.dump(test_dataloader, f)"
   ]
  },
  {
   "cell_type": "code",
   "execution_count": 163,
   "metadata": {},
   "outputs": [],
   "source": [
    "train_dataloader = pickle.load(open(os.path.join( '..',\"data\", \"pytorch_data\" , \"train_dataloader.pkl\"), \"rb\"))\n",
    "val_dataloader = pickle.load(open(os.path.join( '..',\"data\", \"pytorch_data\" , \"val_dataloader.pkl\"), \"rb\"))\n",
    "test_dataloader = pickle.load(open(os.path.join( '..',\"data\", \"pytorch_data\" , \"test_dataloader.pkl\"), \"rb\"))"
   ]
  },
  {
   "cell_type": "code",
   "execution_count": 170,
   "metadata": {},
   "outputs": [
    {
     "name": "stdout",
     "output_type": "stream",
     "text": [
      "Label:\n",
      "tensor(1.)\n",
      "Ball-to-Ball Stats:\n"
     ]
    },
    {
     "data": {
      "text/html": [
       "<div><style>\n",
       ".dataframe > thead > tr,\n",
       ".dataframe > tbody > tr {\n",
       "  text-align: right;\n",
       "  white-space: pre-wrap;\n",
       "}\n",
       "</style>\n",
       "<small>shape: (237, 11)</small><table border=\"1\" class=\"dataframe\"><thead><tr><th>index</th><th>innings</th><th>ball</th><th>runs</th><th>wickets</th><th>curr_score</th><th>curr_wickets</th><th>overs</th><th>run_rate</th><th>required_run_rate</th><th>target</th></tr><tr><td>u32</td><td>f64</td><td>f64</td><td>f64</td><td>f64</td><td>f64</td><td>f64</td><td>f64</td><td>f64</td><td>f64</td><td>f64</td></tr></thead><tbody><tr><td>0</td><td>1.0</td><td>0.1</td><td>0.0</td><td>0.0</td><td>0.0</td><td>0.0</td><td>0.0</td><td>0.0</td><td>0.0</td><td>0.0</td></tr><tr><td>1</td><td>1.0</td><td>0.2</td><td>0.0</td><td>0.0</td><td>0.0</td><td>0.0</td><td>0.0</td><td>0.0</td><td>0.0</td><td>0.0</td></tr><tr><td>2</td><td>1.0</td><td>0.3</td><td>0.0</td><td>0.0</td><td>0.0</td><td>0.0</td><td>0.0</td><td>0.0</td><td>0.0</td><td>0.0</td></tr><tr><td>3</td><td>1.0</td><td>0.4</td><td>4.0</td><td>0.0</td><td>4.0</td><td>0.0</td><td>0.0</td><td>0.0</td><td>0.0</td><td>0.0</td></tr><tr><td>4</td><td>1.0</td><td>0.5</td><td>0.0</td><td>0.0</td><td>4.0</td><td>0.0</td><td>0.0</td><td>0.0</td><td>0.0</td><td>0.0</td></tr><tr><td>&hellip;</td><td>&hellip;</td><td>&hellip;</td><td>&hellip;</td><td>&hellip;</td><td>&hellip;</td><td>&hellip;</td><td>&hellip;</td><td>&hellip;</td><td>&hellip;</td><td>&hellip;</td></tr><tr><td>232</td><td>2.0</td><td>17.4</td><td>0.0</td><td>1.0</td><td>102.0</td><td>4.0</td><td>17.0</td><td>6.0</td><td>2.666667</td><td>110.0</td></tr><tr><td>233</td><td>2.0</td><td>17.5</td><td>2.0</td><td>0.0</td><td>104.0</td><td>4.0</td><td>17.0</td><td>6.117647</td><td>2.0</td><td>110.0</td></tr><tr><td>234</td><td>2.0</td><td>17.6</td><td>4.0</td><td>0.0</td><td>108.0</td><td>4.0</td><td>17.0</td><td>6.352941</td><td>0.666667</td><td>110.0</td></tr><tr><td>235</td><td>2.0</td><td>18.1</td><td>0.0</td><td>0.0</td><td>108.0</td><td>4.0</td><td>18.0</td><td>6.0</td><td>1.0</td><td>110.0</td></tr><tr><td>236</td><td>2.0</td><td>18.200001</td><td>4.0</td><td>0.0</td><td>112.0</td><td>4.0</td><td>18.0</td><td>6.222222</td><td>-1.0</td><td>110.0</td></tr></tbody></table></div>"
      ],
      "text/plain": [
       "shape: (237, 11)\n",
       "┌───────┬─────────┬───────────┬──────┬───┬───────┬──────────┬───────────────────┬────────┐\n",
       "│ index ┆ innings ┆ ball      ┆ runs ┆ … ┆ overs ┆ run_rate ┆ required_run_rate ┆ target │\n",
       "│ ---   ┆ ---     ┆ ---       ┆ ---  ┆   ┆ ---   ┆ ---      ┆ ---               ┆ ---    │\n",
       "│ u32   ┆ f64     ┆ f64       ┆ f64  ┆   ┆ f64   ┆ f64      ┆ f64               ┆ f64    │\n",
       "╞═══════╪═════════╪═══════════╪══════╪═══╪═══════╪══════════╪═══════════════════╪════════╡\n",
       "│ 0     ┆ 1.0     ┆ 0.1       ┆ 0.0  ┆ … ┆ 0.0   ┆ 0.0      ┆ 0.0               ┆ 0.0    │\n",
       "│ 1     ┆ 1.0     ┆ 0.2       ┆ 0.0  ┆ … ┆ 0.0   ┆ 0.0      ┆ 0.0               ┆ 0.0    │\n",
       "│ 2     ┆ 1.0     ┆ 0.3       ┆ 0.0  ┆ … ┆ 0.0   ┆ 0.0      ┆ 0.0               ┆ 0.0    │\n",
       "│ 3     ┆ 1.0     ┆ 0.4       ┆ 4.0  ┆ … ┆ 0.0   ┆ 0.0      ┆ 0.0               ┆ 0.0    │\n",
       "│ 4     ┆ 1.0     ┆ 0.5       ┆ 0.0  ┆ … ┆ 0.0   ┆ 0.0      ┆ 0.0               ┆ 0.0    │\n",
       "│ …     ┆ …       ┆ …         ┆ …    ┆ … ┆ …     ┆ …        ┆ …                 ┆ …      │\n",
       "│ 232   ┆ 2.0     ┆ 17.4      ┆ 0.0  ┆ … ┆ 17.0  ┆ 6.0      ┆ 2.666667          ┆ 110.0  │\n",
       "│ 233   ┆ 2.0     ┆ 17.5      ┆ 2.0  ┆ … ┆ 17.0  ┆ 6.117647 ┆ 2.0               ┆ 110.0  │\n",
       "│ 234   ┆ 2.0     ┆ 17.6      ┆ 4.0  ┆ … ┆ 17.0  ┆ 6.352941 ┆ 0.666667          ┆ 110.0  │\n",
       "│ 235   ┆ 2.0     ┆ 18.1      ┆ 0.0  ┆ … ┆ 18.0  ┆ 6.0      ┆ 1.0               ┆ 110.0  │\n",
       "│ 236   ┆ 2.0     ┆ 18.200001 ┆ 4.0  ┆ … ┆ 18.0  ┆ 6.222222 ┆ -1.0              ┆ 110.0  │\n",
       "└───────┴─────────┴───────────┴──────┴───┴───────┴──────────┴───────────────────┴────────┘"
      ]
     },
     "execution_count": 170,
     "metadata": {},
     "output_type": "execute_result"
    }
   ],
   "source": [
    "# Print a single match's data\n",
    "single_match_index = np.random.randint(0,32)  # Index of the match to print\n",
    "single_match_data = dataset[single_match_index]\n",
    "\n",
    "team_input, player_input, ball_input, label = single_match_data\n",
    "\n",
    "# team_df = pl.DataFrame(team_input.numpy().astype(float).reshape(1, -1), schema=team_stats.columns)\n",
    "# player_df = pl.DataFrame(player_input.numpy().astype(float), schema=players_stats.columns)\n",
    "# ball_df = pl.DataFrame(ball_input.numpy().astype(float), schema=balltoball.columns[:-1])\n",
    "team_df = pl.DataFrame(team_input.numpy().astype(float).reshape(1, -1), schema=team_stats.columns[1:])\n",
    "player_df = pl.DataFrame(player_input.numpy().astype(float), schema=players_stats.columns[1:])\n",
    "ball_df = pl.DataFrame(ball_input.numpy().astype(float), schema=balltoball.columns[1:-1])\n",
    "\n",
    "print(\"Label:\")\n",
    "print(label)\n",
    "print(\"Ball-to-Ball Stats:\")\n",
    "ball_df.with_row_index()"
   ]
  },
  {
   "cell_type": "code",
   "execution_count": 166,
   "metadata": {},
   "outputs": [
    {
     "name": "stdout",
     "output_type": "stream",
     "text": [
      "Player Stats:\n"
     ]
    },
    {
     "data": {
      "text/html": [
       "<div><style>\n",
       ".dataframe > thead > tr,\n",
       ".dataframe > tbody > tr {\n",
       "  text-align: right;\n",
       "  white-space: pre-wrap;\n",
       "}\n",
       "</style>\n",
       "<small>shape: (22, 13)</small><table border=\"1\" class=\"dataframe\"><thead><tr><th>Cum Mat Total</th><th>Cum Inns Total</th><th>Cum Runs Total</th><th>Cum Batting Ave</th><th>Cum SR</th><th>Cumulative Overs</th><th>Cumulative Bowling Runs</th><th>Cumulative Wkts</th><th>Cumulative Econ</th><th>Cumulative Dis</th><th>Cumulative Ct</th><th>Cumulative St</th><th>Cumulative D/I</th></tr><tr><td>f64</td><td>f64</td><td>f64</td><td>f64</td><td>f64</td><td>f64</td><td>f64</td><td>f64</td><td>f64</td><td>f64</td><td>f64</td><td>f64</td><td>f64</td></tr></thead><tbody><tr><td>42.0</td><td>35.0</td><td>739.0</td><td>36.349998</td><td>121.209999</td><td>11.2</td><td>113.0</td><td>1.0</td><td>10.98</td><td>19.0</td><td>19.0</td><td>0.0</td><td>0.45</td></tr><tr><td>6.0</td><td>6.0</td><td>101.0</td><td>16.83</td><td>102.220001</td><td>0.0</td><td>0.0</td><td>0.0</td><td>0.0</td><td>1.0</td><td>1.0</td><td>0.0</td><td>0.17</td></tr><tr><td>13.0</td><td>13.0</td><td>273.0</td><td>21.0</td><td>110.959999</td><td>0.0</td><td>0.0</td><td>0.0</td><td>0.0</td><td>12.0</td><td>12.0</td><td>0.0</td><td>0.92</td></tr><tr><td>44.0</td><td>38.0</td><td>947.0</td><td>33.5</td><td>128.509995</td><td>29.0</td><td>235.0</td><td>6.0</td><td>8.13</td><td>20.0</td><td>20.0</td><td>0.0</td><td>0.45</td></tr><tr><td>0.0</td><td>0.0</td><td>0.0</td><td>0.0</td><td>0.0</td><td>0.0</td><td>0.0</td><td>0.0</td><td>0.0</td><td>0.0</td><td>0.0</td><td>0.0</td><td>0.0</td></tr><tr><td>&hellip;</td><td>&hellip;</td><td>&hellip;</td><td>&hellip;</td><td>&hellip;</td><td>&hellip;</td><td>&hellip;</td><td>&hellip;</td><td>&hellip;</td><td>&hellip;</td><td>&hellip;</td><td>&hellip;</td><td>&hellip;</td></tr><tr><td>1.0</td><td>1.0</td><td>7.0</td><td>7.0</td><td>175.0</td><td>0.0</td><td>0.0</td><td>0.0</td><td>0.0</td><td>0.0</td><td>0.0</td><td>0.0</td><td>0.0</td></tr><tr><td>40.0</td><td>33.0</td><td>469.0</td><td>36.009998</td><td>149.919998</td><td>79.400002</td><td>661.0</td><td>26.0</td><td>8.62</td><td>13.0</td><td>13.0</td><td>0.0</td><td>0.33</td></tr><tr><td>17.0</td><td>7.0</td><td>32.0</td><td>17.57</td><td>90.910004</td><td>55.0</td><td>300.0</td><td>18.0</td><td>5.56</td><td>2.0</td><td>2.0</td><td>0.0</td><td>0.12</td></tr><tr><td>0.0</td><td>0.0</td><td>0.0</td><td>0.0</td><td>0.0</td><td>0.0</td><td>0.0</td><td>0.0</td><td>0.0</td><td>0.0</td><td>0.0</td><td>0.0</td><td>0.0</td></tr><tr><td>0.0</td><td>0.0</td><td>0.0</td><td>0.0</td><td>0.0</td><td>0.0</td><td>0.0</td><td>0.0</td><td>0.0</td><td>0.0</td><td>0.0</td><td>0.0</td><td>0.0</td></tr></tbody></table></div>"
      ],
      "text/plain": [
       "shape: (22, 13)\n",
       "┌───────────┬───────────┬───────────┬───────────┬───┬───────────┬───────────┬───────────┬──────────┐\n",
       "│ Cum Mat   ┆ Cum Inns  ┆ Cum Runs  ┆ Cum       ┆ … ┆ Cumulativ ┆ Cumulativ ┆ Cumulativ ┆ Cumulati │\n",
       "│ Total     ┆ Total     ┆ Total     ┆ Batting   ┆   ┆ e Dis     ┆ e Ct      ┆ e St      ┆ ve D/I   │\n",
       "│ ---       ┆ ---       ┆ ---       ┆ Ave       ┆   ┆ ---       ┆ ---       ┆ ---       ┆ ---      │\n",
       "│ f64       ┆ f64       ┆ f64       ┆ ---       ┆   ┆ f64       ┆ f64       ┆ f64       ┆ f64      │\n",
       "│           ┆           ┆           ┆ f64       ┆   ┆           ┆           ┆           ┆          │\n",
       "╞═══════════╪═══════════╪═══════════╪═══════════╪═══╪═══════════╪═══════════╪═══════════╪══════════╡\n",
       "│ 42.0      ┆ 35.0      ┆ 739.0     ┆ 36.349998 ┆ … ┆ 19.0      ┆ 19.0      ┆ 0.0       ┆ 0.45     │\n",
       "│ 6.0       ┆ 6.0       ┆ 101.0     ┆ 16.83     ┆ … ┆ 1.0       ┆ 1.0       ┆ 0.0       ┆ 0.17     │\n",
       "│ 13.0      ┆ 13.0      ┆ 273.0     ┆ 21.0      ┆ … ┆ 12.0      ┆ 12.0      ┆ 0.0       ┆ 0.92     │\n",
       "│ 44.0      ┆ 38.0      ┆ 947.0     ┆ 33.5      ┆ … ┆ 20.0      ┆ 20.0      ┆ 0.0       ┆ 0.45     │\n",
       "│ 0.0       ┆ 0.0       ┆ 0.0       ┆ 0.0       ┆ … ┆ 0.0       ┆ 0.0       ┆ 0.0       ┆ 0.0      │\n",
       "│ …         ┆ …         ┆ …         ┆ …         ┆ … ┆ …         ┆ …         ┆ …         ┆ …        │\n",
       "│ 1.0       ┆ 1.0       ┆ 7.0       ┆ 7.0       ┆ … ┆ 0.0       ┆ 0.0       ┆ 0.0       ┆ 0.0      │\n",
       "│ 40.0      ┆ 33.0      ┆ 469.0     ┆ 36.009998 ┆ … ┆ 13.0      ┆ 13.0      ┆ 0.0       ┆ 0.33     │\n",
       "│ 17.0      ┆ 7.0       ┆ 32.0      ┆ 17.57     ┆ … ┆ 2.0       ┆ 2.0       ┆ 0.0       ┆ 0.12     │\n",
       "│ 0.0       ┆ 0.0       ┆ 0.0       ┆ 0.0       ┆ … ┆ 0.0       ┆ 0.0       ┆ 0.0       ┆ 0.0      │\n",
       "│ 0.0       ┆ 0.0       ┆ 0.0       ┆ 0.0       ┆ … ┆ 0.0       ┆ 0.0       ┆ 0.0       ┆ 0.0      │\n",
       "└───────────┴───────────┴───────────┴───────────┴───┴───────────┴───────────┴───────────┴──────────┘"
      ]
     },
     "execution_count": 166,
     "metadata": {},
     "output_type": "execute_result"
    }
   ],
   "source": [
    "print(\"Player Stats:\")\n",
    "player_df"
   ]
  },
  {
   "cell_type": "code",
   "execution_count": 167,
   "metadata": {},
   "outputs": [
    {
     "name": "stdout",
     "output_type": "stream",
     "text": [
      "Single Match Data:\n",
      "Team Stats:\n"
     ]
    },
    {
     "data": {
      "text/html": [
       "<div><style>\n",
       ".dataframe > thead > tr,\n",
       ".dataframe > tbody > tr {\n",
       "  text-align: right;\n",
       "  white-space: pre-wrap;\n",
       "}\n",
       "</style>\n",
       "<small>shape: (1, 13)</small><table border=\"1\" class=\"dataframe\"><thead><tr><th>gender</th><th>Cumulative Won team1</th><th>Cumulative Lost team1</th><th>Cumulative Tied team1</th><th>Cumulative W/L team1</th><th>Cumulative AveRPW team1</th><th>Cumulative AveRPO team1</th><th>Cumulative Won team2</th><th>Cumulative Lost team2</th><th>Cumulative Tied team2</th><th>Cumulative W/L team2</th><th>Cumulative AveRPW team2</th><th>Cumulative AveRPO team2</th></tr><tr><td>f64</td><td>f64</td><td>f64</td><td>f64</td><td>f64</td><td>f64</td><td>f64</td><td>f64</td><td>f64</td><td>f64</td><td>f64</td><td>f64</td><td>f64</td></tr></thead><tbody><tr><td>0.0</td><td>31.0</td><td>22.0</td><td>1.0</td><td>1.41</td><td>28.76</td><td>7.99</td><td>42.0</td><td>25.0</td><td>1.0</td><td>1.68</td><td>25.0</td><td>7.75</td></tr></tbody></table></div>"
      ],
      "text/plain": [
       "shape: (1, 13)\n",
       "┌────────┬────────────┬────────────┬───────────┬───┬───────────┬───────────┬───────────┬───────────┐\n",
       "│ gender ┆ Cumulative ┆ Cumulative ┆ Cumulativ ┆ … ┆ Cumulativ ┆ Cumulativ ┆ Cumulativ ┆ Cumulativ │\n",
       "│ ---    ┆ Won team1  ┆ Lost team1 ┆ e Tied    ┆   ┆ e Tied    ┆ e W/L     ┆ e AveRPW  ┆ e AveRPO  │\n",
       "│ f64    ┆ ---        ┆ ---        ┆ team1     ┆   ┆ team2     ┆ team2     ┆ team2     ┆ team2     │\n",
       "│        ┆ f64        ┆ f64        ┆ ---       ┆   ┆ ---       ┆ ---       ┆ ---       ┆ ---       │\n",
       "│        ┆            ┆            ┆ f64       ┆   ┆ f64       ┆ f64       ┆ f64       ┆ f64       │\n",
       "╞════════╪════════════╪════════════╪═══════════╪═══╪═══════════╪═══════════╪═══════════╪═══════════╡\n",
       "│ 0.0    ┆ 31.0       ┆ 22.0       ┆ 1.0       ┆ … ┆ 1.0       ┆ 1.68      ┆ 25.0      ┆ 7.75      │\n",
       "└────────┴────────────┴────────────┴───────────┴───┴───────────┴───────────┴───────────┴───────────┘"
      ]
     },
     "execution_count": 167,
     "metadata": {},
     "output_type": "execute_result"
    }
   ],
   "source": [
    "print(\"Single Match Data:\")\n",
    "print(\"Team Stats:\")\n",
    "team_df"
   ]
  }
 ],
 "metadata": {
  "kernelspec": {
   "display_name": "huggingface-torch",
   "language": "python",
   "name": "python3"
  },
  "language_info": {
   "codemirror_mode": {
    "name": "ipython",
    "version": 3
   },
   "file_extension": ".py",
   "mimetype": "text/x-python",
   "name": "python",
   "nbconvert_exporter": "python",
   "pygments_lexer": "ipython3",
   "version": "3.9.20"
  }
 },
 "nbformat": 4,
 "nbformat_minor": 2
}
