{
 "cells": [
  {
   "cell_type": "code",
   "execution_count": 157,
   "metadata": {},
   "outputs": [],
   "source": [
    "import os\n",
    "import glob\n",
    "import polars as pl\n",
    "\n",
    "# Specify the directory where your CSV files are located\n",
    "directory = r'D:\\github\\Cricket-Prediction\\historical_data\\t20s_csv2'\n",
    "\n",
    "# Use glob to find all CSV files in the specified directory\n",
    "info_files = glob.glob(os.path.join(directory, '*_info.csv'))\n",
    "all_files = glob.glob(os.path.join(directory,'*.csv'))\n",
    "delivery_files = [file for file in all_files if '_info' not in file]\n",
    "\n",
    "matches=[]\n",
    "deliveries=[]\n",
    "# Print the list of CSV files\n",
    "for info_file in info_files:\n",
    "    matches.append(info_file.split('\\\\')[-1])\n",
    "for delivery in delivery_files:\n",
    "    if '_info' not in delivery:\n",
    "        deliveries.append(delivery.split('\\\\')[-1])"
   ]
  },
  {
   "cell_type": "code",
   "execution_count": 158,
   "metadata": {},
   "outputs": [
    {
     "name": "stdout",
     "output_type": "stream",
     "text": [
      "Combined DataFrame:\n",
      "Injured matches (failed to process): ['1040487_info.csv', '1043991_info.csv', '1072316_info.csv', '1089777_info.csv', '1119501_info.csv', '1144174_info.csv', '1144990_info.csv', '1146723_info.csv', '1146725_info.csv', '1150539_info.csv', '1188622_info.csv', '1216416_info.csv', '1223952_info.csv', '1233954_info.csv', '1233980_info.csv', '1244848_info.csv', '1249207_info.csv', '1260097_info.csv', '1263471_info.csv', '1298154_info.csv', '1298163_info.csv', '1298169_info.csv', '1298170_info.csv', '1322004_info.csv', '1335788_info.csv', '1335790_info.csv', '1335802_info.csv', '1336076_info.csv', '1336080_info.csv', '1338057_info.csv', '1355720_info.csv', '1362817_info.csv', '1377016_info.csv', '1382164_info.csv', '1384634_info.csv', '1387598_info.csv', '1388198_info.csv', '1388204_info.csv', '1388215_info.csv', '1388225_info.csv', '1392803_info.csv', '1415734_info.csv', '1415744_info.csv', '1415750_info.csv', '1415752_info.csv', '1416079_info.csv', '1422808_info.csv', '1425126_info.csv', '1429394_info.csv', '1429396_info.csv', '1434291_info.csv', '251487_info.csv', '356011_info.csv', '387563_info.csv', '412684_info.csv', '412685_info.csv', '412686_info.csv', '527013_info.csv', '533279_info.csv', '567354_info.csv', '573020_info.csv', '682911_info.csv', '682925_info.csv', '685727_info.csv', '730283_info.csv', '895789_info.csv', '951323_info.csv', '951327_info.csv', '951387_info.csv']\n"
     ]
    }
   ],
   "source": [
    "import polars as pl\n",
    "import os\n",
    "\n",
    "# Initialize an empty list to hold the DataFrames and another for injured matches\n",
    "dataframes = []\n",
    "injured_matches = []\n",
    "\n",
    "# Loop through the matches list\n",
    "for match in matches:\n",
    "    # Extract the match_id from the filename (e.g., '1001349_info.csv' -> '1001349')\n",
    "    match_id = match.split('_')[0]\n",
    "    \n",
    "    # Construct the full file path\n",
    "    file_path = os.path.join(directory, match)\n",
    "    \n",
    "    try:\n",
    "        # Try to load the CSV and rename the columns\n",
    "        df = pl.read_csv(file_path, skip_rows=43, has_header=False)\n",
    "        df = df.rename({\n",
    "            'column_1': 'info',\n",
    "            'column_2': 'registry',\n",
    "            'column_3': 'people',\n",
    "            'column_4': 'player',\n",
    "            'column_5': 'player_id'\n",
    "        })\n",
    "        \n",
    "        # Add the match_id as a new column to the DataFrame\n",
    "        df = df.with_columns(pl.lit(match_id).alias('match_id').cast(pl.Int64))\n",
    "        \n",
    "        # Append the DataFrame to the list\n",
    "        dataframes.append(df)\n",
    "    \n",
    "    except Exception as e:\n",
    "        # If an error occurs, print the error and append the match to injured_matches\n",
    "        injured_matches.append(match)\n",
    "\n",
    "# Combine all DataFrames into one DataFrame if there are any successful matches\n",
    "if dataframes:\n",
    "    playerid_df = pl.concat(dataframes)\n",
    "    print(\"Combined DataFrame:\")\n",
    "else:\n",
    "    print(\"No valid dataframes to combine.\")\n",
    "\n",
    "# Show the list of files that couldn't be processed\n",
    "print(f\"Injured matches (failed to process): {injured_matches}\")"
   ]
  },
  {
   "cell_type": "code",
   "execution_count": 159,
   "metadata": {},
   "outputs": [
    {
     "data": {
      "text/html": [
       "<div><style>\n",
       ".dataframe > thead > tr,\n",
       ".dataframe > tbody > tr {\n",
       "  text-align: right;\n",
       "  white-space: pre-wrap;\n",
       "}\n",
       "</style>\n",
       "<small>shape: (88_362, 6)</small><table border=\"1\" class=\"dataframe\"><thead><tr><th>info</th><th>registry</th><th>people</th><th>player</th><th>player_id</th><th>match_id</th></tr><tr><td>str</td><td>str</td><td>str</td><td>str</td><td>str</td><td>i64</td></tr></thead><tbody><tr><td>&quot;info&quot;</td><td>&quot;registry&quot;</td><td>&quot;people&quot;</td><td>&quot;A Zampa&quot;</td><td>&quot;14f96089&quot;</td><td>1001349</td></tr><tr><td>&quot;info&quot;</td><td>&quot;registry&quot;</td><td>&quot;people&quot;</td><td>&quot;AJ Finch&quot;</td><td>&quot;b8d490fd&quot;</td><td>1001349</td></tr><tr><td>&quot;info&quot;</td><td>&quot;registry&quot;</td><td>&quot;people&quot;</td><td>&quot;AJ Turner&quot;</td><td>&quot;ff1e12a0&quot;</td><td>1001349</td></tr><tr><td>&quot;info&quot;</td><td>&quot;registry&quot;</td><td>&quot;people&quot;</td><td>&quot;AJ Tye&quot;</td><td>&quot;7c7d63a2&quot;</td><td>1001349</td></tr><tr><td>&quot;info&quot;</td><td>&quot;registry&quot;</td><td>&quot;people&quot;</td><td>&quot;B Stanlake&quot;</td><td>&quot;6834d1f2&quot;</td><td>1001349</td></tr><tr><td>&hellip;</td><td>&hellip;</td><td>&hellip;</td><td>&hellip;</td><td>&hellip;</td><td>&hellip;</td></tr><tr><td>&quot;info&quot;</td><td>&quot;registry&quot;</td><td>&quot;people&quot;</td><td>&quot;SMSM Senanayake&quot;</td><td>&quot;4c4fa80b&quot;</td><td>995469</td></tr><tr><td>&quot;info&quot;</td><td>&quot;registry&quot;</td><td>&quot;people&quot;</td><td>&quot;SS Pathirana&quot;</td><td>&quot;753c95b9&quot;</td><td>995469</td></tr><tr><td>&quot;info&quot;</td><td>&quot;registry&quot;</td><td>&quot;people&quot;</td><td>&quot;TM Dilshan&quot;</td><td>&quot;5bdcdb72&quot;</td><td>995469</td></tr><tr><td>&quot;info&quot;</td><td>&quot;registry&quot;</td><td>&quot;people&quot;</td><td>&quot;TM Head&quot;</td><td>&quot;12b610c2&quot;</td><td>995469</td></tr><tr><td>&quot;info&quot;</td><td>&quot;registry&quot;</td><td>&quot;people&quot;</td><td>&quot;UT Khawaja&quot;</td><td>&quot;331ea488&quot;</td><td>995469</td></tr></tbody></table></div>"
      ],
      "text/plain": [
       "shape: (88_362, 6)\n",
       "┌──────┬──────────┬────────┬─────────────────┬───────────┬──────────┐\n",
       "│ info ┆ registry ┆ people ┆ player          ┆ player_id ┆ match_id │\n",
       "│ ---  ┆ ---      ┆ ---    ┆ ---             ┆ ---       ┆ ---      │\n",
       "│ str  ┆ str      ┆ str    ┆ str             ┆ str       ┆ i64      │\n",
       "╞══════╪══════════╪════════╪═════════════════╪═══════════╪══════════╡\n",
       "│ info ┆ registry ┆ people ┆ A Zampa         ┆ 14f96089  ┆ 1001349  │\n",
       "│ info ┆ registry ┆ people ┆ AJ Finch        ┆ b8d490fd  ┆ 1001349  │\n",
       "│ info ┆ registry ┆ people ┆ AJ Turner       ┆ ff1e12a0  ┆ 1001349  │\n",
       "│ info ┆ registry ┆ people ┆ AJ Tye          ┆ 7c7d63a2  ┆ 1001349  │\n",
       "│ info ┆ registry ┆ people ┆ B Stanlake      ┆ 6834d1f2  ┆ 1001349  │\n",
       "│ …    ┆ …        ┆ …      ┆ …               ┆ …         ┆ …        │\n",
       "│ info ┆ registry ┆ people ┆ SMSM Senanayake ┆ 4c4fa80b  ┆ 995469   │\n",
       "│ info ┆ registry ┆ people ┆ SS Pathirana    ┆ 753c95b9  ┆ 995469   │\n",
       "│ info ┆ registry ┆ people ┆ TM Dilshan      ┆ 5bdcdb72  ┆ 995469   │\n",
       "│ info ┆ registry ┆ people ┆ TM Head         ┆ 12b610c2  ┆ 995469   │\n",
       "│ info ┆ registry ┆ people ┆ UT Khawaja      ┆ 331ea488  ┆ 995469   │\n",
       "└──────┴──────────┴────────┴─────────────────┴───────────┴──────────┘"
      ]
     },
     "execution_count": 159,
     "metadata": {},
     "output_type": "execute_result"
    }
   ],
   "source": [
    "playerid_df"
   ]
  },
  {
   "cell_type": "code",
   "execution_count": 162,
   "metadata": {},
   "outputs": [
    {
     "name": "stdout",
     "output_type": "stream",
     "text": [
      "Combined DataFrame:\n",
      "shape: (77_704, 3)\n",
      "┌─────────────────┬───────────┬──────────┐\n",
      "│ player          ┆ people    ┆ match_id │\n",
      "│ ---             ┆ ---       ┆ ---      │\n",
      "│ str             ┆ str       ┆ i64      │\n",
      "╞═════════════════╪═══════════╪══════════╡\n",
      "│ AJ Finch        ┆ Australia ┆ 1001349  │\n",
      "│ M Klinger       ┆ Australia ┆ 1001349  │\n",
      "│ TM Head         ┆ Australia ┆ 1001349  │\n",
      "│ MC Henriques    ┆ Australia ┆ 1001349  │\n",
      "│ AJ Turner       ┆ Australia ┆ 1001349  │\n",
      "│ …               ┆ …         ┆ …        │\n",
      "│ NLTC Perera     ┆ Sri Lanka ┆ 995469   │\n",
      "│ SS Pathirana    ┆ Sri Lanka ┆ 995469   │\n",
      "│ S Prasanna      ┆ Sri Lanka ┆ 995469   │\n",
      "│ SMSM Senanayake ┆ Sri Lanka ┆ 995469   │\n",
      "│ RAS Lakmal      ┆ Sri Lanka ┆ 995469   │\n",
      "└─────────────────┴───────────┴──────────┘\n"
     ]
    }
   ],
   "source": [
    "import polars as pl\n",
    "import os\n",
    "\n",
    "# Path to your data directory\n",
    "datapath = r'D:\\github\\Cricket-Prediction\\historical_data\\t20s_csv2'\n",
    "\n",
    "\n",
    "# Initialize a list to hold DataFrames\n",
    "dataframes = []\n",
    "\n",
    "# Loop through the match files\n",
    "for match in matches:\n",
    "    # Extract the match_id from the filename (e.g., '1001349_info.csv' -> '1001349')\n",
    "    match_id = match.split('_')[0]\n",
    "    \n",
    "    # Construct the full file path\n",
    "    file_path = os.path.join(datapath, match)\n",
    "    \n",
    "    try:\n",
    "        # Read the CSV, skip 21 rows, and take the first 22 rows\n",
    "        df = pl.read_csv(file_path, truncate_ragged_lines=True, skip_rows=21, has_header=False)[:22]\n",
    "        \n",
    "        # Rename the columns (adjust based on your schema)\n",
    "        df = df.rename({\n",
    "            'column_1': 'info',\n",
    "            'column_2': 'registry',\n",
    "            'column_3': 'people',\n",
    "            'column_4': 'player',\n",
    "            # You mentioned 'match_id' should be added, not present in file\n",
    "        })\n",
    "        \n",
    "        # Add the match_id as a new column to the DataFrame\n",
    "        df = df.with_columns(pl.lit(match_id).alias('match_id').cast(pl.Int64))\n",
    "        \n",
    "        # Select only the relevant columns (modify as needed)\n",
    "        df = df.select(['player', 'people', 'match_id'])\n",
    "        \n",
    "        # Append the processed DataFrame to the list\n",
    "        dataframes.append(df)\n",
    "    \n",
    "    except Exception as e:\n",
    "        # Handle errors during processing\n",
    "        print(f\"Error processing file {match}: {e}\")\n",
    "\n",
    "# Combine all DataFrames if there are any valid ones\n",
    "if dataframes:\n",
    "    final_df = pl.concat(dataframes)\n",
    "    print(\"Combined DataFrame:\")\n",
    "    print(final_df)\n",
    "else:\n",
    "    print(\"No valid dataframes to combine.\")"
   ]
  },
  {
   "cell_type": "code",
   "execution_count": 145,
   "metadata": {},
   "outputs": [
    {
     "data": {
      "text/html": [
       "<div><style>\n",
       ".dataframe > thead > tr,\n",
       ".dataframe > tbody > tr {\n",
       "  text-align: right;\n",
       "  white-space: pre-wrap;\n",
       "}\n",
       "</style>\n",
       "<small>shape: (77_704, 3)</small><table border=\"1\" class=\"dataframe\"><thead><tr><th>player</th><th>people</th><th>match_id</th></tr><tr><td>str</td><td>str</td><td>i64</td></tr></thead><tbody><tr><td>&quot;AJ Finch&quot;</td><td>&quot;Australia&quot;</td><td>1001349</td></tr><tr><td>&quot;M Klinger&quot;</td><td>&quot;Australia&quot;</td><td>1001349</td></tr><tr><td>&quot;TM Head&quot;</td><td>&quot;Australia&quot;</td><td>1001349</td></tr><tr><td>&quot;MC Henriques&quot;</td><td>&quot;Australia&quot;</td><td>1001349</td></tr><tr><td>&quot;AJ Turner&quot;</td><td>&quot;Australia&quot;</td><td>1001349</td></tr><tr><td>&hellip;</td><td>&hellip;</td><td>&hellip;</td></tr><tr><td>&quot;NLTC Perera&quot;</td><td>&quot;Sri Lanka&quot;</td><td>995469</td></tr><tr><td>&quot;SS Pathirana&quot;</td><td>&quot;Sri Lanka&quot;</td><td>995469</td></tr><tr><td>&quot;S Prasanna&quot;</td><td>&quot;Sri Lanka&quot;</td><td>995469</td></tr><tr><td>&quot;SMSM Senanayake&quot;</td><td>&quot;Sri Lanka&quot;</td><td>995469</td></tr><tr><td>&quot;RAS Lakmal&quot;</td><td>&quot;Sri Lanka&quot;</td><td>995469</td></tr></tbody></table></div>"
      ],
      "text/plain": [
       "shape: (77_704, 3)\n",
       "┌─────────────────┬───────────┬──────────┐\n",
       "│ player          ┆ people    ┆ match_id │\n",
       "│ ---             ┆ ---       ┆ ---      │\n",
       "│ str             ┆ str       ┆ i64      │\n",
       "╞═════════════════╪═══════════╪══════════╡\n",
       "│ AJ Finch        ┆ Australia ┆ 1001349  │\n",
       "│ M Klinger       ┆ Australia ┆ 1001349  │\n",
       "│ TM Head         ┆ Australia ┆ 1001349  │\n",
       "│ MC Henriques    ┆ Australia ┆ 1001349  │\n",
       "│ AJ Turner       ┆ Australia ┆ 1001349  │\n",
       "│ …               ┆ …         ┆ …        │\n",
       "│ NLTC Perera     ┆ Sri Lanka ┆ 995469   │\n",
       "│ SS Pathirana    ┆ Sri Lanka ┆ 995469   │\n",
       "│ S Prasanna      ┆ Sri Lanka ┆ 995469   │\n",
       "│ SMSM Senanayake ┆ Sri Lanka ┆ 995469   │\n",
       "│ RAS Lakmal      ┆ Sri Lanka ┆ 995469   │\n",
       "└─────────────────┴───────────┴──────────┘"
      ]
     },
     "execution_count": 145,
     "metadata": {},
     "output_type": "execute_result"
    }
   ],
   "source": [
    "final_df"
   ]
  },
  {
   "cell_type": "code",
   "execution_count": 150,
   "metadata": {},
   "outputs": [
    {
     "data": {
      "text/html": [
       "<div><style>\n",
       ".dataframe > thead > tr,\n",
       ".dataframe > tbody > tr {\n",
       "  text-align: right;\n",
       "  white-space: pre-wrap;\n",
       "}\n",
       "</style>\n",
       "<small>shape: (70_430, 5)</small><table border=\"1\" class=\"dataframe\"><thead><tr><th>player</th><th>people</th><th>match_id</th><th>country</th><th>player_id</th></tr><tr><td>str</td><td>str</td><td>i64</td><td>str</td><td>str</td></tr></thead><tbody><tr><td>&quot;A Zampa&quot;</td><td>&quot;Australia&quot;</td><td>1001349</td><td>&quot;people&quot;</td><td>&quot;14f96089&quot;</td></tr><tr><td>&quot;AJ Finch&quot;</td><td>&quot;Australia&quot;</td><td>1001349</td><td>&quot;people&quot;</td><td>&quot;b8d490fd&quot;</td></tr><tr><td>&quot;AJ Turner&quot;</td><td>&quot;Australia&quot;</td><td>1001349</td><td>&quot;people&quot;</td><td>&quot;ff1e12a0&quot;</td></tr><tr><td>&quot;AJ Tye&quot;</td><td>&quot;Australia&quot;</td><td>1001349</td><td>&quot;people&quot;</td><td>&quot;7c7d63a2&quot;</td></tr><tr><td>&quot;B Stanlake&quot;</td><td>&quot;Australia&quot;</td><td>1001349</td><td>&quot;people&quot;</td><td>&quot;6834d1f2&quot;</td></tr><tr><td>&hellip;</td><td>&hellip;</td><td>&hellip;</td><td>&hellip;</td><td>&hellip;</td></tr><tr><td>&quot;SMSM Senanayake&quot;</td><td>&quot;Sri Lanka&quot;</td><td>995469</td><td>&quot;people&quot;</td><td>&quot;4c4fa80b&quot;</td></tr><tr><td>&quot;SS Pathirana&quot;</td><td>&quot;Sri Lanka&quot;</td><td>995469</td><td>&quot;people&quot;</td><td>&quot;753c95b9&quot;</td></tr><tr><td>&quot;TM Dilshan&quot;</td><td>&quot;Sri Lanka&quot;</td><td>995469</td><td>&quot;people&quot;</td><td>&quot;5bdcdb72&quot;</td></tr><tr><td>&quot;TM Head&quot;</td><td>&quot;Australia&quot;</td><td>995469</td><td>&quot;people&quot;</td><td>&quot;12b610c2&quot;</td></tr><tr><td>&quot;UT Khawaja&quot;</td><td>&quot;Australia&quot;</td><td>995469</td><td>&quot;people&quot;</td><td>&quot;331ea488&quot;</td></tr></tbody></table></div>"
      ],
      "text/plain": [
       "shape: (70_430, 5)\n",
       "┌─────────────────┬───────────┬──────────┬─────────┬───────────┐\n",
       "│ player          ┆ people    ┆ match_id ┆ country ┆ player_id │\n",
       "│ ---             ┆ ---       ┆ ---      ┆ ---     ┆ ---       │\n",
       "│ str             ┆ str       ┆ i64      ┆ str     ┆ str       │\n",
       "╞═════════════════╪═══════════╪══════════╪═════════╪═══════════╡\n",
       "│ A Zampa         ┆ Australia ┆ 1001349  ┆ people  ┆ 14f96089  │\n",
       "│ AJ Finch        ┆ Australia ┆ 1001349  ┆ people  ┆ b8d490fd  │\n",
       "│ AJ Turner       ┆ Australia ┆ 1001349  ┆ people  ┆ ff1e12a0  │\n",
       "│ AJ Tye          ┆ Australia ┆ 1001349  ┆ people  ┆ 7c7d63a2  │\n",
       "│ B Stanlake      ┆ Australia ┆ 1001349  ┆ people  ┆ 6834d1f2  │\n",
       "│ …               ┆ …         ┆ …        ┆ …       ┆ …         │\n",
       "│ SMSM Senanayake ┆ Sri Lanka ┆ 995469   ┆ people  ┆ 4c4fa80b  │\n",
       "│ SS Pathirana    ┆ Sri Lanka ┆ 995469   ┆ people  ┆ 753c95b9  │\n",
       "│ TM Dilshan      ┆ Sri Lanka ┆ 995469   ┆ people  ┆ 5bdcdb72  │\n",
       "│ TM Head         ┆ Australia ┆ 995469   ┆ people  ┆ 12b610c2  │\n",
       "│ UT Khawaja      ┆ Australia ┆ 995469   ┆ people  ┆ 331ea488  │\n",
       "└─────────────────┴───────────┴──────────┴─────────┴───────────┘"
      ]
     },
     "execution_count": 150,
     "metadata": {},
     "output_type": "execute_result"
    }
   ],
   "source": [
    "df = final_df.join(playerid_df, on=['match_id','player'], how='inner').drop('people_right','info').rename({'column_5':'player_id'})\n",
    "df"
   ]
  },
  {
   "cell_type": "code",
   "execution_count": 156,
   "metadata": {},
   "outputs": [
    {
     "data": {
      "text/html": [
       "<div><style>\n",
       ".dataframe > thead > tr,\n",
       ".dataframe > tbody > tr {\n",
       "  text-align: right;\n",
       "  white-space: pre-wrap;\n",
       "}\n",
       "</style>\n",
       "<small>shape: (5_490, 4)</small><table border=\"1\" class=\"dataframe\"><thead><tr><th>player</th><th>people</th><th>country</th><th>player_id</th></tr><tr><td>str</td><td>str</td><td>str</td><td>str</td></tr></thead><tbody><tr><td>&quot;DJG Sammy&quot;</td><td>&quot;ICC World XI&quot;</td><td>&quot;people&quot;</td><td>&quot;c03c6200&quot;</td></tr><tr><td>&quot;Atif Kamal&quot;</td><td>&quot;Luxembourg&quot;</td><td>&quot;people&quot;</td><td>&quot;f8bd71c9&quot;</td></tr><tr><td>&quot;TR Sadhu&quot;</td><td>&quot;India&quot;</td><td>&quot;people&quot;</td><td>&quot;25ca0573&quot;</td></tr><tr><td>&quot;KK Ahmed&quot;</td><td>&quot;India&quot;</td><td>&quot;people&quot;</td><td>&quot;a2f46292&quot;</td></tr><tr><td>&quot;M Gill&quot;</td><td>&quot;Canada&quot;</td><td>&quot;people&quot;</td><td>&quot;4cfe9bac&quot;</td></tr><tr><td>&hellip;</td><td>&hellip;</td><td>&hellip;</td><td>&hellip;</td></tr><tr><td>&quot;S Kucuksucu&quot;</td><td>&quot;Croatia&quot;</td><td>&quot;people&quot;</td><td>&quot;fea44a7f&quot;</td></tr><tr><td>&quot;DJ Vilas&quot;</td><td>&quot;South Africa&quot;</td><td>&quot;people&quot;</td><td>&quot;087210b1&quot;</td></tr><tr><td>&quot;N Ndouteng&quot;</td><td>&quot;Cameroon&quot;</td><td>&quot;people&quot;</td><td>&quot;25640e61&quot;</td></tr><tr><td>&quot;D Staddon&quot;</td><td>&quot;Brazil&quot;</td><td>&quot;people&quot;</td><td>&quot;4a28527d&quot;</td></tr><tr><td>&quot;Nyeing Cham Soe&quot;</td><td>&quot;Myanmar&quot;</td><td>&quot;people&quot;</td><td>&quot;45b5ce8d&quot;</td></tr></tbody></table></div>"
      ],
      "text/plain": [
       "shape: (5_490, 4)\n",
       "┌─────────────────┬──────────────┬─────────┬───────────┐\n",
       "│ player          ┆ people       ┆ country ┆ player_id │\n",
       "│ ---             ┆ ---          ┆ ---     ┆ ---       │\n",
       "│ str             ┆ str          ┆ str     ┆ str       │\n",
       "╞═════════════════╪══════════════╪═════════╪═══════════╡\n",
       "│ DJG Sammy       ┆ ICC World XI ┆ people  ┆ c03c6200  │\n",
       "│ Atif Kamal      ┆ Luxembourg   ┆ people  ┆ f8bd71c9  │\n",
       "│ TR Sadhu        ┆ India        ┆ people  ┆ 25ca0573  │\n",
       "│ KK Ahmed        ┆ India        ┆ people  ┆ a2f46292  │\n",
       "│ M Gill          ┆ Canada       ┆ people  ┆ 4cfe9bac  │\n",
       "│ …               ┆ …            ┆ …       ┆ …         │\n",
       "│ S Kucuksucu     ┆ Croatia      ┆ people  ┆ fea44a7f  │\n",
       "│ DJ Vilas        ┆ South Africa ┆ people  ┆ 087210b1  │\n",
       "│ N Ndouteng      ┆ Cameroon     ┆ people  ┆ 25640e61  │\n",
       "│ D Staddon       ┆ Brazil       ┆ people  ┆ 4a28527d  │\n",
       "│ Nyeing Cham Soe ┆ Myanmar      ┆ people  ┆ 45b5ce8d  │\n",
       "└─────────────────┴──────────────┴─────────┴───────────┘"
      ]
     },
     "execution_count": 156,
     "metadata": {},
     "output_type": "execute_result"
    }
   ],
   "source": [
    "df.drop(\"match_id\").unique()"
   ]
  },
  {
   "cell_type": "code",
   "execution_count": 153,
   "metadata": {},
   "outputs": [
    {
     "data": {
      "text/html": [
       "<div><style>\n",
       ".dataframe > thead > tr,\n",
       ".dataframe > tbody > tr {\n",
       "  text-align: right;\n",
       "  white-space: pre-wrap;\n",
       "}\n",
       "</style>\n",
       "<small>shape: (15_372, 4)</small><table border=\"1\" class=\"dataframe\"><thead><tr><th>player_id</th><th>name</th><th>unique_name</th><th>key_cricinfo</th></tr><tr><td>str</td><td>str</td><td>str</td><td>i64</td></tr></thead><tbody><tr><td>&quot;b4a23876&quot;</td><td>&quot;AAA Amsterdam&quot;</td><td>&quot;AAA Amsterdam&quot;</td><td>772407</td></tr><tr><td>&quot;482762af&quot;</td><td>&quot;AA Adeoye&quot;</td><td>&quot;AA Adeoye&quot;</td><td>380588</td></tr><tr><td>&quot;4b0e3049&quot;</td><td>&quot;AA Alleyne&quot;</td><td>&quot;AA Alleyne&quot;</td><td>661441</td></tr><tr><td>&quot;fd3c5c00&quot;</td><td>&quot;AAA Patel&quot;</td><td>&quot;AAA Patel&quot;</td><td>1163136</td></tr><tr><td>&quot;bc005f0d&quot;</td><td>&quot;AAA White&quot;</td><td>&quot;AAA White&quot;</td><td>474307</td></tr><tr><td>&hellip;</td><td>&hellip;</td><td>&hellip;</td><td>&hellip;</td></tr><tr><td>&quot;ee9bdbc8&quot;</td><td>&quot;Zulqarnain Haider&quot;</td><td>&quot;Zulqarnain Haider&quot;</td><td>43860</td></tr><tr><td>&quot;2d46e8ed&quot;</td><td>&quot;Zulqarnain Haider&quot;</td><td>&quot;Zulqarnain Haider (2)&quot;</td><td>1046641</td></tr><tr><td>&quot;b71670a0&quot;</td><td>&quot;Zulufat Mutoniwase&quot;</td><td>&quot;Zulufat Mutoniwase&quot;</td><td>1380564</td></tr><tr><td>&quot;d35c1fc7&quot;</td><td>&quot;Zumika Azmi&quot;</td><td>&quot;Zumika Azmi&quot;</td><td>1050037</td></tr><tr><td>&quot;78a3ae4b&quot;</td><td>&quot;ZXM Vukusic&quot;</td><td>&quot;ZXM Vukusic&quot;</td><td>1442092</td></tr></tbody></table></div>"
      ],
      "text/plain": [
       "shape: (15_372, 4)\n",
       "┌───────────┬────────────────────┬───────────────────────┬──────────────┐\n",
       "│ player_id ┆ name               ┆ unique_name           ┆ key_cricinfo │\n",
       "│ ---       ┆ ---                ┆ ---                   ┆ ---          │\n",
       "│ str       ┆ str                ┆ str                   ┆ i64          │\n",
       "╞═══════════╪════════════════════╪═══════════════════════╪══════════════╡\n",
       "│ b4a23876  ┆ AAA Amsterdam      ┆ AAA Amsterdam         ┆ 772407       │\n",
       "│ 482762af  ┆ AA Adeoye          ┆ AA Adeoye             ┆ 380588       │\n",
       "│ 4b0e3049  ┆ AA Alleyne         ┆ AA Alleyne            ┆ 661441       │\n",
       "│ fd3c5c00  ┆ AAA Patel          ┆ AAA Patel             ┆ 1163136      │\n",
       "│ bc005f0d  ┆ AAA White          ┆ AAA White             ┆ 474307       │\n",
       "│ …         ┆ …                  ┆ …                     ┆ …            │\n",
       "│ ee9bdbc8  ┆ Zulqarnain Haider  ┆ Zulqarnain Haider     ┆ 43860        │\n",
       "│ 2d46e8ed  ┆ Zulqarnain Haider  ┆ Zulqarnain Haider (2) ┆ 1046641      │\n",
       "│ b71670a0  ┆ Zulufat Mutoniwase ┆ Zulufat Mutoniwase    ┆ 1380564      │\n",
       "│ d35c1fc7  ┆ Zumika Azmi        ┆ Zumika Azmi           ┆ 1050037      │\n",
       "│ 78a3ae4b  ┆ ZXM Vukusic        ┆ ZXM Vukusic           ┆ 1442092      │\n",
       "└───────────┴────────────────────┴───────────────────────┴──────────────┘"
      ]
     },
     "execution_count": 153,
     "metadata": {},
     "output_type": "execute_result"
    }
   ],
   "source": [
    "people = pl.read_csv(\"../../historical_data/cricsheetSource/people.csv\")[['identifier', 'name', 'unique_name','key_cricinfo']].rename({'identifier':'player_id'})\n",
    "people"
   ]
  },
  {
   "cell_type": "code",
   "execution_count": 154,
   "metadata": {},
   "outputs": [
    {
     "data": {
      "text/html": [
       "<div><style>\n",
       ".dataframe > thead > tr,\n",
       ".dataframe > tbody > tr {\n",
       "  text-align: right;\n",
       "  white-space: pre-wrap;\n",
       "}\n",
       "</style>\n",
       "<small>shape: (70_068, 7)</small><table border=\"1\" class=\"dataframe\"><thead><tr><th>player</th><th>people</th><th>match_id</th><th>country</th><th>name</th><th>unique_name</th><th>key_cricinfo</th></tr><tr><td>str</td><td>str</td><td>i64</td><td>str</td><td>str</td><td>str</td><td>i64</td></tr></thead><tbody><tr><td>&quot;A Zampa&quot;</td><td>&quot;Australia&quot;</td><td>1001349</td><td>&quot;people&quot;</td><td>&quot;A Zampa&quot;</td><td>&quot;A Zampa&quot;</td><td>379504</td></tr><tr><td>&quot;AJ Finch&quot;</td><td>&quot;Australia&quot;</td><td>1001349</td><td>&quot;people&quot;</td><td>&quot;AJ Finch&quot;</td><td>&quot;AJ Finch&quot;</td><td>5334</td></tr><tr><td>&quot;AJ Turner&quot;</td><td>&quot;Australia&quot;</td><td>1001349</td><td>&quot;people&quot;</td><td>&quot;AJ Turner&quot;</td><td>&quot;AJ Turner&quot;</td><td>500268</td></tr><tr><td>&quot;AJ Tye&quot;</td><td>&quot;Australia&quot;</td><td>1001349</td><td>&quot;people&quot;</td><td>&quot;AJ Tye&quot;</td><td>&quot;AJ Tye&quot;</td><td>459508</td></tr><tr><td>&quot;B Stanlake&quot;</td><td>&quot;Australia&quot;</td><td>1001349</td><td>&quot;people&quot;</td><td>&quot;B Stanlake&quot;</td><td>&quot;B Stanlake&quot;</td><td>533042</td></tr><tr><td>&hellip;</td><td>&hellip;</td><td>&hellip;</td><td>&hellip;</td><td>&hellip;</td><td>&hellip;</td><td>&hellip;</td></tr><tr><td>&quot;SMSM Senanayake&quot;</td><td>&quot;Sri Lanka&quot;</td><td>995469</td><td>&quot;people&quot;</td><td>&quot;SMSM Senanayake&quot;</td><td>&quot;SMSM Senanayake&quot;</td><td>273439</td></tr><tr><td>&quot;SS Pathirana&quot;</td><td>&quot;Sri Lanka&quot;</td><td>995469</td><td>&quot;people&quot;</td><td>&quot;SS Pathirana&quot;</td><td>&quot;SS Pathirana&quot;</td><td>212756</td></tr><tr><td>&quot;TM Dilshan&quot;</td><td>&quot;Sri Lanka&quot;</td><td>995469</td><td>&quot;people&quot;</td><td>&quot;TM Dilshan&quot;</td><td>&quot;TM Dilshan&quot;</td><td>48472</td></tr><tr><td>&quot;TM Head&quot;</td><td>&quot;Australia&quot;</td><td>995469</td><td>&quot;people&quot;</td><td>&quot;TM Head&quot;</td><td>&quot;TM Head&quot;</td><td>530011</td></tr><tr><td>&quot;UT Khawaja&quot;</td><td>&quot;Australia&quot;</td><td>995469</td><td>&quot;people&quot;</td><td>&quot;UT Khawaja&quot;</td><td>&quot;UT Khawaja&quot;</td><td>215155</td></tr></tbody></table></div>"
      ],
      "text/plain": [
       "shape: (70_068, 7)\n",
       "┌────────────────┬───────────┬──────────┬─────────┬────────────────┬────────────────┬──────────────┐\n",
       "│ player         ┆ people    ┆ match_id ┆ country ┆ name           ┆ unique_name    ┆ key_cricinfo │\n",
       "│ ---            ┆ ---       ┆ ---      ┆ ---     ┆ ---            ┆ ---            ┆ ---          │\n",
       "│ str            ┆ str       ┆ i64      ┆ str     ┆ str            ┆ str            ┆ i64          │\n",
       "╞════════════════╪═══════════╪══════════╪═════════╪════════════════╪════════════════╪══════════════╡\n",
       "│ A Zampa        ┆ Australia ┆ 1001349  ┆ people  ┆ A Zampa        ┆ A Zampa        ┆ 379504       │\n",
       "│ AJ Finch       ┆ Australia ┆ 1001349  ┆ people  ┆ AJ Finch       ┆ AJ Finch       ┆ 5334         │\n",
       "│ AJ Turner      ┆ Australia ┆ 1001349  ┆ people  ┆ AJ Turner      ┆ AJ Turner      ┆ 500268       │\n",
       "│ AJ Tye         ┆ Australia ┆ 1001349  ┆ people  ┆ AJ Tye         ┆ AJ Tye         ┆ 459508       │\n",
       "│ B Stanlake     ┆ Australia ┆ 1001349  ┆ people  ┆ B Stanlake     ┆ B Stanlake     ┆ 533042       │\n",
       "│ …              ┆ …         ┆ …        ┆ …       ┆ …              ┆ …              ┆ …            │\n",
       "│ SMSM           ┆ Sri Lanka ┆ 995469   ┆ people  ┆ SMSM           ┆ SMSM           ┆ 273439       │\n",
       "│ Senanayake     ┆           ┆          ┆         ┆ Senanayake     ┆ Senanayake     ┆              │\n",
       "│ SS Pathirana   ┆ Sri Lanka ┆ 995469   ┆ people  ┆ SS Pathirana   ┆ SS Pathirana   ┆ 212756       │\n",
       "│ TM Dilshan     ┆ Sri Lanka ┆ 995469   ┆ people  ┆ TM Dilshan     ┆ TM Dilshan     ┆ 48472        │\n",
       "│ TM Head        ┆ Australia ┆ 995469   ┆ people  ┆ TM Head        ┆ TM Head        ┆ 530011       │\n",
       "│ UT Khawaja     ┆ Australia ┆ 995469   ┆ people  ┆ UT Khawaja     ┆ UT Khawaja     ┆ 215155       │\n",
       "└────────────────┴───────────┴──────────┴─────────┴────────────────┴────────────────┴──────────────┘"
      ]
     },
     "execution_count": 154,
     "metadata": {},
     "output_type": "execute_result"
    }
   ],
   "source": [
    "df.join(people, on='player_id', how='inner').drop('player_id')"
   ]
  },
  {
   "cell_type": "code",
   "execution_count": null,
   "metadata": {},
   "outputs": [],
   "source": []
  }
 ],
 "metadata": {
  "kernelspec": {
   "display_name": "eda",
   "language": "python",
   "name": "python3"
  },
  "language_info": {
   "codemirror_mode": {
    "name": "ipython",
    "version": 3
   },
   "file_extension": ".py",
   "mimetype": "text/x-python",
   "name": "python",
   "nbconvert_exporter": "python",
   "pygments_lexer": "ipython3",
   "version": "3.8.19"
  }
 },
 "nbformat": 4,
 "nbformat_minor": 2
}
