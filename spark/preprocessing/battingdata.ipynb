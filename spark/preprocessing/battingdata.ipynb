{
 "cells": [
  {
   "cell_type": "code",
   "execution_count": null,
   "metadata": {},
   "outputs": [
    {
     "name": "stdout",
     "output_type": "stream",
     "text": [
      "+--------------------+---+----+---+----+---+----+---+-----+---+---+---+---+---+-------+\n",
      "|              Player|Mat|Inns| NO|Runs| HS| Ave| BF|   SR|100| 50|  0| 4s| 6s| Season|\n",
      "+--------------------+---+----+---+----+---+----+---+-----+---+---+---+---+---+-------+\n",
      "|Zulqarnain Haider...|  2|   2|  0|  18| 17|9.00| 21|85.71|  0|  0|  0|  1|  0|2010/11|\n",
      "|Zulqarnain Haider...|  1|   1|  0|   5|  5|5.00|  9|55.55|  0|  0|  0|  0|  0|2006/07|\n",
      "|Zulqarnain Haider...|  1|   -|  -|   -|  -|   -|  -|    -|  -|  -|  -|  -|  -|2019/20|\n",
      "|Zulqarnain Haider...|  4|   1|  0|   0|  0|0.00|  0|    -|  0|  0|  1|  0|  0|   2019|\n",
      "|Zulqarnain Haider...|  6|   3|  1|   8|  4|4.00| 12|66.66|  0|  0|  0|  0|  0|   2022|\n",
      "+--------------------+---+----+---+----+---+----+---+-----+---+---+---+---+---+-------+\n",
      "only showing top 5 rows\n",
      "\n"
     ]
    }
   ],
   "source": [
    "import os\n",
    "import sys\n",
    "\n",
    "os.environ['PYSPARK_PYTHON'] = sys.executable\n",
    "os.environ['PYSPARK_DRIVER_PYTHON'] = sys.executable\n",
    "\n",
    "# Then proceed to import and use Spark\n",
    "from pyspark.sql import SparkSession\n",
    "\n",
    "# Create a Spark session\n",
    "spark = SparkSession.builder.appName(\"CricketPrediction\").getOrCreate()\n",
    "\n",
    "\n",
    "# Specify the directory where your CSV files are located\n",
    "directory = r'D:\\github\\Cricket-Prediction\\data\\1_rawData'\n",
    "batting_data = spark.read.csv(os.path.join(directory, 't20_batting_stats.csv'), header=True, inferSchema=True)\n",
    "batting_data.show(5)"
   ]
  },
  {
   "cell_type": "code",
   "execution_count": 2,
   "metadata": {},
   "outputs": [
    {
     "name": "stdout",
     "output_type": "stream",
     "text": [
      "+----------------+-------+---+----+----+------+----+\n",
      "|          Player| Season|Mat|Inns|Runs|    SR| Ave|\n",
      "+----------------+-------+---+----+----+------+----+\n",
      "|A Ahmadhel (BUL)|2019/20|  3|   2|  16|100.00|8.00|\n",
      "|A Ahmadhel (BUL)|   2020|  1|   1|   8|100.00|   -|\n",
      "|A Ahmadhel (BUL)|2020/21|  2|   1|   2| 28.57|2.00|\n",
      "|A Ahmadhel (BUL)|   2021|  3|   3|   5| 38.46|1.66|\n",
      "|A Ahmadhel (BUL)|   2023|  2|   -|   -|     -|   -|\n",
      "+----------------+-------+---+----+----+------+----+\n",
      "only showing top 5 rows\n",
      "\n"
     ]
    }
   ],
   "source": [
    "batting_data = batting_data.select(\"Player\",\"Season\",\"Mat\",\"Inns\",\"Runs\",\"SR\",\"Ave\").sort(\"Player\",\"Season\")\n",
    "batting_data.show(5)"
   ]
  },
  {
   "cell_type": "code",
   "execution_count": 3,
   "metadata": {},
   "outputs": [
    {
     "name": "stdout",
     "output_type": "stream",
     "text": [
      "+----------------+-------+---+----+----+-----+----+\n",
      "|          Player| Season|Mat|Inns|Runs|   SR| Ave|\n",
      "+----------------+-------+---+----+----+-----+----+\n",
      "|A Ahmadhel (BUL)|2019/20|  3|   2|  16|100.0| 8.0|\n",
      "|A Ahmadhel (BUL)|   2020|  1|   1|   8|100.0| 8.0|\n",
      "|A Ahmadhel (BUL)|2020/21|  2|   1|   2|28.57| 2.0|\n",
      "|A Ahmadhel (BUL)|   2021|  3|   3|   5|38.46|1.66|\n",
      "|A Ahmadhel (BUL)|   2023|  2|   0|   0|  0.0| 0.0|\n",
      "+----------------+-------+---+----+----+-----+----+\n",
      "only showing top 5 rows\n",
      "\n"
     ]
    }
   ],
   "source": [
    "from pyspark.sql.functions import when,col\n",
    "batting_data = batting_data.withColumn(\"Inns\", when(col(\"Inns\") == \"-\", \"0\").otherwise(col(\"Inns\")).cast(\"int\"))\n",
    "batting_data = batting_data.withColumn(\"Runs\", when(col(\"Runs\") == \"-\", \"0\").otherwise(col(\"Runs\")).cast(\"int\"))\n",
    "batting_data = batting_data.withColumn(\"SR\", when(col(\"SR\") == \"-\", \"0\").otherwise(col(\"SR\")).cast(\"float\"))\n",
    "batting_data = batting_data.withColumn(\"Ave\", when(col(\"Ave\") == \"-\", col(\"Runs\")/col(\"Inns\")).otherwise(col(\"Ave\")).cast(\"float\")).na.fill(0)\n",
    "batting_data.show(5)"
   ]
  },
  {
   "cell_type": "code",
   "execution_count": 4,
   "metadata": {},
   "outputs": [
    {
     "data": {
      "text/plain": [
       "DataFrame[Player: string, Season: string, Mat: int, Inns: int, Runs: int, SR: float, Ave: float, Country: string]"
      ]
     },
     "metadata": {},
     "output_type": "display_data"
    }
   ],
   "source": [
    "from pyspark.sql.functions import regexp_extract, regexp_replace\n",
    "\n",
    "# Extract the country name between '(' and ')'\n",
    "batting_data = batting_data.withColumn(\"Country\", regexp_extract(col(\"Player\"), r\"\\((.*?)\\)\", 1))\n",
    "\n",
    "# Extract the player's name before the first '('\n",
    "batting_data = batting_data.withColumn(\"Player\", regexp_extract(col(\"Player\"), r\"^(.*?)\\s\\(\", 1))\n",
    "\n",
    "# Show the result\n",
    "display(batting_data)"
   ]
  },
  {
   "cell_type": "code",
   "execution_count": 5,
   "metadata": {},
   "outputs": [
    {
     "name": "stdout",
     "output_type": "stream",
     "text": [
      "+----------+-------+---+----+----+-----+----+-------+---------------+-----------------------+--------------+------+\n",
      "|    Player| Season|Mat|Inns|Runs|   SR| Ave|Country|Cum batting Ave|Cum battings Runs Total|Cum Inns Total|Cum SR|\n",
      "+----------+-------+---+----+----+-----+----+-------+---------------+-----------------------+--------------+------+\n",
      "|A Ahmadhel|2019/20|  3|   2|  16|100.0| 8.0|    BUL|            8.0|                     16|             2| 100.0|\n",
      "|A Ahmadhel|   2020|  1|   1|   8|100.0| 8.0|    BUL|            8.0|                     24|             3| 100.0|\n",
      "|A Ahmadhel|2020/21|  2|   1|   2|28.57| 2.0|    BUL|            6.5|                     26|             4| 76.19|\n",
      "|A Ahmadhel|   2021|  3|   3|   5|38.46|1.66|    BUL|           4.43|                     31|             7| 66.76|\n",
      "|A Ahmadhel|   2023|  2|   0|   0|  0.0| 0.0|    BUL|           4.43|                     31|             7| 53.41|\n",
      "+----------+-------+---+----+----+-----+----+-------+---------------+-----------------------+--------------+------+\n",
      "only showing top 5 rows\n",
      "\n"
     ]
    }
   ],
   "source": [
    "from pyspark.sql import Window\n",
    "from pyspark.sql.functions import col,sum as spark_sum,avg, round as spark_round, when, count\n",
    "\n",
    "player_country_window = Window.partitionBy('Player','Country').orderBy('Player','Country') \\\n",
    "                        .rowsBetween(Window.unboundedPreceding,Window.currentRow)\n",
    "\n",
    "batting_data = batting_data.withColumn(\n",
    "    \"Cum batting Ave\",\n",
    "    when(spark_sum(\"Inns\").over(player_country_window) != 0,\n",
    "         spark_round(spark_sum(col(\"Inns\") * col(\"Ave\")).over(player_country_window) / spark_sum(\"Inns\").over(player_country_window), 2))\n",
    "    .otherwise(0)\n",
    ")\n",
    "# Calculate cumulative runs total\n",
    "batting_data = batting_data.withColumn(\n",
    "    \"Cum battings Runs Total\",\n",
    "    spark_sum(\"Runs\").over(player_country_window)\n",
    ")\n",
    "\n",
    "# Calculate cumulative innings total\n",
    "batting_data = batting_data.withColumn(\n",
    "    \"Cum Inns Total\",\n",
    "    spark_sum(\"Inns\").over(player_country_window)\n",
    ")\n",
    "\n",
    "# Calculate cumulative strike rate, handling division by zero\n",
    "batting_data = batting_data.withColumn(\n",
    "    \"Cum SR\",\n",
    "    when(count(\"Inns\").over(player_country_window) != 0,\n",
    "         spark_round(spark_sum(\"SR\").over(player_country_window) / count(\"Inns\").over(player_country_window), 2))\n",
    "    .otherwise(0)\n",
    ")\n",
    "\n",
    "# Show the resulting DataFrame\n",
    "batting_data.show(5)"
   ]
  },
  {
   "cell_type": "code",
   "execution_count": 6,
   "metadata": {},
   "outputs": [
    {
     "name": "stdout",
     "output_type": "stream",
     "text": [
      "+-------+-------+---+----+----+------+-----+-------+---------------+-----------------------+--------------+------+\n",
      "| Player| Season|Mat|Inns|Runs|    SR|  Ave|Country|Cum batting Ave|Cum battings Runs Total|Cum Inns Total|Cum SR|\n",
      "+-------+-------+---+----+----+------+-----+-------+---------------+-----------------------+--------------+------+\n",
      "|V Kohli|   2010|  2|   1|  26| 123.8| 26.0|    IND|           26.0|                     26|             1| 123.8|\n",
      "|V Kohli|2010/11|  1|   1|  28|147.36| 28.0|    IND|           27.0|                     54|             2|135.58|\n",
      "|V Kohli|   2011|  2|   2|  18|105.88|  9.0|    IND|           18.0|                     72|             4|125.68|\n",
      "|V Kohli|2011/12|  4|   3|  68|111.47|22.66|    IND|           20.0|                    140|             7|122.13|\n",
      "|V Kohli|   2012|  2|   2| 138|155.05| 69.0|    IND|          30.89|                    278|             9|128.71|\n",
      "|V Kohli|2012/13|  9|   9| 280|126.69| 35.0|    IND|          32.94|                    558|            18|128.38|\n",
      "|V Kohli|2013/14|  7|   7| 348|129.36| 87.0|    IND|          48.08|                    906|            25|128.52|\n",
      "|V Kohli|   2014|  1|   1|  66|160.97| 66.0|    IND|          48.77|                    972|            26|132.57|\n",
      "|V Kohli|2015/16| 15|  14| 669|140.54|95.57|    IND|          65.15|                   1641|            40|133.46|\n",
      "|V Kohli|   2016|  2|   1|  16|177.77| 16.0|    IND|          63.95|                   1657|            41|137.89|\n",
      "|V Kohli|2016/17|  3|   3|  52|115.55|17.33|    IND|          60.77|                   1709|            44|135.86|\n",
      "|V Kohli|   2017|  2|   2| 121|159.21| 60.5|    IND|          60.76|                   1830|            46| 137.8|\n",
      "|V Kohli|2017/18|  7|   7| 153| 153.0| 30.6|    IND|          56.78|                   1983|            53|138.97|\n",
      "|V Kohli|   2018|  5|   5| 119| 120.2|29.75|    IND|          54.45|                   2102|            58|137.63|\n",
      "|V Kohli|2018/19|  5|   4| 161| 154.8| 80.5|    IND|          56.13|                   2263|            62|138.78|\n",
      "|V Kohli|   2019|  3|   3| 106|109.27|35.33|    IND|          55.17|                   2369|            65|136.93|\n",
      "|V Kohli|2019/20| 12|  11| 425|153.42|60.71|    IND|          55.97|                   2794|            76| 137.9|\n",
      "|V Kohli|2020/21|  8|   8| 365|145.41| 73.0|    IND|          57.59|                   3159|            84|138.32|\n",
      "|V Kohli|2021/22|  7|   5| 137|112.29|34.25|    IND|          56.28|                   3296|            89|136.95|\n",
      "|V Kohli|   2022| 10|  10| 364|141.63| 45.5|    IND|          55.19|                   3660|            99|137.18|\n",
      "+-------+-------+---+----+----+------+-----+-------+---------------+-----------------------+--------------+------+\n",
      "only showing top 20 rows\n",
      "\n"
     ]
    }
   ],
   "source": [
    "batting_data.filter(col(\"Player\").contains(\"V Kohli\")).show()"
   ]
  },
  {
   "cell_type": "code",
   "execution_count": 7,
   "metadata": {},
   "outputs": [
    {
     "data": {
      "text/plain": [
       "(103, 11, 5, 103)"
      ]
     },
     "execution_count": 7,
     "metadata": {},
     "output_type": "execute_result"
    }
   ],
   "source": [
    "country_codes = {\n",
    "    'LES': 'Lesotho',\n",
    "    'BUL': 'Bulgaria',\n",
    "    'VAN': 'Vanuatu',\n",
    "    'ROM': 'Romania',\n",
    "    'Aut': 'Austria',\n",
    "    'COK': 'Cook Islands',\n",
    "    'Fran': 'France',\n",
    "    'SRB': 'Serbia',\n",
    "    'PAK': 'Pakistan',\n",
    "    'HUN': 'Hungary',\n",
    "    'CYP': 'Cyprus',\n",
    "    'Fiji': 'Fiji',\n",
    "    'FIN': 'Finland',\n",
    "    'EST': 'Estonia',\n",
    "    'CHN': 'China',\n",
    "    'GRC': 'Greece',\n",
    "    'CAM': 'Cambodia',\n",
    "    'GUE': 'Guernsey',\n",
    "    'SEY': 'Seychelles',\n",
    "    'JPN': 'Japan',\n",
    "    'TAN': 'Tanzania',\n",
    "    'JER': 'Jersey',\n",
    "    'QAT': 'Qatar',\n",
    "    'ENG': 'England',\n",
    "    'UGA': 'Uganda',\n",
    "    'BER': 'Bermuda',\n",
    "    'CZK-R': 'Czech Republic',\n",
    "    'CAY': 'Cayman Islands',\n",
    "    'IRE': 'Ireland',\n",
    "    'Mali': 'Mali',\n",
    "    'BRA': 'Brazil',\n",
    "    'SUI': 'Switzerland',\n",
    "    'Peru': 'Peru',\n",
    "    'Mex': 'Mexico',\n",
    "    'MOZ': 'Mozambique',\n",
    "    'Samoa': 'Samoa',\n",
    "    'HKG': 'Hong Kong',\n",
    "    'BAN': 'Bangladesh',\n",
    "    'SL': 'Sri Lanka',\n",
    "    'PNG': 'Papua New Guinea',\n",
    "    'ZIM': 'Zimbabwe',\n",
    "    'GHA': 'Ghana',\n",
    "    'SWZ': 'Eswatini',  # Swaziland's official name now is Eswatini\n",
    "    'MYAN': 'Myanmar',\n",
    "    'IND': 'India',\n",
    "    'USA': 'United States of America',\n",
    "    'NEP': 'Nepal',\n",
    "    'AFG': 'Afghanistan',\n",
    "    'PAN': 'Panama',\n",
    "    'NGA': 'Nigeria',\n",
    "    'SLE': 'Sierra Leone',\n",
    "    'ESP': 'Spain',\n",
    "    'Bhm': 'Bahamas',\n",
    "    'TKY': 'Turkey',\n",
    "    'MWI': 'Malawi',\n",
    "    'WI': 'West Indies',\n",
    "    'IOM': 'Isle of Man',\n",
    "    'THA': 'Thailand',\n",
    "    'SWA': 'Eswatini',  # another code for Eswatini\n",
    "    'SKOR': 'South Korea',\n",
    "    'GMB': 'Gambia',\n",
    "    'ISR': 'Israel',\n",
    "    'KUW': 'Kuwait',\n",
    "    'Belg': 'Belgium',\n",
    "    'GER': 'Germany',\n",
    "    'ITA': 'Italy',\n",
    "    'CAN': 'Canada',\n",
    "    'MDV': 'Maldives',\n",
    "    'Blz': 'Belize',\n",
    "    'DEN': 'Denmark',\n",
    "    'INA': 'Indonesia',\n",
    "    'KENYA': 'Kenya',\n",
    "    'LUX': 'Luxembourg',\n",
    "    'STHEL': 'Saint Helena',\n",
    "    'BHR': 'Bahrain',\n",
    "    'KSA': 'Saudi Arabia',\n",
    "    'MLT': 'Malta',\n",
    "    'Arg': 'Argentina',\n",
    "    'MNG': 'Mongolia',\n",
    "    'AUS': 'Australia',\n",
    "    'GIBR': 'Gibraltar',\n",
    "    'SGP': 'Singapore',\n",
    "    'Chile': 'Chile',\n",
    "    'UAE': 'United Arab Emirates',\n",
    "    'NZ': 'New Zealand',\n",
    "    'SCOT': 'Scotland',\n",
    "    'BHU': 'Bhutan',\n",
    "    'MAS': 'Malaysia',\n",
    "    'BOT': 'Botswana',\n",
    "    'CRC': 'Costa Rica',\n",
    "    'PHI': 'Philippines',\n",
    "    'NAM': 'Namibia',\n",
    "    'RWN': 'Rwanda',\n",
    "    'OMA': 'Oman',\n",
    "    'NOR': 'Norway',\n",
    "    'CRT': 'Croatia',\n",
    "    'SWE': 'Sweden',\n",
    "    'Iran': 'Iran',\n",
    "    'PORT': 'Portugal',\n",
    "    'NED': 'Netherlands',\n",
    "    'SA': 'South Africa',\n",
    "    'SVN': 'Slovenia',\n",
    "    'GUE': 'Guernsey',\n",
    "    'MDV': 'Maldives',\n",
    "    'BHM': 'Bahamas',\n",
    "    'SWE': 'Sweden',\n",
    "    'MLT': 'Malta',\n",
    "    'ITA': 'Italy',\n",
    "}\n",
    "\n",
    "# ICC and World teams\n",
    "icc_world = {\n",
    "    'ICC/PAK': 'Pakistan',\n",
    "    'ICC/SL': 'Sri Lanka',\n",
    "    'ICC/IND': 'India',\n",
    "    'ICC/NEP': 'Nepal',\n",
    "    'BAN/ICC': 'Bangladesh',\n",
    "    'AFG/ICC': 'Afghanistan',\n",
    "    'SL/World': 'Sri Lanka',\n",
    "    'SA/World': 'South Africa',\n",
    "    'AUS/World': 'Australia',\n",
    "    'BAN/World': 'Bangladesh',\n",
    "    'WI/World': 'West Indies',\n",
    "}\n",
    "\n",
    "# Outlier/Miscellaneous Countries\n",
    "outlier_countries = {\n",
    "    '1': 'Miscellaneous Country 1',\n",
    "    '2': 'Miscellaneous Country 2',\n",
    "    '3': 'Miscellaneous Country 3',\n",
    "    'ICC': 'International Cricket Council',\n",
    "    'World': 'World XI',\n",
    "}\n",
    "\n",
    "# Filtered country codes excluding ICC, World teams, and miscellaneous\n",
    "filtered_countries = {\n",
    "    code: country\n",
    "    for code, country in country_codes.items()\n",
    "    if code not in icc_world and code not in outlier_countries\n",
    "}\n",
    "len(country_codes), len(icc_world), len(outlier_countries), len(filtered_countries)"
   ]
  },
  {
   "cell_type": "code",
   "execution_count": 8,
   "metadata": {},
   "outputs": [
    {
     "name": "stdout",
     "output_type": "stream",
     "text": [
      "+----------+-------+---+----+----+-----+----+-------+---------------+-----------------------+--------------+------+\n",
      "|    Player| Season|Mat|Inns|Runs|   SR| Ave|Country|Cum batting Ave|Cum battings Runs Total|Cum Inns Total|Cum SR|\n",
      "+----------+-------+---+----+----+-----+----+-------+---------------+-----------------------+--------------+------+\n",
      "|A Ahmadhel|2019/20|  3|   2|  16|100.0| 8.0|    BUL|            8.0|                     16|             2| 100.0|\n",
      "|A Ahmadhel|   2020|  1|   1|   8|100.0| 8.0|    BUL|            8.0|                     24|             3| 100.0|\n",
      "|A Ahmadhel|2020/21|  2|   1|   2|28.57| 2.0|    BUL|            6.5|                     26|             4| 76.19|\n",
      "|A Ahmadhel|   2021|  3|   3|   5|38.46|1.66|    BUL|           4.43|                     31|             7| 66.76|\n",
      "|A Ahmadhel|   2023|  2|   0|   0|  0.0| 0.0|    BUL|           4.43|                     31|             7| 53.41|\n",
      "+----------+-------+---+----+----+-----+----+-------+---------------+-----------------------+--------------+------+\n",
      "only showing top 5 rows\n",
      "\n"
     ]
    }
   ],
   "source": [
    "batting_data = batting_data.filter(col('Country').isin(list(filtered_countries.keys())))\n",
    "batting_data.show(5)"
   ]
  },
  {
   "cell_type": "code",
   "execution_count": 9,
   "metadata": {},
   "outputs": [
    {
     "name": "stdout",
     "output_type": "stream",
     "text": [
      "+----------+-------+---+----+----+-----+----+--------+---------------+-----------------------+--------------+------+\n",
      "|    Player| Season|Mat|Inns|Runs|   SR| Ave| Country|Cum batting Ave|Cum battings Runs Total|Cum Inns Total|Cum SR|\n",
      "+----------+-------+---+----+----+-----+----+--------+---------------+-----------------------+--------------+------+\n",
      "|A Ahmadhel|2019/20|  3|   2|  16|100.0| 8.0|Bulgaria|            8.0|                     16|             2| 100.0|\n",
      "|A Ahmadhel|   2020|  1|   1|   8|100.0| 8.0|Bulgaria|            8.0|                     24|             3| 100.0|\n",
      "|A Ahmadhel|2020/21|  2|   1|   2|28.57| 2.0|Bulgaria|            6.5|                     26|             4| 76.19|\n",
      "|A Ahmadhel|   2021|  3|   3|   5|38.46|1.66|Bulgaria|           4.43|                     31|             7| 66.76|\n",
      "|A Ahmadhel|   2023|  2|   0|   0|  0.0| 0.0|Bulgaria|           4.43|                     31|             7| 53.41|\n",
      "+----------+-------+---+----+----+-----+----+--------+---------------+-----------------------+--------------+------+\n",
      "only showing top 5 rows\n",
      "\n"
     ]
    }
   ],
   "source": [
    "# use map\n",
    "from pyspark.sql.functions import udf\n",
    "from pyspark.sql.types import StringType\n",
    "\n",
    "# Broadcast the country_codes dictionary\n",
    "country_codes_broadcast = spark.sparkContext.broadcast(country_codes)\n",
    "\n",
    "def get_country_name(code):\n",
    "    return country_codes_broadcast.value.get(code, \"Unknown\")\n",
    "\n",
    "country_udf = udf(get_country_name, StringType())\n",
    "batting_data = batting_data.withColumn(\"Country\", country_udf(col(\"Country\")))\n",
    "batting_data.show(5)"
   ]
  },
  {
   "cell_type": "code",
   "execution_count": 10,
   "metadata": {},
   "outputs": [
    {
     "name": "stdout",
     "output_type": "stream",
     "text": [
      "+----------+-------+---+----+----+-----+----+--------+---------------+-----------------------+--------------+------+\n",
      "|    Player| Season|Mat|Inns|Runs|   SR| Ave| Country|Cum batting Ave|Cum battings Runs Total|Cum Inns Total|Cum SR|\n",
      "+----------+-------+---+----+----+-----+----+--------+---------------+-----------------------+--------------+------+\n",
      "|A Ahmadhel|2019/20|  3|   2|  16|100.0| 8.0|Bulgaria|            8.0|                     16|             2| 100.0|\n",
      "|A Ahmadhel|   2020|  1|   1|   8|100.0| 8.0|Bulgaria|            8.0|                     24|             3| 100.0|\n",
      "|A Ahmadhel|2020/21|  2|   1|   2|28.57| 2.0|Bulgaria|            6.5|                     26|             4| 76.19|\n",
      "|A Ahmadhel|   2021|  3|   3|   5|38.46|1.66|Bulgaria|           4.43|                     31|             7| 66.76|\n",
      "|A Ahmadhel|   2023|  2|   0|   0|  0.0| 0.0|Bulgaria|           4.43|                     31|             7| 53.41|\n",
      "+----------+-------+---+----+----+-----+----+--------+---------------+-----------------------+--------------+------+\n",
      "only showing top 5 rows\n",
      "\n"
     ]
    }
   ],
   "source": [
    "batting_data = batting_data.replace(filtered_countries,subset=['Country'])\n",
    "batting_data.show(5)"
   ]
  },
  {
   "cell_type": "code",
   "execution_count": 11,
   "metadata": {},
   "outputs": [
    {
     "data": {
      "text/plain": [
       "(4129, 4074, 14035)"
      ]
     },
     "execution_count": 11,
     "metadata": {},
     "output_type": "execute_result"
    }
   ],
   "source": [
    "batting_data[['Player','Country']].distinct().count(), batting_data[['Player']].distinct().count(), batting_data.distinct().count()"
   ]
  },
  {
   "cell_type": "code",
   "execution_count": 13,
   "metadata": {},
   "outputs": [
    {
     "name": "stdout",
     "output_type": "stream",
     "text": [
      "+----------+-------+---+----+----+-----+----+--------+---------------+-----------------------+--------------+------+\n",
      "|    Player| Season|Mat|Inns|Runs|   SR| Ave| Country|Cum batting Ave|Cum battings Runs Total|Cum Inns Total|Cum SR|\n",
      "+----------+-------+---+----+----+-----+----+--------+---------------+-----------------------+--------------+------+\n",
      "|A Ahmadhel|2019/20|  3|   2|  16|100.0| 8.0|Bulgaria|            8.0|                     16|             2| 100.0|\n",
      "|A Ahmadhel|   2020|  1|   1|   8|100.0| 8.0|Bulgaria|            8.0|                     24|             3| 100.0|\n",
      "|A Ahmadhel|2020/21|  2|   1|   2|28.57| 2.0|Bulgaria|            6.5|                     26|             4| 76.19|\n",
      "|A Ahmadhel|   2021|  3|   3|   5|38.46|1.66|Bulgaria|           4.43|                     31|             7| 66.76|\n",
      "|A Ahmadhel|   2023|  2|   0|   0|  0.0| 0.0|Bulgaria|           4.43|                     31|             7| 53.41|\n",
      "+----------+-------+---+----+----+-----+----+--------+---------------+-----------------------+--------------+------+\n",
      "only showing top 5 rows\n",
      "\n"
     ]
    }
   ],
   "source": [
    "batting_data.show(5)"
   ]
  },
  {
   "cell_type": "code",
   "execution_count": null,
   "metadata": {},
   "outputs": [],
   "source": []
  }
 ],
 "metadata": {
  "kernelspec": {
   "display_name": "eda",
   "language": "python",
   "name": "python3"
  },
  "language_info": {
   "codemirror_mode": {
    "name": "ipython",
    "version": 3
   },
   "file_extension": ".py",
   "mimetype": "text/x-python",
   "name": "python",
   "nbconvert_exporter": "python",
   "pygments_lexer": "ipython3",
   "version": "3.8.19"
  }
 },
 "nbformat": 4,
 "nbformat_minor": 2
}
