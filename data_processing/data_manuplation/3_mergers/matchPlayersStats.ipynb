{
 "cells": [
  {
   "cell_type": "code",
   "execution_count": 1,
   "metadata": {},
   "outputs": [
    {
     "data": {
      "text/html": [
       "<pre style=\"white-space:pre;overflow-x:auto;line-height:normal;font-family:Menlo,'DejaVu Sans Mono',consolas,'Courier New',monospace\"><span style=\"color: #808000; text-decoration-color: #808000; font-weight: bold\">/home/ravikumar/miniconda3/envs/t20i/lib/python3.12/site-packages/airflow/configuration.py:</span><span style=\"color: #808000; text-decoration-color: #808000; font-weight: bold\">859</span><span style=\"color: #808000; text-decoration-color: #808000; font-weight: bold\"> FutureWarning</span><span style=\"color: #808000; text-decoration-color: #808000\">: section/key </span><span style=\"color: #808000; text-decoration-color: #808000; font-weight: bold\">[</span><span style=\"color: #808000; text-decoration-color: #808000\">core/sql_alchemy_conn</span><span style=\"color: #808000; text-decoration-color: #808000; font-weight: bold\">]</span><span style=\"color: #808000; text-decoration-color: #808000\"> has been deprecated, you should use</span><span style=\"color: #808000; text-decoration-color: #808000; font-weight: bold\">[</span><span style=\"color: #808000; text-decoration-color: #808000\">database/sql_alchemy_conn</span><span style=\"color: #808000; text-decoration-color: #808000; font-weight: bold\">]</span><span style=\"color: #808000; text-decoration-color: #808000\"> instead. Please update your `conf.get*` call to use the new name</span>\n",
       "</pre>\n"
      ],
      "text/plain": [
       "\u001b[1;33m/home/ravikumar/miniconda3/envs/t20i/lib/python3.12/site-packages/airflow/\u001b[0m\u001b[1;33mconfiguration.py\u001b[0m\u001b[1;33m:\u001b[0m\u001b[1;33m859\u001b[0m\u001b[1;33m FutureWarning\u001b[0m\u001b[33m: section/key \u001b[0m\u001b[1;33m[\u001b[0m\u001b[33mcore/sql_alchemy_conn\u001b[0m\u001b[1;33m]\u001b[0m\u001b[33m has been deprecated, you should use\u001b[0m\u001b[1;33m[\u001b[0m\u001b[33mdatabase/sql_alchemy_conn\u001b[0m\u001b[1;33m]\u001b[0m\u001b[33m instead. Please update your `conf.get*` call to use the new name\u001b[0m\n"
      ]
     },
     "metadata": {},
     "output_type": "display_data"
    },
    {
     "name": "stdout",
     "output_type": "stream",
     "text": [
      "[\u001b[34m2024-11-24T14:34:19.856+0530\u001b[0m] {\u001b[34mspark_utils.py:\u001b[0m17} INFO\u001b[0m - Creating Spark session.\u001b[0m\n"
     ]
    },
    {
     "name": "stderr",
     "output_type": "stream",
     "text": [
      "your 131072x1 screen size is bogus. expect trouble\n",
      "24/11/24 14:34:21 WARN NativeCodeLoader: Unable to load native-hadoop library for your platform... using builtin-java classes where applicable\n"
     ]
    },
    {
     "name": "stdout",
     "output_type": "stream",
     "text": [
      "[\u001b[34m2024-11-24T14:34:23.424+0530\u001b[0m] {\u001b[34mspark_utils.py:\u001b[0m37} INFO\u001b[0m - Spark session created successfully.\u001b[0m\n"
     ]
    },
    {
     "name": "stderr",
     "output_type": "stream",
     "text": [
      "                                                                                \r"
     ]
    },
    {
     "name": "stdout",
     "output_type": "stream",
     "text": [
      "+---------------+----------------+-------+-------------+--------------+------+----------------+---------------+-----------------------+---------------+---------------+--------------+-------------+-------------+--------------+\n",
      "|         Player|         Country| Season|Cum Mat Total|Cum Runs Total|Cum SR|Cumulative Overs|Cumulative Mdns|Cumulative Bowling Runs|Cumulative Wkts|Cumulative Econ|Cumulative Dis|Cumulative Ct|Cumulative St|Cumulative D/I|\n",
      "+---------------+----------------+-------+-------------+--------------+------+----------------+---------------+-----------------------+---------------+---------------+--------------+-------------+-------------+--------------+\n",
      "| AB de Villiers|    South Africa|   2017|           73|          1457|128.93|             0.0|            0.0|                    0.0|            0.0|            0.0|          68.0|         61.0|          7.0|          0.93|\n",
      "|    TA Blundell|     New Zealand|2017/18|            1|             0|   0.0|             0.0|            0.0|                    0.0|            0.0|            0.0|           0.0|          0.0|          0.0|           0.0|\n",
      "|Zeeshan Maqsood|            Oman|2016/17|           12|           269|130.84|            22.0|            0.0|                  199.0|            8.0|           9.04|           2.0|          2.0|          0.0|          0.18|\n",
      "|          S Bau|Papua New Guinea|   2017|            3|            47|102.17|             1.0|            0.0|                   11.0|            0.0|           11.0|           2.0|          2.0|          0.0|          0.67|\n",
      "|      MA Aponso|       Sri Lanka|2018/19|            2|             0|   0.0|             7.0|            0.0|                   50.0|            2.0|           7.14|           0.0|          0.0|          0.0|           0.0|\n",
      "+---------------+----------------+-------+-------------+--------------+------+----------------+---------------+-----------------------+---------------+---------------+--------------+-------------+-------------+--------------+\n",
      "only showing top 5 rows\n",
      "\n"
     ]
    }
   ],
   "source": [
    "import os\n",
    "import sys\n",
    "sys.path.append(os.path.join(os.getcwd(), '..','..','..'))\n",
    "from configs import spark_config as config\n",
    "from utils import spark_utils as utils\n",
    "\n",
    "spark = utils.create_spark_session('merge_player_stats')\n",
    "\n",
    "directory = config.PROCESSED_DATA_DIR\n",
    "\n",
    "matches = spark.read.csv(os.path.join(directory, 'matches.csv'), header=True, inferSchema=True)\n",
    "matchPlayers = spark.read.csv(os.path.join(directory, 'match_players.csv'), header=True, inferSchema=True).sort('match_id')\n",
    "playerStats = spark.read.csv(os.path.join(directory, 'player_stats.csv'), header=True, inferSchema=True)\n",
    "playerStats.show(5)"
   ]
  },
  {
   "cell_type": "code",
   "execution_count": 2,
   "metadata": {},
   "outputs": [],
   "source": [
    "matchPlayers = matchPlayers.withColumnRenamed(\"country\", \"Country\") \\\n",
    "                           .withColumnRenamed(\"player\", \"Player\") \\\n",
    "                           .withColumnRenamed(\"season\", \"Season\")"
   ]
  },
  {
   "cell_type": "code",
   "execution_count": 3,
   "metadata": {},
   "outputs": [
    {
     "name": "stdout",
     "output_type": "stream",
     "text": [
      "+--------------+-----------+-------+---------+--------+-------------+--------------+------+----------------+---------------+-----------------------+---------------+---------------+--------------+-------------+-------------+--------------+\n",
      "|        Player|    Country| Season|player_id|match_id|Cum Mat Total|Cum Runs Total|Cum SR|Cumulative Overs|Cumulative Mdns|Cumulative Bowling Runs|Cumulative Wkts|Cumulative Econ|Cumulative Dis|Cumulative Ct|Cumulative St|Cumulative D/I|\n",
      "+--------------+-----------+-------+---------+--------+-------------+--------------+------+----------------+---------------+-----------------------+---------------+---------------+--------------+-------------+-------------+--------------+\n",
      "|     A Symonds|  Australia|   2005| bd77eb62|  211028|            1|            32|246.15|             3.0|            0.0|                   33.0|            1.0|           11.0|           0.0|          0.0|          0.0|           0.0|\n",
      "|     MJ Clarke|  Australia|   2005| f842c2cf|  211028|            1|             7| 175.0|             2.0|            0.0|                   11.0|            0.0|            5.5|           0.0|          0.0|          0.0|           0.0|\n",
      "|     ML Hayden|  Australia|   2005| d8699ab7|  211028|            0|             0|   0.0|             0.0|            0.0|                    0.0|            0.0|            0.0|           0.0|          0.0|          0.0|           0.0|\n",
      "|    GD McGrath|  Australia|   2005| ee7d0c82|  211028|            1|             0|   0.0|             4.0|            0.0|                   48.0|            2.0|           12.0|           1.0|          1.0|          0.0|           1.0|\n",
      "|ME Trescothick|    England|   2005| ea42ddb9|  211028|            0|             0|   0.0|             0.0|            0.0|                    0.0|            0.0|            0.0|           0.0|          0.0|          0.0|           0.0|\n",
      "|    RT Ponting|  Australia|   2005| 7d415ea5|  211028|            1|            98|178.18|             0.0|            0.0|                    0.0|            0.0|            0.0|           1.0|          1.0|          0.0|           1.0|\n",
      "|      GO Jones|    England|   2005| 2e929b99|  211028|            0|             0|   0.0|             0.0|            0.0|                    0.0|            0.0|            0.0|           0.0|          0.0|          0.0|           0.0|\n",
      "|    A Flintoff|    England|   2005| ddc0828d|  211028|            0|             0|   0.0|             0.0|            0.0|                    0.0|            0.0|            0.0|           0.0|          0.0|          0.0|           0.0|\n",
      "|     DR Martyn|  Australia|   2005| 69762509|  211028|            1|             3|  60.0|             0.0|            0.0|                    0.0|            0.0|            0.0|           0.0|          0.0|          0.0|           0.0|\n",
      "|  KP Pietersen|    England|   2005| 39f01cdb|  211028|            0|             0|   0.0|             0.0|            0.0|                    0.0|            0.0|            0.0|           0.0|          0.0|          0.0|           0.0|\n",
      "|    MP Vaughan|    England|   2005| 6e1b1ec0|  211028|            0|             0|   0.0|             0.0|            0.0|                    0.0|            0.0|            0.0|           0.0|          0.0|          0.0|           0.0|\n",
      "|         B Lee|  Australia|   2005| dd09ff8e|  211028|            1|             0|   0.0|             4.0|            0.0|                   26.0|            1.0|            6.5|           0.0|          0.0|          0.0|           0.0|\n",
      "|PD Collingwood|    England|   2005| a386e91b|  211028|            0|             0|   0.0|             0.0|            0.0|                    0.0|            0.0|            0.0|           0.0|          0.0|          0.0|           0.0|\n",
      "|  AC Gilchrist|  Australia|   2005| 2b6e6dec|  211028|            1|             1| 33.33|             0.0|            0.0|                    0.0|            0.0|            0.0|           0.0|          0.0|          0.0|           0.0|\n",
      "|    AJ Strauss|    England|   2005| b68d14a9|  211028|            0|             0|   0.0|             0.0|            0.0|                    0.0|            0.0|            0.0|           0.0|          0.0|          0.0|           0.0|\n",
      "|  JN Gillespie|  Australia|   2005| 74234d66|  211028|            0|             0|   0.0|             0.0|            0.0|                    0.0|            0.0|            0.0|           0.0|          0.0|          0.0|           0.0|\n",
      "|    VS Solanki|    England|   2005| 7ee2ce62|  211028|            0|             0|   0.0|             0.0|            0.0|                    0.0|            0.0|            0.0|           0.0|          0.0|          0.0|           0.0|\n",
      "|       J Lewis|    England|   2005| 6c75310b|  211028|            0|             0|   0.0|             0.0|            0.0|                    0.0|            0.0|            0.0|           0.0|          0.0|          0.0|           0.0|\n",
      "| MS Kasprowicz|  Australia|   2005| 8d0ea930|  211028|            1|             0|   0.0|             4.0|            0.0|                   29.0|            4.0|           7.25|           1.0|          1.0|          0.0|           1.0|\n",
      "|       D Gough|    England|   2005| fcbf5a30|  211028|            0|             0|   0.0|             0.0|            0.0|                    0.0|            0.0|            0.0|           0.0|          0.0|          0.0|           0.0|\n",
      "|   SJ Harmison|    England|   2005| c16d2e28|  211028|            0|             0|   0.0|             0.0|            0.0|                    0.0|            0.0|            0.0|           0.0|          0.0|          0.0|           0.0|\n",
      "|    MEK Hussey|  Australia|   2005| 48fd7349|  211028|            1|            31|206.66|             0.0|            0.0|                    0.0|            0.0|            0.0|           1.0|          1.0|          0.0|           1.0|\n",
      "|  AC Gilchrist|  Australia|2004/05| 2b6e6dec|  211048|            0|             0|   0.0|             0.0|            0.0|                    0.0|            0.0|            0.0|           0.0|          0.0|          0.0|           0.0|\n",
      "|     MJ Clarke|  Australia|2004/05| f842c2cf|  211048|            0|             0|   0.0|             0.0|            0.0|                    0.0|            0.0|            0.0|           0.0|          0.0|          0.0|           0.0|\n",
      "|    GD McGrath|  Australia|2004/05| ee7d0c82|  211048|            0|             0|   0.0|             0.0|            0.0|                    0.0|            0.0|            0.0|           0.0|          0.0|          0.0|           0.0|\n",
      "| MS Kasprowicz|  Australia|2004/05| 8d0ea930|  211048|            0|             0|   0.0|             0.0|            0.0|                    0.0|            0.0|            0.0|           0.0|          0.0|          0.0|           0.0|\n",
      "|     A Symonds|  Australia|2004/05| bd77eb62|  211048|            0|             0|   0.0|             0.0|            0.0|                    0.0|            0.0|            0.0|           0.0|          0.0|          0.0|           0.0|\n",
      "|     SM Katich|  Australia|2004/05| fdedb37c|  211048|            0|             0|   0.0|             0.0|            0.0|                    0.0|            0.0|            0.0|           0.0|          0.0|          0.0|           0.0|\n",
      "|   BB McCullum|New Zealand|2004/05| b8a55852|  211048|            0|             0|   0.0|             0.0|            0.0|                    0.0|            0.0|            0.0|           0.0|          0.0|          0.0|           0.0|\n",
      "|   MS Sinclair|New Zealand|2004/05| 1b668884|  211048|            0|             0|   0.0|             0.0|            0.0|                    0.0|            0.0|            0.0|           0.0|          0.0|          0.0|           0.0|\n",
      "|      AR Adams|New Zealand|2004/05| 525c3f54|  211048|            0|             0|   0.0|             0.0|            0.0|                    0.0|            0.0|            0.0|           0.0|          0.0|          0.0|           0.0|\n",
      "|  HJH Marshall|New Zealand|2004/05| 70542bef|  211048|            0|             0|   0.0|             0.0|            0.0|                    0.0|            0.0|            0.0|           0.0|          0.0|          0.0|           0.0|\n",
      "|    RT Ponting|  Australia|2004/05| 7d415ea5|  211048|            0|             0|   0.0|             0.0|            0.0|                    0.0|            0.0|            0.0|           0.0|          0.0|          0.0|           0.0|\n",
      "|    MEK Hussey|  Australia|2004/05| 48fd7349|  211048|            0|             0|   0.0|             0.0|            0.0|                    0.0|            0.0|            0.0|           0.0|          0.0|          0.0|           0.0|\n",
      "|      JR Hopes|  Australia|2004/05| 2498e163|  211048|            0|             0|   0.0|             0.0|            0.0|                    0.0|            0.0|            0.0|           0.0|          0.0|          0.0|           0.0|\n",
      "|    SP Fleming|New Zealand|2004/05| eea6b7f1|  211048|            0|             0|   0.0|             0.0|            0.0|                    0.0|            0.0|            0.0|           0.0|          0.0|          0.0|           0.0|\n",
      "|     SB Styris|New Zealand|2004/05| 57efa3be|  211048|            0|             0|   0.0|             0.0|            0.0|                    0.0|            0.0|            0.0|           0.0|          0.0|          0.0|           0.0|\n",
      "|   CD McMillan|New Zealand|2004/05| f5390243|  211048|            0|             0|   0.0|             0.0|            0.0|                    0.0|            0.0|            0.0|           0.0|          0.0|          0.0|           0.0|\n",
      "|     JW Wilson|New Zealand|2004/05| 91c984a1|  211048|            0|             0|   0.0|             0.0|            0.0|                    0.0|            0.0|            0.0|           0.0|          0.0|          0.0|           0.0|\n",
      "|     DR Tuffey|New Zealand|2004/05| 43936951|  211048|            0|             0|   0.0|             0.0|            0.0|                    0.0|            0.0|            0.0|           0.0|          0.0|          0.0|           0.0|\n",
      "|     DR Martyn|  Australia|2004/05| 69762509|  211048|            0|             0|   0.0|             0.0|            0.0|                    0.0|            0.0|            0.0|           0.0|          0.0|          0.0|           0.0|\n",
      "|         B Lee|  Australia|2004/05| dd09ff8e|  211048|            0|             0|   0.0|             0.0|            0.0|                    0.0|            0.0|            0.0|           0.0|          0.0|          0.0|           0.0|\n",
      "|     CL Cairns|New Zealand|2004/05| 0b130202|  211048|            0|             0|   0.0|             0.0|            0.0|                    0.0|            0.0|            0.0|           0.0|          0.0|          0.0|           0.0|\n",
      "|      KD Mills|New Zealand|2004/05| 7fb32e5b|  211048|            0|             0|   0.0|             0.0|            0.0|                    0.0|            0.0|            0.0|           0.0|          0.0|          0.0|           0.0|\n",
      "+--------------+-----------+-------+---------+--------+-------------+--------------+------+----------------+---------------+-----------------------+---------------+---------------+--------------+-------------+-------------+--------------+\n",
      "only showing top 44 rows\n",
      "\n"
     ]
    }
   ],
   "source": [
    "# Include row_num in the join\n",
    "matchPlayersStats = matchPlayers.join(playerStats, on=['Player',\"Country\",'Season'], how='inner')\n",
    "matchPlayersStats = matchPlayersStats.sort(\"match_id\")\n",
    "\n",
    "# Display the result starting from the 45th row\n",
    "matchPlayersStats.show(44)"
   ]
  },
  {
   "cell_type": "code",
   "execution_count": 4,
   "metadata": {},
   "outputs": [
    {
     "data": {
      "text/plain": [
       "1183"
      ]
     },
     "execution_count": 4,
     "metadata": {},
     "output_type": "execute_result"
    }
   ],
   "source": [
    "from pyspark.sql.functions import col\n",
    "match_id = matchPlayersStats.groupBy('match_id').count().filter(col('count') == 22).select('match_id')\n",
    "match_id_list = match_id.collect()\n",
    "len(match_id_list)"
   ]
  },
  {
   "cell_type": "code",
   "execution_count": 5,
   "metadata": {},
   "outputs": [
    {
     "name": "stdout",
     "output_type": "stream",
     "text": [
      "+------------+---------+------+---------+--------+-------------+--------------+------+----------------+---------------+-----------------------+---------------+---------------+--------------+-------------+-------------+--------------+\n",
      "|      Player|  Country|Season|player_id|match_id|Cum Mat Total|Cum Runs Total|Cum SR|Cumulative Overs|Cumulative Mdns|Cumulative Bowling Runs|Cumulative Wkts|Cumulative Econ|Cumulative Dis|Cumulative Ct|Cumulative St|Cumulative D/I|\n",
      "+------------+---------+------+---------+--------+-------------+--------------+------+----------------+---------------+-----------------------+---------------+---------------+--------------+-------------+-------------+--------------+\n",
      "|AC Gilchrist|Australia|  2005| 2b6e6dec|  211028|            1|             1| 33.33|             0.0|            0.0|                    0.0|            0.0|            0.0|           0.0|          0.0|          0.0|           0.0|\n",
      "|  RT Ponting|Australia|  2005| 7d415ea5|  211028|            1|            98|178.18|             0.0|            0.0|                    0.0|            0.0|            0.0|           1.0|          1.0|          0.0|           1.0|\n",
      "|   ML Hayden|Australia|  2005| d8699ab7|  211028|            0|             0|   0.0|             0.0|            0.0|                    0.0|            0.0|            0.0|           0.0|          0.0|          0.0|           0.0|\n",
      "|   A Symonds|Australia|  2005| bd77eb62|  211028|            1|            32|246.15|             3.0|            0.0|                   33.0|            1.0|           11.0|           0.0|          0.0|          0.0|           0.0|\n",
      "|   MJ Clarke|Australia|  2005| f842c2cf|  211028|            1|             7| 175.0|             2.0|            0.0|                   11.0|            0.0|            5.5|           0.0|          0.0|          0.0|           0.0|\n",
      "+------------+---------+------+---------+--------+-------------+--------------+------+----------------+---------------+-----------------------+---------------+---------------+--------------+-------------+-------------+--------------+\n",
      "only showing top 5 rows\n",
      "\n"
     ]
    },
    {
     "name": "stderr",
     "output_type": "stream",
     "text": [
      "                                                                                \r"
     ]
    }
   ],
   "source": [
    "# Extract match_id values from the collected rows\n",
    "match_id_values = [row.match_id for row in match_id_list]\n",
    "\n",
    "# Filter matchPlayersStats using the extracted match_id values\n",
    "matchPlayersStats = matchPlayersStats.filter(col('match_id').isin(match_id_values))\n",
    "matchPlayersStats.show(5)"
   ]
  },
  {
   "cell_type": "code",
   "execution_count": 6,
   "metadata": {},
   "outputs": [
    {
     "name": "stdout",
     "output_type": "stream",
     "text": [
      "+--------+-------------+--------------+------+----------------+---------------+-----------------------+---------------+---------------+--------------+-------------+-------------+--------------+\n",
      "|match_id|Cum Mat Total|Cum Runs Total|Cum SR|Cumulative Overs|Cumulative Mdns|Cumulative Bowling Runs|Cumulative Wkts|Cumulative Econ|Cumulative Dis|Cumulative Ct|Cumulative St|Cumulative D/I|\n",
      "+--------+-------------+--------------+------+----------------+---------------+-----------------------+---------------+---------------+--------------+-------------+-------------+--------------+\n",
      "|  211028|            1|             1| 33.33|             0.0|            0.0|                    0.0|            0.0|            0.0|           0.0|          0.0|          0.0|           0.0|\n",
      "|  211028|            0|             0|   0.0|             0.0|            0.0|                    0.0|            0.0|            0.0|           0.0|          0.0|          0.0|           0.0|\n",
      "|  211028|            0|             0|   0.0|             0.0|            0.0|                    0.0|            0.0|            0.0|           0.0|          0.0|          0.0|           0.0|\n",
      "|  211028|            1|            32|246.15|             3.0|            0.0|                   33.0|            1.0|           11.0|           0.0|          0.0|          0.0|           0.0|\n",
      "|  211028|            1|             7| 175.0|             2.0|            0.0|                   11.0|            0.0|            5.5|           0.0|          0.0|          0.0|           0.0|\n",
      "|  211028|            1|            31|206.66|             0.0|            0.0|                    0.0|            0.0|            0.0|           1.0|          1.0|          0.0|           1.0|\n",
      "|  211028|            1|            98|178.18|             0.0|            0.0|                    0.0|            0.0|            0.0|           1.0|          1.0|          0.0|           1.0|\n",
      "|  211028|            1|             3|  60.0|             0.0|            0.0|                    0.0|            0.0|            0.0|           0.0|          0.0|          0.0|           0.0|\n",
      "|  211028|            1|             0|   0.0|             4.0|            0.0|                   26.0|            1.0|            6.5|           0.0|          0.0|          0.0|           0.0|\n",
      "|  211028|            0|             0|   0.0|             0.0|            0.0|                    0.0|            0.0|            0.0|           0.0|          0.0|          0.0|           0.0|\n",
      "|  211028|            1|             0|   0.0|             4.0|            0.0|                   29.0|            4.0|           7.25|           1.0|          1.0|          0.0|           1.0|\n",
      "|  211028|            1|             0|   0.0|             4.0|            0.0|                   48.0|            2.0|           12.0|           1.0|          1.0|          0.0|           1.0|\n",
      "|  211028|            0|             0|   0.0|             0.0|            0.0|                    0.0|            0.0|            0.0|           0.0|          0.0|          0.0|           0.0|\n",
      "|  211028|            0|             0|   0.0|             0.0|            0.0|                    0.0|            0.0|            0.0|           0.0|          0.0|          0.0|           0.0|\n",
      "|  211028|            0|             0|   0.0|             0.0|            0.0|                    0.0|            0.0|            0.0|           0.0|          0.0|          0.0|           0.0|\n",
      "|  211028|            0|             0|   0.0|             0.0|            0.0|                    0.0|            0.0|            0.0|           0.0|          0.0|          0.0|           0.0|\n",
      "|  211028|            0|             0|   0.0|             0.0|            0.0|                    0.0|            0.0|            0.0|           0.0|          0.0|          0.0|           0.0|\n",
      "|  211028|            0|             0|   0.0|             0.0|            0.0|                    0.0|            0.0|            0.0|           0.0|          0.0|          0.0|           0.0|\n",
      "|  211028|            0|             0|   0.0|             0.0|            0.0|                    0.0|            0.0|            0.0|           0.0|          0.0|          0.0|           0.0|\n",
      "|  211028|            0|             0|   0.0|             0.0|            0.0|                    0.0|            0.0|            0.0|           0.0|          0.0|          0.0|           0.0|\n",
      "+--------+-------------+--------------+------+----------------+---------------+-----------------------+---------------+---------------+--------------+-------------+-------------+--------------+\n",
      "only showing top 20 rows\n",
      "\n"
     ]
    },
    {
     "name": "stderr",
     "output_type": "stream",
     "text": [
      "                                                                                \r"
     ]
    }
   ],
   "source": [
    "matchPlayersStats = matchPlayersStats.drop('Country','Player','Season','Player','Country',\"player_id\")\n",
    "matchPlayersStats.show()"
   ]
  },
  {
   "cell_type": "code",
   "execution_count": 7,
   "metadata": {},
   "outputs": [
    {
     "data": {
      "text/plain": [
       "(26026, 13)"
      ]
     },
     "execution_count": 7,
     "metadata": {},
     "output_type": "execute_result"
    }
   ],
   "source": [
    "num_rows = matchPlayersStats.count()\n",
    "num_cols = len(matchPlayersStats.columns)\n",
    "(num_rows, num_cols)"
   ]
  },
  {
   "cell_type": "code",
   "execution_count": 8,
   "metadata": {},
   "outputs": [
    {
     "name": "stdout",
     "output_type": "stream",
     "text": [
      "[\u001b[34m2024-11-24T14:35:18.786+0530\u001b[0m] {\u001b[34mspark_utils.py:\u001b[0m64} INFO\u001b[0m - Successfully wrote data to /usr/ravi/t20/data/3_mergedData/player_stats.csv\u001b[0m\n"
     ]
    }
   ],
   "source": [
    "utils.spark_save_data(matchPlayersStats,config.MERGED_DATA_DIR, \"player_stats.csv\")\n",
    "spark.stop()"
   ]
  },
  {
   "cell_type": "code",
   "execution_count": null,
   "metadata": {},
   "outputs": [],
   "source": []
  }
 ],
 "metadata": {
  "kernelspec": {
   "display_name": "t20i",
   "language": "python",
   "name": "python3"
  },
  "language_info": {
   "codemirror_mode": {
    "name": "ipython",
    "version": 3
   },
   "file_extension": ".py",
   "mimetype": "text/x-python",
   "name": "python",
   "nbconvert_exporter": "python",
   "pygments_lexer": "ipython3",
   "version": "3.12.7"
  }
 },
 "nbformat": 4,
 "nbformat_minor": 2
}
