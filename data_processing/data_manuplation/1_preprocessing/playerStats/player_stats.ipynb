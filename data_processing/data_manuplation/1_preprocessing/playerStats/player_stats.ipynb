{
 "cells": [
  {
   "cell_type": "code",
   "execution_count": 20,
   "metadata": {},
   "outputs": [
    {
     "name": "stdout",
     "output_type": "stream",
     "text": [
      "[\u001b[34m2024-11-24T14:27:32.333+0530\u001b[0m] {\u001b[34mspark_utils.py:\u001b[0m17} INFO\u001b[0m - Creating Spark session.\u001b[0m\n",
      "[\u001b[34m2024-11-24T14:27:32.470+0530\u001b[0m] {\u001b[34mspark_utils.py:\u001b[0m37} INFO\u001b[0m - Spark session created successfully.\u001b[0m\n",
      "[\u001b[34m2024-11-24T14:27:32.472+0530\u001b[0m] {\u001b[34mspark_utils.py:\u001b[0m46} INFO\u001b[0m - Loading data from fielding_data.csv.\u001b[0m\n"
     ]
    },
    {
     "name": "stderr",
     "output_type": "stream",
     "text": [
      "24/11/24 14:27:32 WARN Utils: spark.executor.instances less than spark.dynamicAllocation.minExecutors is invalid, ignoring its setting, please update your configs.\n",
      "[Stage 1:>                                                          (0 + 1) / 1]\r"
     ]
    },
    {
     "name": "stdout",
     "output_type": "stream",
     "text": [
      "[\u001b[34m2024-11-24T14:27:38.093+0530\u001b[0m] {\u001b[34mspark_utils.py:\u001b[0m46} INFO\u001b[0m - Loading data from bowling_data.csv.\u001b[0m\n"
     ]
    },
    {
     "name": "stderr",
     "output_type": "stream",
     "text": [
      "                                                                                \r"
     ]
    },
    {
     "name": "stdout",
     "output_type": "stream",
     "text": [
      "[\u001b[34m2024-11-24T14:27:38.568+0530\u001b[0m] {\u001b[34mspark_utils.py:\u001b[0m46} INFO\u001b[0m - Loading data from batting_data.csv.\u001b[0m\n",
      "+---------+------------+---------+-------+--------------+---------------+--------------+-------------+-------------+--------------+\n",
      "|player_id|      Player|  Country| Season|Cumulative Mat|Cumulative Inns|Cumulative Dis|Cumulative Ct|Cumulative St|Cumulative D/I|\n",
      "+---------+------------+---------+-------+--------------+---------------+--------------+-------------+-------------+--------------+\n",
      "| b8d490fd|    AJ Finch|Australia|2016/17|            28|           28.0|           7.0|          7.0|          0.0|          0.25|\n",
      "| b970a03f|   M Klinger|Australia|2016/17|             0|            0.0|           0.0|          0.0|          0.0|           0.0|\n",
      "| 12b610c2|     TM Head|Australia|2016/17|             4|            4.0|           2.0|          2.0|          0.0|           0.5|\n",
      "| 32198ae0|MC Henriques|Australia|2016/17|             6|            6.0|           2.0|          2.0|          0.0|          0.33|\n",
      "| ff1e12a0|   AJ Turner|Australia|2016/17|             0|            0.0|           0.0|          0.0|          0.0|           0.0|\n",
      "+---------+------------+---------+-------+--------------+---------------+--------------+-------------+-------------+--------------+\n",
      "only showing top 5 rows\n",
      "\n"
     ]
    }
   ],
   "source": [
    "import os\n",
    "import sys\n",
    "sys.path.append(os.path.join(os.getcwd(), '..','..','..','..'))\n",
    "from configs import spark_config as config\n",
    "from utils import spark_utils as utils\n",
    "\n",
    "# Create a Spark session\n",
    "spark = utils.create_spark_session(\"playerStats\", {\n",
    "    'spark.executor.memory': '4g',\n",
    "    'spark.executor.cores': '6',\n",
    "})\n",
    "\n",
    "fielding_data = utils.load_data(spark,config.PROCESSED_DATA_DIR, 'fielding_data.csv')\n",
    "bowling_data = utils.load_data(spark,config.PROCESSED_DATA_DIR, 'bowling_data.csv')\n",
    "batting_data = utils.load_data(spark,config.PROCESSED_DATA_DIR, 'batting_data.csv')\n",
    "\n",
    "fielding_data.show(5)"
   ]
  },
  {
   "cell_type": "code",
   "execution_count": 21,
   "metadata": {},
   "outputs": [
    {
     "name": "stdout",
     "output_type": "stream",
     "text": [
      "Total nulls in the dataframe:  0\n",
      "Total nulls in the dataframe:  0\n",
      "Total nulls in the dataframe:  0\n"
     ]
    }
   ],
   "source": [
    "# Check for nulls in the data\n",
    "def check_nulls(df):\n",
    "    nulls = 0\n",
    "    for col in df.columns:\n",
    "        nulls+= df.filter(df[col].isNull()).count()\n",
    "    print(\"Total nulls in the dataframe: \", nulls)\n",
    "\n",
    "check_nulls(batting_data)\n",
    "check_nulls(bowling_data)\n",
    "check_nulls(fielding_data)"
   ]
  },
  {
   "cell_type": "code",
   "execution_count": 22,
   "metadata": {},
   "outputs": [
    {
     "name": "stdout",
     "output_type": "stream",
     "text": [
      "['player_id', 'Player', 'Country', 'Season', 'Cum Mat Total', 'Cum Runs Total', 'Cum SR'] 51324\n",
      "['player_id', 'Player', 'Country', 'Season', 'Cumulative Mat', 'Cumulative Inns', 'Cumulative Overs', 'Cumulative Mdns', 'Cumulative Bowling Runs', 'Cumulative Wkts', 'Cumulative Econ'] 51324\n",
      "['player_id', 'Player', 'Country', 'Season', 'Cumulative Mat', 'Cumulative Inns', 'Cumulative Dis', 'Cumulative Ct', 'Cumulative St', 'Cumulative D/I'] 51324\n"
     ]
    }
   ],
   "source": [
    "print(batting_data.columns,batting_data.count())\n",
    "print(bowling_data.columns,bowling_data.count())\n",
    "print(fielding_data.columns,fielding_data.count())"
   ]
  },
  {
   "cell_type": "code",
   "execution_count": 23,
   "metadata": {},
   "outputs": [
    {
     "name": "stderr",
     "output_type": "stream",
     "text": [
      "                                                                                \r"
     ]
    },
    {
     "name": "stdout",
     "output_type": "stream",
     "text": [
      "12103\n"
     ]
    },
    {
     "name": "stderr",
     "output_type": "stream",
     "text": [
      "[Stage 110:>                                                        (0 + 1) / 1]\r"
     ]
    },
    {
     "name": "stdout",
     "output_type": "stream",
     "text": [
      "+---------------+----------------+-------+-------------+--------------+------+----------------+---------------+-----------------------+---------------+---------------+--------------+-------------+-------------+--------------+\n",
      "|         Player|         Country| Season|Cum Mat Total|Cum Runs Total|Cum SR|Cumulative Overs|Cumulative Mdns|Cumulative Bowling Runs|Cumulative Wkts|Cumulative Econ|Cumulative Dis|Cumulative Ct|Cumulative St|Cumulative D/I|\n",
      "+---------------+----------------+-------+-------------+--------------+------+----------------+---------------+-----------------------+---------------+---------------+--------------+-------------+-------------+--------------+\n",
      "| AB de Villiers|    South Africa|   2017|           73|          1457|128.93|             0.0|            0.0|                    0.0|            0.0|            0.0|          68.0|         61.0|          7.0|          0.93|\n",
      "|    TA Blundell|     New Zealand|2017/18|            1|             0|   0.0|             0.0|            0.0|                    0.0|            0.0|            0.0|           0.0|          0.0|          0.0|           0.0|\n",
      "|Zeeshan Maqsood|            Oman|2016/17|           12|           269|130.84|            22.0|            0.0|                  199.0|            8.0|           9.04|           2.0|          2.0|          0.0|          0.18|\n",
      "|          S Bau|Papua New Guinea|   2017|            3|            47|102.17|             1.0|            0.0|                   11.0|            0.0|           11.0|           2.0|          2.0|          0.0|          0.67|\n",
      "|      MA Aponso|       Sri Lanka|2018/19|            2|             0|   0.0|             7.0|            0.0|                   50.0|            2.0|           7.14|           0.0|          0.0|          0.0|           0.0|\n",
      "+---------------+----------------+-------+-------------+--------------+------+----------------+---------------+-----------------------+---------------+---------------+--------------+-------------+-------------+--------------+\n",
      "only showing top 5 rows\n",
      "\n"
     ]
    },
    {
     "name": "stderr",
     "output_type": "stream",
     "text": [
      "                                                                                \r"
     ]
    }
   ],
   "source": [
    "playerdata = batting_data.join(bowling_data, on=['Player',\"Country\",\"Season\"], how='inner').join(fielding_data, on=['Player',\"Country\",\"Season\"], how='inner')\\\n",
    "    .drop('Cumulative Mat','Cumulative Inns')\n",
    "playerdata = playerdata.dropDuplicates([ 'Player', 'Country', 'Season', 'player_id']).drop('player_id')\n",
    "print(playerdata.count())\n",
    "playerdata.show(5)"
   ]
  },
  {
   "cell_type": "code",
   "execution_count": 24,
   "metadata": {},
   "outputs": [
    {
     "name": "stderr",
     "output_type": "stream",
     "text": [
      "[Stage 115:>                                                        (0 + 1) / 1]\r"
     ]
    },
    {
     "name": "stdout",
     "output_type": "stream",
     "text": [
      "+-----------+--------------+-------+-------------+--------------+------+------------------+---------------+-----------------------+---------------+---------------+--------------+-------------+-------------+--------------+\n",
      "|     Player|       Country| Season|Cum Mat Total|Cum Runs Total|Cum SR|  Cumulative Overs|Cumulative Mdns|Cumulative Bowling Runs|Cumulative Wkts|Cumulative Econ|Cumulative Dis|Cumulative Ct|Cumulative St|Cumulative D/I|\n",
      "+-----------+--------------+-------+-------------+--------------+------+------------------+---------------+-----------------------+---------------+---------------+--------------+-------------+-------------+--------------+\n",
      "| A Ahmadhel|      Bulgaria|2020/21|            4|            24| 100.0|              12.0|            0.0|                   97.0|            4.0|           8.38|           0.0|          0.0|          0.0|           0.0|\n",
      "| A Ahmadhel|      Bulgaria|   2021|            6|            26| 82.14|14.400000095367432|            0.0|                  124.0|            6.0|           8.96|           0.0|          0.0|          0.0|           0.0|\n",
      "| A Ahmadhel|      Bulgaria|   2023|            9|            31| 63.42| 17.40000009536743|            0.0|                  155.0|            6.0|            9.3|           0.0|          0.0|          0.0|           0.0|\n",
      "| A Ahmadhel|      Bulgaria|   2024|           11|            31| 63.42| 17.40000009536743|            0.0|                  155.0|            6.0|            9.3|           0.0|          0.0|          0.0|           0.0|\n",
      "|    A Amado|        Israel|   2022|            0|             0|   0.0|               0.0|            0.0|                    0.0|            0.0|            0.0|           0.0|          0.0|          0.0|           0.0|\n",
      "|  A Andrews|   Switzerland|2021/22|            0|             0|   0.0|               0.0|            0.0|                    0.0|            0.0|            0.0|           0.0|          0.0|          0.0|           0.0|\n",
      "|  A Andrews|   Switzerland|   2022|            3|             0|   0.0|              10.0|            0.0|                   61.0|            4.0|            6.1|           4.0|          4.0|          0.0|          1.33|\n",
      "|    A Ashok|   New Zealand|   2023|            0|             0|   0.0|               0.0|            0.0|                    0.0|            0.0|            0.0|           0.0|          0.0|          0.0|           0.0|\n",
      "|  A Ashokan|Czech Republic|   2020|            2|            41|141.37|               2.0|            0.0|                   16.0|            0.0|            8.0|           1.0|          1.0|          0.0|           0.5|\n",
      "|  A Ashokan|Czech Republic|   2021|            6|            92|110.08|              10.5|            0.0|                  113.0|            2.0|          10.38|           3.0|          3.0|          0.0|           0.5|\n",
      "|  A Ashokan|Czech Republic|   2022|           13|           243|108.88|              22.5|            0.0|                  217.0|            3.0|           9.52|           6.0|          6.0|          0.0|          0.46|\n",
      "|  A Ashokan|Czech Republic|   2023|           28|           612|116.41|              62.5|            0.0|                  528.0|           14.0|           8.57|          11.0|         11.0|          0.0|          0.39|\n",
      "| A Athanaze|   West Indies|   2024|            0|             0|   0.0|               0.0|            0.0|                    0.0|            0.0|            0.0|           0.0|          0.0|          0.0|           0.0|\n",
      "|    A Bagai|        Canada|2009/10|            3|            24|  92.3|               0.0|            0.0|                    0.0|            0.0|            0.0|           5.0|          2.0|          3.0|          1.67|\n",
      "|    A Bagai|        Canada|2013/14|            7|           169|107.47|               0.0|            0.0|                    0.0|            0.0|            0.0|           7.0|          3.0|          4.0|           1.0|\n",
      "|A Balbirnie|       Ireland|   2015|            0|             0|   0.0|               0.0|            0.0|                    0.0|            0.0|            0.0|           0.0|          0.0|          0.0|           0.0|\n",
      "|A Balbirnie|       Ireland|2015/16|            7|            77| 98.71|               0.0|            0.0|                    0.0|            0.0|            0.0|           1.0|          1.0|          0.0|           0.2|\n",
      "|A Balbirnie|       Ireland|   2018|           10|            84| 75.16|               0.0|            0.0|                    0.0|            0.0|            0.0|           3.0|          3.0|          0.0|          0.38|\n",
      "|A Balbirnie|       Ireland|2018/19|           16|           189|100.29|               0.0|            0.0|                    0.0|            0.0|            0.0|           5.0|          5.0|          0.0|          0.36|\n",
      "|A Balbirnie|       Ireland|   2019|           22|           366|114.06|               0.0|            0.0|                    0.0|            0.0|            0.0|           7.0|          7.0|          0.0|          0.35|\n",
      "+-----------+--------------+-------+-------------+--------------+------+------------------+---------------+-----------------------+---------------+---------------+--------------+-------------+-------------+--------------+\n",
      "only showing top 20 rows\n",
      "\n"
     ]
    },
    {
     "name": "stderr",
     "output_type": "stream",
     "text": [
      "                                                                                \r"
     ]
    }
   ],
   "source": [
    "playerdata.sort([\"Player\",\"Country\",\"Season\"]).show()"
   ]
  },
  {
   "cell_type": "code",
   "execution_count": 29,
   "metadata": {},
   "outputs": [
    {
     "name": "stderr",
     "output_type": "stream",
     "text": [
      "[Stage 140:>                                                        (0 + 1) / 1]\r"
     ]
    },
    {
     "name": "stdout",
     "output_type": "stream",
     "text": [
      "[\u001b[34m2024-11-24T14:30:47.761+0530\u001b[0m] {\u001b[34mspark_utils.py:\u001b[0m64} INFO\u001b[0m - Successfully wrote data to /usr/ravi/t20/data/2_processedData/player_stats.csv\u001b[0m\n"
     ]
    },
    {
     "name": "stderr",
     "output_type": "stream",
     "text": [
      "                                                                                \r"
     ]
    }
   ],
   "source": [
    "utils.spark_save_data(playerdata,config.PROCESSED_DATA_DIR, 'player_stats.csv')\n",
    "spark.stop()"
   ]
  },
  {
   "cell_type": "code",
   "execution_count": null,
   "metadata": {},
   "outputs": [],
   "source": []
  }
 ],
 "metadata": {
  "kernelspec": {
   "display_name": "t20i",
   "language": "python",
   "name": "python3"
  },
  "language_info": {
   "codemirror_mode": {
    "name": "ipython",
    "version": 3
   },
   "file_extension": ".py",
   "mimetype": "text/x-python",
   "name": "python",
   "nbconvert_exporter": "python",
   "pygments_lexer": "ipython3",
   "version": "3.12.7"
  }
 },
 "nbformat": 4,
 "nbformat_minor": 2
}
