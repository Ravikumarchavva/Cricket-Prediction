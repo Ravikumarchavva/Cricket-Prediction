{
 "cells": [
  {
   "cell_type": "markdown",
   "metadata": {},
   "source": [
    "# Adding paths and files"
   ]
  },
  {
   "cell_type": "code",
   "execution_count": 1,
   "metadata": {},
   "outputs": [
    {
     "data": {
      "text/html": [
       "<pre style=\"white-space:pre;overflow-x:auto;line-height:normal;font-family:Menlo,'DejaVu Sans Mono',consolas,'Courier New',monospace\"><span style=\"color: #808000; text-decoration-color: #808000; font-weight: bold\">/home/ravikumar/miniconda3/envs/t20i/lib/python3.12/site-packages/airflow/configuration.py:</span><span style=\"color: #808000; text-decoration-color: #808000; font-weight: bold\">859</span><span style=\"color: #808000; text-decoration-color: #808000; font-weight: bold\"> FutureWarning</span><span style=\"color: #808000; text-decoration-color: #808000\">: section/key </span><span style=\"color: #808000; text-decoration-color: #808000; font-weight: bold\">[</span><span style=\"color: #808000; text-decoration-color: #808000\">core/sql_alchemy_conn</span><span style=\"color: #808000; text-decoration-color: #808000; font-weight: bold\">]</span><span style=\"color: #808000; text-decoration-color: #808000\"> has been deprecated, you should use</span><span style=\"color: #808000; text-decoration-color: #808000; font-weight: bold\">[</span><span style=\"color: #808000; text-decoration-color: #808000\">database/sql_alchemy_conn</span><span style=\"color: #808000; text-decoration-color: #808000; font-weight: bold\">]</span><span style=\"color: #808000; text-decoration-color: #808000\"> instead. Please update your `conf.get*` call to use the new name</span>\n",
       "</pre>\n"
      ],
      "text/plain": [
       "\u001b[1;33m/home/ravikumar/miniconda3/envs/t20i/lib/python3.12/site-packages/airflow/\u001b[0m\u001b[1;33mconfiguration.py\u001b[0m\u001b[1;33m:\u001b[0m\u001b[1;33m859\u001b[0m\u001b[1;33m FutureWarning\u001b[0m\u001b[33m: section/key \u001b[0m\u001b[1;33m[\u001b[0m\u001b[33mcore/sql_alchemy_conn\u001b[0m\u001b[1;33m]\u001b[0m\u001b[33m has been deprecated, you should use\u001b[0m\u001b[1;33m[\u001b[0m\u001b[33mdatabase/sql_alchemy_conn\u001b[0m\u001b[1;33m]\u001b[0m\u001b[33m instead. Please update your `conf.get*` call to use the new name\u001b[0m\n"
      ]
     },
     "metadata": {},
     "output_type": "display_data"
    },
    {
     "name": "stdout",
     "output_type": "stream",
     "text": [
      "/usr/ravi/t20/data/1_rawData/t20s_csv2\n",
      "[\u001b[34m2024-11-19T01:03:54.858+0530\u001b[0m] {\u001b[34mclient.py:\u001b[0m192} INFO\u001b[0m - Instantiated <InsecureClient(url='http://192.168.245.142:9870')>.\u001b[0m\n",
      "[\u001b[34m2024-11-19T01:03:54.859+0530\u001b[0m] {\u001b[34mclient.py:\u001b[0m1116} INFO\u001b[0m - Listing '/usr/ravi/t20/data/1_rawData/t20s_csv2'.\u001b[0m\n"
     ]
    }
   ],
   "source": [
    "import os\n",
    "import sys\n",
    "\n",
    "sys.path.append(os.path.join(os.getcwd(), '..', '..'))\n",
    "import config,utils\n",
    "\n",
    "# Specify the directory where your CSV files are located\n",
    "directory = os.path.join(config.RAW_DATA_DIR, 't20s_csv2')\n",
    "print(directory)\n",
    "from hdfs import InsecureClient\n",
    "client = InsecureClient(config.HDFS_URL, user=config.HDFS_USER)\n",
    "\n",
    "all_files = client.list(directory)\n",
    "info_files = [os.path.join(directory, file) for file in all_files if 'info' in file]\n",
    "\n",
    "matches=[]\n",
    "# Print the list of CSV files\n",
    "for info_file in info_files:\n",
    "    matches.append(info_file.split('/')[-1])\n",
    "\n",
    "match_ids=[]\n",
    "for csv_file in matches:\n",
    "    match_ids.append(csv_file.split('_')[0])"
   ]
  },
  {
   "cell_type": "code",
   "execution_count": 2,
   "metadata": {},
   "outputs": [
    {
     "name": "stdout",
     "output_type": "stream",
     "text": [
      "[\u001b[34m2024-11-19T01:03:55.187+0530\u001b[0m] {\u001b[34mclient.py:\u001b[0m724} INFO\u001b[0m - Reading file '/usr/ravi/t20/data/1_rawData/t20s_csv2/1001351_info.csv'.\u001b[0m\n"
     ]
    },
    {
     "data": {
      "text/html": [
       "<div>\n",
       "<style scoped>\n",
       "    .dataframe tbody tr th:only-of-type {\n",
       "        vertical-align: middle;\n",
       "    }\n",
       "\n",
       "    .dataframe tbody tr th {\n",
       "        vertical-align: top;\n",
       "    }\n",
       "\n",
       "    .dataframe thead th {\n",
       "        text-align: right;\n",
       "    }\n",
       "</style>\n",
       "<table border=\"1\" class=\"dataframe\">\n",
       "  <thead>\n",
       "    <tr style=\"text-align: right;\">\n",
       "      <th></th>\n",
       "      <th>heading</th>\n",
       "      <th>subkey</th>\n",
       "      <th>players</th>\n",
       "      <th>player_id</th>\n",
       "    </tr>\n",
       "  </thead>\n",
       "  <tbody>\n",
       "    <tr>\n",
       "      <th>0</th>\n",
       "      <td>2.1.0</td>\n",
       "      <td>NaN</td>\n",
       "      <td>NaN</td>\n",
       "      <td>NaN</td>\n",
       "    </tr>\n",
       "    <tr>\n",
       "      <th>1</th>\n",
       "      <td>balls_per_over</td>\n",
       "      <td>6</td>\n",
       "      <td>NaN</td>\n",
       "      <td>NaN</td>\n",
       "    </tr>\n",
       "    <tr>\n",
       "      <th>2</th>\n",
       "      <td>team</td>\n",
       "      <td>Australia</td>\n",
       "      <td>NaN</td>\n",
       "      <td>NaN</td>\n",
       "    </tr>\n",
       "    <tr>\n",
       "      <th>3</th>\n",
       "      <td>team</td>\n",
       "      <td>Sri Lanka</td>\n",
       "      <td>NaN</td>\n",
       "      <td>NaN</td>\n",
       "    </tr>\n",
       "    <tr>\n",
       "      <th>4</th>\n",
       "      <td>gender</td>\n",
       "      <td>male</td>\n",
       "      <td>NaN</td>\n",
       "      <td>NaN</td>\n",
       "    </tr>\n",
       "    <tr>\n",
       "      <th>5</th>\n",
       "      <td>season</td>\n",
       "      <td>2016/17</td>\n",
       "      <td>NaN</td>\n",
       "      <td>NaN</td>\n",
       "    </tr>\n",
       "    <tr>\n",
       "      <th>6</th>\n",
       "      <td>date</td>\n",
       "      <td>2017/02/19</td>\n",
       "      <td>NaN</td>\n",
       "      <td>NaN</td>\n",
       "    </tr>\n",
       "    <tr>\n",
       "      <th>7</th>\n",
       "      <td>event</td>\n",
       "      <td>Sri Lanka in Australia T20I Series</td>\n",
       "      <td>NaN</td>\n",
       "      <td>NaN</td>\n",
       "    </tr>\n",
       "    <tr>\n",
       "      <th>8</th>\n",
       "      <td>match_number</td>\n",
       "      <td>2</td>\n",
       "      <td>NaN</td>\n",
       "      <td>NaN</td>\n",
       "    </tr>\n",
       "    <tr>\n",
       "      <th>9</th>\n",
       "      <td>venue</td>\n",
       "      <td>Simonds Stadium, South Geelong</td>\n",
       "      <td>NaN</td>\n",
       "      <td>NaN</td>\n",
       "    </tr>\n",
       "  </tbody>\n",
       "</table>\n",
       "</div>"
      ],
      "text/plain": [
       "          heading                              subkey players player_id\n",
       "0           2.1.0                                 NaN     NaN       NaN\n",
       "1  balls_per_over                                   6     NaN       NaN\n",
       "2            team                           Australia     NaN       NaN\n",
       "3            team                           Sri Lanka     NaN       NaN\n",
       "4          gender                                male     NaN       NaN\n",
       "5          season                             2016/17     NaN       NaN\n",
       "6            date                          2017/02/19     NaN       NaN\n",
       "7           event  Sri Lanka in Australia T20I Series     NaN       NaN\n",
       "8    match_number                                   2     NaN       NaN\n",
       "9           venue      Simonds Stadium, South Geelong     NaN       NaN"
      ]
     },
     "execution_count": 2,
     "metadata": {},
     "output_type": "execute_result"
    }
   ],
   "source": [
    "import pandas as pd\n",
    "import io\n",
    "\n",
    "with client.read(os.path.join(config.RAW_DATA_DIR, 't20s_csv2', f'{info_files[1]}')) as reader:\n",
    "            data = reader.read()\n",
    "df = pd.read_csv(io.StringIO(data.decode('utf-8')), header=None, names=['type', 'heading', 'subkey', 'players','player_id'], skipinitialspace=True).drop('type', axis=1)\n",
    "df.head(10)"
   ]
  },
  {
   "cell_type": "code",
   "execution_count": 3,
   "metadata": {},
   "outputs": [
    {
     "data": {
      "text/plain": [
       "'2016/17'"
      ]
     },
     "execution_count": 3,
     "metadata": {},
     "output_type": "execute_result"
    }
   ],
   "source": [
    "df['subkey'][5]"
   ]
  },
  {
   "cell_type": "code",
   "execution_count": 4,
   "metadata": {},
   "outputs": [
    {
     "data": {
      "text/plain": [
       "1001349"
      ]
     },
     "execution_count": 4,
     "metadata": {},
     "output_type": "execute_result"
    }
   ],
   "source": [
    "match_id = pd.to_numeric(info_files[0].split('/')[-1].split('_')[0])\n",
    "match_id"
   ]
  },
  {
   "cell_type": "code",
   "execution_count": 5,
   "metadata": {},
   "outputs": [
    {
     "data": {
      "text/html": [
       "<div>\n",
       "<style scoped>\n",
       "    .dataframe tbody tr th:only-of-type {\n",
       "        vertical-align: middle;\n",
       "    }\n",
       "\n",
       "    .dataframe tbody tr th {\n",
       "        vertical-align: top;\n",
       "    }\n",
       "\n",
       "    .dataframe thead th {\n",
       "        text-align: right;\n",
       "    }\n",
       "</style>\n",
       "<table border=\"1\" class=\"dataframe\">\n",
       "  <thead>\n",
       "    <tr style=\"text-align: right;\">\n",
       "      <th></th>\n",
       "      <th>country</th>\n",
       "      <th>player</th>\n",
       "      <th>player_id</th>\n",
       "      <th>match_id</th>\n",
       "    </tr>\n",
       "  </thead>\n",
       "  <tbody>\n",
       "    <tr>\n",
       "      <th>0</th>\n",
       "      <td>Australia</td>\n",
       "      <td>M Klinger</td>\n",
       "      <td>b970a03f</td>\n",
       "      <td>1001349</td>\n",
       "    </tr>\n",
       "    <tr>\n",
       "      <th>1</th>\n",
       "      <td>Australia</td>\n",
       "      <td>AJ Finch</td>\n",
       "      <td>b8d490fd</td>\n",
       "      <td>1001349</td>\n",
       "    </tr>\n",
       "    <tr>\n",
       "      <th>2</th>\n",
       "      <td>Australia</td>\n",
       "      <td>BR Dunk</td>\n",
       "      <td>272d796e</td>\n",
       "      <td>1001349</td>\n",
       "    </tr>\n",
       "    <tr>\n",
       "      <th>3</th>\n",
       "      <td>Australia</td>\n",
       "      <td>MC Henriques</td>\n",
       "      <td>32198ae0</td>\n",
       "      <td>1001349</td>\n",
       "    </tr>\n",
       "    <tr>\n",
       "      <th>4</th>\n",
       "      <td>Australia</td>\n",
       "      <td>TM Head</td>\n",
       "      <td>12b610c2</td>\n",
       "      <td>1001349</td>\n",
       "    </tr>\n",
       "    <tr>\n",
       "      <th>5</th>\n",
       "      <td>Australia</td>\n",
       "      <td>AJ Turner</td>\n",
       "      <td>ff1e12a0</td>\n",
       "      <td>1001349</td>\n",
       "    </tr>\n",
       "    <tr>\n",
       "      <th>6</th>\n",
       "      <td>Australia</td>\n",
       "      <td>JP Faulkner</td>\n",
       "      <td>808f425a</td>\n",
       "      <td>1001349</td>\n",
       "    </tr>\n",
       "    <tr>\n",
       "      <th>7</th>\n",
       "      <td>Australia</td>\n",
       "      <td>TD Paine</td>\n",
       "      <td>5748e866</td>\n",
       "      <td>1001349</td>\n",
       "    </tr>\n",
       "    <tr>\n",
       "      <th>8</th>\n",
       "      <td>Australia</td>\n",
       "      <td>PJ Cummins</td>\n",
       "      <td>ded9240e</td>\n",
       "      <td>1001349</td>\n",
       "    </tr>\n",
       "    <tr>\n",
       "      <th>9</th>\n",
       "      <td>Australia</td>\n",
       "      <td>AJ Tye</td>\n",
       "      <td>7c7d63a2</td>\n",
       "      <td>1001349</td>\n",
       "    </tr>\n",
       "    <tr>\n",
       "      <th>10</th>\n",
       "      <td>Australia</td>\n",
       "      <td>JA Richardson</td>\n",
       "      <td>1ee08e9a</td>\n",
       "      <td>1001349</td>\n",
       "    </tr>\n",
       "    <tr>\n",
       "      <th>11</th>\n",
       "      <td>Sri Lanka</td>\n",
       "      <td>N Dickwella</td>\n",
       "      <td>45963d9e</td>\n",
       "      <td>1001349</td>\n",
       "    </tr>\n",
       "    <tr>\n",
       "      <th>12</th>\n",
       "      <td>Sri Lanka</td>\n",
       "      <td>WU Tharanga</td>\n",
       "      <td>7ed9fd56</td>\n",
       "      <td>1001349</td>\n",
       "    </tr>\n",
       "    <tr>\n",
       "      <th>13</th>\n",
       "      <td>Sri Lanka</td>\n",
       "      <td>EMDY Munaweera</td>\n",
       "      <td>5a22d91c</td>\n",
       "      <td>1001349</td>\n",
       "    </tr>\n",
       "    <tr>\n",
       "      <th>14</th>\n",
       "      <td>Sri Lanka</td>\n",
       "      <td>BKG Mendis</td>\n",
       "      <td>5d1e7582</td>\n",
       "      <td>1001349</td>\n",
       "    </tr>\n",
       "    <tr>\n",
       "      <th>15</th>\n",
       "      <td>Sri Lanka</td>\n",
       "      <td>DAS Gunaratne</td>\n",
       "      <td>770494eb</td>\n",
       "      <td>1001349</td>\n",
       "    </tr>\n",
       "    <tr>\n",
       "      <th>16</th>\n",
       "      <td>Sri Lanka</td>\n",
       "      <td>TAM Siriwardana</td>\n",
       "      <td>bf7842c9</td>\n",
       "      <td>1001349</td>\n",
       "    </tr>\n",
       "    <tr>\n",
       "      <th>17</th>\n",
       "      <td>Sri Lanka</td>\n",
       "      <td>CK Kapugedera</td>\n",
       "      <td>cfad138c</td>\n",
       "      <td>1001349</td>\n",
       "    </tr>\n",
       "    <tr>\n",
       "      <th>18</th>\n",
       "      <td>Sri Lanka</td>\n",
       "      <td>S Prasanna</td>\n",
       "      <td>f78e7113</td>\n",
       "      <td>1001349</td>\n",
       "    </tr>\n",
       "    <tr>\n",
       "      <th>19</th>\n",
       "      <td>Sri Lanka</td>\n",
       "      <td>KMDN Kulasekara</td>\n",
       "      <td>469ea22b</td>\n",
       "      <td>1001349</td>\n",
       "    </tr>\n",
       "    <tr>\n",
       "      <th>20</th>\n",
       "      <td>Sri Lanka</td>\n",
       "      <td>SL Malinga</td>\n",
       "      <td>a12e1d51</td>\n",
       "      <td>1001349</td>\n",
       "    </tr>\n",
       "    <tr>\n",
       "      <th>21</th>\n",
       "      <td>Sri Lanka</td>\n",
       "      <td>JRMVB Sanjaya</td>\n",
       "      <td>530b20e3</td>\n",
       "      <td>1001349</td>\n",
       "    </tr>\n",
       "  </tbody>\n",
       "</table>\n",
       "</div>"
      ],
      "text/plain": [
       "      country           player player_id  match_id\n",
       "0   Australia        M Klinger  b970a03f   1001349\n",
       "1   Australia         AJ Finch  b8d490fd   1001349\n",
       "2   Australia          BR Dunk  272d796e   1001349\n",
       "3   Australia     MC Henriques  32198ae0   1001349\n",
       "4   Australia          TM Head  12b610c2   1001349\n",
       "5   Australia        AJ Turner  ff1e12a0   1001349\n",
       "6   Australia      JP Faulkner  808f425a   1001349\n",
       "7   Australia         TD Paine  5748e866   1001349\n",
       "8   Australia       PJ Cummins  ded9240e   1001349\n",
       "9   Australia           AJ Tye  7c7d63a2   1001349\n",
       "10  Australia    JA Richardson  1ee08e9a   1001349\n",
       "11  Sri Lanka      N Dickwella  45963d9e   1001349\n",
       "12  Sri Lanka      WU Tharanga  7ed9fd56   1001349\n",
       "13  Sri Lanka   EMDY Munaweera  5a22d91c   1001349\n",
       "14  Sri Lanka       BKG Mendis  5d1e7582   1001349\n",
       "15  Sri Lanka    DAS Gunaratne  770494eb   1001349\n",
       "16  Sri Lanka  TAM Siriwardana  bf7842c9   1001349\n",
       "17  Sri Lanka    CK Kapugedera  cfad138c   1001349\n",
       "18  Sri Lanka       S Prasanna  f78e7113   1001349\n",
       "19  Sri Lanka  KMDN Kulasekara  469ea22b   1001349\n",
       "20  Sri Lanka       SL Malinga  a12e1d51   1001349\n",
       "21  Sri Lanka    JRMVB Sanjaya  530b20e3   1001349"
      ]
     },
     "execution_count": 5,
     "metadata": {},
     "output_type": "execute_result"
    }
   ],
   "source": [
    "# Filter dataframes based on the heading\n",
    "players_df = df[df['heading'] == \"player\"].drop(['heading','player_id'], axis=1)\n",
    "registry_df = df[df['heading'] == \"registry\"].drop('heading', axis=1)\n",
    "\n",
    "# Join on the 'players' column with 'player_id' from the registry dataframe\n",
    "merged_df = players_df.merge(registry_df[['players', 'player_id']], on='players', how='inner')\n",
    "\n",
    "# Display the merged dataframe\n",
    "merged_df.rename(columns={'players':'player','subkey':'country'}, inplace=True)\n",
    "merged_df['match_id'] = match_id\n",
    "merged_df"
   ]
  },
  {
   "cell_type": "code",
   "execution_count": 6,
   "metadata": {},
   "outputs": [
    {
     "name": "stderr",
     "output_type": "stream",
     "text": [
      "100%|██████████| 3800/3800 [00:51<00:00, 73.13it/s] "
     ]
    },
    {
     "name": "stdout",
     "output_type": "stream",
     "text": [
      "[1173070, 1223952, 1251954, 1262758, 1262760, 1263164, 1263166, 1263167, 1267682, 1268757, 1270834, 1270835, 1273136, 1273138, 1273144, 1274596, 1274597, 1286970, 1289274, 1298163, 1382164, 1388204, 1393329, 1411261, 1425126, 1425660, 1432443, 1434291, 1443786, 1443789, 1444961, 1449012, 1452625, 222678]\n"
     ]
    },
    {
     "name": "stderr",
     "output_type": "stream",
     "text": [
      "\n"
     ]
    }
   ],
   "source": [
    "dataframes = pd.DataFrame(columns=['country', 'player','player_id','season','match_id'])\n",
    "injured_matches = []\n",
    "import logging\n",
    "logging.getLogger(\"hdfs.client\").setLevel(logging.WARNING)\n",
    "from tqdm import tqdm\n",
    "for info_file in tqdm(info_files):\n",
    "    match_id = pd.to_numeric(info_file.split('/')[-1].split('_')[0])\n",
    "    try:\n",
    "        with client.read(os.path.join(config.RAW_DATA_DIR, 't20s_csv2', f'{match_id}_info.csv')) as reader:\n",
    "            data = reader.read()\n",
    "        df = pd.read_csv(io.StringIO(data.decode('utf-8')), header=None, names=['type', 'heading', 'subkey', 'players','player_id'], skipinitialspace=True).drop('type', axis=1)\n",
    "        players_df = df[df['heading'] == \"player\"].drop(['heading','player_id'], axis=1)\n",
    "        registry_df = df[df['heading'] == \"registry\"].drop('heading', axis=1)\n",
    "        merged_df = players_df.merge(registry_df[['players', 'player_id']], on='players', how='inner')\n",
    "        merged_df.rename(columns={'players':'player','subkey':'country'}, inplace=True)\n",
    "        season = df['subkey'][5] \n",
    "        merged_df['match_id'] = match_id\n",
    "        merged_df['season'] = season\n",
    "        if(len(merged_df)!=22):\n",
    "            raise Exception('Injured Match')\n",
    "        dataframes = pd.concat([dataframes, merged_df])\n",
    "    except:\n",
    "        injured_matches.append(match_id)\n",
    "print(injured_matches)"
   ]
  },
  {
   "cell_type": "code",
   "execution_count": 7,
   "metadata": {},
   "outputs": [
    {
     "data": {
      "text/html": [
       "<div>\n",
       "<style scoped>\n",
       "    .dataframe tbody tr th:only-of-type {\n",
       "        vertical-align: middle;\n",
       "    }\n",
       "\n",
       "    .dataframe tbody tr th {\n",
       "        vertical-align: top;\n",
       "    }\n",
       "\n",
       "    .dataframe thead th {\n",
       "        text-align: right;\n",
       "    }\n",
       "</style>\n",
       "<table border=\"1\" class=\"dataframe\">\n",
       "  <thead>\n",
       "    <tr style=\"text-align: right;\">\n",
       "      <th></th>\n",
       "      <th>country</th>\n",
       "      <th>player</th>\n",
       "      <th>player_id</th>\n",
       "      <th>season</th>\n",
       "      <th>match_id</th>\n",
       "    </tr>\n",
       "  </thead>\n",
       "  <tbody>\n",
       "    <tr>\n",
       "      <th>0</th>\n",
       "      <td>Australia</td>\n",
       "      <td>AJ Finch</td>\n",
       "      <td>b8d490fd</td>\n",
       "      <td>2016/17</td>\n",
       "      <td>1001349</td>\n",
       "    </tr>\n",
       "    <tr>\n",
       "      <th>1</th>\n",
       "      <td>Australia</td>\n",
       "      <td>M Klinger</td>\n",
       "      <td>b970a03f</td>\n",
       "      <td>2016/17</td>\n",
       "      <td>1001349</td>\n",
       "    </tr>\n",
       "    <tr>\n",
       "      <th>2</th>\n",
       "      <td>Australia</td>\n",
       "      <td>TM Head</td>\n",
       "      <td>12b610c2</td>\n",
       "      <td>2016/17</td>\n",
       "      <td>1001349</td>\n",
       "    </tr>\n",
       "    <tr>\n",
       "      <th>3</th>\n",
       "      <td>Australia</td>\n",
       "      <td>MC Henriques</td>\n",
       "      <td>32198ae0</td>\n",
       "      <td>2016/17</td>\n",
       "      <td>1001349</td>\n",
       "    </tr>\n",
       "    <tr>\n",
       "      <th>4</th>\n",
       "      <td>Australia</td>\n",
       "      <td>AJ Turner</td>\n",
       "      <td>ff1e12a0</td>\n",
       "      <td>2016/17</td>\n",
       "      <td>1001349</td>\n",
       "    </tr>\n",
       "    <tr>\n",
       "      <th>...</th>\n",
       "      <td>...</td>\n",
       "      <td>...</td>\n",
       "      <td>...</td>\n",
       "      <td>...</td>\n",
       "      <td>...</td>\n",
       "    </tr>\n",
       "    <tr>\n",
       "      <th>17</th>\n",
       "      <td>Sri Lanka</td>\n",
       "      <td>NLTC Perera</td>\n",
       "      <td>0f12f9df</td>\n",
       "      <td>2016</td>\n",
       "      <td>995469</td>\n",
       "    </tr>\n",
       "    <tr>\n",
       "      <th>18</th>\n",
       "      <td>Sri Lanka</td>\n",
       "      <td>SS Pathirana</td>\n",
       "      <td>753c95b9</td>\n",
       "      <td>2016</td>\n",
       "      <td>995469</td>\n",
       "    </tr>\n",
       "    <tr>\n",
       "      <th>19</th>\n",
       "      <td>Sri Lanka</td>\n",
       "      <td>S Prasanna</td>\n",
       "      <td>f78e7113</td>\n",
       "      <td>2016</td>\n",
       "      <td>995469</td>\n",
       "    </tr>\n",
       "    <tr>\n",
       "      <th>20</th>\n",
       "      <td>Sri Lanka</td>\n",
       "      <td>SMSM Senanayake</td>\n",
       "      <td>4c4fa80b</td>\n",
       "      <td>2016</td>\n",
       "      <td>995469</td>\n",
       "    </tr>\n",
       "    <tr>\n",
       "      <th>21</th>\n",
       "      <td>Sri Lanka</td>\n",
       "      <td>RAS Lakmal</td>\n",
       "      <td>2f28dc94</td>\n",
       "      <td>2016</td>\n",
       "      <td>995469</td>\n",
       "    </tr>\n",
       "  </tbody>\n",
       "</table>\n",
       "<p>82852 rows × 5 columns</p>\n",
       "</div>"
      ],
      "text/plain": [
       "      country           player player_id   season match_id\n",
       "0   Australia         AJ Finch  b8d490fd  2016/17  1001349\n",
       "1   Australia        M Klinger  b970a03f  2016/17  1001349\n",
       "2   Australia          TM Head  12b610c2  2016/17  1001349\n",
       "3   Australia     MC Henriques  32198ae0  2016/17  1001349\n",
       "4   Australia        AJ Turner  ff1e12a0  2016/17  1001349\n",
       "..        ...              ...       ...      ...      ...\n",
       "17  Sri Lanka      NLTC Perera  0f12f9df     2016   995469\n",
       "18  Sri Lanka     SS Pathirana  753c95b9     2016   995469\n",
       "19  Sri Lanka       S Prasanna  f78e7113     2016   995469\n",
       "20  Sri Lanka  SMSM Senanayake  4c4fa80b     2016   995469\n",
       "21  Sri Lanka       RAS Lakmal  2f28dc94     2016   995469\n",
       "\n",
       "[82852 rows x 5 columns]"
      ]
     },
     "execution_count": 7,
     "metadata": {},
     "output_type": "execute_result"
    }
   ],
   "source": [
    "dataframes"
   ]
  },
  {
   "cell_type": "code",
   "execution_count": 8,
   "metadata": {},
   "outputs": [
    {
     "data": {
      "text/plain": [
       "(3766.0, 34)"
      ]
     },
     "execution_count": 8,
     "metadata": {},
     "output_type": "execute_result"
    }
   ],
   "source": [
    "len(dataframes)/22,len(injured_matches)"
   ]
  },
  {
   "cell_type": "code",
   "execution_count": null,
   "metadata": {},
   "outputs": [],
   "source": [
    "client.write(os.path.join(config.PROCESSED_DATA_DIR, 'match_players.csv'), dataframes.to_csv(index=False), overwrite=True)"
   ]
  },
  {
   "cell_type": "markdown",
   "metadata": {},
   "source": [
    "# Individual player's data"
   ]
  },
  {
   "cell_type": "code",
   "execution_count": 10,
   "metadata": {},
   "outputs": [
    {
     "data": {
      "text/html": [
       "<div><style>\n",
       ".dataframe > thead > tr,\n",
       ".dataframe > tbody > tr {\n",
       "  text-align: right;\n",
       "  white-space: pre-wrap;\n",
       "}\n",
       "</style>\n",
       "<small>shape: (5_954, 3)</small><table border=\"1\" class=\"dataframe\"><thead><tr><th>player</th><th>country</th><th>player_id</th></tr><tr><td>str</td><td>str</td><td>str</td></tr></thead><tbody><tr><td>&quot;RD McCann&quot;</td><td>&quot;Ireland&quot;</td><td>&quot;92c43fac&quot;</td></tr><tr><td>&quot;Mariska Kornet&quot;</td><td>&quot;Netherlands&quot;</td><td>&quot;06deb88a&quot;</td></tr><tr><td>&quot;Amarpal Kaur&quot;</td><td>&quot;Canada&quot;</td><td>&quot;3051fcc6&quot;</td></tr><tr><td>&quot;Azhar Andani&quot;</td><td>&quot;Portugal&quot;</td><td>&quot;b5bd99da&quot;</td></tr><tr><td>&quot;Haroon Mughal&quot;</td><td>&quot;Malta&quot;</td><td>&quot;8ac3d7ee&quot;</td></tr><tr><td>&hellip;</td><td>&hellip;</td><td>&hellip;</td></tr><tr><td>&quot;I Nandakumar&quot;</td><td>&quot;United Arab Emirates&quot;</td><td>&quot;9f87d0f0&quot;</td></tr><tr><td>&quot;Ashwini Balaji&quot;</td><td>&quot;Germany&quot;</td><td>&quot;81283f75&quot;</td></tr><tr><td>&quot;NE Farrant&quot;</td><td>&quot;England&quot;</td><td>&quot;15f609ed&quot;</td></tr><tr><td>&quot;LD Chandimal&quot;</td><td>&quot;Sri Lanka&quot;</td><td>&quot;8dd02a98&quot;</td></tr><tr><td>&quot;A Paul&quot;</td><td>&quot;Estonia&quot;</td><td>&quot;fa308279&quot;</td></tr></tbody></table></div>"
      ],
      "text/plain": [
       "shape: (5_954, 3)\n",
       "┌────────────────┬──────────────────────┬───────────┐\n",
       "│ player         ┆ country              ┆ player_id │\n",
       "│ ---            ┆ ---                  ┆ ---       │\n",
       "│ str            ┆ str                  ┆ str       │\n",
       "╞════════════════╪══════════════════════╪═══════════╡\n",
       "│ RD McCann      ┆ Ireland              ┆ 92c43fac  │\n",
       "│ Mariska Kornet ┆ Netherlands          ┆ 06deb88a  │\n",
       "│ Amarpal Kaur   ┆ Canada               ┆ 3051fcc6  │\n",
       "│ Azhar Andani   ┆ Portugal             ┆ b5bd99da  │\n",
       "│ Haroon Mughal  ┆ Malta                ┆ 8ac3d7ee  │\n",
       "│ …              ┆ …                    ┆ …         │\n",
       "│ I Nandakumar   ┆ United Arab Emirates ┆ 9f87d0f0  │\n",
       "│ Ashwini Balaji ┆ Germany              ┆ 81283f75  │\n",
       "│ NE Farrant     ┆ England              ┆ 15f609ed  │\n",
       "│ LD Chandimal   ┆ Sri Lanka            ┆ 8dd02a98  │\n",
       "│ A Paul         ┆ Estonia              ┆ fa308279  │\n",
       "└────────────────┴──────────────────────┴───────────┘"
      ]
     },
     "execution_count": 10,
     "metadata": {},
     "output_type": "execute_result"
    }
   ],
   "source": [
    "import polars as pl\n",
    "players = pl.from_pandas(dataframes).drop('match_id').select('player','country','player_id').unique()\n",
    "players"
   ]
  },
  {
   "cell_type": "code",
   "execution_count": 12,
   "metadata": {},
   "outputs": [],
   "source": [
    "client.write(os.path.join(config.PROCESSED_DATA_DIR, 'players.csv'), players.write_csv(), overwrite=True)"
   ]
  },
  {
   "cell_type": "code",
   "execution_count": null,
   "metadata": {},
   "outputs": [],
   "source": []
  }
 ],
 "metadata": {
  "kernelspec": {
   "display_name": "t20i",
   "language": "python",
   "name": "python3"
  },
  "language_info": {
   "codemirror_mode": {
    "name": "ipython",
    "version": 3
   },
   "file_extension": ".py",
   "mimetype": "text/x-python",
   "name": "python",
   "nbconvert_exporter": "python",
   "pygments_lexer": "ipython3",
   "version": "3.12.7"
  }
 },
 "nbformat": 4,
 "nbformat_minor": 2
}
