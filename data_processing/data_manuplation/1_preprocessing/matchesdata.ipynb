{
 "cells": [
  {
   "cell_type": "markdown",
   "metadata": {},
   "source": [
    "# Adding paths and files"
   ]
  },
  {
   "cell_type": "code",
   "execution_count": 3,
   "metadata": {},
   "outputs": [
    {
     "name": "stdout",
     "output_type": "stream",
     "text": [
      "/usr/ravi/t20/data/1_rawData/t20s_csv2\n",
      "[\u001b[34m2024-11-24T13:53:58.395+0530\u001b[0m] {\u001b[34mbase.py:\u001b[0m84} INFO\u001b[0m - Retrieving connection 'webhdfs_default'\u001b[0m\n",
      "[\u001b[34m2024-11-24T13:53:58.397+0530\u001b[0m] {\u001b[34mwebhdfs.py:\u001b[0m82} INFO\u001b[0m - Trying to connect to 192.168.245.142:9870\u001b[0m\n",
      "[\u001b[34m2024-11-24T13:53:58.398+0530\u001b[0m] {\u001b[34mwebhdfs.py:\u001b[0m86} INFO\u001b[0m - Trying namenode 192.168.245.142\u001b[0m\n",
      "[\u001b[34m2024-11-24T13:53:58.401+0530\u001b[0m] {\u001b[34mclient.py:\u001b[0m192} INFO\u001b[0m - Instantiated <InsecureClient(url='http://192.168.245.142:9870/')>.\u001b[0m\n",
      "[\u001b[34m2024-11-24T13:53:58.403+0530\u001b[0m] {\u001b[34mclient.py:\u001b[0m320} INFO\u001b[0m - Fetching status for '/'.\u001b[0m\n",
      "[\u001b[34m2024-11-24T13:53:58.433+0530\u001b[0m] {\u001b[34mwebhdfs.py:\u001b[0m96} INFO\u001b[0m - Using namenode 192.168.245.142 for hook\u001b[0m\n",
      "[\u001b[34m2024-11-24T13:53:58.435+0530\u001b[0m] {\u001b[34mclient.py:\u001b[0m1116} INFO\u001b[0m - Listing '/usr/ravi/t20/data/1_rawData/t20s_csv2'.\u001b[0m\n"
     ]
    }
   ],
   "source": [
    "import os\n",
    "import sys\n",
    "\n",
    "sys.path.append(os.path.join(os.getcwd(), \"..\", \"..\", \"..\"))\n",
    "from configs import spark_config as config\n",
    "from utils import spark_utils as utils\n",
    "\n",
    "# Specify the directory where your CSV files are located\n",
    "directory = os.path.join(config.RAW_DATA_DIR, \"t20s_csv2\")\n",
    "print(directory)\n",
    "\n",
    "client = utils.get_hdfs_client()\n",
    "\n",
    "all_files = client.list(directory)\n",
    "info_files = [os.path.join(directory, file) for file in all_files if \"info\" in file]\n",
    "\n",
    "matches = []\n",
    "# Print the list of CSV files\n",
    "for info_file in info_files:\n",
    "    matches.append(info_file.split(\"/\")[-1])\n",
    "\n",
    "match_ids = []\n",
    "for csv_file in matches:\n",
    "    match_ids.append(csv_file.split(\"_\")[0])"
   ]
  },
  {
   "cell_type": "code",
   "execution_count": 4,
   "metadata": {},
   "outputs": [],
   "source": [
    "import pandas as pd\n",
    "import io\n",
    "\n",
    "\n",
    "def process_single_match(client, match_id: str) -> pd.DataFrame:\n",
    "    \"\"\"\n",
    "    Process a single match file and return the processed DataFrame or None on failure.\n",
    "\n",
    "    Args:\n",
    "        client: The HDFS client for file operations.\n",
    "        match_id: Unique ID for each match.\n",
    "\n",
    "    Returns:\n",
    "        DataFrame of the processed match or None if an error occurs.\n",
    "    \"\"\"\n",
    "    try:\n",
    "        with client.read(\n",
    "            os.path.join(config.RAW_DATA_DIR, \"t20s_csv2\", f\"{match_id}_info.csv\")\n",
    "        ) as reader:\n",
    "            data = reader.read()\n",
    "        match_df = pd.read_csv(\n",
    "            io.StringIO(data.decode(\"utf-8\")),\n",
    "            header=None,\n",
    "            names=[\"col1\", \"attributes\", \"values\", \"players\", \"code\"],\n",
    "        )\n",
    "        match_df = match_df.drop(columns=[\"col1\", \"players\", \"code\"]).T\n",
    "        match_df.columns = match_df.iloc[0]\n",
    "        match_df[\"match_id\"] = match_id\n",
    "        match_df = match_df[\n",
    "            [\"match_id\", \"team\", \"team\", \"gender\", \"season\", \"winner\"]\n",
    "        ].drop(\"attributes\")\n",
    "        match_df = match_df.reset_index(drop=True)\n",
    "        return match_df\n",
    "    except Exception as e:\n",
    "        print(f\"Error processing match {match_id}: {e}\")\n",
    "        return None"
   ]
  },
  {
   "cell_type": "code",
   "execution_count": 5,
   "metadata": {},
   "outputs": [
    {
     "name": "stdout",
     "output_type": "stream",
     "text": [
      "[\u001b[34m2024-11-24T13:54:48.346+0530\u001b[0m] {\u001b[34mconnectionpool.py:\u001b[0m329} \u001b[33mWARNING\u001b[0m - \u001b[33mConnection pool is full, discarding connection: 192.168.245.142. Connection pool size: 10\u001b[0m\n",
      "[\u001b[34m2024-11-24T13:54:48.349+0530\u001b[0m] {\u001b[34mconnectionpool.py:\u001b[0m329} \u001b[33mWARNING\u001b[0m - \u001b[33mConnection pool is full, discarding connection: 192.168.245.142. Connection pool size: 10\u001b[0m\n",
      "[\u001b[34m2024-11-24T13:54:48.350+0530\u001b[0m] {\u001b[34mconnectionpool.py:\u001b[0m329} \u001b[33mWARNING\u001b[0m - \u001b[33mConnection pool is full, discarding connection: 192.168.245.142. Connection pool size: 10\u001b[0m\n",
      "[\u001b[34m2024-11-24T13:54:48.359+0530\u001b[0m] {\u001b[34mconnectionpool.py:\u001b[0m329} \u001b[33mWARNING\u001b[0m - \u001b[33mConnection pool is full, discarding connection: 192.168.245.142. Connection pool size: 10\u001b[0m\n",
      "[\u001b[34m2024-11-24T13:54:48.666+0530\u001b[0m] {\u001b[34mconnectionpool.py:\u001b[0m329} \u001b[33mWARNING\u001b[0m - \u001b[33mConnection pool is full, discarding connection: 192.168.245.142. Connection pool size: 10\u001b[0m\n"
     ]
    },
    {
     "name": "stderr",
     "output_type": "stream",
     "text": [
      "Processing Matches:   0%|          | 0/3825 [00:00<?, ?it/s]"
     ]
    },
    {
     "name": "stdout",
     "output_type": "stream",
     "text": [
      "[\u001b[34m2024-11-24T13:54:48.688+0530\u001b[0m] {\u001b[34mconnectionpool.py:\u001b[0m329} \u001b[33mWARNING\u001b[0m - \u001b[33mConnection pool is full, discarding connection: 192.168.245.142. Connection pool size: 10\u001b[0m\n",
      "[\u001b[34m2024-11-24T13:54:49.340+0530\u001b[0m] {\u001b[34mconnectionpool.py:\u001b[0m329} \u001b[33mWARNING\u001b[0m - \u001b[33mConnection pool is full, discarding connection: ravikumar.. Connection pool size: 10\u001b[0m\n",
      "[\u001b[34m2024-11-24T13:54:49.352+0530\u001b[0m] {\u001b[34mconnectionpool.py:\u001b[0m329} \u001b[33mWARNING\u001b[0m - \u001b[33mConnection pool is full, discarding connection: ravikumar.. Connection pool size: 10\u001b[0m\n",
      "[\u001b[34m2024-11-24T13:54:49.364+0530\u001b[0m] {\u001b[34mconnectionpool.py:\u001b[0m329} \u001b[33mWARNING\u001b[0m - \u001b[33mConnection pool is full, discarding connection: ravikumar.. Connection pool size: 10\u001b[0m\n",
      "[\u001b[34m2024-11-24T13:54:49.405+0530\u001b[0m] {\u001b[34mconnectionpool.py:\u001b[0m329} \u001b[33mWARNING\u001b[0m - \u001b[33mConnection pool is full, discarding connection: ravikumar.. Connection pool size: 10\u001b[0m\n"
     ]
    },
    {
     "name": "stderr",
     "output_type": "stream",
     "text": [
      "Processing Matches:   0%|          | 16/3825 [00:00<01:24, 45.27it/s]"
     ]
    },
    {
     "name": "stdout",
     "output_type": "stream",
     "text": [
      "Error processing match 1041617: \"['winner'] not in index\"\n",
      "[\u001b[34m2024-11-24T13:54:49.845+0530\u001b[0m] {\u001b[34mconnectionpool.py:\u001b[0m329} \u001b[33mWARNING\u001b[0m - \u001b[33mConnection pool is full, discarding connection: ravikumar.. Connection pool size: 10\u001b[0m\n"
     ]
    },
    {
     "name": "stderr",
     "output_type": "stream",
     "text": [
      "Processing Matches:   1%|▏         | 53/3825 [00:00<01:00, 62.09it/s]"
     ]
    },
    {
     "name": "stdout",
     "output_type": "stream",
     "text": [
      "Error processing match 1115799: \"['winner'] not in index\"\n",
      "[\u001b[34m2024-11-24T13:54:50.396+0530\u001b[0m] {\u001b[34mconnectionpool.py:\u001b[0m329} \u001b[33mWARNING\u001b[0m - \u001b[33mConnection pool is full, discarding connection: ravikumar.. Connection pool size: 10\u001b[0m\n"
     ]
    },
    {
     "name": "stderr",
     "output_type": "stream",
     "text": [
      "Processing Matches:   2%|▏         | 91/3825 [00:01<00:56, 66.56it/s]"
     ]
    },
    {
     "name": "stdout",
     "output_type": "stream",
     "text": [
      "Error processing match 1123209: \"['winner'] not in index\"\n"
     ]
    },
    {
     "name": "stderr",
     "output_type": "stream",
     "text": [
      "Processing Matches:   4%|▎         | 143/3825 [00:02<00:53, 68.29it/s]"
     ]
    },
    {
     "name": "stdout",
     "output_type": "stream",
     "text": [
      "Error processing match 1141835: \"['winner'] not in index\"\n",
      "Error processing match 1142504: \"['winner'] not in index\"\n"
     ]
    },
    {
     "name": "stderr",
     "output_type": "stream",
     "text": [
      "Processing Matches:   4%|▍         | 168/3825 [00:02<00:51, 71.65it/s]"
     ]
    },
    {
     "name": "stdout",
     "output_type": "stream",
     "text": [
      "Error processing match 1144172: \"['winner'] not in index\"\n",
      "Error processing match 1144991: \"['winner'] not in index\"\n"
     ]
    },
    {
     "name": "stderr",
     "output_type": "stream",
     "text": [
      "Processing Matches:   5%|▌         | 195/3825 [00:03<00:52, 69.12it/s]"
     ]
    },
    {
     "name": "stdout",
     "output_type": "stream",
     "text": [
      "Error processing match 1147733: \"['winner'] not in index\"\n"
     ]
    },
    {
     "name": "stderr",
     "output_type": "stream",
     "text": [
      "Processing Matches:   7%|▋         | 257/3825 [00:03<00:48, 72.89it/s]"
     ]
    },
    {
     "name": "stdout",
     "output_type": "stream",
     "text": [
      "Error processing match 1157710: \"['winner'] not in index\"\n"
     ]
    },
    {
     "name": "stderr",
     "output_type": "stream",
     "text": [
      "Processing Matches:   8%|▊         | 299/3825 [00:04<00:48, 72.47it/s]"
     ]
    },
    {
     "name": "stdout",
     "output_type": "stream",
     "text": [
      "Error processing match 1172470: \"['winner'] not in index\"\n"
     ]
    },
    {
     "name": "stderr",
     "output_type": "stream",
     "text": [
      "Processing Matches:   9%|▉         | 351/3825 [00:05<00:44, 77.50it/s]"
     ]
    },
    {
     "name": "stdout",
     "output_type": "stream",
     "text": [
      "Error processing match 1173066: \"['winner'] not in index\"\n",
      "Error processing match 1176795: \"['winner'] not in index\"\n",
      "Error processing match 1177484: \"['winner'] not in index\"\n"
     ]
    },
    {
     "name": "stderr",
     "output_type": "stream",
     "text": [
      "Processing Matches:  10%|▉         | 368/3825 [00:05<00:47, 73.24it/s]"
     ]
    },
    {
     "name": "stdout",
     "output_type": "stream",
     "text": [
      "[\u001b[34m2024-11-24T13:54:54.789+0530\u001b[0m] {\u001b[34mconnectionpool.py:\u001b[0m329} \u001b[33mWARNING\u001b[0m - \u001b[33mConnection pool is full, discarding connection: ravikumar.. Connection pool size: 10\u001b[0m\n"
     ]
    },
    {
     "name": "stderr",
     "output_type": "stream",
     "text": [
      "Processing Matches:  11%|█         | 404/3825 [00:05<00:46, 73.07it/s]"
     ]
    },
    {
     "name": "stdout",
     "output_type": "stream",
     "text": [
      "Error processing match 1183544: \"['winner'] not in index\"\n",
      "Error processing match 1183527: \"['winner'] not in index\"\n"
     ]
    },
    {
     "name": "stderr",
     "output_type": "stream",
     "text": [
      "Processing Matches:  11%|█         | 429/3825 [00:06<00:52, 65.09it/s]"
     ]
    },
    {
     "name": "stdout",
     "output_type": "stream",
     "text": [
      "Error processing match 1185187: \"['winner'] not in index\"\n"
     ]
    },
    {
     "name": "stderr",
     "output_type": "stream",
     "text": [
      "Processing Matches:  12%|█▏        | 447/3825 [00:06<00:46, 72.69it/s]"
     ]
    },
    {
     "name": "stdout",
     "output_type": "stream",
     "text": [
      "Error processing match 1186492: \"['winner'] not in index\"\n",
      "Error processing match 1187669: \"['winner'] not in index\"\n",
      "Error processing match 1187679: \"['winner'] not in index\"\n",
      "Error processing match 1187680: \"['winner'] not in index\"\n"
     ]
    },
    {
     "name": "stderr",
     "output_type": "stream",
     "text": [
      "Processing Matches:  12%|█▏        | 474/3825 [00:06<00:42, 78.21it/s]"
     ]
    },
    {
     "name": "stdout",
     "output_type": "stream",
     "text": [
      "Error processing match 1188380: \"['winner'] not in index\"\n"
     ]
    },
    {
     "name": "stderr",
     "output_type": "stream",
     "text": [
      "Processing Matches:  13%|█▎        | 490/3825 [00:07<00:44, 75.56it/s]"
     ]
    },
    {
     "name": "stdout",
     "output_type": "stream",
     "text": [
      "Error processing match 1190751: \"['winner'] not in index\"\n",
      "Error processing match 1190607: \"['winner'] not in index\"\n"
     ]
    },
    {
     "name": "stderr",
     "output_type": "stream",
     "text": [
      "Processing Matches:  14%|█▍        | 532/3825 [00:07<00:43, 76.03it/s]"
     ]
    },
    {
     "name": "stdout",
     "output_type": "stream",
     "text": [
      "Error processing match 1197398: \"['winner'] not in index\"\n"
     ]
    },
    {
     "name": "stderr",
     "output_type": "stream",
     "text": [
      "Processing Matches:  15%|█▍        | 565/3825 [00:08<00:43, 74.78it/s]"
     ]
    },
    {
     "name": "stdout",
     "output_type": "stream",
     "text": [
      "Error processing match 1198244: \"['winner'] not in index\"\n"
     ]
    },
    {
     "name": "stderr",
     "output_type": "stream",
     "text": [
      "Processing Matches:  17%|█▋        | 660/3825 [00:09<00:41, 77.16it/s]"
     ]
    },
    {
     "name": "stdout",
     "output_type": "stream",
     "text": [
      "Error processing match 1203677: \"['winner'] not in index\"\n"
     ]
    },
    {
     "name": "stderr",
     "output_type": "stream",
     "text": [
      "Processing Matches:  19%|█▉        | 727/3825 [00:10<00:46, 67.27it/s]"
     ]
    },
    {
     "name": "stdout",
     "output_type": "stream",
     "text": [
      "Error processing match 1233956: \"['winner'] not in index\"\n"
     ]
    },
    {
     "name": "stderr",
     "output_type": "stream",
     "text": [
      "Processing Matches:  20%|█▉        | 763/3825 [00:11<00:47, 64.52it/s]"
     ]
    },
    {
     "name": "stdout",
     "output_type": "stream",
     "text": [
      "Error processing match 1249240: \"['winner'] not in index\"\n"
     ]
    },
    {
     "name": "stderr",
     "output_type": "stream",
     "text": [
      "Processing Matches:  21%|██        | 805/3825 [00:11<00:41, 73.45it/s]"
     ]
    },
    {
     "name": "stdout",
     "output_type": "stream",
     "text": [
      "Error processing match 1257949: \"['winner'] not in index\"\n"
     ]
    },
    {
     "name": "stderr",
     "output_type": "stream",
     "text": [
      "Processing Matches:  22%|██▏       | 823/3825 [00:11<00:43, 69.66it/s]"
     ]
    },
    {
     "name": "stdout",
     "output_type": "stream",
     "text": [
      "Error processing match 1263164: \"['winner'] not in index\"\n",
      "Error processing match 1263472: \"['winner'] not in index\"\n",
      "Error processing match 1263167: \"['winner'] not in index\"\n",
      "Error processing match 1263166: \"['winner'] not in index\"\n",
      "Error processing match 1263621: \"['winner'] not in index\"\n",
      "Error processing match 1263573: \"['winner'] not in index\"\n"
     ]
    },
    {
     "name": "stderr",
     "output_type": "stream",
     "text": [
      "Processing Matches:  23%|██▎       | 865/3825 [00:12<00:40, 72.67it/s]"
     ]
    },
    {
     "name": "stdout",
     "output_type": "stream",
     "text": [
      "Error processing match 1267311: \"['winner'] not in index\"\n"
     ]
    },
    {
     "name": "stderr",
     "output_type": "stream",
     "text": [
      "Processing Matches:  24%|██▍       | 925/3825 [00:13<00:39, 74.08it/s]"
     ]
    },
    {
     "name": "stdout",
     "output_type": "stream",
     "text": [
      "Error processing match 1273415: \"['winner'] not in index\"\n"
     ]
    },
    {
     "name": "stderr",
     "output_type": "stream",
     "text": [
      "Processing Matches:  27%|██▋       | 1028/3825 [00:14<00:36, 75.99it/s]"
     ]
    },
    {
     "name": "stdout",
     "output_type": "stream",
     "text": [
      "Error processing match 1278691: \"['winner'] not in index\"\n"
     ]
    },
    {
     "name": "stderr",
     "output_type": "stream",
     "text": [
      "Processing Matches:  29%|██▉       | 1103/3825 [00:15<00:38, 70.45it/s]"
     ]
    },
    {
     "name": "stdout",
     "output_type": "stream",
     "text": [
      "Error processing match 1286674: \"['winner'] not in index\"\n"
     ]
    },
    {
     "name": "stderr",
     "output_type": "stream",
     "text": [
      "Processing Matches:  31%|███▏      | 1203/3825 [00:17<00:34, 76.67it/s]"
     ]
    },
    {
     "name": "stdout",
     "output_type": "stream",
     "text": [
      "Error processing match 1298152: \"['winner'] not in index\"\n"
     ]
    },
    {
     "name": "stderr",
     "output_type": "stream",
     "text": [
      "Processing Matches:  36%|███▌      | 1358/3825 [00:19<00:33, 74.62it/s]"
     ]
    },
    {
     "name": "stdout",
     "output_type": "stream",
     "text": [
      "Error processing match 1317149: \"['winner'] not in index\"\n",
      "Error processing match 1317635: \"['winner'] not in index\"\n",
      "Error processing match 1317488: \"['winner'] not in index\"\n",
      "[\u001b[34m2024-11-24T13:55:08.666+0530\u001b[0m] {\u001b[34mconnectionpool.py:\u001b[0m329} \u001b[33mWARNING\u001b[0m - \u001b[33mConnection pool is full, discarding connection: ravikumar.. Connection pool size: 10\u001b[0m\n",
      "Error processing match 1317639: \"['winner'] not in index\"\n"
     ]
    },
    {
     "name": "stderr",
     "output_type": "stream",
     "text": [
      "Processing Matches:  37%|███▋      | 1402/3825 [00:19<00:33, 71.30it/s]"
     ]
    },
    {
     "name": "stdout",
     "output_type": "stream",
     "text": [
      "Error processing match 1320193: \"['winner'] not in index\"\n",
      "Error processing match 1320192: \"['winner'] not in index\"\n"
     ]
    },
    {
     "name": "stderr",
     "output_type": "stream",
     "text": [
      "Processing Matches:  37%|███▋      | 1420/3825 [00:20<00:32, 75.01it/s]"
     ]
    },
    {
     "name": "stdout",
     "output_type": "stream",
     "text": [
      "Error processing match 1320210: \"['winner'] not in index\"\n"
     ]
    },
    {
     "name": "stderr",
     "output_type": "stream",
     "text": [
      "Processing Matches:  40%|███▉      | 1527/3825 [00:21<00:31, 73.66it/s]"
     ]
    },
    {
     "name": "stdout",
     "output_type": "stream",
     "text": [
      "Error processing match 1322277: \"['winner'] not in index\"\n",
      "Error processing match 1322362: \"['winner'] not in index\"\n"
     ]
    },
    {
     "name": "stderr",
     "output_type": "stream",
     "text": [
      "Processing Matches:  43%|████▎     | 1630/3825 [00:22<00:28, 76.38it/s]"
     ]
    },
    {
     "name": "stdout",
     "output_type": "stream",
     "text": [
      "Error processing match 1334418: \"['winner'] not in index\"\n"
     ]
    },
    {
     "name": "stderr",
     "output_type": "stream",
     "text": [
      "Processing Matches:  44%|████▎     | 1673/3825 [00:23<00:34, 63.16it/s]"
     ]
    },
    {
     "name": "stdout",
     "output_type": "stream",
     "text": [
      "Error processing match 1336982: \"['winner'] not in index\"\n"
     ]
    },
    {
     "name": "stderr",
     "output_type": "stream",
     "text": [
      "Processing Matches:  45%|████▍     | 1721/3825 [00:24<00:28, 74.28it/s]"
     ]
    },
    {
     "name": "stdout",
     "output_type": "stream",
     "text": [
      "Error processing match 1343743: \"['winner'] not in index\"\n",
      "Error processing match 1339617: \"['winner'] not in index\"\n",
      "Error processing match 1343747: \"['winner'] not in index\"\n",
      "Error processing match 1343742: \"['winner'] not in index\"\n",
      "Error processing match 1343746: \"['winner'] not in index\"\n",
      "Error processing match 1343758: \"['winner'] not in index\"\n"
     ]
    },
    {
     "name": "stderr",
     "output_type": "stream",
     "text": [
      "Processing Matches:  45%|████▌     | 1739/3825 [00:24<00:27, 75.80it/s]"
     ]
    },
    {
     "name": "stdout",
     "output_type": "stream",
     "text": [
      "Error processing match 1343767: \"['winner'] not in index\"\n"
     ]
    },
    {
     "name": "stderr",
     "output_type": "stream",
     "text": [
      "Processing Matches:  46%|████▌     | 1758/3825 [00:24<00:28, 72.02it/s]"
     ]
    },
    {
     "name": "stdout",
     "output_type": "stream",
     "text": [
      "Error processing match 1343790: \"['winner'] not in index\"\n"
     ]
    },
    {
     "name": "stderr",
     "output_type": "stream",
     "text": [
      "Processing Matches:  47%|████▋     | 1783/3825 [00:25<00:29, 69.88it/s]"
     ]
    },
    {
     "name": "stdout",
     "output_type": "stream",
     "text": [
      "Error processing match 1344515: \"['winner'] not in index\"\n",
      "Error processing match 1345425: \"['winner'] not in index\"\n"
     ]
    },
    {
     "name": "stderr",
     "output_type": "stream",
     "text": [
      "Processing Matches:  47%|████▋     | 1816/3825 [00:25<00:29, 68.13it/s]"
     ]
    },
    {
     "name": "stdout",
     "output_type": "stream",
     "text": [
      "Error processing match 1349127: \"['winner'] not in index\"\n"
     ]
    },
    {
     "name": "stderr",
     "output_type": "stream",
     "text": [
      "Processing Matches:  48%|████▊     | 1834/3825 [00:25<00:29, 66.67it/s]"
     ]
    },
    {
     "name": "stdout",
     "output_type": "stream",
     "text": [
      "Error processing match 1349387: \"['winner'] not in index\"\n",
      "Error processing match 1349389: \"['winner'] not in index\"\n",
      "Error processing match 1354799: \"['winner'] not in index\"\n"
     ]
    },
    {
     "name": "stderr",
     "output_type": "stream",
     "text": [
      "Processing Matches:  49%|████▊     | 1863/3825 [00:26<00:25, 77.47it/s]"
     ]
    },
    {
     "name": "stdout",
     "output_type": "stream",
     "text": [
      "[\u001b[34m2024-11-24T13:55:15.543+0530\u001b[0m] {\u001b[34mconnectionpool.py:\u001b[0m329} \u001b[33mWARNING\u001b[0m - \u001b[33mConnection pool is full, discarding connection: ravikumar.. Connection pool size: 10\u001b[0m\n"
     ]
    },
    {
     "name": "stderr",
     "output_type": "stream",
     "text": [
      "Processing Matches:  49%|████▉     | 1880/3825 [00:26<00:26, 74.78it/s]"
     ]
    },
    {
     "name": "stdout",
     "output_type": "stream",
     "text": [
      "Error processing match 1370791: \"['winner'] not in index\"\n"
     ]
    },
    {
     "name": "stderr",
     "output_type": "stream",
     "text": [
      "Processing Matches:  52%|█████▏    | 1980/3825 [00:27<00:27, 68.14it/s]"
     ]
    },
    {
     "name": "stdout",
     "output_type": "stream",
     "text": [
      "Error processing match 1380586: \"['winner'] not in index\"\n"
     ]
    },
    {
     "name": "stderr",
     "output_type": "stream",
     "text": [
      "Processing Matches:  55%|█████▍    | 2091/3825 [00:29<00:25, 68.33it/s]"
     ]
    },
    {
     "name": "stdout",
     "output_type": "stream",
     "text": [
      "Error processing match 1388214: \"['winner'] not in index\"\n"
     ]
    },
    {
     "name": "stderr",
     "output_type": "stream",
     "text": [
      "Processing Matches:  55%|█████▌    | 2117/3825 [00:29<00:22, 74.72it/s]"
     ]
    },
    {
     "name": "stdout",
     "output_type": "stream",
     "text": [
      "Error processing match 1391709: \"['winner'] not in index\"\n",
      "Error processing match 1392352: \"['winner'] not in index\"\n"
     ]
    },
    {
     "name": "stderr",
     "output_type": "stream",
     "text": [
      "Processing Matches:  57%|█████▋    | 2178/3825 [00:30<00:21, 76.93it/s]"
     ]
    },
    {
     "name": "stdout",
     "output_type": "stream",
     "text": [
      "Error processing match 1394770: \"['winner'] not in index\"\n"
     ]
    },
    {
     "name": "stderr",
     "output_type": "stream",
     "text": [
      "Processing Matches:  59%|█████▊    | 2246/3825 [00:31<00:20, 75.91it/s]"
     ]
    },
    {
     "name": "stdout",
     "output_type": "stream",
     "text": [
      "Error processing match 1398255: \"['winner'] not in index\"\n"
     ]
    },
    {
     "name": "stderr",
     "output_type": "stream",
     "text": [
      "Processing Matches:  59%|█████▉    | 2268/3825 [00:31<00:19, 80.90it/s]"
     ]
    },
    {
     "name": "stdout",
     "output_type": "stream",
     "text": [
      "Error processing match 1399055: \"['winner'] not in index\"\n"
     ]
    },
    {
     "name": "stderr",
     "output_type": "stream",
     "text": [
      "Processing Matches:  60%|██████    | 2307/3825 [00:32<00:20, 74.91it/s]"
     ]
    },
    {
     "name": "stdout",
     "output_type": "stream",
     "text": [
      "Error processing match 1400975: \"['winner'] not in index\"\n"
     ]
    },
    {
     "name": "stderr",
     "output_type": "stream",
     "text": [
      "Processing Matches:  61%|██████▏   | 2350/3825 [00:33<00:35, 42.09it/s]"
     ]
    },
    {
     "name": "stdout",
     "output_type": "stream",
     "text": [
      "Error processing match 1405327: \"['winner'] not in index\"\n"
     ]
    },
    {
     "name": "stderr",
     "output_type": "stream",
     "text": [
      "Processing Matches:  62%|██████▏   | 2372/3825 [00:33<00:25, 57.55it/s]"
     ]
    },
    {
     "name": "stdout",
     "output_type": "stream",
     "text": [
      "Error processing match 1407094: \"['winner'] not in index\"\n"
     ]
    },
    {
     "name": "stderr",
     "output_type": "stream",
     "text": [
      "Processing Matches:  63%|██████▎   | 2418/3825 [00:34<00:19, 71.44it/s]"
     ]
    },
    {
     "name": "stdout",
     "output_type": "stream",
     "text": [
      "Error processing match 1412534: \"['winner'] not in index\"\n",
      "Error processing match 1415703: \"['winner'] not in index\"\n",
      "Error processing match 1415706: \"['winner'] not in index\"\n",
      "Error processing match 1415711: \"['winner'] not in index\"\n"
     ]
    },
    {
     "name": "stderr",
     "output_type": "stream",
     "text": [
      "Processing Matches:  67%|██████▋   | 2555/3825 [00:36<00:17, 73.42it/s]"
     ]
    },
    {
     "name": "stdout",
     "output_type": "stream",
     "text": [
      "Error processing match 1422042: \"['winner'] not in index\"\n",
      "Error processing match 1422804: \"['winner'] not in index\"\n",
      "Error processing match 1423440: \"['winner'] not in index\"\n"
     ]
    },
    {
     "name": "stderr",
     "output_type": "stream",
     "text": [
      "Processing Matches:  68%|██████▊   | 2583/3825 [00:36<00:16, 74.41it/s]"
     ]
    },
    {
     "name": "stdout",
     "output_type": "stream",
     "text": [
      "Error processing match 1423460: \"['winner'] not in index\"\n",
      "Error processing match 1423474: \"['winner'] not in index\"\n"
     ]
    },
    {
     "name": "stderr",
     "output_type": "stream",
     "text": [
      "Processing Matches:  68%|██████▊   | 2614/3825 [00:37<00:16, 74.18it/s]"
     ]
    },
    {
     "name": "stdout",
     "output_type": "stream",
     "text": [
      "Error processing match 1424829: \"['winner'] not in index\"\n",
      "[\u001b[34m2024-11-24T13:55:26.439+0530\u001b[0m] {\u001b[34mconnectionpool.py:\u001b[0m329} \u001b[33mWARNING\u001b[0m - \u001b[33mConnection pool is full, discarding connection: ravikumar.. Connection pool size: 10\u001b[0m\n"
     ]
    },
    {
     "name": "stderr",
     "output_type": "stream",
     "text": [
      "Processing Matches:  69%|██████▉   | 2630/3825 [00:37<00:15, 75.42it/s]"
     ]
    },
    {
     "name": "stdout",
     "output_type": "stream",
     "text": [
      "Error processing match 1426049: \"['winner'] not in index\"\n"
     ]
    },
    {
     "name": "stderr",
     "output_type": "stream",
     "text": [
      "Processing Matches:  72%|███████▏  | 2757/3825 [00:38<00:13, 77.38it/s]"
     ]
    },
    {
     "name": "stdout",
     "output_type": "stream",
     "text": [
      "Error processing match 1431122: \"['winner'] not in index\"\n",
      "Error processing match 1432196: \"['winner'] not in index\"\n"
     ]
    },
    {
     "name": "stderr",
     "output_type": "stream",
     "text": [
      "Processing Matches:  73%|███████▎  | 2807/3825 [00:39<00:13, 73.90it/s]"
     ]
    },
    {
     "name": "stdout",
     "output_type": "stream",
     "text": [
      "Error processing match 1433377: \"['winner'] not in index\"\n",
      "Error processing match 1434292: \"['winner'] not in index\"\n"
     ]
    },
    {
     "name": "stderr",
     "output_type": "stream",
     "text": [
      "Processing Matches:  77%|███████▋  | 2945/3825 [00:41<00:12, 68.38it/s]"
     ]
    },
    {
     "name": "stdout",
     "output_type": "stream",
     "text": [
      "Error processing match 1442989: \"['winner'] not in index\"\n"
     ]
    },
    {
     "name": "stderr",
     "output_type": "stream",
     "text": [
      "Processing Matches:  77%|███████▋  | 2961/3825 [00:42<00:13, 63.96it/s]"
     ]
    },
    {
     "name": "stdout",
     "output_type": "stream",
     "text": [
      "Error processing match 1444549: \"['winner'] not in index\"\n"
     ]
    },
    {
     "name": "stderr",
     "output_type": "stream",
     "text": [
      "Processing Matches:  79%|███████▊  | 3003/3825 [00:42<00:10, 77.13it/s]"
     ]
    },
    {
     "name": "stdout",
     "output_type": "stream",
     "text": [
      "Error processing match 1446762: \"['winner'] not in index\"\n"
     ]
    },
    {
     "name": "stderr",
     "output_type": "stream",
     "text": [
      "Processing Matches:  79%|███████▉  | 3027/3825 [00:42<00:11, 72.22it/s]"
     ]
    },
    {
     "name": "stdout",
     "output_type": "stream",
     "text": [
      "Error processing match 1447497: \"['winner'] not in index\"\n"
     ]
    },
    {
     "name": "stderr",
     "output_type": "stream",
     "text": [
      "Processing Matches:  81%|████████▏ | 3113/3825 [00:43<00:09, 78.94it/s]"
     ]
    },
    {
     "name": "stdout",
     "output_type": "stream",
     "text": [
      "Error processing match 1453519: \"['winner'] not in index\"\n",
      "[\u001b[34m2024-11-24T13:55:33.365+0530\u001b[0m] {\u001b[34mconnectionpool.py:\u001b[0m329} \u001b[33mWARNING\u001b[0m - \u001b[33mConnection pool is full, discarding connection: ravikumar.. Connection pool size: 10\u001b[0m\n"
     ]
    },
    {
     "name": "stderr",
     "output_type": "stream",
     "text": [
      "Processing Matches:  84%|████████▎ | 3202/3825 [00:45<00:08, 71.56it/s]"
     ]
    },
    {
     "name": "stdout",
     "output_type": "stream",
     "text": [
      "Error processing match 1459720: \"['winner'] not in index\"\n",
      "Error processing match 237242: \"['winner'] not in index\"\n"
     ]
    },
    {
     "name": "stderr",
     "output_type": "stream",
     "text": [
      "Processing Matches:  84%|████████▍ | 3228/3825 [00:45<00:08, 72.96it/s]"
     ]
    },
    {
     "name": "stdout",
     "output_type": "stream",
     "text": [
      "Error processing match 287862: \"['winner'] not in index\"\n"
     ]
    },
    {
     "name": "stderr",
     "output_type": "stream",
     "text": [
      "Processing Matches:  85%|████████▌ | 3264/3825 [00:46<00:07, 73.95it/s]"
     ]
    },
    {
     "name": "stdout",
     "output_type": "stream",
     "text": [
      "Error processing match 350050: \"['winner'] not in index\"\n"
     ]
    },
    {
     "name": "stderr",
     "output_type": "stream",
     "text": [
      "Processing Matches:  87%|████████▋ | 3311/3825 [00:46<00:06, 76.67it/s]"
     ]
    },
    {
     "name": "stdout",
     "output_type": "stream",
     "text": [
      "Error processing match 366707: \"['winner'] not in index\"\n",
      "Error processing match 412681: \"['winner'] not in index\"\n"
     ]
    },
    {
     "name": "stderr",
     "output_type": "stream",
     "text": [
      "Processing Matches:  87%|████████▋ | 3344/3825 [00:47<00:06, 73.79it/s]"
     ]
    },
    {
     "name": "stdout",
     "output_type": "stream",
     "text": [
      "Error processing match 423788: \"['winner'] not in index\"\n"
     ]
    },
    {
     "name": "stderr",
     "output_type": "stream",
     "text": [
      "Processing Matches:  89%|████████▊ | 3389/3825 [00:47<00:05, 74.90it/s]"
     ]
    },
    {
     "name": "stdout",
     "output_type": "stream",
     "text": [
      "Error processing match 527683: \"['winner'] not in index\"\n",
      "[\u001b[34m2024-11-24T13:55:37.175+0530\u001b[0m] {\u001b[34mconnectionpool.py:\u001b[0m329} \u001b[33mWARNING\u001b[0m - \u001b[33mConnection pool is full, discarding connection: ravikumar.. Connection pool size: 10\u001b[0m\n",
      "[\u001b[34m2024-11-24T13:55:37.193+0530\u001b[0m] {\u001b[34mconnectionpool.py:\u001b[0m329} \u001b[33mWARNING\u001b[0m - \u001b[33mConnection pool is full, discarding connection: ravikumar.. Connection pool size: 10\u001b[0m\n"
     ]
    },
    {
     "name": "stderr",
     "output_type": "stream",
     "text": [
      "Processing Matches:  89%|████████▉ | 3409/3825 [00:48<00:05, 75.23it/s]"
     ]
    },
    {
     "name": "stdout",
     "output_type": "stream",
     "text": [
      "Error processing match 533282: \"['winner'] not in index\"\n",
      "Error processing match 533284: \"['winner'] not in index\"\n"
     ]
    },
    {
     "name": "stderr",
     "output_type": "stream",
     "text": [
      "Processing Matches:  89%|████████▉ | 3417/3825 [00:48<00:05, 74.44it/s]"
     ]
    },
    {
     "name": "stdout",
     "output_type": "stream",
     "text": [
      "Error processing match 533292: \"['winner'] not in index\"\n"
     ]
    },
    {
     "name": "stderr",
     "output_type": "stream",
     "text": [
      "Processing Matches:  90%|█████████ | 3460/3825 [00:48<00:04, 75.48it/s]"
     ]
    },
    {
     "name": "stdout",
     "output_type": "stream",
     "text": [
      "Error processing match 534234: \"['winner'] not in index\"\n"
     ]
    },
    {
     "name": "stderr",
     "output_type": "stream",
     "text": [
      "Processing Matches:  91%|█████████ | 3478/3825 [00:48<00:04, 80.02it/s]"
     ]
    },
    {
     "name": "stdout",
     "output_type": "stream",
     "text": [
      "Error processing match 566927: \"['winner'] not in index\"\n"
     ]
    },
    {
     "name": "stderr",
     "output_type": "stream",
     "text": [
      "Processing Matches:  91%|█████████▏| 3497/3825 [00:49<00:04, 78.26it/s]"
     ]
    },
    {
     "name": "stdout",
     "output_type": "stream",
     "text": [
      "Error processing match 571149: \"['winner'] not in index\"\n",
      "Error processing match 582186: \"['winner'] not in index\"\n"
     ]
    },
    {
     "name": "stderr",
     "output_type": "stream",
     "text": [
      "Processing Matches:  93%|█████████▎| 3542/3825 [00:49<00:03, 80.53it/s]"
     ]
    },
    {
     "name": "stdout",
     "output_type": "stream",
     "text": [
      "Error processing match 640955: \"['winner'] not in index\"\n"
     ]
    },
    {
     "name": "stderr",
     "output_type": "stream",
     "text": [
      "Processing Matches:  95%|█████████▌| 3644/3825 [00:51<00:02, 76.17it/s]"
     ]
    },
    {
     "name": "stdout",
     "output_type": "stream",
     "text": [
      "Error processing match 730293: \"['winner'] not in index\"\n"
     ]
    },
    {
     "name": "stderr",
     "output_type": "stream",
     "text": [
      "Processing Matches:  98%|█████████▊| 3730/3825 [00:52<00:01, 73.16it/s]"
     ]
    },
    {
     "name": "stdout",
     "output_type": "stream",
     "text": [
      "Error processing match 902653: \"['winner'] not in index\"\n"
     ]
    },
    {
     "name": "stderr",
     "output_type": "stream",
     "text": [
      "Processing Matches:  98%|█████████▊| 3755/3825 [00:52<00:00, 73.47it/s]"
     ]
    },
    {
     "name": "stdout",
     "output_type": "stream",
     "text": [
      "Error processing match 951319: \"['winner'] not in index\"\n"
     ]
    },
    {
     "name": "stderr",
     "output_type": "stream",
     "text": [
      "Processing Matches: 100%|██████████| 3825/3825 [00:53<00:00, 71.53it/s]\n"
     ]
    },
    {
     "data": {
      "text/html": [
       "<div>\n",
       "<style scoped>\n",
       "    .dataframe tbody tr th:only-of-type {\n",
       "        vertical-align: middle;\n",
       "    }\n",
       "\n",
       "    .dataframe tbody tr th {\n",
       "        vertical-align: top;\n",
       "    }\n",
       "\n",
       "    .dataframe thead th {\n",
       "        text-align: right;\n",
       "    }\n",
       "</style>\n",
       "<table border=\"1\" class=\"dataframe\">\n",
       "  <thead>\n",
       "    <tr style=\"text-align: right;\">\n",
       "      <th>attributes</th>\n",
       "      <th>match_id</th>\n",
       "      <th>team</th>\n",
       "      <th>team</th>\n",
       "      <th>team</th>\n",
       "      <th>team</th>\n",
       "      <th>gender</th>\n",
       "      <th>season</th>\n",
       "      <th>winner</th>\n",
       "    </tr>\n",
       "  </thead>\n",
       "  <tbody>\n",
       "    <tr>\n",
       "      <th>0</th>\n",
       "      <td>1019981</td>\n",
       "      <td>New Zealand</td>\n",
       "      <td>Bangladesh</td>\n",
       "      <td>New Zealand</td>\n",
       "      <td>Bangladesh</td>\n",
       "      <td>male</td>\n",
       "      <td>2016/17</td>\n",
       "      <td>New Zealand</td>\n",
       "    </tr>\n",
       "    <tr>\n",
       "      <th>1</th>\n",
       "      <td>1031665</td>\n",
       "      <td>West Indies</td>\n",
       "      <td>England</td>\n",
       "      <td>West Indies</td>\n",
       "      <td>England</td>\n",
       "      <td>male</td>\n",
       "      <td>2017</td>\n",
       "      <td>West Indies</td>\n",
       "    </tr>\n",
       "    <tr>\n",
       "      <th>2</th>\n",
       "      <td>1001349</td>\n",
       "      <td>Australia</td>\n",
       "      <td>Sri Lanka</td>\n",
       "      <td>Australia</td>\n",
       "      <td>Sri Lanka</td>\n",
       "      <td>male</td>\n",
       "      <td>2016/17</td>\n",
       "      <td>Sri Lanka</td>\n",
       "    </tr>\n",
       "    <tr>\n",
       "      <th>3</th>\n",
       "      <td>1034825</td>\n",
       "      <td>India</td>\n",
       "      <td>England</td>\n",
       "      <td>India</td>\n",
       "      <td>England</td>\n",
       "      <td>male</td>\n",
       "      <td>2016/17</td>\n",
       "      <td>England</td>\n",
       "    </tr>\n",
       "    <tr>\n",
       "      <th>4</th>\n",
       "      <td>1019979</td>\n",
       "      <td>New Zealand</td>\n",
       "      <td>Bangladesh</td>\n",
       "      <td>New Zealand</td>\n",
       "      <td>Bangladesh</td>\n",
       "      <td>male</td>\n",
       "      <td>2016/17</td>\n",
       "      <td>New Zealand</td>\n",
       "    </tr>\n",
       "    <tr>\n",
       "      <th>...</th>\n",
       "      <td>...</td>\n",
       "      <td>...</td>\n",
       "      <td>...</td>\n",
       "      <td>...</td>\n",
       "      <td>...</td>\n",
       "      <td>...</td>\n",
       "      <td>...</td>\n",
       "      <td>...</td>\n",
       "    </tr>\n",
       "    <tr>\n",
       "      <th>3705</th>\n",
       "      <td>966761</td>\n",
       "      <td>India</td>\n",
       "      <td>United Arab Emirates</td>\n",
       "      <td>India</td>\n",
       "      <td>United Arab Emirates</td>\n",
       "      <td>male</td>\n",
       "      <td>2015/16</td>\n",
       "      <td>India</td>\n",
       "    </tr>\n",
       "    <tr>\n",
       "      <th>3706</th>\n",
       "      <td>966751</td>\n",
       "      <td>India</td>\n",
       "      <td>Pakistan</td>\n",
       "      <td>India</td>\n",
       "      <td>Pakistan</td>\n",
       "      <td>male</td>\n",
       "      <td>2015/16</td>\n",
       "      <td>India</td>\n",
       "    </tr>\n",
       "    <tr>\n",
       "      <th>3707</th>\n",
       "      <td>995469</td>\n",
       "      <td>Sri Lanka</td>\n",
       "      <td>Australia</td>\n",
       "      <td>Sri Lanka</td>\n",
       "      <td>Australia</td>\n",
       "      <td>male</td>\n",
       "      <td>2016</td>\n",
       "      <td>Australia</td>\n",
       "    </tr>\n",
       "    <tr>\n",
       "      <th>3708</th>\n",
       "      <td>995467</td>\n",
       "      <td>Sri Lanka</td>\n",
       "      <td>Australia</td>\n",
       "      <td>Sri Lanka</td>\n",
       "      <td>Australia</td>\n",
       "      <td>male</td>\n",
       "      <td>2016</td>\n",
       "      <td>Australia</td>\n",
       "    </tr>\n",
       "    <tr>\n",
       "      <th>3709</th>\n",
       "      <td>967081</td>\n",
       "      <td>United Arab Emirates</td>\n",
       "      <td>Netherlands</td>\n",
       "      <td>United Arab Emirates</td>\n",
       "      <td>Netherlands</td>\n",
       "      <td>male</td>\n",
       "      <td>2015/16</td>\n",
       "      <td>Netherlands</td>\n",
       "    </tr>\n",
       "  </tbody>\n",
       "</table>\n",
       "<p>3710 rows × 8 columns</p>\n",
       "</div>"
      ],
      "text/plain": [
       "attributes match_id                  team                  team  \\\n",
       "0           1019981           New Zealand            Bangladesh   \n",
       "1           1031665           West Indies               England   \n",
       "2           1001349             Australia             Sri Lanka   \n",
       "3           1034825                 India               England   \n",
       "4           1019979           New Zealand            Bangladesh   \n",
       "...             ...                   ...                   ...   \n",
       "3705         966761                 India  United Arab Emirates   \n",
       "3706         966751                 India              Pakistan   \n",
       "3707         995469             Sri Lanka             Australia   \n",
       "3708         995467             Sri Lanka             Australia   \n",
       "3709         967081  United Arab Emirates           Netherlands   \n",
       "\n",
       "attributes                  team                  team gender   season  \\\n",
       "0                    New Zealand            Bangladesh   male  2016/17   \n",
       "1                    West Indies               England   male     2017   \n",
       "2                      Australia             Sri Lanka   male  2016/17   \n",
       "3                          India               England   male  2016/17   \n",
       "4                    New Zealand            Bangladesh   male  2016/17   \n",
       "...                          ...                   ...    ...      ...   \n",
       "3705                       India  United Arab Emirates   male  2015/16   \n",
       "3706                       India              Pakistan   male  2015/16   \n",
       "3707                   Sri Lanka             Australia   male     2016   \n",
       "3708                   Sri Lanka             Australia   male     2016   \n",
       "3709        United Arab Emirates           Netherlands   male  2015/16   \n",
       "\n",
       "attributes       winner  \n",
       "0           New Zealand  \n",
       "1           West Indies  \n",
       "2             Sri Lanka  \n",
       "3               England  \n",
       "4           New Zealand  \n",
       "...                 ...  \n",
       "3705              India  \n",
       "3706              India  \n",
       "3707          Australia  \n",
       "3708          Australia  \n",
       "3709        Netherlands  \n",
       "\n",
       "[3710 rows x 8 columns]"
      ]
     },
     "execution_count": 5,
     "metadata": {},
     "output_type": "execute_result"
    }
   ],
   "source": [
    "from tqdm import tqdm\n",
    "import concurrent.futures\n",
    "import logging\n",
    "\n",
    "logging.basicConfig(level=logging.ERROR)\n",
    "recalculated_matches = []\n",
    "\n",
    "# Set the logging level for the HDFS client to WARNING\n",
    "logging.getLogger(\"hdfs.client\").setLevel(logging.CRITICAL)\n",
    "injured_matches = []\n",
    "\n",
    "# Process each match concurrently using ThreadPoolExecutor\n",
    "with concurrent.futures.ThreadPoolExecutor() as executor:\n",
    "    futures = {\n",
    "        executor.submit(process_single_match, client, match_id): match_id\n",
    "        for match_id in match_ids\n",
    "    }\n",
    "\n",
    "    # Gather results with tqdm for progress tracking\n",
    "    for future in tqdm(\n",
    "        concurrent.futures.as_completed(futures),\n",
    "        total=len(futures),\n",
    "        desc=\"Processing Matches\",\n",
    "    ):\n",
    "        match = futures[future]\n",
    "        try:\n",
    "            result = future.result()\n",
    "            if result is not None:\n",
    "                recalculated_matches.append(result)\n",
    "            else:\n",
    "                injured_matches.append(match)\n",
    "        except Exception as e:\n",
    "            injured_matches.append(match)\n",
    "\n",
    "if not recalculated_matches:\n",
    "    print(\"No matches were successfully processed.\")\n",
    "    raise ValueError(\"No matches were successfully processed.\")\n",
    "\n",
    "matches_data = pd.concat(recalculated_matches, ignore_index=True)\n",
    "matches_data"
   ]
  },
  {
   "cell_type": "code",
   "execution_count": 8,
   "metadata": {},
   "outputs": [
    {
     "name": "stdout",
     "output_type": "stream",
     "text": [
      "Successfully processed matches: 3710\n",
      "Failed matches: 115\n",
      "Matches data processing and saving completed successfully.\n"
     ]
    }
   ],
   "source": [
    "if recalculated_matches:\n",
    "    # Concatenate all match DataFrames\n",
    "    matches_data = pd.concat(recalculated_matches, ignore_index=True)\n",
    "    matches_data.columns = [\n",
    "        \"match_id\",\n",
    "        \"team1\",\n",
    "        \"team2\",\n",
    "        \"team1_duplicate\",\n",
    "        \"team2_duplicate\",\n",
    "        \"gender\",\n",
    "        \"season\",\n",
    "        \"winner\",\n",
    "    ]\n",
    "    matches_data = matches_data.drop(columns=[\"team1_duplicate\", \"team2_duplicate\"])\n",
    "\n",
    "    # Data quality checks\n",
    "    if matches_data.empty:\n",
    "        print(\"No match data consolidated.\")\n",
    "        raise ValueError(\"Consolidated match data is empty.\")\n",
    "    required_columns = [\"match_id\", \"team1\", \"team2\", \"gender\", \"season\", \"winner\"]\n",
    "    missing_columns = [\n",
    "        col for col in required_columns if col not in matches_data.columns\n",
    "    ]\n",
    "    if missing_columns:\n",
    "        print(f\"Missing columns in matches data: {missing_columns}\")\n",
    "        raise ValueError(f\"Missing columns in matches data: {missing_columns}\")\n",
    "\n",
    "    # Save matches_data directly to HDFS\n",
    "    utils.ensure_hdfs_directory(client, config.PROCESSED_DATA_DIR)\n",
    "    matches_csv_path = os.path.join(config.PROCESSED_DATA_DIR, \"matches.csv\")\n",
    "    csv_data = matches_data.to_csv(index=False)\n",
    "    client.write(matches_csv_path, data=csv_data, overwrite=True)\n",
    "\n",
    "    print(f\"Successfully processed matches: {len(recalculated_matches)}\")\n",
    "    print(f\"Failed matches: {len(injured_matches)}\")\n",
    "    print(\"Matches data processing and saving completed successfully.\")\n",
    "else:\n",
    "    print(\"No matches were successfully processed.\")\n",
    "    raise Exception(\"No matches were successfully processed.\")"
   ]
  },
  {
   "cell_type": "code",
   "execution_count": null,
   "metadata": {},
   "outputs": [],
   "source": []
  }
 ],
 "metadata": {
  "kernelspec": {
   "display_name": "t20i",
   "language": "python",
   "name": "python3"
  },
  "language_info": {
   "codemirror_mode": {
    "name": "ipython",
    "version": 3
   },
   "file_extension": ".py",
   "mimetype": "text/x-python",
   "name": "python",
   "nbconvert_exporter": "python",
   "pygments_lexer": "ipython3",
   "version": "3.12.7"
  }
 },
 "nbformat": 4,
 "nbformat_minor": 2
}
