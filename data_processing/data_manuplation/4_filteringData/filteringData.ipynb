{
 "cells": [
  {
   "cell_type": "code",
   "execution_count": 2,
   "metadata": {},
   "outputs": [
    {
     "data": {
      "text/html": [
       "<pre style=\"white-space:pre;overflow-x:auto;line-height:normal;font-family:Menlo,'DejaVu Sans Mono',consolas,'Courier New',monospace\"><span style=\"color: #808000; text-decoration-color: #808000; font-weight: bold\">/home/ravikumar/miniconda3/envs/t20i/lib/python3.12/site-packages/airflow/configuration.py:</span><span style=\"color: #808000; text-decoration-color: #808000; font-weight: bold\">859</span><span style=\"color: #808000; text-decoration-color: #808000; font-weight: bold\"> FutureWarning</span><span style=\"color: #808000; text-decoration-color: #808000\">: section/key </span><span style=\"color: #808000; text-decoration-color: #808000; font-weight: bold\">[</span><span style=\"color: #808000; text-decoration-color: #808000\">core/sql_alchemy_conn</span><span style=\"color: #808000; text-decoration-color: #808000; font-weight: bold\">]</span><span style=\"color: #808000; text-decoration-color: #808000\"> has been deprecated, you should use</span><span style=\"color: #808000; text-decoration-color: #808000; font-weight: bold\">[</span><span style=\"color: #808000; text-decoration-color: #808000\">database/sql_alchemy_conn</span><span style=\"color: #808000; text-decoration-color: #808000; font-weight: bold\">]</span><span style=\"color: #808000; text-decoration-color: #808000\"> instead. Please update your `conf.get*` call to use the new name</span>\n",
       "</pre>\n"
      ],
      "text/plain": [
       "\u001b[1;33m/home/ravikumar/miniconda3/envs/t20i/lib/python3.12/site-packages/airflow/\u001b[0m\u001b[1;33mconfiguration.py\u001b[0m\u001b[1;33m:\u001b[0m\u001b[1;33m859\u001b[0m\u001b[1;33m FutureWarning\u001b[0m\u001b[33m: section/key \u001b[0m\u001b[1;33m[\u001b[0m\u001b[33mcore/sql_alchemy_conn\u001b[0m\u001b[1;33m]\u001b[0m\u001b[33m has been deprecated, you should use\u001b[0m\u001b[1;33m[\u001b[0m\u001b[33mdatabase/sql_alchemy_conn\u001b[0m\u001b[1;33m]\u001b[0m\u001b[33m instead. Please update your `conf.get*` call to use the new name\u001b[0m\n"
      ]
     },
     "metadata": {},
     "output_type": "display_data"
    },
    {
     "name": "stdout",
     "output_type": "stream",
     "text": [
      "[\u001b[34m2024-11-24T14:57:43.858+0530\u001b[0m] {\u001b[34mspark_utils.py:\u001b[0m17} INFO\u001b[0m - Creating Spark session.\u001b[0m\n"
     ]
    },
    {
     "name": "stderr",
     "output_type": "stream",
     "text": [
      "your 131072x1 screen size is bogus. expect trouble\n",
      "24/11/24 14:57:46 WARN NativeCodeLoader: Unable to load native-hadoop library for your platform... using builtin-java classes where applicable\n"
     ]
    },
    {
     "name": "stdout",
     "output_type": "stream",
     "text": [
      "[\u001b[34m2024-11-24T14:57:48.205+0530\u001b[0m] {\u001b[34mspark_utils.py:\u001b[0m37} INFO\u001b[0m - Spark session created successfully.\u001b[0m\n"
     ]
    },
    {
     "name": "stderr",
     "output_type": "stream",
     "text": [
      "                                                                                \r"
     ]
    }
   ],
   "source": [
    "import os\n",
    "import sys\n",
    "sys.path.append(os.path.join(os.getcwd(), '..','..','..'))\n",
    "from configs import spark_config as config\n",
    "from utils import spark_utils as utils\n",
    "\n",
    "spark = utils.create_spark_session('filtering_data')\n",
    "\n",
    "directory = config.MERGED_DATA_DIR\n",
    "\n",
    "team12Stats = spark.read.csv(os.path.join(directory, 'team_stats.csv'), header=True, inferSchema=True)\n",
    "balltoball = spark.read.csv(os.path.join(directory, 'ball_by_ball.csv'), header=True, inferSchema=True)\n",
    "playerStats = spark.read.csv(os.path.join(directory, 'player_stats.csv'), header=True, inferSchema=True)"
   ]
  },
  {
   "cell_type": "code",
   "execution_count": 3,
   "metadata": {},
   "outputs": [
    {
     "name": "stderr",
     "output_type": "stream",
     "text": [
      "                                                                                \r"
     ]
    },
    {
     "data": {
      "text/plain": [
       "(3028, 3687, 1183)"
      ]
     },
     "execution_count": 3,
     "metadata": {},
     "output_type": "execute_result"
    }
   ],
   "source": [
    "team12Stats.select('match_id').distinct().count(), balltoball.select('match_id').distinct().count(), playerStats.select('match_id').distinct().count()"
   ]
  },
  {
   "cell_type": "code",
   "execution_count": 4,
   "metadata": {},
   "outputs": [
    {
     "name": "stdout",
     "output_type": "stream",
     "text": [
      "[211048, 287874, 352674, 571150, 875549, 966765, 1200428, 1267306, 1383107, 518954, 636165, 1172507, 1200425, 1233464, 1436482, 1436486, 356014, 412690, 569237, 636166, 1199544, 1284495, 1310938, 426417, 1183526, 1199548, 1257948, 1424830, 1439822, 249227, 350347, 995467, 1072320, 1217743, 1310183, 1188623, 1257406, 1273271, 1310940, 1439825, 452154, 1273149, 1327506, 1336049, 1383093, 875553, 1229820, 1257405, 1279382, 1373568, 1400056, 291343, 645647, 660149, 1317137, 1348649, 1383103, 1391339, 1415751, 426418, 439505, 1187677, 287858, 533295, 661697, 1153696, 1197528, 1381458, 473918, 1197526, 1298167, 1418182, 1431086, 533290, 1327508, 1381452, 1415724, 525816, 531635, 1217744, 1263151, 1323551, 1339614, 298804, 546414, 936153, 1188379, 1361774, 885969, 931398, 963697, 225271, 412697, 936155, 951373, 1074968, 1263158, 1298139, 1317487, 1327505, 1403289, 356000, 538068, 1298147, 1336048, 1439819, 287863, 1199542, 1310178, 287866, 426393, 474466, 566926, 895819, 1282748, 1450765, 1298176, 1359792, 1074966, 1233466, 1383110, 1415742, 562437, 953103, 1142915, 1233974, 1273732, 1320978, 1405314, 567205, 668969, 1158073, 1243389, 1328478, 1404392, 533296, 667731, 1215140, 1278671, 1327504, 1383086, 386535, 1263473, 682899, 1072322, 1144992, 1187666, 1278688, 1317486, 1384592, 1405323, 355993, 569238, 1041615, 1339206, 1354801, 1391338, 387563, 560921, 1031433, 1202009, 1322276, 1447483, 287876, 1317909, 1444949, 1444962, 1446764, 531636, 682915, 1034829, 1275053, 1310902, 1339606, 1384585, 1384590, 1436491, 356006, 885971, 1144990, 1267681, 1307477, 1321259, 1359798, 356007, 1263157, 1263475, 1404393, 958415, 1199501, 1202010, 291356, 1001349, 1418539, 1433364, 412677, 520599, 884349, 1020029, 1208609, 1276913, 860281, 1233972, 1327507, 602477, 1317906, 895817, 1199527, 1279386, 533275, 1273146, 1434155, 412699, 730285, 1263154, 1263155, 1305500, 412684, 1187005, 1188621, 1199511, 1359786, 447539, 531637, 287867, 412693, 412701, 951367, 1273273, 1367727, 533276, 566937, 1190774, 1233960, 1359789, 1361773, 560922, 913633, 1317908, 1407093, 1418186, 1444959, 403385, 412691, 1183529, 1197521, 1198236, 1359793, 1436471, 356003, 951337, 1348323, 1348324, 287877, 682909, 1158072, 1328476, 1420805, 306989, 426392, 565810, 593986, 951327, 1233973, 1276906, 1439814, 875507, 1278687, 1388224, 1415734, 287878, 1119545, 1273725, 1282743, 565811, 848841, 936157, 951353, 1263712, 1348651, 1373581, 1187678, 1278681, 1361775, 516205, 1320985, 527012, 556252, 573019, 682955, 966757, 1272373, 1273721, 1321471, 1381457, 1383072, 287868, 406207, 534235, 543884, 1074970, 573020, 690351, 1273748, 1278689, 1415750, 287875, 657633, 702143, 1444951, 963701, 1201683, 1273747, 1310901, 1362242, 355997, 356004, 682965, 1031665, 1273749, 1307478, 1422040, 1422043, 287869, 534208, 567353, 635658, 951309, 1142918, 1199535, 1310162, 1390167, 1436481, 682919, 884347, 1144149, 1187018, 1317483, 1422041, 1443783, 951323, 1142506, 1144161, 1168247, 1197523, 1267304, 1278673, 1278680, 1339615, 1431087, 1439830, 306991, 802327, 951347, 1202011, 1282744, 1407091, 446961, 682949, 1157759, 1273752, 1359787, 1072316, 1140384, 1373579, 1418541, 682937, 800481, 1186490, 1273737, 1276914, 1282739, 1321276, 1375851, 287855, 356010, 356012, 567355, 848839, 951339, 1083449, 1144162, 1310939, 1321264, 1383108, 1415745, 914219, 1317139, 1321305, 1322007, 412688, 439139, 452153, 473919, 533273, 875521, 1273718, 1273730, 589306, 1278685, 1310175, 1444948, 474476, 623572, 1439816, 1444950, 571148, 682939, 1384591, 1403290, 287856, 518955, 1197527, 1233975, 1310179, 1343775, 1388216, 1415722, 1434157, 1450826, 439146, 489220, 520596, 682927, 951329, 1199499, 1233959, 1276915, 635659, 951305, 1168248, 1187667, 1381453, 1415726, 287873, 567071, 1278672, 1286672, 1444957, 350475, 736063, 1454819, 298795, 636537, 1072318, 1074957, 1256724, 1279379, 1404394, 1432199, 682947, 1201685, 1298157, 350476, 1275277, 1320975, 1422038, 533283, 682963, 1270836, 1415719, 682931, 1197522, 1263159, 1273727, 1273742, 1286684, 1399148, 1418543, 1433363, 592269, 883345, 884351, 1031431, 1283047, 1310941, 534233, 1144173, 1185318, 1199523, 1267310, 1332505, 1390169, 520598, 1153698, 1433362, 1201680, 319112, 1119544, 1187006, 1273724, 1273754, 1389394, 1418544, 1120094, 1199510, 1367731, 1453922, 1257404, 1282278, 355995, 1202007, 226374, 430884, 565820, 566938, 667887, 743953, 1185317, 1233961, 1256720, 1317905, 1339618, 1388225, 1436478, 412689, 562438, 722335, 1433369, 356001, 1109610, 1381456, 533287, 727917, 1019983, 1199506, 439497, 1140992, 1144163, 1299583, 456991, 1157760, 1223953, 1256723, 1273753, 1273756, 1289045, 1299571, 1343784, 238195, 461565, 540174, 894293, 1187668, 1199546, 1282273, 392615, 754721, 1172510, 533291, 630951, 660173, 903587, 1275269, 1321268, 1436489, 426724, 573672, 1007655, 1007659, 1333929, 1348650, 1373569, 1444960, 287872, 412685, 546473, 1208613, 1343780, 356015, 520597, 567367, 1199539, 1237122, 1321265, 300435, 351694, 930577, 1199505, 1263152, 287860, 1233971, 1418540, 412682, 521217, 682925, 1275052, 1299567, 533272, 1034825, 1072321, 1310185, 1327503, 1339605, 1426477, 587476, 589307, 1321287, 951361, 1282747, 1298168, 1323550, 520595, 533288, 1273272, 1318361, 1384587, 1399142, 401076, 951345, 1333922, 1398295, 1415754, 1443770, 661695, 1120093, 1278690, 1321290, 1328474, 1359800, 1383101, 1385688, 1400055, 387564, 412694, 463149, 951325, 1142502, 1276904, 1283033, 1321266, 1373582, 1422037, 682957, 1074964, 1142505, 1144150, 1186493, 1239542, 1273729, 1198235, 1272374, 1275274, 1321303, 533293, 1153697, 412700, 531982, 754717, 995469, 1433367, 287857, 702141, 1278684, 1434160, 1447486, 319142, 361656, 951369, 1373570, 1404390, 1418542, 297800, 516204, 546470, 682959, 895821, 1263160, 1263474, 1415716, 287864, 446960, 533279, 1197524, 1257945, 1276905, 1444955, 412698, 423782, 722337, 1321279, 343764, 682923, 1188622, 1317910, 1321308, 1398298, 1415707, 1321270, 1321294, 1349388, 1439829, 412683, 1187681, 1418191, 287854, 355992, 657635, 875471, 1187665, 1384594, 1424833, 533285, 569239, 1223954, 361531, 1001353, 1074959, 1233955, 1272376, 1273148, 1275272, 1381454, 1436484, 743975, 1359794, 546442, 682941, 1198245, 1239541, 1298178, 1321281, 1447480, 1450828, 255954, 412686, 412702, 567354, 636536, 660223, 1031435, 1172505, 1239540, 1405319, 1444947, 573027, 682921, 1119542, 1270838, 1373580, 1424763, 1426465, 1436483, 251488, 351695, 463142, 682935, 754719, 958419, 1019979, 1424831, 258464, 463141, 649101, 1185313, 366622, 1157761, 1199517, 1299576, 1317904, 1333931, 1339604, 1339616, 1453925, 356008, 533278, 533298, 915783, 1142503, 1217740, 412703, 592276, 966745, 1072319, 1199534, 1384597, 1385698, 1422810, 478279, 1243391, 1310942, 1381451, 1389395, 1433374, 645645, 682953, 1158071, 1201681, 1278679, 1298164, 593987, 647247, 1074961, 1444952, 354456, 514023, 1119543, 1184902, 1185188, 1298174, 1336050, 1446761, 514024, 682951, 287870, 951311, 966753, 1299578, 1388217, 287879, 439499, 1098211, 1178996, 1256722, 1321465, 1373583, 406198, 958417, 958421, 1279385, 1452624, 951371, 1286685, 1289048, 1399114, 1453927, 1450770, 1263153, 1284493, 1286686, 1383099, 636538, 1199531, 1243388, 1400053, 1407103, 1424832, 1434161, 296903, 306987, 1256721, 1283045, 1317903, 1439826, 287865, 412695, 1299577, 1349131, 533280, 660209, 951363, 533286, 1199520, 1270837, 1273743, 1453933, 875491, 1185316, 403386, 1198237, 1317482, 1321293, 1383106, 533294, 564786, 860279, 1199528, 1273147, 1278686, 1318360, 287861, 439510, 530432, 649103, 1001351, 1217738, 1233465, 1298137, 1433368, 258463, 1327272, 951357, 1257184, 1282275, 1298146, 1321484, 1453915, 1185315, 423787, 543885, 636164, 682933, 883343, 1153843, 1385690, 356011, 525817, 1207081, 1233954, 682907, 1404391, 1436490, 430885, 546462, 1034827, 1199500, 1282740, 1418545, 533281, 533289, 1237124, 1310181, 1423439, 1310172, 690353, 1190776, 1237123, 1275054, 660185, 1144989, 1317136, 1415755, 1120095, 1187019, 1263156, 1348325, 1385697, 1418181, 648681, 953105, 1317138, 1321263, 300436, 355994, 592268, 682961, 685727, 903589, 1144174, 1229823, 1383097, 1199515, 1321478, 1322009, 1375850, 648683, 951359, 1349383, 412696, 1007657, 426723, 668959, 1202008, 1283043, 1422039, 682943, 951313, 963699, 355996, 951331, 1243392, 1328849, 1336051, 1400054, 456992, 682945, 1207082, 1317907, 1328477, 1433373, 1443777, 1450776, 366708, 406197, 489212, 533297, 1184262, 1185314, 1280058, 1388223, 1436494, 351696, 527013, 868725, 1183528, 1199545, 1243390, 1384596, 1436479, 211028, 287871, 361660, 1257951, 1298142, 1321280, 1375852, 1428154, 225263, 287853, 386494, 546410, 800479, 915785, 1072317, 1197529, 1273750, 1299570, 540173, 543883, 623571, 730283, 361530, 682929, 1187020, 1273739, 1273755, 914217, 1142501, 1381455, 635660, 660113, 889463, 966735, 1019981, 1332497, 1415717, 1415731, 1428151, 685729, 1215159, 1384595]\n"
     ]
    },
    {
     "data": {
      "text/plain": [
       "(None, 1031)"
      ]
     },
     "execution_count": 4,
     "metadata": {},
     "output_type": "execute_result"
    }
   ],
   "source": [
    "# Extract match_id columns from each dataset\n",
    "team12_match_ids = team12Stats.select('match_id').distinct()\n",
    "balltoball_match_ids = balltoball.select('match_id').distinct()\n",
    "player_match_ids = playerStats.select('match_id').distinct()\n",
    "\n",
    "# Find intersection of match_id across all three datasets\n",
    "common_match_ids = team12_match_ids.intersect(balltoball_match_ids).intersect(player_match_ids)\n",
    "common_match_ids.collect()\n",
    "\n",
    "# convert to list\n",
    "common_match_ids_list = [row['match_id'] for row in common_match_ids.collect()]\n",
    "\n",
    "print(common_match_ids_list),len(common_match_ids_list)"
   ]
  },
  {
   "cell_type": "code",
   "execution_count": 5,
   "metadata": {},
   "outputs": [],
   "source": [
    "# filter team12Stats\n",
    "\n",
    "filtered_team12Stats = team12Stats.filter(team12Stats.match_id.isin(common_match_ids_list)).drop(\"_c0\")\n",
    "\n",
    "# filter balltoball\n",
    "\n",
    "filtered_balltoball = balltoball.filter(balltoball.match_id.isin(common_match_ids_list)).drop(\"_c0\")\n",
    "\n",
    "# filter playersStats\n",
    "\n",
    "filtered_playerStats = playerStats.filter(playerStats.match_id.isin(common_match_ids_list)).drop(\"_c0\")"
   ]
  },
  {
   "cell_type": "code",
   "execution_count": 6,
   "metadata": {},
   "outputs": [
    {
     "name": "stdout",
     "output_type": "stream",
     "text": [
      "22682 1031 13\n",
      "1031 1031 14\n"
     ]
    },
    {
     "name": "stderr",
     "output_type": "stream",
     "text": [
      "[Stage 56:>                                                         (0 + 3) / 3]\r"
     ]
    },
    {
     "name": "stdout",
     "output_type": "stream",
     "text": [
      "239273 1031 12\n"
     ]
    },
    {
     "name": "stderr",
     "output_type": "stream",
     "text": [
      "                                                                                \r"
     ]
    }
   ],
   "source": [
    "print(filtered_playerStats.count(), filtered_playerStats.select('match_id').distinct().count(), len(filtered_playerStats.columns))\n",
    "print(filtered_team12Stats.count(), filtered_team12Stats.select('match_id').distinct().count(), len(filtered_team12Stats.columns))\n",
    "print(filtered_balltoball.count(), filtered_balltoball.select('match_id').distinct().count(), len(filtered_balltoball.columns))"
   ]
  },
  {
   "cell_type": "code",
   "execution_count": 7,
   "metadata": {},
   "outputs": [
    {
     "name": "stdout",
     "output_type": "stream",
     "text": [
      "+--------+------+--------------------+---------------------+---------------------+--------------------+-----------------------+-----------------------+--------------------+---------------------+---------------------+--------------------+-----------------------+-----------------------+\n",
      "|match_id|gender|Cumulative Won team1|Cumulative Lost team1|Cumulative Tied team1|Cumulative W/L team1|Cumulative AveRPW team1|Cumulative AveRPO team1|Cumulative Won team2|Cumulative Lost team2|Cumulative Tied team2|Cumulative W/L team2|Cumulative AveRPW team2|Cumulative AveRPO team2|\n",
      "+--------+------+--------------------+---------------------+---------------------+--------------------+-----------------------+-----------------------+--------------------+---------------------+---------------------+--------------------+-----------------------+-----------------------+\n",
      "|  211028|     0|                   0|                    0|                    0|                 0.0|                    0.0|                    0.0|                   1|                    0|                    0|                 0.0|                   42.8|                    0.0|\n",
      "|  211048|     0|                   0|                    0|                    0|                 0.0|                    0.0|                    0.0|                   0|                    0|                    0|                 0.0|                    0.0|                    0.0|\n",
      "+--------+------+--------------------+---------------------+---------------------+--------------------+-----------------------+-----------------------+--------------------+---------------------+---------------------+--------------------+-----------------------+-----------------------+\n",
      "only showing top 2 rows\n",
      "\n",
      "+--------+-------+----+----+-------+----------+------------+-----+--------+-----------------+------+---+\n",
      "|match_id|innings|ball|runs|wickets|curr_score|curr_wickets|overs|run_rate|required_run_rate|target|won|\n",
      "+--------+-------+----+----+-------+----------+------------+-----+--------+-----------------+------+---+\n",
      "| 1418539|      1| 0.1|   0|      0|         0|           0|    0|     0.0|              0.0|     0|  0|\n",
      "| 1418539|      1| 0.2|   0|      0|         0|           0|    0|     0.0|              0.0|     0|  0|\n",
      "+--------+-------+----+----+-------+----------+------------+-----+--------+-----------------+------+---+\n",
      "only showing top 2 rows\n",
      "\n",
      "+--------+-------------+--------------+------+----------------+---------------+-----------------------+---------------+---------------+--------------+-------------+-------------+--------------+\n",
      "|match_id|Cum Mat Total|Cum Runs Total|Cum SR|Cumulative Overs|Cumulative Mdns|Cumulative Bowling Runs|Cumulative Wkts|Cumulative Econ|Cumulative Dis|Cumulative Ct|Cumulative St|Cumulative D/I|\n",
      "+--------+-------------+--------------+------+----------------+---------------+-----------------------+---------------+---------------+--------------+-------------+-------------+--------------+\n",
      "|  211028|            1|             1| 33.33|             0.0|            0.0|                    0.0|            0.0|            0.0|           0.0|          0.0|          0.0|           0.0|\n",
      "|  211028|            0|             0|   0.0|             0.0|            0.0|                    0.0|            0.0|            0.0|           0.0|          0.0|          0.0|           0.0|\n",
      "+--------+-------------+--------------+------+----------------+---------------+-----------------------+---------------+---------------+--------------+-------------+-------------+--------------+\n",
      "only showing top 2 rows\n",
      "\n"
     ]
    }
   ],
   "source": [
    "filtered_team12Stats.show(2)\n",
    "filtered_balltoball.show(2)\n",
    "filtered_playerStats.show(2)"
   ]
  },
  {
   "cell_type": "code",
   "execution_count": 8,
   "metadata": {},
   "outputs": [
    {
     "name": "stdout",
     "output_type": "stream",
     "text": [
      "[\u001b[34m2024-11-24T14:58:09.816+0530\u001b[0m] {\u001b[34mspark_utils.py:\u001b[0m64} INFO\u001b[0m - Successfully wrote data to /usr/ravi/t20/data/4_filteredData/team12_stats.csv\u001b[0m\n"
     ]
    },
    {
     "name": "stderr",
     "output_type": "stream",
     "text": [
      "[Stage 66:>                                                         (0 + 3) / 3]\r"
     ]
    },
    {
     "name": "stdout",
     "output_type": "stream",
     "text": [
      "[\u001b[34m2024-11-24T14:58:11.339+0530\u001b[0m] {\u001b[34mspark_utils.py:\u001b[0m64} INFO\u001b[0m - Successfully wrote data to /usr/ravi/t20/data/4_filteredData/ball_to_ball.csv\u001b[0m\n"
     ]
    },
    {
     "name": "stderr",
     "output_type": "stream",
     "text": [
      "                                                                                \r"
     ]
    },
    {
     "name": "stdout",
     "output_type": "stream",
     "text": [
      "[\u001b[34m2024-11-24T14:58:12.056+0530\u001b[0m] {\u001b[34mspark_utils.py:\u001b[0m64} INFO\u001b[0m - Successfully wrote data to /usr/ravi/t20/data/4_filteredData/players_stats.csv\u001b[0m\n"
     ]
    }
   ],
   "source": [
    "filtered_balltoball = filtered_balltoball.select('match_id','innings','ball',\"runs\",\"wickets\",'curr_score','curr_wickets','overs','run_rate','required_run_rate','target',\"won\")\n",
    "\n",
    "utils.spark_save_data(filtered_team12Stats, config.FILTERED_DATA_DIR, 'team12_stats.csv')\n",
    "utils.spark_save_data(filtered_balltoball, config.FILTERED_DATA_DIR, 'ball_to_ball.csv')\n",
    "utils.spark_save_data(filtered_playerStats, config.FILTERED_DATA_DIR, 'players_stats.csv')\n",
    "spark.stop()"
   ]
  },
  {
   "cell_type": "code",
   "execution_count": null,
   "metadata": {},
   "outputs": [],
   "source": []
  }
 ],
 "metadata": {
  "kernelspec": {
   "display_name": "t20i",
   "language": "python",
   "name": "python3"
  },
  "language_info": {
   "codemirror_mode": {
    "name": "ipython",
    "version": 3
   },
   "file_extension": ".py",
   "mimetype": "text/x-python",
   "name": "python",
   "nbconvert_exporter": "python",
   "pygments_lexer": "ipython3",
   "version": "3.12.7"
  }
 },
 "nbformat": 4,
 "nbformat_minor": 2
}
