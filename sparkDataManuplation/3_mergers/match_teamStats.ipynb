{
 "cells": [
  {
   "cell_type": "code",
   "execution_count": 1,
   "metadata": {},
   "outputs": [
    {
     "ename": "KeyboardInterrupt",
     "evalue": "",
     "output_type": "error",
     "traceback": [
      "\u001b[1;31m---------------------------------------------------------------------------\u001b[0m",
      "\u001b[1;31mKeyboardInterrupt\u001b[0m                         Traceback (most recent call last)",
      "Cell \u001b[1;32mIn[1], line 6\u001b[0m\n\u001b[0;32m      2\u001b[0m \u001b[38;5;28;01mimport\u001b[39;00m \u001b[38;5;21;01mlogging\u001b[39;00m\n\u001b[0;32m      4\u001b[0m logging\u001b[38;5;241m.\u001b[39mbasicConfig(level\u001b[38;5;241m=\u001b[39mlogging\u001b[38;5;241m.\u001b[39mINFO)\n\u001b[1;32m----> 6\u001b[0m spark \u001b[38;5;241m=\u001b[39m \u001b[43mSparkSession\u001b[49m\u001b[38;5;241;43m.\u001b[39;49m\u001b[43mbuilder\u001b[49m\u001b[38;5;241;43m.\u001b[39;49m\u001b[43mconfig\u001b[49m\u001b[43m(\u001b[49m\u001b[38;5;124;43m\"\u001b[39;49m\u001b[38;5;124;43mspark.sql.debug.maxToStringFields\u001b[39;49m\u001b[38;5;124;43m\"\u001b[39;49m\u001b[43m,\u001b[49m\u001b[43m \u001b[49m\u001b[38;5;241;43m1000\u001b[39;49m\u001b[43m)\u001b[49m\u001b[38;5;241;43m.\u001b[39;49m\u001b[43mappName\u001b[49m\u001b[43m(\u001b[49m\u001b[38;5;124;43m\"\u001b[39;49m\u001b[38;5;124;43mCricket-Prediction\u001b[39;49m\u001b[38;5;124;43m\"\u001b[39;49m\u001b[43m)\u001b[49m\u001b[38;5;241;43m.\u001b[39;49m\u001b[43mgetOrCreate\u001b[49m\u001b[43m(\u001b[49m\u001b[43m)\u001b[49m\n\u001b[0;32m      8\u001b[0m directory \u001b[38;5;241m=\u001b[39m \u001b[38;5;124mr\u001b[39m\u001b[38;5;124m'\u001b[39m\u001b[38;5;124mD:\u001b[39m\u001b[38;5;124m\\\u001b[39m\u001b[38;5;124mgithub\u001b[39m\u001b[38;5;124m\\\u001b[39m\u001b[38;5;124mCricket-Prediction\u001b[39m\u001b[38;5;124m\\\u001b[39m\u001b[38;5;124mdata\u001b[39m\u001b[38;5;124m\\\u001b[39m\u001b[38;5;124m2_processedData\u001b[39m\u001b[38;5;124m'\u001b[39m\n\u001b[0;32m     10\u001b[0m \u001b[38;5;66;03m# Load the data\u001b[39;00m\n",
      "File \u001b[1;32mc:\\Users\\chavv\\anaconda\\envs\\eda\\lib\\site-packages\\pyspark\\sql\\session.py:497\u001b[0m, in \u001b[0;36mSparkSession.Builder.getOrCreate\u001b[1;34m(self)\u001b[0m\n\u001b[0;32m    495\u001b[0m     sparkConf\u001b[38;5;241m.\u001b[39mset(key, value)\n\u001b[0;32m    496\u001b[0m \u001b[38;5;66;03m# This SparkContext may be an existing one.\u001b[39;00m\n\u001b[1;32m--> 497\u001b[0m sc \u001b[38;5;241m=\u001b[39m \u001b[43mSparkContext\u001b[49m\u001b[38;5;241;43m.\u001b[39;49m\u001b[43mgetOrCreate\u001b[49m\u001b[43m(\u001b[49m\u001b[43msparkConf\u001b[49m\u001b[43m)\u001b[49m\n\u001b[0;32m    498\u001b[0m \u001b[38;5;66;03m# Do not update `SparkConf` for existing `SparkContext`, as it's shared\u001b[39;00m\n\u001b[0;32m    499\u001b[0m \u001b[38;5;66;03m# by all sessions.\u001b[39;00m\n\u001b[0;32m    500\u001b[0m session \u001b[38;5;241m=\u001b[39m SparkSession(sc, options\u001b[38;5;241m=\u001b[39m\u001b[38;5;28mself\u001b[39m\u001b[38;5;241m.\u001b[39m_options)\n",
      "File \u001b[1;32mc:\\Users\\chavv\\anaconda\\envs\\eda\\lib\\site-packages\\pyspark\\context.py:515\u001b[0m, in \u001b[0;36mSparkContext.getOrCreate\u001b[1;34m(cls, conf)\u001b[0m\n\u001b[0;32m    513\u001b[0m \u001b[38;5;28;01mwith\u001b[39;00m SparkContext\u001b[38;5;241m.\u001b[39m_lock:\n\u001b[0;32m    514\u001b[0m     \u001b[38;5;28;01mif\u001b[39;00m SparkContext\u001b[38;5;241m.\u001b[39m_active_spark_context \u001b[38;5;129;01mis\u001b[39;00m \u001b[38;5;28;01mNone\u001b[39;00m:\n\u001b[1;32m--> 515\u001b[0m         \u001b[43mSparkContext\u001b[49m\u001b[43m(\u001b[49m\u001b[43mconf\u001b[49m\u001b[38;5;241;43m=\u001b[39;49m\u001b[43mconf\u001b[49m\u001b[43m \u001b[49m\u001b[38;5;129;43;01mor\u001b[39;49;00m\u001b[43m \u001b[49m\u001b[43mSparkConf\u001b[49m\u001b[43m(\u001b[49m\u001b[43m)\u001b[49m\u001b[43m)\u001b[49m\n\u001b[0;32m    516\u001b[0m     \u001b[38;5;28;01massert\u001b[39;00m SparkContext\u001b[38;5;241m.\u001b[39m_active_spark_context \u001b[38;5;129;01mis\u001b[39;00m \u001b[38;5;129;01mnot\u001b[39;00m \u001b[38;5;28;01mNone\u001b[39;00m\n\u001b[0;32m    517\u001b[0m     \u001b[38;5;28;01mreturn\u001b[39;00m SparkContext\u001b[38;5;241m.\u001b[39m_active_spark_context\n",
      "File \u001b[1;32mc:\\Users\\chavv\\anaconda\\envs\\eda\\lib\\site-packages\\pyspark\\context.py:201\u001b[0m, in \u001b[0;36mSparkContext.__init__\u001b[1;34m(self, master, appName, sparkHome, pyFiles, environment, batchSize, serializer, conf, gateway, jsc, profiler_cls, udf_profiler_cls, memory_profiler_cls)\u001b[0m\n\u001b[0;32m    195\u001b[0m \u001b[38;5;28;01mif\u001b[39;00m gateway \u001b[38;5;129;01mis\u001b[39;00m \u001b[38;5;129;01mnot\u001b[39;00m \u001b[38;5;28;01mNone\u001b[39;00m \u001b[38;5;129;01mand\u001b[39;00m gateway\u001b[38;5;241m.\u001b[39mgateway_parameters\u001b[38;5;241m.\u001b[39mauth_token \u001b[38;5;129;01mis\u001b[39;00m \u001b[38;5;28;01mNone\u001b[39;00m:\n\u001b[0;32m    196\u001b[0m     \u001b[38;5;28;01mraise\u001b[39;00m \u001b[38;5;167;01mValueError\u001b[39;00m(\n\u001b[0;32m    197\u001b[0m         \u001b[38;5;124m\"\u001b[39m\u001b[38;5;124mYou are trying to pass an insecure Py4j gateway to Spark. This\u001b[39m\u001b[38;5;124m\"\u001b[39m\n\u001b[0;32m    198\u001b[0m         \u001b[38;5;124m\"\u001b[39m\u001b[38;5;124m is not allowed as it is a security risk.\u001b[39m\u001b[38;5;124m\"\u001b[39m\n\u001b[0;32m    199\u001b[0m     )\n\u001b[1;32m--> 201\u001b[0m \u001b[43mSparkContext\u001b[49m\u001b[38;5;241;43m.\u001b[39;49m\u001b[43m_ensure_initialized\u001b[49m\u001b[43m(\u001b[49m\u001b[38;5;28;43mself\u001b[39;49m\u001b[43m,\u001b[49m\u001b[43m \u001b[49m\u001b[43mgateway\u001b[49m\u001b[38;5;241;43m=\u001b[39;49m\u001b[43mgateway\u001b[49m\u001b[43m,\u001b[49m\u001b[43m \u001b[49m\u001b[43mconf\u001b[49m\u001b[38;5;241;43m=\u001b[39;49m\u001b[43mconf\u001b[49m\u001b[43m)\u001b[49m\n\u001b[0;32m    202\u001b[0m \u001b[38;5;28;01mtry\u001b[39;00m:\n\u001b[0;32m    203\u001b[0m     \u001b[38;5;28mself\u001b[39m\u001b[38;5;241m.\u001b[39m_do_init(\n\u001b[0;32m    204\u001b[0m         master,\n\u001b[0;32m    205\u001b[0m         appName,\n\u001b[1;32m   (...)\u001b[0m\n\u001b[0;32m    215\u001b[0m         memory_profiler_cls,\n\u001b[0;32m    216\u001b[0m     )\n",
      "File \u001b[1;32mc:\\Users\\chavv\\anaconda\\envs\\eda\\lib\\site-packages\\pyspark\\context.py:436\u001b[0m, in \u001b[0;36mSparkContext._ensure_initialized\u001b[1;34m(cls, instance, gateway, conf)\u001b[0m\n\u001b[0;32m    434\u001b[0m \u001b[38;5;28;01mwith\u001b[39;00m SparkContext\u001b[38;5;241m.\u001b[39m_lock:\n\u001b[0;32m    435\u001b[0m     \u001b[38;5;28;01mif\u001b[39;00m \u001b[38;5;129;01mnot\u001b[39;00m SparkContext\u001b[38;5;241m.\u001b[39m_gateway:\n\u001b[1;32m--> 436\u001b[0m         SparkContext\u001b[38;5;241m.\u001b[39m_gateway \u001b[38;5;241m=\u001b[39m gateway \u001b[38;5;129;01mor\u001b[39;00m \u001b[43mlaunch_gateway\u001b[49m\u001b[43m(\u001b[49m\u001b[43mconf\u001b[49m\u001b[43m)\u001b[49m\n\u001b[0;32m    437\u001b[0m         SparkContext\u001b[38;5;241m.\u001b[39m_jvm \u001b[38;5;241m=\u001b[39m SparkContext\u001b[38;5;241m.\u001b[39m_gateway\u001b[38;5;241m.\u001b[39mjvm\n\u001b[0;32m    439\u001b[0m     \u001b[38;5;28;01mif\u001b[39;00m instance:\n",
      "File \u001b[1;32mc:\\Users\\chavv\\anaconda\\envs\\eda\\lib\\site-packages\\pyspark\\java_gateway.py:104\u001b[0m, in \u001b[0;36mlaunch_gateway\u001b[1;34m(conf, popen_kwargs)\u001b[0m\n\u001b[0;32m    102\u001b[0m \u001b[38;5;66;03m# Wait for the file to appear, or for the process to exit, whichever happens first.\u001b[39;00m\n\u001b[0;32m    103\u001b[0m \u001b[38;5;28;01mwhile\u001b[39;00m \u001b[38;5;129;01mnot\u001b[39;00m proc\u001b[38;5;241m.\u001b[39mpoll() \u001b[38;5;129;01mand\u001b[39;00m \u001b[38;5;129;01mnot\u001b[39;00m os\u001b[38;5;241m.\u001b[39mpath\u001b[38;5;241m.\u001b[39misfile(conn_info_file):\n\u001b[1;32m--> 104\u001b[0m     \u001b[43mtime\u001b[49m\u001b[38;5;241;43m.\u001b[39;49m\u001b[43msleep\u001b[49m\u001b[43m(\u001b[49m\u001b[38;5;241;43m0.1\u001b[39;49m\u001b[43m)\u001b[49m\n\u001b[0;32m    106\u001b[0m \u001b[38;5;28;01mif\u001b[39;00m \u001b[38;5;129;01mnot\u001b[39;00m os\u001b[38;5;241m.\u001b[39mpath\u001b[38;5;241m.\u001b[39misfile(conn_info_file):\n\u001b[0;32m    107\u001b[0m     \u001b[38;5;28;01mraise\u001b[39;00m PySparkRuntimeError(\n\u001b[0;32m    108\u001b[0m         error_class\u001b[38;5;241m=\u001b[39m\u001b[38;5;124m\"\u001b[39m\u001b[38;5;124mJAVA_GATEWAY_EXITED\u001b[39m\u001b[38;5;124m\"\u001b[39m,\n\u001b[0;32m    109\u001b[0m         message_parameters\u001b[38;5;241m=\u001b[39m{},\n\u001b[0;32m    110\u001b[0m     )\n",
      "\u001b[1;31mKeyboardInterrupt\u001b[0m: "
     ]
    }
   ],
   "source": [
    "from pyspark.sql import SparkSession\n",
    "import logging\n",
    "\n",
    "logging.basicConfig(level=logging.INFO)\n",
    "\n",
    "spark = SparkSession.builder.config(\"spark.sql.debug.maxToStringFields\", 1000).appName(\"Cricket-Prediction\").getOrCreate()\n",
    "\n",
    "directory = r'D:\\github\\Cricket-Prediction\\data\\2_processedData'\n",
    "\n",
    "# Load the data\n",
    "teams = spark.read.csv(directory + r'\\teamStats.csv', header=True, inferSchema=True)\n",
    "matches = spark.read.csv(directory + r'\\matches.csv', header=True, inferSchema=True)\n",
    "teams.show(5)"
   ]
  },
  {
   "cell_type": "code",
   "execution_count": null,
   "metadata": {},
   "outputs": [],
   "source": [
    "tdt = teams.select(\"Team\").distinct().rdd.map(lambda row: row.Team).collect()\n",
    "mdt = matches.select(\"Team1\").distinct().rdd.map(lambda row: row.Team1).collect()"
   ]
  },
  {
   "cell_type": "code",
   "execution_count": null,
   "metadata": {},
   "outputs": [
    {
     "name": "stdout",
     "output_type": "stream",
     "text": [
      "Czech Rep.\n",
      "P.N.G.\n",
      "Peru\n",
      "Cayman\n",
      "U.S.A.\n",
      "World-XI\n",
      "U.A.E.\n",
      "ICC World XI\n"
     ]
    }
   ],
   "source": [
    "for i in tdt:\n",
    "    if i not in mdt:\n",
    "        print(i)"
   ]
  },
  {
   "cell_type": "code",
   "execution_count": null,
   "metadata": {},
   "outputs": [
    {
     "name": "stdout",
     "output_type": "stream",
     "text": [
      "Cayman Islands\n",
      "Barbados\n",
      "United States of America\n",
      "United Arab Emirates\n",
      "Czech Republic\n",
      "Papua New Guinea\n"
     ]
    }
   ],
   "source": [
    "for i in mdt:\n",
    "    if i not in tdt:\n",
    "        print(i)"
   ]
  },
  {
   "cell_type": "code",
   "execution_count": null,
   "metadata": {},
   "outputs": [
    {
     "name": "stdout",
     "output_type": "stream",
     "text": [
      "Mapped Team Names Dictionary: {'U.S.A.': 'United States of America', 'U.A.E.': 'United Arab Emirates', 'Czech Rep.': 'Czech Republic', 'P.N.G.': 'Papua New Guinea', 'Cayman': 'Cayman Islands'}\n",
      "Unmatched Teams in tdt: ['Peru', 'World-XI', 'ICC World XI']\n",
      "Unmatched Teams in mdt: ['Barbados']\n"
     ]
    }
   ],
   "source": [
    "# Teams that need to be mapped between `tdt` and `mdt`\n",
    "team_name_mapping = {\n",
    "    'U.S.A.': 'United States of America',\n",
    "    'U.A.E.': 'United Arab Emirates',\n",
    "    'Czech Rep.': 'Czech Republic',\n",
    "    'P.N.G.': 'Papua New Guinea',\n",
    "    'Cayman': 'Cayman Islands'\n",
    "}\n",
    "\n",
    "# Teams that do not have a direct match\n",
    "unmatched_tdt = [team for team in tdt if team not in mdt and team not in team_name_mapping]\n",
    "unmatched_mdt = [team for team in mdt if team not in tdt and team not in team_name_mapping.values()]\n",
    "\n",
    "print(\"Mapped Team Names Dictionary:\", team_name_mapping)\n",
    "print(\"Unmatched Teams in tdt:\", unmatched_tdt)\n",
    "print(\"Unmatched Teams in mdt:\", unmatched_mdt)"
   ]
  },
  {
   "cell_type": "code",
   "execution_count": null,
   "metadata": {},
   "outputs": [
    {
     "data": {
      "text/plain": [
       "['Peru', 'World-XI', 'ICC World XI', 'Barbados']"
      ]
     },
     "execution_count": 173,
     "metadata": {},
     "output_type": "execute_result"
    }
   ],
   "source": [
    "unmatched_teams = unmatched_tdt + unmatched_mdt\n",
    "unmatched_teams"
   ]
  },
  {
   "cell_type": "code",
   "execution_count": null,
   "metadata": {},
   "outputs": [
    {
     "name": "stdout",
     "output_type": "stream",
     "text": [
      "907 3683\n",
      "904 3676\n"
     ]
    }
   ],
   "source": [
    "print(teams.count(), matches.count())\n",
    "teams = teams.filter(~teams.Team.isin(unmatched_teams))\n",
    "matches = matches.filter(~matches.team1.isin(unmatched_teams)).filter(~matches.team2.isin(unmatched_teams))\n",
    "print(teams.count(), matches.count())"
   ]
  },
  {
   "cell_type": "code",
   "execution_count": null,
   "metadata": {},
   "outputs": [],
   "source": [
    "teams = teams.replace(team_name_mapping, subset='Team')\n",
    "matches = matches.replace(team_name_mapping, subset='team1').replace(team_name_mapping, subset='team2')"
   ]
  },
  {
   "cell_type": "markdown",
   "metadata": {},
   "source": [
    "# Flipping"
   ]
  },
  {
   "cell_type": "code",
   "execution_count": null,
   "metadata": {},
   "outputs": [
    {
     "name": "stdout",
     "output_type": "stream",
     "text": [
      "+-----------+------------+------+-------+----------+--------------------+------------+-----------+-------------+-----------+--------+----+\n",
      "|      team1|       team2|gender| season|      date|               venue|        city|toss_winner|toss_decision|     winner|match_id|flip|\n",
      "+-----------+------------+------+-------+----------+--------------------+------------+-----------+-------------+-----------+--------+----+\n",
      "|  Australia|     England|  male|   2005|2005/06/13|       The Rose Bowl| Southampton|    England|          bat|    England|  211028|   1|\n",
      "|    England|   Australia|  male|   2005|2005/06/13|       The Rose Bowl| Southampton|    England|          bat|    England|  211028|   0|\n",
      "|  Australia| New Zealand|  male|2004/05|2005/02/17|           Eden Park|    Auckland|  Australia|          bat|  Australia|  211048|   1|\n",
      "|New Zealand|   Australia|  male|2004/05|2005/02/17|           Eden Park|    Auckland|  Australia|          bat|  Australia|  211048|   0|\n",
      "|New Zealand|South Africa|  male|2005/06|2005/10/21|New Wanderers Sta...|Johannesburg|New Zealand|        field|New Zealand|  222678|   1|\n",
      "+-----------+------------+------+-------+----------+--------------------+------------+-----------+-------------+-----------+--------+----+\n",
      "only showing top 5 rows\n",
      "\n"
     ]
    }
   ],
   "source": [
    "from pyspark.sql import functions as F\n",
    "\n",
    "matches1 = matches\n",
    "matches1 = matches1.withColumn('flip', F.lit(0))\n",
    "matches2 = matches.withColumnRenamed('team1', 'temp_team').withColumnRenamed('team2', 'team1').withColumnRenamed('temp_team', 'team2').select(\n",
    "    ['team1', 'team2', 'gender', 'season', 'date', 'venue', 'city', 'toss_winner', 'toss_decision', 'winner','match_id'])\n",
    "matches2 = matches2.withColumn('flip', F.lit(1))\n",
    "matchesflip = matches1.union(matches2).sort('match_id')\n",
    "matchesflip.show(5)\n"
   ]
  },
  {
   "cell_type": "code",
   "execution_count": null,
   "metadata": {},
   "outputs": [
    {
     "name": "stdout",
     "output_type": "stream",
     "text": [
      "+---------+---------+------+-------+----------+--------------------+-----------+-----------+-------------+---------+--------+----+--------------+---------------+---------------+-------------+--------------+-----------------+-----------------+\n",
      "|    team1|    team2|gender| season|      date|               venue|       city|toss_winner|toss_decision|   winner|match_id|flip|Cumulative Won|Cumulative Lost|Cumulative Tied|Cumulative NR|Cumulative W/L|Cumulative AveRPW|Cumulative AveRPO|\n",
      "+---------+---------+------+-------+----------+--------------------+-----------+-----------+-------------+---------+--------+----+--------------+---------------+---------------+-------------+--------------+-----------------+-----------------+\n",
      "|Australia|Sri Lanka|  male|2016/17|2017/02/17|Melbourne Cricket...|       NULL|  Sri Lanka|        field|Sri Lanka| 1001349|   0|            46|             41|              2|            1|          1.12|            26.54|             8.36|\n",
      "|Australia|Sri Lanka|  male|2016/17|2017/02/19|Simonds Stadium, ...|   Victoria|  Sri Lanka|        field|Sri Lanka| 1001351|   0|            46|             41|              2|            1|          1.12|            26.54|             8.36|\n",
      "|Australia|Sri Lanka|  male|2016/17|2017/02/22|       Adelaide Oval|       NULL|  Sri Lanka|        field|Australia| 1001353|   0|            46|             41|              2|            1|          1.12|            26.54|             8.36|\n",
      "|  Ireland|Hong Kong|  male|   2016|2016/09/05|Bready Cricket Cl...|Londonderry|  Hong Kong|          bat|Hong Kong| 1004729|   0|            24|             23|              0|            6|          1.04|            20.67|             6.88|\n",
      "| Zimbabwe|    India|  male|   2016|2016/06/18|  Harare Sports Club|       NULL|      India|        field| Zimbabwe| 1007655|   0|            12|             38|              1|            0|          0.32|             20.4|             7.23|\n",
      "+---------+---------+------+-------+----------+--------------------+-----------+-----------+-------------+---------+--------+----+--------------+---------------+---------------+-------------+--------------+-----------------+-----------------+\n",
      "only showing top 5 rows\n",
      "\n"
     ]
    }
   ],
   "source": [
    "matchesflip.join(teams, on=[matchesflip.team1 == teams.Team, matchesflip.season == teams.Season], how='inner').drop(\"Team\",teams.Season).show(5)"
   ]
  },
  {
   "cell_type": "code",
   "execution_count": null,
   "metadata": {},
   "outputs": [
    {
     "name": "stdout",
     "output_type": "stream",
     "text": [
      "+---------+---------+------+-------+----------+--------------------+-----------+-----------+-------------+---------+--------+----+--------------------+---------------------+---------------------+-------------------+--------------------+-----------------------+-----------------------+\n",
      "|    team1|    team2|gender| season|      date|               venue|       city|toss_winner|toss_decision|   winner|match_id|flip|Cumulative Won team1|Cumulative Lost team1|Cumulative Tied team1|Cumulative NR team1|Cumulative W/L team1|Cumulative AveRPW team1|Cumulative AveRPO team1|\n",
      "+---------+---------+------+-------+----------+--------------------+-----------+-----------+-------------+---------+--------+----+--------------------+---------------------+---------------------+-------------------+--------------------+-----------------------+-----------------------+\n",
      "|Australia|Sri Lanka|  male|2016/17|2017/02/17|Melbourne Cricket...|       NULL|  Sri Lanka|        field|Sri Lanka| 1001349|   0|                  46|                   41|                    2|                  1|                1.12|                  26.54|                   8.36|\n",
      "|Australia|Sri Lanka|  male|2016/17|2017/02/19|Simonds Stadium, ...|   Victoria|  Sri Lanka|        field|Sri Lanka| 1001351|   0|                  46|                   41|                    2|                  1|                1.12|                  26.54|                   8.36|\n",
      "|Australia|Sri Lanka|  male|2016/17|2017/02/22|       Adelaide Oval|       NULL|  Sri Lanka|        field|Australia| 1001353|   0|                  46|                   41|                    2|                  1|                1.12|                  26.54|                   8.36|\n",
      "|  Ireland|Hong Kong|  male|   2016|2016/09/05|Bready Cricket Cl...|Londonderry|  Hong Kong|          bat|Hong Kong| 1004729|   0|                  24|                   23|                    0|                  6|                1.04|                  20.67|                   6.88|\n",
      "| Zimbabwe|    India|  male|   2016|2016/06/18|  Harare Sports Club|       NULL|      India|        field| Zimbabwe| 1007655|   0|                  12|                   38|                    1|                  0|                0.32|                   20.4|                   7.23|\n",
      "+---------+---------+------+-------+----------+--------------------+-----------+-----------+-------------+---------+--------+----+--------------------+---------------------+---------------------+-------------------+--------------------+-----------------------+-----------------------+\n",
      "only showing top 5 rows\n",
      "\n"
     ]
    }
   ],
   "source": [
    "# matchesflip.join(team_data, left_on=['team1','season'], right_on=['Team','Season'], how='inner',suffix='_team1')\n",
    "\n",
    "matchesflip = matchesflip.join(teams, on=[matchesflip.team1 == teams.Team, matchesflip.season == teams.Season], how='inner').drop(\"Team\",teams.Season)\n",
    "matchesflip = matchesflip.withColumnsRenamed({\n",
    "    \"Cumulative Won\": \"Cumulative Won team1\",\n",
    "    \"Cumulative Lost\": \"Cumulative Lost team1\",\n",
    "    \"Cumulative Tied\": \"Cumulative Tied team1\",\n",
    "    \"Cumulative NR\": \"Cumulative NR team1\",\n",
    "    \"Cumulative W/L\": \"Cumulative W/L team1\",\n",
    "    \"Cumulative AveRPW\": \"Cumulative AveRPW team1\", \n",
    "    \"Cumulative AveRPO\": \"Cumulative AveRPO team1\", \n",
    "})\n",
    "matchesflip.show(5)"
   ]
  },
  {
   "cell_type": "code",
   "execution_count": null,
   "metadata": {},
   "outputs": [
    {
     "name": "stdout",
     "output_type": "stream",
     "text": [
      "+---------+---------+------+-------+----------+--------------------+-----------+-----------+-------------+---------+--------+----+--------------------+---------------------+---------------------+-------------------+--------------------+-----------------------+-----------------------+-------+--------------+---------------+---------------+-------------+--------------+-----------------+-----------------+\n",
      "|    team1|    team2|gender| season|      date|               venue|       city|toss_winner|toss_decision|   winner|match_id|flip|Cumulative Won team1|Cumulative Lost team1|Cumulative Tied team1|Cumulative NR team1|Cumulative W/L team1|Cumulative AveRPW team1|Cumulative AveRPO team1| Season|Cumulative Won|Cumulative Lost|Cumulative Tied|Cumulative NR|Cumulative W/L|Cumulative AveRPW|Cumulative AveRPO|\n",
      "+---------+---------+------+-------+----------+--------------------+-----------+-----------+-------------+---------+--------+----+--------------------+---------------------+---------------------+-------------------+--------------------+-----------------------+-----------------------+-------+--------------+---------------+---------------+-------------+--------------+-----------------+-----------------+\n",
      "|Australia|Sri Lanka|  male|2016/17|2017/02/17|Melbourne Cricket...|       NULL|  Sri Lanka|        field|Sri Lanka| 1001349|   0|                  46|                   41|                    2|                  1|                1.12|                  26.54|                   8.36|2016/17|            46|             39|              1|            1|          1.18|            23.53|             7.63|\n",
      "|Australia|Sri Lanka|  male|2016/17|2017/02/19|Simonds Stadium, ...|   Victoria|  Sri Lanka|        field|Sri Lanka| 1001351|   0|                  46|                   41|                    2|                  1|                1.12|                  26.54|                   8.36|2016/17|            46|             39|              1|            1|          1.18|            23.53|             7.63|\n",
      "|Australia|Sri Lanka|  male|2016/17|2017/02/22|       Adelaide Oval|       NULL|  Sri Lanka|        field|Australia| 1001353|   0|                  46|                   41|                    2|                  1|                1.12|                  26.54|                   8.36|2016/17|            46|             39|              1|            1|          1.18|            23.53|             7.63|\n",
      "|  Ireland|Hong Kong|  male|   2016|2016/09/05|Bready Cricket Cl...|Londonderry|  Hong Kong|          bat|Hong Kong| 1004729|   0|                  24|                   23|                    0|                  6|                1.04|                  20.67|                   6.88|   2016|             8|             12|              0|            0|          0.67|            17.71|             6.66|\n",
      "| Zimbabwe|    India|  male|   2016|2016/06/18|  Harare Sports Club|       NULL|      India|        field| Zimbabwe| 1007655|   0|                  12|                   38|                    1|                  0|                0.32|                   20.4|                   7.23|   2016|            44|             27|              1|            1|          1.63|            28.86|             7.96|\n",
      "+---------+---------+------+-------+----------+--------------------+-----------+-----------+-------------+---------+--------+----+--------------------+---------------------+---------------------+-------------------+--------------------+-----------------------+-----------------------+-------+--------------+---------------+---------------+-------------+--------------+-----------------+-----------------+\n",
      "only showing top 5 rows\n",
      "\n"
     ]
    }
   ],
   "source": [
    "matchesflip.join(teams, on=[matchesflip.team2 == teams.Team, matchesflip.season == teams.Season], how='inner').drop(\"Team\",teams.Season).show(5)"
   ]
  },
  {
   "cell_type": "code",
   "execution_count": null,
   "metadata": {},
   "outputs": [
    {
     "name": "stdout",
     "output_type": "stream",
     "text": [
      "+---------+---------+------+-------+----------+--------------------+-----------+-----------+-------------+---------+--------+----+--------------------+---------------------+---------------------+-------------------+--------------------+-----------------------+-----------------------+--------------------+---------------------+---------------------+-------------------+--------------------+-----------------------+-----------------------+\n",
      "|    team1|    team2|gender| season|      date|               venue|       city|toss_winner|toss_decision|   winner|match_id|flip|Cumulative Won team1|Cumulative Lost team1|Cumulative Tied team1|Cumulative NR team1|Cumulative W/L team1|Cumulative AveRPW team1|Cumulative AveRPO team1|Cumulative Won team2|Cumulative Lost team2|Cumulative Tied team2|Cumulative NR team2|Cumulative W/L team2|Cumulative AveRPW team2|Cumulative AveRPO team2|\n",
      "+---------+---------+------+-------+----------+--------------------+-----------+-----------+-------------+---------+--------+----+--------------------+---------------------+---------------------+-------------------+--------------------+-----------------------+-----------------------+--------------------+---------------------+---------------------+-------------------+--------------------+-----------------------+-----------------------+\n",
      "|Australia|Sri Lanka|  male|2016/17|2017/02/17|Melbourne Cricket...|       NULL|  Sri Lanka|        field|Sri Lanka| 1001349|   0|                  46|                   41|                    2|                  1|                1.12|                  26.54|                   8.36|                  46|                   39|                    1|                  1|                1.18|                  23.53|                   7.63|\n",
      "|Australia|Sri Lanka|  male|2016/17|2017/02/19|Simonds Stadium, ...|   Victoria|  Sri Lanka|        field|Sri Lanka| 1001351|   0|                  46|                   41|                    2|                  1|                1.12|                  26.54|                   8.36|                  46|                   39|                    1|                  1|                1.18|                  23.53|                   7.63|\n",
      "|Australia|Sri Lanka|  male|2016/17|2017/02/22|       Adelaide Oval|       NULL|  Sri Lanka|        field|Australia| 1001353|   0|                  46|                   41|                    2|                  1|                1.12|                  26.54|                   8.36|                  46|                   39|                    1|                  1|                1.18|                  23.53|                   7.63|\n",
      "|  Ireland|Hong Kong|  male|   2016|2016/09/05|Bready Cricket Cl...|Londonderry|  Hong Kong|          bat|Hong Kong| 1004729|   0|                  24|                   23|                    0|                  6|                1.04|                  20.67|                   6.88|                   8|                   12|                    0|                  0|                0.67|                  17.71|                   6.66|\n",
      "| Zimbabwe|    India|  male|   2016|2016/06/18|  Harare Sports Club|       NULL|      India|        field| Zimbabwe| 1007655|   0|                  12|                   38|                    1|                  0|                0.32|                   20.4|                   7.23|                  44|                   27|                    1|                  1|                1.63|                  28.86|                   7.96|\n",
      "+---------+---------+------+-------+----------+--------------------+-----------+-----------+-------------+---------+--------+----+--------------------+---------------------+---------------------+-------------------+--------------------+-----------------------+-----------------------+--------------------+---------------------+---------------------+-------------------+--------------------+-----------------------+-----------------------+\n",
      "only showing top 5 rows\n",
      "\n"
     ]
    }
   ],
   "source": [
    "\n",
    "teams_renamed = teams.withColumnRenamed(\"Season\", \"Team_Season\")\n",
    "\n",
    "matchesflip = matchesflip.join(teams_renamed, on=[matchesflip.team2 == teams_renamed.Team, matchesflip.season == teams_renamed.Team_Season], how='inner').drop(\"Team\", \"Team_Season\")\n",
    "matchesflip = matchesflip.withColumnsRenamed({\n",
    "    \"Cumulative Won\": \"Cumulative Won team2\",\n",
    "    \"Cumulative Lost\": \"Cumulative Lost team2\",\n",
    "    \"Cumulative Tied\": \"Cumulative Tied team2\",\n",
    "    \"Cumulative NR\": \"Cumulative NR team2\",\n",
    "    \"Cumulative W/L\": \"Cumulative W/L team2\",\n",
    "    \"Cumulative AveRPW\": \"Cumulative AveRPW team2\",\n",
    "    \"Cumulative AveRPO\": \"Cumulative AveRPO team2\",\n",
    "})\n",
    "matchesflip.show(5)"
   ]
  },
  {
   "cell_type": "code",
   "execution_count": null,
   "metadata": {},
   "outputs": [
    {
     "name": "stdout",
     "output_type": "stream",
     "text": [
      "+---------+---------+------+-------+----------+--------------------+-----------+-----------+-------------+---------+--------+----+--------------------+---------------------+---------------------+-------------------+--------------------+-----------------------+-----------------------+--------------------+---------------------+---------------------+-------------------+--------------------+-----------------------+-----------------------+\n",
      "|    team1|    team2|gender| season|      date|               venue|       city|toss_winner|toss_decision|   winner|match_id|flip|Cumulative Won team1|Cumulative Lost team1|Cumulative Tied team1|Cumulative NR team1|Cumulative W/L team1|Cumulative AveRPW team1|Cumulative AveRPO team1|Cumulative Won team2|Cumulative Lost team2|Cumulative Tied team2|Cumulative NR team2|Cumulative W/L team2|Cumulative AveRPW team2|Cumulative AveRPO team2|\n",
      "+---------+---------+------+-------+----------+--------------------+-----------+-----------+-------------+---------+--------+----+--------------------+---------------------+---------------------+-------------------+--------------------+-----------------------+-----------------------+--------------------+---------------------+---------------------+-------------------+--------------------+-----------------------+-----------------------+\n",
      "|Australia|Sri Lanka|     0|2016/17|2017/02/17|Melbourne Cricket...|       NULL|  Sri Lanka|        field|Sri Lanka| 1001349|   0|                  46|                   41|                    2|                  1|                1.12|                  26.54|                   8.36|                  46|                   39|                    1|                  1|                1.18|                  23.53|                   7.63|\n",
      "|Australia|Sri Lanka|     0|2016/17|2017/02/19|Simonds Stadium, ...|   Victoria|  Sri Lanka|        field|Sri Lanka| 1001351|   0|                  46|                   41|                    2|                  1|                1.12|                  26.54|                   8.36|                  46|                   39|                    1|                  1|                1.18|                  23.53|                   7.63|\n",
      "|Australia|Sri Lanka|     0|2016/17|2017/02/22|       Adelaide Oval|       NULL|  Sri Lanka|        field|Australia| 1001353|   0|                  46|                   41|                    2|                  1|                1.12|                  26.54|                   8.36|                  46|                   39|                    1|                  1|                1.18|                  23.53|                   7.63|\n",
      "|  Ireland|Hong Kong|     0|   2016|2016/09/05|Bready Cricket Cl...|Londonderry|  Hong Kong|          bat|Hong Kong| 1004729|   0|                  24|                   23|                    0|                  6|                1.04|                  20.67|                   6.88|                   8|                   12|                    0|                  0|                0.67|                  17.71|                   6.66|\n",
      "| Zimbabwe|    India|     0|   2016|2016/06/18|  Harare Sports Club|       NULL|      India|        field| Zimbabwe| 1007655|   0|                  12|                   38|                    1|                  0|                0.32|                   20.4|                   7.23|                  44|                   27|                    1|                  1|                1.63|                  28.86|                   7.96|\n",
      "+---------+---------+------+-------+----------+--------------------+-----------+-----------+-------------+---------+--------+----+--------------------+---------------------+---------------------+-------------------+--------------------+-----------------------+-----------------------+--------------------+---------------------+---------------------+-------------------+--------------------+-----------------------+-----------------------+\n",
      "only showing top 5 rows\n",
      "\n"
     ]
    }
   ],
   "source": [
    "# male 0 female 1\n",
    "\n",
    "matchesflip = matchesflip.withColumn(\"gender\", F.when(matchesflip['gender']==\"male\",0).otherwise(1).cast(\"int\"))\n",
    "matchesflip.show(5)"
   ]
  },
  {
   "cell_type": "code",
   "execution_count": null,
   "metadata": {},
   "outputs": [
    {
     "name": "stdout",
     "output_type": "stream",
     "text": [
      "+--------+----+------+--------------------+---------------------+---------------------+-------------------+--------------------+-----------------------+-----------------------+--------------------+---------------------+---------------------+-------------------+--------------------+-----------------------+-----------------------+\n",
      "|match_id|flip|gender|Cumulative Won team1|Cumulative Lost team1|Cumulative Tied team1|Cumulative NR team1|Cumulative W/L team1|Cumulative AveRPW team1|Cumulative AveRPO team1|Cumulative Won team2|Cumulative Lost team2|Cumulative Tied team2|Cumulative NR team2|Cumulative W/L team2|Cumulative AveRPW team2|Cumulative AveRPO team2|\n",
      "+--------+----+------+--------------------+---------------------+---------------------+-------------------+--------------------+-----------------------+-----------------------+--------------------+---------------------+---------------------+-------------------+--------------------+-----------------------+-----------------------+\n",
      "|  211028|   0|     0|                   0|                    0|                    0|                  0|                 0.0|                    0.0|                    0.0|                   1|                    0|                    0|                  0|                 0.0|                   42.8|                    0.0|\n",
      "|  211028|   1|     0|                   1|                    0|                    0|                  0|                 0.0|                   42.8|                    0.0|                   0|                    0|                    0|                  0|                 0.0|                    0.0|                    0.0|\n",
      "|  211048|   0|     0|                   0|                    0|                    0|                  0|                 0.0|                    0.0|                    0.0|                   0|                    0|                    0|                  0|                 0.0|                    0.0|                    0.0|\n",
      "|  211048|   1|     0|                   0|                    0|                    0|                  0|                 0.0|                    0.0|                    0.0|                   0|                    0|                    0|                  0|                 0.0|                    0.0|                    0.0|\n",
      "|  222678|   0|     0|                   0|                    0|                    0|                  0|                 0.0|                    0.0|                    0.0|                   0|                    1|                    0|                  0|                 0.0|                    0.0|                    8.5|\n",
      "+--------+----+------+--------------------+---------------------+---------------------+-------------------+--------------------+-----------------------+-----------------------+--------------------+---------------------+---------------------+-------------------+--------------------+-----------------------+-----------------------+\n",
      "only showing top 5 rows\n",
      "\n"
     ]
    }
   ],
   "source": [
    "# match_id|flip|gender| season|      date|               venue|       city|toss_winner|toss_decision|   winner|Cumulative Won team1|Cumulative Lost team1|Cumulative Tied team1|Cumulative NR team1|Cumulative W/L team1|Cumulative AveRPW team1|Cumulative AveRPO team1|Cumulative Won team2|Cumulative Lost team2|Cumulative Tied team2|Cumulative NR team2|Cumulative W/L team2|Cumulative AveRPW team2|Cumulative AveRPO team2|\n",
    "\n",
    "matchesflip = matchesflip.select(\"match_id\",\"flip\",\"gender\",\"Cumulative Won team1\",\"Cumulative Lost team1\",\"Cumulative Tied team1\",\"Cumulative NR team1\",\"Cumulative W/L team1\",\"Cumulative AveRPW team1\",\"Cumulative AveRPO team1\",\"Cumulative Won team2\",\"Cumulative Lost team2\",\"Cumulative Tied team2\",\"Cumulative NR team2\",\"Cumulative W/L team2\",\"Cumulative AveRPW team2\",\"Cumulative AveRPO team2\").sort(\"match_id\",'flip')\n",
    "matchesflip.show(5)"
   ]
  },
  {
   "cell_type": "code",
   "execution_count": null,
   "metadata": {},
   "outputs": [],
   "source": [
    "directory = r'D:\\github\\Cricket-Prediction\\data\\3_aftermerging'\n",
    "\n",
    "matchesflip.toPandas().to_csv(directory + r'\\team12Statsflip.csv', index=False)"
   ]
  },
  {
   "cell_type": "code",
   "execution_count": null,
   "metadata": {},
   "outputs": [],
   "source": [
    "print(matchesflip.shape,)"
   ]
  }
 ],
 "metadata": {
  "kernelspec": {
   "display_name": "eda",
   "language": "python",
   "name": "python3"
  },
  "language_info": {
   "codemirror_mode": {
    "name": "ipython",
    "version": 3
   },
   "file_extension": ".py",
   "mimetype": "text/x-python",
   "name": "python",
   "nbconvert_exporter": "python",
   "pygments_lexer": "ipython3",
   "version": "3.8.19"
  }
 },
 "nbformat": 4,
 "nbformat_minor": 2
}
