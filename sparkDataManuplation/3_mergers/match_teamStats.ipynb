{
 "cells": [
  {
   "cell_type": "code",
   "execution_count": 1,
   "metadata": {},
   "outputs": [
    {
     "data": {
      "text/html": [
       "<pre style=\"white-space:pre;overflow-x:auto;line-height:normal;font-family:Menlo,'DejaVu Sans Mono',consolas,'Courier New',monospace\"><span style=\"color: #808000; text-decoration-color: #808000; font-weight: bold\">/home/ravikumar/miniconda3/envs/t20i/lib/python3.12/site-packages/airflow/configuration.py:</span><span style=\"color: #808000; text-decoration-color: #808000; font-weight: bold\">859</span><span style=\"color: #808000; text-decoration-color: #808000; font-weight: bold\"> FutureWarning</span><span style=\"color: #808000; text-decoration-color: #808000\">: section/key </span><span style=\"color: #808000; text-decoration-color: #808000; font-weight: bold\">[</span><span style=\"color: #808000; text-decoration-color: #808000\">core/sql_alchemy_conn</span><span style=\"color: #808000; text-decoration-color: #808000; font-weight: bold\">]</span><span style=\"color: #808000; text-decoration-color: #808000\"> has been deprecated, you should use</span><span style=\"color: #808000; text-decoration-color: #808000; font-weight: bold\">[</span><span style=\"color: #808000; text-decoration-color: #808000\">database/sql_alchemy_conn</span><span style=\"color: #808000; text-decoration-color: #808000; font-weight: bold\">]</span><span style=\"color: #808000; text-decoration-color: #808000\"> instead. Please update your `conf.get*` call to use the new name</span>\n",
       "</pre>\n"
      ],
      "text/plain": [
       "\u001b[1;33m/home/ravikumar/miniconda3/envs/t20i/lib/python3.12/site-packages/airflow/\u001b[0m\u001b[1;33mconfiguration.py\u001b[0m\u001b[1;33m:\u001b[0m\u001b[1;33m859\u001b[0m\u001b[1;33m FutureWarning\u001b[0m\u001b[33m: section/key \u001b[0m\u001b[1;33m[\u001b[0m\u001b[33mcore/sql_alchemy_conn\u001b[0m\u001b[1;33m]\u001b[0m\u001b[33m has been deprecated, you should use\u001b[0m\u001b[1;33m[\u001b[0m\u001b[33mdatabase/sql_alchemy_conn\u001b[0m\u001b[1;33m]\u001b[0m\u001b[33m instead. Please update your `conf.get*` call to use the new name\u001b[0m\n"
      ]
     },
     "metadata": {},
     "output_type": "display_data"
    },
    {
     "name": "stdout",
     "output_type": "stream",
     "text": [
      "[\u001b[34m2024-11-17T20:25:10.224+0530\u001b[0m] {\u001b[34mutils.py:\u001b[0m12} INFO\u001b[0m - Creating Spark session.\u001b[0m\n"
     ]
    },
    {
     "name": "stderr",
     "output_type": "stream",
     "text": [
      "your 131072x1 screen size is bogus. expect trouble\n",
      "24/11/17 20:25:14 WARN NativeCodeLoader: Unable to load native-hadoop library for your platform... using builtin-java classes where applicable\n",
      "24/11/17 20:25:16 WARN Utils: Service 'SparkUI' could not bind on port 4040. Attempting port 4041.\n"
     ]
    },
    {
     "name": "stdout",
     "output_type": "stream",
     "text": [
      "[\u001b[34m2024-11-17T20:25:19.705+0530\u001b[0m] {\u001b[34mutils.py:\u001b[0m30} INFO\u001b[0m - Spark session created successfully.\u001b[0m\n"
     ]
    },
    {
     "name": "stderr",
     "output_type": "stream",
     "text": [
      "                                                                                \r"
     ]
    },
    {
     "name": "stdout",
     "output_type": "stream",
     "text": [
      "+-----------+-------+--------------+---------------+---------------+--------------+-----------------+-----------------+\n",
      "|       Team| Season|Cumulative Won|Cumulative Lost|Cumulative Tied|Cumulative W/L|Cumulative AveRPW|Cumulative AveRPO|\n",
      "+-----------+-------+--------------+---------------+---------------+--------------+-----------------+-----------------+\n",
      "|Afghanistan|2009/10|             0|              0|              0|           0.0|              0.0|              0.0|\n",
      "|Afghanistan|   2010|             4|              2|              0|           2.0|            20.22|             6.89|\n",
      "|Afghanistan|2011/12|             4|              4|              0|           1.0|            17.87|             6.52|\n",
      "|Afghanistan|2012/13|             6|              5|              0|           1.2|            19.18|             6.92|\n",
      "|Afghanistan|2013/14|             8|              7|              0|          1.14|             18.4|             6.82|\n",
      "+-----------+-------+--------------+---------------+---------------+--------------+-----------------+-----------------+\n",
      "only showing top 5 rows\n",
      "\n",
      "+--------+-----------+-----------+------+-------+-----------+\n",
      "|match_id|      team1|      team2|gender| Season|     winner|\n",
      "+--------+-----------+-----------+------+-------+-----------+\n",
      "| 1321267|    Croatia|     Greece|  male|   2022|    Croatia|\n",
      "| 1299583|Philippines|    Germany|  male|2021/22|    Germany|\n",
      "| 1192876|  Sri Lanka|New Zealand|  male|   2019|New Zealand|\n",
      "| 1456442|New Zealand|  Sri Lanka|  male|2024/25|New Zealand|\n",
      "| 1179610|    Namibia|   Botswana|female|   2019|    Namibia|\n",
      "+--------+-----------+-----------+------+-------+-----------+\n",
      "only showing top 5 rows\n",
      "\n"
     ]
    }
   ],
   "source": [
    "import os\n",
    "import sys\n",
    "sys.path.append(os.path.join(os.getcwd(),\"..\",\"..\"))\n",
    "import utils, config\n",
    "\n",
    "spark = utils.create_spark_session('merge_team_stats')\n",
    "\n",
    "directory = config.PROCESSED_DATA_DIR\n",
    "\n",
    "matches = spark.read.csv(os.path.join(directory, 'matches.csv'), header=True, inferSchema=True).withColumnRenamed('season', 'Season')\n",
    "teams = spark.read.csv(os.path.join(directory, 'team_stats.csv'), header=True, inferSchema=True)\n",
    "\n",
    "teams.show(5)\n",
    "matches.show(5)"
   ]
  },
  {
   "cell_type": "code",
   "execution_count": 2,
   "metadata": {},
   "outputs": [
    {
     "name": "stderr",
     "output_type": "stream",
     "text": [
      "                                                                                \r"
     ]
    }
   ],
   "source": [
    "tdt = teams.select(\"Team\").distinct().collect()\n",
    "mdt = matches.select(\"winner\").distinct().collect()"
   ]
  },
  {
   "cell_type": "code",
   "execution_count": 3,
   "metadata": {},
   "outputs": [
    {
     "name": "stdout",
     "output_type": "stream",
     "text": [
      "Row(Team='Czech Rep.')\n",
      "Row(Team='Afghanistan')\n",
      "Row(Team='P.N.G.')\n",
      "Row(Team='Peru')\n",
      "Row(Team='Chile')\n",
      "Row(Team='Cayman')\n",
      "Row(Team='Iran')\n",
      "Row(Team='U.S.A.')\n",
      "Row(Team='Swaziland')\n",
      "Row(Team='World-XI')\n",
      "Row(Team='U.A.E.')\n",
      "Row(Team='South Korea')\n",
      "Row(Team='Mongolia')\n",
      "Row(Team='Slovenia')\n",
      "Row(Team='Mali')\n"
     ]
    }
   ],
   "source": [
    "for i in tdt:\n",
    "    if i not in mdt:\n",
    "        print(i)"
   ]
  },
  {
   "cell_type": "code",
   "execution_count": 4,
   "metadata": {},
   "outputs": [
    {
     "name": "stdout",
     "output_type": "stream",
     "text": [
      "Row(winner='Cayman Islands')\n",
      "Row(winner='Barbados')\n",
      "Row(winner='United States of America')\n",
      "Row(winner='United Arab Emirates')\n",
      "Row(winner='Czech Republic')\n",
      "Row(winner='Papua New Guinea')\n"
     ]
    }
   ],
   "source": [
    "for i in mdt:\n",
    "    if i not in tdt:\n",
    "        print(i)"
   ]
  },
  {
   "cell_type": "code",
   "execution_count": 5,
   "metadata": {},
   "outputs": [
    {
     "name": "stdout",
     "output_type": "stream",
     "text": [
      "Mapped Team Names Dictionary: {'U.S.A.': 'United States of America', 'U.A.E.': 'United Arab Emirates', 'Czech Rep.': 'Czech Republic', 'P.N.G.': 'Papua New Guinea', 'Cayman': 'Cayman Islands'}\n",
      "Unmatched Teams in tdt: ['Czech Rep.', 'Afghanistan', 'P.N.G.', 'Peru', 'Chile', 'Cayman', 'Iran', 'U.S.A.', 'Swaziland', 'World-XI', 'U.A.E.', 'South Korea', 'Mongolia', 'Slovenia', 'Mali']\n",
      "Unmatched Teams in mdt: ['Cayman Islands', 'Barbados', 'United States of America', 'United Arab Emirates', 'Czech Republic', 'Papua New Guinea']\n"
     ]
    }
   ],
   "source": [
    "# Teams that need to be mapped between `tdt` and `mdt`\n",
    "team_name_mapping = {\n",
    "    'U.S.A.': 'United States of America',\n",
    "    'U.A.E.': 'United Arab Emirates',\n",
    "    'Czech Rep.': 'Czech Republic',\n",
    "    'P.N.G.': 'Papua New Guinea',\n",
    "    'Cayman': 'Cayman Islands'\n",
    "}\n",
    "\n",
    "# Teams that do not have a direct match\n",
    "unmatched_tdt = [team[\"Team\"] for team in tdt if team not in mdt and team not in team_name_mapping]\n",
    "unmatched_mdt = [team[\"winner\"] for team in mdt if team not in tdt and team not in team_name_mapping.values()]\n",
    "\n",
    "print(\"Mapped Team Names Dictionary:\", team_name_mapping)\n",
    "print(\"Unmatched Teams in tdt:\", unmatched_tdt)\n",
    "print(\"Unmatched Teams in mdt:\", unmatched_mdt)"
   ]
  },
  {
   "cell_type": "code",
   "execution_count": 6,
   "metadata": {},
   "outputs": [
    {
     "data": {
      "text/plain": [
       "['Czech Rep.',\n",
       " 'Afghanistan',\n",
       " 'P.N.G.',\n",
       " 'Peru',\n",
       " 'Chile',\n",
       " 'Cayman',\n",
       " 'Iran',\n",
       " 'U.S.A.',\n",
       " 'Swaziland',\n",
       " 'World-XI',\n",
       " 'U.A.E.',\n",
       " 'South Korea',\n",
       " 'Mongolia',\n",
       " 'Slovenia',\n",
       " 'Mali',\n",
       " 'Cayman Islands',\n",
       " 'Barbados',\n",
       " 'United States of America',\n",
       " 'United Arab Emirates',\n",
       " 'Czech Republic',\n",
       " 'Papua New Guinea']"
      ]
     },
     "execution_count": 6,
     "metadata": {},
     "output_type": "execute_result"
    }
   ],
   "source": [
    "unmatched_teams = unmatched_tdt + unmatched_mdt\n",
    "unmatched_teams"
   ]
  },
  {
   "cell_type": "code",
   "execution_count": 7,
   "metadata": {},
   "outputs": [
    {
     "name": "stdout",
     "output_type": "stream",
     "text": [
      "914 3687\n",
      "836 3286\n"
     ]
    }
   ],
   "source": [
    "print(teams.count(), matches.count())\n",
    "teams = teams.filter(~teams['Team'].isin(unmatched_teams))\n",
    "matches = matches.filter(~matches['team1'].isin(unmatched_teams)).filter(~matches['team2'].isin(unmatched_teams))\n",
    "print(teams.count(), matches.count())"
   ]
  },
  {
   "cell_type": "code",
   "execution_count": 8,
   "metadata": {},
   "outputs": [],
   "source": [
    "teams = teams.replace(team_name_mapping, subset='Team')\n",
    "matches = matches.replace(team_name_mapping, subset='team1').replace(team_name_mapping, subset='team2').replace(team_name_mapping, subset='winner')"
   ]
  },
  {
   "cell_type": "code",
   "execution_count": 9,
   "metadata": {},
   "outputs": [
    {
     "name": "stdout",
     "output_type": "stream",
     "text": [
      "+--------+-----------+-----------+------+-------+-----------+\n",
      "|match_id|      team1|      team2|gender| Season|     winner|\n",
      "+--------+-----------+-----------+------+-------+-----------+\n",
      "| 1321267|    Croatia|     Greece|  male|   2022|    Croatia|\n",
      "| 1299583|Philippines|    Germany|  male|2021/22|    Germany|\n",
      "| 1192876|  Sri Lanka|New Zealand|  male|   2019|New Zealand|\n",
      "| 1456442|New Zealand|  Sri Lanka|  male|2024/25|New Zealand|\n",
      "| 1179610|    Namibia|   Botswana|female|   2019|    Namibia|\n",
      "+--------+-----------+-----------+------+-------+-----------+\n",
      "only showing top 5 rows\n",
      "\n",
      "+---------+-------+--------------+---------------+---------------+--------------+-----------------+-----------------+\n",
      "|     Team| Season|Cumulative Won|Cumulative Lost|Cumulative Tied|Cumulative W/L|Cumulative AveRPW|Cumulative AveRPO|\n",
      "+---------+-------+--------------+---------------+---------------+--------------+-----------------+-----------------+\n",
      "|Argentina|2019/20|             0|              0|              0|           0.0|              0.0|              0.0|\n",
      "|Argentina|2021/22|             5|              0|              0|           0.0|            17.34|              0.0|\n",
      "|Argentina|2022/23|             7|              4|              0|          1.75|            19.16|             6.26|\n",
      "|Argentina|2023/24|             8|              9|              0|          0.89|            17.05|              6.0|\n",
      "|Argentina|2024/25|            10|              9|              0|          1.11|            18.38|             6.12|\n",
      "+---------+-------+--------------+---------------+---------------+--------------+-----------------+-----------------+\n",
      "only showing top 5 rows\n",
      "\n"
     ]
    }
   ],
   "source": [
    "matches.show(5)\n",
    "teams.show(5)"
   ]
  },
  {
   "cell_type": "code",
   "execution_count": 10,
   "metadata": {},
   "outputs": [
    {
     "name": "stdout",
     "output_type": "stream",
     "text": [
      "+--------+-----------+-----------+------+------------+-----------+--------------+---------------+---------------+--------------+-----------------+-----------------+\n",
      "|match_id|      team1|      team2|gender|Match_Season|     winner|Cumulative Won|Cumulative Lost|Cumulative Tied|Cumulative W/L|Cumulative AveRPW|Cumulative AveRPO|\n",
      "+--------+-----------+-----------+------+------------+-----------+--------------+---------------+---------------+--------------+-----------------+-----------------+\n",
      "| 1321267|    Croatia|     Greece|  male|        2022|    Croatia|             0|              0|              0|           0.0|              0.0|              0.0|\n",
      "| 1299583|Philippines|    Germany|  male|     2021/22|    Germany|             1|              2|              0|           0.5|            11.65|             4.95|\n",
      "| 1192876|  Sri Lanka|New Zealand|  male|        2019|New Zealand|            55|             56|              2|          0.98|            22.71|             7.74|\n",
      "| 1456442|New Zealand|  Sri Lanka|  male|     2024/25|New Zealand|           111|             92|             10|          1.21|             25.3|             8.24|\n",
      "| 1179610|    Namibia|   Botswana|female|        2019|    Namibia|             0|              0|              0|           0.0|              0.0|              0.0|\n",
      "+--------+-----------+-----------+------+------------+-----------+--------------+---------------+---------------+--------------+-----------------+-----------------+\n",
      "only showing top 5 rows\n",
      "\n"
     ]
    }
   ],
   "source": [
    "matches = matches.withColumnRenamed(\"Season\",\"Match_Season\")\n",
    "matches = matches.join(teams, on=[matches['team1'] == teams['Team'], matches['Match_Season'] == teams['Season']], how='inner').drop(\"Team\",\"Season\")\n",
    "matches.show(5)"
   ]
  },
  {
   "cell_type": "code",
   "execution_count": 11,
   "metadata": {},
   "outputs": [
    {
     "name": "stdout",
     "output_type": "stream",
     "text": [
      "+--------+-----------+-----------+------+-----------+--------------------+---------------------+---------------------+--------------------+-----------------------+-----------------------+-------+--------------------+---------------------+---------------------+--------------------+-----------------------+-----------------------+\n",
      "|match_id|      team1|      team2|gender|     winner|Cumulative Won team1|Cumulative Lost team1|Cumulative Tied team1|Cumulative W/L team1|Cumulative AveRPW team1|Cumulative AveRPO team1| Season|Cumulative Won team2|Cumulative Lost team2|Cumulative Tied team2|Cumulative W/L team2|Cumulative AveRPW team2|Cumulative AveRPO team2|\n",
      "+--------+-----------+-----------+------+-----------+--------------------+---------------------+---------------------+--------------------+-----------------------+-----------------------+-------+--------------------+---------------------+---------------------+--------------------+-----------------------+-----------------------+\n",
      "| 1321267|    Croatia|     Greece|  male|    Croatia|                   0|                    0|                    0|                 0.0|                    0.0|                    0.0|   2022|                   3|                    3|                    0|                 1.0|                   23.6|                   8.12|\n",
      "| 1299583|Philippines|    Germany|  male|    Germany|                   1|                    2|                    0|                 0.5|                  11.65|                   4.95|2021/22|                  13|                    7|                    0|                1.86|                  21.28|                   6.94|\n",
      "| 1192876|  Sri Lanka|New Zealand|  male|New Zealand|                  55|                   56|                    2|                0.98|                  22.71|                   7.74|   2019|                  57|                   53|                    5|                1.08|                  24.59|                   8.11|\n",
      "| 1456442|New Zealand|  Sri Lanka|  male|New Zealand|                 111|                   92|                   10|                1.21|                   25.3|                   8.24|2024/25|                  86|                  102|                    5|                0.84|                  22.07|                   7.67|\n",
      "| 1179610|    Namibia|   Botswana|female|    Namibia|                   0|                    0|                    0|                 0.0|                    0.0|                    0.0|   2019|                   0|                    0|                    0|                 0.0|                    0.0|                    0.0|\n",
      "+--------+-----------+-----------+------+-----------+--------------------+---------------------+---------------------+--------------------+-----------------------+-----------------------+-------+--------------------+---------------------+---------------------+--------------------+-----------------------+-----------------------+\n",
      "only showing top 5 rows\n",
      "\n"
     ]
    }
   ],
   "source": [
    "for old_name, new_name in {\n",
    "    \"Cumulative Won\": \"Cumulative Won team1\",\n",
    "    \"Cumulative Lost\": \"Cumulative Lost team1\",\n",
    "    \"Cumulative Tied\": \"Cumulative Tied team1\",\n",
    "    \"Cumulative W/L\": \"Cumulative W/L team1\",\n",
    "    \"Cumulative AveRPW\": \"Cumulative AveRPW team1\", \n",
    "    \"Cumulative AveRPO\": \"Cumulative AveRPO team1\", \n",
    "}.items():\n",
    "    matches = matches.withColumnRenamed(old_name, new_name)\n",
    "\n",
    "matches = matches.join(teams, on=[matches['team2'] == teams['Team'], matches['Match_Season'] == teams['Season']], how='inner').drop(\"Team\",\"Match_Season\")\n",
    "\n",
    "for old_name, new_name in {\n",
    "    \"Cumulative Won\": \"Cumulative Won team2\",\n",
    "    \"Cumulative Lost\": \"Cumulative Lost team2\",\n",
    "    \"Cumulative Tied\": \"Cumulative Tied team2\",\n",
    "    \"Cumulative W/L\": \"Cumulative W/L team2\",\n",
    "    \"Cumulative AveRPW\": \"Cumulative AveRPW team2\",\n",
    "    \"Cumulative AveRPO\": \"Cumulative AveRPO team2\",\n",
    "}.items():\n",
    "    matches = matches.withColumnRenamed(old_name, new_name)\n",
    "\n",
    "matches.show(5)"
   ]
  },
  {
   "cell_type": "code",
   "execution_count": 12,
   "metadata": {},
   "outputs": [
    {
     "name": "stdout",
     "output_type": "stream",
     "text": [
      "+--------+-----------+-----------+------+-----------+--------------------+---------------------+---------------------+--------------------+-----------------------+-----------------------+-------+--------------------+---------------------+---------------------+--------------------+-----------------------+-----------------------+\n",
      "|match_id|      team1|      team2|gender|     winner|Cumulative Won team1|Cumulative Lost team1|Cumulative Tied team1|Cumulative W/L team1|Cumulative AveRPW team1|Cumulative AveRPO team1| Season|Cumulative Won team2|Cumulative Lost team2|Cumulative Tied team2|Cumulative W/L team2|Cumulative AveRPW team2|Cumulative AveRPO team2|\n",
      "+--------+-----------+-----------+------+-----------+--------------------+---------------------+---------------------+--------------------+-----------------------+-----------------------+-------+--------------------+---------------------+---------------------+--------------------+-----------------------+-----------------------+\n",
      "| 1321267|    Croatia|     Greece|     0|    Croatia|                   0|                    0|                    0|                 0.0|                    0.0|                    0.0|   2022|                   3|                    3|                    0|                 1.0|                   23.6|                   8.12|\n",
      "| 1299583|Philippines|    Germany|     0|    Germany|                   1|                    2|                    0|                 0.5|                  11.65|                   4.95|2021/22|                  13|                    7|                    0|                1.86|                  21.28|                   6.94|\n",
      "| 1192876|  Sri Lanka|New Zealand|     0|New Zealand|                  55|                   56|                    2|                0.98|                  22.71|                   7.74|   2019|                  57|                   53|                    5|                1.08|                  24.59|                   8.11|\n",
      "| 1456442|New Zealand|  Sri Lanka|     0|New Zealand|                 111|                   92|                   10|                1.21|                   25.3|                   8.24|2024/25|                  86|                  102|                    5|                0.84|                  22.07|                   7.67|\n",
      "| 1179610|    Namibia|   Botswana|     1|    Namibia|                   0|                    0|                    0|                 0.0|                    0.0|                    0.0|   2019|                   0|                    0|                    0|                 0.0|                    0.0|                    0.0|\n",
      "+--------+-----------+-----------+------+-----------+--------------------+---------------------+---------------------+--------------------+-----------------------+-----------------------+-------+--------------------+---------------------+---------------------+--------------------+-----------------------+-----------------------+\n",
      "only showing top 5 rows\n",
      "\n"
     ]
    }
   ],
   "source": [
    "# male 0 female 1\n",
    "from pyspark.sql import functions as F\n",
    "matches = matches.withColumn(\"gender\", F.when(matches['gender']==\"male\",0).otherwise(1).cast(\"int\"))\n",
    "matches.show(5)"
   ]
  },
  {
   "cell_type": "code",
   "execution_count": 13,
   "metadata": {},
   "outputs": [
    {
     "name": "stdout",
     "output_type": "stream",
     "text": [
      "+--------+------+--------------------+---------------------+---------------------+--------------------+-----------------------+-----------------------+--------------------+---------------------+---------------------+--------------------+-----------------------+-----------------------+\n",
      "|match_id|gender|Cumulative Won team1|Cumulative Lost team1|Cumulative Tied team1|Cumulative W/L team1|Cumulative AveRPW team1|Cumulative AveRPO team1|Cumulative Won team2|Cumulative Lost team2|Cumulative Tied team2|Cumulative W/L team2|Cumulative AveRPW team2|Cumulative AveRPO team2|\n",
      "+--------+------+--------------------+---------------------+---------------------+--------------------+-----------------------+-----------------------+--------------------+---------------------+---------------------+--------------------+-----------------------+-----------------------+\n",
      "|  211028|     0|                   0|                    0|                    0|                 0.0|                    0.0|                    0.0|                   1|                    0|                    0|                 0.0|                   42.8|                    0.0|\n",
      "|  211048|     0|                   0|                    0|                    0|                 0.0|                    0.0|                    0.0|                   0|                    0|                    0|                 0.0|                    0.0|                    0.0|\n",
      "|  222678|     0|                   0|                    0|                    0|                 0.0|                    0.0|                    0.0|                   0|                    1|                    0|                 0.0|                    0.0|                    8.5|\n",
      "|  225263|     0|                   1|                    0|                    0|                 0.0|                  22.37|                    0.0|                   0|                    0|                    0|                 0.0|                    0.0|                    0.0|\n",
      "|  225271|     0|                   1|                    0|                    0|                 0.0|                  22.37|                    0.0|                   0|                    0|                    0|                 0.0|                    0.0|                    0.0|\n",
      "+--------+------+--------------------+---------------------+---------------------+--------------------+-----------------------+-----------------------+--------------------+---------------------+---------------------+--------------------+-----------------------+-----------------------+\n",
      "only showing top 5 rows\n",
      "\n"
     ]
    },
    {
     "data": {
      "text/plain": [
       "3010"
      ]
     },
     "execution_count": 13,
     "metadata": {},
     "output_type": "execute_result"
    }
   ],
   "source": [
    "# match_id|flip|gender| season|      date|               venue|       city|toss_winner|toss_decision|   winner|Cumulative Won team1|Cumulative Lost team1|Cumulative Tied team1|Cumulative NR team1|Cumulative W/L team1|Cumulative AveRPW team1|Cumulative AveRPO team1|Cumulative Won team2|Cumulative Lost team2|Cumulative Tied team2|Cumulative NR team2|Cumulative W/L team2|Cumulative AveRPW team2|Cumulative AveRPO team2|\n",
    "\n",
    "matches = matches.select(\"match_id\",\"gender\",\"Cumulative Won team1\",\"Cumulative Lost team1\",\"Cumulative Tied team1\",\"Cumulative W/L team1\",\"Cumulative AveRPW team1\",\"Cumulative AveRPO team1\",\"Cumulative Won team2\",\"Cumulative Lost team2\",\"Cumulative Tied team2\",\"Cumulative W/L team2\",\"Cumulative AveRPW team2\",\"Cumulative AveRPO team2\").sort(\"match_id\")\n",
    "matches.show(5)\n",
    "matches.count()"
   ]
  },
  {
   "cell_type": "code",
   "execution_count": 14,
   "metadata": {},
   "outputs": [
    {
     "name": "stderr",
     "output_type": "stream",
     "text": [
      "                                                                                \r"
     ]
    },
    {
     "name": "stdout",
     "output_type": "stream",
     "text": [
      "[\u001b[34m2024-11-17T20:25:55.840+0530\u001b[0m] {\u001b[34mutils.py:\u001b[0m57} INFO\u001b[0m - Successfully wrote data to /usr/ravi/t20/data/3_mergedData/team_stats.csv\u001b[0m\n"
     ]
    }
   ],
   "source": [
    "utils.spark_save_data(matches,config.MERGED_DATA_DIR, \"team_stats.csv\")\n",
    "spark.stop()"
   ]
  }
 ],
 "metadata": {
  "kernelspec": {
   "display_name": "t20i",
   "language": "python",
   "name": "python3"
  },
  "language_info": {
   "codemirror_mode": {
    "name": "ipython",
    "version": 3
   },
   "file_extension": ".py",
   "mimetype": "text/x-python",
   "name": "python",
   "nbconvert_exporter": "python",
   "pygments_lexer": "ipython3",
   "version": "3.12.7"
  }
 },
 "nbformat": 4,
 "nbformat_minor": 2
}
