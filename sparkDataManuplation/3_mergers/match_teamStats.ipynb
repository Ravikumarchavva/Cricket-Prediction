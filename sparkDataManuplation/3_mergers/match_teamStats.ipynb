{
 "cells": [
  {
   "cell_type": "code",
   "execution_count": 168,
   "metadata": {},
   "outputs": [
    {
     "name": "stdout",
     "output_type": "stream",
     "text": [
      "+-----------+-------+--------------+---------------+---------------+-------------+--------------+-----------------+-----------------+\n",
      "|       Team| Season|Cumulative Won|Cumulative Lost|Cumulative Tied|Cumulative NR|Cumulative W/L|Cumulative AveRPW|Cumulative AveRPO|\n",
      "+-----------+-------+--------------+---------------+---------------+-------------+--------------+-----------------+-----------------+\n",
      "|Afghanistan|2009/10|             0|              0|              0|            0|           0.0|              0.0|              0.0|\n",
      "|Afghanistan|   2010|             4|              2|              0|            0|           2.0|            20.22|             6.89|\n",
      "|Afghanistan|2011/12|             4|              4|              0|            0|           1.0|            17.87|             6.52|\n",
      "|Afghanistan|2012/13|             6|              5|              0|            0|           1.2|            19.18|             6.92|\n",
      "|Afghanistan|2013/14|             8|              7|              0|            0|          1.14|             18.4|             6.82|\n",
      "+-----------+-------+--------------+---------------+---------------+-------------+--------------+-----------------+-----------------+\n",
      "only showing top 5 rows\n",
      "\n"
     ]
    }
   ],
   "source": [
    "from pyspark.sql import SparkSession\n",
    "\n",
    "spark = SparkSession.builder.appName(\"Cricket-Prediction\").getOrCreate()\n",
    "\n",
    "directory = r'D:\\github\\Cricket-Prediction\\data\\2_processedData'\n",
    "\n",
    "# Load the data\n",
    "teams = spark.read.csv(directory + r'\\teamStats.csv', header=True, inferSchema=True)\n",
    "matches = spark.read.csv(directory + r'\\matches.csv', header=True, inferSchema=True)\n",
    "teams.show(5)"
   ]
  },
  {
   "cell_type": "code",
   "execution_count": 169,
   "metadata": {},
   "outputs": [],
   "source": [
    "tdt = teams.select(\"Team\").distinct().rdd.map(lambda row: row.Team).collect()\n",
    "mdt = matches.select(\"Team1\").distinct().rdd.map(lambda row: row.Team1).collect()"
   ]
  },
  {
   "cell_type": "code",
   "execution_count": 170,
   "metadata": {},
   "outputs": [
    {
     "name": "stdout",
     "output_type": "stream",
     "text": [
      "Czech Rep.\n",
      "P.N.G.\n",
      "Peru\n",
      "Cayman\n",
      "U.S.A.\n",
      "World-XI\n",
      "U.A.E.\n",
      "ICC World XI\n"
     ]
    }
   ],
   "source": [
    "for i in tdt:\n",
    "    if i not in mdt:\n",
    "        print(i)"
   ]
  },
  {
   "cell_type": "code",
   "execution_count": 171,
   "metadata": {},
   "outputs": [
    {
     "name": "stdout",
     "output_type": "stream",
     "text": [
      "Cayman Islands\n",
      "Barbados\n",
      "United States of America\n",
      "United Arab Emirates\n",
      "Czech Republic\n",
      "Papua New Guinea\n"
     ]
    }
   ],
   "source": [
    "for i in mdt:\n",
    "    if i not in tdt:\n",
    "        print(i)"
   ]
  },
  {
   "cell_type": "code",
   "execution_count": 172,
   "metadata": {},
   "outputs": [
    {
     "name": "stdout",
     "output_type": "stream",
     "text": [
      "Mapped Team Names Dictionary: {'U.S.A.': 'United States of America', 'U.A.E.': 'United Arab Emirates', 'Czech Rep.': 'Czech Republic', 'P.N.G.': 'Papua New Guinea', 'Cayman': 'Cayman Islands'}\n",
      "Unmatched Teams in tdt: ['Peru', 'World-XI', 'ICC World XI']\n",
      "Unmatched Teams in mdt: ['Barbados']\n"
     ]
    }
   ],
   "source": [
    "# Teams that need to be mapped between `tdt` and `mdt`\n",
    "team_name_mapping = {\n",
    "    'U.S.A.': 'United States of America',\n",
    "    'U.A.E.': 'United Arab Emirates',\n",
    "    'Czech Rep.': 'Czech Republic',\n",
    "    'P.N.G.': 'Papua New Guinea',\n",
    "    'Cayman': 'Cayman Islands'\n",
    "}\n",
    "\n",
    "# Teams that do not have a direct match\n",
    "unmatched_tdt = [team for team in tdt if team not in mdt and team not in team_name_mapping]\n",
    "unmatched_mdt = [team for team in mdt if team not in tdt and team not in team_name_mapping.values()]\n",
    "\n",
    "print(\"Mapped Team Names Dictionary:\", team_name_mapping)\n",
    "print(\"Unmatched Teams in tdt:\", unmatched_tdt)\n",
    "print(\"Unmatched Teams in mdt:\", unmatched_mdt)"
   ]
  },
  {
   "cell_type": "code",
   "execution_count": 173,
   "metadata": {},
   "outputs": [
    {
     "data": {
      "text/plain": [
       "['Peru', 'World-XI', 'ICC World XI', 'Barbados']"
      ]
     },
     "execution_count": 173,
     "metadata": {},
     "output_type": "execute_result"
    }
   ],
   "source": [
    "unmatched_teams = unmatched_tdt + unmatched_mdt\n",
    "unmatched_teams"
   ]
  },
  {
   "cell_type": "code",
   "execution_count": 174,
   "metadata": {},
   "outputs": [
    {
     "name": "stdout",
     "output_type": "stream",
     "text": [
      "907 3683\n",
      "904 3676\n"
     ]
    }
   ],
   "source": [
    "print(teams.count(), matches.count())\n",
    "teams = teams.filter(~teams.Team.isin(unmatched_teams))\n",
    "matches = matches.filter(~matches.team1.isin(unmatched_teams)).filter(~matches.team2.isin(unmatched_teams))\n",
    "print(teams.count(), matches.count())"
   ]
  },
  {
   "cell_type": "code",
   "execution_count": 175,
   "metadata": {},
   "outputs": [],
   "source": [
    "teams = teams.replace(team_name_mapping, subset='Team')\n",
    "matches = matches.replace(team_name_mapping, subset='team1').replace(team_name_mapping, subset='team2')"
   ]
  },
  {
   "cell_type": "markdown",
   "metadata": {},
   "source": [
    "# Flipping"
   ]
  },
  {
   "cell_type": "code",
   "execution_count": 176,
   "metadata": {},
   "outputs": [
    {
     "name": "stdout",
     "output_type": "stream",
     "text": [
      "+-----------+------------+------+-------+----------+--------------------+------------+-----------+-------------+-----------+--------+----+\n",
      "|      team1|       team2|gender| season|      date|               venue|        city|toss_winner|toss_decision|     winner|match_id|flip|\n",
      "+-----------+------------+------+-------+----------+--------------------+------------+-----------+-------------+-----------+--------+----+\n",
      "|  Australia|     England|  male|   2005|2005/06/13|       The Rose Bowl| Southampton|    England|          bat|    England|  211028|   1|\n",
      "|    England|   Australia|  male|   2005|2005/06/13|       The Rose Bowl| Southampton|    England|          bat|    England|  211028|   0|\n",
      "|  Australia| New Zealand|  male|2004/05|2005/02/17|           Eden Park|    Auckland|  Australia|          bat|  Australia|  211048|   1|\n",
      "|New Zealand|   Australia|  male|2004/05|2005/02/17|           Eden Park|    Auckland|  Australia|          bat|  Australia|  211048|   0|\n",
      "|New Zealand|South Africa|  male|2005/06|2005/10/21|New Wanderers Sta...|Johannesburg|New Zealand|        field|New Zealand|  222678|   1|\n",
      "+-----------+------------+------+-------+----------+--------------------+------------+-----------+-------------+-----------+--------+----+\n",
      "only showing top 5 rows\n",
      "\n"
     ]
    }
   ],
   "source": [
    "from pyspark.sql import functions as F\n",
    "\n",
    "matches1 = matches\n",
    "matches1 = matches1.withColumn('flip', F.lit(0))\n",
    "matches2 = matches.withColumnRenamed('team1', 'temp_team').withColumnRenamed('team2', 'team1').withColumnRenamed('temp_team', 'team2').select(\n",
    "    ['team1', 'team2', 'gender', 'season', 'date', 'venue', 'city', 'toss_winner', 'toss_decision', 'winner','match_id'])\n",
    "matches2 = matches2.withColumn('flip', F.lit(1))\n",
    "matchesflip = matches1.union(matches2).sort('match_id')\n",
    "matchesflip.show(5)\n"
   ]
  },
  {
   "cell_type": "code",
   "execution_count": 177,
   "metadata": {},
   "outputs": [
    {
     "name": "stdout",
     "output_type": "stream",
     "text": [
      "+---------+---------+------+-------+----------+--------------------+-----------+-----------+-------------+---------+--------+----+--------------+---------------+---------------+-------------+--------------+-----------------+-----------------+\n",
      "|    team1|    team2|gender| season|      date|               venue|       city|toss_winner|toss_decision|   winner|match_id|flip|Cumulative Won|Cumulative Lost|Cumulative Tied|Cumulative NR|Cumulative W/L|Cumulative AveRPW|Cumulative AveRPO|\n",
      "+---------+---------+------+-------+----------+--------------------+-----------+-----------+-------------+---------+--------+----+--------------+---------------+---------------+-------------+--------------+-----------------+-----------------+\n",
      "|Australia|Sri Lanka|  male|2016/17|2017/02/17|Melbourne Cricket...|       NULL|  Sri Lanka|        field|Sri Lanka| 1001349|   0|            46|             41|              2|            1|          1.12|            26.54|             8.36|\n",
      "|Australia|Sri Lanka|  male|2016/17|2017/02/19|Simonds Stadium, ...|   Victoria|  Sri Lanka|        field|Sri Lanka| 1001351|   0|            46|             41|              2|            1|          1.12|            26.54|             8.36|\n",
      "|Australia|Sri Lanka|  male|2016/17|2017/02/22|       Adelaide Oval|       NULL|  Sri Lanka|        field|Australia| 1001353|   0|            46|             41|              2|            1|          1.12|            26.54|             8.36|\n",
      "|  Ireland|Hong Kong|  male|   2016|2016/09/05|Bready Cricket Cl...|Londonderry|  Hong Kong|          bat|Hong Kong| 1004729|   0|            24|             23|              0|            6|          1.04|            20.67|             6.88|\n",
      "| Zimbabwe|    India|  male|   2016|2016/06/18|  Harare Sports Club|       NULL|      India|        field| Zimbabwe| 1007655|   0|            12|             38|              1|            0|          0.32|             20.4|             7.23|\n",
      "+---------+---------+------+-------+----------+--------------------+-----------+-----------+-------------+---------+--------+----+--------------+---------------+---------------+-------------+--------------+-----------------+-----------------+\n",
      "only showing top 5 rows\n",
      "\n"
     ]
    }
   ],
   "source": [
    "matchesflip.join(teams, on=[matchesflip.team1 == teams.Team, matchesflip.season == teams.Season], how='inner').drop(\"Team\",teams.Season).show(5)"
   ]
  },
  {
   "cell_type": "code",
   "execution_count": 178,
   "metadata": {},
   "outputs": [
    {
     "name": "stdout",
     "output_type": "stream",
     "text": [
      "+---------+---------+------+-------+----------+--------------------+-----------+-----------+-------------+---------+--------+----+--------------------+---------------------+---------------------+-------------------+--------------------+-----------------------+-----------------------+\n",
      "|    team1|    team2|gender| season|      date|               venue|       city|toss_winner|toss_decision|   winner|match_id|flip|Cumulative Won team1|Cumulative Lost team1|Cumulative Tied team1|Cumulative NR team1|Cumulative W/L team1|Cumulative AveRPW team1|Cumulative AveRPO team1|\n",
      "+---------+---------+------+-------+----------+--------------------+-----------+-----------+-------------+---------+--------+----+--------------------+---------------------+---------------------+-------------------+--------------------+-----------------------+-----------------------+\n",
      "|Australia|Sri Lanka|  male|2016/17|2017/02/17|Melbourne Cricket...|       NULL|  Sri Lanka|        field|Sri Lanka| 1001349|   0|                  46|                   41|                    2|                  1|                1.12|                  26.54|                   8.36|\n",
      "|Australia|Sri Lanka|  male|2016/17|2017/02/19|Simonds Stadium, ...|   Victoria|  Sri Lanka|        field|Sri Lanka| 1001351|   0|                  46|                   41|                    2|                  1|                1.12|                  26.54|                   8.36|\n",
      "|Australia|Sri Lanka|  male|2016/17|2017/02/22|       Adelaide Oval|       NULL|  Sri Lanka|        field|Australia| 1001353|   0|                  46|                   41|                    2|                  1|                1.12|                  26.54|                   8.36|\n",
      "|  Ireland|Hong Kong|  male|   2016|2016/09/05|Bready Cricket Cl...|Londonderry|  Hong Kong|          bat|Hong Kong| 1004729|   0|                  24|                   23|                    0|                  6|                1.04|                  20.67|                   6.88|\n",
      "| Zimbabwe|    India|  male|   2016|2016/06/18|  Harare Sports Club|       NULL|      India|        field| Zimbabwe| 1007655|   0|                  12|                   38|                    1|                  0|                0.32|                   20.4|                   7.23|\n",
      "+---------+---------+------+-------+----------+--------------------+-----------+-----------+-------------+---------+--------+----+--------------------+---------------------+---------------------+-------------------+--------------------+-----------------------+-----------------------+\n",
      "only showing top 5 rows\n",
      "\n"
     ]
    }
   ],
   "source": [
    "# matchesflip.join(team_data, left_on=['team1','season'], right_on=['Team','Season'], how='inner',suffix='_team1')\n",
    "\n",
    "matchesflip = matchesflip.join(teams, on=[matchesflip.team1 == teams.Team, matchesflip.season == teams.Season], how='inner').drop(\"Team\",teams.Season)\n",
    "matchesflip = matchesflip.withColumnsRenamed({\n",
    "    \"Cumulative Won\": \"Cumulative Won team1\",\n",
    "    \"Cumulative Lost\": \"Cumulative Lost team1\",\n",
    "    \"Cumulative Tied\": \"Cumulative Tied team1\",\n",
    "    \"Cumulative NR\": \"Cumulative NR team1\",\n",
    "    \"Cumulative W/L\": \"Cumulative W/L team1\",\n",
    "    \"Cumulative AveRPW\": \"Cumulative AveRPW team1\", \n",
    "    \"Cumulative AveRPO\": \"Cumulative AveRPO team1\", \n",
    "})\n",
    "matchesflip.show(5)"
   ]
  },
  {
   "cell_type": "code",
   "execution_count": 179,
   "metadata": {},
   "outputs": [
    {
     "name": "stdout",
     "output_type": "stream",
     "text": [
      "+---------+---------+------+-------+----------+--------------------+-----------+-----------+-------------+---------+--------+----+--------------------+---------------------+---------------------+-------------------+--------------------+-----------------------+-----------------------+-------+--------------+---------------+---------------+-------------+--------------+-----------------+-----------------+\n",
      "|    team1|    team2|gender| season|      date|               venue|       city|toss_winner|toss_decision|   winner|match_id|flip|Cumulative Won team1|Cumulative Lost team1|Cumulative Tied team1|Cumulative NR team1|Cumulative W/L team1|Cumulative AveRPW team1|Cumulative AveRPO team1| Season|Cumulative Won|Cumulative Lost|Cumulative Tied|Cumulative NR|Cumulative W/L|Cumulative AveRPW|Cumulative AveRPO|\n",
      "+---------+---------+------+-------+----------+--------------------+-----------+-----------+-------------+---------+--------+----+--------------------+---------------------+---------------------+-------------------+--------------------+-----------------------+-----------------------+-------+--------------+---------------+---------------+-------------+--------------+-----------------+-----------------+\n",
      "|Australia|Sri Lanka|  male|2016/17|2017/02/17|Melbourne Cricket...|       NULL|  Sri Lanka|        field|Sri Lanka| 1001349|   0|                  46|                   41|                    2|                  1|                1.12|                  26.54|                   8.36|2016/17|            46|             39|              1|            1|          1.18|            23.53|             7.63|\n",
      "|Australia|Sri Lanka|  male|2016/17|2017/02/19|Simonds Stadium, ...|   Victoria|  Sri Lanka|        field|Sri Lanka| 1001351|   0|                  46|                   41|                    2|                  1|                1.12|                  26.54|                   8.36|2016/17|            46|             39|              1|            1|          1.18|            23.53|             7.63|\n",
      "|Australia|Sri Lanka|  male|2016/17|2017/02/22|       Adelaide Oval|       NULL|  Sri Lanka|        field|Australia| 1001353|   0|                  46|                   41|                    2|                  1|                1.12|                  26.54|                   8.36|2016/17|            46|             39|              1|            1|          1.18|            23.53|             7.63|\n",
      "|  Ireland|Hong Kong|  male|   2016|2016/09/05|Bready Cricket Cl...|Londonderry|  Hong Kong|          bat|Hong Kong| 1004729|   0|                  24|                   23|                    0|                  6|                1.04|                  20.67|                   6.88|   2016|             8|             12|              0|            0|          0.67|            17.71|             6.66|\n",
      "| Zimbabwe|    India|  male|   2016|2016/06/18|  Harare Sports Club|       NULL|      India|        field| Zimbabwe| 1007655|   0|                  12|                   38|                    1|                  0|                0.32|                   20.4|                   7.23|   2016|            44|             27|              1|            1|          1.63|            28.86|             7.96|\n",
      "+---------+---------+------+-------+----------+--------------------+-----------+-----------+-------------+---------+--------+----+--------------------+---------------------+---------------------+-------------------+--------------------+-----------------------+-----------------------+-------+--------------+---------------+---------------+-------------+--------------+-----------------+-----------------+\n",
      "only showing top 5 rows\n",
      "\n"
     ]
    }
   ],
   "source": [
    "matchesflip.join(teams, on=[matchesflip.team2 == teams.Team, matchesflip.season == teams.Season], how='inner').drop(\"Team\",teams.Season).show(5)"
   ]
  },
  {
   "cell_type": "code",
   "execution_count": 180,
   "metadata": {},
   "outputs": [
    {
     "name": "stdout",
     "output_type": "stream",
     "text": [
      "+---------+---------+------+-------+----------+--------------------+-----------+-----------+-------------+---------+--------+----+--------------------+---------------------+---------------------+-------------------+--------------------+-----------------------+-----------------------+--------------------+---------------------+---------------------+-------------------+--------------------+-----------------------+-----------------------+\n",
      "|    team1|    team2|gender| season|      date|               venue|       city|toss_winner|toss_decision|   winner|match_id|flip|Cumulative Won team1|Cumulative Lost team1|Cumulative Tied team1|Cumulative NR team1|Cumulative W/L team1|Cumulative AveRPW team1|Cumulative AveRPO team1|Cumulative Won team2|Cumulative Lost team2|Cumulative Tied team2|Cumulative NR team2|Cumulative W/L team2|Cumulative AveRPW team2|Cumulative AveRPO team2|\n",
      "+---------+---------+------+-------+----------+--------------------+-----------+-----------+-------------+---------+--------+----+--------------------+---------------------+---------------------+-------------------+--------------------+-----------------------+-----------------------+--------------------+---------------------+---------------------+-------------------+--------------------+-----------------------+-----------------------+\n",
      "|Australia|Sri Lanka|  male|2016/17|2017/02/17|Melbourne Cricket...|       NULL|  Sri Lanka|        field|Sri Lanka| 1001349|   0|                  46|                   41|                    2|                  1|                1.12|                  26.54|                   8.36|                  46|                   39|                    1|                  1|                1.18|                  23.53|                   7.63|\n",
      "|Australia|Sri Lanka|  male|2016/17|2017/02/19|Simonds Stadium, ...|   Victoria|  Sri Lanka|        field|Sri Lanka| 1001351|   0|                  46|                   41|                    2|                  1|                1.12|                  26.54|                   8.36|                  46|                   39|                    1|                  1|                1.18|                  23.53|                   7.63|\n",
      "|Australia|Sri Lanka|  male|2016/17|2017/02/22|       Adelaide Oval|       NULL|  Sri Lanka|        field|Australia| 1001353|   0|                  46|                   41|                    2|                  1|                1.12|                  26.54|                   8.36|                  46|                   39|                    1|                  1|                1.18|                  23.53|                   7.63|\n",
      "|  Ireland|Hong Kong|  male|   2016|2016/09/05|Bready Cricket Cl...|Londonderry|  Hong Kong|          bat|Hong Kong| 1004729|   0|                  24|                   23|                    0|                  6|                1.04|                  20.67|                   6.88|                   8|                   12|                    0|                  0|                0.67|                  17.71|                   6.66|\n",
      "| Zimbabwe|    India|  male|   2016|2016/06/18|  Harare Sports Club|       NULL|      India|        field| Zimbabwe| 1007655|   0|                  12|                   38|                    1|                  0|                0.32|                   20.4|                   7.23|                  44|                   27|                    1|                  1|                1.63|                  28.86|                   7.96|\n",
      "+---------+---------+------+-------+----------+--------------------+-----------+-----------+-------------+---------+--------+----+--------------------+---------------------+---------------------+-------------------+--------------------+-----------------------+-----------------------+--------------------+---------------------+---------------------+-------------------+--------------------+-----------------------+-----------------------+\n",
      "only showing top 5 rows\n",
      "\n"
     ]
    }
   ],
   "source": [
    "\n",
    "teams_renamed = teams.withColumnRenamed(\"Season\", \"Team_Season\")\n",
    "\n",
    "matchesflip = matchesflip.join(teams_renamed, on=[matchesflip.team2 == teams_renamed.Team, matchesflip.season == teams_renamed.Team_Season], how='inner').drop(\"Team\", \"Team_Season\")\n",
    "matchesflip = matchesflip.withColumnsRenamed({\n",
    "    \"Cumulative Won\": \"Cumulative Won team2\",\n",
    "    \"Cumulative Lost\": \"Cumulative Lost team2\",\n",
    "    \"Cumulative Tied\": \"Cumulative Tied team2\",\n",
    "    \"Cumulative NR\": \"Cumulative NR team2\",\n",
    "    \"Cumulative W/L\": \"Cumulative W/L team2\",\n",
    "    \"Cumulative AveRPW\": \"Cumulative AveRPW team2\",\n",
    "    \"Cumulative AveRPO\": \"Cumulative AveRPO team2\",\n",
    "})\n",
    "matchesflip.show(5)"
   ]
  },
  {
   "cell_type": "code",
   "execution_count": 181,
   "metadata": {},
   "outputs": [
    {
     "name": "stdout",
     "output_type": "stream",
     "text": [
      "+---------+---------+------+-------+----------+--------------------+-----------+-----------+-------------+---------+--------+----+--------------------+---------------------+---------------------+-------------------+--------------------+-----------------------+-----------------------+--------------------+---------------------+---------------------+-------------------+--------------------+-----------------------+-----------------------+\n",
      "|    team1|    team2|gender| season|      date|               venue|       city|toss_winner|toss_decision|   winner|match_id|flip|Cumulative Won team1|Cumulative Lost team1|Cumulative Tied team1|Cumulative NR team1|Cumulative W/L team1|Cumulative AveRPW team1|Cumulative AveRPO team1|Cumulative Won team2|Cumulative Lost team2|Cumulative Tied team2|Cumulative NR team2|Cumulative W/L team2|Cumulative AveRPW team2|Cumulative AveRPO team2|\n",
      "+---------+---------+------+-------+----------+--------------------+-----------+-----------+-------------+---------+--------+----+--------------------+---------------------+---------------------+-------------------+--------------------+-----------------------+-----------------------+--------------------+---------------------+---------------------+-------------------+--------------------+-----------------------+-----------------------+\n",
      "|Australia|Sri Lanka|     0|2016/17|2017/02/17|Melbourne Cricket...|       NULL|  Sri Lanka|        field|Sri Lanka| 1001349|   0|                  46|                   41|                    2|                  1|                1.12|                  26.54|                   8.36|                  46|                   39|                    1|                  1|                1.18|                  23.53|                   7.63|\n",
      "|Australia|Sri Lanka|     0|2016/17|2017/02/19|Simonds Stadium, ...|   Victoria|  Sri Lanka|        field|Sri Lanka| 1001351|   0|                  46|                   41|                    2|                  1|                1.12|                  26.54|                   8.36|                  46|                   39|                    1|                  1|                1.18|                  23.53|                   7.63|\n",
      "|Australia|Sri Lanka|     0|2016/17|2017/02/22|       Adelaide Oval|       NULL|  Sri Lanka|        field|Australia| 1001353|   0|                  46|                   41|                    2|                  1|                1.12|                  26.54|                   8.36|                  46|                   39|                    1|                  1|                1.18|                  23.53|                   7.63|\n",
      "|  Ireland|Hong Kong|     0|   2016|2016/09/05|Bready Cricket Cl...|Londonderry|  Hong Kong|          bat|Hong Kong| 1004729|   0|                  24|                   23|                    0|                  6|                1.04|                  20.67|                   6.88|                   8|                   12|                    0|                  0|                0.67|                  17.71|                   6.66|\n",
      "| Zimbabwe|    India|     0|   2016|2016/06/18|  Harare Sports Club|       NULL|      India|        field| Zimbabwe| 1007655|   0|                  12|                   38|                    1|                  0|                0.32|                   20.4|                   7.23|                  44|                   27|                    1|                  1|                1.63|                  28.86|                   7.96|\n",
      "+---------+---------+------+-------+----------+--------------------+-----------+-----------+-------------+---------+--------+----+--------------------+---------------------+---------------------+-------------------+--------------------+-----------------------+-----------------------+--------------------+---------------------+---------------------+-------------------+--------------------+-----------------------+-----------------------+\n",
      "only showing top 5 rows\n",
      "\n"
     ]
    }
   ],
   "source": [
    "# male 0 female 1\n",
    "\n",
    "matchesflip = matchesflip.withColumn(\"gender\", F.when(matchesflip['gender']==\"male\",0).otherwise(1).cast(\"int\"))\n",
    "matchesflip.show(5)"
   ]
  },
  {
   "cell_type": "code",
   "execution_count": 186,
   "metadata": {},
   "outputs": [
    {
     "name": "stdout",
     "output_type": "stream",
     "text": [
      "+--------+----+------+--------------------+---------------------+---------------------+-------------------+--------------------+-----------------------+-----------------------+--------------------+---------------------+---------------------+-------------------+--------------------+-----------------------+-----------------------+\n",
      "|match_id|flip|gender|Cumulative Won team1|Cumulative Lost team1|Cumulative Tied team1|Cumulative NR team1|Cumulative W/L team1|Cumulative AveRPW team1|Cumulative AveRPO team1|Cumulative Won team2|Cumulative Lost team2|Cumulative Tied team2|Cumulative NR team2|Cumulative W/L team2|Cumulative AveRPW team2|Cumulative AveRPO team2|\n",
      "+--------+----+------+--------------------+---------------------+---------------------+-------------------+--------------------+-----------------------+-----------------------+--------------------+---------------------+---------------------+-------------------+--------------------+-----------------------+-----------------------+\n",
      "|  211028|   0|     0|                   0|                    0|                    0|                  0|                 0.0|                    0.0|                    0.0|                   1|                    0|                    0|                  0|                 0.0|                   42.8|                    0.0|\n",
      "|  211028|   1|     0|                   1|                    0|                    0|                  0|                 0.0|                   42.8|                    0.0|                   0|                    0|                    0|                  0|                 0.0|                    0.0|                    0.0|\n",
      "|  211048|   0|     0|                   0|                    0|                    0|                  0|                 0.0|                    0.0|                    0.0|                   0|                    0|                    0|                  0|                 0.0|                    0.0|                    0.0|\n",
      "|  211048|   1|     0|                   0|                    0|                    0|                  0|                 0.0|                    0.0|                    0.0|                   0|                    0|                    0|                  0|                 0.0|                    0.0|                    0.0|\n",
      "|  222678|   0|     0|                   0|                    0|                    0|                  0|                 0.0|                    0.0|                    0.0|                   0|                    1|                    0|                  0|                 0.0|                    0.0|                    8.5|\n",
      "+--------+----+------+--------------------+---------------------+---------------------+-------------------+--------------------+-----------------------+-----------------------+--------------------+---------------------+---------------------+-------------------+--------------------+-----------------------+-----------------------+\n",
      "only showing top 5 rows\n",
      "\n"
     ]
    }
   ],
   "source": [
    "# match_id|flip|gender| season|      date|               venue|       city|toss_winner|toss_decision|   winner|Cumulative Won team1|Cumulative Lost team1|Cumulative Tied team1|Cumulative NR team1|Cumulative W/L team1|Cumulative AveRPW team1|Cumulative AveRPO team1|Cumulative Won team2|Cumulative Lost team2|Cumulative Tied team2|Cumulative NR team2|Cumulative W/L team2|Cumulative AveRPW team2|Cumulative AveRPO team2|\n",
    "\n",
    "matchesflip = matchesflip.select(\"match_id\",\"flip\",\"gender\",\"Cumulative Won team1\",\"Cumulative Lost team1\",\"Cumulative Tied team1\",\"Cumulative NR team1\",\"Cumulative W/L team1\",\"Cumulative AveRPW team1\",\"Cumulative AveRPO team1\",\"Cumulative Won team2\",\"Cumulative Lost team2\",\"Cumulative Tied team2\",\"Cumulative NR team2\",\"Cumulative W/L team2\",\"Cumulative AveRPW team2\",\"Cumulative AveRPO team2\").sort(\"match_id\",'flip')\n",
    "matchesflip.show(5)"
   ]
  },
  {
   "cell_type": "code",
   "execution_count": 187,
   "metadata": {},
   "outputs": [],
   "source": [
    "directory = r'D:\\github\\Cricket-Prediction\\data\\3_aftermerging'\n",
    "\n",
    "matchesflip.toPandas().to_csv(directory + r'\\team12Statsflip.csv', index=False)"
   ]
  },
  {
   "cell_type": "code",
   "execution_count": null,
   "metadata": {},
   "outputs": [],
   "source": []
  }
 ],
 "metadata": {
  "kernelspec": {
   "display_name": "eda",
   "language": "python",
   "name": "python3"
  },
  "language_info": {
   "codemirror_mode": {
    "name": "ipython",
    "version": 3
   },
   "file_extension": ".py",
   "mimetype": "text/x-python",
   "name": "python",
   "nbconvert_exporter": "python",
   "pygments_lexer": "ipython3",
   "version": "3.8.19"
  }
 },
 "nbformat": 4,
 "nbformat_minor": 2
}
