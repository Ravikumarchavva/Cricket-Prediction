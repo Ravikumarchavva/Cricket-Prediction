{
 "cells": [
  {
   "cell_type": "code",
   "execution_count": 28,
   "metadata": {},
   "outputs": [
    {
     "name": "stdout",
     "output_type": "stream",
     "text": [
      "+---------+-------+------------+--------------------+-------------+--------------+--------------+---------------+------+-----------------+---------------+---------------+---------------+--------------+-------------+-------------+--------------+\n",
      "|player_id| Season|      Player|             Country|Cum Mat Total|Cum Inns Total|Cum Runs Total|Cum Batting Ave|Cum SR| Cumulative Overs|Cumulative Runs|Cumulative Wkts|Cumulative Econ|Cumulative Dis|Cumulative Ct|Cumulative St|Cumulative D/I|\n",
      "+---------+-------+------------+--------------------+-------------+--------------+--------------+---------------+------+-----------------+---------------+---------------+---------------+--------------+-------------+-------------+--------------+\n",
      "| c594137f|   2024|    A Shukla|             Croatia|            0|             0|             0|            0.0|   0.0|              0.0|            0.0|            0.0|            0.0|           0.0|          0.0|          0.0|           0.0|\n",
      "| 074acfb4|2023/24|   Asif Khan|United Arab Emirates|            9|             9|           190|          27.14|131.94|              0.0|            0.0|            0.0|            0.0|           1.0|          1.0|          0.0|          0.11|\n",
      "| 57022b64|   2022|  BA Simango|          Mozambique|            2|             1|             0|            0.0|   0.0|              3.0|           21.0|            1.0|            7.0|           0.0|          0.0|          0.0|           0.0|\n",
      "| b56dc5f7|2019/20|BE Hendricks|        South Africa|           10|             3|            18|           11.0| 83.33|33.69999980926514|          303.0|           16.0|           8.91|           3.0|          3.0|          0.0|           0.3|\n",
      "| 75ebfe19|   2024| Baseer Khan|             Austria|            0|             0|             0|            0.0|   0.0|              0.0|            0.0|            0.0|            0.0|           0.0|          0.0|          0.0|           0.0|\n",
      "+---------+-------+------------+--------------------+-------------+--------------+--------------+---------------+------+-----------------+---------------+---------------+---------------+--------------+-------------+-------------+--------------+\n",
      "only showing top 5 rows\n",
      "\n"
     ]
    }
   ],
   "source": [
    "import os\n",
    "from pyspark.sql import SparkSession\n",
    "\n",
    "spark = SparkSession.builder.appName('t20').config('spark.executer.memory', '4g').getOrCreate()\n",
    "\n",
    "directory = '/usr/ravi/t20/data/2_processedData'  # for local\n",
    "# directory = '/app/dataInHandNow/afterpreprocessed'  # for docker\n",
    "\n",
    "matches = spark.read.csv(os.path.join(directory, 'matches.csv'), header=True, inferSchema=True)\n",
    "matchPlayers = spark.read.csv(os.path.join(directory, 'match_players.csv'), header=True, inferSchema=True).sort('match_id')\n",
    "playerStats = spark.read.csv(os.path.join(directory, 'player_stats.csv'), header=True, inferSchema=True)\n",
    "playerStats.show(5)"
   ]
  },
  {
   "cell_type": "code",
   "execution_count": 29,
   "metadata": {},
   "outputs": [
    {
     "name": "stdout",
     "output_type": "stream",
     "text": [
      "+---------+------------+---------+------+--------+----+\n",
      "|  country|      player|player_id|season|match_id|flip|\n",
      "+---------+------------+---------+------+--------+----+\n",
      "|Australia|AC Gilchrist| 2b6e6dec|  2005|  211028|   0|\n",
      "|Australia|  RT Ponting| 7d415ea5|  2005|  211028|   0|\n",
      "|Australia|   ML Hayden| d8699ab7|  2005|  211028|   0|\n",
      "|Australia|   A Symonds| bd77eb62|  2005|  211028|   0|\n",
      "|Australia|   MJ Clarke| f842c2cf|  2005|  211028|   0|\n",
      "+---------+------------+---------+------+--------+----+\n",
      "only showing top 5 rows\n",
      "\n"
     ]
    }
   ],
   "source": [
    "from pyspark.sql import functions as F\n",
    "\n",
    "matchPlayers = matchPlayers.withColumn(\"flip\", F.lit(0))\n",
    "matchPlayers.show(5)"
   ]
  },
  {
   "cell_type": "code",
   "execution_count": 30,
   "metadata": {},
   "outputs": [
    {
     "name": "stderr",
     "output_type": "stream",
     "text": [
      "                                                                                \r"
     ]
    },
    {
     "name": "stdout",
     "output_type": "stream",
     "text": [
      "+--------+----+---------+---------+--------------+------+\n",
      "|match_id|flip|player_id|  country|        player|season|\n",
      "+--------+----+---------+---------+--------------+------+\n",
      "|  211028|   0| 69762509|Australia|     DR Martyn|  2005|\n",
      "|  211028|   0| f842c2cf|Australia|     MJ Clarke|  2005|\n",
      "|  211028|   0| 7d415ea5|Australia|    RT Ponting|  2005|\n",
      "|  211028|   0| 48fd7349|Australia|    MEK Hussey|  2005|\n",
      "|  211028|   0| ee7d0c82|Australia|    GD McGrath|  2005|\n",
      "|  211028|   0| 2b6e6dec|Australia|  AC Gilchrist|  2005|\n",
      "|  211028|   0| 8d0ea930|Australia| MS Kasprowicz|  2005|\n",
      "|  211028|   0| d8699ab7|Australia|     ML Hayden|  2005|\n",
      "|  211028|   0| dd09ff8e|Australia|         B Lee|  2005|\n",
      "|  211028|   0| 74234d66|Australia|  JN Gillespie|  2005|\n",
      "|  211028|   0| bd77eb62|Australia|     A Symonds|  2005|\n",
      "|  211028|   0| b68d14a9|  England|    AJ Strauss|  2005|\n",
      "|  211028|   0| c16d2e28|  England|   SJ Harmison|  2005|\n",
      "|  211028|   0| ea42ddb9|  England|ME Trescothick|  2005|\n",
      "|  211028|   0| 7ee2ce62|  England|    VS Solanki|  2005|\n",
      "|  211028|   0| 6c75310b|  England|       J Lewis|  2005|\n",
      "|  211028|   0| 2e929b99|  England|      GO Jones|  2005|\n",
      "|  211028|   0| 6e1b1ec0|  England|    MP Vaughan|  2005|\n",
      "|  211028|   0| fcbf5a30|  England|       D Gough|  2005|\n",
      "|  211028|   0| a386e91b|  England|PD Collingwood|  2005|\n",
      "|  211028|   0| 39f01cdb|  England|  KP Pietersen|  2005|\n",
      "|  211028|   0| ddc0828d|  England|    A Flintoff|  2005|\n",
      "|  211028|   1| dd09ff8e|Australia|         B Lee|  2005|\n",
      "|  211028|   1| 7d415ea5|Australia|    RT Ponting|  2005|\n",
      "|  211028|   1| bd77eb62|Australia|     A Symonds|  2005|\n",
      "|  211028|   1| 69762509|Australia|     DR Martyn|  2005|\n",
      "|  211028|   1| d8699ab7|Australia|     ML Hayden|  2005|\n",
      "|  211028|   1| f842c2cf|Australia|     MJ Clarke|  2005|\n",
      "|  211028|   1| 74234d66|Australia|  JN Gillespie|  2005|\n",
      "|  211028|   1| 8d0ea930|Australia| MS Kasprowicz|  2005|\n",
      "|  211028|   1| 48fd7349|Australia|    MEK Hussey|  2005|\n",
      "|  211028|   1| 2b6e6dec|Australia|  AC Gilchrist|  2005|\n",
      "|  211028|   1| ee7d0c82|Australia|    GD McGrath|  2005|\n",
      "|  211028|   1| a386e91b|  England|PD Collingwood|  2005|\n",
      "|  211028|   1| 2e929b99|  England|      GO Jones|  2005|\n",
      "|  211028|   1| ea42ddb9|  England|ME Trescothick|  2005|\n",
      "|  211028|   1| 6e1b1ec0|  England|    MP Vaughan|  2005|\n",
      "|  211028|   1| c16d2e28|  England|   SJ Harmison|  2005|\n",
      "|  211028|   1| ddc0828d|  England|    A Flintoff|  2005|\n",
      "|  211028|   1| b68d14a9|  England|    AJ Strauss|  2005|\n",
      "|  211028|   1| fcbf5a30|  England|       D Gough|  2005|\n",
      "|  211028|   1| 39f01cdb|  England|  KP Pietersen|  2005|\n",
      "|  211028|   1| 7ee2ce62|  England|    VS Solanki|  2005|\n",
      "|  211028|   1| 6c75310b|  England|       J Lewis|  2005|\n",
      "+--------+----+---------+---------+--------------+------+\n",
      "only showing top 44 rows\n",
      "\n"
     ]
    }
   ],
   "source": [
    "from pyspark.sql import Window\n",
    "from pyspark.sql.functions import col, lit, row_number\n",
    "\n",
    "# Step 1: Create a window to assign row numbers within each match_id\n",
    "window_spec = Window.partitionBy(\"match_id\").orderBy(\"flip\")\n",
    "\n",
    "# Step 2: Assign row numbers to divide into two teams within each match_id\n",
    "matchPlayers = matchPlayers.withColumn(\"row_num\", row_number().over(window_spec))\n",
    "\n",
    "# Step 3: Split data into Team A and Team B based on row number\n",
    "team_a = matchPlayers.filter(col(\"row_num\") <= 11).withColumn(\"flip\", lit(0))  # Original Team A\n",
    "team_b = matchPlayers.filter(col(\"row_num\") > 11).withColumn(\"flip\", lit(0))  # Original Team B\n",
    "\n",
    "# Step 4: Create swapped teams with opposite order\n",
    "team_b_swapped = team_a.withColumn(\"flip\", lit(1))  # Team B followed by Team A (swapped)\n",
    "team_a_swapped = team_b.withColumn(\"flip\", lit(1))\n",
    "\n",
    "# Step 5: Concatenate the original and swapped dataframes\n",
    "original_teams = team_a.unionByName(team_b).orderBy(\"country\", \"player_id\")  # Order by country and player_id in the original order\n",
    "swapped_teams = team_b_swapped.unionByName(team_a_swapped).orderBy(\"country\")  # Order by country and player_id in the swapped order\n",
    "\n",
    "# Step 6: Combine original and swapped teams, ordering by match_id, flip, and player_id\n",
    "matchPlayers = original_teams.unionByName(swapped_teams).orderBy([\"match_id\", \"flip\", \"country\"])\n",
    "\n",
    "# Select the desired columns and display the result\n",
    "matchPlayers = matchPlayers.select([\"match_id\", \"flip\", \"player_id\", \"country\", \"player\", \"season\"])\n",
    "matchPlayers.show(44)"
   ]
  },
  {
   "cell_type": "code",
   "execution_count": 31,
   "metadata": {},
   "outputs": [
    {
     "name": "stdout",
     "output_type": "stream",
     "text": [
      "+---------+-------+------------+--------------------+-------------+--------------+--------------+---------------+------+-----------------+---------------+---------------+---------------+--------------+-------------+-------------+--------------+\n",
      "|player_id| Season|      Player|             Country|Cum Mat Total|Cum Inns Total|Cum Runs Total|Cum Batting Ave|Cum SR| Cumulative Overs|Cumulative Runs|Cumulative Wkts|Cumulative Econ|Cumulative Dis|Cumulative Ct|Cumulative St|Cumulative D/I|\n",
      "+---------+-------+------------+--------------------+-------------+--------------+--------------+---------------+------+-----------------+---------------+---------------+---------------+--------------+-------------+-------------+--------------+\n",
      "| c594137f|   2024|    A Shukla|             Croatia|            0|             0|             0|            0.0|   0.0|              0.0|            0.0|            0.0|            0.0|           0.0|          0.0|          0.0|           0.0|\n",
      "| 074acfb4|2023/24|   Asif Khan|United Arab Emirates|            9|             9|           190|          27.14|131.94|              0.0|            0.0|            0.0|            0.0|           1.0|          1.0|          0.0|          0.11|\n",
      "| 57022b64|   2022|  BA Simango|          Mozambique|            2|             1|             0|            0.0|   0.0|              3.0|           21.0|            1.0|            7.0|           0.0|          0.0|          0.0|           0.0|\n",
      "| b56dc5f7|2019/20|BE Hendricks|        South Africa|           10|             3|            18|           11.0| 83.33|33.69999980926514|          303.0|           16.0|           8.91|           3.0|          3.0|          0.0|           0.3|\n",
      "| 75ebfe19|   2024| Baseer Khan|             Austria|            0|             0|             0|            0.0|   0.0|              0.0|            0.0|            0.0|            0.0|           0.0|          0.0|          0.0|           0.0|\n",
      "+---------+-------+------------+--------------------+-------------+--------------+--------------+---------------+------+-----------------+---------------+---------------+---------------+--------------+-------------+-------------+--------------+\n",
      "only showing top 5 rows\n",
      "\n"
     ]
    }
   ],
   "source": [
    "playerStats.show(5)"
   ]
  },
  {
   "cell_type": "code",
   "execution_count": 32,
   "metadata": {},
   "outputs": [
    {
     "name": "stderr",
     "output_type": "stream",
     "text": [
      "[Stage 150:======================================>              (221 + 4) / 305]\r"
     ]
    },
    {
     "name": "stdout",
     "output_type": "stream",
     "text": [
      "+---------+-------+--------+----+-----------+--------------+--------------+-----------+-------------+--------------+--------------+---------------+------+----------------+---------------+---------------+---------------+--------------+-------------+-------------+--------------+\n",
      "|player_id| season|match_id|flip|    country|        player|        Player|    Country|Cum Mat Total|Cum Inns Total|Cum Runs Total|Cum Batting Ave|Cum SR|Cumulative Overs|Cumulative Runs|Cumulative Wkts|Cumulative Econ|Cumulative Dis|Cumulative Ct|Cumulative St|Cumulative D/I|\n",
      "+---------+-------+--------+----+-----------+--------------+--------------+-----------+-------------+--------------+--------------+---------------+------+----------------+---------------+---------------+---------------+--------------+-------------+-------------+--------------+\n",
      "| fcbf5a30|   2005|  211028|   0|    England|       D Gough|       D Gough|    England|            0|             0|             0|            0.0|   0.0|             0.0|            0.0|            0.0|            0.0|           0.0|          0.0|          0.0|           0.0|\n",
      "| c16d2e28|   2005|  211028|   0|    England|   SJ Harmison|   SJ Harmison|    England|            0|             0|             0|            0.0|   0.0|             0.0|            0.0|            0.0|            0.0|           0.0|          0.0|          0.0|           0.0|\n",
      "| 2e929b99|   2005|  211028|   0|    England|      GO Jones|      GO Jones|    England|            0|             0|             0|            0.0|   0.0|             0.0|            0.0|            0.0|            0.0|           0.0|          0.0|          0.0|           0.0|\n",
      "| 6e1b1ec0|   2005|  211028|   0|    England|    MP Vaughan|    MP Vaughan|    England|            0|             0|             0|            0.0|   0.0|             0.0|            0.0|            0.0|            0.0|           0.0|          0.0|          0.0|           0.0|\n",
      "| 74234d66|   2005|  211028|   0|  Australia|  JN Gillespie|  JN Gillespie|  Australia|            0|             0|             0|            0.0|   0.0|             0.0|            0.0|            0.0|            0.0|           0.0|          0.0|          0.0|           0.0|\n",
      "| ea42ddb9|   2005|  211028|   0|    England|ME Trescothick|ME Trescothick|    England|            0|             0|             0|            0.0|   0.0|             0.0|            0.0|            0.0|            0.0|           0.0|          0.0|          0.0|           0.0|\n",
      "| 6c75310b|   2005|  211028|   0|    England|       J Lewis|       J Lewis|    England|            0|             0|             0|            0.0|   0.0|             0.0|            0.0|            0.0|            0.0|           0.0|          0.0|          0.0|           0.0|\n",
      "| ea42ddb9|   2005|  211028|   1|    England|ME Trescothick|ME Trescothick|    England|            0|             0|             0|            0.0|   0.0|             0.0|            0.0|            0.0|            0.0|           0.0|          0.0|          0.0|           0.0|\n",
      "| 74234d66|   2005|  211028|   1|  Australia|  JN Gillespie|  JN Gillespie|  Australia|            0|             0|             0|            0.0|   0.0|             0.0|            0.0|            0.0|            0.0|           0.0|          0.0|          0.0|           0.0|\n",
      "| c16d2e28|   2005|  211028|   1|    England|   SJ Harmison|   SJ Harmison|    England|            0|             0|             0|            0.0|   0.0|             0.0|            0.0|            0.0|            0.0|           0.0|          0.0|          0.0|           0.0|\n",
      "| fcbf5a30|   2005|  211028|   1|    England|       D Gough|       D Gough|    England|            0|             0|             0|            0.0|   0.0|             0.0|            0.0|            0.0|            0.0|           0.0|          0.0|          0.0|           0.0|\n",
      "| 6c75310b|   2005|  211028|   1|    England|       J Lewis|       J Lewis|    England|            0|             0|             0|            0.0|   0.0|             0.0|            0.0|            0.0|            0.0|           0.0|          0.0|          0.0|           0.0|\n",
      "| 2e929b99|   2005|  211028|   1|    England|      GO Jones|      GO Jones|    England|            0|             0|             0|            0.0|   0.0|             0.0|            0.0|            0.0|            0.0|           0.0|          0.0|          0.0|           0.0|\n",
      "| 6e1b1ec0|   2005|  211028|   1|    England|    MP Vaughan|    MP Vaughan|    England|            0|             0|             0|            0.0|   0.0|             0.0|            0.0|            0.0|            0.0|           0.0|          0.0|          0.0|           0.0|\n",
      "| f5390243|2004/05|  211048|   0|New Zealand|   CD McMillan|   CD McMillan|New Zealand|            0|             0|             0|            0.0|   0.0|             0.0|            0.0|            0.0|            0.0|           0.0|          0.0|          0.0|           0.0|\n",
      "| 0b130202|2004/05|  211048|   0|New Zealand|     CL Cairns|     CL Cairns|New Zealand|            0|             0|             0|            0.0|   0.0|             0.0|            0.0|            0.0|            0.0|           0.0|          0.0|          0.0|           0.0|\n",
      "| 69762509|2004/05|  211048|   0|  Australia|     DR Martyn|     DR Martyn|  Australia|            0|             0|             0|            0.0|   0.0|             0.0|            0.0|            0.0|            0.0|           0.0|          0.0|          0.0|           0.0|\n",
      "| 7d415ea5|2004/05|  211048|   0|  Australia|    RT Ponting|    RT Ponting|  Australia|            0|             0|             0|            0.0|   0.0|             0.0|            0.0|            0.0|            0.0|           0.0|          0.0|          0.0|           0.0|\n",
      "| 91c984a1|2004/05|  211048|   0|New Zealand|     JW Wilson|     JW Wilson|New Zealand|            0|             0|             0|            0.0|   0.0|             0.0|            0.0|            0.0|            0.0|           0.0|          0.0|          0.0|           0.0|\n",
      "| 525c3f54|2004/05|  211048|   0|New Zealand|      AR Adams|      AR Adams|New Zealand|            0|             0|             0|            0.0|   0.0|             0.0|            0.0|            0.0|            0.0|           0.0|          0.0|          0.0|           0.0|\n",
      "| 43936951|2004/05|  211048|   0|New Zealand|     DR Tuffey|     DR Tuffey|New Zealand|            0|             0|             0|            0.0|   0.0|             0.0|            0.0|            0.0|            0.0|           0.0|          0.0|          0.0|           0.0|\n",
      "| 2498e163|2004/05|  211048|   0|  Australia|      JR Hopes|      JR Hopes|  Australia|            0|             0|             0|            0.0|   0.0|             0.0|            0.0|            0.0|            0.0|           0.0|          0.0|          0.0|           0.0|\n",
      "| eea6b7f1|2004/05|  211048|   0|New Zealand|    SP Fleming|    SP Fleming|New Zealand|            0|             0|             0|            0.0|   0.0|             0.0|            0.0|            0.0|            0.0|           0.0|          0.0|          0.0|           0.0|\n",
      "| fdedb37c|2004/05|  211048|   0|  Australia|     SM Katich|     SM Katich|  Australia|            0|             0|             0|            0.0|   0.0|             0.0|            0.0|            0.0|            0.0|           0.0|          0.0|          0.0|           0.0|\n",
      "| 70542bef|2004/05|  211048|   0|New Zealand|  HJH Marshall|  HJH Marshall|New Zealand|            0|             0|             0|            0.0|   0.0|             0.0|            0.0|            0.0|            0.0|           0.0|          0.0|          0.0|           0.0|\n",
      "| 8d0ea930|2004/05|  211048|   0|  Australia| MS Kasprowicz| MS Kasprowicz|  Australia|            0|             0|             0|            0.0|   0.0|             0.0|            0.0|            0.0|            0.0|           0.0|          0.0|          0.0|           0.0|\n",
      "| 1b668884|2004/05|  211048|   0|New Zealand|   MS Sinclair|   MS Sinclair|New Zealand|            0|             0|             0|            0.0|   0.0|             0.0|            0.0|            0.0|            0.0|           0.0|          0.0|          0.0|           0.0|\n",
      "| ee7d0c82|2004/05|  211048|   0|  Australia|    GD McGrath|    GD McGrath|  Australia|            0|             0|             0|            0.0|   0.0|             0.0|            0.0|            0.0|            0.0|           0.0|          0.0|          0.0|           0.0|\n",
      "| 70542bef|2004/05|  211048|   1|New Zealand|  HJH Marshall|  HJH Marshall|New Zealand|            0|             0|             0|            0.0|   0.0|             0.0|            0.0|            0.0|            0.0|           0.0|          0.0|          0.0|           0.0|\n",
      "| fdedb37c|2004/05|  211048|   1|  Australia|     SM Katich|     SM Katich|  Australia|            0|             0|             0|            0.0|   0.0|             0.0|            0.0|            0.0|            0.0|           0.0|          0.0|          0.0|           0.0|\n",
      "| 0b130202|2004/05|  211048|   1|New Zealand|     CL Cairns|     CL Cairns|New Zealand|            0|             0|             0|            0.0|   0.0|             0.0|            0.0|            0.0|            0.0|           0.0|          0.0|          0.0|           0.0|\n",
      "| 1b668884|2004/05|  211048|   1|New Zealand|   MS Sinclair|   MS Sinclair|New Zealand|            0|             0|             0|            0.0|   0.0|             0.0|            0.0|            0.0|            0.0|           0.0|          0.0|          0.0|           0.0|\n",
      "| 69762509|2004/05|  211048|   1|  Australia|     DR Martyn|     DR Martyn|  Australia|            0|             0|             0|            0.0|   0.0|             0.0|            0.0|            0.0|            0.0|           0.0|          0.0|          0.0|           0.0|\n",
      "| 2498e163|2004/05|  211048|   1|  Australia|      JR Hopes|      JR Hopes|  Australia|            0|             0|             0|            0.0|   0.0|             0.0|            0.0|            0.0|            0.0|           0.0|          0.0|          0.0|           0.0|\n",
      "| 525c3f54|2004/05|  211048|   1|New Zealand|      AR Adams|      AR Adams|New Zealand|            0|             0|             0|            0.0|   0.0|             0.0|            0.0|            0.0|            0.0|           0.0|          0.0|          0.0|           0.0|\n",
      "| 8d0ea930|2004/05|  211048|   1|  Australia| MS Kasprowicz| MS Kasprowicz|  Australia|            0|             0|             0|            0.0|   0.0|             0.0|            0.0|            0.0|            0.0|           0.0|          0.0|          0.0|           0.0|\n",
      "| 43936951|2004/05|  211048|   1|New Zealand|     DR Tuffey|     DR Tuffey|New Zealand|            0|             0|             0|            0.0|   0.0|             0.0|            0.0|            0.0|            0.0|           0.0|          0.0|          0.0|           0.0|\n",
      "| 7d415ea5|2004/05|  211048|   1|  Australia|    RT Ponting|    RT Ponting|  Australia|            0|             0|             0|            0.0|   0.0|             0.0|            0.0|            0.0|            0.0|           0.0|          0.0|          0.0|           0.0|\n",
      "| ee7d0c82|2004/05|  211048|   1|  Australia|    GD McGrath|    GD McGrath|  Australia|            0|             0|             0|            0.0|   0.0|             0.0|            0.0|            0.0|            0.0|           0.0|          0.0|          0.0|           0.0|\n",
      "| f5390243|2004/05|  211048|   1|New Zealand|   CD McMillan|   CD McMillan|New Zealand|            0|             0|             0|            0.0|   0.0|             0.0|            0.0|            0.0|            0.0|           0.0|          0.0|          0.0|           0.0|\n",
      "| 91c984a1|2004/05|  211048|   1|New Zealand|     JW Wilson|     JW Wilson|New Zealand|            0|             0|             0|            0.0|   0.0|             0.0|            0.0|            0.0|            0.0|           0.0|          0.0|          0.0|           0.0|\n",
      "| eea6b7f1|2004/05|  211048|   1|New Zealand|    SP Fleming|    SP Fleming|New Zealand|            0|             0|             0|            0.0|   0.0|             0.0|            0.0|            0.0|            0.0|           0.0|          0.0|          0.0|           0.0|\n",
      "| be4cefab|   2006|  225263|   0|    England|      CMW Read|      CMW Read|    England|            0|             0|             0|            0.0|   0.0|             0.0|            0.0|            0.0|            0.0|           0.0|          0.0|          0.0|           0.0|\n",
      "| b9a3d8c6|   2006|  225263|   0|   Pakistan|Inzamam-ul-Haq|Inzamam-ul-Haq|   Pakistan|            0|             0|             0|            0.0|   0.0|             0.0|            0.0|            0.0|            0.0|           0.0|          0.0|          0.0|           0.0|\n",
      "+---------+-------+--------+----+-----------+--------------+--------------+-----------+-------------+--------------+--------------+---------------+------+----------------+---------------+---------------+---------------+--------------+-------------+-------------+--------------+\n",
      "only showing top 44 rows\n",
      "\n"
     ]
    },
    {
     "name": "stderr",
     "output_type": "stream",
     "text": [
      "                                                                                \r"
     ]
    }
   ],
   "source": [
    "# Include row_num in the join\n",
    "matchPlayersStats = matchPlayers.join(playerStats, on=['player_id','season'], how='inner')\n",
    "matchPlayersStats = matchPlayersStats.sort(\"match_id\", \"flip\")\n",
    "\n",
    "# Display the result starting from the 45th row\n",
    "matchPlayersStats.show(44)"
   ]
  },
  {
   "cell_type": "code",
   "execution_count": 33,
   "metadata": {},
   "outputs": [
    {
     "name": "stderr",
     "output_type": "stream",
     "text": [
      "                                                                                \r"
     ]
    },
    {
     "data": {
      "text/plain": [
       "18"
      ]
     },
     "execution_count": 33,
     "metadata": {},
     "output_type": "execute_result"
    }
   ],
   "source": [
    "match_id = matchPlayersStats.groupBy('match_id').count().filter(col('count') == 44).select('match_id')\n",
    "match_id_list = match_id.collect()\n",
    "len(match_id_list)"
   ]
  },
  {
   "cell_type": "code",
   "execution_count": 34,
   "metadata": {},
   "outputs": [
    {
     "name": "stderr",
     "output_type": "stream",
     "text": [
      "24/11/14 17:04:47 ERROR TransportResponseHandler: Still have 1 requests outstanding when connection from /192.168.245.142:33504 is closed\n",
      "24/11/14 17:04:47 WARN BlockManagerMasterEndpoint: Error trying to remove broadcast 194 from block manager BlockManagerId(4, 192.168.245.142, 38147, None)\n",
      "java.io.IOException: Connection from /192.168.245.142:33504 closed\n",
      "\tat org.apache.spark.network.client.TransportResponseHandler.channelInactive(TransportResponseHandler.java:147)\n",
      "\tat org.apache.spark.network.server.TransportChannelHandler.channelInactive(TransportChannelHandler.java:117)\n",
      "\tat io.netty.channel.AbstractChannelHandlerContext.invokeChannelInactive(AbstractChannelHandlerContext.java:262)\n",
      "\tat io.netty.channel.AbstractChannelHandlerContext.invokeChannelInactive(AbstractChannelHandlerContext.java:248)\n",
      "\tat io.netty.channel.AbstractChannelHandlerContext.fireChannelInactive(AbstractChannelHandlerContext.java:241)\n",
      "\tat io.netty.channel.ChannelInboundHandlerAdapter.channelInactive(ChannelInboundHandlerAdapter.java:81)\n",
      "\tat io.netty.handler.timeout.IdleStateHandler.channelInactive(IdleStateHandler.java:277)\n",
      "\tat io.netty.channel.AbstractChannelHandlerContext.invokeChannelInactive(AbstractChannelHandlerContext.java:262)\n",
      "\tat io.netty.channel.AbstractChannelHandlerContext.invokeChannelInactive(AbstractChannelHandlerContext.java:248)\n",
      "\tat io.netty.channel.AbstractChannelHandlerContext.fireChannelInactive(AbstractChannelHandlerContext.java:241)\n",
      "\tat io.netty.channel.ChannelInboundHandlerAdapter.channelInactive(ChannelInboundHandlerAdapter.java:81)\n",
      "\tat org.apache.spark.network.util.TransportFrameDecoder.channelInactive(TransportFrameDecoder.java:225)\n",
      "\tat io.netty.channel.AbstractChannelHandlerContext.invokeChannelInactive(AbstractChannelHandlerContext.java:262)\n",
      "\tat io.netty.channel.AbstractChannelHandlerContext.invokeChannelInactive(AbstractChannelHandlerContext.java:248)\n",
      "\tat io.netty.channel.AbstractChannelHandlerContext.fireChannelInactive(AbstractChannelHandlerContext.java:241)\n",
      "\tat io.netty.channel.DefaultChannelPipeline$HeadContext.channelInactive(DefaultChannelPipeline.java:1405)\n",
      "\tat io.netty.channel.AbstractChannelHandlerContext.invokeChannelInactive(AbstractChannelHandlerContext.java:262)\n",
      "\tat io.netty.channel.AbstractChannelHandlerContext.invokeChannelInactive(AbstractChannelHandlerContext.java:248)\n",
      "\tat io.netty.channel.DefaultChannelPipeline.fireChannelInactive(DefaultChannelPipeline.java:901)\n",
      "\tat io.netty.channel.AbstractChannel$AbstractUnsafe$7.run(AbstractChannel.java:813)\n",
      "\tat io.netty.util.concurrent.AbstractEventExecutor.safeExecute(AbstractEventExecutor.java:164)\n",
      "\tat io.netty.util.concurrent.SingleThreadEventExecutor.runAllTasks(SingleThreadEventExecutor.java:469)\n",
      "\tat io.netty.channel.nio.NioEventLoop.run(NioEventLoop.java:500)\n",
      "\tat io.netty.util.concurrent.SingleThreadEventExecutor$4.run(SingleThreadEventExecutor.java:986)\n",
      "\tat io.netty.util.internal.ThreadExecutorMap$2.run(ThreadExecutorMap.java:74)\n",
      "\tat io.netty.util.concurrent.FastThreadLocalRunnable.run(FastThreadLocalRunnable.java:30)\n",
      "\tat java.base/java.lang.Thread.run(Thread.java:829)\n",
      "[Stage 183:==================================================>  (217 + 4) / 227]\r"
     ]
    },
    {
     "name": "stdout",
     "output_type": "stream",
     "text": [
      "+---------+-------+--------+----+-----------+----------------+----------------+-----------+-------------+--------------+--------------+---------------+------+----------------+---------------+---------------+---------------+--------------+-------------+-------------+--------------+\n",
      "|player_id| season|match_id|flip|    country|          player|          Player|    Country|Cum Mat Total|Cum Inns Total|Cum Runs Total|Cum Batting Ave|Cum SR|Cumulative Overs|Cumulative Runs|Cumulative Wkts|Cumulative Econ|Cumulative Dis|Cumulative Ct|Cumulative St|Cumulative D/I|\n",
      "+---------+-------+--------+----+-----------+----------------+----------------+-----------+-------------+--------------+--------------+---------------+------+----------------+---------------+---------------+---------------+--------------+-------------+-------------+--------------+\n",
      "| 634a7b21|2016/17| 1074959|   0|Netherlands|       BN Cooper|       BN Cooper|Netherlands|           23|            20|           365|          22.84|111.25|             0.0|            0.0|            0.0|            0.0|          13.0|         13.0|          0.0|          0.59|\n",
      "| 05c2ca46|2016/17| 1074959|   0|Netherlands|RE van der Merwe|RE van der Merwe|Netherlands|            8|             6|            68|          22.17|112.19|            24.0|          161.0|           12.0|           6.86|           5.0|          5.0|          0.0|          0.71|\n",
      "| 0d677597|2016/17| 1074959|   0|Netherlands|       W Barresi|       W Barresi|Netherlands|           32|            31|           596|          23.15|112.85|             0.0|            0.0|            0.0|            0.0|          25.0|         25.0|          0.0|          0.81|\n",
      "| 18261c22|2016/17| 1074959|   0|Netherlands|      SJ Myburgh|      SJ Myburgh|Netherlands|           27|            26|           636|          27.69| 124.3|             0.0|            0.0|            0.0|            0.0|           4.0|          4.0|          0.0|          0.15|\n",
      "| 4557dc54|2016/17| 1074959|   0|Netherlands| PA van Meekeren| PA van Meekeren|Netherlands|           15|             2|             3|            1.5|  25.0|            42.0|          240.0|           14.0|           5.73|           4.0|          4.0|          0.0|          0.29|\n",
      "+---------+-------+--------+----+-----------+----------------+----------------+-----------+-------------+--------------+--------------+---------------+------+----------------+---------------+---------------+---------------+--------------+-------------+-------------+--------------+\n",
      "only showing top 5 rows\n",
      "\n"
     ]
    },
    {
     "name": "stderr",
     "output_type": "stream",
     "text": [
      "                                                                                \r"
     ]
    }
   ],
   "source": [
    "# Extract match_id values from the collected rows\n",
    "match_id_values = [row.match_id for row in match_id_list]\n",
    "\n",
    "# Filter matchPlayersStats using the extracted match_id values\n",
    "matchPlayersStats = matchPlayersStats.filter(col('match_id').isin(match_id_values))\n",
    "matchPlayersStats.show(5)"
   ]
  },
  {
   "cell_type": "code",
   "execution_count": 35,
   "metadata": {},
   "outputs": [
    {
     "name": "stderr",
     "output_type": "stream",
     "text": [
      "24/11/14 17:05:43 WARN TransportChannelHandler: Exception in connection from /192.168.245.142:54574\n",
      "java.io.IOException: Connection reset by peer\n",
      "\tat java.base/sun.nio.ch.FileDispatcherImpl.read0(Native Method)\n",
      "\tat java.base/sun.nio.ch.SocketDispatcher.read(SocketDispatcher.java:39)\n",
      "\tat java.base/sun.nio.ch.IOUtil.readIntoNativeBuffer(IOUtil.java:276)\n",
      "\tat java.base/sun.nio.ch.IOUtil.read(IOUtil.java:233)\n",
      "\tat java.base/sun.nio.ch.IOUtil.read(IOUtil.java:223)\n",
      "\tat java.base/sun.nio.ch.SocketChannelImpl.read(SocketChannelImpl.java:356)\n",
      "\tat io.netty.buffer.PooledByteBuf.setBytes(PooledByteBuf.java:258)\n",
      "\tat io.netty.buffer.AbstractByteBuf.writeBytes(AbstractByteBuf.java:1132)\n",
      "\tat io.netty.buffer.WrappedByteBuf.writeBytes(WrappedByteBuf.java:821)\n",
      "\tat io.netty.channel.socket.nio.NioSocketChannel.doReadBytes(NioSocketChannel.java:350)\n",
      "\tat io.netty.channel.nio.AbstractNioByteChannel$NioByteUnsafe.read(AbstractNioByteChannel.java:151)\n",
      "\tat io.netty.channel.nio.NioEventLoop.processSelectedKey(NioEventLoop.java:722)\n",
      "\tat io.netty.channel.nio.NioEventLoop.processSelectedKeysOptimized(NioEventLoop.java:658)\n",
      "\tat io.netty.channel.nio.NioEventLoop.processSelectedKeys(NioEventLoop.java:584)\n",
      "\tat io.netty.channel.nio.NioEventLoop.run(NioEventLoop.java:496)\n",
      "\tat io.netty.util.concurrent.SingleThreadEventExecutor$4.run(SingleThreadEventExecutor.java:986)\n",
      "\tat io.netty.util.internal.ThreadExecutorMap$2.run(ThreadExecutorMap.java:74)\n",
      "\tat io.netty.util.concurrent.FastThreadLocalRunnable.run(FastThreadLocalRunnable.java:30)\n",
      "\tat java.base/java.lang.Thread.run(Thread.java:829)\n",
      "24/11/14 17:05:43 ERROR TaskSchedulerImpl: Lost executor 0 on 192.168.245.142: Remote RPC client disassociated. Likely due to containers exceeding thresholds, or network issues. Check driver logs for WARN messages.\n",
      "24/11/14 17:05:43 WARN TaskSetManager: Lost task 1.0 in stage 188.0 (TID 2267) (192.168.245.142 executor 0): ExecutorLostFailure (executor 0 exited caused by one of the running tasks) Reason: Remote RPC client disassociated. Likely due to containers exceeding thresholds, or network issues. Check driver logs for WARN messages.\n",
      "                                                                                \r"
     ]
    },
    {
     "name": "stdout",
     "output_type": "stream",
     "text": [
      "+--------+----+-------------+--------------+--------------+---------------+------+-----------------+---------------+---------------+---------------+--------------+-------------+-------------+--------------+\n",
      "|match_id|flip|Cum Mat Total|Cum Inns Total|Cum Runs Total|Cum Batting Ave|Cum SR| Cumulative Overs|Cumulative Runs|Cumulative Wkts|Cumulative Econ|Cumulative Dis|Cumulative Ct|Cumulative St|Cumulative D/I|\n",
      "+--------+----+-------------+--------------+--------------+---------------+------+-----------------+---------------+---------------+---------------+--------------+-------------+-------------+--------------+\n",
      "| 1074959|   0|            2|             2|            13|            6.5|138.88|              7.0|           53.0|            1.0|            8.0|           1.0|          1.0|          0.0|           0.5|\n",
      "| 1074959|   0|            0|             0|             0|            0.0|   0.0|              0.0|            0.0|            0.0|            0.0|           0.0|          0.0|          0.0|           0.0|\n",
      "| 1074959|   0|           11|             5|            38|          12.66|131.03|38.29999923706055|          274.0|            7.0|           7.11|           3.0|          3.0|          0.0|           0.3|\n",
      "| 1074959|   0|           28|             6|            14|            2.5|109.44|86.09999942779541|          637.0|           43.0|           7.35|          12.0|         12.0|          0.0|          0.44|\n",
      "| 1074959|   0|           22|             5|            34|           11.2|118.88|             65.5|          446.0|           23.0|           6.78|           2.0|          2.0|          0.0|           0.1|\n",
      "| 1074959|   0|            0|             0|             0|            0.0|   0.0|              0.0|            0.0|            0.0|            0.0|           0.0|          0.0|          0.0|           0.0|\n",
      "| 1074959|   0|            0|             0|             0|            0.0|   0.0|              0.0|            0.0|            0.0|            0.0|           0.0|          0.0|          0.0|           0.0|\n",
      "| 1074959|   0|            8|             6|            68|          22.17|112.19|             24.0|          161.0|           12.0|           6.86|           5.0|          5.0|          0.0|          0.71|\n",
      "| 1074959|   0|           40|            35|           618|          23.41|119.85|87.39999961853027|          603.0|           18.0|           6.95|          27.0|         27.0|          0.0|          0.71|\n",
      "| 1074959|   0|           14|             7|            96|          34.14| 87.49|38.40000009536743|          242.0|           12.0|            6.7|           3.0|          3.0|          0.0|          0.21|\n",
      "| 1074959|   0|            5|             4|            35|           12.5| 91.26|2.399999976158142|           14.0|            1.0|            5.6|           3.0|          3.0|          0.0|           0.6|\n",
      "| 1074959|   0|           12|            11|           269|          24.45|130.84|             22.0|          199.0|            8.0|           9.04|           2.0|          2.0|          0.0|          0.18|\n",
      "| 1074959|   0|           13|             9|            86|          12.18|125.87|              0.0|            0.0|            0.0|            0.0|          13.0|         10.0|          3.0|          1.08|\n",
      "| 1074959|   0|           10|             9|           166|          18.44| 92.12|             22.0|          159.0|            4.0|           7.23|           1.0|          1.0|          0.0|          0.11|\n",
      "| 1074959|   0|            5|             5|            35|           8.75| 85.36|              0.0|            0.0|            0.0|            0.0|           0.0|          0.0|          0.0|           0.0|\n",
      "| 1074959|   0|           27|            26|           636|          27.69| 124.3|              0.0|            0.0|            0.0|            0.0|           4.0|          4.0|          0.0|          0.15|\n",
      "| 1074959|   0|           15|             2|             3|            1.5|  25.0|             42.0|          240.0|           14.0|           5.73|           4.0|          4.0|          0.0|          0.29|\n",
      "| 1074959|   0|           32|            31|           596|          23.15|112.85|              0.0|            0.0|            0.0|            0.0|          25.0|         25.0|          0.0|          0.81|\n",
      "| 1074959|   0|           23|            20|           365|          22.84|111.25|              0.0|            0.0|            0.0|            0.0|          13.0|         13.0|          0.0|          0.59|\n",
      "| 1074959|   0|           36|            15|            61|           5.48| 84.59|             83.0|          539.0|           26.0|           6.66|          16.0|         16.0|          0.0|          0.46|\n",
      "+--------+----+-------------+--------------+--------------+---------------+------+-----------------+---------------+---------------+---------------+--------------+-------------+-------------+--------------+\n",
      "only showing top 20 rows\n",
      "\n"
     ]
    }
   ],
   "source": [
    "matchPlayersStats = matchPlayersStats.drop('country','player','player_id','season','Player','Country')\n",
    "matchPlayersStats.show()"
   ]
  },
  {
   "cell_type": "code",
   "execution_count": 36,
   "metadata": {},
   "outputs": [
    {
     "name": "stderr",
     "output_type": "stream",
     "text": [
      "                                                                                \r"
     ]
    },
    {
     "data": {
      "text/plain": [
       "(792, 15)"
      ]
     },
     "execution_count": 36,
     "metadata": {},
     "output_type": "execute_result"
    }
   ],
   "source": [
    "num_rows = matchPlayersStats.count()\n",
    "num_cols = len(matchPlayersStats.columns)\n",
    "(num_rows, num_cols)"
   ]
  },
  {
   "cell_type": "code",
   "execution_count": 37,
   "metadata": {},
   "outputs": [
    {
     "name": "stderr",
     "output_type": "stream",
     "text": [
      "                                                                                \r"
     ]
    },
    {
     "ename": "Py4JError",
     "evalue": "An error occurred while calling o588.pandasStructHandlingMode. Trace:\npy4j.Py4JException: Method pandasStructHandlingMode([]) does not exist\n\tat py4j.reflection.ReflectionEngine.getMethod(ReflectionEngine.java:318)\n\tat py4j.reflection.ReflectionEngine.getMethod(ReflectionEngine.java:326)\n\tat py4j.Gateway.invoke(Gateway.java:274)\n\tat py4j.commands.AbstractCommand.invokeMethod(AbstractCommand.java:132)\n\tat py4j.commands.CallCommand.execute(CallCommand.java:79)\n\tat py4j.ClientServerConnection.waitForCommands(ClientServerConnection.java:182)\n\tat py4j.ClientServerConnection.run(ClientServerConnection.java:106)\n\tat java.base/java.lang.Thread.run(Thread.java:829)\n\n",
     "output_type": "error",
     "traceback": [
      "\u001b[0;31m---------------------------------------------------------------------------\u001b[0m",
      "\u001b[0;31mPy4JError\u001b[0m                                 Traceback (most recent call last)",
      "Cell \u001b[0;32mIn[37], line 2\u001b[0m\n\u001b[1;32m      1\u001b[0m directory \u001b[38;5;241m=\u001b[39m \u001b[38;5;124mr\u001b[39m\u001b[38;5;124m'\u001b[39m\u001b[38;5;124mD:\u001b[39m\u001b[38;5;124m\\\u001b[39m\u001b[38;5;124mgithub\u001b[39m\u001b[38;5;124m\\\u001b[39m\u001b[38;5;124mCricket-Prediction\u001b[39m\u001b[38;5;124m\\\u001b[39m\u001b[38;5;124mdata\u001b[39m\u001b[38;5;124m\\\u001b[39m\u001b[38;5;124m3_aftermerging\u001b[39m\u001b[38;5;124m'\u001b[39m  \u001b[38;5;66;03m# for local\u001b[39;00m\n\u001b[0;32m----> 2\u001b[0m \u001b[43mmatchPlayersStats\u001b[49m\u001b[38;5;241;43m.\u001b[39;49m\u001b[43mtoPandas\u001b[49m\u001b[43m(\u001b[49m\u001b[43m)\u001b[49m\u001b[38;5;241m.\u001b[39mto_csv(os\u001b[38;5;241m.\u001b[39mpath\u001b[38;5;241m.\u001b[39mjoin(directory, \u001b[38;5;124m'\u001b[39m\u001b[38;5;124mplayersStatsflip.csv\u001b[39m\u001b[38;5;124m'\u001b[39m))\n",
      "File \u001b[0;32m~/miniconda3/envs/t20i/lib/python3.12/site-packages/pyspark/sql/pandas/conversion.py:212\u001b[0m, in \u001b[0;36mPandasConversionMixin.toPandas\u001b[0;34m(self)\u001b[0m\n\u001b[1;32m    210\u001b[0m \u001b[38;5;28;01mif\u001b[39;00m \u001b[38;5;28mlen\u001b[39m(pdf\u001b[38;5;241m.\u001b[39mcolumns) \u001b[38;5;241m>\u001b[39m \u001b[38;5;241m0\u001b[39m:\n\u001b[1;32m    211\u001b[0m     timezone \u001b[38;5;241m=\u001b[39m jconf\u001b[38;5;241m.\u001b[39msessionLocalTimeZone()\n\u001b[0;32m--> 212\u001b[0m     struct_in_pandas \u001b[38;5;241m=\u001b[39m \u001b[43mjconf\u001b[49m\u001b[38;5;241;43m.\u001b[39;49m\u001b[43mpandasStructHandlingMode\u001b[49m\u001b[43m(\u001b[49m\u001b[43m)\u001b[49m\n\u001b[1;32m    214\u001b[0m     \u001b[38;5;28;01mreturn\u001b[39;00m pd\u001b[38;5;241m.\u001b[39mconcat(\n\u001b[1;32m    215\u001b[0m         [\n\u001b[1;32m    216\u001b[0m             _create_converter_to_pandas(\n\u001b[0;32m   (...)\u001b[0m\n\u001b[1;32m    228\u001b[0m         axis\u001b[38;5;241m=\u001b[39m\u001b[38;5;124m\"\u001b[39m\u001b[38;5;124mcolumns\u001b[39m\u001b[38;5;124m\"\u001b[39m,\n\u001b[1;32m    229\u001b[0m     )\n\u001b[1;32m    230\u001b[0m \u001b[38;5;28;01melse\u001b[39;00m:\n",
      "File \u001b[0;32m~/miniconda3/envs/t20i/lib/python3.12/site-packages/py4j/java_gateway.py:1322\u001b[0m, in \u001b[0;36mJavaMember.__call__\u001b[0;34m(self, *args)\u001b[0m\n\u001b[1;32m   1316\u001b[0m command \u001b[38;5;241m=\u001b[39m proto\u001b[38;5;241m.\u001b[39mCALL_COMMAND_NAME \u001b[38;5;241m+\u001b[39m\\\n\u001b[1;32m   1317\u001b[0m     \u001b[38;5;28mself\u001b[39m\u001b[38;5;241m.\u001b[39mcommand_header \u001b[38;5;241m+\u001b[39m\\\n\u001b[1;32m   1318\u001b[0m     args_command \u001b[38;5;241m+\u001b[39m\\\n\u001b[1;32m   1319\u001b[0m     proto\u001b[38;5;241m.\u001b[39mEND_COMMAND_PART\n\u001b[1;32m   1321\u001b[0m answer \u001b[38;5;241m=\u001b[39m \u001b[38;5;28mself\u001b[39m\u001b[38;5;241m.\u001b[39mgateway_client\u001b[38;5;241m.\u001b[39msend_command(command)\n\u001b[0;32m-> 1322\u001b[0m return_value \u001b[38;5;241m=\u001b[39m \u001b[43mget_return_value\u001b[49m\u001b[43m(\u001b[49m\n\u001b[1;32m   1323\u001b[0m \u001b[43m    \u001b[49m\u001b[43manswer\u001b[49m\u001b[43m,\u001b[49m\u001b[43m \u001b[49m\u001b[38;5;28;43mself\u001b[39;49m\u001b[38;5;241;43m.\u001b[39;49m\u001b[43mgateway_client\u001b[49m\u001b[43m,\u001b[49m\u001b[43m \u001b[49m\u001b[38;5;28;43mself\u001b[39;49m\u001b[38;5;241;43m.\u001b[39;49m\u001b[43mtarget_id\u001b[49m\u001b[43m,\u001b[49m\u001b[43m \u001b[49m\u001b[38;5;28;43mself\u001b[39;49m\u001b[38;5;241;43m.\u001b[39;49m\u001b[43mname\u001b[49m\u001b[43m)\u001b[49m\n\u001b[1;32m   1325\u001b[0m \u001b[38;5;28;01mfor\u001b[39;00m temp_arg \u001b[38;5;129;01min\u001b[39;00m temp_args:\n\u001b[1;32m   1326\u001b[0m     \u001b[38;5;28;01mif\u001b[39;00m \u001b[38;5;28mhasattr\u001b[39m(temp_arg, \u001b[38;5;124m\"\u001b[39m\u001b[38;5;124m_detach\u001b[39m\u001b[38;5;124m\"\u001b[39m):\n",
      "File \u001b[0;32m~/miniconda3/envs/t20i/lib/python3.12/site-packages/pyspark/errors/exceptions/captured.py:179\u001b[0m, in \u001b[0;36mcapture_sql_exception.<locals>.deco\u001b[0;34m(*a, **kw)\u001b[0m\n\u001b[1;32m    177\u001b[0m \u001b[38;5;28;01mdef\u001b[39;00m \u001b[38;5;21mdeco\u001b[39m(\u001b[38;5;241m*\u001b[39ma: Any, \u001b[38;5;241m*\u001b[39m\u001b[38;5;241m*\u001b[39mkw: Any) \u001b[38;5;241m-\u001b[39m\u001b[38;5;241m>\u001b[39m Any:\n\u001b[1;32m    178\u001b[0m     \u001b[38;5;28;01mtry\u001b[39;00m:\n\u001b[0;32m--> 179\u001b[0m         \u001b[38;5;28;01mreturn\u001b[39;00m \u001b[43mf\u001b[49m\u001b[43m(\u001b[49m\u001b[38;5;241;43m*\u001b[39;49m\u001b[43ma\u001b[49m\u001b[43m,\u001b[49m\u001b[43m \u001b[49m\u001b[38;5;241;43m*\u001b[39;49m\u001b[38;5;241;43m*\u001b[39;49m\u001b[43mkw\u001b[49m\u001b[43m)\u001b[49m\n\u001b[1;32m    180\u001b[0m     \u001b[38;5;28;01mexcept\u001b[39;00m Py4JJavaError \u001b[38;5;28;01mas\u001b[39;00m e:\n\u001b[1;32m    181\u001b[0m         converted \u001b[38;5;241m=\u001b[39m convert_exception(e\u001b[38;5;241m.\u001b[39mjava_exception)\n",
      "File \u001b[0;32m~/miniconda3/envs/t20i/lib/python3.12/site-packages/py4j/protocol.py:330\u001b[0m, in \u001b[0;36mget_return_value\u001b[0;34m(answer, gateway_client, target_id, name)\u001b[0m\n\u001b[1;32m    326\u001b[0m         \u001b[38;5;28;01mraise\u001b[39;00m Py4JJavaError(\n\u001b[1;32m    327\u001b[0m             \u001b[38;5;124m\"\u001b[39m\u001b[38;5;124mAn error occurred while calling \u001b[39m\u001b[38;5;132;01m{0}\u001b[39;00m\u001b[38;5;132;01m{1}\u001b[39;00m\u001b[38;5;132;01m{2}\u001b[39;00m\u001b[38;5;124m.\u001b[39m\u001b[38;5;130;01m\\n\u001b[39;00m\u001b[38;5;124m\"\u001b[39m\u001b[38;5;241m.\u001b[39m\n\u001b[1;32m    328\u001b[0m             \u001b[38;5;28mformat\u001b[39m(target_id, \u001b[38;5;124m\"\u001b[39m\u001b[38;5;124m.\u001b[39m\u001b[38;5;124m\"\u001b[39m, name), value)\n\u001b[1;32m    329\u001b[0m     \u001b[38;5;28;01melse\u001b[39;00m:\n\u001b[0;32m--> 330\u001b[0m         \u001b[38;5;28;01mraise\u001b[39;00m Py4JError(\n\u001b[1;32m    331\u001b[0m             \u001b[38;5;124m\"\u001b[39m\u001b[38;5;124mAn error occurred while calling \u001b[39m\u001b[38;5;132;01m{0}\u001b[39;00m\u001b[38;5;132;01m{1}\u001b[39;00m\u001b[38;5;132;01m{2}\u001b[39;00m\u001b[38;5;124m. Trace:\u001b[39m\u001b[38;5;130;01m\\n\u001b[39;00m\u001b[38;5;132;01m{3}\u001b[39;00m\u001b[38;5;130;01m\\n\u001b[39;00m\u001b[38;5;124m\"\u001b[39m\u001b[38;5;241m.\u001b[39m\n\u001b[1;32m    332\u001b[0m             \u001b[38;5;28mformat\u001b[39m(target_id, \u001b[38;5;124m\"\u001b[39m\u001b[38;5;124m.\u001b[39m\u001b[38;5;124m\"\u001b[39m, name, value))\n\u001b[1;32m    333\u001b[0m \u001b[38;5;28;01melse\u001b[39;00m:\n\u001b[1;32m    334\u001b[0m     \u001b[38;5;28;01mraise\u001b[39;00m Py4JError(\n\u001b[1;32m    335\u001b[0m         \u001b[38;5;124m\"\u001b[39m\u001b[38;5;124mAn error occurred while calling \u001b[39m\u001b[38;5;132;01m{0}\u001b[39;00m\u001b[38;5;132;01m{1}\u001b[39;00m\u001b[38;5;132;01m{2}\u001b[39;00m\u001b[38;5;124m\"\u001b[39m\u001b[38;5;241m.\u001b[39m\n\u001b[1;32m    336\u001b[0m         \u001b[38;5;28mformat\u001b[39m(target_id, \u001b[38;5;124m\"\u001b[39m\u001b[38;5;124m.\u001b[39m\u001b[38;5;124m\"\u001b[39m, name))\n",
      "\u001b[0;31mPy4JError\u001b[0m: An error occurred while calling o588.pandasStructHandlingMode. Trace:\npy4j.Py4JException: Method pandasStructHandlingMode([]) does not exist\n\tat py4j.reflection.ReflectionEngine.getMethod(ReflectionEngine.java:318)\n\tat py4j.reflection.ReflectionEngine.getMethod(ReflectionEngine.java:326)\n\tat py4j.Gateway.invoke(Gateway.java:274)\n\tat py4j.commands.AbstractCommand.invokeMethod(AbstractCommand.java:132)\n\tat py4j.commands.CallCommand.execute(CallCommand.java:79)\n\tat py4j.ClientServerConnection.waitForCommands(ClientServerConnection.java:182)\n\tat py4j.ClientServerConnection.run(ClientServerConnection.java:106)\n\tat java.base/java.lang.Thread.run(Thread.java:829)\n\n"
     ]
    }
   ],
   "source": [
    "directory = r'D:\\github\\Cricket-Prediction\\data\\3_aftermerging'  # for local\n",
    "matchPlayersStats.toPandas().to_csv(os.path.join(directory, 'playersStatsflip.csv'))"
   ]
  }
 ],
 "metadata": {
  "kernelspec": {
   "display_name": "t20i",
   "language": "python",
   "name": "python3"
  },
  "language_info": {
   "codemirror_mode": {
    "name": "ipython",
    "version": 3
   },
   "file_extension": ".py",
   "mimetype": "text/x-python",
   "name": "python",
   "nbconvert_exporter": "python",
   "pygments_lexer": "ipython3",
   "version": "3.12.7"
  }
 },
 "nbformat": 4,
 "nbformat_minor": 2
}
