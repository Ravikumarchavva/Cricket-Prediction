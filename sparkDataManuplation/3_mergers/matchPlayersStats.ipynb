{
 "cells": [
  {
   "cell_type": "code",
   "execution_count": 51,
   "metadata": {},
   "outputs": [
    {
     "name": "stdout",
     "output_type": "stream",
     "text": [
      "+---------+------------+---------+------+--------+\n",
      "|  country|      player|player_id|season|match_id|\n",
      "+---------+------------+---------+------+--------+\n",
      "|Australia|AC Gilchrist| 2b6e6dec|  2005|  211028|\n",
      "|Australia|  RT Ponting| 7d415ea5|  2005|  211028|\n",
      "|Australia|   ML Hayden| d8699ab7|  2005|  211028|\n",
      "|Australia|   A Symonds| bd77eb62|  2005|  211028|\n",
      "|Australia|   MJ Clarke| f842c2cf|  2005|  211028|\n",
      "+---------+------------+---------+------+--------+\n",
      "only showing top 5 rows\n",
      "\n"
     ]
    }
   ],
   "source": [
    "import os\n",
    "from pyspark.sql import SparkSession\n",
    "\n",
    "spark = SparkSession.builder.appName(\"matchPlayersStats\").getOrCreate()\n",
    "\n",
    "directory = r'D:\\github\\Cricket-Prediction\\data\\2_processedData'  # for local\n",
    "# directory = '/app/dataInHandNow/afterpreprocessed'  # for docker\n",
    "\n",
    "matches = spark.read.csv(os.path.join(directory, 'matches.csv'), header=True, inferSchema=True)\n",
    "matchPlayers = spark.read.csv(os.path.join(directory, 'Matchplayers.csv'), header=True, inferSchema=True).sort('match_id')\n",
    "playerStats = spark.read.csv(os.path.join(directory, 'playerStats.csv'), header=True, inferSchema=True)\n",
    "matchPlayers.show(5)"
   ]
  },
  {
   "cell_type": "code",
   "execution_count": 52,
   "metadata": {},
   "outputs": [
    {
     "name": "stdout",
     "output_type": "stream",
     "text": [
      "+---------+------------+---------+------+--------+----+\n",
      "|  country|      player|player_id|season|match_id|flip|\n",
      "+---------+------------+---------+------+--------+----+\n",
      "|Australia|AC Gilchrist| 2b6e6dec|  2005|  211028|   0|\n",
      "|Australia|  RT Ponting| 7d415ea5|  2005|  211028|   0|\n",
      "|Australia|   ML Hayden| d8699ab7|  2005|  211028|   0|\n",
      "|Australia|   A Symonds| bd77eb62|  2005|  211028|   0|\n",
      "|Australia|   MJ Clarke| f842c2cf|  2005|  211028|   0|\n",
      "+---------+------------+---------+------+--------+----+\n",
      "only showing top 5 rows\n",
      "\n"
     ]
    }
   ],
   "source": [
    "from pyspark.sql import functions as F\n",
    "\n",
    "matchPlayers = matchPlayers.withColumn(\"flip\", F.lit(0))\n",
    "matchPlayers.show(5)"
   ]
  },
  {
   "cell_type": "code",
   "execution_count": 53,
   "metadata": {},
   "outputs": [
    {
     "name": "stdout",
     "output_type": "stream",
     "text": [
      "+--------+----+---------+---------+--------------+------+\n",
      "|match_id|flip|player_id|  country|        player|season|\n",
      "+--------+----+---------+---------+--------------+------+\n",
      "|  211028|   0| bd77eb62|Australia|     A Symonds|  2005|\n",
      "|  211028|   0| 2b6e6dec|Australia|  AC Gilchrist|  2005|\n",
      "|  211028|   0| 69762509|Australia|     DR Martyn|  2005|\n",
      "|  211028|   0| 74234d66|Australia|  JN Gillespie|  2005|\n",
      "|  211028|   0| 7d415ea5|Australia|    RT Ponting|  2005|\n",
      "|  211028|   0| 8d0ea930|Australia| MS Kasprowicz|  2005|\n",
      "|  211028|   0| 48fd7349|Australia|    MEK Hussey|  2005|\n",
      "|  211028|   0| d8699ab7|Australia|     ML Hayden|  2005|\n",
      "|  211028|   0| dd09ff8e|Australia|         B Lee|  2005|\n",
      "|  211028|   0| ee7d0c82|Australia|    GD McGrath|  2005|\n",
      "|  211028|   0| f842c2cf|Australia|     MJ Clarke|  2005|\n",
      "|  211028|   0| 39f01cdb|  England|  KP Pietersen|  2005|\n",
      "|  211028|   0| a386e91b|  England|PD Collingwood|  2005|\n",
      "|  211028|   0| 2e929b99|  England|      GO Jones|  2005|\n",
      "|  211028|   0| 6c75310b|  England|       J Lewis|  2005|\n",
      "|  211028|   0| 6e1b1ec0|  England|    MP Vaughan|  2005|\n",
      "|  211028|   0| 7ee2ce62|  England|    VS Solanki|  2005|\n",
      "|  211028|   0| b68d14a9|  England|    AJ Strauss|  2005|\n",
      "|  211028|   0| c16d2e28|  England|   SJ Harmison|  2005|\n",
      "|  211028|   0| ddc0828d|  England|    A Flintoff|  2005|\n",
      "|  211028|   0| ea42ddb9|  England|ME Trescothick|  2005|\n",
      "|  211028|   0| fcbf5a30|  England|       D Gough|  2005|\n",
      "|  211028|   1| 2b6e6dec|Australia|  AC Gilchrist|  2005|\n",
      "|  211028|   1| d8699ab7|Australia|     ML Hayden|  2005|\n",
      "|  211028|   1| bd77eb62|Australia|     A Symonds|  2005|\n",
      "|  211028|   1| f842c2cf|Australia|     MJ Clarke|  2005|\n",
      "|  211028|   1| 48fd7349|Australia|    MEK Hussey|  2005|\n",
      "|  211028|   1| 7d415ea5|Australia|    RT Ponting|  2005|\n",
      "|  211028|   1| 69762509|Australia|     DR Martyn|  2005|\n",
      "|  211028|   1| dd09ff8e|Australia|         B Lee|  2005|\n",
      "|  211028|   1| 74234d66|Australia|  JN Gillespie|  2005|\n",
      "|  211028|   1| 8d0ea930|Australia| MS Kasprowicz|  2005|\n",
      "|  211028|   1| ee7d0c82|Australia|    GD McGrath|  2005|\n",
      "|  211028|   1| ea42ddb9|  England|ME Trescothick|  2005|\n",
      "|  211028|   1| 2e929b99|  England|      GO Jones|  2005|\n",
      "|  211028|   1| ddc0828d|  England|    A Flintoff|  2005|\n",
      "|  211028|   1| 39f01cdb|  England|  KP Pietersen|  2005|\n",
      "|  211028|   1| 6e1b1ec0|  England|    MP Vaughan|  2005|\n",
      "|  211028|   1| a386e91b|  England|PD Collingwood|  2005|\n",
      "|  211028|   1| b68d14a9|  England|    AJ Strauss|  2005|\n",
      "|  211028|   1| 7ee2ce62|  England|    VS Solanki|  2005|\n",
      "|  211028|   1| 6c75310b|  England|       J Lewis|  2005|\n",
      "|  211028|   1| fcbf5a30|  England|       D Gough|  2005|\n",
      "|  211028|   1| c16d2e28|  England|   SJ Harmison|  2005|\n",
      "+--------+----+---------+---------+--------------+------+\n",
      "only showing top 44 rows\n",
      "\n"
     ]
    }
   ],
   "source": [
    "from pyspark.sql import Window\n",
    "from pyspark.sql.functions import col, lit, row_number\n",
    "\n",
    "# Step 1: Create a window to assign row numbers within each match_id\n",
    "window_spec = Window.partitionBy(\"match_id\").orderBy(\"flip\")\n",
    "\n",
    "# Step 2: Assign row numbers to divide into two teams within each match_id\n",
    "matchPlayers = matchPlayers.withColumn(\"row_num\", row_number().over(window_spec))\n",
    "\n",
    "# Step 3: Split data into Team A and Team B based on row number\n",
    "team_a = matchPlayers.filter(col(\"row_num\") <= 11).withColumn(\"flip\", lit(0))  # Original Team A\n",
    "team_b = matchPlayers.filter(col(\"row_num\") > 11).withColumn(\"flip\", lit(0))  # Original Team B\n",
    "\n",
    "# Step 4: Create swapped teams with opposite order\n",
    "team_b_swapped = team_a.withColumn(\"flip\", lit(1))  # Team B followed by Team A (swapped)\n",
    "team_a_swapped = team_b.withColumn(\"flip\", lit(1))\n",
    "\n",
    "# Step 5: Concatenate the original and swapped dataframes\n",
    "original_teams = team_a.unionByName(team_b).orderBy(\"country\", \"player_id\")  # Order by country and player_id in the original order\n",
    "swapped_teams = team_b_swapped.unionByName(team_a_swapped).orderBy(\"country\")  # Order by country and player_id in the swapped order\n",
    "\n",
    "# Step 6: Combine original and swapped teams, ordering by match_id, flip, and player_id\n",
    "matchPlayers = original_teams.unionByName(swapped_teams).orderBy([\"match_id\", \"flip\", \"country\"])\n",
    "\n",
    "# Select the desired columns and display the result\n",
    "matchPlayers = matchPlayers.select([\"match_id\", \"flip\", \"player_id\", \"country\", \"player\", \"season\"])\n",
    "matchPlayers.show(44)"
   ]
  },
  {
   "cell_type": "code",
   "execution_count": 68,
   "metadata": {},
   "outputs": [
    {
     "name": "stdout",
     "output_type": "stream",
     "text": [
      "+---------+-------+--------+----+-----------+-------------+-------------+-----------+-------------+--------------+--------------+---------------+------+---------------+-----------------+----------------+---------------+---------------+---------------+----------------+-----------------+--------------+-------------+-------------+--------------+\n",
      "|player_id| season|match_id|flip|    country|       player|       Player|    Country|Cum Mat Total|Cum Inns Total|Cum Runs Total|Cum Batting Ave|Cum SR|Cumulative Mat9|Cumulative Inns10|Cumulative Overs|Cumulative Runs|Cumulative Wkts|Cumulative Econ|Cumulative Mat15|Cumulative Inns16|Cumulative Dis|Cumulative Ct|Cumulative St|Cumulative D/I|\n",
      "+---------+-------+--------+----+-----------+-------------+-------------+-----------+-------------+--------------+--------------+---------------+------+---------------+-----------------+----------------+---------------+---------------+---------------+----------------+-----------------+--------------+-------------+-------------+--------------+\n",
      "| 2498e163|2004/05|  211048|   0|  Australia|     JR Hopes|     JR Hopes|  Australia|            0|             0|             0|            0.0|   0.0|              0|              0.0|             0.0|            0.0|            0.0|            0.0|               0|              0.0|           0.0|          0.0|          0.0|           0.0|\n",
      "| 2b6e6dec|2004/05|  211048|   0|  Australia| AC Gilchrist| AC Gilchrist|  Australia|            0|             0|             0|            0.0|   0.0|              0|              0.0|             0.0|            0.0|            0.0|            0.0|               0|              0.0|           0.0|          0.0|          0.0|           0.0|\n",
      "| 48fd7349|2004/05|  211048|   0|  Australia|   MEK Hussey|   MEK Hussey|  Australia|            0|             0|             0|            0.0|   0.0|              0|              0.0|             0.0|            0.0|            0.0|            0.0|               0|              0.0|           0.0|          0.0|          0.0|           0.0|\n",
      "| 69762509|2004/05|  211048|   0|  Australia|    DR Martyn|    DR Martyn|  Australia|            0|             0|             0|            0.0|   0.0|              0|              0.0|             0.0|            0.0|            0.0|            0.0|               0|              0.0|           0.0|          0.0|          0.0|           0.0|\n",
      "| 7d415ea5|2004/05|  211048|   0|  Australia|   RT Ponting|   RT Ponting|  Australia|            0|             0|             0|            0.0|   0.0|              0|              0.0|             0.0|            0.0|            0.0|            0.0|               0|              0.0|           0.0|          0.0|          0.0|           0.0|\n",
      "| 8d0ea930|2004/05|  211048|   0|  Australia|MS Kasprowicz|MS Kasprowicz|  Australia|            0|             0|             0|            0.0|   0.0|              0|              0.0|             0.0|            0.0|            0.0|            0.0|               0|              0.0|           0.0|          0.0|          0.0|           0.0|\n",
      "| bd77eb62|2004/05|  211048|   0|  Australia|    A Symonds|    A Symonds|  Australia|            0|             0|             0|            0.0|   0.0|              0|              0.0|             0.0|            0.0|            0.0|            0.0|               0|              0.0|           0.0|          0.0|          0.0|           0.0|\n",
      "| dd09ff8e|2004/05|  211048|   0|  Australia|        B Lee|        B Lee|  Australia|            0|             0|             0|            0.0|   0.0|              0|              0.0|             0.0|            0.0|            0.0|            0.0|               0|              0.0|           0.0|          0.0|          0.0|           0.0|\n",
      "| ee7d0c82|2004/05|  211048|   0|  Australia|   GD McGrath|   GD McGrath|  Australia|            0|             0|             0|            0.0|   0.0|              0|              0.0|             0.0|            0.0|            0.0|            0.0|               0|              0.0|           0.0|          0.0|          0.0|           0.0|\n",
      "| f842c2cf|2004/05|  211048|   0|  Australia|    MJ Clarke|    MJ Clarke|  Australia|            0|             0|             0|            0.0|   0.0|              0|              0.0|             0.0|            0.0|            0.0|            0.0|               0|              0.0|           0.0|          0.0|          0.0|           0.0|\n",
      "| fdedb37c|2004/05|  211048|   0|  Australia|    SM Katich|    SM Katich|  Australia|            0|             0|             0|            0.0|   0.0|              0|              0.0|             0.0|            0.0|            0.0|            0.0|               0|              0.0|           0.0|          0.0|          0.0|           0.0|\n",
      "| 0b130202|2004/05|  211048|   0|New Zealand|    CL Cairns|    CL Cairns|New Zealand|            0|             0|             0|            0.0|   0.0|              0|              0.0|             0.0|            0.0|            0.0|            0.0|               0|              0.0|           0.0|          0.0|          0.0|           0.0|\n",
      "| 1b668884|2004/05|  211048|   0|New Zealand|  MS Sinclair|  MS Sinclair|New Zealand|            0|             0|             0|            0.0|   0.0|              0|              0.0|             0.0|            0.0|            0.0|            0.0|               0|              0.0|           0.0|          0.0|          0.0|           0.0|\n",
      "| 43936951|2004/05|  211048|   0|New Zealand|    DR Tuffey|    DR Tuffey|New Zealand|            0|             0|             0|            0.0|   0.0|              0|              0.0|             0.0|            0.0|            0.0|            0.0|               0|              0.0|           0.0|          0.0|          0.0|           0.0|\n",
      "| 525c3f54|2004/05|  211048|   0|New Zealand|     AR Adams|     AR Adams|New Zealand|            0|             0|             0|            0.0|   0.0|              0|              0.0|             0.0|            0.0|            0.0|            0.0|               0|              0.0|           0.0|          0.0|          0.0|           0.0|\n",
      "| 57efa3be|2004/05|  211048|   0|New Zealand|    SB Styris|    SB Styris|New Zealand|            0|             0|             0|            0.0|   0.0|              0|              0.0|             0.0|            0.0|            0.0|            0.0|               0|              0.0|           0.0|          0.0|          0.0|           0.0|\n",
      "| 70542bef|2004/05|  211048|   0|New Zealand| HJH Marshall| HJH Marshall|New Zealand|            0|             0|             0|            0.0|   0.0|              0|              0.0|             0.0|            0.0|            0.0|            0.0|               0|              0.0|           0.0|          0.0|          0.0|           0.0|\n",
      "| 7fb32e5b|2004/05|  211048|   0|New Zealand|     KD Mills|     KD Mills|New Zealand|            0|             0|             0|            0.0|   0.0|              0|              0.0|             0.0|            0.0|            0.0|            0.0|               0|              0.0|           0.0|          0.0|          0.0|           0.0|\n",
      "| 91c984a1|2004/05|  211048|   0|New Zealand|    JW Wilson|    JW Wilson|New Zealand|            0|             0|             0|            0.0|   0.0|              0|              0.0|             0.0|            0.0|            0.0|            0.0|               0|              0.0|           0.0|          0.0|          0.0|           0.0|\n",
      "| b8a55852|2004/05|  211048|   0|New Zealand|  BB McCullum|  BB McCullum|New Zealand|            0|             0|             0|            0.0|   0.0|              0|              0.0|             0.0|            0.0|            0.0|            0.0|               0|              0.0|           0.0|          0.0|          0.0|           0.0|\n",
      "| eea6b7f1|2004/05|  211048|   0|New Zealand|   SP Fleming|   SP Fleming|New Zealand|            0|             0|             0|            0.0|   0.0|              0|              0.0|             0.0|            0.0|            0.0|            0.0|               0|              0.0|           0.0|          0.0|          0.0|           0.0|\n",
      "| f5390243|2004/05|  211048|   0|New Zealand|  CD McMillan|  CD McMillan|New Zealand|            0|             0|             0|            0.0|   0.0|              0|              0.0|             0.0|            0.0|            0.0|            0.0|               0|              0.0|           0.0|          0.0|          0.0|           0.0|\n",
      "| 2b6e6dec|2004/05|  211048|   1|  Australia| AC Gilchrist| AC Gilchrist|  Australia|            0|             0|             0|            0.0|   0.0|              0|              0.0|             0.0|            0.0|            0.0|            0.0|               0|              0.0|           0.0|          0.0|          0.0|           0.0|\n",
      "| f842c2cf|2004/05|  211048|   1|  Australia|    MJ Clarke|    MJ Clarke|  Australia|            0|             0|             0|            0.0|   0.0|              0|              0.0|             0.0|            0.0|            0.0|            0.0|               0|              0.0|           0.0|          0.0|          0.0|           0.0|\n",
      "| bd77eb62|2004/05|  211048|   1|  Australia|    A Symonds|    A Symonds|  Australia|            0|             0|             0|            0.0|   0.0|              0|              0.0|             0.0|            0.0|            0.0|            0.0|               0|              0.0|           0.0|          0.0|          0.0|           0.0|\n",
      "| 7d415ea5|2004/05|  211048|   1|  Australia|   RT Ponting|   RT Ponting|  Australia|            0|             0|             0|            0.0|   0.0|              0|              0.0|             0.0|            0.0|            0.0|            0.0|               0|              0.0|           0.0|          0.0|          0.0|           0.0|\n",
      "| 69762509|2004/05|  211048|   1|  Australia|    DR Martyn|    DR Martyn|  Australia|            0|             0|             0|            0.0|   0.0|              0|              0.0|             0.0|            0.0|            0.0|            0.0|               0|              0.0|           0.0|          0.0|          0.0|           0.0|\n",
      "| fdedb37c|2004/05|  211048|   1|  Australia|    SM Katich|    SM Katich|  Australia|            0|             0|             0|            0.0|   0.0|              0|              0.0|             0.0|            0.0|            0.0|            0.0|               0|              0.0|           0.0|          0.0|          0.0|           0.0|\n",
      "| 48fd7349|2004/05|  211048|   1|  Australia|   MEK Hussey|   MEK Hussey|  Australia|            0|             0|             0|            0.0|   0.0|              0|              0.0|             0.0|            0.0|            0.0|            0.0|               0|              0.0|           0.0|          0.0|          0.0|           0.0|\n",
      "| 2498e163|2004/05|  211048|   1|  Australia|     JR Hopes|     JR Hopes|  Australia|            0|             0|             0|            0.0|   0.0|              0|              0.0|             0.0|            0.0|            0.0|            0.0|               0|              0.0|           0.0|          0.0|          0.0|           0.0|\n",
      "| dd09ff8e|2004/05|  211048|   1|  Australia|        B Lee|        B Lee|  Australia|            0|             0|             0|            0.0|   0.0|              0|              0.0|             0.0|            0.0|            0.0|            0.0|               0|              0.0|           0.0|          0.0|          0.0|           0.0|\n",
      "| 8d0ea930|2004/05|  211048|   1|  Australia|MS Kasprowicz|MS Kasprowicz|  Australia|            0|             0|             0|            0.0|   0.0|              0|              0.0|             0.0|            0.0|            0.0|            0.0|               0|              0.0|           0.0|          0.0|          0.0|           0.0|\n",
      "| ee7d0c82|2004/05|  211048|   1|  Australia|   GD McGrath|   GD McGrath|  Australia|            0|             0|             0|            0.0|   0.0|              0|              0.0|             0.0|            0.0|            0.0|            0.0|               0|              0.0|           0.0|          0.0|          0.0|           0.0|\n",
      "| b8a55852|2004/05|  211048|   1|New Zealand|  BB McCullum|  BB McCullum|New Zealand|            0|             0|             0|            0.0|   0.0|              0|              0.0|             0.0|            0.0|            0.0|            0.0|               0|              0.0|           0.0|          0.0|          0.0|           0.0|\n",
      "| eea6b7f1|2004/05|  211048|   1|New Zealand|   SP Fleming|   SP Fleming|New Zealand|            0|             0|             0|            0.0|   0.0|              0|              0.0|             0.0|            0.0|            0.0|            0.0|               0|              0.0|           0.0|          0.0|          0.0|           0.0|\n",
      "| 1b668884|2004/05|  211048|   1|New Zealand|  MS Sinclair|  MS Sinclair|New Zealand|            0|             0|             0|            0.0|   0.0|              0|              0.0|             0.0|            0.0|            0.0|            0.0|               0|              0.0|           0.0|          0.0|          0.0|           0.0|\n",
      "| 57efa3be|2004/05|  211048|   1|New Zealand|    SB Styris|    SB Styris|New Zealand|            0|             0|             0|            0.0|   0.0|              0|              0.0|             0.0|            0.0|            0.0|            0.0|               0|              0.0|           0.0|          0.0|          0.0|           0.0|\n",
      "| f5390243|2004/05|  211048|   1|New Zealand|  CD McMillan|  CD McMillan|New Zealand|            0|             0|             0|            0.0|   0.0|              0|              0.0|             0.0|            0.0|            0.0|            0.0|               0|              0.0|           0.0|          0.0|          0.0|           0.0|\n",
      "| 0b130202|2004/05|  211048|   1|New Zealand|    CL Cairns|    CL Cairns|New Zealand|            0|             0|             0|            0.0|   0.0|              0|              0.0|             0.0|            0.0|            0.0|            0.0|               0|              0.0|           0.0|          0.0|          0.0|           0.0|\n",
      "| 70542bef|2004/05|  211048|   1|New Zealand| HJH Marshall| HJH Marshall|New Zealand|            0|             0|             0|            0.0|   0.0|              0|              0.0|             0.0|            0.0|            0.0|            0.0|               0|              0.0|           0.0|          0.0|          0.0|           0.0|\n",
      "| 525c3f54|2004/05|  211048|   1|New Zealand|     AR Adams|     AR Adams|New Zealand|            0|             0|             0|            0.0|   0.0|              0|              0.0|             0.0|            0.0|            0.0|            0.0|               0|              0.0|           0.0|          0.0|          0.0|           0.0|\n",
      "| 91c984a1|2004/05|  211048|   1|New Zealand|    JW Wilson|    JW Wilson|New Zealand|            0|             0|             0|            0.0|   0.0|              0|              0.0|             0.0|            0.0|            0.0|            0.0|               0|              0.0|           0.0|          0.0|          0.0|           0.0|\n",
      "| 7fb32e5b|2004/05|  211048|   1|New Zealand|     KD Mills|     KD Mills|New Zealand|            0|             0|             0|            0.0|   0.0|              0|              0.0|             0.0|            0.0|            0.0|            0.0|               0|              0.0|           0.0|          0.0|          0.0|           0.0|\n",
      "| 43936951|2004/05|  211048|   1|New Zealand|    DR Tuffey|    DR Tuffey|New Zealand|            0|             0|             0|            0.0|   0.0|              0|              0.0|             0.0|            0.0|            0.0|            0.0|               0|              0.0|           0.0|          0.0|          0.0|           0.0|\n",
      "+---------+-------+--------+----+-----------+-------------+-------------+-----------+-------------+--------------+--------------+---------------+------+---------------+-----------------+----------------+---------------+---------------+---------------+----------------+-----------------+--------------+-------------+-------------+--------------+\n",
      "only showing top 44 rows\n",
      "\n"
     ]
    }
   ],
   "source": [
    "# Include row_num in the join\n",
    "matchPlayersStats = matchPlayers.join(playerStats, on=['player_id','season'], how='inner')\n",
    "matchPlayersStats = matchPlayersStats.sort(\"match_id\", \"flip\")\n",
    "\n",
    "# Display the result starting from the 45th row\n",
    "matchPlayersStats.offset(44).show(44)"
   ]
  },
  {
   "cell_type": "code",
   "execution_count": null,
   "metadata": {},
   "outputs": [
    {
     "data": {
      "text/plain": [
       "1200"
      ]
     },
     "execution_count": 76,
     "metadata": {},
     "output_type": "execute_result"
    }
   ],
   "source": [
    "match_id = matchPlayersStats.groupBy('match_id').count().filter(col('count') == 44).select('match_id')\n",
    "match_id_list = match_id.collect()\n",
    "len(match_id_list)"
   ]
  },
  {
   "cell_type": "code",
   "execution_count": 80,
   "metadata": {},
   "outputs": [
    {
     "name": "stdout",
     "output_type": "stream",
     "text": [
      "+---------+------+--------+----+---------+-------------+-------------+---------+-------------+--------------+--------------+---------------+------+---------------+-----------------+----------------+---------------+---------------+---------------+----------------+-----------------+--------------+-------------+-------------+--------------+\n",
      "|player_id|season|match_id|flip|  country|       player|       Player|  Country|Cum Mat Total|Cum Inns Total|Cum Runs Total|Cum Batting Ave|Cum SR|Cumulative Mat9|Cumulative Inns10|Cumulative Overs|Cumulative Runs|Cumulative Wkts|Cumulative Econ|Cumulative Mat15|Cumulative Inns16|Cumulative Dis|Cumulative Ct|Cumulative St|Cumulative D/I|\n",
      "+---------+------+--------+----+---------+-------------+-------------+---------+-------------+--------------+--------------+---------------+------+---------------+-----------------+----------------+---------------+---------------+---------------+----------------+-----------------+--------------+-------------+-------------+--------------+\n",
      "| 69762509|  2005|  211028|   0|Australia|    DR Martyn|    DR Martyn|Australia|            1|             1|             3|            3.0|  60.0|              1|              0.0|             0.0|            0.0|            0.0|            0.0|               1|              1.0|           0.0|          0.0|          0.0|           0.0|\n",
      "| 8d0ea930|  2005|  211028|   0|Australia|MS Kasprowicz|MS Kasprowicz|Australia|            1|             0|             0|            0.0|   0.0|              1|              1.0|             4.0|           29.0|            4.0|           7.25|               1|              1.0|           1.0|          1.0|          0.0|           1.0|\n",
      "| 2b6e6dec|  2005|  211028|   0|Australia| AC Gilchrist| AC Gilchrist|Australia|            1|             1|             1|            1.0| 33.33|              1|              0.0|             0.0|            0.0|            0.0|            0.0|               1|              1.0|           0.0|          0.0|          0.0|           0.0|\n",
      "| 48fd7349|  2005|  211028|   0|Australia|   MEK Hussey|   MEK Hussey|Australia|            1|             1|            31|           31.0|206.66|              1|              0.0|             0.0|            0.0|            0.0|            0.0|               1|              1.0|           1.0|          1.0|          0.0|           1.0|\n",
      "| 74234d66|  2005|  211028|   0|Australia| JN Gillespie| JN Gillespie|Australia|            0|             0|             0|            0.0|   0.0|              0|              0.0|             0.0|            0.0|            0.0|            0.0|               0|              0.0|           0.0|          0.0|          0.0|           0.0|\n",
      "+---------+------+--------+----+---------+-------------+-------------+---------+-------------+--------------+--------------+---------------+------+---------------+-----------------+----------------+---------------+---------------+---------------+----------------+-----------------+--------------+-------------+-------------+--------------+\n",
      "only showing top 5 rows\n",
      "\n"
     ]
    }
   ],
   "source": [
    "# Extract match_id values from the collected rows\n",
    "match_id_values = [row.match_id for row in match_id_list]\n",
    "\n",
    "# Filter matchPlayersStats using the extracted match_id values\n",
    "matchPlayersStats = matchPlayersStats.filter(col('match_id').isin(match_id_values))\n",
    "matchPlayersStats.show(5)"
   ]
  },
  {
   "cell_type": "code",
   "execution_count": 84,
   "metadata": {},
   "outputs": [
    {
     "name": "stdout",
     "output_type": "stream",
     "text": [
      "+--------+----+-------------+--------------+--------------+---------------+------+---------------+-----------------+----------------+---------------+---------------+---------------+----------------+-----------------+--------------+-------------+-------------+--------------+\n",
      "|match_id|flip|Cum Mat Total|Cum Inns Total|Cum Runs Total|Cum Batting Ave|Cum SR|Cumulative Mat9|Cumulative Inns10|Cumulative Overs|Cumulative Runs|Cumulative Wkts|Cumulative Econ|Cumulative Mat15|Cumulative Inns16|Cumulative Dis|Cumulative Ct|Cumulative St|Cumulative D/I|\n",
      "+--------+----+-------------+--------------+--------------+---------------+------+---------------+-----------------+----------------+---------------+---------------+---------------+----------------+-----------------+--------------+-------------+-------------+--------------+\n",
      "|  211028|   0|            1|             1|             1|            1.0| 33.33|              1|              0.0|             0.0|            0.0|            0.0|            0.0|               1|              1.0|           0.0|          0.0|          0.0|           0.0|\n",
      "|  211028|   0|            1|             1|            31|           31.0|206.66|              1|              0.0|             0.0|            0.0|            0.0|            0.0|               1|              1.0|           1.0|          1.0|          0.0|           1.0|\n",
      "|  211028|   0|            1|             1|             3|            3.0|  60.0|              1|              0.0|             0.0|            0.0|            0.0|            0.0|               1|              1.0|           0.0|          0.0|          0.0|           0.0|\n",
      "|  211028|   0|            0|             0|             0|            0.0|   0.0|              0|              0.0|             0.0|            0.0|            0.0|            0.0|               0|              0.0|           0.0|          0.0|          0.0|           0.0|\n",
      "|  211028|   0|            1|             1|            98|           98.0|178.18|              1|              0.0|             0.0|            0.0|            0.0|            0.0|               1|              1.0|           1.0|          1.0|          0.0|           1.0|\n",
      "|  211028|   0|            1|             0|             0|            0.0|   0.0|              1|              1.0|             4.0|           29.0|            4.0|           7.25|               1|              1.0|           1.0|          1.0|          0.0|           1.0|\n",
      "|  211028|   0|            1|             1|            32|           32.0|246.15|              1|              1.0|             3.0|           33.0|            1.0|           11.0|               1|              1.0|           0.0|          0.0|          0.0|           0.0|\n",
      "|  211028|   0|            0|             0|             0|            0.0|   0.0|              0|              0.0|             0.0|            0.0|            0.0|            0.0|               0|              0.0|           0.0|          0.0|          0.0|           0.0|\n",
      "|  211028|   0|            1|             0|             0|            0.0|   0.0|              1|              1.0|             4.0|           26.0|            1.0|            6.5|               1|              1.0|           0.0|          0.0|          0.0|           0.0|\n",
      "|  211028|   0|            1|             0|             0|            0.0|   0.0|              1|              1.0|             4.0|           48.0|            2.0|           12.0|               1|              1.0|           1.0|          1.0|          0.0|           1.0|\n",
      "|  211028|   0|            1|             1|             7|            7.0| 175.0|              1|              1.0|             2.0|           11.0|            0.0|            5.5|               1|              1.0|           0.0|          0.0|          0.0|           0.0|\n",
      "|  211028|   0|            0|             0|             0|            0.0|   0.0|              0|              0.0|             0.0|            0.0|            0.0|            0.0|               0|              0.0|           0.0|          0.0|          0.0|           0.0|\n",
      "|  211028|   0|            0|             0|             0|            0.0|   0.0|              0|              0.0|             0.0|            0.0|            0.0|            0.0|               0|              0.0|           0.0|          0.0|          0.0|           0.0|\n",
      "|  211028|   0|            0|             0|             0|            0.0|   0.0|              0|              0.0|             0.0|            0.0|            0.0|            0.0|               0|              0.0|           0.0|          0.0|          0.0|           0.0|\n",
      "|  211028|   0|            0|             0|             0|            0.0|   0.0|              0|              0.0|             0.0|            0.0|            0.0|            0.0|               0|              0.0|           0.0|          0.0|          0.0|           0.0|\n",
      "|  211028|   0|            0|             0|             0|            0.0|   0.0|              0|              0.0|             0.0|            0.0|            0.0|            0.0|               0|              0.0|           0.0|          0.0|          0.0|           0.0|\n",
      "|  211028|   0|            0|             0|             0|            0.0|   0.0|              0|              0.0|             0.0|            0.0|            0.0|            0.0|               0|              0.0|           0.0|          0.0|          0.0|           0.0|\n",
      "|  211028|   0|            0|             0|             0|            0.0|   0.0|              0|              0.0|             0.0|            0.0|            0.0|            0.0|               0|              0.0|           0.0|          0.0|          0.0|           0.0|\n",
      "|  211028|   0|            0|             0|             0|            0.0|   0.0|              0|              0.0|             0.0|            0.0|            0.0|            0.0|               0|              0.0|           0.0|          0.0|          0.0|           0.0|\n",
      "|  211028|   0|            0|             0|             0|            0.0|   0.0|              0|              0.0|             0.0|            0.0|            0.0|            0.0|               0|              0.0|           0.0|          0.0|          0.0|           0.0|\n",
      "+--------+----+-------------+--------------+--------------+---------------+------+---------------+-----------------+----------------+---------------+---------------+---------------+----------------+-----------------+--------------+-------------+-------------+--------------+\n",
      "only showing top 20 rows\n",
      "\n"
     ]
    }
   ],
   "source": [
    "matchPlayersStats = matchPlayersStats.drop('country','player','player_id','season','Player','Country')\n",
    "matchPlayersStats.show()"
   ]
  },
  {
   "cell_type": "code",
   "execution_count": 86,
   "metadata": {},
   "outputs": [
    {
     "data": {
      "text/plain": [
       "(52800, 19)"
      ]
     },
     "execution_count": 86,
     "metadata": {},
     "output_type": "execute_result"
    }
   ],
   "source": [
    "num_rows = matchPlayersStats.count()\n",
    "num_cols = len(matchPlayersStats.columns)\n",
    "(num_rows, num_cols)"
   ]
  },
  {
   "cell_type": "code",
   "execution_count": 87,
   "metadata": {},
   "outputs": [],
   "source": [
    "directory = r'D:\\github\\Cricket-Prediction\\data\\3_aftermerging'  # for local\n",
    "matchPlayersStats.toPandas().to_csv(os.path.join(directory, 'playersStatsflip.csv'))"
   ]
  },
  {
   "cell_type": "code",
   "execution_count": null,
   "metadata": {},
   "outputs": [],
   "source": []
  }
 ],
 "metadata": {
  "kernelspec": {
   "display_name": "eda",
   "language": "python",
   "name": "python3"
  },
  "language_info": {
   "codemirror_mode": {
    "name": "ipython",
    "version": 3
   },
   "file_extension": ".py",
   "mimetype": "text/x-python",
   "name": "python",
   "nbconvert_exporter": "python",
   "pygments_lexer": "ipython3",
   "version": "3.8.19"
  }
 },
 "nbformat": 4,
 "nbformat_minor": 2
}
