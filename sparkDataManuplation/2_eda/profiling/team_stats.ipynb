{
 "cells": [
  {
   "cell_type": "code",
   "execution_count": 1,
   "metadata": {},
   "outputs": [
    {
     "data": {
      "text/html": [
       "<div><style>\n",
       ".dataframe > thead > tr,\n",
       ".dataframe > tbody > tr {\n",
       "  text-align: right;\n",
       "  white-space: pre-wrap;\n",
       "}\n",
       "</style>\n",
       "<small>shape: (907, 13)</small><table border=\"1\" class=\"dataframe\"><thead><tr><th>Team</th><th>Mat</th><th>Won</th><th>Lost</th><th>Tied</th><th>NR</th><th>W/L</th><th>Inns</th><th>HS</th><th>LS</th><th>Season</th><th>AveRPW</th><th>AveRPO</th></tr><tr><td>str</td><td>i64</td><td>i64</td><td>i64</td><td>i64</td><td>i64</td><td>f64</td><td>i64</td><td>i64</td><td>f64</td><td>str</td><td>f64</td><td>f64</td></tr></thead><tbody><tr><td>&quot;Zimbabwe&quot;</td><td>5</td><td>5</td><td>0</td><td>0</td><td>0</td><td>5.0</td><td>5</td><td>344</td><td>0.0</td><td>&quot;2024/25&quot;</td><td>43.6</td><td>12.82</td></tr><tr><td>&quot;Zimbabwe&quot;</td><td>10</td><td>2</td><td>8</td><td>0</td><td>0</td><td>0.25</td><td>10</td><td>159</td><td>124.0</td><td>&quot;2024&quot;</td><td>17.48</td><td>7.16</td></tr><tr><td>&quot;Zimbabwe&quot;</td><td>17</td><td>8</td><td>9</td><td>0</td><td>0</td><td>0.888889</td><td>17</td><td>217</td><td>82.0</td><td>&quot;2023/24&quot;</td><td>24.03</td><td>7.81</td></tr><tr><td>&quot;Zimbabwe&quot;</td><td>11</td><td>5</td><td>5</td><td>0</td><td>1</td><td>1.0</td><td>11</td><td>174</td><td>115.0</td><td>&quot;2022/23&quot;</td><td>16.94</td><td>7.13</td></tr><tr><td>&quot;Zimbabwe&quot;</td><td>16</td><td>9</td><td>7</td><td>0</td><td>0</td><td>1.285714</td><td>16</td><td>236</td><td>95.0</td><td>&quot;2022&quot;</td><td>22.45</td><td>7.75</td></tr><tr><td>&hellip;</td><td>&hellip;</td><td>&hellip;</td><td>&hellip;</td><td>&hellip;</td><td>&hellip;</td><td>&hellip;</td><td>&hellip;</td><td>&hellip;</td><td>&hellip;</td><td>&hellip;</td><td>&hellip;</td><td>&hellip;</td></tr><tr><td>&quot;Afghanistan&quot;</td><td>10</td><td>4</td><td>6</td><td>0</td><td>0</td><td>0.666667</td><td>10</td><td>171</td><td>72.0</td><td>&quot;2013/14&quot;</td><td>17.15</td><td>6.92</td></tr><tr><td>&quot;Afghanistan&quot;</td><td>4</td><td>2</td><td>2</td><td>0</td><td>0</td><td>1.0</td><td>4</td><td>140</td><td>80.0</td><td>&quot;2012/13&quot;</td><td>16.26</td><td>6.56</td></tr><tr><td>&quot;Afghanistan&quot;</td><td>3</td><td>2</td><td>1</td><td>0</td><td>0</td><td>2.0</td><td>3</td><td>174</td><td>0.0</td><td>&quot;2011/12&quot;</td><td>22.66</td><td>7.97</td></tr><tr><td>&quot;Afghanistan&quot;</td><td>2</td><td>0</td><td>2</td><td>0</td><td>0</td><td>0.0</td><td>2</td><td>115</td><td>80.0</td><td>&quot;2010&quot;</td><td>10.83</td><td>5.41</td></tr><tr><td>&quot;Afghanistan&quot;</td><td>6</td><td>4</td><td>2</td><td>0</td><td>0</td><td>2.0</td><td>6</td><td>147</td><td>0.0</td><td>&quot;2009/10&quot;</td><td>20.22</td><td>6.89</td></tr></tbody></table></div>"
      ],
      "text/plain": [
       "shape: (907, 13)\n",
       "┌─────────────┬─────┬─────┬──────┬───┬───────┬─────────┬────────┬────────┐\n",
       "│ Team        ┆ Mat ┆ Won ┆ Lost ┆ … ┆ LS    ┆ Season  ┆ AveRPW ┆ AveRPO │\n",
       "│ ---         ┆ --- ┆ --- ┆ ---  ┆   ┆ ---   ┆ ---     ┆ ---    ┆ ---    │\n",
       "│ str         ┆ i64 ┆ i64 ┆ i64  ┆   ┆ f64   ┆ str     ┆ f64    ┆ f64    │\n",
       "╞═════════════╪═════╪═════╪══════╪═══╪═══════╪═════════╪════════╪════════╡\n",
       "│ Zimbabwe    ┆ 5   ┆ 5   ┆ 0    ┆ … ┆ 0.0   ┆ 2024/25 ┆ 43.6   ┆ 12.82  │\n",
       "│ Zimbabwe    ┆ 10  ┆ 2   ┆ 8    ┆ … ┆ 124.0 ┆ 2024    ┆ 17.48  ┆ 7.16   │\n",
       "│ Zimbabwe    ┆ 17  ┆ 8   ┆ 9    ┆ … ┆ 82.0  ┆ 2023/24 ┆ 24.03  ┆ 7.81   │\n",
       "│ Zimbabwe    ┆ 11  ┆ 5   ┆ 5    ┆ … ┆ 115.0 ┆ 2022/23 ┆ 16.94  ┆ 7.13   │\n",
       "│ Zimbabwe    ┆ 16  ┆ 9   ┆ 7    ┆ … ┆ 95.0  ┆ 2022    ┆ 22.45  ┆ 7.75   │\n",
       "│ …           ┆ …   ┆ …   ┆ …    ┆ … ┆ …     ┆ …       ┆ …      ┆ …      │\n",
       "│ Afghanistan ┆ 10  ┆ 4   ┆ 6    ┆ … ┆ 72.0  ┆ 2013/14 ┆ 17.15  ┆ 6.92   │\n",
       "│ Afghanistan ┆ 4   ┆ 2   ┆ 2    ┆ … ┆ 80.0  ┆ 2012/13 ┆ 16.26  ┆ 6.56   │\n",
       "│ Afghanistan ┆ 3   ┆ 2   ┆ 1    ┆ … ┆ 0.0   ┆ 2011/12 ┆ 22.66  ┆ 7.97   │\n",
       "│ Afghanistan ┆ 2   ┆ 0   ┆ 2    ┆ … ┆ 80.0  ┆ 2010    ┆ 10.83  ┆ 5.41   │\n",
       "│ Afghanistan ┆ 6   ┆ 4   ┆ 2    ┆ … ┆ 0.0   ┆ 2009/10 ┆ 20.22  ┆ 6.89   │\n",
       "└─────────────┴─────┴─────┴──────┴───┴───────┴─────────┴────────┴────────┘"
      ]
     },
     "execution_count": 1,
     "metadata": {},
     "output_type": "execute_result"
    }
   ],
   "source": [
    "import os\n",
    "directory = r'D:\\github\\Cricket-Prediction\\data\\2_processedData'\n",
    "\n",
    "import polars as pl\n",
    "team_data = pl.read_csv(os.path.join(directory, 'teamStats.csv'))\n",
    "team_data"
   ]
  },
  {
   "cell_type": "code",
   "execution_count": 2,
   "metadata": {},
   "outputs": [
    {
     "data": {
      "application/vnd.jupyter.widget-view+json": {
       "model_id": "35c87aa0f8cb469ab377d23de74655b4",
       "version_major": 2,
       "version_minor": 0
      },
      "text/plain": [
       "Summarize dataset:   0%|          | 0/5 [00:00<?, ?it/s]"
      ]
     },
     "metadata": {},
     "output_type": "display_data"
    },
    {
     "data": {
      "application/vnd.jupyter.widget-view+json": {
       "model_id": "f5e3a4f70b184e8a80d37beddbcf4905",
       "version_major": 2,
       "version_minor": 0
      },
      "text/plain": [
       "Generate report structure:   0%|          | 0/1 [00:00<?, ?it/s]"
      ]
     },
     "metadata": {},
     "output_type": "display_data"
    },
    {
     "data": {
      "application/vnd.jupyter.widget-view+json": {
       "model_id": "034b2d3d41134817a330ead191419296",
       "version_major": 2,
       "version_minor": 0
      },
      "text/plain": [
       "Render widgets:   0%|          | 0/1 [00:00<?, ?it/s]"
      ]
     },
     "metadata": {},
     "output_type": "display_data"
    },
    {
     "data": {
      "application/vnd.jupyter.widget-view+json": {
       "model_id": "1467c7b165d04c8795aa68ad389ee0fe",
       "version_major": 2,
       "version_minor": 0
      },
      "text/plain": [
       "VBox(children=(Tab(children=(Tab(children=(GridBox(children=(VBox(children=(GridspecLayout(children=(HTML(valu…"
      ]
     },
     "metadata": {},
     "output_type": "display_data"
    }
   ],
   "source": [
    "import ydata_profiling\n",
    "from ydata_profiling import ProfileReport\n",
    "profile = ProfileReport(team_data.to_pandas(), title='Pandas Profiling Report', explorative=True)\n",
    "profile.to_widgets()"
   ]
  },
  {
   "cell_type": "code",
   "execution_count": 3,
   "metadata": {},
   "outputs": [
    {
     "data": {
      "application/vnd.jupyter.widget-view+json": {
       "model_id": "a0765118cdb345ebb946d686a5a7ef45",
       "version_major": 2,
       "version_minor": 0
      },
      "text/plain": [
       "Render HTML:   0%|          | 0/1 [00:00<?, ?it/s]"
      ]
     },
     "metadata": {},
     "output_type": "display_data"
    },
    {
     "data": {
      "application/vnd.jupyter.widget-view+json": {
       "model_id": "a8f261a8b39a458c84bf1e268df0a7c0",
       "version_major": 2,
       "version_minor": 0
      },
      "text/plain": [
       "Export report to file:   0%|          | 0/1 [00:00<?, ?it/s]"
      ]
     },
     "metadata": {},
     "output_type": "display_data"
    }
   ],
   "source": [
    "profile.to_file(\"teamStats.html\")"
   ]
  },
  {
   "cell_type": "code",
   "execution_count": null,
   "metadata": {},
   "outputs": [],
   "source": []
  }
 ],
 "metadata": {
  "kernelspec": {
   "display_name": "eda",
   "language": "python",
   "name": "python3"
  },
  "language_info": {
   "codemirror_mode": {
    "name": "ipython",
    "version": 3
   },
   "file_extension": ".py",
   "mimetype": "text/x-python",
   "name": "python",
   "nbconvert_exporter": "python",
   "pygments_lexer": "ipython3",
   "version": "3.8.19"
  }
 },
 "nbformat": 4,
 "nbformat_minor": 2
}
