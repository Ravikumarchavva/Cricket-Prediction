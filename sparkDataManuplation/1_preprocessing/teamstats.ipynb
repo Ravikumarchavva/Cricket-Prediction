{
 "cells": [
  {
   "cell_type": "code",
   "execution_count": 9,
   "metadata": {},
   "outputs": [
    {
     "name": "stdout",
     "output_type": "stream",
     "text": [
      "+--------+---+---+----+----+---+-----+-----+-----+----+---+---+-------+\n",
      "|    Team|Mat|Won|Lost|Tied| NR|  W/L|  Ave|  RPO|Inns| HS| LS| Season|\n",
      "+--------+---+---+----+----+---+-----+-----+-----+----+---+---+-------+\n",
      "|Zimbabwe|  5|  5|   0|   0|  0|    -| 43.6|12.82|   5|344|  -|2024/25|\n",
      "|Zimbabwe| 10|  2|   8|   0|  0|0.250|17.48| 7.16|  10|159|124|   2024|\n",
      "|Zimbabwe| 17|  8|   9|   0|  0|0.888|24.03| 7.81|  17|217| 82|2023/24|\n",
      "|Zimbabwe| 11|  5|   5|   0|  1|1.000|16.94| 7.13|  11|174|115|2022/23|\n",
      "|Zimbabwe| 16|  9|   7|   0|  0|1.285|22.45| 7.75|  16|236| 95|   2022|\n",
      "|Zimbabwe| 14|  6|   8|   0|  0|0.750| 20.6| 7.22|  14|193|138|   2021|\n",
      "|Zimbabwe|  6|  0|   6|   0|  0|0.000|19.38| 7.28|   6|156|148|2020/21|\n",
      "|Zimbabwe|  6|  3|   3|   0|  0|1.000|24.56| 7.98|   6|177|152|2019/20|\n",
      "|Zimbabwe|  8|  2|   5|   1|  0|0.400|22.01| 8.23|   8|172|136|   2019|\n",
      "|Zimbabwe|  2|  0|   2|   0|  0|0.000|15.17| 6.91|   2|132|126|2018/19|\n",
      "|Zimbabwe|  4|  0|   4|   0|  0|0.000|17.74| 7.06|   4|162|108|   2018|\n",
      "|Zimbabwe|  2|  0|   2|   0|  0|0.000|18.64| 6.52|   2|141|  -|2017/18|\n",
      "|Zimbabwe|  3|  1|   2|   0|  0|0.500|19.23| 6.73|   3|170|  -|   2016|\n",
      "|Zimbabwe| 15|  5|  10|   0|  0|0.500|20.15| 7.59|  15|190|127|2015/16|\n",
      "|Zimbabwe|  5|  1|   4|   0|  0|0.250|23.67| 7.34|   5|175|  -|   2015|\n",
      "|Zimbabwe|  3|  2|   1|   0|  0|2.000|28.46| 7.95|   3|163|  -|2013/14|\n",
      "|Zimbabwe|  4|  1|   3|   0|  0|0.333|23.92| 7.47|   4|168|  -|   2013|\n",
      "|Zimbabwe|  4|  0|   4|   0|  0|0.000|13.75| 5.67|   4|130|100|2012/13|\n",
      "|Zimbabwe|  4|  0|   4|   0|  0|0.000|22.71| 8.27|   4|200|154|2011/12|\n",
      "|Zimbabwe|  2|  0|   2|   0|  0|0.000|14.64| 7.04|   2|136|113|   2011|\n",
      "+--------+---+---+----+----+---+-----+-----+-----+----+---+---+-------+\n",
      "only showing top 20 rows\n",
      "\n"
     ]
    }
   ],
   "source": [
    "import os\n",
    "\n",
    "# Specify the directory where your CSV files are located\n",
    "directory = r'D:\\github\\Cricket-Prediction\\data\\1_rawData' \n",
    "\n",
    "# sparksession\n",
    "from pyspark.sql import SparkSession\n",
    "spark = SparkSession.builder.appName(\"CricketPrediction\").getOrCreate()\n",
    "\n",
    "team_data = spark.read.csv(os.path.join(directory, 't20_team_stats.csv'), header=True, inferSchema=True)\n",
    "team_data.show()"
   ]
  },
  {
   "cell_type": "code",
   "execution_count": null,
   "metadata": {},
   "outputs": [
    {
     "name": "stdout",
     "output_type": "stream",
     "text": [
      "+--------+---+---+----+----+---+------------------+----+---+---+-------+------+------+\n",
      "|    Team|Mat|Won|Lost|Tied| NR|               W/L|Inns| HS| LS| Season|AveRPW|AveRPO|\n",
      "+--------+---+---+----+----+---+------------------+----+---+---+-------+------+------+\n",
      "|Zimbabwe|  5|  5|   0|   0|  0|               5.0|   5|344|  0|2024/25|  43.6| 12.82|\n",
      "|Zimbabwe| 10|  2|   8|   0|  0|              0.25|  10|159|124|   2024| 17.48|  7.16|\n",
      "|Zimbabwe| 17|  8|   9|   0|  0|0.8888888888888888|  17|217| 82|2023/24| 24.03|  7.81|\n",
      "|Zimbabwe| 11|  5|   5|   0|  1|               1.0|  11|174|115|2022/23| 16.94|  7.13|\n",
      "|Zimbabwe| 16|  9|   7|   0|  0|1.2857142857142858|  16|236| 95|   2022| 22.45|  7.75|\n",
      "|Zimbabwe| 14|  6|   8|   0|  0|              0.75|  14|193|138|   2021|  20.6|  7.22|\n",
      "|Zimbabwe|  6|  0|   6|   0|  0|               0.0|   6|156|148|2020/21| 19.38|  7.28|\n",
      "|Zimbabwe|  6|  3|   3|   0|  0|               1.0|   6|177|152|2019/20| 24.56|  7.98|\n",
      "|Zimbabwe|  8|  2|   5|   1|  0|               0.4|   8|172|136|   2019| 22.01|  8.23|\n",
      "|Zimbabwe|  2|  0|   2|   0|  0|               0.0|   2|132|126|2018/19| 15.17|  6.91|\n",
      "|Zimbabwe|  4|  0|   4|   0|  0|               0.0|   4|162|108|   2018| 17.74|  7.06|\n",
      "|Zimbabwe|  2|  0|   2|   0|  0|               0.0|   2|141|  0|2017/18| 18.64|  6.52|\n",
      "|Zimbabwe|  3|  1|   2|   0|  0|               0.5|   3|170|  0|   2016| 19.23|  6.73|\n",
      "|Zimbabwe| 15|  5|  10|   0|  0|               0.5|  15|190|127|2015/16| 20.15|  7.59|\n",
      "|Zimbabwe|  5|  1|   4|   0|  0|              0.25|   5|175|  0|   2015| 23.67|  7.34|\n",
      "|Zimbabwe|  3|  2|   1|   0|  0|               2.0|   3|163|  0|2013/14| 28.46|  7.95|\n",
      "|Zimbabwe|  4|  1|   3|   0|  0|0.3333333333333333|   4|168|  0|   2013| 23.92|  7.47|\n",
      "|Zimbabwe|  4|  0|   4|   0|  0|               0.0|   4|130|100|2012/13| 13.75|  5.67|\n",
      "|Zimbabwe|  4|  0|   4|   0|  0|               0.0|   4|200|154|2011/12| 22.71|  8.27|\n",
      "|Zimbabwe|  2|  0|   2|   0|  0|               0.0|   2|136|113|   2011| 14.64|  7.04|\n",
      "+--------+---+---+----+----+---+------------------+----+---+---+-------+------+------+\n",
      "only showing top 20 rows\n",
      "\n"
     ]
    }
   ],
   "source": [
    "from pyspark.sql.functions import col,when\n",
    "team_data = team_data.withColumn(\"W/L\", when(col(\"Lost\")==0, col(\"Won\")).otherwise(col(\"Won\")/col(\"Lost\")))\n",
    "team_data = team_data.withColumn(\"LS\", when(col(\"LS\")=='-',0).otherwise(col(\"LS\")).cast(\"int\"))\n",
    "team_data = team_data.withColumn(\"AveRPW\", when(col(\"Ave\")=='-',0).otherwise(col(\"Ave\")).cast(\"float\")).drop(\"Ave\")\n",
    "team_data = team_data.withColumn(\"AveRPO\", when(col(\"RPO\")=='-',0).otherwise(col(\"RPO\")).cast(\"float\")).drop(\"RPO\")\n",
    "team_data.show()"
   ]
  },
  {
   "cell_type": "code",
   "execution_count": 12,
   "metadata": {},
   "outputs": [],
   "source": [
    "team_data.toPandas().to_csv(r'D:\\github\\Cricket-Prediction\\data\\2_processedData\\teamStats.csv', index=False)"
   ]
  },
  {
   "cell_type": "code",
   "execution_count": null,
   "metadata": {},
   "outputs": [],
   "source": []
  }
 ],
 "metadata": {
  "kernelspec": {
   "display_name": "eda",
   "language": "python",
   "name": "python3"
  },
  "language_info": {
   "codemirror_mode": {
    "name": "ipython",
    "version": 3
   },
   "file_extension": ".py",
   "mimetype": "text/x-python",
   "name": "python",
   "nbconvert_exporter": "python",
   "pygments_lexer": "ipython3",
   "version": "3.8.19"
  }
 },
 "nbformat": 4,
 "nbformat_minor": 2
}
