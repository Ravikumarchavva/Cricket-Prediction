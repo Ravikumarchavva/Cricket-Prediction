{
 "cells": [
  {
   "cell_type": "code",
   "execution_count": 1,
   "metadata": {},
   "outputs": [],
   "source": [
    "import os\n",
    "import glob\n",
    "\n",
    "# Specify the directory where your CSV files are located\n",
    "directory = r'D:\\github\\Cricket-Prediction\\data\\1_rawData\\t20s_csv2'\n",
    "\n",
    "# Use glob to find all CSV files in the specified directory\n",
    "info_files = glob.glob(os.path.join(directory, '*_info.csv'))\n",
    "all_files = glob.glob(os.path.join(directory,'*.csv'))\n",
    "delivery_files = [file for file in all_files if '_info' not in file]\n",
    "\n",
    "matches=[]\n",
    "deliveries=[]\n",
    "# Print the list of CSV files\n",
    "for info_file in info_files:\n",
    "    matches.append(info_file.split('\\\\')[-1])\n",
    "for delivery in delivery_files:\n",
    "    if '_info' not in delivery:\n",
    "        deliveries.append(delivery.split('\\\\')[-1])"
   ]
  },
  {
   "cell_type": "code",
   "execution_count": 2,
   "metadata": {},
   "outputs": [
    {
     "name": "stdout",
     "output_type": "stream",
     "text": [
      "+--------+-------+----------+--------------------+-------+----+------------+------------+-------------+-------------+-----------+------------+------+-----+-------+----+-------+-------+-----------+----------------+-----------------+----------------------+\n",
      "|match_id| season|start_date|               venue|innings|ball|batting_team|bowling_team|      striker|  non_striker|     bowler|runs_off_bat|extras|wides|noballs|byes|legbyes|penalty|wicket_type|player_dismissed|other_wicket_type|other_player_dismissed|\n",
      "+--------+-------+----------+--------------------+-------+----+------------+------------+-------------+-------------+-----------+------------+------+-----+-------+----+-------+-------+-----------+----------------+-----------------+----------------------+\n",
      "| 1306389|2021/22|2022-03-22|Al Amerat Cricket...|      1| 0.1|     Bahrain|Saudi Arabia|TI Gajanayake|    R Rodrigo|C Sewsunker|           0|     0| NULL|   NULL|NULL|   NULL|   NULL|       NULL|            NULL|             NULL|                  NULL|\n",
      "| 1306389|2021/22|2022-03-22|Al Amerat Cricket...|      1| 0.2|     Bahrain|Saudi Arabia|TI Gajanayake|    R Rodrigo|C Sewsunker|           0|     1|    1|   NULL|NULL|   NULL|   NULL|       NULL|            NULL|             NULL|                  NULL|\n",
      "| 1306389|2021/22|2022-03-22|Al Amerat Cricket...|      1| 0.3|     Bahrain|Saudi Arabia|TI Gajanayake|    R Rodrigo|C Sewsunker|           0|     1|    1|   NULL|NULL|   NULL|   NULL|       NULL|            NULL|             NULL|                  NULL|\n",
      "| 1306389|2021/22|2022-03-22|Al Amerat Cricket...|      1| 0.4|     Bahrain|Saudi Arabia|TI Gajanayake|    R Rodrigo|C Sewsunker|           0|     2|    2|   NULL|NULL|   NULL|   NULL|       NULL|            NULL|             NULL|                  NULL|\n",
      "| 1306389|2021/22|2022-03-22|Al Amerat Cricket...|      1| 0.5|     Bahrain|Saudi Arabia|    R Rodrigo|TI Gajanayake|C Sewsunker|           0|     0| NULL|   NULL|NULL|   NULL|   NULL|       NULL|            NULL|             NULL|                  NULL|\n",
      "+--------+-------+----------+--------------------+-------+----+------------+------------+-------------+-------------+-----------+------------+------+-----+-------+----+-------+-------+-----------+----------------+-----------------+----------------------+\n",
      "only showing top 5 rows\n",
      "\n"
     ]
    }
   ],
   "source": [
    "from pyspark.sql.types import *\n",
    "import os\n",
    "from pyspark.sql import SparkSession\n",
    "import sys\n",
    "\n",
    "os.environ['PYSPARK_PYTHON'] = sys.executable\n",
    "os.environ['PYSPARK_DRIVER_PYTHON'] = sys.executable\n",
    "\n",
    "spark = SparkSession.builder.appName('deliveries').getOrCreate()\n",
    "\n",
    "# Define the schema for the deliveries data\n",
    "delivery_schema = StructType([\n",
    "    StructField('match_id', IntegerType(), True),\n",
    "    StructField('season', StringType(), True),\n",
    "    StructField('start_date', StringType(), True),\n",
    "    StructField('venue', StringType(), True),\n",
    "    StructField('innings', IntegerType(), True),\n",
    "    StructField('ball', FloatType(), True),\n",
    "    StructField('batting_team', StringType(), True),\n",
    "    StructField('bowling_team', StringType(), True),\n",
    "    StructField('striker', StringType(), True),\n",
    "    StructField('non_striker', StringType(), True),\n",
    "    StructField('bowler', StringType(), True),\n",
    "    StructField('runs_off_bat', IntegerType(), True),\n",
    "    StructField('extras', IntegerType(), True),\n",
    "    StructField('wides', IntegerType(), True),\n",
    "    StructField('noballs', StringType(), True),\n",
    "    StructField('byes', IntegerType(), True),\n",
    "    StructField('legbyes', IntegerType(), True),\n",
    "    StructField('penalty', StringType(), True),\n",
    "    StructField('wicket_type', StringType(), True),\n",
    "    StructField('player_dismissed', StringType(), True),\n",
    "    StructField('other_wicket_type', StringType(), True),\n",
    "    StructField('other_player_dismissed', StringType(), True)\n",
    "])\n",
    "\n",
    "# Initialize an empty DataFrame with the schema\n",
    "deliveries_data = spark.read.csv(delivery_files, header=True, schema=delivery_schema)\n",
    "deliveries_data.show(5)"
   ]
  },
  {
   "cell_type": "code",
   "execution_count": 3,
   "metadata": {},
   "outputs": [
    {
     "name": "stdout",
     "output_type": "stream",
     "text": [
      "+--------+------+----------+-----+-------+----+------------+------------+-------+-----------+------+------------+------+------+-------+------+-------+-------+-----------+----------------+-----------------+----------------------+\n",
      "|match_id|season|start_date|venue|innings|ball|batting_team|bowling_team|striker|non_striker|bowler|runs_off_bat|extras| wides|noballs|  byes|legbyes|penalty|wicket_type|player_dismissed|other_wicket_type|other_player_dismissed|\n",
      "+--------+------+----------+-----+-------+----+------------+------------+-------+-----------+------+------------+------+------+-------+------+-------+-------+-----------+----------------+-----------------+----------------------+\n",
      "|       0|     0|         0|    0|      0|   0|           0|           0|      0|          0|     0|           0|     0|824549| 855592|856452| 848973| 860157|     812599|          812599|           860171|                860171|\n",
      "+--------+------+----------+-----+-------+----+------------+------------+-------+-----------+------+------------+------+------+-------+------+-------+-------+-----------+----------------+-----------------+----------------------+\n",
      "\n"
     ]
    }
   ],
   "source": [
    "from pyspark.sql.functions import col, sum\n",
    "\n",
    "# Count the number of null values in each column\n",
    "null_counts = deliveries_data.select([sum(col(c).isNull().cast(\"int\")).alias(c) for c in deliveries_data.columns])\n",
    "null_counts.show()"
   ]
  },
  {
   "cell_type": "code",
   "execution_count": 4,
   "metadata": {},
   "outputs": [
    {
     "name": "stdout",
     "output_type": "stream",
     "text": [
      "+--------+-------+----------+--------------------+-------+----+------------+------------+-------------+-------------+-----------+------------+------+-----+-------+----+-------+-------+-----------+----------------+-----------------+----------------------+\n",
      "|match_id| season|start_date|               venue|innings|ball|batting_team|bowling_team|      striker|  non_striker|     bowler|runs_off_bat|extras|wides|noballs|byes|legbyes|penalty|wicket_type|player_dismissed|other_wicket_type|other_player_dismissed|\n",
      "+--------+-------+----------+--------------------+-------+----+------------+------------+-------------+-------------+-----------+------------+------+-----+-------+----+-------+-------+-----------+----------------+-----------------+----------------------+\n",
      "| 1306389|2021/22|2022-03-22|Al Amerat Cricket...|      1| 0.1|     Bahrain|Saudi Arabia|TI Gajanayake|    R Rodrigo|C Sewsunker|           0|     0|    0|   NULL|   0|      0|   NULL|       NULL|            NULL|             NULL|                  NULL|\n",
      "| 1306389|2021/22|2022-03-22|Al Amerat Cricket...|      1| 0.2|     Bahrain|Saudi Arabia|TI Gajanayake|    R Rodrigo|C Sewsunker|           0|     1|    1|   NULL|   0|      0|   NULL|       NULL|            NULL|             NULL|                  NULL|\n",
      "| 1306389|2021/22|2022-03-22|Al Amerat Cricket...|      1| 0.3|     Bahrain|Saudi Arabia|TI Gajanayake|    R Rodrigo|C Sewsunker|           0|     1|    1|   NULL|   0|      0|   NULL|       NULL|            NULL|             NULL|                  NULL|\n",
      "| 1306389|2021/22|2022-03-22|Al Amerat Cricket...|      1| 0.4|     Bahrain|Saudi Arabia|TI Gajanayake|    R Rodrigo|C Sewsunker|           0|     2|    2|   NULL|   0|      0|   NULL|       NULL|            NULL|             NULL|                  NULL|\n",
      "| 1306389|2021/22|2022-03-22|Al Amerat Cricket...|      1| 0.5|     Bahrain|Saudi Arabia|    R Rodrigo|TI Gajanayake|C Sewsunker|           0|     0|    0|   NULL|   0|      0|   NULL|       NULL|            NULL|             NULL|                  NULL|\n",
      "+--------+-------+----------+--------------------+-------+----+------------+------------+-------------+-------------+-----------+------------+------+-----+-------+----+-------+-------+-----------+----------------+-----------------+----------------------+\n",
      "only showing top 5 rows\n",
      "\n"
     ]
    }
   ],
   "source": [
    "deliveries_data = deliveries_data.fillna(0)\n",
    "deliveries_data.show(5)"
   ]
  },
  {
   "cell_type": "code",
   "execution_count": 5,
   "metadata": {},
   "outputs": [
    {
     "name": "stdout",
     "output_type": "stream",
     "text": [
      "+--------+------+----------+-----+-------+----+------------+------------+-------+-----------+------+------------+------+-----+-------+----+-------+-------+-----------+----------------+-----------------+----------------------+\n",
      "|match_id|season|start_date|venue|innings|ball|batting_team|bowling_team|striker|non_striker|bowler|runs_off_bat|extras|wides|noballs|byes|legbyes|penalty|wicket_type|player_dismissed|other_wicket_type|other_player_dismissed|\n",
      "+--------+------+----------+-----+-------+----+------------+------------+-------+-----------+------+------------+------+-----+-------+----+-------+-------+-----------+----------------+-----------------+----------------------+\n",
      "|       0|     0|         0|    0|      0|   0|           0|           0|      0|          0|     0|           0|     0|    0| 855592|   0|      0| 860157|     812599|          812599|           860171|                860171|\n",
      "+--------+------+----------+-----+-------+----+------------+------------+-------+-----------+------+------------+------+-----+-------+----+-------+-------+-----------+----------------+-----------------+----------------------+\n",
      "\n"
     ]
    }
   ],
   "source": [
    "null_counts = deliveries_data.select([sum(col(c).isNull().cast(\"int\")).alias(c) for c in deliveries_data.columns])\n",
    "null_counts.show()"
   ]
  },
  {
   "cell_type": "code",
   "execution_count": 6,
   "metadata": {},
   "outputs": [
    {
     "name": "stdout",
     "output_type": "stream",
     "text": [
      "root\n",
      " |-- match_id: integer (nullable = true)\n",
      " |-- season: string (nullable = true)\n",
      " |-- start_date: string (nullable = true)\n",
      " |-- venue: string (nullable = true)\n",
      " |-- innings: integer (nullable = true)\n",
      " |-- ball: float (nullable = false)\n",
      " |-- batting_team: string (nullable = true)\n",
      " |-- bowling_team: string (nullable = true)\n",
      " |-- striker: string (nullable = true)\n",
      " |-- non_striker: string (nullable = true)\n",
      " |-- bowler: string (nullable = true)\n",
      " |-- runs_off_bat: integer (nullable = true)\n",
      " |-- extras: integer (nullable = true)\n",
      " |-- wides: integer (nullable = true)\n",
      " |-- noballs: string (nullable = true)\n",
      " |-- byes: integer (nullable = true)\n",
      " |-- legbyes: integer (nullable = true)\n",
      " |-- penalty: string (nullable = true)\n",
      " |-- wicket_type: string (nullable = true)\n",
      " |-- player_dismissed: string (nullable = true)\n",
      " |-- other_wicket_type: string (nullable = true)\n",
      " |-- other_player_dismissed: string (nullable = true)\n",
      "\n"
     ]
    }
   ],
   "source": [
    "deliveries_data.printSchema()"
   ]
  },
  {
   "cell_type": "code",
   "execution_count": 7,
   "metadata": {},
   "outputs": [
    {
     "name": "stdout",
     "output_type": "stream",
     "text": [
      "+--------+-------+----------+--------------------+-------+----+------------+------------+-------------+-------------+-----------+------------+------+-----+-------+----+-------+-------+-----------+----------------+-----------------+----------------------+\n",
      "|match_id| season|start_date|               venue|innings|ball|batting_team|bowling_team|      striker|  non_striker|     bowler|runs_off_bat|extras|wides|noballs|byes|legbyes|penalty|wicket_type|player_dismissed|other_wicket_type|other_player_dismissed|\n",
      "+--------+-------+----------+--------------------+-------+----+------------+------------+-------------+-------------+-----------+------------+------+-----+-------+----+-------+-------+-----------+----------------+-----------------+----------------------+\n",
      "| 1306389|2021/22|2022-03-22|Al Amerat Cricket...|      1| 0.1|     Bahrain|Saudi Arabia|TI Gajanayake|    R Rodrigo|C Sewsunker|           0|     0|    0|      0|   0|      0|      0|       NULL|            NULL|             NULL|                  NULL|\n",
      "| 1306389|2021/22|2022-03-22|Al Amerat Cricket...|      1| 0.2|     Bahrain|Saudi Arabia|TI Gajanayake|    R Rodrigo|C Sewsunker|           0|     1|    1|      0|   0|      0|      0|       NULL|            NULL|             NULL|                  NULL|\n",
      "| 1306389|2021/22|2022-03-22|Al Amerat Cricket...|      1| 0.3|     Bahrain|Saudi Arabia|TI Gajanayake|    R Rodrigo|C Sewsunker|           0|     1|    1|      0|   0|      0|      0|       NULL|            NULL|             NULL|                  NULL|\n",
      "| 1306389|2021/22|2022-03-22|Al Amerat Cricket...|      1| 0.4|     Bahrain|Saudi Arabia|TI Gajanayake|    R Rodrigo|C Sewsunker|           0|     2|    2|      0|   0|      0|      0|       NULL|            NULL|             NULL|                  NULL|\n",
      "| 1306389|2021/22|2022-03-22|Al Amerat Cricket...|      1| 0.5|     Bahrain|Saudi Arabia|    R Rodrigo|TI Gajanayake|C Sewsunker|           0|     0|    0|      0|   0|      0|      0|       NULL|            NULL|             NULL|                  NULL|\n",
      "+--------+-------+----------+--------------------+-------+----+------------+------------+-------------+-------------+-----------+------------+------+-----+-------+----+-------+-------+-----------+----------------+-----------------+----------------------+\n",
      "only showing top 5 rows\n",
      "\n"
     ]
    }
   ],
   "source": [
    "from pyspark.sql.functions import when\n",
    "\n",
    "deliveries_data = deliveries_data.withColumn('noballs', when(col('noballs').isNull(), '0').otherwise(col('noballs')).cast(IntegerType()))\n",
    "deliveries_data = deliveries_data.withColumn('penalty', when(col('penalty').isNull(), '0').otherwise(col('penalty')).cast(IntegerType()))\n",
    "deliveries_data.show(5)"
   ]
  },
  {
   "cell_type": "code",
   "execution_count": 8,
   "metadata": {},
   "outputs": [
    {
     "name": "stdout",
     "output_type": "stream",
     "text": [
      "+--------+-------+----------+--------------------+-------+----+------------+------------+-------------+-------------+-----------+------------+------+-----+-------+----+-------+-------+-----------+----------------+-----------------+----------------------+\n",
      "|match_id| season|start_date|               venue|innings|ball|batting_team|bowling_team|      striker|  non_striker|     bowler|runs_off_bat|extras|wides|noballs|byes|legbyes|penalty|wicket_type|player_dismissed|other_wicket_type|other_player_dismissed|\n",
      "+--------+-------+----------+--------------------+-------+----+------------+------------+-------------+-------------+-----------+------------+------+-----+-------+----+-------+-------+-----------+----------------+-----------------+----------------------+\n",
      "| 1306389|2021/22|2022-03-22|Al Amerat Cricket...|      1| 0.1|     Bahrain|Saudi Arabia|TI Gajanayake|    R Rodrigo|C Sewsunker|           0|     0|    0|      0|   0|      0|      0|          0|               0|                0|                     0|\n",
      "| 1306389|2021/22|2022-03-22|Al Amerat Cricket...|      1| 0.2|     Bahrain|Saudi Arabia|TI Gajanayake|    R Rodrigo|C Sewsunker|           0|     1|    1|      0|   0|      0|      0|          0|               0|                0|                     0|\n",
      "| 1306389|2021/22|2022-03-22|Al Amerat Cricket...|      1| 0.3|     Bahrain|Saudi Arabia|TI Gajanayake|    R Rodrigo|C Sewsunker|           0|     1|    1|      0|   0|      0|      0|          0|               0|                0|                     0|\n",
      "| 1306389|2021/22|2022-03-22|Al Amerat Cricket...|      1| 0.4|     Bahrain|Saudi Arabia|TI Gajanayake|    R Rodrigo|C Sewsunker|           0|     2|    2|      0|   0|      0|      0|          0|               0|                0|                     0|\n",
      "| 1306389|2021/22|2022-03-22|Al Amerat Cricket...|      1| 0.5|     Bahrain|Saudi Arabia|    R Rodrigo|TI Gajanayake|C Sewsunker|           0|     0|    0|      0|   0|      0|      0|          0|               0|                0|                     0|\n",
      "| 1306389|2021/22|2022-03-22|Al Amerat Cricket...|      1| 0.6|     Bahrain|Saudi Arabia|    R Rodrigo|TI Gajanayake|C Sewsunker|           0|     1|    1|      0|   0|      0|      0|          0|               0|                0|                     0|\n",
      "| 1306389|2021/22|2022-03-22|Al Amerat Cricket...|      1| 0.7|     Bahrain|Saudi Arabia|    R Rodrigo|TI Gajanayake|C Sewsunker|           0|     1|    1|      0|   0|      0|      0|          0|               0|                0|                     0|\n",
      "| 1306389|2021/22|2022-03-22|Al Amerat Cricket...|      1| 0.8|     Bahrain|Saudi Arabia|    R Rodrigo|TI Gajanayake|C Sewsunker|           1|     0|    0|      0|   0|      0|      0|          0|               0|                0|                     0|\n",
      "| 1306389|2021/22|2022-03-22|Al Amerat Cricket...|      1| 0.9|     Bahrain|Saudi Arabia|TI Gajanayake|    R Rodrigo|C Sewsunker|           1|     0|    0|      0|   0|      0|      0|          0|               0|                0|                     0|\n",
      "| 1306389|2021/22|2022-03-22|Al Amerat Cricket...|      1| 0.1|     Bahrain|Saudi Arabia|    R Rodrigo|TI Gajanayake|C Sewsunker|           4|     0|    0|      0|   0|      0|      0|          0|               0|                0|                     0|\n",
      "| 1306389|2021/22|2022-03-22|Al Amerat Cricket...|      1|0.11|     Bahrain|Saudi Arabia|    R Rodrigo|TI Gajanayake|C Sewsunker|           0|     1|    1|      0|   0|      0|      0|          0|               0|                0|                     0|\n",
      "| 1306389|2021/22|2022-03-22|Al Amerat Cricket...|      1|0.12|     Bahrain|Saudi Arabia|    R Rodrigo|TI Gajanayake|C Sewsunker|           2|     0|    0|      0|   0|      0|      0|          0|               0|                0|                     0|\n",
      "| 1306389|2021/22|2022-03-22|Al Amerat Cricket...|      1| 1.1|     Bahrain|Saudi Arabia|TI Gajanayake|    R Rodrigo| Maira Khan|           0|     1|    0|      1|   0|      0|      0|          0|               0|                0|                     0|\n",
      "| 1306389|2021/22|2022-03-22|Al Amerat Cricket...|      1| 1.2|     Bahrain|Saudi Arabia|TI Gajanayake|    R Rodrigo| Maira Khan|           4|     0|    0|      0|   0|      0|      0|          0|               0|                0|                     0|\n",
      "| 1306389|2021/22|2022-03-22|Al Amerat Cricket...|      1| 1.3|     Bahrain|Saudi Arabia|TI Gajanayake|    R Rodrigo| Maira Khan|           0|     1|    1|      0|   0|      0|      0|          0|               0|                0|                     0|\n",
      "| 1306389|2021/22|2022-03-22|Al Amerat Cricket...|      1| 1.4|     Bahrain|Saudi Arabia|TI Gajanayake|    R Rodrigo| Maira Khan|           0|     1|    1|      0|   0|      0|      0|          0|               0|                0|                     0|\n",
      "| 1306389|2021/22|2022-03-22|Al Amerat Cricket...|      1| 1.5|     Bahrain|Saudi Arabia|TI Gajanayake|    R Rodrigo| Maira Khan|           2|     0|    0|      0|   0|      0|      0|          0|               0|                0|                     0|\n",
      "| 1306389|2021/22|2022-03-22|Al Amerat Cricket...|      1| 1.6|     Bahrain|Saudi Arabia|TI Gajanayake|    R Rodrigo| Maira Khan|           0|     1|    1|      0|   0|      0|      0|          0|               0|                0|                     0|\n",
      "| 1306389|2021/22|2022-03-22|Al Amerat Cricket...|      1| 1.7|     Bahrain|Saudi Arabia|TI Gajanayake|    R Rodrigo| Maira Khan|           0|     0|    0|      0|   0|      0|      0|          0|               0|                0|                     0|\n",
      "| 1306389|2021/22|2022-03-22|Al Amerat Cricket...|      1| 1.8|     Bahrain|Saudi Arabia|TI Gajanayake|    R Rodrigo| Maira Khan|           1|     0|    0|      0|   0|      0|      0|          0|               0|                0|                     0|\n",
      "+--------+-------+----------+--------------------+-------+----+------------+------------+-------------+-------------+-----------+------------+------+-----+-------+----+-------+-------+-----------+----------------+-----------------+----------------------+\n",
      "only showing top 20 rows\n",
      "\n"
     ]
    }
   ],
   "source": [
    "from pyspark.sql.functions import when\n",
    "columns = ['wicket_type','player_dismissed','other_wicket_type','other_player_dismissed']\n",
    "for column in columns:\n",
    "    deliveries_data = deliveries_data.withColumn(column, when(col(column).isNull(), '0').otherwise('1').cast(IntegerType()))\n",
    "\n",
    "deliveries_data.show()"
   ]
  },
  {
   "cell_type": "code",
   "execution_count": 9,
   "metadata": {},
   "outputs": [],
   "source": [
    "# Write the DataFrame to a Parquet file\n",
    "# deliveries_data.write.mode('overwrite').parquet(os.path.join(r'D:\\github\\Cricket-Prediction\\data\\2_processedData','deliveries.parquet'))\n",
    "\n",
    "# For windows\n",
    "\n",
    "import pandas as pd\n",
    "deliveries_data.toPandas().to_parquet(os.path.join(r'D:\\github\\Cricket-Prediction\\data\\2_processedData','deliveries.parquet'),index=False)"
   ]
  }
 ],
 "metadata": {
  "kernelspec": {
   "display_name": "eda",
   "language": "python",
   "name": "python3"
  },
  "language_info": {
   "codemirror_mode": {
    "name": "ipython",
    "version": 3
   },
   "file_extension": ".py",
   "mimetype": "text/x-python",
   "name": "python",
   "nbconvert_exporter": "python",
   "pygments_lexer": "ipython3",
   "version": "3.8.19"
  }
 },
 "nbformat": 4,
 "nbformat_minor": 2
}
