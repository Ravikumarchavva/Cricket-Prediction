{
 "cells": [
  {
   "cell_type": "code",
   "execution_count": 104,
   "metadata": {},
   "outputs": [
    {
     "name": "stdout",
     "output_type": "stream",
     "text": [
      "+--------------------+---+----+---+---+---+-----+-----+-----------+-----+-------+\n",
      "|              Player|Mat|Inns|Dis| Ct| St|Ct Wk|Ct Fi|         MD|  D/I| Season|\n",
      "+--------------------+---+----+---+---+---+-----+-----+-----------+-----+-------+\n",
      "|Zulqarnain Haider...|  2|   2|  1|  0|  1|    0|    0|1 (0ct 1st)|  0.5|2010/11|\n",
      "|Zulqarnain Haider...|  1|   1|  0|  0|  0|    0|    0|          0|  0.0|2006/07|\n",
      "|Zulqarnain Haider...|  6|   6|  0|  0|  0|    0|    0|          0|  0.0|   2022|\n",
      "|Zulqarnain Haider...|  1|   1|  0|  0|  0|    0|    0|          0|0.000|2019/20|\n",
      "|Zulqarnain Haider...|  4|   4|  1|  1|  0|    0|    1|1 (1ct 0st)| 0.25|   2019|\n",
      "+--------------------+---+----+---+---+---+-----+-----+-----------+-----+-------+\n",
      "only showing top 5 rows\n",
      "\n"
     ]
    }
   ],
   "source": [
    "import os\n",
    "import sys\n",
    "\n",
    "os.environ['PYSPARK_PYTHON'] = sys.executable\n",
    "os.environ['PYSPARK_DRIVER_PYTHON'] = sys.executable\n",
    "\n",
    "\n",
    "# Then proceed to import and use Spark\n",
    "from pyspark.sql import SparkSession\n",
    "\n",
    "# Create a Spark session\n",
    "spark = SparkSession.builder.appName(\"CricketPrediction\").getOrCreate()\n",
    "\n",
    "\n",
    "# Specify the directory where your CSV files are located\n",
    "directory = r'D:\\github\\Cricket-Prediction\\data\\1_rawData'\n",
    "fielding_data = spark.read.csv(os.path.join(directory, 't20_fielding_stats.csv'), header=True, inferSchema=True)\n",
    "fielding_data.show(5)"
   ]
  },
  {
   "cell_type": "code",
   "execution_count": 105,
   "metadata": {},
   "outputs": [
    {
     "name": "stdout",
     "output_type": "stream",
     "text": [
      "+----------------+---+----+---+---+---+-----+-------+\n",
      "|          Player|Mat|Inns|Dis| Ct| St|  D/I| Season|\n",
      "+----------------+---+----+---+---+---+-----+-------+\n",
      "|A Ahmadhel (BUL)|  3|   3|  0|  0|  0|  0.0|2019/20|\n",
      "|A Ahmadhel (BUL)|  1|   1|  0|  0|  0|0.000|   2020|\n",
      "|A Ahmadhel (BUL)|  2|   2|  0|  0|  0|0.000|2020/21|\n",
      "|A Ahmadhel (BUL)|  3|   3|  0|  0|  0|  0.0|   2021|\n",
      "|A Ahmadhel (BUL)|  2|   1|  0|  0|  0|  0.0|   2023|\n",
      "+----------------+---+----+---+---+---+-----+-------+\n",
      "only showing top 5 rows\n",
      "\n"
     ]
    }
   ],
   "source": [
    "fielding_data = fielding_data.select(['Player',\"Mat\",\"Inns\",\"Dis\",\"Ct\",\"St\",\"D/I\",\"Season\"]).sort([\"Player\",\"Season\"])\n",
    "fielding_data.show(5)"
   ]
  },
  {
   "cell_type": "code",
   "execution_count": 106,
   "metadata": {},
   "outputs": [
    {
     "name": "stdout",
     "output_type": "stream",
     "text": [
      "+----------------+---+----+---+---+---+---+-------+\n",
      "|          Player|Mat|Inns|Dis| Ct| St|D/I| Season|\n",
      "+----------------+---+----+---+---+---+---+-------+\n",
      "|A Ahmadhel (BUL)|  3| 3.0|0.0|0.0|0.0|0.0|2019/20|\n",
      "|A Ahmadhel (BUL)|  1| 1.0|0.0|0.0|0.0|0.0|   2020|\n",
      "|A Ahmadhel (BUL)|  2| 2.0|0.0|0.0|0.0|0.0|2020/21|\n",
      "|A Ahmadhel (BUL)|  3| 3.0|0.0|0.0|0.0|0.0|   2021|\n",
      "|A Ahmadhel (BUL)|  2| 1.0|0.0|0.0|0.0|0.0|   2023|\n",
      "+----------------+---+----+---+---+---+---+-------+\n",
      "only showing top 5 rows\n",
      "\n"
     ]
    }
   ],
   "source": [
    "from pyspark.sql.functions import col, when\n",
    "fielding_data = fielding_data.withColumn('Inns', when(col('Inns') == '-', '0').otherwise(col('Inns')).cast('float'))\n",
    "fielding_data = fielding_data.withColumn('Dis', when(col('Dis') == '-', '0').otherwise(col('Dis')).cast('float'))\n",
    "fielding_data = fielding_data.withColumn('Ct', when(col('Ct') == '-', '0').otherwise(col('Ct')).cast('float'))\n",
    "fielding_data = fielding_data.withColumn('St', when(col('St') == '-', '0').otherwise(col('St')).cast('float'))\n",
    "fielding_data = fielding_data.withColumn('D/I', when(col('D/I') == '-', col('Dis')/col('Inns')).otherwise(col('D/I')).cast('float')).fillna(0)\n",
    "fielding_data.show(5)"
   ]
  },
  {
   "cell_type": "code",
   "execution_count": 107,
   "metadata": {},
   "outputs": [
    {
     "name": "stdout",
     "output_type": "stream",
     "text": [
      "+----------+---+----+---+---+---+---+-------+-------+\n",
      "|    Player|Mat|Inns|Dis| Ct| St|D/I| Season|Country|\n",
      "+----------+---+----+---+---+---+---+-------+-------+\n",
      "|A Ahmadhel|  3| 3.0|0.0|0.0|0.0|0.0|2019/20|    BUL|\n",
      "|A Ahmadhel|  1| 1.0|0.0|0.0|0.0|0.0|   2020|    BUL|\n",
      "|A Ahmadhel|  2| 2.0|0.0|0.0|0.0|0.0|2020/21|    BUL|\n",
      "|A Ahmadhel|  3| 3.0|0.0|0.0|0.0|0.0|   2021|    BUL|\n",
      "|A Ahmadhel|  2| 1.0|0.0|0.0|0.0|0.0|   2023|    BUL|\n",
      "+----------+---+----+---+---+---+---+-------+-------+\n",
      "only showing top 5 rows\n",
      "\n"
     ]
    }
   ],
   "source": [
    "from pyspark.sql.functions import regexp_extract, regexp_replace\n",
    "\n",
    "# Extract the country name between '(' and ')'\n",
    "fielding_data = fielding_data.withColumn(\"Country\", regexp_extract(col(\"Player\"), r\"\\((.*?)\\)\", 1))\n",
    "\n",
    "# Extract the player's name before the first '('\n",
    "fielding_data = fielding_data.withColumn(\"Player\", regexp_extract(col(\"Player\"), r\"^(.*?)\\s\\(\", 1))\n",
    "\n",
    "# Show the result\n",
    "fielding_data.show(5)"
   ]
  },
  {
   "cell_type": "code",
   "execution_count": 108,
   "metadata": {},
   "outputs": [
    {
     "name": "stdout",
     "output_type": "stream",
     "text": [
      "+-----------+---+----+---+---+---+-----+-------+-------+--------------+---------------+--------------+-------------+-------------+--------------+\n",
      "|     Player|Mat|Inns|Dis| Ct| St|  D/I| Season|Country|Cumulative Mat|Cumulative Inns|Cumulative Dis|Cumulative Ct|Cumulative St|Cumulative D/I|\n",
      "+-----------+---+----+---+---+---+-----+-------+-------+--------------+---------------+--------------+-------------+-------------+--------------+\n",
      "| A Ahmadhel|  3| 3.0|0.0|0.0|0.0|  0.0|2019/20|    BUL|             0|            0.0|           0.0|          0.0|          0.0|           0.0|\n",
      "| A Ahmadhel|  1| 1.0|0.0|0.0|0.0|  0.0|   2020|    BUL|             3|            3.0|           0.0|          0.0|          0.0|           0.0|\n",
      "| A Ahmadhel|  2| 2.0|0.0|0.0|0.0|  0.0|2020/21|    BUL|             4|            4.0|           0.0|          0.0|          0.0|           0.0|\n",
      "| A Ahmadhel|  3| 3.0|0.0|0.0|0.0|  0.0|   2021|    BUL|             6|            6.0|           0.0|          0.0|          0.0|           0.0|\n",
      "| A Ahmadhel|  2| 1.0|0.0|0.0|0.0|  0.0|   2023|    BUL|             9|            9.0|           0.0|          0.0|          0.0|           0.0|\n",
      "| A Ahmadhel|  1| 1.0|1.0|1.0|0.0|  1.0|   2024|    BUL|            11|           10.0|           0.0|          0.0|          0.0|           0.0|\n",
      "|A Alexander|  1| 1.0|0.0|0.0|0.0|  0.0|2024/25|    INA|             0|            0.0|           0.0|          0.0|          0.0|           0.0|\n",
      "|    A Amado|  3| 3.0|2.0|2.0|0.0|0.666|   2022|    ISR|             0|            0.0|           0.0|          0.0|          0.0|           0.0|\n",
      "|  A Andrews|  3| 3.0|4.0|4.0|0.0|1.333|2021/22|    SUI|             0|            0.0|           0.0|          0.0|          0.0|           0.0|\n",
      "|  A Andrews|  4| 4.0|3.0|3.0|0.0| 0.75|   2022|    SUI|             3|            3.0|           4.0|          4.0|          0.0|          1.33|\n",
      "+-----------+---+----+---+---+---+-----+-------+-------+--------------+---------------+--------------+-------------+-------------+--------------+\n",
      "only showing top 10 rows\n",
      "\n"
     ]
    }
   ],
   "source": [
    "from pyspark.sql import Window\n",
    "from pyspark.sql.functions import col, sum as spark_sum, when, row_number, round\n",
    "\n",
    "# Define the window specification for cumulative calculations\n",
    "window_spec = Window.partitionBy(\"Player\", \"Country\").orderBy(\"Season\").rowsBetween(Window.unboundedPreceding, -1)\n",
    "\n",
    "# Window for row number to identify the first row per player and country\n",
    "row_num_window = Window.partitionBy(\"Player\", \"Country\").orderBy(\"Season\")\n",
    "\n",
    "# Perform cumulative calculations with conditions\n",
    "fielding_data = fielding_data.withColumn(\"row_num\", row_number().over(row_num_window)) \\\n",
    "    .withColumn(\"Cumulative Mat\",\n",
    "                when(col(\"row_num\") == 1, 0)\n",
    "                .otherwise(spark_sum(\"Mat\").over(window_spec))) \\\n",
    "    .withColumn(\"Cumulative Inns\",\n",
    "                when(col(\"row_num\") == 1, 0)  # Set 0 for the first row (before any match)\n",
    "                .otherwise(spark_sum(\"Inns\").over(window_spec))) \\\n",
    "    .withColumn(\"Cumulative Dis\", \n",
    "                when(col(\"row_num\") == 1, 0)  # Set 0 for the first row (before any match)\n",
    "                .otherwise(spark_sum(\"Dis\").over(window_spec))) \\\n",
    "    .withColumn(\"Cumulative Ct\", \n",
    "                when(col(\"row_num\") == 1, 0)\n",
    "                .otherwise(spark_sum(\"Ct\").over(window_spec))) \\\n",
    "    .withColumn(\"Cumulative St\", \n",
    "                when(col(\"row_num\") == 1, 0)\n",
    "                .otherwise(spark_sum(\"St\").over(window_spec))) \\\n",
    "    .withColumn(\"Cumulative D/I\", \n",
    "                when(col(\"row_num\") == 1, 0)\n",
    "                .otherwise(\n",
    "                    round(\n",
    "                        when(spark_sum(\"Inns\").over(window_spec) != 0, \n",
    "                             spark_sum((\"Dis\")).over(window_spec) / spark_sum(\"Inns\").over(window_spec))\n",
    "                        .otherwise(0), 2)\n",
    "                )\n",
    "    ) \\\n",
    "    .drop(\"row_num\")  # Drop the temporary row number column\n",
    "\n",
    "# Show the resulting DataFrame\n",
    "fielding_data.show(10)"
   ]
  },
  {
   "cell_type": "code",
   "execution_count": 109,
   "metadata": {},
   "outputs": [
    {
     "name": "stdout",
     "output_type": "stream",
     "text": [
      "+---------------+---+----+---+---+---+-----+-------+-------+--------------+---------------+--------------+-------------+-------------+--------------+\n",
      "|         Player|Mat|Inns|Dis| Ct| St|  D/I| Season|Country|Cumulative Mat|Cumulative Inns|Cumulative Dis|Cumulative Ct|Cumulative St|Cumulative D/I|\n",
      "+---------------+---+----+---+---+---+-----+-------+-------+--------------+---------------+--------------+-------------+-------------+--------------+\n",
      "|Shakib Al Hasan|  1| 1.0|0.0|0.0|0.0|  0.0|2006/07|    BAN|             0|            0.0|           0.0|          0.0|          0.0|           0.0|\n",
      "|Shakib Al Hasan|  6| 6.0|2.0|2.0|0.0|0.333|2007/08|    BAN|             1|            1.0|           0.0|          0.0|          0.0|           0.0|\n",
      "|Shakib Al Hasan|  1| 1.0|1.0|1.0|0.0|  1.0|2008/09|    BAN|             7|            7.0|           2.0|          2.0|          0.0|          0.29|\n",
      "|Shakib Al Hasan|  3| 3.0|1.0|1.0|0.0|0.333|   2009|    BAN|             8|            8.0|           3.0|          3.0|          0.0|          0.38|\n",
      "|Shakib Al Hasan|  1| 1.0|0.0|0.0|0.0|  0.0|2009/10|    BAN|            11|           11.0|           4.0|          4.0|          0.0|          0.36|\n",
      "|Shakib Al Hasan|  2| 2.0|0.0|0.0|0.0|  0.0|   2010|    BAN|            12|           12.0|           4.0|          4.0|          0.0|          0.33|\n",
      "|Shakib Al Hasan|  2| 2.0|0.0|0.0|0.0|  0.0|2011/12|    BAN|            14|           14.0|           4.0|          4.0|          0.0|          0.29|\n",
      "|Shakib Al Hasan|  6| 6.0|2.0|2.0|0.0|0.333|   2012|    BAN|            16|           16.0|           4.0|          4.0|          0.0|          0.25|\n",
      "|Shakib Al Hasan|  2| 2.0|0.0|0.0|0.0|  0.0|2012/13|    BAN|            22|           22.0|           6.0|          6.0|          0.0|          0.27|\n",
      "|Shakib Al Hasan|  2| 2.0|1.0|1.0|0.0|  0.5|   2013|    BAN|            24|           24.0|           6.0|          6.0|          0.0|          0.25|\n",
      "|Shakib Al Hasan|  9| 9.0|2.0|2.0|0.0|0.222|2013/14|    BAN|            26|           26.0|           7.0|          7.0|          0.0|          0.27|\n",
      "|Shakib Al Hasan|  3| 3.0|1.0|1.0|0.0|0.333|   2015|    BAN|            35|           35.0|           9.0|          9.0|          0.0|          0.26|\n",
      "|Shakib Al Hasan| 16|15.0|6.0|6.0|0.0|  0.4|2015/16|    BAN|            38|           38.0|          10.0|         10.0|          0.0|          0.26|\n",
      "|Shakib Al Hasan|  5| 5.0|1.0|1.0|0.0|  0.2|2016/17|    BAN|            54|           53.0|          16.0|         16.0|          0.0|           0.3|\n",
      "|Shakib Al Hasan|  4| 4.0|0.0|0.0|0.0|  0.0|2017/18|    BAN|            59|           58.0|          17.0|         17.0|          0.0|          0.29|\n",
      "|Shakib Al Hasan|  6| 6.0|1.0|1.0|0.0|0.166|   2018|    BAN|            63|           62.0|          17.0|         17.0|          0.0|          0.27|\n",
      "|Shakib Al Hasan|  3| 3.0|0.0|0.0|0.0|  0.0|2018/19|    BAN|            69|           68.0|          18.0|         18.0|          0.0|          0.26|\n",
      "|Shakib Al Hasan|  4| 4.0|1.0|1.0|0.0| 0.25|   2019|    BAN|            72|           71.0|          18.0|         18.0|          0.0|          0.25|\n",
      "|Shakib Al Hasan| 12|12.0|2.0|2.0|0.0|0.166|   2021|    BAN|            76|           75.0|          19.0|         19.0|          0.0|          0.25|\n",
      "|Shakib Al Hasan|  8| 8.0|1.0|1.0|0.0|0.125|2021/22|    BAN|            88|           87.0|          21.0|         21.0|          0.0|          0.24|\n",
      "+---------------+---+----+---+---+---+-----+-------+-------+--------------+---------------+--------------+-------------+-------------+--------------+\n",
      "only showing top 20 rows\n",
      "\n"
     ]
    }
   ],
   "source": [
    "fielding_data.filter(col(\"Player\") == \"Shakib Al Hasan\").show()"
   ]
  },
  {
   "cell_type": "code",
   "execution_count": 110,
   "metadata": {},
   "outputs": [
    {
     "name": "stdout",
     "output_type": "stream",
     "text": [
      "+----------+-------+-------+--------------+---------------+--------------+-------------+-------------+--------------+\n",
      "|    Player|Country| Season|Cumulative Mat|Cumulative Inns|Cumulative Dis|Cumulative Ct|Cumulative St|Cumulative D/I|\n",
      "+----------+-------+-------+--------------+---------------+--------------+-------------+-------------+--------------+\n",
      "|A Ahmadhel|    BUL|2019/20|             0|            0.0|           0.0|          0.0|          0.0|           0.0|\n",
      "|A Ahmadhel|    BUL|   2020|             3|            3.0|           0.0|          0.0|          0.0|           0.0|\n",
      "|A Ahmadhel|    BUL|2020/21|             4|            4.0|           0.0|          0.0|          0.0|           0.0|\n",
      "|A Ahmadhel|    BUL|   2021|             6|            6.0|           0.0|          0.0|          0.0|           0.0|\n",
      "|A Ahmadhel|    BUL|   2023|             9|            9.0|           0.0|          0.0|          0.0|           0.0|\n",
      "+----------+-------+-------+--------------+---------------+--------------+-------------+-------------+--------------+\n",
      "only showing top 5 rows\n",
      "\n"
     ]
    }
   ],
   "source": [
    "fielding_data = fielding_data.select(['Player', 'Country', 'Season', 'Cumulative Mat', 'Cumulative Inns', 'Cumulative Dis', 'Cumulative Ct', 'Cumulative St', 'Cumulative D/I'])\n",
    "fielding_data.show(5)"
   ]
  },
  {
   "cell_type": "code",
   "execution_count": 111,
   "metadata": {},
   "outputs": [
    {
     "name": "stdout",
     "output_type": "stream",
     "text": [
      "+------+-------+------+--------------+---------------+--------------+-------------+-------------+--------------+\n",
      "|Player|Country|Season|Cumulative Mat|Cumulative Inns|Cumulative Dis|Cumulative Ct|Cumulative St|Cumulative D/I|\n",
      "+------+-------+------+--------------+---------------+--------------+-------------+-------------+--------------+\n",
      "|     0|      0|     0|             0|              0|             0|            0|            0|             0|\n",
      "+------+-------+------+--------------+---------------+--------------+-------------+-------------+--------------+\n",
      "\n"
     ]
    }
   ],
   "source": [
    "# calculate null count\n",
    "from pyspark.sql.functions import isnan, when, count\n",
    "\n",
    "fielding_data.select([count(when(isnan(c) | col(c).isNull(), c)).alias(c) for c in fielding_data.columns]).show()"
   ]
  },
  {
   "cell_type": "code",
   "execution_count": 112,
   "metadata": {},
   "outputs": [
    {
     "data": {
      "text/plain": [
       "(103, 11, 5, 103)"
      ]
     },
     "execution_count": 112,
     "metadata": {},
     "output_type": "execute_result"
    }
   ],
   "source": [
    "country_codes = {\n",
    "    'LES': 'Lesotho',\n",
    "    'BUL': 'Bulgaria',\n",
    "    'VAN': 'Vanuatu',\n",
    "    'ROM': 'Romania',\n",
    "    'Aut': 'Austria',\n",
    "    'COK': 'Cook Islands',\n",
    "    'Fran': 'France',\n",
    "    'SRB': 'Serbia',\n",
    "    'PAK': 'Pakistan',\n",
    "    'HUN': 'Hungary',\n",
    "    'CYP': 'Cyprus',\n",
    "    'Fiji': 'Fiji',\n",
    "    'FIN': 'Finland',\n",
    "    'EST': 'Estonia',\n",
    "    'CHN': 'China',\n",
    "    'GRC': 'Greece',\n",
    "    'CAM': 'Cambodia',\n",
    "    'GUE': 'Guernsey',\n",
    "    'SEY': 'Seychelles',\n",
    "    'JPN': 'Japan',\n",
    "    'TAN': 'Tanzania',\n",
    "    'JER': 'Jersey',\n",
    "    'QAT': 'Qatar',\n",
    "    'ENG': 'England',\n",
    "    'UGA': 'Uganda',\n",
    "    'BER': 'Bermuda',\n",
    "    'CZK-R': 'Czech Republic',\n",
    "    'CAY': 'Cayman Islands',\n",
    "    'IRE': 'Ireland',\n",
    "    'Mali': 'Mali',\n",
    "    'BRA': 'Brazil',\n",
    "    'SUI': 'Switzerland',\n",
    "    'Peru': 'Peru',\n",
    "    'Mex': 'Mexico',\n",
    "    'MOZ': 'Mozambique',\n",
    "    'Samoa': 'Samoa',\n",
    "    'HKG': 'Hong Kong',\n",
    "    'BAN': 'Bangladesh',\n",
    "    'SL': 'Sri Lanka',\n",
    "    'PNG': 'Papua New Guinea',\n",
    "    'ZIM': 'Zimbabwe',\n",
    "    'GHA': 'Ghana',\n",
    "    'SWZ': 'Eswatini',  # Swaziland's official name now is Eswatini\n",
    "    'MYAN': 'Myanmar',\n",
    "    'IND': 'India',\n",
    "    'USA': 'United States of America',\n",
    "    'NEP': 'Nepal',\n",
    "    'AFG': 'Afghanistan',\n",
    "    'PAN': 'Panama',\n",
    "    'NGA': 'Nigeria',\n",
    "    'SLE': 'Sierra Leone',\n",
    "    'ESP': 'Spain',\n",
    "    'Bhm': 'Bahamas',\n",
    "    'TKY': 'Turkey',\n",
    "    'MWI': 'Malawi',\n",
    "    'WI': 'West Indies',\n",
    "    'IOM': 'Isle of Man',\n",
    "    'THA': 'Thailand',\n",
    "    'SWA': 'Eswatini',  # another code for Eswatini\n",
    "    'SKOR': 'South Korea',\n",
    "    'GMB': 'Gambia',\n",
    "    'ISR': 'Israel',\n",
    "    'KUW': 'Kuwait',\n",
    "    'Belg': 'Belgium',\n",
    "    'GER': 'Germany',\n",
    "    'ITA': 'Italy',\n",
    "    'CAN': 'Canada',\n",
    "    'MDV': 'Maldives',\n",
    "    'Blz': 'Belize',\n",
    "    'DEN': 'Denmark',\n",
    "    'INA': 'Indonesia',\n",
    "    'KENYA': 'Kenya',\n",
    "    'LUX': 'Luxembourg',\n",
    "    'STHEL': 'Saint Helena',\n",
    "    'BHR': 'Bahrain',\n",
    "    'KSA': 'Saudi Arabia',\n",
    "    'MLT': 'Malta',\n",
    "    'Arg': 'Argentina',\n",
    "    'MNG': 'Mongolia',\n",
    "    'AUS': 'Australia',\n",
    "    'GIBR': 'Gibraltar',\n",
    "    'SGP': 'Singapore',\n",
    "    'Chile': 'Chile',\n",
    "    'UAE': 'United Arab Emirates',\n",
    "    'NZ': 'New Zealand',\n",
    "    'SCOT': 'Scotland',\n",
    "    'BHU': 'Bhutan',\n",
    "    'MAS': 'Malaysia',\n",
    "    'BOT': 'Botswana',\n",
    "    'CRC': 'Costa Rica',\n",
    "    'PHI': 'Philippines',\n",
    "    'NAM': 'Namibia',\n",
    "    'RWN': 'Rwanda',\n",
    "    'OMA': 'Oman',\n",
    "    'NOR': 'Norway',\n",
    "    'CRT': 'Croatia',\n",
    "    'SWE': 'Sweden',\n",
    "    'Iran': 'Iran',\n",
    "    'PORT': 'Portugal',\n",
    "    'NED': 'Netherlands',\n",
    "    'SA': 'South Africa',\n",
    "    'SVN': 'Slovenia',\n",
    "    'GUE': 'Guernsey',\n",
    "    'MDV': 'Maldives',\n",
    "    'BHM': 'Bahamas',\n",
    "    'SWE': 'Sweden',\n",
    "    'MLT': 'Malta',\n",
    "    'ITA': 'Italy',\n",
    "}\n",
    "\n",
    "# ICC and World teams\n",
    "icc_world = {\n",
    "    'ICC/PAK': 'Pakistan',\n",
    "    'ICC/SL': 'Sri Lanka',\n",
    "    'ICC/IND': 'India',\n",
    "    'ICC/NEP': 'Nepal',\n",
    "    'BAN/ICC': 'Bangladesh',\n",
    "    'AFG/ICC': 'Afghanistan',\n",
    "    'SL/World': 'Sri Lanka',\n",
    "    'SA/World': 'South Africa',\n",
    "    'AUS/World': 'Australia',\n",
    "    'BAN/World': 'Bangladesh',\n",
    "    'WI/World': 'West Indies',\n",
    "}\n",
    "\n",
    "# Outlier/Miscellaneous Countries\n",
    "outlier_countries = {\n",
    "    '1': 'Miscellaneous Country 1',\n",
    "    '2': 'Miscellaneous Country 2',\n",
    "    '3': 'Miscellaneous Country 3',\n",
    "    'ICC': 'International Cricket Council',\n",
    "    'World': 'World XI',\n",
    "}\n",
    "\n",
    "# Filtered country codes excluding ICC, World teams, and miscellaneous\n",
    "filtered_countries = {\n",
    "    code: country\n",
    "    for code, country in country_codes.items()\n",
    "    if code not in icc_world and code not in outlier_countries\n",
    "}\n",
    "len(country_codes), len(icc_world), len(outlier_countries), len(filtered_countries)"
   ]
  },
  {
   "cell_type": "code",
   "execution_count": 113,
   "metadata": {},
   "outputs": [
    {
     "name": "stdout",
     "output_type": "stream",
     "text": [
      "+----------+-------+-------+--------------+---------------+--------------+-------------+-------------+--------------+\n",
      "|    Player|Country| Season|Cumulative Mat|Cumulative Inns|Cumulative Dis|Cumulative Ct|Cumulative St|Cumulative D/I|\n",
      "+----------+-------+-------+--------------+---------------+--------------+-------------+-------------+--------------+\n",
      "|A Ahmadhel|    BUL|2019/20|             0|            0.0|           0.0|          0.0|          0.0|           0.0|\n",
      "|A Ahmadhel|    BUL|   2020|             3|            3.0|           0.0|          0.0|          0.0|           0.0|\n",
      "|A Ahmadhel|    BUL|2020/21|             4|            4.0|           0.0|          0.0|          0.0|           0.0|\n",
      "|A Ahmadhel|    BUL|   2021|             6|            6.0|           0.0|          0.0|          0.0|           0.0|\n",
      "|A Ahmadhel|    BUL|   2023|             9|            9.0|           0.0|          0.0|          0.0|           0.0|\n",
      "+----------+-------+-------+--------------+---------------+--------------+-------------+-------------+--------------+\n",
      "only showing top 5 rows\n",
      "\n"
     ]
    }
   ],
   "source": [
    "fielding_data = fielding_data.filter(col('Country').isin(list(filtered_countries.keys())))\n",
    "fielding_data.show(5)"
   ]
  },
  {
   "cell_type": "code",
   "execution_count": 114,
   "metadata": {},
   "outputs": [
    {
     "name": "stdout",
     "output_type": "stream",
     "text": [
      "+----------+--------+-------+--------------+---------------+--------------+-------------+-------------+--------------+\n",
      "|    Player| Country| Season|Cumulative Mat|Cumulative Inns|Cumulative Dis|Cumulative Ct|Cumulative St|Cumulative D/I|\n",
      "+----------+--------+-------+--------------+---------------+--------------+-------------+-------------+--------------+\n",
      "|A Ahmadhel|Bulgaria|2019/20|             0|            0.0|           0.0|          0.0|          0.0|           0.0|\n",
      "|A Ahmadhel|Bulgaria|   2020|             3|            3.0|           0.0|          0.0|          0.0|           0.0|\n",
      "|A Ahmadhel|Bulgaria|2020/21|             4|            4.0|           0.0|          0.0|          0.0|           0.0|\n",
      "|A Ahmadhel|Bulgaria|   2021|             6|            6.0|           0.0|          0.0|          0.0|           0.0|\n",
      "|A Ahmadhel|Bulgaria|   2023|             9|            9.0|           0.0|          0.0|          0.0|           0.0|\n",
      "+----------+--------+-------+--------------+---------------+--------------+-------------+-------------+--------------+\n",
      "only showing top 5 rows\n",
      "\n"
     ]
    }
   ],
   "source": [
    "fielding_data = fielding_data.replace(filtered_countries,subset=['Country'])\n",
    "fielding_data.show(5)"
   ]
  },
  {
   "cell_type": "code",
   "execution_count": 115,
   "metadata": {},
   "outputs": [
    {
     "data": {
      "text/plain": [
       "(4129, 4074, 14035)"
      ]
     },
     "execution_count": 115,
     "metadata": {},
     "output_type": "execute_result"
    }
   ],
   "source": [
    "fielding_data[['Player','Country']].distinct().count(), fielding_data[['Player']].distinct().count(), fielding_data.distinct().count()"
   ]
  },
  {
   "cell_type": "code",
   "execution_count": 116,
   "metadata": {},
   "outputs": [
    {
     "name": "stdout",
     "output_type": "stream",
     "text": [
      "+---------------+--------------------+---------+\n",
      "|         Player|             Country|player_id|\n",
      "+---------------+--------------------+---------+\n",
      "|   M Rathnayake|               Italy| a969dc4c|\n",
      "|          L Vua|                Fiji| 978a63d4|\n",
      "|       B Shetty|                Oman| 58c16165|\n",
      "|Santiago Iturbe|           Argentina| 851b0636|\n",
      "|     CT Dhururu|            Zimbabwe| 8d7fba79|\n",
      "|      C Olphert|             Ireland| 7afc806f|\n",
      "|     JE Titmuss|           Hong Kong| 4a6c0fbb|\n",
      "|     VR Vanitha|               India| 2d963999|\n",
      "|  Nestor Dhamba|                Oman| b878fc9a|\n",
      "|        D Ganga|         West Indies| d5f3b5e1|\n",
      "|     M Mooketsi|            Botswana| 008a024c|\n",
      "|     Ali Rasool|            Bulgaria| 1a710f40|\n",
      "| Ignacio Lisboa|               Chile| eceeb63a|\n",
      "|    Adnan Ilyas|                Oman| d376bbaa|\n",
      "|        R Kanai|               Japan| 54a3d69f|\n",
      "|  Sanjida Islam|          Bangladesh| 12755a62|\n",
      "|    Aaron Jones|United States of ...| 17aa4f1d|\n",
      "|      S Qeshile|        South Africa| 94268960|\n",
      "|       AJ Staal|         Netherlands| 62c713bf|\n",
      "|    Rafaqat Ali|              Norway| b3f90695|\n",
      "+---------------+--------------------+---------+\n",
      "only showing top 20 rows\n",
      "\n"
     ]
    }
   ],
   "source": [
    "players_data = spark.read.csv(r'D:\\github\\Cricket-Prediction\\data\\2_processedData\\Players.csv', header=True, inferSchema=True)\n",
    "players_data = players_data.withColumnRenamed(\"player\", \"Player\").withColumnRenamed(\"country\", \"Country\")\n",
    "players_data.show()"
   ]
  },
  {
   "cell_type": "code",
   "execution_count": 117,
   "metadata": {},
   "outputs": [
    {
     "name": "stdout",
     "output_type": "stream",
     "text": [
      "+-----------+--------------+-------+--------------+---------------+--------------+-------------+-------------+--------------+---------+\n",
      "|     Player|       Country| Season|Cumulative Mat|Cumulative Inns|Cumulative Dis|Cumulative Ct|Cumulative St|Cumulative D/I|player_id|\n",
      "+-----------+--------------+-------+--------------+---------------+--------------+-------------+-------------+--------------+---------+\n",
      "| A Ahmadhel|      Bulgaria|2019/20|             0|            0.0|           0.0|          0.0|          0.0|           0.0| 55a5cffb|\n",
      "| A Ahmadhel|      Bulgaria|   2020|             3|            3.0|           0.0|          0.0|          0.0|           0.0| 55a5cffb|\n",
      "| A Ahmadhel|      Bulgaria|2020/21|             4|            4.0|           0.0|          0.0|          0.0|           0.0| 55a5cffb|\n",
      "| A Ahmadhel|      Bulgaria|   2021|             6|            6.0|           0.0|          0.0|          0.0|           0.0| 55a5cffb|\n",
      "| A Ahmadhel|      Bulgaria|   2023|             9|            9.0|           0.0|          0.0|          0.0|           0.0| 55a5cffb|\n",
      "| A Ahmadhel|      Bulgaria|   2024|            11|           10.0|           0.0|          0.0|          0.0|           0.0| 55a5cffb|\n",
      "|    A Amado|        Israel|   2022|             0|            0.0|           0.0|          0.0|          0.0|           0.0| 14ea3348|\n",
      "|  A Andrews|   Switzerland|2021/22|             0|            0.0|           0.0|          0.0|          0.0|           0.0| 1d45c01a|\n",
      "|  A Andrews|   Switzerland|   2022|             3|            3.0|           4.0|          4.0|          0.0|          1.33| 1d45c01a|\n",
      "|    A Ashok|   New Zealand|   2023|             0|            0.0|           0.0|          0.0|          0.0|           0.0| 321be7e3|\n",
      "|  A Ashokan|Czech Republic|2019/20|             0|            0.0|           0.0|          0.0|          0.0|           0.0| 9244df4b|\n",
      "|  A Ashokan|Czech Republic|   2020|             2|            2.0|           1.0|          1.0|          0.0|           0.5| 9244df4b|\n",
      "|  A Ashokan|Czech Republic|   2021|             6|            6.0|           3.0|          3.0|          0.0|           0.5| 9244df4b|\n",
      "|  A Ashokan|Czech Republic|   2022|            13|           13.0|           6.0|          6.0|          0.0|          0.46| 9244df4b|\n",
      "|  A Ashokan|Czech Republic|   2023|            28|           28.0|          11.0|         11.0|          0.0|          0.39| 9244df4b|\n",
      "| A Athanaze|   West Indies|   2024|             0|            0.0|           0.0|          0.0|          0.0|           0.0| 58c2fac4|\n",
      "|    A Bagai|        Canada|   2008|             0|            0.0|           0.0|          0.0|          0.0|           0.0| 112959b2|\n",
      "|    A Bagai|        Canada|2009/10|             3|            3.0|           5.0|          2.0|          3.0|          1.67| 112959b2|\n",
      "|    A Bagai|        Canada|2013/14|             7|            7.0|           7.0|          3.0|          4.0|           1.0| 112959b2|\n",
      "|A Balbirnie|       Ireland|   2015|             0|            0.0|           0.0|          0.0|          0.0|           0.0| 6ef13460|\n",
      "+-----------+--------------+-------+--------------+---------------+--------------+-------------+-------------+--------------+---------+\n",
      "only showing top 20 rows\n",
      "\n"
     ]
    }
   ],
   "source": [
    "fielding_data = fielding_data.join(players_data, ['Player', 'Country'], 'inner')\n",
    "fielding_data.show()"
   ]
  },
  {
   "cell_type": "code",
   "execution_count": 118,
   "metadata": {},
   "outputs": [],
   "source": [
    "fielding_data.toPandas().to_csv(r'D:\\github\\Cricket-Prediction\\data\\2_processedData\\fielding.csv', header=True, index=False)"
   ]
  }
 ],
 "metadata": {
  "kernelspec": {
   "display_name": "eda",
   "language": "python",
   "name": "python3"
  },
  "language_info": {
   "codemirror_mode": {
    "name": "ipython",
    "version": 3
   },
   "file_extension": ".py",
   "mimetype": "text/x-python",
   "name": "python",
   "nbconvert_exporter": "python",
   "pygments_lexer": "ipython3",
   "version": "3.8.19"
  }
 },
 "nbformat": 4,
 "nbformat_minor": 2
}
