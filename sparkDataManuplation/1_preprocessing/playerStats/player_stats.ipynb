{
 "cells": [
  {
   "cell_type": "code",
   "execution_count": 1,
   "metadata": {},
   "outputs": [
    {
     "data": {
      "text/html": [
       "<pre style=\"white-space:pre;overflow-x:auto;line-height:normal;font-family:Menlo,'DejaVu Sans Mono',consolas,'Courier New',monospace\"><span style=\"color: #808000; text-decoration-color: #808000; font-weight: bold\">/home/ravikumar/miniconda3/envs/t20i/lib/python3.12/site-packages/airflow/configuration.py:</span><span style=\"color: #808000; text-decoration-color: #808000; font-weight: bold\">859</span><span style=\"color: #808000; text-decoration-color: #808000; font-weight: bold\"> FutureWarning</span><span style=\"color: #808000; text-decoration-color: #808000\">: section/key </span><span style=\"color: #808000; text-decoration-color: #808000; font-weight: bold\">[</span><span style=\"color: #808000; text-decoration-color: #808000\">core/sql_alchemy_conn</span><span style=\"color: #808000; text-decoration-color: #808000; font-weight: bold\">]</span><span style=\"color: #808000; text-decoration-color: #808000\"> has been deprecated, you should use</span><span style=\"color: #808000; text-decoration-color: #808000; font-weight: bold\">[</span><span style=\"color: #808000; text-decoration-color: #808000\">database/sql_alchemy_conn</span><span style=\"color: #808000; text-decoration-color: #808000; font-weight: bold\">]</span><span style=\"color: #808000; text-decoration-color: #808000\"> instead. Please update your `conf.get*` call to use the new name</span>\n",
       "</pre>\n"
      ],
      "text/plain": [
       "\u001b[1;33m/home/ravikumar/miniconda3/envs/t20i/lib/python3.12/site-packages/airflow/\u001b[0m\u001b[1;33mconfiguration.py\u001b[0m\u001b[1;33m:\u001b[0m\u001b[1;33m859\u001b[0m\u001b[1;33m FutureWarning\u001b[0m\u001b[33m: section/key \u001b[0m\u001b[1;33m[\u001b[0m\u001b[33mcore/sql_alchemy_conn\u001b[0m\u001b[1;33m]\u001b[0m\u001b[33m has been deprecated, you should use\u001b[0m\u001b[1;33m[\u001b[0m\u001b[33mdatabase/sql_alchemy_conn\u001b[0m\u001b[1;33m]\u001b[0m\u001b[33m instead. Please update your `conf.get*` call to use the new name\u001b[0m\n"
      ]
     },
     "metadata": {},
     "output_type": "display_data"
    },
    {
     "name": "stdout",
     "output_type": "stream",
     "text": [
      "[\u001b[34m2024-11-15T15:12:07.985+0530\u001b[0m] {\u001b[34mutils.py:\u001b[0m12} INFO\u001b[0m - Creating Spark session.\u001b[0m\n"
     ]
    },
    {
     "name": "stderr",
     "output_type": "stream",
     "text": [
      "your 131072x1 screen size is bogus. expect trouble\n",
      "24/11/15 15:12:10 WARN NativeCodeLoader: Unable to load native-hadoop library for your platform... using builtin-java classes where applicable\n",
      "24/11/15 15:12:15 WARN Utils: spark.executor.instances less than spark.dynamicAllocation.minExecutors is invalid, ignoring its setting, please update your configs.\n"
     ]
    },
    {
     "name": "stdout",
     "output_type": "stream",
     "text": [
      "[\u001b[34m2024-11-15T15:12:16.087+0530\u001b[0m] {\u001b[34mutils.py:\u001b[0m30} INFO\u001b[0m - Spark session created successfully.\u001b[0m\n",
      "[\u001b[34m2024-11-15T15:12:16.089+0530\u001b[0m] {\u001b[34mutils.py:\u001b[0m39} INFO\u001b[0m - Loading data from fielding_data.csv.\u001b[0m\n"
     ]
    },
    {
     "name": "stderr",
     "output_type": "stream",
     "text": [
      "[Stage 1:>                                                          (0 + 1) / 1]\r"
     ]
    },
    {
     "name": "stdout",
     "output_type": "stream",
     "text": [
      "[\u001b[34m2024-11-15T15:12:24.316+0530\u001b[0m] {\u001b[34mutils.py:\u001b[0m39} INFO\u001b[0m - Loading data from bowling_data.csv.\u001b[0m\n"
     ]
    },
    {
     "name": "stderr",
     "output_type": "stream",
     "text": [
      "                                                                                \r"
     ]
    },
    {
     "name": "stdout",
     "output_type": "stream",
     "text": [
      "[\u001b[34m2024-11-15T15:12:24.817+0530\u001b[0m] {\u001b[34mutils.py:\u001b[0m39} INFO\u001b[0m - Loading data from batting_data.csv.\u001b[0m\n",
      "+----------+--------+-------+--------------+---------------+--------------+-------------+-------------+--------------+\n",
      "|    Player| Country| Season|Cumulative Mat|Cumulative Inns|Cumulative Dis|Cumulative Ct|Cumulative St|Cumulative D/I|\n",
      "+----------+--------+-------+--------------+---------------+--------------+-------------+-------------+--------------+\n",
      "|A Ahmadhel|Bulgaria|2019/20|             0|            0.0|           0.0|          0.0|          0.0|           0.0|\n",
      "|A Ahmadhel|Bulgaria|   2020|             3|            3.0|           0.0|          0.0|          0.0|           0.0|\n",
      "|A Ahmadhel|Bulgaria|2020/21|             4|            4.0|           0.0|          0.0|          0.0|           0.0|\n",
      "|A Ahmadhel|Bulgaria|   2021|             6|            6.0|           0.0|          0.0|          0.0|           0.0|\n",
      "|A Ahmadhel|Bulgaria|   2023|             9|            9.0|           0.0|          0.0|          0.0|           0.0|\n",
      "+----------+--------+-------+--------------+---------------+--------------+-------------+-------------+--------------+\n",
      "only showing top 5 rows\n",
      "\n"
     ]
    }
   ],
   "source": [
    "import os\n",
    "import sys\n",
    "sys.path.append(os.path.join(os.getcwd(), '..','..','..'))\n",
    "import config, utils\n",
    "\n",
    "# Create a Spark session\n",
    "spark = utils.create_spark_session(\"playerStats\", {\n",
    "    'spark.executor.memory': '4g',\n",
    "    'spark.executor.cores': '6',\n",
    "})\n",
    "\n",
    "fielding_data = utils.load_data(spark,config.PROCESSED_DATA_DIR, 'fielding_data.csv')\n",
    "bowling_data = utils.load_data(spark,config.PROCESSED_DATA_DIR, 'bowling_data.csv')\n",
    "batting_data = utils.load_data(spark,config.PROCESSED_DATA_DIR, 'batting_data.csv')\n",
    "\n",
    "fielding_data.show(5)"
   ]
  },
  {
   "cell_type": "code",
   "execution_count": 2,
   "metadata": {},
   "outputs": [
    {
     "name": "stdout",
     "output_type": "stream",
     "text": [
      "Total nulls in the dataframe:  0\n",
      "Total nulls in the dataframe:  0\n",
      "Total nulls in the dataframe:  0\n"
     ]
    }
   ],
   "source": [
    "# Check for nulls in the data\n",
    "def check_nulls(df):\n",
    "    nulls = 0\n",
    "    for col in df.columns:\n",
    "        nulls+= df.filter(df[col].isNull()).count()\n",
    "    print(\"Total nulls in the dataframe: \", nulls)\n",
    "\n",
    "check_nulls(batting_data)\n",
    "check_nulls(bowling_data)\n",
    "check_nulls(fielding_data)"
   ]
  },
  {
   "cell_type": "code",
   "execution_count": 3,
   "metadata": {},
   "outputs": [
    {
     "name": "stdout",
     "output_type": "stream",
     "text": [
      "['Player', 'Country', 'Season', 'Cum Mat Total', 'Cum Inns Total', 'Cum Runs Total', 'Cum Batting Ave', 'Cum SR'] 14142\n",
      "['Player', 'Country', 'Season', 'Cumulative Mat', 'Cumulative Inns', 'Cumulative Overs', 'Cumulative Runs', 'Cumulative Wkts', 'Cumulative Econ'] 14142\n",
      "['Player', 'Country', 'Season', 'Cumulative Mat', 'Cumulative Inns', 'Cumulative Dis', 'Cumulative Ct', 'Cumulative St', 'Cumulative D/I'] 14142\n"
     ]
    }
   ],
   "source": [
    "print(batting_data.columns,batting_data.count())\n",
    "print(bowling_data.columns,bowling_data.count())\n",
    "print(fielding_data.columns,fielding_data.count())"
   ]
  },
  {
   "cell_type": "code",
   "execution_count": 5,
   "metadata": {},
   "outputs": [
    {
     "name": "stdout",
     "output_type": "stream",
     "text": [
      "14142\n"
     ]
    },
    {
     "name": "stderr",
     "output_type": "stream",
     "text": [
      "24/11/15 15:13:02 WARN package: Truncated the string representation of a plan since it was too large. This behavior can be adjusted by setting 'spark.sql.debug.maxToStringFields'.\n",
      "[Stage 104:>                                                        (0 + 1) / 1]\r"
     ]
    },
    {
     "name": "stdout",
     "output_type": "stream",
     "text": [
      "+--------------+----------+-------+-------------+--------------+--------------+---------------+------+------------------+---------------+---------------+---------------+--------------+-------------+-------------+--------------+\n",
      "|        Player|   Country| Season|Cum Mat Total|Cum Inns Total|Cum Runs Total|Cum Batting Ave|Cum SR|  Cumulative Overs|Cumulative Runs|Cumulative Wkts|Cumulative Econ|Cumulative Dis|Cumulative Ct|Cumulative St|Cumulative D/I|\n",
      "+--------------+----------+-------+-------------+--------------+--------------+---------------+------+------------------+---------------+---------------+---------------+--------------+-------------+-------------+--------------+\n",
      "|     AU Rashid|   England|   2023|           95|            30|            92|           4.62|  78.5|331.20000076293945|         2454.0|           95.0|           7.55|          28.0|         28.0|          0.0|           0.3|\n",
      "|    Aizaz Khan| Hong Kong|2022/23|           49|            42|           429|          13.19|103.47|163.49999904632568|         1179.0|           58.0|           7.23|          13.0|         13.0|          0.0|          0.27|\n",
      "|  Ameer Saiyed|  Botswana|   2023|            4|             3|            38|          12.66| 80.85|               4.0|           44.0|            0.0|           11.0|           0.0|          0.0|          0.0|           0.0|\n",
      "|    Anoop Orsu|Luxembourg|2023/24|           12|            10|           126|          20.35|117.22|               5.0|           53.0|            1.0|           10.6|           3.0|          3.0|          0.0|          0.25|\n",
      "|Aslam Mohammad|    Greece|   2024|           10|             8|           129|          16.31| 97.26| 21.09999990463257|          164.0|            5.0|           7.85|           4.0|          4.0|          0.0|           0.4|\n",
      "+--------------+----------+-------+-------------+--------------+--------------+---------------+------+------------------+---------------+---------------+---------------+--------------+-------------+-------------+--------------+\n",
      "only showing top 5 rows\n",
      "\n"
     ]
    },
    {
     "name": "stderr",
     "output_type": "stream",
     "text": [
      "                                                                                \r"
     ]
    }
   ],
   "source": [
    "playerdata = batting_data.join(bowling_data, on=['Player',\"Country\",\"Season\"], how='inner').join(fielding_data, on=['Player',\"Country\",\"Season\"], how='inner')\\\n",
    "    .drop('Cumulative Mat','Cumulative Inns')\n",
    "playerdata = playerdata.dropDuplicates([ 'Player', 'Country', 'Season'])\n",
    "print(playerdata.count())\n",
    "playerdata.show(5)"
   ]
  },
  {
   "cell_type": "code",
   "execution_count": 6,
   "metadata": {},
   "outputs": [
    {
     "name": "stdout",
     "output_type": "stream",
     "text": [
      "+--------------+--------------+-------+-------------+--------------+--------------+---------------+------+------------------+---------------+---------------+---------------+--------------+-------------+-------------+--------------+\n",
      "|        Player|       Country| Season|Cum Mat Total|Cum Inns Total|Cum Runs Total|Cum Batting Ave|Cum SR|  Cumulative Overs|Cumulative Runs|Cumulative Wkts|Cumulative Econ|Cumulative Dis|Cumulative Ct|Cumulative St|Cumulative D/I|\n",
      "+--------------+--------------+-------+-------------+--------------+--------------+---------------+------+------------------+---------------+---------------+---------------+--------------+-------------+-------------+--------------+\n",
      "|    A Ahmadhel|      Bulgaria|2020/21|            4|             3|            24|            8.0| 100.0|              12.0|           97.0|            4.0|           8.38|           0.0|          0.0|          0.0|           0.0|\n",
      "|    A Ahmadhel|      Bulgaria|   2024|           11|             7|            31|           4.43| 63.42| 17.40000009536743|          155.0|            6.0|            9.3|           0.0|          0.0|          0.0|           0.0|\n",
      "|    A Ahmadhel|      Bulgaria|   2023|            9|             7|            31|           4.43| 63.42| 17.40000009536743|          155.0|            6.0|            9.3|           0.0|          0.0|          0.0|           0.0|\n",
      "|    A Ahmadhel|      Bulgaria|   2020|            3|             2|            16|            8.0| 100.0|              10.0|           75.0|            3.0|            7.5|           0.0|          0.0|          0.0|           0.0|\n",
      "|    A Ahmadhel|      Bulgaria|   2021|            6|             4|            26|            6.5| 82.14|14.400000095367432|          124.0|            6.0|           8.96|           0.0|          0.0|          0.0|           0.0|\n",
      "|    A Ahmadhel|      Bulgaria|2019/20|            0|             0|             0|            0.0|   0.0|               0.0|            0.0|            0.0|            0.0|           0.0|          0.0|          0.0|           0.0|\n",
      "|   A Alexander|     Indonesia|2024/25|            0|             0|             0|            0.0|   0.0|               0.0|            0.0|            0.0|            0.0|           0.0|          0.0|          0.0|           0.0|\n",
      "|       A Amado|        Israel|   2022|            0|             0|             0|            0.0|   0.0|               0.0|            0.0|            0.0|            0.0|           0.0|          0.0|          0.0|           0.0|\n",
      "|     A Andrews|   Switzerland|   2022|            3|             1|             0|            0.0|   0.0|              10.0|           61.0|            4.0|            6.1|           4.0|          4.0|          0.0|          1.33|\n",
      "|     A Andrews|   Switzerland|2021/22|            0|             0|             0|            0.0|   0.0|               0.0|            0.0|            0.0|            0.0|           0.0|          0.0|          0.0|           0.0|\n",
      "|A Anemogiannis|        Greece|2019/20|            0|             0|             0|            0.0|   0.0|               0.0|            0.0|            0.0|            0.0|           0.0|          0.0|          0.0|           0.0|\n",
      "|       A Ashok|   New Zealand|   2023|            0|             0|             0|            0.0|   0.0|               0.0|            0.0|            0.0|            0.0|           0.0|          0.0|          0.0|           0.0|\n",
      "|     A Ashokan|Czech Republic|   2021|            6|             6|            92|          15.33|110.08|              10.5|          113.0|            2.0|          10.38|           3.0|          3.0|          0.0|           0.5|\n",
      "|     A Ashokan|Czech Republic|   2023|           28|            27|           612|          30.37|116.41|              62.5|          528.0|           14.0|           8.57|          11.0|         11.0|          0.0|          0.39|\n",
      "|     A Ashokan|Czech Republic|   2020|            2|             2|            41|           20.5|141.37|               2.0|           16.0|            0.0|            8.0|           1.0|          1.0|          0.0|           0.5|\n",
      "|     A Ashokan|Czech Republic|   2022|           13|            13|           243|          23.34|108.88|              22.5|          217.0|            3.0|           9.52|           6.0|          6.0|          0.0|          0.46|\n",
      "|     A Ashokan|Czech Republic|2019/20|            0|             0|             0|            0.0|   0.0|               0.0|            0.0|            0.0|            0.0|           0.0|          0.0|          0.0|           0.0|\n",
      "|    A Aspiotis|        Greece|2019/20|            0|             0|             0|            0.0|   0.0|               0.0|            0.0|            0.0|            0.0|           0.0|          0.0|          0.0|           0.0|\n",
      "|    A Athanaze|   West Indies|   2024|            0|             0|             0|            0.0|   0.0|               0.0|            0.0|            0.0|            0.0|           0.0|          0.0|          0.0|           0.0|\n",
      "|       A Bagai|        Canada|2009/10|            3|             3|            24|           12.0|  92.3|               0.0|            0.0|            0.0|            0.0|           5.0|          2.0|          3.0|          1.67|\n",
      "+--------------+--------------+-------+-------------+--------------+--------------+---------------+------+------------------+---------------+---------------+---------------+--------------+-------------+-------------+--------------+\n",
      "only showing top 20 rows\n",
      "\n"
     ]
    }
   ],
   "source": [
    "playerdata.sort([\"Player\",\"Country\"]).show()"
   ]
  },
  {
   "cell_type": "code",
   "execution_count": 7,
   "metadata": {},
   "outputs": [
    {
     "name": "stdout",
     "output_type": "stream",
     "text": [
      "[\u001b[34m2024-11-15T15:13:35.326+0530\u001b[0m] {\u001b[34mutils.py:\u001b[0m57} INFO\u001b[0m - Successfully wrote data to /usr/ravi/t20/data/2_processedData/player_stats.csv\u001b[0m\n"
     ]
    }
   ],
   "source": [
    "utils.spark_save_data(playerdata,config.PROCESSED_DATA_DIR, 'player_stats.csv')\n",
    "spark.stop()"
   ]
  },
  {
   "cell_type": "code",
   "execution_count": null,
   "metadata": {},
   "outputs": [],
   "source": []
  }
 ],
 "metadata": {
  "kernelspec": {
   "display_name": "t20i",
   "language": "python",
   "name": "python3"
  },
  "language_info": {
   "codemirror_mode": {
    "name": "ipython",
    "version": 3
   },
   "file_extension": ".py",
   "mimetype": "text/x-python",
   "name": "python",
   "nbconvert_exporter": "python",
   "pygments_lexer": "ipython3",
   "version": "3.12.7"
  }
 },
 "nbformat": 4,
 "nbformat_minor": 2
}
