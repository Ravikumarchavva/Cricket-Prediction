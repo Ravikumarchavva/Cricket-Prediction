{
 "cells": [
  {
   "cell_type": "code",
   "execution_count": 2,
   "metadata": {},
   "outputs": [
    {
     "name": "stdout",
     "output_type": "stream",
     "text": [
      "+----------+--------+-------+-------------+--------------+--------------+---------------+------+---------+\n",
      "|    Player| Country| Season|Cum Mat Total|Cum Inns Total|Cum Runs Total|Cum Batting Ave|Cum SR|player_id|\n",
      "+----------+--------+-------+-------------+--------------+--------------+---------------+------+---------+\n",
      "|A Ahmadhel|Bulgaria|2019/20|            0|             0|             0|            0.0|   0.0| 55a5cffb|\n",
      "|A Ahmadhel|Bulgaria|   2020|            3|             2|            16|            8.0| 100.0| 55a5cffb|\n",
      "|A Ahmadhel|Bulgaria|2020/21|            4|             3|            24|            8.0| 100.0| 55a5cffb|\n",
      "|A Ahmadhel|Bulgaria|   2021|            6|             4|            26|            6.5| 82.14| 55a5cffb|\n",
      "|A Ahmadhel|Bulgaria|   2023|            9|             7|            31|           4.43| 63.42| 55a5cffb|\n",
      "+----------+--------+-------+-------------+--------------+--------------+---------------+------+---------+\n",
      "only showing top 5 rows\n",
      "\n"
     ]
    }
   ],
   "source": [
    "import sys\n",
    "import os\n",
    "\n",
    "os.environ['PYSPARK_PYTHON'] = sys.executable\n",
    "os.environ['PYSPARK_DRIVER_PYTHON'] = sys.executable\n",
    "\n",
    "\n",
    "# Then proceed to import and use Spark\n",
    "from pyspark.sql import SparkSession\n",
    "\n",
    "# Create a Spark session\n",
    "spark = SparkSession.builder.appName(\"CricketPrediction\").getOrCreate()\n",
    "\n",
    "\n",
    "# Specify the directory where your CSV files are located\n",
    "directory = r'D:\\github\\Cricket-Prediction\\data\\2_processeddata'\n",
    "\n",
    "# Read batting,bowling,fielding CSV files from the specified directory\n",
    "batting = spark.read.csv(directory + r'\\batting.csv', header=True, inferSchema=True)\n",
    "bowling = spark.read.csv(directory + r'\\bowling.csv', header=True, inferSchema=True).drop('Mat','Inns')\n",
    "fielding = spark.read.csv(directory + r'\\fielding.csv', header=True, inferSchema=True).drop('Mat','Inns')\n",
    "batting.show(5)"
   ]
  },
  {
   "cell_type": "code",
   "execution_count": 3,
   "metadata": {},
   "outputs": [
    {
     "name": "stdout",
     "output_type": "stream",
     "text": [
      "Total nulls in the dataframe:  0\n",
      "Total nulls in the dataframe:  0\n",
      "Total nulls in the dataframe:  0\n"
     ]
    }
   ],
   "source": [
    "# Check for nulls in the data\n",
    "def check_nulls(df):\n",
    "    nulls = 0\n",
    "    for col in df.columns:\n",
    "        nulls+= df.filter(df[col].isNull()).count()\n",
    "    print(\"Total nulls in the dataframe: \", nulls)\n",
    "\n",
    "check_nulls(batting)\n",
    "check_nulls(bowling)\n",
    "check_nulls(fielding)"
   ]
  },
  {
   "cell_type": "code",
   "execution_count": 4,
   "metadata": {},
   "outputs": [
    {
     "name": "stdout",
     "output_type": "stream",
     "text": [
      "+---------+----------+--------+-------+-------------+--------------+--------------+---------------+------+--------------+---------------+------------------+---------------+---------------+---------------+--------------+---------------+--------------+-------------+-------------+--------------+\n",
      "|player_id|    Player| Country| Season|Cum Mat Total|Cum Inns Total|Cum Runs Total|Cum Batting Ave|Cum SR|Cumulative Mat|Cumulative Inns|  Cumulative Overs|Cumulative Runs|Cumulative Wkts|Cumulative Econ|Cumulative Mat|Cumulative Inns|Cumulative Dis|Cumulative Ct|Cumulative St|Cumulative D/I|\n",
      "+---------+----------+--------+-------+-------------+--------------+--------------+---------------+------+--------------+---------------+------------------+---------------+---------------+---------------+--------------+---------------+--------------+-------------+-------------+--------------+\n",
      "| 55a5cffb|A Ahmadhel|Bulgaria|2019/20|            0|             0|             0|            0.0|   0.0|             0|            0.0|               0.0|            0.0|            0.0|            0.0|             0|            0.0|           0.0|          0.0|          0.0|           0.0|\n",
      "| 55a5cffb|A Ahmadhel|Bulgaria|   2020|            3|             2|            16|            8.0| 100.0|             3|            3.0|              10.0|           75.0|            3.0|            7.5|             3|            3.0|           0.0|          0.0|          0.0|           0.0|\n",
      "| 55a5cffb|A Ahmadhel|Bulgaria|2020/21|            4|             3|            24|            8.0| 100.0|             4|            4.0|              12.0|           97.0|            4.0|           8.38|             4|            4.0|           0.0|          0.0|          0.0|           0.0|\n",
      "| 55a5cffb|A Ahmadhel|Bulgaria|   2021|            6|             4|            26|            6.5| 82.14|             6|            6.0|14.400000095367432|          124.0|            6.0|           8.96|             6|            6.0|           0.0|          0.0|          0.0|           0.0|\n",
      "| 55a5cffb|A Ahmadhel|Bulgaria|   2023|            9|             7|            31|           4.43| 63.42|             9|            8.0| 17.40000009536743|          155.0|            6.0|            9.3|             9|            9.0|           0.0|          0.0|          0.0|           0.0|\n",
      "+---------+----------+--------+-------+-------------+--------------+--------------+---------------+------+--------------+---------------+------------------+---------------+---------------+---------------+--------------+---------------+--------------+-------------+-------------+--------------+\n",
      "only showing top 5 rows\n",
      "\n"
     ]
    }
   ],
   "source": [
    "playerdata = batting.join(bowling, on=['player_id','Player',\"Country\",\"Season\"], how='inner').join(fielding, on=['player_id','Player',\"Country\",\"Season\"], how='inner')\n",
    "playerdata.show(5)"
   ]
  },
  {
   "cell_type": "code",
   "execution_count": 5,
   "metadata": {},
   "outputs": [],
   "source": [
    "playerdata.toPandas().to_csv(directory + r'\\playerStats.csv', index=False)"
   ]
  },
  {
   "cell_type": "code",
   "execution_count": null,
   "metadata": {},
   "outputs": [],
   "source": []
  }
 ],
 "metadata": {
  "kernelspec": {
   "display_name": "eda",
   "language": "python",
   "name": "python3"
  },
  "language_info": {
   "codemirror_mode": {
    "name": "ipython",
    "version": 3
   },
   "file_extension": ".py",
   "mimetype": "text/x-python",
   "name": "python",
   "nbconvert_exporter": "python",
   "pygments_lexer": "ipython3",
   "version": "3.8.19"
  }
 },
 "nbformat": 4,
 "nbformat_minor": 2
}
