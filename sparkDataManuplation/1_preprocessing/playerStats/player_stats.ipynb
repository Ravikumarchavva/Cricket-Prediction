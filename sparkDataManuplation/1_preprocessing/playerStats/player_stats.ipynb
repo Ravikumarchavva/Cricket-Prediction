{
 "cells": [
  {
   "cell_type": "code",
   "execution_count": 1,
   "metadata": {},
   "outputs": [
    {
     "data": {
      "text/html": [
       "<pre style=\"white-space:pre;overflow-x:auto;line-height:normal;font-family:Menlo,'DejaVu Sans Mono',consolas,'Courier New',monospace\"><span style=\"color: #808000; text-decoration-color: #808000; font-weight: bold\">/home/ravikumar/miniconda3/envs/t20i/lib/python3.12/site-packages/airflow/configuration.py:</span><span style=\"color: #808000; text-decoration-color: #808000; font-weight: bold\">859</span><span style=\"color: #808000; text-decoration-color: #808000; font-weight: bold\"> FutureWarning</span><span style=\"color: #808000; text-decoration-color: #808000\">: section/key </span><span style=\"color: #808000; text-decoration-color: #808000; font-weight: bold\">[</span><span style=\"color: #808000; text-decoration-color: #808000\">core/sql_alchemy_conn</span><span style=\"color: #808000; text-decoration-color: #808000; font-weight: bold\">]</span><span style=\"color: #808000; text-decoration-color: #808000\"> has been deprecated, you should use</span><span style=\"color: #808000; text-decoration-color: #808000; font-weight: bold\">[</span><span style=\"color: #808000; text-decoration-color: #808000\">database/sql_alchemy_conn</span><span style=\"color: #808000; text-decoration-color: #808000; font-weight: bold\">]</span><span style=\"color: #808000; text-decoration-color: #808000\"> instead. Please update your `conf.get*` call to use the new name</span>\n",
       "</pre>\n"
      ],
      "text/plain": [
       "\u001b[1;33m/home/ravikumar/miniconda3/envs/t20i/lib/python3.12/site-packages/airflow/\u001b[0m\u001b[1;33mconfiguration.py\u001b[0m\u001b[1;33m:\u001b[0m\u001b[1;33m859\u001b[0m\u001b[1;33m FutureWarning\u001b[0m\u001b[33m: section/key \u001b[0m\u001b[1;33m[\u001b[0m\u001b[33mcore/sql_alchemy_conn\u001b[0m\u001b[1;33m]\u001b[0m\u001b[33m has been deprecated, you should use\u001b[0m\u001b[1;33m[\u001b[0m\u001b[33mdatabase/sql_alchemy_conn\u001b[0m\u001b[1;33m]\u001b[0m\u001b[33m instead. Please update your `conf.get*` call to use the new name\u001b[0m\n"
      ]
     },
     "metadata": {},
     "output_type": "display_data"
    },
    {
     "name": "stdout",
     "output_type": "stream",
     "text": [
      "[\u001b[34m2024-11-15T11:55:25.377+0530\u001b[0m] {\u001b[34mutils.py:\u001b[0m12} INFO\u001b[0m - Creating Spark session.\u001b[0m\n"
     ]
    },
    {
     "name": "stderr",
     "output_type": "stream",
     "text": [
      "your 131072x1 screen size is bogus. expect trouble\n",
      "24/11/15 11:55:28 WARN NativeCodeLoader: Unable to load native-hadoop library for your platform... using builtin-java classes where applicable\n",
      "24/11/15 11:55:32 WARN Utils: spark.executor.instances less than spark.dynamicAllocation.minExecutors is invalid, ignoring its setting, please update your configs.\n"
     ]
    },
    {
     "name": "stdout",
     "output_type": "stream",
     "text": [
      "[\u001b[34m2024-11-15T11:55:33.422+0530\u001b[0m] {\u001b[34mutils.py:\u001b[0m30} INFO\u001b[0m - Spark session created successfully.\u001b[0m\n",
      "[\u001b[34m2024-11-15T11:55:33.424+0530\u001b[0m] {\u001b[34mutils.py:\u001b[0m39} INFO\u001b[0m - Loading data from fielding_data.csv.\u001b[0m\n"
     ]
    },
    {
     "name": "stderr",
     "output_type": "stream",
     "text": [
      "[Stage 1:>                                                          (0 + 1) / 1]\r"
     ]
    },
    {
     "name": "stdout",
     "output_type": "stream",
     "text": [
      "[\u001b[34m2024-11-15T11:55:46.114+0530\u001b[0m] {\u001b[34mutils.py:\u001b[0m39} INFO\u001b[0m - Loading data from bowling_data.csv.\u001b[0m\n"
     ]
    },
    {
     "name": "stderr",
     "output_type": "stream",
     "text": [
      "                                                                                \r"
     ]
    },
    {
     "name": "stdout",
     "output_type": "stream",
     "text": [
      "[\u001b[34m2024-11-15T11:55:46.894+0530\u001b[0m] {\u001b[34mutils.py:\u001b[0m39} INFO\u001b[0m - Loading data from batting_data.csv.\u001b[0m\n",
      "+----------+--------+-------+--------------+---------------+--------------+-------------+-------------+--------------+\n",
      "|    Player| Country| Season|Cumulative Mat|Cumulative Inns|Cumulative Dis|Cumulative Ct|Cumulative St|Cumulative D/I|\n",
      "+----------+--------+-------+--------------+---------------+--------------+-------------+-------------+--------------+\n",
      "|A Ahmadhel|Bulgaria|2019/20|             0|            0.0|           0.0|          0.0|          0.0|           0.0|\n",
      "|A Ahmadhel|Bulgaria|   2020|             3|            3.0|           0.0|          0.0|          0.0|           0.0|\n",
      "|A Ahmadhel|Bulgaria|2020/21|             4|            4.0|           0.0|          0.0|          0.0|           0.0|\n",
      "|A Ahmadhel|Bulgaria|   2021|             6|            6.0|           0.0|          0.0|          0.0|           0.0|\n",
      "|A Ahmadhel|Bulgaria|   2023|             9|            9.0|           0.0|          0.0|          0.0|           0.0|\n",
      "+----------+--------+-------+--------------+---------------+--------------+-------------+-------------+--------------+\n",
      "only showing top 5 rows\n",
      "\n"
     ]
    }
   ],
   "source": [
    "import os\n",
    "import sys\n",
    "sys.path.append(os.path.join(os.getcwd(), '..','..','..'))\n",
    "import config, utils\n",
    "\n",
    "# Create a Spark session\n",
    "spark = utils.create_spark_session(\"playerStats\", {\n",
    "    'spark.executor.memory': '4g',\n",
    "    'spark.executor.cores': '6',\n",
    "})\n",
    "\n",
    "fielding_data = utils.load_data(spark,config.PROCESSED_DATA_DIR, 'fielding_data.csv')\n",
    "bowling_data = utils.load_data(spark,config.PROCESSED_DATA_DIR, 'bowling_data.csv')\n",
    "batting_data = utils.load_data(spark,config.PROCESSED_DATA_DIR, 'batting_data.csv')\n",
    "\n",
    "fielding_data.show(5)"
   ]
  },
  {
   "cell_type": "code",
   "execution_count": 2,
   "metadata": {},
   "outputs": [
    {
     "name": "stdout",
     "output_type": "stream",
     "text": [
      "Total nulls in the dataframe:  0\n",
      "Total nulls in the dataframe:  0\n",
      "Total nulls in the dataframe:  0\n"
     ]
    }
   ],
   "source": [
    "# Check for nulls in the data\n",
    "def check_nulls(df):\n",
    "    nulls = 0\n",
    "    for col in df.columns:\n",
    "        nulls+= df.filter(df[col].isNull()).count()\n",
    "    print(\"Total nulls in the dataframe: \", nulls)\n",
    "\n",
    "check_nulls(batting_data)\n",
    "check_nulls(bowling_data)\n",
    "check_nulls(fielding_data)"
   ]
  },
  {
   "cell_type": "code",
   "execution_count": null,
   "metadata": {},
   "outputs": [
    {
     "name": "stdout",
     "output_type": "stream",
     "text": [
      "['Player', 'Country', 'Season', 'Cum Mat Total', 'Cum Inns Total', 'Cum Runs Total', 'Cum Batting Ave', 'Cum SR'] 14140\n",
      "['Player', 'Country', 'Season', 'Cumulative Mat', 'Cumulative Inns', 'Cumulative Overs', 'Cumulative Runs', 'Cumulative Wkts', 'Cumulative Econ'] 14140\n",
      "['Player', 'Country', 'Season', 'Cumulative Mat', 'Cumulative Inns', 'Cumulative Dis', 'Cumulative Ct', 'Cumulative St', 'Cumulative D/I'] 14140\n"
     ]
    },
    {
     "name": "stderr",
     "output_type": "stream",
     "text": [
      "24/11/15 12:16:47 ERROR TaskSchedulerImpl: Lost executor 0 on 192.168.245.142: worker lost\n",
      "24/11/15 13:17:44 ERROR StandaloneSchedulerBackend: Application has been killed. Reason: Master removed our application: KILLED\n",
      "24/11/15 13:17:44 ERROR Inbox: Ignoring error\n",
      "org.apache.spark.SparkException: Exiting due to error from cluster scheduler: Master removed our application: KILLED\n",
      "\tat org.apache.spark.errors.SparkCoreErrors$.clusterSchedulerError(SparkCoreErrors.scala:218)\n",
      "\tat org.apache.spark.scheduler.TaskSchedulerImpl.error(TaskSchedulerImpl.scala:923)\n",
      "\tat org.apache.spark.scheduler.cluster.StandaloneSchedulerBackend.dead(StandaloneSchedulerBackend.scala:154)\n",
      "\tat org.apache.spark.deploy.client.StandaloneAppClient$ClientEndpoint.markDead(StandaloneAppClient.scala:262)\n",
      "\tat org.apache.spark.deploy.client.StandaloneAppClient$ClientEndpoint$$anonfun$receive$1.applyOrElse(StandaloneAppClient.scala:169)\n",
      "\tat org.apache.spark.rpc.netty.Inbox.$anonfun$process$1(Inbox.scala:115)\n",
      "\tat org.apache.spark.rpc.netty.Inbox.safelyCall(Inbox.scala:213)\n",
      "\tat org.apache.spark.rpc.netty.Inbox.process(Inbox.scala:100)\n",
      "\tat org.apache.spark.rpc.netty.MessageLoop.org$apache$spark$rpc$netty$MessageLoop$$receiveLoop(MessageLoop.scala:75)\n",
      "\tat org.apache.spark.rpc.netty.MessageLoop$$anon$1.run(MessageLoop.scala:41)\n",
      "\tat java.base/java.util.concurrent.ThreadPoolExecutor.runWorker(ThreadPoolExecutor.java:1128)\n",
      "\tat java.base/java.util.concurrent.ThreadPoolExecutor$Worker.run(ThreadPoolExecutor.java:628)\n",
      "\tat java.base/java.lang.Thread.run(Thread.java:829)\n",
      "24/11/15 13:17:44 ERROR TaskSchedulerImpl: Lost executor 1 on 192.168.245.142: Remote RPC client disassociated. Likely due to containers exceeding thresholds, or network issues. Check driver logs for WARN messages.\n"
     ]
    }
   ],
   "source": [
    "print(batting_data.columns,batting_data.count())\n",
    "print(bowling_data.columns,bowling_data.count())\n",
    "print(fielding_data.columns,fielding_data.count())"
   ]
  },
  {
   "cell_type": "code",
   "execution_count": 4,
   "metadata": {},
   "outputs": [
    {
     "name": "stderr",
     "output_type": "stream",
     "text": [
      "24/11/15 01:51:47 WARN package: Truncated the string representation of a plan since it was too large. This behavior can be adjusted by setting 'spark.sql.debug.maxToStringFields'.\n",
      "[Stage 90:>                                                         (0 + 1) / 1]\r"
     ]
    },
    {
     "name": "stdout",
     "output_type": "stream",
     "text": [
      "+---------+---------------+---------+-------+-------------+--------------+------+------------------+-----------------------+---------------+---------------+--------------+-------------+-------------+--------------+\n",
      "|player_id|         Player|  Country| Season|Cum Mat Total|Cum Runs Total|Cum SR|  Cumulative Overs|Cumulative Bowling Runs|Cumulative Wkts|Cumulative Econ|Cumulative Dis|Cumulative Ct|Cumulative St|Cumulative D/I|\n",
      "+---------+---------------+---------+-------+-------------+--------------+------+------------------+-----------------------+---------------+---------------+--------------+-------------+-------------+--------------+\n",
      "| badef0dc|     MO Kitunda| Tanzania|2021/22|            0|             0|   0.0|               0.0|                    0.0|            0.0|            0.0|           0.0|          0.0|          0.0|           0.0|\n",
      "| fbb657bb|    Babar Hayat|Hong Kong|2023/24|           45|          1067|115.74|               0.0|                    0.0|            0.0|            0.0|          30.0|         30.0|          0.0|          0.67|\n",
      "| ba607b88|        V Kohli|    India|2017/18|           50|          1830|133.58|23.800000071525574|                  198.0|            4.0|            8.3|          25.0|         25.0|          0.0|           0.5|\n",
      "| 709525fc|        J Vijay| Portugal|   2024|            0|             0|   0.0|               0.0|                    0.0|            0.0|            0.0|           0.0|          0.0|          0.0|           0.0|\n",
      "| dfa6db1a|Vichanath Singh| Thailand|   2019|            0|             0|   0.0|               0.0|                    0.0|            0.0|            0.0|           0.0|          0.0|          0.0|           0.0|\n",
      "+---------+---------------+---------+-------+-------------+--------------+------+------------------+-----------------------+---------------+---------------+--------------+-------------+-------------+--------------+\n",
      "only showing top 5 rows\n",
      "\n"
     ]
    },
    {
     "name": "stderr",
     "output_type": "stream",
     "text": [
      "                                                                                \r"
     ]
    }
   ],
   "source": [
    "playerdata = batting_data.join(bowling_data, on=['player_id','Player',\"Country\",\"Season\"], how='inner').join(fielding_data, on=['player_id','Player',\"Country\",\"Season\"], how='inner')\\\n",
    "    .drop('Cumulative Mat','Cumulative Inns')\n",
    "playerdata = playerdata.dropDuplicates(['player_id', 'Player', 'Country', 'Season'])\n",
    "playerdata.show(5)"
   ]
  },
  {
   "cell_type": "code",
   "execution_count": 5,
   "metadata": {},
   "outputs": [
    {
     "name": "stderr",
     "output_type": "stream",
     "text": [
      "[Stage 95:>                                                         (0 + 1) / 1]\r"
     ]
    },
    {
     "name": "stdout",
     "output_type": "stream",
     "text": [
      "+---------+-----------+--------------+-------+-------------+--------------+------+------------------+-----------------------+---------------+---------------+--------------+-------------+-------------+--------------+\n",
      "|player_id|     Player|       Country| Season|Cum Mat Total|Cum Runs Total|Cum SR|  Cumulative Overs|Cumulative Bowling Runs|Cumulative Wkts|Cumulative Econ|Cumulative Dis|Cumulative Ct|Cumulative St|Cumulative D/I|\n",
      "+---------+-----------+--------------+-------+-------------+--------------+------+------------------+-----------------------+---------------+---------------+--------------+-------------+-------------+--------------+\n",
      "| 55a5cffb| A Ahmadhel|      Bulgaria|2020/21|            4|            24| 100.0|              12.0|                   97.0|            4.0|           8.38|           0.0|          0.0|          0.0|           0.0|\n",
      "| 55a5cffb| A Ahmadhel|      Bulgaria|   2023|            9|            31| 63.42| 17.40000009536743|                  155.0|            6.0|            9.3|           0.0|          0.0|          0.0|           0.0|\n",
      "| 55a5cffb| A Ahmadhel|      Bulgaria|   2024|           11|            31| 63.42| 17.40000009536743|                  155.0|            6.0|            9.3|           0.0|          0.0|          0.0|           0.0|\n",
      "| 55a5cffb| A Ahmadhel|      Bulgaria|   2021|            6|            26| 82.14|14.400000095367432|                  124.0|            6.0|           8.96|           0.0|          0.0|          0.0|           0.0|\n",
      "| ef6d6883|A Alexander|     Indonesia|2024/25|            0|             0|   0.0|               0.0|                    0.0|            0.0|            0.0|           0.0|          0.0|          0.0|           0.0|\n",
      "| 14ea3348|    A Amado|        Israel|   2022|            0|             0|   0.0|               0.0|                    0.0|            0.0|            0.0|           0.0|          0.0|          0.0|           0.0|\n",
      "| 1d45c01a|  A Andrews|   Switzerland|2021/22|            0|             0|   0.0|               0.0|                    0.0|            0.0|            0.0|           0.0|          0.0|          0.0|           0.0|\n",
      "| 1d45c01a|  A Andrews|   Switzerland|   2022|            3|             0|   0.0|              10.0|                   61.0|            4.0|            6.1|           4.0|          4.0|          0.0|          1.33|\n",
      "| 321be7e3|    A Ashok|   New Zealand|   2023|            0|             0|   0.0|               0.0|                    0.0|            0.0|            0.0|           0.0|          0.0|          0.0|           0.0|\n",
      "| 9244df4b|  A Ashokan|Czech Republic|   2023|           28|           612|116.41|              62.5|                  528.0|           14.0|           8.57|          11.0|         11.0|          0.0|          0.39|\n",
      "| 9244df4b|  A Ashokan|Czech Republic|   2021|            6|            92|110.08|              10.5|                  113.0|            2.0|          10.38|           3.0|          3.0|          0.0|           0.5|\n",
      "| 9244df4b|  A Ashokan|Czech Republic|   2020|            2|            41|141.37|               2.0|                   16.0|            0.0|            8.0|           1.0|          1.0|          0.0|           0.5|\n",
      "| 9244df4b|  A Ashokan|Czech Republic|   2022|           13|           243|108.88|              22.5|                  217.0|            3.0|           9.52|           6.0|          6.0|          0.0|          0.46|\n",
      "| 58c2fac4| A Athanaze|   West Indies|   2024|            0|             0|   0.0|               0.0|                    0.0|            0.0|            0.0|           0.0|          0.0|          0.0|           0.0|\n",
      "| 112959b2|    A Bagai|        Canada|2009/10|            3|            24|  92.3|               0.0|                    0.0|            0.0|            0.0|           5.0|          2.0|          3.0|          1.67|\n",
      "| 112959b2|    A Bagai|        Canada|2013/14|            7|           169|107.47|               0.0|                    0.0|            0.0|            0.0|           7.0|          3.0|          4.0|           1.0|\n",
      "| 6ef13460|A Balbirnie|       Ireland|   2018|           10|            84| 75.16|               0.0|                    0.0|            0.0|            0.0|           3.0|          3.0|          0.0|          0.38|\n",
      "| 6ef13460|A Balbirnie|       Ireland|2019/20|           26|           523|126.35|               0.0|                    0.0|            0.0|            0.0|          10.0|         10.0|          0.0|          0.42|\n",
      "| 6ef13460|A Balbirnie|       Ireland|   2024|          101|          2170|122.14|               0.0|                    0.0|            0.0|            0.0|          39.0|         39.0|          0.0|          0.39|\n",
      "| 6ef13460|A Balbirnie|       Ireland|2023/24|           95|          2041|122.73|               0.0|                    0.0|            0.0|            0.0|          36.0|         36.0|          0.0|          0.39|\n",
      "+---------+-----------+--------------+-------+-------------+--------------+------+------------------+-----------------------+---------------+---------------+--------------+-------------+-------------+--------------+\n",
      "only showing top 20 rows\n",
      "\n"
     ]
    },
    {
     "name": "stderr",
     "output_type": "stream",
     "text": [
      "                                                                                \r"
     ]
    }
   ],
   "source": [
    "playerdata.sort([\"Player\",\"Country\"]).show()"
   ]
  },
  {
   "cell_type": "code",
   "execution_count": 6,
   "metadata": {},
   "outputs": [
    {
     "name": "stderr",
     "output_type": "stream",
     "text": [
      "[Stage 100:>                                                        (0 + 1) / 1]\r"
     ]
    },
    {
     "name": "stdout",
     "output_type": "stream",
     "text": [
      "[\u001b[34m2024-11-15T01:51:54.369+0530\u001b[0m] {\u001b[34mutils.py:\u001b[0m57} INFO\u001b[0m - Successfully wrote data to /usr/ravi/t20/data/2_processedData/player_stats.csv\u001b[0m\n"
     ]
    },
    {
     "name": "stderr",
     "output_type": "stream",
     "text": [
      "                                                                                \r"
     ]
    }
   ],
   "source": [
    "utils.spark_save_data(playerdata,config.PROCESSED_DATA_DIR, 'player_stats.csv')\n",
    "spark.stop()"
   ]
  },
  {
   "cell_type": "code",
   "execution_count": null,
   "metadata": {},
   "outputs": [],
   "source": []
  }
 ],
 "metadata": {
  "kernelspec": {
   "display_name": "t20i",
   "language": "python",
   "name": "python3"
  },
  "language_info": {
   "codemirror_mode": {
    "name": "ipython",
    "version": 3
   },
   "file_extension": ".py",
   "mimetype": "text/x-python",
   "name": "python",
   "nbconvert_exporter": "python",
   "pygments_lexer": "ipython3",
   "version": "3.12.7"
  }
 },
 "nbformat": 4,
 "nbformat_minor": 2
}
