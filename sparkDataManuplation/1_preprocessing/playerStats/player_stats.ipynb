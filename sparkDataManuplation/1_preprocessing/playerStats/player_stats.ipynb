{
 "cells": [
  {
   "cell_type": "code",
   "execution_count": 1,
   "metadata": {},
   "outputs": [
    {
     "data": {
      "text/html": [
       "<pre style=\"white-space:pre;overflow-x:auto;line-height:normal;font-family:Menlo,'DejaVu Sans Mono',consolas,'Courier New',monospace\"><span style=\"color: #808000; text-decoration-color: #808000; font-weight: bold\">/home/ravikumar/miniconda3/envs/t20i/lib/python3.12/site-packages/airflow/configuration.py:</span><span style=\"color: #808000; text-decoration-color: #808000; font-weight: bold\">859</span><span style=\"color: #808000; text-decoration-color: #808000; font-weight: bold\"> FutureWarning</span><span style=\"color: #808000; text-decoration-color: #808000\">: section/key </span><span style=\"color: #808000; text-decoration-color: #808000; font-weight: bold\">[</span><span style=\"color: #808000; text-decoration-color: #808000\">core/sql_alchemy_conn</span><span style=\"color: #808000; text-decoration-color: #808000; font-weight: bold\">]</span><span style=\"color: #808000; text-decoration-color: #808000\"> has been deprecated, you should use</span><span style=\"color: #808000; text-decoration-color: #808000; font-weight: bold\">[</span><span style=\"color: #808000; text-decoration-color: #808000\">database/sql_alchemy_conn</span><span style=\"color: #808000; text-decoration-color: #808000; font-weight: bold\">]</span><span style=\"color: #808000; text-decoration-color: #808000\"> instead. Please update your `conf.get*` call to use the new name</span>\n",
       "</pre>\n"
      ],
      "text/plain": [
       "\u001b[1;33m/home/ravikumar/miniconda3/envs/t20i/lib/python3.12/site-packages/airflow/\u001b[0m\u001b[1;33mconfiguration.py\u001b[0m\u001b[1;33m:\u001b[0m\u001b[1;33m859\u001b[0m\u001b[1;33m FutureWarning\u001b[0m\u001b[33m: section/key \u001b[0m\u001b[1;33m[\u001b[0m\u001b[33mcore/sql_alchemy_conn\u001b[0m\u001b[1;33m]\u001b[0m\u001b[33m has been deprecated, you should use\u001b[0m\u001b[1;33m[\u001b[0m\u001b[33mdatabase/sql_alchemy_conn\u001b[0m\u001b[1;33m]\u001b[0m\u001b[33m instead. Please update your `conf.get*` call to use the new name\u001b[0m\n"
      ]
     },
     "metadata": {},
     "output_type": "display_data"
    },
    {
     "name": "stdout",
     "output_type": "stream",
     "text": [
      "[\u001b[34m2024-11-19T03:52:48.209+0530\u001b[0m] {\u001b[34mutils.py:\u001b[0m12} INFO\u001b[0m - Creating Spark session.\u001b[0m\n"
     ]
    },
    {
     "name": "stderr",
     "output_type": "stream",
     "text": [
      "your 131072x1 screen size is bogus. expect trouble\n",
      "24/11/19 03:52:52 WARN NativeCodeLoader: Unable to load native-hadoop library for your platform... using builtin-java classes where applicable\n",
      "24/11/19 03:52:56 WARN Utils: spark.executor.instances less than spark.dynamicAllocation.minExecutors is invalid, ignoring its setting, please update your configs.\n"
     ]
    },
    {
     "name": "stdout",
     "output_type": "stream",
     "text": [
      "[\u001b[34m2024-11-19T03:52:57.126+0530\u001b[0m] {\u001b[34mutils.py:\u001b[0m30} INFO\u001b[0m - Spark session created successfully.\u001b[0m\n",
      "[\u001b[34m2024-11-19T03:52:57.132+0530\u001b[0m] {\u001b[34mutils.py:\u001b[0m39} INFO\u001b[0m - Loading data from fielding_data.csv.\u001b[0m\n"
     ]
    },
    {
     "name": "stderr",
     "output_type": "stream",
     "text": [
      "[Stage 1:>                                                          (0 + 1) / 1]\r"
     ]
    },
    {
     "name": "stdout",
     "output_type": "stream",
     "text": [
      "[\u001b[34m2024-11-19T03:53:12.021+0530\u001b[0m] {\u001b[34mutils.py:\u001b[0m39} INFO\u001b[0m - Loading data from bowling_data.csv.\u001b[0m\n"
     ]
    },
    {
     "name": "stderr",
     "output_type": "stream",
     "text": [
      "                                                                                \r"
     ]
    },
    {
     "name": "stdout",
     "output_type": "stream",
     "text": [
      "[\u001b[34m2024-11-19T03:53:13.294+0530\u001b[0m] {\u001b[34mutils.py:\u001b[0m39} INFO\u001b[0m - Loading data from batting_data.csv.\u001b[0m\n"
     ]
    },
    {
     "name": "stderr",
     "output_type": "stream",
     "text": [
      "                                                                                \r"
     ]
    },
    {
     "name": "stdout",
     "output_type": "stream",
     "text": [
      "+---------+------------+---------+-------+--------------+---------------+--------------+-------------+-------------+--------------+\n",
      "|player_id|      Player|  Country| Season|Cumulative Mat|Cumulative Inns|Cumulative Dis|Cumulative Ct|Cumulative St|Cumulative D/I|\n",
      "+---------+------------+---------+-------+--------------+---------------+--------------+-------------+-------------+--------------+\n",
      "| b8d490fd|    AJ Finch|Australia|2016/17|            28|           28.0|           7.0|          7.0|          0.0|          0.25|\n",
      "| b970a03f|   M Klinger|Australia|2016/17|             0|            0.0|           0.0|          0.0|          0.0|           0.0|\n",
      "| 12b610c2|     TM Head|Australia|2016/17|             4|            4.0|           2.0|          2.0|          0.0|           0.5|\n",
      "| 32198ae0|MC Henriques|Australia|2016/17|             6|            6.0|           2.0|          2.0|          0.0|          0.33|\n",
      "| ff1e12a0|   AJ Turner|Australia|2016/17|             0|            0.0|           0.0|          0.0|          0.0|           0.0|\n",
      "+---------+------------+---------+-------+--------------+---------------+--------------+-------------+-------------+--------------+\n",
      "only showing top 5 rows\n",
      "\n"
     ]
    }
   ],
   "source": [
    "import os\n",
    "import sys\n",
    "sys.path.append(os.path.join(os.getcwd(), '..','..','..'))\n",
    "import config, utils\n",
    "\n",
    "# Create a Spark session\n",
    "spark = utils.create_spark_session(\"playerStats\", {\n",
    "    'spark.executor.memory': '4g',\n",
    "    'spark.executor.cores': '6',\n",
    "})\n",
    "\n",
    "fielding_data = utils.load_data(spark,config.PROCESSED_DATA_DIR, 'fielding_data.csv')\n",
    "bowling_data = utils.load_data(spark,config.PROCESSED_DATA_DIR, 'bowling_data.csv')\n",
    "batting_data = utils.load_data(spark,config.PROCESSED_DATA_DIR, 'batting_data.csv')\n",
    "\n",
    "fielding_data.show(5)"
   ]
  },
  {
   "cell_type": "code",
   "execution_count": 2,
   "metadata": {},
   "outputs": [
    {
     "name": "stdout",
     "output_type": "stream",
     "text": [
      "Total nulls in the dataframe:  0\n",
      "Total nulls in the dataframe:  0\n",
      "Total nulls in the dataframe:  0\n"
     ]
    }
   ],
   "source": [
    "# Check for nulls in the data\n",
    "def check_nulls(df):\n",
    "    nulls = 0\n",
    "    for col in df.columns:\n",
    "        nulls+= df.filter(df[col].isNull()).count()\n",
    "    print(\"Total nulls in the dataframe: \", nulls)\n",
    "\n",
    "check_nulls(batting_data)\n",
    "check_nulls(bowling_data)\n",
    "check_nulls(fielding_data)"
   ]
  },
  {
   "cell_type": "code",
   "execution_count": 3,
   "metadata": {},
   "outputs": [
    {
     "name": "stdout",
     "output_type": "stream",
     "text": [
      "['Player', 'Country', 'Season', 'Cum Mat Total', 'Cum Inns Total', 'Cum Runs Total', 'Cum Batting Ave', 'Cum SR'] 14142\n",
      "['player_id', 'Player', 'Country', 'Season', 'Cumulative Mat', 'Cumulative Inns', 'Cumulative Overs', 'Cumulative Bowling Runs', 'Cumulative Wkts', 'Cumulative Econ'] 50868\n",
      "['player_id', 'Player', 'Country', 'Season', 'Cumulative Mat', 'Cumulative Inns', 'Cumulative Dis', 'Cumulative Ct', 'Cumulative St', 'Cumulative D/I'] 50868\n"
     ]
    }
   ],
   "source": [
    "print(batting_data.columns,batting_data.count())\n",
    "print(bowling_data.columns,bowling_data.count())\n",
    "print(fielding_data.columns,fielding_data.count())"
   ]
  },
  {
   "cell_type": "code",
   "execution_count": 10,
   "metadata": {},
   "outputs": [
    {
     "name": "stdout",
     "output_type": "stream",
     "text": [
      "12012\n"
     ]
    },
    {
     "name": "stderr",
     "output_type": "stream",
     "text": [
      "[Stage 154:=========================================================(1 + 0) / 1]\r"
     ]
    },
    {
     "name": "stdout",
     "output_type": "stream",
     "text": [
      "+---------------+---------+-------+-------------+--------------+--------------+---------------+------+------------------+-----------------------+---------------+---------------+--------------+-------------+-------------+--------------+\n",
      "|         Player|  Country| Season|Cum Mat Total|Cum Inns Total|Cum Runs Total|Cum Batting Ave|Cum SR|  Cumulative Overs|Cumulative Bowling Runs|Cumulative Wkts|Cumulative Econ|Cumulative Dis|Cumulative Ct|Cumulative St|Cumulative D/I|\n",
      "+---------------+---------+-------+-------------+--------------+--------------+---------------+------+------------------+-----------------------+---------------+---------------+--------------+-------------+-------------+--------------+\n",
      "|      HG Munsey| Scotland|2016/17|           13|            11|           190|          22.05|140.84|               0.0|                    0.0|            0.0|            0.0|           4.0|          4.0|          0.0|          0.36|\n",
      "|   LD Chandimal|Sri Lanka|2018/19|           53|            46|           774|          17.89| 99.99|               0.0|                    0.0|            0.0|            0.0|          36.0|         31.0|          5.0|          0.68|\n",
      "|Mohammad Hafeez| Pakistan|   2018|           81|            78|          1658|          22.95|110.92|175.19999980926514|                 1170.0|           49.0|           6.86|          24.0|         24.0|          0.0|           0.3|\n",
      "| AW Hawkins-Kay|   Jersey|   2019|            0|             0|             0|            0.0|   0.0|               0.0|                    0.0|            0.0|            0.0|           0.0|          0.0|          0.0|           0.0|\n",
      "|     EJG Morgan|  England|   2020|           89|            87|          2138|          33.51| 128.4|               0.0|                    0.0|            0.0|            0.0|          37.0|         37.0|          0.0|          0.42|\n",
      "+---------------+---------+-------+-------------+--------------+--------------+---------------+------+------------------+-----------------------+---------------+---------------+--------------+-------------+-------------+--------------+\n",
      "only showing top 5 rows\n",
      "\n"
     ]
    },
    {
     "name": "stderr",
     "output_type": "stream",
     "text": [
      "                                                                                \r"
     ]
    }
   ],
   "source": [
    "playerdata = batting_data.join(bowling_data, on=['Player',\"Country\",\"Season\"], how='inner').join(fielding_data, on=['Player',\"Country\",\"Season\"], how='inner')\\\n",
    "    .drop('Cumulative Mat','Cumulative Inns')\n",
    "playerdata = playerdata.dropDuplicates([ 'Player', 'Country', 'Season', 'player_id']).drop('player_id')\n",
    "print(playerdata.count())\n",
    "playerdata.show(5)"
   ]
  },
  {
   "cell_type": "code",
   "execution_count": 11,
   "metadata": {},
   "outputs": [
    {
     "name": "stderr",
     "output_type": "stream",
     "text": [
      "[Stage 159:>                                                        (0 + 1) / 1]\r"
     ]
    },
    {
     "name": "stdout",
     "output_type": "stream",
     "text": [
      "+-----------+--------------+-------+-------------+--------------+--------------+---------------+------+------------------+-----------------------+---------------+---------------+--------------+-------------+-------------+--------------+\n",
      "|     Player|       Country| Season|Cum Mat Total|Cum Inns Total|Cum Runs Total|Cum Batting Ave|Cum SR|  Cumulative Overs|Cumulative Bowling Runs|Cumulative Wkts|Cumulative Econ|Cumulative Dis|Cumulative Ct|Cumulative St|Cumulative D/I|\n",
      "+-----------+--------------+-------+-------------+--------------+--------------+---------------+------+------------------+-----------------------+---------------+---------------+--------------+-------------+-------------+--------------+\n",
      "| A Ahmadhel|      Bulgaria|   2023|            9|             7|            31|           4.43| 63.42| 17.40000009536743|                  155.0|            6.0|            9.3|           0.0|          0.0|          0.0|           0.0|\n",
      "| A Ahmadhel|      Bulgaria|2020/21|            4|             3|            24|            8.0| 100.0|              12.0|                   97.0|            4.0|           8.38|           0.0|          0.0|          0.0|           0.0|\n",
      "| A Ahmadhel|      Bulgaria|   2024|           11|             7|            31|           4.43| 63.42| 17.40000009536743|                  155.0|            6.0|            9.3|           0.0|          0.0|          0.0|           0.0|\n",
      "| A Ahmadhel|      Bulgaria|   2021|            6|             4|            26|            6.5| 82.14|14.400000095367432|                  124.0|            6.0|           8.96|           0.0|          0.0|          0.0|           0.0|\n",
      "|A Alexander|     Indonesia|2024/25|            0|             0|             0|            0.0|   0.0|               0.0|                    0.0|            0.0|            0.0|           0.0|          0.0|          0.0|           0.0|\n",
      "|    A Amado|        Israel|   2022|            0|             0|             0|            0.0|   0.0|               0.0|                    0.0|            0.0|            0.0|           0.0|          0.0|          0.0|           0.0|\n",
      "|  A Andrews|   Switzerland|   2022|            3|             1|             0|            0.0|   0.0|              10.0|                   61.0|            4.0|            6.1|           4.0|          4.0|          0.0|          1.33|\n",
      "|  A Andrews|   Switzerland|2021/22|            0|             0|             0|            0.0|   0.0|               0.0|                    0.0|            0.0|            0.0|           0.0|          0.0|          0.0|           0.0|\n",
      "|    A Ashok|   New Zealand|   2023|            0|             0|             0|            0.0|   0.0|               0.0|                    0.0|            0.0|            0.0|           0.0|          0.0|          0.0|           0.0|\n",
      "|  A Ashokan|Czech Republic|   2020|            2|             2|            41|           20.5|141.37|               2.0|                   16.0|            0.0|            8.0|           1.0|          1.0|          0.0|           0.5|\n",
      "|  A Ashokan|Czech Republic|   2021|            6|             6|            92|          15.33|110.08|              10.5|                  113.0|            2.0|          10.38|           3.0|          3.0|          0.0|           0.5|\n",
      "|  A Ashokan|Czech Republic|   2022|           13|            13|           243|          23.34|108.88|              22.5|                  217.0|            3.0|           9.52|           6.0|          6.0|          0.0|          0.46|\n",
      "|  A Ashokan|Czech Republic|   2023|           28|            27|           612|          30.37|116.41|              62.5|                  528.0|           14.0|           8.57|          11.0|         11.0|          0.0|          0.39|\n",
      "| A Athanaze|   West Indies|   2024|            0|             0|             0|            0.0|   0.0|               0.0|                    0.0|            0.0|            0.0|           0.0|          0.0|          0.0|           0.0|\n",
      "|    A Bagai|        Canada|2009/10|            3|             3|            24|           12.0|  92.3|               0.0|                    0.0|            0.0|            0.0|           5.0|          2.0|          3.0|          1.67|\n",
      "|    A Bagai|        Canada|2013/14|            7|             7|           169|          25.86|107.47|               0.0|                    0.0|            0.0|            0.0|           7.0|          3.0|          4.0|           1.0|\n",
      "|A Balbirnie|       Ireland|2022/23|           79|            75|          1657|          23.82|123.05|               0.0|                    0.0|            0.0|            0.0|          30.0|         30.0|          0.0|          0.39|\n",
      "|A Balbirnie|       Ireland|   2023|           89|            85|          1857|          23.37|122.25|               0.0|                    0.0|            0.0|            0.0|          32.0|         32.0|          0.0|          0.37|\n",
      "|A Balbirnie|       Ireland|   2022|           67|            63|          1429|          24.74|123.26|               0.0|                    0.0|            0.0|            0.0|          28.0|         28.0|          0.0|          0.43|\n",
      "|A Balbirnie|       Ireland|2018/19|           16|            13|           189|          14.54|100.29|               0.0|                    0.0|            0.0|            0.0|           5.0|          5.0|          0.0|          0.36|\n",
      "+-----------+--------------+-------+-------------+--------------+--------------+---------------+------+------------------+-----------------------+---------------+---------------+--------------+-------------+-------------+--------------+\n",
      "only showing top 20 rows\n",
      "\n"
     ]
    },
    {
     "name": "stderr",
     "output_type": "stream",
     "text": [
      "                                                                                \r"
     ]
    }
   ],
   "source": [
    "playerdata.sort([\"Player\",\"Country\"]).show()"
   ]
  },
  {
   "cell_type": "code",
   "execution_count": 12,
   "metadata": {},
   "outputs": [
    {
     "name": "stdout",
     "output_type": "stream",
     "text": [
      "[\u001b[34m2024-11-19T03:56:26.749+0530\u001b[0m] {\u001b[34mutils.py:\u001b[0m57} INFO\u001b[0m - Successfully wrote data to /usr/ravi/t20/data/2_processedData/player_stats.csv\u001b[0m\n"
     ]
    }
   ],
   "source": [
    "utils.spark_save_data(playerdata,config.PROCESSED_DATA_DIR, 'player_stats.csv')\n",
    "spark.stop()"
   ]
  },
  {
   "cell_type": "code",
   "execution_count": null,
   "metadata": {},
   "outputs": [],
   "source": []
  }
 ],
 "metadata": {
  "kernelspec": {
   "display_name": "t20i",
   "language": "python",
   "name": "python3"
  },
  "language_info": {
   "codemirror_mode": {
    "name": "ipython",
    "version": 3
   },
   "file_extension": ".py",
   "mimetype": "text/x-python",
   "name": "python",
   "nbconvert_exporter": "python",
   "pygments_lexer": "ipython3",
   "version": "3.12.7"
  }
 },
 "nbformat": 4,
 "nbformat_minor": 2
}
