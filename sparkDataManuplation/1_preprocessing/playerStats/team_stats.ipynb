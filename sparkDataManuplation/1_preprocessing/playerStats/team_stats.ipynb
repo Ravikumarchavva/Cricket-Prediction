{
 "cells": [
  {
   "cell_type": "code",
   "execution_count": 7,
   "metadata": {},
   "outputs": [
    {
     "name": "stdout",
     "output_type": "stream",
     "text": [
      "+--------+---+---+----+----+---+-----+-----+-----+----+---+---+-------+\n",
      "|    Team|Mat|Won|Lost|Tied| NR|  W/L|  Ave|  RPO|Inns| HS| LS| Season|\n",
      "+--------+---+---+----+----+---+-----+-----+-----+----+---+---+-------+\n",
      "|Zimbabwe|  5|  5|   0|   0|  0|    -| 43.6|12.82|   5|344|  -|2024/25|\n",
      "|Zimbabwe| 10|  2|   8|   0|  0|0.250|17.48| 7.16|  10|159|124|   2024|\n",
      "|Zimbabwe| 17|  8|   9|   0|  0|0.888|24.03| 7.81|  17|217| 82|2023/24|\n",
      "|Zimbabwe| 11|  5|   5|   0|  1|1.000|16.94| 7.13|  11|174|115|2022/23|\n",
      "|Zimbabwe| 16|  9|   7|   0|  0|1.285|22.45| 7.75|  16|236| 95|   2022|\n",
      "|Zimbabwe| 14|  6|   8|   0|  0|0.750| 20.6| 7.22|  14|193|138|   2021|\n",
      "|Zimbabwe|  6|  0|   6|   0|  0|0.000|19.38| 7.28|   6|156|148|2020/21|\n",
      "|Zimbabwe|  6|  3|   3|   0|  0|1.000|24.56| 7.98|   6|177|152|2019/20|\n",
      "|Zimbabwe|  8|  2|   5|   1|  0|0.400|22.01| 8.23|   8|172|136|   2019|\n",
      "|Zimbabwe|  2|  0|   2|   0|  0|0.000|15.17| 6.91|   2|132|126|2018/19|\n",
      "|Zimbabwe|  4|  0|   4|   0|  0|0.000|17.74| 7.06|   4|162|108|   2018|\n",
      "|Zimbabwe|  2|  0|   2|   0|  0|0.000|18.64| 6.52|   2|141|  -|2017/18|\n",
      "|Zimbabwe|  3|  1|   2|   0|  0|0.500|19.23| 6.73|   3|170|  -|   2016|\n",
      "|Zimbabwe| 15|  5|  10|   0|  0|0.500|20.15| 7.59|  15|190|127|2015/16|\n",
      "|Zimbabwe|  5|  1|   4|   0|  0|0.250|23.67| 7.34|   5|175|  -|   2015|\n",
      "|Zimbabwe|  3|  2|   1|   0|  0|2.000|28.46| 7.95|   3|163|  -|2013/14|\n",
      "|Zimbabwe|  4|  1|   3|   0|  0|0.333|23.92| 7.47|   4|168|  -|   2013|\n",
      "|Zimbabwe|  4|  0|   4|   0|  0|0.000|13.75| 5.67|   4|130|100|2012/13|\n",
      "|Zimbabwe|  4|  0|   4|   0|  0|0.000|22.71| 8.27|   4|200|154|2011/12|\n",
      "|Zimbabwe|  2|  0|   2|   0|  0|0.000|14.64| 7.04|   2|136|113|   2011|\n",
      "+--------+---+---+----+----+---+-----+-----+-----+----+---+---+-------+\n",
      "only showing top 20 rows\n",
      "\n"
     ]
    }
   ],
   "source": [
    "import os\n",
    "\n",
    "# Specify the directory where your CSV files are located\n",
    "directory = r'D:\\github\\Cricket-Prediction\\data\\1_rawData' \n",
    "\n",
    "# sparksession\n",
    "from pyspark.sql import SparkSession\n",
    "spark = SparkSession.builder.appName(\"CricketPrediction\").getOrCreate()\n",
    "\n",
    "team_data = spark.read.csv(os.path.join(directory, 't20_team_stats.csv'), header=True, inferSchema=True)\n",
    "team_data.show()"
   ]
  },
  {
   "cell_type": "code",
   "execution_count": 8,
   "metadata": {},
   "outputs": [
    {
     "name": "stdout",
     "output_type": "stream",
     "text": [
      "+--------+---+---+----+----+---+----+----+---+-------+------+------+\n",
      "|    Team|Mat|Won|Lost|Tied| NR| W/L|Inns| HS| Season|AveRPW|AveRPO|\n",
      "+--------+---+---+----+----+---+----+----+---+-------+------+------+\n",
      "|Zimbabwe|  5|  5|   0|   0|  0| 5.0|   5|344|2024/25|  43.6| 12.82|\n",
      "|Zimbabwe| 10|  2|   8|   0|  0|0.25|  10|159|   2024| 17.48|  7.16|\n",
      "|Zimbabwe| 17|  8|   9|   0|  0|0.89|  17|217|2023/24| 24.03|  7.81|\n",
      "|Zimbabwe| 11|  5|   5|   0|  1| 1.0|  11|174|2022/23| 16.94|  7.13|\n",
      "|Zimbabwe| 16|  9|   7|   0|  0|1.29|  16|236|   2022| 22.45|  7.75|\n",
      "|Zimbabwe| 14|  6|   8|   0|  0|0.75|  14|193|   2021|  20.6|  7.22|\n",
      "|Zimbabwe|  6|  0|   6|   0|  0| 0.0|   6|156|2020/21| 19.38|  7.28|\n",
      "|Zimbabwe|  6|  3|   3|   0|  0| 1.0|   6|177|2019/20| 24.56|  7.98|\n",
      "|Zimbabwe|  8|  2|   5|   1|  0| 0.4|   8|172|   2019| 22.01|  8.23|\n",
      "|Zimbabwe|  2|  0|   2|   0|  0| 0.0|   2|132|2018/19| 15.17|  6.91|\n",
      "|Zimbabwe|  4|  0|   4|   0|  0| 0.0|   4|162|   2018| 17.74|  7.06|\n",
      "|Zimbabwe|  2|  0|   2|   0|  0| 0.0|   2|141|2017/18| 18.64|  6.52|\n",
      "|Zimbabwe|  3|  1|   2|   0|  0| 0.5|   3|170|   2016| 19.23|  6.73|\n",
      "|Zimbabwe| 15|  5|  10|   0|  0| 0.5|  15|190|2015/16| 20.15|  7.59|\n",
      "|Zimbabwe|  5|  1|   4|   0|  0|0.25|   5|175|   2015| 23.67|  7.34|\n",
      "|Zimbabwe|  3|  2|   1|   0|  0| 2.0|   3|163|2013/14| 28.46|  7.95|\n",
      "|Zimbabwe|  4|  1|   3|   0|  0|0.33|   4|168|   2013| 23.92|  7.47|\n",
      "|Zimbabwe|  4|  0|   4|   0|  0| 0.0|   4|130|2012/13| 13.75|  5.67|\n",
      "|Zimbabwe|  4|  0|   4|   0|  0| 0.0|   4|200|2011/12| 22.71|  8.27|\n",
      "|Zimbabwe|  2|  0|   2|   0|  0| 0.0|   2|136|   2011| 14.64|  7.04|\n",
      "+--------+---+---+----+----+---+----+----+---+-------+------+------+\n",
      "only showing top 20 rows\n",
      "\n"
     ]
    }
   ],
   "source": [
    "from pyspark.sql.functions import col,when,round\n",
    "team_data = team_data.withColumn(\"W/L\", round(when(col(\"Lost\")==0, col(\"Won\")).otherwise(col(\"Won\")/col(\"Lost\")),2))\n",
    "team_data = team_data.withColumn(\"AveRPW\", when(col(\"Ave\")=='-',0).otherwise(col(\"Ave\")).cast(\"float\")).drop(\"Ave\")\n",
    "team_data = team_data.withColumn(\"AveRPO\", when(col(\"RPO\")=='-',0).otherwise(col(\"RPO\")).cast(\"float\")).drop(\"RPO\",\"LS\")\n",
    "team_data.show()"
   ]
  },
  {
   "cell_type": "code",
   "execution_count": 9,
   "metadata": {},
   "outputs": [
    {
     "name": "stdout",
     "output_type": "stream",
     "text": [
      "+-----------+---+---+----+----+---+----+----+---+-------+------+------+--------------+---------------+---------------+-------------+--------------+-----------------+-----------------+\n",
      "|       Team|Mat|Won|Lost|Tied| NR| W/L|Inns| HS| Season|AveRPW|AveRPO|Cumulative Won|Cumulative Lost|Cumulative Tied|Cumulative NR|Cumulative W/L|Cumulative AveRPW|Cumulative AveRPO|\n",
      "+-----------+---+---+----+----+---+----+----+---+-------+------+------+--------------+---------------+---------------+-------------+--------------+-----------------+-----------------+\n",
      "|Afghanistan|  6|  4|   2|   0|  0| 2.0|   6|147|2009/10| 20.22|  6.89|             0|              0|              0|            0|           0.0|              0.0|              0.0|\n",
      "|Afghanistan|  2|  0|   2|   0|  0| 0.0|   2|115|   2010| 10.83|  5.41|             4|              2|              0|            0|           2.0|            20.22|             6.89|\n",
      "|Afghanistan|  3|  2|   1|   0|  0| 2.0|   3|174|2011/12| 22.66|  7.97|             4|              4|              0|            0|           1.0|            17.87|             6.52|\n",
      "|Afghanistan|  4|  2|   2|   0|  0| 1.0|   4|140|2012/13| 16.26|  6.56|             6|              5|              0|            0|           1.2|            19.18|             6.92|\n",
      "|Afghanistan| 10|  4|   6|   0|  0|0.67|  10|171|2013/14| 17.15|  6.92|             8|              7|              0|            0|          1.14|             18.4|             6.82|\n",
      "|Afghanistan|  6|  5|   1|   0|  0| 5.0|   6|210|   2015| 31.96|  8.37|            12|             13|              0|            0|          0.92|             17.9|             6.86|\n",
      "|Afghanistan| 17| 12|   5|   0|  0| 2.4|  17|215|2015/16| 24.85|  8.27|            17|             14|              0|            0|          1.21|            20.62|             7.15|\n",
      "|Afghanistan| 10| 10|   0|   0|  0|10.0|  10|233|2016/17| 33.72|  8.92|            29|             19|              0|            0|          1.53|            22.12|             7.55|\n",
      "|Afghanistan|  3|  0|   3|   0|  0| 0.0|   3|146|   2017| 13.42|  6.52|            39|             19|              0|            0|          2.05|            24.12|             7.78|\n",
      "|Afghanistan|  2|  2|   0|   0|  0| 2.0|   2|158|2017/18| 19.92|  8.04|            39|             22|              0|            0|          1.77|            23.59|             7.72|\n",
      "+-----------+---+---+----+----+---+----+----+---+-------+------+------+--------------+---------------+---------------+-------------+--------------+-----------------+-----------------+\n",
      "only showing top 10 rows\n",
      "\n"
     ]
    }
   ],
   "source": [
    "# Cumulative calculations\n",
    "from pyspark.sql import Window\n",
    "from pyspark.sql.functions import col, sum as spark_sum, when, row_number, round\n",
    "\n",
    "# Define the window specification for cumulative calculations\n",
    "window_spec = Window.partitionBy(\"Team\").orderBy(\"Season\").rowsBetween(Window.unboundedPreceding, -1)\n",
    "\n",
    "# Window for row number to identify the first row per player and country\n",
    "row_num_window = Window.partitionBy(\"Team\").orderBy(\"Season\")\n",
    "\n",
    "# perform cumulative calculations\n",
    "team_data = team_data.withColumn(\"row_num\", row_number().over(row_num_window)) \\\n",
    "    .withColumn(\"Cumulative Won\",\n",
    "                when(col(\"row_num\") == 1, 0)\n",
    "                .otherwise(spark_sum(\"Won\").over(window_spec))) \\\n",
    "    .withColumn(\"Cumulative Lost\",\n",
    "                when(col(\"row_num\") == 1, 0)  # Set 0 for the first row (before any match)\n",
    "                .otherwise(spark_sum(\"Lost\").over(window_spec))) \\\n",
    "    .withColumn(\"Cumulative Tied\", \n",
    "                when(col(\"row_num\") == 1, 0)  # Set 0 for the first row (before any match)\n",
    "                .otherwise(spark_sum(\"Tied\").over(window_spec))) \\\n",
    "    .withColumn(\"Cumulative NR\", \n",
    "                when(col(\"row_num\") == 1, 0)\n",
    "                .otherwise(spark_sum(\"NR\").over(window_spec))) \\\n",
    "    .withColumn(\"Cumulative W/L\", \n",
    "                when(col(\"row_num\") == 1, 0)\n",
    "                .otherwise(\n",
    "                    round(\n",
    "                        when(spark_sum(\"Lost\").over(window_spec) != 0, \n",
    "                             spark_sum((\"Won\")).over(window_spec) / spark_sum(\"Lost\").over(window_spec))\n",
    "                        .otherwise(0), 2)\n",
    "                )\n",
    "    ) \\\n",
    "    .withColumn(\"Cumulative AveRPW\", \n",
    "                when(col(\"row_num\") == 1, 0)\n",
    "                .otherwise(\n",
    "                    round(\n",
    "                        when(spark_sum(\"Won\").over(window_spec) != 0, \n",
    "                             spark_sum(col(\"AveRPW\")*col(\"Mat\")).over(window_spec) / spark_sum(\"Mat\").over(window_spec))\n",
    "                        .otherwise(0), 2)\n",
    "                )\n",
    "    ) \\\n",
    "    .withColumn(\"Cumulative AveRPO\", \n",
    "                when(col(\"row_num\") == 1, 0)\n",
    "                .otherwise(\n",
    "                    round(\n",
    "                        when(spark_sum(\"Lost\").over(window_spec) != 0, \n",
    "                             spark_sum(col(\"AveRPO\")*col(\"Mat\")).over(window_spec) / spark_sum(\"Mat\").over(window_spec))\n",
    "                        .otherwise(0), 2)\n",
    "                )\n",
    "    ) \\\n",
    "    .drop(\"row_num\")  # Drop the temporary row number column\n",
    "\n",
    "# Show the resulting DataFrame\n",
    "team_data.show(10)"
   ]
  },
  {
   "cell_type": "code",
   "execution_count": 10,
   "metadata": {},
   "outputs": [
    {
     "name": "stdout",
     "output_type": "stream",
     "text": [
      "+-----------+-------+--------------+---------------+---------------+-------------+--------------+-----------------+-----------------+\n",
      "|       Team| Season|Cumulative Won|Cumulative Lost|Cumulative Tied|Cumulative NR|Cumulative W/L|Cumulative AveRPW|Cumulative AveRPO|\n",
      "+-----------+-------+--------------+---------------+---------------+-------------+--------------+-----------------+-----------------+\n",
      "|Afghanistan|2009/10|             0|              0|              0|            0|           0.0|              0.0|              0.0|\n",
      "|Afghanistan|   2010|             4|              2|              0|            0|           2.0|            20.22|             6.89|\n",
      "|Afghanistan|2011/12|             4|              4|              0|            0|           1.0|            17.87|             6.52|\n",
      "|Afghanistan|2012/13|             6|              5|              0|            0|           1.2|            19.18|             6.92|\n",
      "|Afghanistan|2013/14|             8|              7|              0|            0|          1.14|             18.4|             6.82|\n",
      "+-----------+-------+--------------+---------------+---------------+-------------+--------------+-----------------+-----------------+\n",
      "only showing top 5 rows\n",
      "\n"
     ]
    }
   ],
   "source": [
    "team_data = team_data.select(\"Team\", \"Season\",\"Cumulative Won\", \"Cumulative Lost\", \"Cumulative Tied\", \"Cumulative NR\", \"Cumulative W/L\", \"Cumulative AveRPW\", \"Cumulative AveRPO\")\n",
    "team_data.show(5)"
   ]
  },
  {
   "cell_type": "code",
   "execution_count": 11,
   "metadata": {},
   "outputs": [],
   "source": [
    "team_data.toPandas().to_csv(r'D:\\github\\Cricket-Prediction\\data\\2_processedData\\teamStats.csv', index=False)"
   ]
  },
  {
   "cell_type": "code",
   "execution_count": null,
   "metadata": {},
   "outputs": [],
   "source": []
  }
 ],
 "metadata": {
  "kernelspec": {
   "display_name": "eda",
   "language": "python",
   "name": "python3"
  },
  "language_info": {
   "codemirror_mode": {
    "name": "ipython",
    "version": 3
   },
   "file_extension": ".py",
   "mimetype": "text/x-python",
   "name": "python",
   "nbconvert_exporter": "python",
   "pygments_lexer": "ipython3",
   "version": "3.8.19"
  }
 },
 "nbformat": 4,
 "nbformat_minor": 2
}
