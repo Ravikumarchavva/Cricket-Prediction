{
 "cells": [
  {
   "cell_type": "code",
   "execution_count": 16,
   "metadata": {},
   "outputs": [
    {
     "name": "stdout",
     "output_type": "stream",
     "text": [
      "[\u001b[34m2024-11-15T01:29:15.805+0530\u001b[0m] {\u001b[34mutils.py:\u001b[0m12} INFO\u001b[0m - Creating Spark session.\u001b[0m\n"
     ]
    },
    {
     "name": "stderr",
     "output_type": "stream",
     "text": [
      "24/11/15 01:30:20 WARN Utils: spark.executor.instances less than spark.dynamicAllocation.minExecutors is invalid, ignoring its setting, please update your configs.\n"
     ]
    },
    {
     "name": "stdout",
     "output_type": "stream",
     "text": [
      "[\u001b[34m2024-11-15T01:30:20.525+0530\u001b[0m] {\u001b[34mutils.py:\u001b[0m30} INFO\u001b[0m - Spark session created successfully.\u001b[0m\n",
      "[\u001b[34m2024-11-15T01:30:20.527+0530\u001b[0m] {\u001b[34mutils.py:\u001b[0m39} INFO\u001b[0m - Loading data from t20_bowling_stats.csv.\u001b[0m\n"
     ]
    },
    {
     "name": "stderr",
     "output_type": "stream",
     "text": [
      "24/11/15 01:30:37 WARN TaskSchedulerImpl: Initial job has not accepted any resources; check your cluster UI to ensure that workers are registered and have sufficient resources\n",
      "[Stage 2:>                                                          (0 + 1) / 1]\r"
     ]
    },
    {
     "name": "stdout",
     "output_type": "stream",
     "text": [
      "+-------------------+---+----+-----+----+----+----+----+-----+-----+----+---+---+-------+\n",
      "|             Player|Mat|Inns|Overs|Mdns|Runs|Wkts| BBI|  Ave| Econ|  SR|  4|  5| Season|\n",
      "+-------------------+---+----+-----+----+----+----+----+-----+-----+----+---+---+-------+\n",
      "|      AR Adams (NZ)|  1|   1|  4.0|   0|  40|   0|   -|    -|10.00|   -|  0|  0|2004/05|\n",
      "|     CL Cairns (NZ)|  1|   1|  4.0|   0|  28|   1|1/28|28.00| 7.00|24.0|  0|  0|2004/05|\n",
      "|    MJ Clarke (AUS)|  1|   1|  2.0|   0|  11|   0|   -|    -| 5.50|   -|  0|  0|2004/05|\n",
      "|     JR Hopes (AUS)|  1|   1|  3.0|   0|  23|   1|1/23|23.00| 7.66|18.0|  0|  0|2004/05|\n",
      "|MS Kasprowicz (AUS)|  1|   1|  4.0|   0|  29|   4|4/29| 7.25| 7.25| 6.0|  1|  0|2004/05|\n",
      "+-------------------+---+----+-----+----+----+----+----+-----+-----+----+---+---+-------+\n",
      "only showing top 5 rows\n",
      "\n"
     ]
    },
    {
     "name": "stderr",
     "output_type": "stream",
     "text": [
      "                                                                                \r"
     ]
    }
   ],
   "source": [
    "import os\n",
    "import sys\n",
    "sys.path.append(os.path.join(os.getcwd(), '..','..','..'))\n",
    "import config, utils\n",
    "\n",
    "# Create a Spark session\n",
    "spark = utils.create_spark_session(\"bowling\", {\n",
    "    'spark.executor.memory': '4g',\n",
    "    'spark.executor.cores': '4',\n",
    "})\n",
    "\n",
    "bowling_data = utils.load_data(spark,config.RAW_DATA_DIR, 't20_bowling_stats.csv')\n",
    "\n",
    "bowling_data.show(5)"
   ]
  },
  {
   "cell_type": "code",
   "execution_count": 17,
   "metadata": {},
   "outputs": [
    {
     "name": "stderr",
     "output_type": "stream",
     "text": [
      "[Stage 3:>                                                          (0 + 1) / 1]\r"
     ]
    },
    {
     "name": "stdout",
     "output_type": "stream",
     "text": [
      "+----------------+-------+---+----+-----+----+----+-----+\n",
      "|          Player| Season|Mat|Inns|Overs|Runs|Wkts| Econ|\n",
      "+----------------+-------+---+----+-----+----+----+-----+\n",
      "|A Ahmadhel (BUL)|2019/20|  3|   3| 10.0|  75|   3|  7.5|\n",
      "|A Ahmadhel (BUL)|   2020|  1|   1|  2.0|  22|   1|11.00|\n",
      "|A Ahmadhel (BUL)|2020/21|  2|   2|  2.4|  27|   2|10.12|\n",
      "|A Ahmadhel (BUL)|   2021|  3|   2|  3.0|  31|   0|10.33|\n",
      "|A Ahmadhel (BUL)|   2023|  2|   -|    -|   -|   -|    -|\n",
      "+----------------+-------+---+----+-----+----+----+-----+\n",
      "only showing top 5 rows\n",
      "\n"
     ]
    },
    {
     "name": "stderr",
     "output_type": "stream",
     "text": [
      "                                                                                \r"
     ]
    }
   ],
   "source": [
    "bowling_data = bowling_data.select([\"Player\",\"Season\",\"Mat\",\"Inns\",'Overs',\"Runs\",\"Wkts\",\"Econ\"]).sort([\"Player\",\"Season\"])\n",
    "bowling_data.show(5)"
   ]
  },
  {
   "cell_type": "code",
   "execution_count": 18,
   "metadata": {},
   "outputs": [
    {
     "name": "stderr",
     "output_type": "stream",
     "text": [
      "[Stage 7:>                                                          (0 + 1) / 1]\r"
     ]
    },
    {
     "name": "stdout",
     "output_type": "stream",
     "text": [
      "+----------------+-------+---+----+-----+----+----+-----+\n",
      "|          Player| Season|Mat|Inns|Overs|Runs|Wkts| Econ|\n",
      "+----------------+-------+---+----+-----+----+----+-----+\n",
      "|A Ahmadhel (BUL)|2019/20|  3| 3.0| 10.0|75.0| 3.0|  7.5|\n",
      "|A Ahmadhel (BUL)|   2020|  1| 1.0|  2.0|22.0| 1.0| 11.0|\n",
      "|A Ahmadhel (BUL)|2020/21|  2| 2.0|  2.4|27.0| 2.0|10.12|\n",
      "|A Ahmadhel (BUL)|   2021|  3| 2.0|  3.0|31.0| 0.0|10.33|\n",
      "|A Ahmadhel (BUL)|   2023|  2| 0.0|  0.0| 0.0| 0.0|  0.0|\n",
      "+----------------+-------+---+----+-----+----+----+-----+\n",
      "only showing top 5 rows\n",
      "\n"
     ]
    },
    {
     "name": "stderr",
     "output_type": "stream",
     "text": [
      "                                                                                \r"
     ]
    }
   ],
   "source": [
    "from pyspark.sql.functions import when, col\n",
    "bowling_data = bowling_data.withColumn(\"Overs\", when(col(\"Overs\") == \"-\", \"0\").otherwise(col(\"Overs\")).cast(\"float\"))\n",
    "bowling_data = bowling_data.withColumn(\"Wkts\", when(col(\"Wkts\") == \"-\", \"0\").otherwise(col(\"Wkts\")).cast(\"float\"))\n",
    "bowling_data = bowling_data.withColumn(\"Inns\", when(col(\"Inns\") == \"-\", \"0\").otherwise(col(\"Inns\")).cast(\"float\"))\n",
    "bowling_data = bowling_data.withColumn(\"Runs\", when(col(\"Runs\") == \"-\", \"0\").otherwise(col(\"Runs\")).cast(\"float\"))\n",
    "bowling_data = bowling_data.withColumn(\"Econ\", when(col(\"Econ\") == \"-\", col(\"Runs\")/col(\"Inns\")).otherwise(col(\"Econ\")).cast(\"float\")).fillna(0)\n",
    "bowling_data.show(5)"
   ]
  },
  {
   "cell_type": "code",
   "execution_count": 19,
   "metadata": {},
   "outputs": [
    {
     "name": "stderr",
     "output_type": "stream",
     "text": [
      "                                                                                \r"
     ]
    },
    {
     "name": "stdout",
     "output_type": "stream",
     "text": [
      "+--------------+-------+---+----+-----+-----+----+-----+-------+\n",
      "|        Player| Season|Mat|Inns|Overs| Runs|Wkts| Econ|Country|\n",
      "+--------------+-------+---+----+-----+-----+----+-----+-------+\n",
      "|    A Ahmadhel|2019/20|  3| 3.0| 10.0| 75.0| 3.0|  7.5|    BUL|\n",
      "|    A Ahmadhel|   2020|  1| 1.0|  2.0| 22.0| 1.0| 11.0|    BUL|\n",
      "|    A Ahmadhel|2020/21|  2| 2.0|  2.4| 27.0| 2.0|10.12|    BUL|\n",
      "|    A Ahmadhel|   2021|  3| 2.0|  3.0| 31.0| 0.0|10.33|    BUL|\n",
      "|    A Ahmadhel|   2023|  2| 0.0|  0.0|  0.0| 0.0|  0.0|    BUL|\n",
      "|    A Ahmadhel|   2024|  1| 0.0|  0.0|  0.0| 0.0|  0.0|    BUL|\n",
      "|   A Alexander|2024/25|  1| 1.0|  3.3| 19.0| 2.0| 5.42|    INA|\n",
      "|       A Amado|   2022|  3| 3.0|  6.0| 58.0| 3.0| 9.66|    ISR|\n",
      "|     A Andrews|2021/22|  3| 3.0| 10.0| 61.0| 4.0|  6.1|    SUI|\n",
      "|     A Andrews|   2022|  4| 1.0|  1.0| 21.0| 0.0| 21.0|    SUI|\n",
      "|A Anemogiannis|2019/20|  1| 0.0|  0.0|  0.0| 0.0|  0.0|    GRC|\n",
      "|       A Ashok|   2023|  1| 1.0|  4.0| 28.0| 1.0|  7.0|     NZ|\n",
      "|     A Ashokan|2019/20|  2| 1.0|  2.0| 16.0| 0.0|  8.0|  CZK-R|\n",
      "|     A Ashokan|   2020|  4| 4.0|  8.5| 97.0| 2.0|10.98|  CZK-R|\n",
      "|     A Ashokan|   2021|  7| 5.0| 12.0|104.0| 1.0| 8.66|  CZK-R|\n",
      "|     A Ashokan|   2022| 15|12.0| 40.0|311.0|11.0| 7.77|  CZK-R|\n",
      "|     A Ashokan|   2023|  3| 3.0| 12.0| 52.0| 6.0| 4.33|  CZK-R|\n",
      "|    A Aspiotis|2019/20|  3| 3.0| 11.0| 71.0| 4.0| 6.45|    GRC|\n",
      "|    A Athanaze|   2024|  4| 0.0|  0.0|  0.0| 0.0|  0.0|     WI|\n",
      "|       A Bagai|   2008|  3| 0.0|  0.0|  0.0| 0.0|  0.0|    CAN|\n",
      "+--------------+-------+---+----+-----+-----+----+-----+-------+\n",
      "only showing top 20 rows\n",
      "\n"
     ]
    }
   ],
   "source": [
    "from pyspark.sql.functions import regexp_extract, regexp_replace\n",
    "\n",
    "# Extract the country name between '(' and ')'\n",
    "bowling_data = bowling_data.withColumn(\"Country\", regexp_extract(col(\"Player\"), r\"\\((.*?)\\)\", 1))\n",
    "\n",
    "# Extract the player's name before the first '('\n",
    "bowling_data = bowling_data.withColumn(\"Player\", regexp_extract(col(\"Player\"), r\"^(.*?)\\s\\(\", 1))\n",
    "\n",
    "# Show the result\n",
    "bowling_data.show()"
   ]
  },
  {
   "cell_type": "code",
   "execution_count": 20,
   "metadata": {},
   "outputs": [
    {
     "name": "stderr",
     "output_type": "stream",
     "text": [
      "[Stage 15:>                                                         (0 + 1) / 1]\r"
     ]
    },
    {
     "name": "stdout",
     "output_type": "stream",
     "text": [
      "+----------+-------+---+----+-----+----+----+-----+-------+--------------+---------------+------------------+---------------+---------------+---------------+\n",
      "|    Player| Season|Mat|Inns|Overs|Runs|Wkts| Econ|Country|Cumulative Mat|Cumulative Inns|  Cumulative Overs|Cumulative Runs|Cumulative Wkts|Cumulative Econ|\n",
      "+----------+-------+---+----+-----+----+----+-----+-------+--------------+---------------+------------------+---------------+---------------+---------------+\n",
      "|A Ahmadhel|2019/20|  3| 3.0| 10.0|75.0| 3.0|  7.5|    BUL|             0|            0.0|               0.0|            0.0|            0.0|            0.0|\n",
      "|A Ahmadhel|   2020|  1| 1.0|  2.0|22.0| 1.0| 11.0|    BUL|             3|            3.0|              10.0|           75.0|            3.0|            7.5|\n",
      "|A Ahmadhel|2020/21|  2| 2.0|  2.4|27.0| 2.0|10.12|    BUL|             4|            4.0|              12.0|           97.0|            4.0|           8.38|\n",
      "|A Ahmadhel|   2021|  3| 2.0|  3.0|31.0| 0.0|10.33|    BUL|             6|            6.0|14.400000095367432|          124.0|            6.0|           8.96|\n",
      "|A Ahmadhel|   2023|  2| 0.0|  0.0| 0.0| 0.0|  0.0|    BUL|             9|            8.0| 17.40000009536743|          155.0|            6.0|            9.3|\n",
      "+----------+-------+---+----+-----+----+----+-----+-------+--------------+---------------+------------------+---------------+---------------+---------------+\n",
      "only showing top 5 rows\n",
      "\n"
     ]
    },
    {
     "name": "stderr",
     "output_type": "stream",
     "text": [
      "                                                                                \r"
     ]
    }
   ],
   "source": [
    "from pyspark.sql import Window\n",
    "from pyspark.sql.functions import col, sum as spark_sum, when, row_number, round\n",
    "\n",
    "# Define the window specification for cumulative calculations excluding the current row\n",
    "window_spec = Window.partitionBy(\"Player\", \"Country\").orderBy(\"Season\").rowsBetween(Window.unboundedPreceding, -1)\n",
    "\n",
    "# Window for row number to identify the first row per player and country\n",
    "row_num_window = Window.partitionBy(\"Player\", \"Country\").orderBy(\"Season\")\n",
    "\n",
    "# Perform cumulative calculations with conditions\n",
    "bowling_data = bowling_data.withColumn(\"row_num\", row_number().over(row_num_window)) \\\n",
    "    .withColumn(\"Cumulative Mat\",\n",
    "                when(col(\"row_num\") == 1, 0)  # Set 0 for the first row (before any match)\n",
    "                .otherwise(spark_sum(\"Mat\").over(window_spec))) \\\n",
    "    .withColumn(\"Cumulative Inns\",\n",
    "                when(col(\"row_num\") == 1, 0)  # Set 0 for the first row (before any match)\n",
    "                .otherwise(spark_sum(\"Inns\").over(window_spec))) \\\n",
    "    .withColumn(\"Cumulative Overs\", \n",
    "                when(col(\"row_num\") == 1, 0)  # Set 0 for the first row (before any match)\n",
    "                .otherwise(spark_sum(\"Overs\").over(window_spec))) \\\n",
    "    .withColumn(\"Cumulative Runs\", \n",
    "                when(col(\"row_num\") == 1, 0)\n",
    "                .otherwise(spark_sum(\"Runs\").over(window_spec))) \\\n",
    "    .withColumn(\"Cumulative Wkts\", \n",
    "                when(col(\"row_num\") == 1, 0)\n",
    "                .otherwise(spark_sum(\"Wkts\").over(window_spec))) \\\n",
    "    .withColumn(\n",
    "        \"Cumulative Econ\", \n",
    "        when(col(\"row_num\") == 1, 0)\n",
    "        .otherwise(\n",
    "            round(\n",
    "                when(spark_sum(\"Inns\").over(window_spec) != 0, \n",
    "                     spark_sum(col(\"Inns\")*col(\"Econ\")).over(window_spec) / spark_sum(\"Inns\").over(window_spec))\n",
    "                .otherwise(0), 2)\n",
    "        )\n",
    "    ) \\\n",
    "    .drop(\"row_num\")  # Drop the temporary row number column\n",
    "\n",
    "# Show the resulting DataFrame\n",
    "bowling_data.show(5)"
   ]
  },
  {
   "cell_type": "code",
   "execution_count": 21,
   "metadata": {},
   "outputs": [
    {
     "name": "stdout",
     "output_type": "stream",
     "text": [
      "+----------+-------+-------+--------------+---------------+------------------+---------------+---------------+---------------+\n",
      "|    Player|Country| Season|Cumulative Mat|Cumulative Inns|  Cumulative Overs|Cumulative Runs|Cumulative Wkts|Cumulative Econ|\n",
      "+----------+-------+-------+--------------+---------------+------------------+---------------+---------------+---------------+\n",
      "|A Ahmadhel|    BUL|2019/20|             0|            0.0|               0.0|            0.0|            0.0|            0.0|\n",
      "|A Ahmadhel|    BUL|   2020|             3|            3.0|              10.0|           75.0|            3.0|            7.5|\n",
      "|A Ahmadhel|    BUL|2020/21|             4|            4.0|              12.0|           97.0|            4.0|           8.38|\n",
      "|A Ahmadhel|    BUL|   2021|             6|            6.0|14.400000095367432|          124.0|            6.0|           8.96|\n",
      "|A Ahmadhel|    BUL|   2023|             9|            8.0| 17.40000009536743|          155.0|            6.0|            9.3|\n",
      "+----------+-------+-------+--------------+---------------+------------------+---------------+---------------+---------------+\n",
      "only showing top 5 rows\n",
      "\n"
     ]
    },
    {
     "name": "stderr",
     "output_type": "stream",
     "text": [
      "                                                                                \r"
     ]
    }
   ],
   "source": [
    "bowling_data = bowling_data.select([\"Player\",\"Country\",\"Season\",\"Cumulative Mat\",\"Cumulative Inns\",\"Cumulative Overs\",\"Cumulative Runs\",\"Cumulative Wkts\",\"Cumulative Econ\"])\n",
    "bowling_data.show(5)"
   ]
  },
  {
   "cell_type": "code",
   "execution_count": 22,
   "metadata": {},
   "outputs": [
    {
     "data": {
      "text/plain": [
       "(103, 11, 5, 103)"
      ]
     },
     "execution_count": 22,
     "metadata": {},
     "output_type": "execute_result"
    }
   ],
   "source": [
    "country_codes = {\n",
    "    'LES': 'Lesotho',\n",
    "    'BUL': 'Bulgaria',\n",
    "    'VAN': 'Vanuatu',\n",
    "    'ROM': 'Romania',\n",
    "    'Aut': 'Austria',\n",
    "    'COK': 'Cook Islands',\n",
    "    'Fran': 'France',\n",
    "    'SRB': 'Serbia',\n",
    "    'PAK': 'Pakistan',\n",
    "    'HUN': 'Hungary',\n",
    "    'CYP': 'Cyprus',\n",
    "    'Fiji': 'Fiji',\n",
    "    'FIN': 'Finland',\n",
    "    'EST': 'Estonia',\n",
    "    'CHN': 'China',\n",
    "    'GRC': 'Greece',\n",
    "    'CAM': 'Cambodia',\n",
    "    'GUE': 'Guernsey',\n",
    "    'SEY': 'Seychelles',\n",
    "    'JPN': 'Japan',\n",
    "    'TAN': 'Tanzania',\n",
    "    'JER': 'Jersey',\n",
    "    'QAT': 'Qatar',\n",
    "    'ENG': 'England',\n",
    "    'UGA': 'Uganda',\n",
    "    'BER': 'Bermuda',\n",
    "    'CZK-R': 'Czech Republic',\n",
    "    'CAY': 'Cayman Islands',\n",
    "    'IRE': 'Ireland',\n",
    "    'Mali': 'Mali',\n",
    "    'BRA': 'Brazil',\n",
    "    'SUI': 'Switzerland',\n",
    "    'Peru': 'Peru',\n",
    "    'Mex': 'Mexico',\n",
    "    'MOZ': 'Mozambique',\n",
    "    'Samoa': 'Samoa',\n",
    "    'HKG': 'Hong Kong',\n",
    "    'BAN': 'Bangladesh',\n",
    "    'SL': 'Sri Lanka',\n",
    "    'PNG': 'Papua New Guinea',\n",
    "    'ZIM': 'Zimbabwe',\n",
    "    'GHA': 'Ghana',\n",
    "    'SWZ': 'Eswatini',  # Swaziland's official name now is Eswatini\n",
    "    'MYAN': 'Myanmar',\n",
    "    'IND': 'India',\n",
    "    'USA': 'United States of America',\n",
    "    'NEP': 'Nepal',\n",
    "    'AFG': 'Afghanistan',\n",
    "    'PAN': 'Panama',\n",
    "    'NGA': 'Nigeria',\n",
    "    'SLE': 'Sierra Leone',\n",
    "    'ESP': 'Spain',\n",
    "    'Bhm': 'Bahamas',\n",
    "    'TKY': 'Turkey',\n",
    "    'MWI': 'Malawi',\n",
    "    'WI': 'West Indies',\n",
    "    'IOM': 'Isle of Man',\n",
    "    'THA': 'Thailand',\n",
    "    'SWA': 'Eswatini',  # another code for Eswatini\n",
    "    'SKOR': 'South Korea',\n",
    "    'GMB': 'Gambia',\n",
    "    'ISR': 'Israel',\n",
    "    'KUW': 'Kuwait',\n",
    "    'Belg': 'Belgium',\n",
    "    'GER': 'Germany',\n",
    "    'ITA': 'Italy',\n",
    "    'CAN': 'Canada',\n",
    "    'MDV': 'Maldives',\n",
    "    'Blz': 'Belize',\n",
    "    'DEN': 'Denmark',\n",
    "    'INA': 'Indonesia',\n",
    "    'KENYA': 'Kenya',\n",
    "    'LUX': 'Luxembourg',\n",
    "    'STHEL': 'Saint Helena',\n",
    "    'BHR': 'Bahrain',\n",
    "    'KSA': 'Saudi Arabia',\n",
    "    'MLT': 'Malta',\n",
    "    'Arg': 'Argentina',\n",
    "    'MNG': 'Mongolia',\n",
    "    'AUS': 'Australia',\n",
    "    'GIBR': 'Gibraltar',\n",
    "    'SGP': 'Singapore',\n",
    "    'Chile': 'Chile',\n",
    "    'UAE': 'United Arab Emirates',\n",
    "    'NZ': 'New Zealand',\n",
    "    'SCOT': 'Scotland',\n",
    "    'BHU': 'Bhutan',\n",
    "    'MAS': 'Malaysia',\n",
    "    'BOT': 'Botswana',\n",
    "    'CRC': 'Costa Rica',\n",
    "    'PHI': 'Philippines',\n",
    "    'NAM': 'Namibia',\n",
    "    'RWN': 'Rwanda',\n",
    "    'OMA': 'Oman',\n",
    "    'NOR': 'Norway',\n",
    "    'CRT': 'Croatia',\n",
    "    'SWE': 'Sweden',\n",
    "    'Iran': 'Iran',\n",
    "    'PORT': 'Portugal',\n",
    "    'NED': 'Netherlands',\n",
    "    'SA': 'South Africa',\n",
    "    'SVN': 'Slovenia',\n",
    "    'GUE': 'Guernsey',\n",
    "    'MDV': 'Maldives',\n",
    "    'BHM': 'Bahamas',\n",
    "    'SWE': 'Sweden',\n",
    "    'MLT': 'Malta',\n",
    "    'ITA': 'Italy',\n",
    "}\n",
    "\n",
    "# ICC and World teams\n",
    "icc_world = {\n",
    "    'ICC/PAK': 'Pakistan',\n",
    "    'ICC/SL': 'Sri Lanka',\n",
    "    'ICC/IND': 'India',\n",
    "    'ICC/NEP': 'Nepal',\n",
    "    'BAN/ICC': 'Bangladesh',\n",
    "    'AFG/ICC': 'Afghanistan',\n",
    "    'SL/World': 'Sri Lanka',\n",
    "    'SA/World': 'South Africa',\n",
    "    'AUS/World': 'Australia',\n",
    "    'BAN/World': 'Bangladesh',\n",
    "    'WI/World': 'West Indies',\n",
    "}\n",
    "\n",
    "# Outlier/Miscellaneous Countries\n",
    "outlier_countries = {\n",
    "    '1': 'Miscellaneous Country 1',\n",
    "    '2': 'Miscellaneous Country 2',\n",
    "    '3': 'Miscellaneous Country 3',\n",
    "    'ICC': 'International Cricket Council',\n",
    "    'World': 'World XI',\n",
    "}\n",
    "\n",
    "# Filtered country codes excluding ICC, World teams, and miscellaneous\n",
    "filtered_countries = {\n",
    "    code: country\n",
    "    for code, country in country_codes.items()\n",
    "    if code not in icc_world and code not in outlier_countries\n",
    "}\n",
    "len(country_codes), len(icc_world), len(outlier_countries), len(filtered_countries)"
   ]
  },
  {
   "cell_type": "code",
   "execution_count": 23,
   "metadata": {},
   "outputs": [
    {
     "name": "stdout",
     "output_type": "stream",
     "text": [
      "+----------+-------+-------+--------------+---------------+------------------+---------------+---------------+---------------+\n",
      "|    Player|Country| Season|Cumulative Mat|Cumulative Inns|  Cumulative Overs|Cumulative Runs|Cumulative Wkts|Cumulative Econ|\n",
      "+----------+-------+-------+--------------+---------------+------------------+---------------+---------------+---------------+\n",
      "|A Ahmadhel|    BUL|2019/20|             0|            0.0|               0.0|            0.0|            0.0|            0.0|\n",
      "|A Ahmadhel|    BUL|   2020|             3|            3.0|              10.0|           75.0|            3.0|            7.5|\n",
      "|A Ahmadhel|    BUL|2020/21|             4|            4.0|              12.0|           97.0|            4.0|           8.38|\n",
      "|A Ahmadhel|    BUL|   2021|             6|            6.0|14.400000095367432|          124.0|            6.0|           8.96|\n",
      "|A Ahmadhel|    BUL|   2023|             9|            8.0| 17.40000009536743|          155.0|            6.0|            9.3|\n",
      "+----------+-------+-------+--------------+---------------+------------------+---------------+---------------+---------------+\n",
      "only showing top 5 rows\n",
      "\n"
     ]
    }
   ],
   "source": [
    "bowling_data = bowling_data.filter(col('Country').isin(list(filtered_countries.keys())))\n",
    "bowling_data.show(5)"
   ]
  },
  {
   "cell_type": "code",
   "execution_count": 24,
   "metadata": {},
   "outputs": [
    {
     "name": "stdout",
     "output_type": "stream",
     "text": [
      "+----------+--------+-------+--------------+---------------+------------------+---------------+---------------+---------------+\n",
      "|    Player| Country| Season|Cumulative Mat|Cumulative Inns|  Cumulative Overs|Cumulative Runs|Cumulative Wkts|Cumulative Econ|\n",
      "+----------+--------+-------+--------------+---------------+------------------+---------------+---------------+---------------+\n",
      "|A Ahmadhel|Bulgaria|2019/20|             0|            0.0|               0.0|            0.0|            0.0|            0.0|\n",
      "|A Ahmadhel|Bulgaria|   2020|             3|            3.0|              10.0|           75.0|            3.0|            7.5|\n",
      "|A Ahmadhel|Bulgaria|2020/21|             4|            4.0|              12.0|           97.0|            4.0|           8.38|\n",
      "|A Ahmadhel|Bulgaria|   2021|             6|            6.0|14.400000095367432|          124.0|            6.0|           8.96|\n",
      "|A Ahmadhel|Bulgaria|   2023|             9|            8.0| 17.40000009536743|          155.0|            6.0|            9.3|\n",
      "+----------+--------+-------+--------------+---------------+------------------+---------------+---------------+---------------+\n",
      "only showing top 5 rows\n",
      "\n"
     ]
    }
   ],
   "source": [
    "bowling_data = bowling_data.replace(filtered_countries,subset=['Country'])\n",
    "bowling_data.show(5)"
   ]
  },
  {
   "cell_type": "code",
   "execution_count": 25,
   "metadata": {},
   "outputs": [
    {
     "name": "stdout",
     "output_type": "stream",
     "text": [
      "[\u001b[34m2024-11-15T01:35:30.908+0530\u001b[0m] {\u001b[34mutils.py:\u001b[0m39} INFO\u001b[0m - Loading data from match_players.csv.\u001b[0m\n"
     ]
    },
    {
     "name": "stderr",
     "output_type": "stream",
     "text": [
      "                                                                                \r"
     ]
    },
    {
     "name": "stdout",
     "output_type": "stream",
     "text": [
      "19755\n",
      "+---------+-------------+---------+------+--------+\n",
      "|  Country|       Player|player_id|Season|match_id|\n",
      "+---------+-------------+---------+------+--------+\n",
      "|  England|       JJ Roy| d1c36f5c|  2018| 1119542|\n",
      "|  England|   JC Buttler| 99b75528|  2018| 1119542|\n",
      "|  England|   EJG Morgan| d2a6c0e6|  2018| 1119542|\n",
      "|  England|     AD Hales| 92aeac25|  2018| 1119542|\n",
      "|  England|      JE Root| a343262c|  2018| 1119542|\n",
      "|  England|  JM Bairstow| abb83e27|  2018| 1119542|\n",
      "|  England|       MM Ali| bb351c23|  2018| 1119542|\n",
      "|  England|    DJ Willey| 7f048519|  2018| 1119542|\n",
      "|  England|  LE Plunkett| 9a963804|  2018| 1119542|\n",
      "|  England|    CJ Jordan| ffe699c0|  2018| 1119542|\n",
      "|  England|    AU Rashid| 249d60c9|  2018| 1119542|\n",
      "|Australia|    DJM Short| 1a156c88|  2018| 1119542|\n",
      "|Australia|     AJ Finch| b8d490fd|  2018| 1119542|\n",
      "|Australia|   GJ Maxwell| b681e71e|  2018| 1119542|\n",
      "|Australia|      TM Head| 12b610c2|  2018| 1119542|\n",
      "|Australia|     AT Carey| 69d03465|  2018| 1119542|\n",
      "|Australia|   MP Stoinis| d9273ee7|  2018| 1119542|\n",
      "|Australia|      AC Agar| a2421394|  2018| 1119542|\n",
      "|Australia|       AJ Tye| 7c7d63a2|  2018| 1119542|\n",
      "|Australia|KW Richardson| dfc4d8b5|  2018| 1119542|\n",
      "+---------+-------------+---------+------+--------+\n",
      "only showing top 20 rows\n",
      "\n"
     ]
    }
   ],
   "source": [
    "players_data = utils.load_data(spark,config.PROCESSED_DATA_DIR,'match_players.csv')\n",
    "players_data = players_data.withColumnRenamed(\"player\", \"Player\").withColumnRenamed(\"country\", \"Country\").withColumnRenamed(\"season\", \"Season\")\n",
    "print(players_data[['Player',\"Country\",\"Season\"]].distinct().count())\n",
    "players_data.show()"
   ]
  },
  {
   "cell_type": "code",
   "execution_count": 26,
   "metadata": {},
   "outputs": [
    {
     "name": "stderr",
     "output_type": "stream",
     "text": [
      "                                                                                \r"
     ]
    },
    {
     "name": "stdout",
     "output_type": "stream",
     "text": [
      "53406\n"
     ]
    },
    {
     "name": "stderr",
     "output_type": "stream",
     "text": [
      "[Stage 60:>                                                         (0 + 1) / 1]\r"
     ]
    },
    {
     "name": "stdout",
     "output_type": "stream",
     "text": [
      "+---------+----------+-------+------+--------------+---------------+----------------+-----------------------+---------------+---------------+\n",
      "|player_id|    Player|Country|Season|Cumulative Mat|Cumulative Inns|Cumulative Overs|Cumulative Bowling Runs|Cumulative Wkts|Cumulative Econ|\n",
      "+---------+----------+-------+------+--------------+---------------+----------------+-----------------------+---------------+---------------+\n",
      "| d1c36f5c|    JJ Roy|England|  2018|            27|            0.0|             0.0|                    0.0|            0.0|            0.0|\n",
      "| 99b75528|JC Buttler|England|  2018|            61|            0.0|             0.0|                    0.0|            0.0|            0.0|\n",
      "| d2a6c0e6|EJG Morgan|England|  2018|            72|            0.0|             0.0|                    0.0|            0.0|            0.0|\n",
      "| 92aeac25|  AD Hales|England|  2018|            52|            0.0|             0.0|                    0.0|            0.0|            0.0|\n",
      "| a343262c|   JE Root|England|  2018|            25|            9.0|            14.0|                  139.0|            6.0|          10.22|\n",
      "+---------+----------+-------+------+--------------+---------------+----------------+-----------------------+---------------+---------------+\n",
      "only showing top 5 rows\n",
      "\n"
     ]
    },
    {
     "name": "stderr",
     "output_type": "stream",
     "text": [
      "                                                                                \r"
     ]
    }
   ],
   "source": [
    "bowling_data = bowling_data.join(players_data, ['Player', 'Country', \"Season\"], 'inner')\n",
    "bowling_data = bowling_data.select(['player_id', 'Player', 'Country', \"Season\",\"Cumulative Mat\", \"Cumulative Inns\", 'Cumulative Overs','Cumulative Runs','Cumulative Wkts','Cumulative Econ']).withColumnRenamed(\"Cumulative Runs\",\"Cumulative Bowling Runs\")\n",
    "print(bowling_data.count())\n",
    "bowling_data.show(5)"
   ]
  },
  {
   "cell_type": "code",
   "execution_count": 27,
   "metadata": {},
   "outputs": [
    {
     "name": "stderr",
     "output_type": "stream",
     "text": [
      "                                                                                \r"
     ]
    },
    {
     "data": {
      "text/plain": [
       "(3640, 3594, 12383)"
      ]
     },
     "execution_count": 27,
     "metadata": {},
     "output_type": "execute_result"
    }
   ],
   "source": [
    "bowling_data[['Player','Country']].distinct().count(), bowling_data[['Player']].distinct().count(), bowling_data[['Player','Country',\"Season\"]].distinct().count()"
   ]
  },
  {
   "cell_type": "code",
   "execution_count": 28,
   "metadata": {},
   "outputs": [
    {
     "name": "stderr",
     "output_type": "stream",
     "text": [
      "[Stage 89:>                                                         (0 + 1) / 1]\r"
     ]
    },
    {
     "name": "stdout",
     "output_type": "stream",
     "text": [
      "[\u001b[34m2024-11-15T01:37:42.120+0530\u001b[0m] {\u001b[34mutils.py:\u001b[0m57} INFO\u001b[0m - Successfully wrote data to /usr/ravi/t20/data/2_processedData/bowling_data.csv\u001b[0m\n"
     ]
    },
    {
     "name": "stderr",
     "output_type": "stream",
     "text": [
      "                                                                                \r"
     ]
    }
   ],
   "source": [
    "utils.spark_save_data(bowling_data, config.PROCESSED_DATA_DIR, 'bowling_data.csv')\n",
    "spark.stop()"
   ]
  }
 ],
 "metadata": {
  "kernelspec": {
   "display_name": "t20i",
   "language": "python",
   "name": "python3"
  },
  "language_info": {
   "codemirror_mode": {
    "name": "ipython",
    "version": 3
   },
   "file_extension": ".py",
   "mimetype": "text/x-python",
   "name": "python",
   "nbconvert_exporter": "python",
   "pygments_lexer": "ipython3",
   "version": "3.12.7"
  }
 },
 "nbformat": 4,
 "nbformat_minor": 2
}
