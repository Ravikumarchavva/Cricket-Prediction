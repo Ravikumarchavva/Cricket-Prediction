{
 "cells": [
  {
   "cell_type": "code",
   "execution_count": 17,
   "metadata": {},
   "outputs": [
    {
     "name": "stdout",
     "output_type": "stream",
     "text": [
      "+--------------------+---+----+-----+----+----+----+----+-----+----+----+---+---+-------+\n",
      "|              Player|Mat|Inns|Overs|Mdns|Runs|Wkts| BBI|  Ave|Econ|  SR|  4|  5| Season|\n",
      "+--------------------+---+----+-----+----+----+----+----+-----+----+----+---+---+-------+\n",
      "|Zulqarnain Haider...|  2|   -|    -|   -|   -|   -|   -|    -|   -|   -|  -|  -|2010/11|\n",
      "|Zulqarnain Haider...|  1|   -|    -|   -|   -|   -|   -|    -|   -|   -|  -|  -|2006/07|\n",
      "|Zulqarnain Haider...|  1|   1|  3.0|   0|   7|   0|   -|    -|2.33|   -|  0|  0|2019/20|\n",
      "|Zulqarnain Haider...|  6|   6| 15.0|   0|  91|   5|2/26|18.20|6.06|18.0|  0|  0|   2022|\n",
      "|Zulqarnain Haider...|  4|   4| 10.0|   0|  53|   3| 1/7|17.66|5.30|20.0|  0|  0|   2019|\n",
      "+--------------------+---+----+-----+----+----+----+----+-----+----+----+---+---+-------+\n",
      "only showing top 5 rows\n",
      "\n"
     ]
    }
   ],
   "source": [
    "import os\n",
    "import sys\n",
    "\n",
    "os.environ['PYSPARK_PYTHON'] = sys.executable\n",
    "os.environ['PYSPARK_DRIVER_PYTHON'] = sys.executable\n",
    "\n",
    "\n",
    "# Then proceed to import and use Spark\n",
    "from pyspark.sql import SparkSession\n",
    "\n",
    "# Create a Spark session\n",
    "spark = SparkSession.builder.appName(\"CricketPrediction\").getOrCreate()\n",
    "\n",
    "\n",
    "# Specify the directory where your CSV files are located\n",
    "directory = r'D:\\github\\Cricket-Prediction\\data\\1_rawData'\n",
    "bowling_data = spark.read.csv(os.path.join(directory, 't20_bowling_stats.csv'), header=True, inferSchema=True)\n",
    "bowling_data.show(5)"
   ]
  },
  {
   "cell_type": "code",
   "execution_count": 18,
   "metadata": {},
   "outputs": [
    {
     "name": "stdout",
     "output_type": "stream",
     "text": [
      "+----------------+-------+---+----+-----+----+----+-----+\n",
      "|          Player| Season|Mat|Inns|Overs|Runs|Wkts| Econ|\n",
      "+----------------+-------+---+----+-----+----+----+-----+\n",
      "|A Ahmadhel (BUL)|2019/20|  3|   3| 10.0|  75|   3|  7.5|\n",
      "|A Ahmadhel (BUL)|   2020|  1|   1|  2.0|  22|   1|11.00|\n",
      "|A Ahmadhel (BUL)|2020/21|  2|   2|  2.4|  27|   2|10.12|\n",
      "|A Ahmadhel (BUL)|   2021|  3|   2|  3.0|  31|   0|10.33|\n",
      "|A Ahmadhel (BUL)|   2023|  2|   -|    -|   -|   -|    -|\n",
      "+----------------+-------+---+----+-----+----+----+-----+\n",
      "only showing top 5 rows\n",
      "\n"
     ]
    }
   ],
   "source": [
    "bowling_data = bowling_data.select([\"Player\",\"Season\",\"Mat\",\"Inns\",'Overs',\"Runs\",\"Wkts\",\"Econ\"]).sort([\"Player\",\"Season\"])\n",
    "bowling_data.show(5)"
   ]
  },
  {
   "cell_type": "code",
   "execution_count": 19,
   "metadata": {},
   "outputs": [
    {
     "name": "stdout",
     "output_type": "stream",
     "text": [
      "+----------------+-------+---+----+-----+----+----+-----+\n",
      "|          Player| Season|Mat|Inns|Overs|Runs|Wkts| Econ|\n",
      "+----------------+-------+---+----+-----+----+----+-----+\n",
      "|A Ahmadhel (BUL)|2019/20|  3| 3.0| 10.0|75.0| 3.0|  7.5|\n",
      "|A Ahmadhel (BUL)|   2020|  1| 1.0|  2.0|22.0| 1.0| 11.0|\n",
      "|A Ahmadhel (BUL)|2020/21|  2| 2.0|  2.4|27.0| 2.0|10.12|\n",
      "|A Ahmadhel (BUL)|   2021|  3| 2.0|  3.0|31.0| 0.0|10.33|\n",
      "|A Ahmadhel (BUL)|   2023|  2| 0.0|  0.0| 0.0| 0.0|  0.0|\n",
      "+----------------+-------+---+----+-----+----+----+-----+\n",
      "only showing top 5 rows\n",
      "\n"
     ]
    }
   ],
   "source": [
    "from pyspark.sql.functions import when, col\n",
    "bowling_data = bowling_data.withColumn(\"Overs\", when(col(\"Overs\") == \"-\", \"0\").otherwise(col(\"Overs\")).cast(\"float\"))\n",
    "bowling_data = bowling_data.withColumn(\"Wkts\", when(col(\"Wkts\") == \"-\", \"0\").otherwise(col(\"Wkts\")).cast(\"float\"))\n",
    "bowling_data = bowling_data.withColumn(\"Inns\", when(col(\"Inns\") == \"-\", \"0\").otherwise(col(\"Inns\")).cast(\"float\"))\n",
    "bowling_data = bowling_data.withColumn(\"Runs\", when(col(\"Runs\") == \"-\", \"0\").otherwise(col(\"Runs\")).cast(\"float\"))\n",
    "bowling_data = bowling_data.withColumn(\"Econ\", when(col(\"Econ\") == \"-\", col(\"Runs\")/col(\"Inns\")).otherwise(col(\"Econ\")).cast(\"float\")).fillna(0)\n",
    "bowling_data.show(5)"
   ]
  },
  {
   "cell_type": "code",
   "execution_count": 20,
   "metadata": {},
   "outputs": [
    {
     "name": "stdout",
     "output_type": "stream",
     "text": [
      "+--------------+-------+---+----+-----+-----+----+-----+-------+\n",
      "|        Player| Season|Mat|Inns|Overs| Runs|Wkts| Econ|Country|\n",
      "+--------------+-------+---+----+-----+-----+----+-----+-------+\n",
      "|    A Ahmadhel|2019/20|  3| 3.0| 10.0| 75.0| 3.0|  7.5|    BUL|\n",
      "|    A Ahmadhel|   2020|  1| 1.0|  2.0| 22.0| 1.0| 11.0|    BUL|\n",
      "|    A Ahmadhel|2020/21|  2| 2.0|  2.4| 27.0| 2.0|10.12|    BUL|\n",
      "|    A Ahmadhel|   2021|  3| 2.0|  3.0| 31.0| 0.0|10.33|    BUL|\n",
      "|    A Ahmadhel|   2023|  2| 0.0|  0.0|  0.0| 0.0|  0.0|    BUL|\n",
      "|    A Ahmadhel|   2024|  1| 0.0|  0.0|  0.0| 0.0|  0.0|    BUL|\n",
      "|   A Alexander|2024/25|  1| 1.0|  3.3| 19.0| 2.0| 5.42|    INA|\n",
      "|       A Amado|   2022|  3| 3.0|  6.0| 58.0| 3.0| 9.66|    ISR|\n",
      "|     A Andrews|2021/22|  3| 3.0| 10.0| 61.0| 4.0|  6.1|    SUI|\n",
      "|     A Andrews|   2022|  4| 1.0|  1.0| 21.0| 0.0| 21.0|    SUI|\n",
      "|A Anemogiannis|2019/20|  1| 0.0|  0.0|  0.0| 0.0|  0.0|    GRC|\n",
      "|       A Ashok|   2023|  1| 1.0|  4.0| 28.0| 1.0|  7.0|     NZ|\n",
      "|     A Ashokan|2019/20|  2| 1.0|  2.0| 16.0| 0.0|  8.0|  CZK-R|\n",
      "|     A Ashokan|   2020|  4| 4.0|  8.5| 97.0| 2.0|10.98|  CZK-R|\n",
      "|     A Ashokan|   2021|  7| 5.0| 12.0|104.0| 1.0| 8.66|  CZK-R|\n",
      "|     A Ashokan|   2022| 15|12.0| 40.0|311.0|11.0| 7.77|  CZK-R|\n",
      "|     A Ashokan|   2023|  3| 3.0| 12.0| 52.0| 6.0| 4.33|  CZK-R|\n",
      "|    A Aspiotis|2019/20|  3| 3.0| 11.0| 71.0| 4.0| 6.45|    GRC|\n",
      "|    A Athanaze|   2024|  4| 0.0|  0.0|  0.0| 0.0|  0.0|     WI|\n",
      "|       A Bagai|   2008|  3| 0.0|  0.0|  0.0| 0.0|  0.0|    CAN|\n",
      "+--------------+-------+---+----+-----+-----+----+-----+-------+\n",
      "only showing top 20 rows\n",
      "\n"
     ]
    }
   ],
   "source": [
    "from pyspark.sql.functions import regexp_extract, regexp_replace\n",
    "\n",
    "# Extract the country name between '(' and ')'\n",
    "bowling_data = bowling_data.withColumn(\"Country\", regexp_extract(col(\"Player\"), r\"\\((.*?)\\)\", 1))\n",
    "\n",
    "# Extract the player's name before the first '('\n",
    "bowling_data = bowling_data.withColumn(\"Player\", regexp_extract(col(\"Player\"), r\"^(.*?)\\s\\(\", 1))\n",
    "\n",
    "# Show the result\n",
    "bowling_data.show()"
   ]
  },
  {
   "cell_type": "code",
   "execution_count": 21,
   "metadata": {},
   "outputs": [
    {
     "name": "stdout",
     "output_type": "stream",
     "text": [
      "+----------+-------+---+----+-----+----+----+-----+-------+------------------+---------------+---------------+---------------+---------------+\n",
      "|    Player| Season|Mat|Inns|Overs|Runs|Wkts| Econ|Country|  Cumulative Overs|Cumulative Wkts|Cumulative Runs|Cumulative Inns|Cumulative Econ|\n",
      "+----------+-------+---+----+-----+----+----+-----+-------+------------------+---------------+---------------+---------------+---------------+\n",
      "|A Ahmadhel|2019/20|  3| 3.0| 10.0|75.0| 3.0|  7.5|    BUL|               0.0|            0.0|            0.0|            0.0|            0.0|\n",
      "|A Ahmadhel|   2020|  1| 1.0|  2.0|22.0| 1.0| 11.0|    BUL|              10.0|            3.0|           75.0|            3.0|            7.5|\n",
      "|A Ahmadhel|2020/21|  2| 2.0|  2.4|27.0| 2.0|10.12|    BUL|              12.0|            4.0|           97.0|            4.0|           8.38|\n",
      "|A Ahmadhel|   2021|  3| 2.0|  3.0|31.0| 0.0|10.33|    BUL|14.400000095367432|            6.0|          124.0|            6.0|           8.96|\n",
      "|A Ahmadhel|   2023|  2| 0.0|  0.0| 0.0| 0.0|  0.0|    BUL| 17.40000009536743|            6.0|          155.0|            8.0|            9.3|\n",
      "+----------+-------+---+----+-----+----+----+-----+-------+------------------+---------------+---------------+---------------+---------------+\n",
      "only showing top 5 rows\n",
      "\n"
     ]
    }
   ],
   "source": [
    "from pyspark.sql import Window\n",
    "from pyspark.sql.functions import col, sum as spark_sum, when, row_number, round\n",
    "\n",
    "# Define the window specification for cumulative calculations excluding the current row\n",
    "window_spec = Window.partitionBy(\"Player\", \"Country\").orderBy(\"Season\").rowsBetween(Window.unboundedPreceding, -1)\n",
    "\n",
    "# Window for row number to identify the first row per player and country\n",
    "row_num_window = Window.partitionBy(\"Player\", \"Country\").orderBy(\"Season\")\n",
    "\n",
    "# Perform cumulative calculations with conditions\n",
    "bowling_data = bowling_data.withColumn(\"row_num\", row_number().over(row_num_window)) \\\n",
    "    .withColumn(\"Cumulative Overs\", \n",
    "                when(col(\"row_num\") == 1, 0)  # Set 0 for the first row (before any match)\n",
    "                .otherwise(spark_sum(\"Overs\").over(window_spec))) \\\n",
    "    .withColumn(\"Cumulative Wkts\", \n",
    "                when(col(\"row_num\") == 1, 0)\n",
    "                .otherwise(spark_sum(\"Wkts\").over(window_spec))) \\\n",
    "    .withColumn(\"Cumulative Runs\", \n",
    "                when(col(\"row_num\") == 1, 0)\n",
    "                .otherwise(spark_sum(\"Runs\").over(window_spec))) \\\n",
    "    .withColumn(\"Cumulative Inns\", \n",
    "                when(col(\"row_num\") == 1, 0)\n",
    "                .otherwise(spark_sum(\"Inns\").over(window_spec))) \\\n",
    "    .withColumn(\n",
    "        \"Cumulative Econ\", \n",
    "        when(col(\"row_num\") == 1, 0)\n",
    "        .otherwise(\n",
    "            round(\n",
    "                when(spark_sum(\"Inns\").over(window_spec) != 0, \n",
    "                     spark_sum(col(\"Inns\")*col(\"Econ\")).over(window_spec) / spark_sum(\"Inns\").over(window_spec))\n",
    "                .otherwise(0), 2)\n",
    "        )\n",
    "    ) \\\n",
    "    .drop(\"row_num\")  # Drop the temporary row number column\n",
    "\n",
    "# Show the resulting DataFrame\n",
    "bowling_data.show(5)"
   ]
  },
  {
   "cell_type": "code",
   "execution_count": 22,
   "metadata": {},
   "outputs": [
    {
     "data": {
      "text/plain": [
       "(103, 11, 5, 103)"
      ]
     },
     "execution_count": 22,
     "metadata": {},
     "output_type": "execute_result"
    }
   ],
   "source": [
    "country_codes = {\n",
    "    'LES': 'Lesotho',\n",
    "    'BUL': 'Bulgaria',\n",
    "    'VAN': 'Vanuatu',\n",
    "    'ROM': 'Romania',\n",
    "    'Aut': 'Austria',\n",
    "    'COK': 'Cook Islands',\n",
    "    'Fran': 'France',\n",
    "    'SRB': 'Serbia',\n",
    "    'PAK': 'Pakistan',\n",
    "    'HUN': 'Hungary',\n",
    "    'CYP': 'Cyprus',\n",
    "    'Fiji': 'Fiji',\n",
    "    'FIN': 'Finland',\n",
    "    'EST': 'Estonia',\n",
    "    'CHN': 'China',\n",
    "    'GRC': 'Greece',\n",
    "    'CAM': 'Cambodia',\n",
    "    'GUE': 'Guernsey',\n",
    "    'SEY': 'Seychelles',\n",
    "    'JPN': 'Japan',\n",
    "    'TAN': 'Tanzania',\n",
    "    'JER': 'Jersey',\n",
    "    'QAT': 'Qatar',\n",
    "    'ENG': 'England',\n",
    "    'UGA': 'Uganda',\n",
    "    'BER': 'Bermuda',\n",
    "    'CZK-R': 'Czech Republic',\n",
    "    'CAY': 'Cayman Islands',\n",
    "    'IRE': 'Ireland',\n",
    "    'Mali': 'Mali',\n",
    "    'BRA': 'Brazil',\n",
    "    'SUI': 'Switzerland',\n",
    "    'Peru': 'Peru',\n",
    "    'Mex': 'Mexico',\n",
    "    'MOZ': 'Mozambique',\n",
    "    'Samoa': 'Samoa',\n",
    "    'HKG': 'Hong Kong',\n",
    "    'BAN': 'Bangladesh',\n",
    "    'SL': 'Sri Lanka',\n",
    "    'PNG': 'Papua New Guinea',\n",
    "    'ZIM': 'Zimbabwe',\n",
    "    'GHA': 'Ghana',\n",
    "    'SWZ': 'Eswatini',  # Swaziland's official name now is Eswatini\n",
    "    'MYAN': 'Myanmar',\n",
    "    'IND': 'India',\n",
    "    'USA': 'United States of America',\n",
    "    'NEP': 'Nepal',\n",
    "    'AFG': 'Afghanistan',\n",
    "    'PAN': 'Panama',\n",
    "    'NGA': 'Nigeria',\n",
    "    'SLE': 'Sierra Leone',\n",
    "    'ESP': 'Spain',\n",
    "    'Bhm': 'Bahamas',\n",
    "    'TKY': 'Turkey',\n",
    "    'MWI': 'Malawi',\n",
    "    'WI': 'West Indies',\n",
    "    'IOM': 'Isle of Man',\n",
    "    'THA': 'Thailand',\n",
    "    'SWA': 'Eswatini',  # another code for Eswatini\n",
    "    'SKOR': 'South Korea',\n",
    "    'GMB': 'Gambia',\n",
    "    'ISR': 'Israel',\n",
    "    'KUW': 'Kuwait',\n",
    "    'Belg': 'Belgium',\n",
    "    'GER': 'Germany',\n",
    "    'ITA': 'Italy',\n",
    "    'CAN': 'Canada',\n",
    "    'MDV': 'Maldives',\n",
    "    'Blz': 'Belize',\n",
    "    'DEN': 'Denmark',\n",
    "    'INA': 'Indonesia',\n",
    "    'KENYA': 'Kenya',\n",
    "    'LUX': 'Luxembourg',\n",
    "    'STHEL': 'Saint Helena',\n",
    "    'BHR': 'Bahrain',\n",
    "    'KSA': 'Saudi Arabia',\n",
    "    'MLT': 'Malta',\n",
    "    'Arg': 'Argentina',\n",
    "    'MNG': 'Mongolia',\n",
    "    'AUS': 'Australia',\n",
    "    'GIBR': 'Gibraltar',\n",
    "    'SGP': 'Singapore',\n",
    "    'Chile': 'Chile',\n",
    "    'UAE': 'United Arab Emirates',\n",
    "    'NZ': 'New Zealand',\n",
    "    'SCOT': 'Scotland',\n",
    "    'BHU': 'Bhutan',\n",
    "    'MAS': 'Malaysia',\n",
    "    'BOT': 'Botswana',\n",
    "    'CRC': 'Costa Rica',\n",
    "    'PHI': 'Philippines',\n",
    "    'NAM': 'Namibia',\n",
    "    'RWN': 'Rwanda',\n",
    "    'OMA': 'Oman',\n",
    "    'NOR': 'Norway',\n",
    "    'CRT': 'Croatia',\n",
    "    'SWE': 'Sweden',\n",
    "    'Iran': 'Iran',\n",
    "    'PORT': 'Portugal',\n",
    "    'NED': 'Netherlands',\n",
    "    'SA': 'South Africa',\n",
    "    'SVN': 'Slovenia',\n",
    "    'GUE': 'Guernsey',\n",
    "    'MDV': 'Maldives',\n",
    "    'BHM': 'Bahamas',\n",
    "    'SWE': 'Sweden',\n",
    "    'MLT': 'Malta',\n",
    "    'ITA': 'Italy',\n",
    "}\n",
    "\n",
    "# ICC and World teams\n",
    "icc_world = {\n",
    "    'ICC/PAK': 'Pakistan',\n",
    "    'ICC/SL': 'Sri Lanka',\n",
    "    'ICC/IND': 'India',\n",
    "    'ICC/NEP': 'Nepal',\n",
    "    'BAN/ICC': 'Bangladesh',\n",
    "    'AFG/ICC': 'Afghanistan',\n",
    "    'SL/World': 'Sri Lanka',\n",
    "    'SA/World': 'South Africa',\n",
    "    'AUS/World': 'Australia',\n",
    "    'BAN/World': 'Bangladesh',\n",
    "    'WI/World': 'West Indies',\n",
    "}\n",
    "\n",
    "# Outlier/Miscellaneous Countries\n",
    "outlier_countries = {\n",
    "    '1': 'Miscellaneous Country 1',\n",
    "    '2': 'Miscellaneous Country 2',\n",
    "    '3': 'Miscellaneous Country 3',\n",
    "    'ICC': 'International Cricket Council',\n",
    "    'World': 'World XI',\n",
    "}\n",
    "\n",
    "# Filtered country codes excluding ICC, World teams, and miscellaneous\n",
    "filtered_countries = {\n",
    "    code: country\n",
    "    for code, country in country_codes.items()\n",
    "    if code not in icc_world and code not in outlier_countries\n",
    "}\n",
    "len(country_codes), len(icc_world), len(outlier_countries), len(filtered_countries)"
   ]
  },
  {
   "cell_type": "code",
   "execution_count": 23,
   "metadata": {},
   "outputs": [
    {
     "name": "stdout",
     "output_type": "stream",
     "text": [
      "+----------+-------+---+----+-----+----+----+-----+-------+------------------+---------------+---------------+---------------+---------------+\n",
      "|    Player| Season|Mat|Inns|Overs|Runs|Wkts| Econ|Country|  Cumulative Overs|Cumulative Wkts|Cumulative Runs|Cumulative Inns|Cumulative Econ|\n",
      "+----------+-------+---+----+-----+----+----+-----+-------+------------------+---------------+---------------+---------------+---------------+\n",
      "|A Ahmadhel|2019/20|  3| 3.0| 10.0|75.0| 3.0|  7.5|    BUL|               0.0|            0.0|            0.0|            0.0|            0.0|\n",
      "|A Ahmadhel|   2020|  1| 1.0|  2.0|22.0| 1.0| 11.0|    BUL|              10.0|            3.0|           75.0|            3.0|            7.5|\n",
      "|A Ahmadhel|2020/21|  2| 2.0|  2.4|27.0| 2.0|10.12|    BUL|              12.0|            4.0|           97.0|            4.0|           8.38|\n",
      "|A Ahmadhel|   2021|  3| 2.0|  3.0|31.0| 0.0|10.33|    BUL|14.400000095367432|            6.0|          124.0|            6.0|           8.96|\n",
      "|A Ahmadhel|   2023|  2| 0.0|  0.0| 0.0| 0.0|  0.0|    BUL| 17.40000009536743|            6.0|          155.0|            8.0|            9.3|\n",
      "+----------+-------+---+----+-----+----+----+-----+-------+------------------+---------------+---------------+---------------+---------------+\n",
      "only showing top 5 rows\n",
      "\n"
     ]
    }
   ],
   "source": [
    "bowling_data = bowling_data.filter(col('Country').isin(list(filtered_countries.keys())))\n",
    "bowling_data.show(5)"
   ]
  },
  {
   "cell_type": "code",
   "execution_count": 24,
   "metadata": {},
   "outputs": [
    {
     "name": "stdout",
     "output_type": "stream",
     "text": [
      "+----------+-------+---+----+-----+----+----+-----+--------+------------------+---------------+---------------+---------------+---------------+\n",
      "|    Player| Season|Mat|Inns|Overs|Runs|Wkts| Econ| Country|  Cumulative Overs|Cumulative Wkts|Cumulative Runs|Cumulative Inns|Cumulative Econ|\n",
      "+----------+-------+---+----+-----+----+----+-----+--------+------------------+---------------+---------------+---------------+---------------+\n",
      "|A Ahmadhel|2019/20|  3| 3.0| 10.0|75.0| 3.0|  7.5|Bulgaria|               0.0|            0.0|            0.0|            0.0|            0.0|\n",
      "|A Ahmadhel|   2020|  1| 1.0|  2.0|22.0| 1.0| 11.0|Bulgaria|              10.0|            3.0|           75.0|            3.0|            7.5|\n",
      "|A Ahmadhel|2020/21|  2| 2.0|  2.4|27.0| 2.0|10.12|Bulgaria|              12.0|            4.0|           97.0|            4.0|           8.38|\n",
      "|A Ahmadhel|   2021|  3| 2.0|  3.0|31.0| 0.0|10.33|Bulgaria|14.400000095367432|            6.0|          124.0|            6.0|           8.96|\n",
      "|A Ahmadhel|   2023|  2| 0.0|  0.0| 0.0| 0.0|  0.0|Bulgaria| 17.40000009536743|            6.0|          155.0|            8.0|            9.3|\n",
      "+----------+-------+---+----+-----+----+----+-----+--------+------------------+---------------+---------------+---------------+---------------+\n",
      "only showing top 5 rows\n",
      "\n"
     ]
    }
   ],
   "source": [
    "bowling_data = bowling_data.replace(filtered_countries,subset=['Country'])\n",
    "bowling_data.show(5)"
   ]
  },
  {
   "cell_type": "code",
   "execution_count": null,
   "metadata": {},
   "outputs": [],
   "source": []
  }
 ],
 "metadata": {
  "kernelspec": {
   "display_name": "eda",
   "language": "python",
   "name": "python3"
  },
  "language_info": {
   "codemirror_mode": {
    "name": "ipython",
    "version": 3
   },
   "file_extension": ".py",
   "mimetype": "text/x-python",
   "name": "python",
   "nbconvert_exporter": "python",
   "pygments_lexer": "ipython3",
   "version": "3.8.19"
  }
 },
 "nbformat": 4,
 "nbformat_minor": 2
}
