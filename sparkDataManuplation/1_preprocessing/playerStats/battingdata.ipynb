{
 "cells": [
  {
   "cell_type": "code",
   "execution_count": 16,
   "metadata": {},
   "outputs": [
    {
     "name": "stdout",
     "output_type": "stream",
     "text": [
      "[\u001b[34m2024-11-14T20:21:29.144+0530\u001b[0m] {\u001b[34mutils.py:\u001b[0m12} INFO\u001b[0m - Creating Spark session.\u001b[0m\n",
      "[\u001b[34m2024-11-14T20:21:29.278+0530\u001b[0m] {\u001b[34mutils.py:\u001b[0m30} INFO\u001b[0m - Spark session created successfully.\u001b[0m\n",
      "[\u001b[34m2024-11-14T20:21:29.279+0530\u001b[0m] {\u001b[34mutils.py:\u001b[0m39} INFO\u001b[0m - Loading data from t20_batting_stats.csv.\u001b[0m\n"
     ]
    },
    {
     "name": "stderr",
     "output_type": "stream",
     "text": [
      "24/11/14 20:21:29 WARN Utils: spark.executor.instances less than spark.dynamicAllocation.minExecutors is invalid, ignoring its setting, please update your configs.\n",
      "[Stage 1:>                                                          (0 + 1) / 1]\r"
     ]
    },
    {
     "name": "stdout",
     "output_type": "stream",
     "text": [
      "+------------------+---+----+---+----+---+-----+---+------+---+---+---+---+---+-------+\n",
      "|            Player|Mat|Inns| NO|Runs| HS|  Ave| BF|    SR|100| 50|  0| 4s| 6s| Season|\n",
      "+------------------+---+----+---+----+---+-----+---+------+---+---+---+---+---+-------+\n",
      "|     AR Adams (NZ)|  1|   1|  0|   7|  7| 7.00|  7|100.00|  0|  0|  0|  1|  0|2004/05|\n",
      "|    CL Cairns (NZ)|  1|   1|  0|   1|  1| 1.00|  4| 25.00|  0|  0|  0|  0|  0|2004/05|\n",
      "|   MJ Clarke (AUS)|  1|   1|  0|   7|  7| 7.00|  4|175.00|  0|  0|  0|  0|  1|2004/05|\n",
      "|   SP Fleming (NZ)|  1|   1|  0|  18| 18|18.00| 13|138.46|  0|  0|  0|  3|  0|2004/05|\n",
      "|AC Gilchrist (AUS)|  1|   1|  0|   1|  1| 1.00|  3| 33.33|  0|  0|  0|  0|  0|2004/05|\n",
      "+------------------+---+----+---+----+---+-----+---+------+---+---+---+---+---+-------+\n",
      "only showing top 5 rows\n",
      "\n"
     ]
    },
    {
     "name": "stderr",
     "output_type": "stream",
     "text": [
      "                                                                                \r"
     ]
    }
   ],
   "source": [
    "import os\n",
    "import sys\n",
    "sys.path.append(os.path.join(os.getcwd(), '..','..','..'))\n",
    "import config, utils\n",
    "\n",
    "# Create a Spark session\n",
    "spark = utils.create_spark_session(\"batting\", {\n",
    "    'spark.executor.memory': '4g',\n",
    "    'spark.executor.cores': '6',\n",
    "})\n",
    "\n",
    "batting_data = utils.load_data(spark,config.RAW_DATA_DIR, 't20_batting_stats.csv')\n",
    "\n",
    "batting_data.show(5)"
   ]
  },
  {
   "cell_type": "code",
   "execution_count": 17,
   "metadata": {},
   "outputs": [
    {
     "name": "stdout",
     "output_type": "stream",
     "text": [
      "14133\n",
      "+----------------+-------+---+----+----+------+----+\n",
      "|          Player| Season|Mat|Inns|Runs|    SR| Ave|\n",
      "+----------------+-------+---+----+----+------+----+\n",
      "|A Ahmadhel (BUL)|2019/20|  3|   2|  16|100.00|8.00|\n",
      "|A Ahmadhel (BUL)|   2020|  1|   1|   8|100.00|   -|\n",
      "|A Ahmadhel (BUL)|2020/21|  2|   1|   2| 28.57|2.00|\n",
      "|A Ahmadhel (BUL)|   2021|  3|   3|   5| 38.46|1.66|\n",
      "|A Ahmadhel (BUL)|   2023|  2|   -|   -|     -|   -|\n",
      "+----------------+-------+---+----+----+------+----+\n",
      "only showing top 5 rows\n",
      "\n"
     ]
    }
   ],
   "source": [
    "batting_data = batting_data.select(\"Player\",\"Season\",\"Mat\",\"Inns\",\"Runs\",\"SR\",\"Ave\").sort(\"Player\",\"Season\")\n",
    "print(batting_data.count())\n",
    "batting_data.show(5)"
   ]
  },
  {
   "cell_type": "code",
   "execution_count": 18,
   "metadata": {},
   "outputs": [
    {
     "name": "stdout",
     "output_type": "stream",
     "text": [
      "+----------------+-------+---+----+----+-----+----+\n",
      "|          Player| Season|Mat|Inns|Runs|   SR| Ave|\n",
      "+----------------+-------+---+----+----+-----+----+\n",
      "|A Ahmadhel (BUL)|2019/20|  3|   2|  16|100.0| 8.0|\n",
      "|A Ahmadhel (BUL)|   2020|  1|   1|   8|100.0| 8.0|\n",
      "|A Ahmadhel (BUL)|2020/21|  2|   1|   2|28.57| 2.0|\n",
      "|A Ahmadhel (BUL)|   2021|  3|   3|   5|38.46|1.66|\n",
      "|A Ahmadhel (BUL)|   2023|  2|   0|   0|  0.0| 0.0|\n",
      "+----------------+-------+---+----+----+-----+----+\n",
      "only showing top 5 rows\n",
      "\n"
     ]
    }
   ],
   "source": [
    "from pyspark.sql.functions import when,col\n",
    "batting_data = batting_data.withColumn(\"Inns\", when(col(\"Inns\") == \"-\", \"0\").otherwise(col(\"Inns\")).cast(\"int\"))\n",
    "batting_data = batting_data.withColumn(\"Runs\", when(col(\"Runs\") == \"-\", \"0\").otherwise(col(\"Runs\")).cast(\"int\"))\n",
    "batting_data = batting_data.withColumn(\"SR\", when(col(\"SR\") == \"-\", \"0\").otherwise(col(\"SR\")).cast(\"float\"))\n",
    "batting_data = batting_data.withColumn(\"Ave\", when(col(\"Ave\") == \"-\", col(\"Runs\")/col(\"Inns\")).otherwise(col(\"Ave\")).cast(\"float\")).na.fill(0)\n",
    "batting_data.show(5)"
   ]
  },
  {
   "cell_type": "code",
   "execution_count": 19,
   "metadata": {},
   "outputs": [
    {
     "name": "stdout",
     "output_type": "stream",
     "text": [
      "+----------+-------+---+----+----+-----+----+-------+\n",
      "|    Player| Season|Mat|Inns|Runs|   SR| Ave|Country|\n",
      "+----------+-------+---+----+----+-----+----+-------+\n",
      "|A Ahmadhel|2019/20|  3|   2|  16|100.0| 8.0|    BUL|\n",
      "|A Ahmadhel|   2020|  1|   1|   8|100.0| 8.0|    BUL|\n",
      "|A Ahmadhel|2020/21|  2|   1|   2|28.57| 2.0|    BUL|\n",
      "|A Ahmadhel|   2021|  3|   3|   5|38.46|1.66|    BUL|\n",
      "|A Ahmadhel|   2023|  2|   0|   0|  0.0| 0.0|    BUL|\n",
      "+----------+-------+---+----+----+-----+----+-------+\n",
      "only showing top 5 rows\n",
      "\n"
     ]
    }
   ],
   "source": [
    "from pyspark.sql.functions import regexp_extract, regexp_replace\n",
    "\n",
    "# Extract the country name between '(' and ')'\n",
    "batting_data = batting_data.withColumn(\"Country\", regexp_extract(col(\"Player\"), r\"\\((.*?)\\)\", 1))\n",
    "\n",
    "# Extract the player's name before the first '('\n",
    "batting_data = batting_data.withColumn(\"Player\", regexp_extract(col(\"Player\"), r\"^(.*?)\\s\\(\", 1))\n",
    "\n",
    "# Show the result\n",
    "batting_data.show(5)"
   ]
  },
  {
   "cell_type": "code",
   "execution_count": 20,
   "metadata": {},
   "outputs": [
    {
     "name": "stdout",
     "output_type": "stream",
     "text": [
      "+----------+-------+---+----+----+-----+----+-------+-------------+--------------+--------------+---------------+------+\n",
      "|    Player| Season|Mat|Inns|Runs|   SR| Ave|Country|Cum Mat Total|Cum Inns Total|Cum Runs Total|Cum Batting Ave|Cum SR|\n",
      "+----------+-------+---+----+----+-----+----+-------+-------------+--------------+--------------+---------------+------+\n",
      "|A Ahmadhel|2019/20|  3|   2|  16|100.0| 8.0|    BUL|            0|             0|             0|            0.0|   0.0|\n",
      "|A Ahmadhel|   2020|  1|   1|   8|100.0| 8.0|    BUL|            3|             2|            16|            8.0| 100.0|\n",
      "|A Ahmadhel|2020/21|  2|   1|   2|28.57| 2.0|    BUL|            4|             3|            24|            8.0| 100.0|\n",
      "|A Ahmadhel|   2021|  3|   3|   5|38.46|1.66|    BUL|            6|             4|            26|            6.5| 82.14|\n",
      "|A Ahmadhel|   2023|  2|   0|   0|  0.0| 0.0|    BUL|            9|             7|            31|           4.43| 63.42|\n",
      "+----------+-------+---+----+----+-----+----+-------+-------------+--------------+--------------+---------------+------+\n",
      "only showing top 5 rows\n",
      "\n"
     ]
    }
   ],
   "source": [
    "from pyspark.sql import Window\n",
    "from pyspark.sql.functions import col, sum as spark_sum, when, row_number, round\n",
    "\n",
    "# Define a window for cumulative calculations up to the previous season\n",
    "window_spec = Window.partitionBy(\"Player\", \"Country\").orderBy(\"Season\").rowsBetween(Window.unboundedPreceding, -1)\n",
    "\n",
    "# Window for row number to identify the first row per player and country\n",
    "row_num_window = Window.partitionBy(\"Player\", \"Country\").orderBy(\"Season\")\n",
    "\n",
    "# Calculate cumulative metrics excluding the current season and set to 0 if it's the first row\n",
    "batting_data = batting_data.withColumn(\"row_num\", row_number().over(row_num_window)) \\\n",
    "       .withColumn(\"Cum Mat Total\", \n",
    "                   when(col(\"row_num\") == 1, 0)\n",
    "                   .otherwise(spark_sum(\"Mat\").over(window_spec))) \\\n",
    "       .withColumn(\"Cum Inns Total\", \n",
    "                   when(col(\"row_num\") == 1, 0)\n",
    "                   .otherwise(spark_sum(\"Inns\").over(window_spec))) \\\n",
    "       .withColumn(\"Cum Runs Total\", \n",
    "                   when(col(\"row_num\") == 1, 0)\n",
    "                   .otherwise(spark_sum(\"Runs\").over(window_spec))) \\\n",
    "       .withColumn(\"Cum Batting Ave\", \n",
    "                   when(col(\"row_num\") == 1, 0)\n",
    "                   .otherwise(\n",
    "                       round(when(spark_sum(\"Inns\").over(window_spec) != 0,\n",
    "                                  spark_sum(col(\"Inns\") * col(\"Ave\")).over(window_spec) / spark_sum(\"Inns\").over(window_spec))\n",
    "                             .otherwise(0), 2))) \\\n",
    "       .withColumn(\"Cum SR\", \n",
    "                   when(col(\"row_num\") == 1, 0)\n",
    "                   .otherwise(\n",
    "                       round(when(spark_sum(\"Inns\").over(window_spec) != 0,\n",
    "                                  spark_sum(col(\"Inns\") * col(\"SR\")).over(window_spec) / spark_sum(\"Inns\").over(window_spec))\n",
    "                             .otherwise(0), 2))) \\\n",
    "       .drop(\"row_num\")\n",
    "\n",
    "# Show the resulting DataFrame\n",
    "batting_data.show(5)"
   ]
  },
  {
   "cell_type": "code",
   "execution_count": 21,
   "metadata": {},
   "outputs": [
    {
     "name": "stdout",
     "output_type": "stream",
     "text": [
      "+----------+-------+-------+-------------+--------------+--------------+---------------+------+\n",
      "|    Player|Country| Season|Cum Mat Total|Cum Inns Total|Cum Runs Total|Cum Batting Ave|Cum SR|\n",
      "+----------+-------+-------+-------------+--------------+--------------+---------------+------+\n",
      "|A Ahmadhel|    BUL|2019/20|            0|             0|             0|            0.0|   0.0|\n",
      "|A Ahmadhel|    BUL|   2020|            3|             2|            16|            8.0| 100.0|\n",
      "|A Ahmadhel|    BUL|2020/21|            4|             3|            24|            8.0| 100.0|\n",
      "|A Ahmadhel|    BUL|   2021|            6|             4|            26|            6.5| 82.14|\n",
      "|A Ahmadhel|    BUL|   2023|            9|             7|            31|           4.43| 63.42|\n",
      "+----------+-------+-------+-------------+--------------+--------------+---------------+------+\n",
      "only showing top 5 rows\n",
      "\n"
     ]
    }
   ],
   "source": [
    "batting_data = batting_data.select(['Player','Country','Season','Cum Mat Total','Cum Inns Total','Cum Runs Total','Cum Batting Ave','Cum SR'])\n",
    "batting_data.show(5)"
   ]
  },
  {
   "cell_type": "code",
   "execution_count": 22,
   "metadata": {},
   "outputs": [
    {
     "name": "stdout",
     "output_type": "stream",
     "text": [
      "+-------+-------+-------+-------------+--------------+--------------+---------------+------+\n",
      "| Player|Country| Season|Cum Mat Total|Cum Inns Total|Cum Runs Total|Cum Batting Ave|Cum SR|\n",
      "+-------+-------+-------+-------------+--------------+--------------+---------------+------+\n",
      "|V Kohli|    IND|   2010|            0|             0|             0|            0.0|   0.0|\n",
      "|V Kohli|    IND|2010/11|            2|             1|            26|           26.0| 123.8|\n",
      "|V Kohli|    IND|   2011|            3|             2|            54|           27.0|135.58|\n",
      "|V Kohli|    IND|2011/12|            5|             4|            72|           18.0|120.73|\n",
      "|V Kohli|    IND|   2012|            9|             7|           140|           20.0|116.76|\n",
      "|V Kohli|    IND|2012/13|           11|             9|           278|          30.89|125.27|\n",
      "|V Kohli|    IND|2013/14|           20|            18|           558|          32.94|125.98|\n",
      "|V Kohli|    IND|   2014|           27|            25|           906|          48.08|126.93|\n",
      "|V Kohli|    IND|2015/16|           28|            26|           972|          48.77|128.24|\n",
      "|V Kohli|    IND|   2016|           43|            40|          1641|          65.15|132.54|\n",
      "|V Kohli|    IND|2016/17|           45|            41|          1657|          63.95|133.65|\n",
      "|V Kohli|    IND|   2017|           48|            44|          1709|          60.77|132.41|\n",
      "|V Kohli|    IND|2017/18|           50|            46|          1830|          60.76|133.58|\n",
      "|V Kohli|    IND|   2018|           57|            53|          1983|          56.78|136.14|\n",
      "|V Kohli|    IND|2018/19|           62|            58|          2102|          54.45|134.77|\n",
      "|V Kohli|    IND|   2019|           67|            62|          2263|          56.13|136.06|\n",
      "|V Kohli|    IND|2019/20|           70|            65|          2369|          55.17|134.82|\n",
      "|V Kohli|    IND|2020/21|           82|            76|          2794|          55.97|137.52|\n",
      "|V Kohli|    IND|2021/22|           90|            84|          3159|          57.59|138.27|\n",
      "|V Kohli|    IND|   2022|           97|            89|          3296|          56.28|136.81|\n",
      "+-------+-------+-------+-------------+--------------+--------------+---------------+------+\n",
      "only showing top 20 rows\n",
      "\n"
     ]
    }
   ],
   "source": [
    "batting_data.filter(col(\"Player\").contains(\"V Kohli\")).show()"
   ]
  },
  {
   "cell_type": "code",
   "execution_count": 23,
   "metadata": {},
   "outputs": [
    {
     "data": {
      "text/plain": [
       "(103, 11, 5, 103)"
      ]
     },
     "execution_count": 23,
     "metadata": {},
     "output_type": "execute_result"
    }
   ],
   "source": [
    "country_codes = {\n",
    "    'LES': 'Lesotho',\n",
    "    'BUL': 'Bulgaria',\n",
    "    'VAN': 'Vanuatu',\n",
    "    'ROM': 'Romania',\n",
    "    'Aut': 'Austria',\n",
    "    'COK': 'Cook Islands',\n",
    "    'Fran': 'France',\n",
    "    'SRB': 'Serbia',\n",
    "    'PAK': 'Pakistan',\n",
    "    'HUN': 'Hungary',\n",
    "    'CYP': 'Cyprus',\n",
    "    'Fiji': 'Fiji',\n",
    "    'FIN': 'Finland',\n",
    "    'EST': 'Estonia',\n",
    "    'CHN': 'China',\n",
    "    'GRC': 'Greece',\n",
    "    'CAM': 'Cambodia',\n",
    "    'GUE': 'Guernsey',\n",
    "    'SEY': 'Seychelles',\n",
    "    'JPN': 'Japan',\n",
    "    'TAN': 'Tanzania',\n",
    "    'JER': 'Jersey',\n",
    "    'QAT': 'Qatar',\n",
    "    'ENG': 'England',\n",
    "    'UGA': 'Uganda',\n",
    "    'BER': 'Bermuda',\n",
    "    'CZK-R': 'Czech Republic',\n",
    "    'CAY': 'Cayman Islands',\n",
    "    'IRE': 'Ireland',\n",
    "    'Mali': 'Mali',\n",
    "    'BRA': 'Brazil',\n",
    "    'SUI': 'Switzerland',\n",
    "    'Peru': 'Peru',\n",
    "    'Mex': 'Mexico',\n",
    "    'MOZ': 'Mozambique',\n",
    "    'Samoa': 'Samoa',\n",
    "    'HKG': 'Hong Kong',\n",
    "    'BAN': 'Bangladesh',\n",
    "    'SL': 'Sri Lanka',\n",
    "    'PNG': 'Papua New Guinea',\n",
    "    'ZIM': 'Zimbabwe',\n",
    "    'GHA': 'Ghana',\n",
    "    'SWZ': 'Eswatini',  # Swaziland's official name now is Eswatini\n",
    "    'MYAN': 'Myanmar',\n",
    "    'IND': 'India',\n",
    "    'USA': 'United States of America',\n",
    "    'NEP': 'Nepal',\n",
    "    'AFG': 'Afghanistan',\n",
    "    'PAN': 'Panama',\n",
    "    'NGA': 'Nigeria',\n",
    "    'SLE': 'Sierra Leone',\n",
    "    'ESP': 'Spain',\n",
    "    'Bhm': 'Bahamas',\n",
    "    'TKY': 'Turkey',\n",
    "    'MWI': 'Malawi',\n",
    "    'WI': 'West Indies',\n",
    "    'IOM': 'Isle of Man',\n",
    "    'THA': 'Thailand',\n",
    "    'SWA': 'Eswatini',  # another code for Eswatini\n",
    "    'SKOR': 'South Korea',\n",
    "    'GMB': 'Gambia',\n",
    "    'ISR': 'Israel',\n",
    "    'KUW': 'Kuwait',\n",
    "    'Belg': 'Belgium',\n",
    "    'GER': 'Germany',\n",
    "    'ITA': 'Italy',\n",
    "    'CAN': 'Canada',\n",
    "    'MDV': 'Maldives',\n",
    "    'Blz': 'Belize',\n",
    "    'DEN': 'Denmark',\n",
    "    'INA': 'Indonesia',\n",
    "    'KENYA': 'Kenya',\n",
    "    'LUX': 'Luxembourg',\n",
    "    'STHEL': 'Saint Helena',\n",
    "    'BHR': 'Bahrain',\n",
    "    'KSA': 'Saudi Arabia',\n",
    "    'MLT': 'Malta',\n",
    "    'Arg': 'Argentina',\n",
    "    'MNG': 'Mongolia',\n",
    "    'AUS': 'Australia',\n",
    "    'GIBR': 'Gibraltar',\n",
    "    'SGP': 'Singapore',\n",
    "    'Chile': 'Chile',\n",
    "    'UAE': 'United Arab Emirates',\n",
    "    'NZ': 'New Zealand',\n",
    "    'SCOT': 'Scotland',\n",
    "    'BHU': 'Bhutan',\n",
    "    'MAS': 'Malaysia',\n",
    "    'BOT': 'Botswana',\n",
    "    'CRC': 'Costa Rica',\n",
    "    'PHI': 'Philippines',\n",
    "    'NAM': 'Namibia',\n",
    "    'RWN': 'Rwanda',\n",
    "    'OMA': 'Oman',\n",
    "    'NOR': 'Norway',\n",
    "    'CRT': 'Croatia',\n",
    "    'SWE': 'Sweden',\n",
    "    'Iran': 'Iran',\n",
    "    'PORT': 'Portugal',\n",
    "    'NED': 'Netherlands',\n",
    "    'SA': 'South Africa',\n",
    "    'SVN': 'Slovenia',\n",
    "    'GUE': 'Guernsey',\n",
    "    'MDV': 'Maldives',\n",
    "    'BHM': 'Bahamas',\n",
    "    'SWE': 'Sweden',\n",
    "    'MLT': 'Malta',\n",
    "    'ITA': 'Italy',\n",
    "}\n",
    "\n",
    "# ICC and World teams\n",
    "icc_world = {\n",
    "    'ICC/PAK': 'Pakistan',\n",
    "    'ICC/SL': 'Sri Lanka',\n",
    "    'ICC/IND': 'India',\n",
    "    'ICC/NEP': 'Nepal',\n",
    "    'BAN/ICC': 'Bangladesh',\n",
    "    'AFG/ICC': 'Afghanistan',\n",
    "    'SL/World': 'Sri Lanka',\n",
    "    'SA/World': 'South Africa',\n",
    "    'AUS/World': 'Australia',\n",
    "    'BAN/World': 'Bangladesh',\n",
    "    'WI/World': 'West Indies',\n",
    "}\n",
    "\n",
    "# Outlier/Miscellaneous Countries\n",
    "outlier_countries = {\n",
    "    '1': 'Miscellaneous Country 1',\n",
    "    '2': 'Miscellaneous Country 2',\n",
    "    '3': 'Miscellaneous Country 3',\n",
    "    'ICC': 'International Cricket Council',\n",
    "    'World': 'World XI',\n",
    "}\n",
    "\n",
    "# Filtered country codes excluding ICC, World teams, and miscellaneous\n",
    "filtered_countries = {\n",
    "    code: country\n",
    "    for code, country in country_codes.items()\n",
    "    if code not in icc_world and code not in outlier_countries\n",
    "}\n",
    "len(country_codes), len(icc_world), len(outlier_countries), len(filtered_countries)"
   ]
  },
  {
   "cell_type": "code",
   "execution_count": 24,
   "metadata": {},
   "outputs": [
    {
     "name": "stdout",
     "output_type": "stream",
     "text": [
      "+----------+-------+-------+-------------+--------------+--------------+---------------+------+\n",
      "|    Player|Country| Season|Cum Mat Total|Cum Inns Total|Cum Runs Total|Cum Batting Ave|Cum SR|\n",
      "+----------+-------+-------+-------------+--------------+--------------+---------------+------+\n",
      "|A Ahmadhel|    BUL|2019/20|            0|             0|             0|            0.0|   0.0|\n",
      "|A Ahmadhel|    BUL|   2020|            3|             2|            16|            8.0| 100.0|\n",
      "|A Ahmadhel|    BUL|2020/21|            4|             3|            24|            8.0| 100.0|\n",
      "|A Ahmadhel|    BUL|   2021|            6|             4|            26|            6.5| 82.14|\n",
      "|A Ahmadhel|    BUL|   2023|            9|             7|            31|           4.43| 63.42|\n",
      "+----------+-------+-------+-------------+--------------+--------------+---------------+------+\n",
      "only showing top 5 rows\n",
      "\n"
     ]
    }
   ],
   "source": [
    "batting_data = batting_data.filter(col('Country').isin(list(filtered_countries.keys())))\n",
    "batting_data.show(5)"
   ]
  },
  {
   "cell_type": "code",
   "execution_count": 25,
   "metadata": {},
   "outputs": [
    {
     "name": "stdout",
     "output_type": "stream",
     "text": [
      "+----------+--------+-------+-------------+--------------+--------------+---------------+------+\n",
      "|    Player| Country| Season|Cum Mat Total|Cum Inns Total|Cum Runs Total|Cum Batting Ave|Cum SR|\n",
      "+----------+--------+-------+-------------+--------------+--------------+---------------+------+\n",
      "|A Ahmadhel|Bulgaria|2019/20|            0|             0|             0|            0.0|   0.0|\n",
      "|A Ahmadhel|Bulgaria|   2020|            3|             2|            16|            8.0| 100.0|\n",
      "|A Ahmadhel|Bulgaria|2020/21|            4|             3|            24|            8.0| 100.0|\n",
      "|A Ahmadhel|Bulgaria|   2021|            6|             4|            26|            6.5| 82.14|\n",
      "|A Ahmadhel|Bulgaria|   2023|            9|             7|            31|           4.43| 63.42|\n",
      "+----------+--------+-------+-------------+--------------+--------------+---------------+------+\n",
      "only showing top 5 rows\n",
      "\n"
     ]
    }
   ],
   "source": [
    "batting_data = batting_data.replace(filtered_countries,subset=['Country'])\n",
    "batting_data.show(5)"
   ]
  },
  {
   "cell_type": "code",
   "execution_count": 26,
   "metadata": {},
   "outputs": [
    {
     "data": {
      "text/plain": [
       "(4134, 4079, 14086)"
      ]
     },
     "execution_count": 26,
     "metadata": {},
     "output_type": "execute_result"
    }
   ],
   "source": [
    "batting_data[['Player','Country']].distinct().count(), batting_data[['Player']].distinct().count(), batting_data.distinct().count()"
   ]
  },
  {
   "cell_type": "code",
   "execution_count": 27,
   "metadata": {},
   "outputs": [
    {
     "name": "stdout",
     "output_type": "stream",
     "text": [
      "[\u001b[34m2024-11-14T20:21:41.389+0530\u001b[0m] {\u001b[34mutils.py:\u001b[0m39} INFO\u001b[0m - Loading data from match_players.csv.\u001b[0m\n",
      "19755\n",
      "+---------+-------------+---------+------+--------+\n",
      "|  Country|       Player|player_id|Season|match_id|\n",
      "+---------+-------------+---------+------+--------+\n",
      "|  England|       JJ Roy| d1c36f5c|  2018| 1119542|\n",
      "|  England|   JC Buttler| 99b75528|  2018| 1119542|\n",
      "|  England|   EJG Morgan| d2a6c0e6|  2018| 1119542|\n",
      "|  England|     AD Hales| 92aeac25|  2018| 1119542|\n",
      "|  England|      JE Root| a343262c|  2018| 1119542|\n",
      "|  England|  JM Bairstow| abb83e27|  2018| 1119542|\n",
      "|  England|       MM Ali| bb351c23|  2018| 1119542|\n",
      "|  England|    DJ Willey| 7f048519|  2018| 1119542|\n",
      "|  England|  LE Plunkett| 9a963804|  2018| 1119542|\n",
      "|  England|    CJ Jordan| ffe699c0|  2018| 1119542|\n",
      "|  England|    AU Rashid| 249d60c9|  2018| 1119542|\n",
      "|Australia|    DJM Short| 1a156c88|  2018| 1119542|\n",
      "|Australia|     AJ Finch| b8d490fd|  2018| 1119542|\n",
      "|Australia|   GJ Maxwell| b681e71e|  2018| 1119542|\n",
      "|Australia|      TM Head| 12b610c2|  2018| 1119542|\n",
      "|Australia|     AT Carey| 69d03465|  2018| 1119542|\n",
      "|Australia|   MP Stoinis| d9273ee7|  2018| 1119542|\n",
      "|Australia|      AC Agar| a2421394|  2018| 1119542|\n",
      "|Australia|       AJ Tye| 7c7d63a2|  2018| 1119542|\n",
      "|Australia|KW Richardson| dfc4d8b5|  2018| 1119542|\n",
      "+---------+-------------+---------+------+--------+\n",
      "only showing top 20 rows\n",
      "\n"
     ]
    }
   ],
   "source": [
    "players_data = utils.load_data(spark,config.PROCESSED_DATA_DIR,'match_players.csv')\n",
    "players_data = players_data.withColumnRenamed(\"player\", \"Player\").withColumnRenamed(\"country\", \"Country\").withColumnRenamed(\"season\", \"Season\")\n",
    "print(players_data[['Player',\"Country\",\"Season\"]].distinct().count())\n",
    "players_data.show()"
   ]
  },
  {
   "cell_type": "code",
   "execution_count": 28,
   "metadata": {},
   "outputs": [
    {
     "name": "stderr",
     "output_type": "stream",
     "text": [
      "                                                                                \r"
     ]
    },
    {
     "name": "stdout",
     "output_type": "stream",
     "text": [
      "53406\n"
     ]
    },
    {
     "name": "stderr",
     "output_type": "stream",
     "text": [
      "                                                                                \r"
     ]
    },
    {
     "name": "stdout",
     "output_type": "stream",
     "text": [
      "+---------+----------+--------+-------+-------------+--------------+------+\n",
      "|player_id|    Player| Country| Season|Cum Mat Total|Cum Runs Total|Cum SR|\n",
      "+---------+----------+--------+-------+-------------+--------------+------+\n",
      "| 55a5cffb|A Ahmadhel|Bulgaria|2020/21|            4|            24| 100.0|\n",
      "| 55a5cffb|A Ahmadhel|Bulgaria|   2021|            6|            26| 82.14|\n",
      "| 55a5cffb|A Ahmadhel|Bulgaria|   2021|            6|            26| 82.14|\n",
      "| 55a5cffb|A Ahmadhel|Bulgaria|   2023|            9|            31| 63.42|\n",
      "| 55a5cffb|A Ahmadhel|Bulgaria|   2024|           11|            31| 63.42|\n",
      "+---------+----------+--------+-------+-------------+--------------+------+\n",
      "only showing top 5 rows\n",
      "\n"
     ]
    }
   ],
   "source": [
    "batting_data = batting_data.join(players_data, ['Player', 'Country', \"Season\"], 'inner')\n",
    "batting_data = batting_data.select(['player_id', 'Player', 'Country', \"Season\",\"Cum Mat Total\", \"Cum Runs Total\", 'Cum SR']).sort(\"Player\",\"Season\")\n",
    "print(batting_data.count())\n",
    "batting_data.show(5)"
   ]
  },
  {
   "cell_type": "code",
   "execution_count": 29,
   "metadata": {},
   "outputs": [
    {
     "data": {
      "text/plain": [
       "(3640, 3594, 12383)"
      ]
     },
     "execution_count": 29,
     "metadata": {},
     "output_type": "execute_result"
    }
   ],
   "source": [
    "batting_data[['Player','Country']].distinct().count(), batting_data[['Player']].distinct().count(), batting_data[['Player','Country',\"Season\"]].distinct().count()"
   ]
  },
  {
   "cell_type": "code",
   "execution_count": 30,
   "metadata": {},
   "outputs": [
    {
     "name": "stdout",
     "output_type": "stream",
     "text": [
      "[\u001b[34m2024-11-14T20:22:16.617+0530\u001b[0m] {\u001b[34mutils.py:\u001b[0m57} INFO\u001b[0m - Successfully wrote data to /usr/ravi/t20/data/2_processedData/batting_data.csv\u001b[0m\n"
     ]
    }
   ],
   "source": [
    "utils.spark_save_data(batting_data, config.PROCESSED_DATA_DIR, 'batting_data.csv')\n",
    "spark.stop()"
   ]
  },
  {
   "cell_type": "code",
   "execution_count": null,
   "metadata": {},
   "outputs": [],
   "source": []
  }
 ],
 "metadata": {
  "kernelspec": {
   "display_name": "t20i",
   "language": "python",
   "name": "python3"
  },
  "language_info": {
   "codemirror_mode": {
    "name": "ipython",
    "version": 3
   },
   "file_extension": ".py",
   "mimetype": "text/x-python",
   "name": "python",
   "nbconvert_exporter": "python",
   "pygments_lexer": "ipython3",
   "version": "3.12.7"
  }
 },
 "nbformat": 4,
 "nbformat_minor": 2
}
