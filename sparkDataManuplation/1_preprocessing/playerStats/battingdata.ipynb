{
 "cells": [
  {
   "cell_type": "code",
   "execution_count": null,
   "metadata": {},
   "outputs": [
    {
     "name": "stdout",
     "output_type": "stream",
     "text": [
      "+--------------------+---+----+---+----+---+----+---+-----+---+---+---+---+---+-------+\n",
      "|              Player|Mat|Inns| NO|Runs| HS| Ave| BF|   SR|100| 50|  0| 4s| 6s| Season|\n",
      "+--------------------+---+----+---+----+---+----+---+-----+---+---+---+---+---+-------+\n",
      "|Zulqarnain Haider...|  2|   2|  0|  18| 17|9.00| 21|85.71|  0|  0|  0|  1|  0|2010/11|\n",
      "|Zulqarnain Haider...|  1|   1|  0|   5|  5|5.00|  9|55.55|  0|  0|  0|  0|  0|2006/07|\n",
      "|Zulqarnain Haider...|  1|   -|  -|   -|  -|   -|  -|    -|  -|  -|  -|  -|  -|2019/20|\n",
      "|Zulqarnain Haider...|  4|   1|  0|   0|  0|0.00|  0|    -|  0|  0|  1|  0|  0|   2019|\n",
      "|Zulqarnain Haider...|  6|   3|  1|   8|  4|4.00| 12|66.66|  0|  0|  0|  0|  0|   2022|\n",
      "+--------------------+---+----+---+----+---+----+---+-----+---+---+---+---+---+-------+\n",
      "only showing top 5 rows\n",
      "\n"
     ]
    }
   ],
   "source": [
    "import os\n",
    "import sys\n",
    "\n",
    "os.environ['PYSPARK_PYTHON'] = sys.executable\n",
    "os.environ['PYSPARK_DRIVER_PYTHON'] = sys.executable\n",
    "\n",
    "\n",
    "# Then proceed to import and use Spark\n",
    "from pyspark.sql import SparkSession\n",
    "\n",
    "# Create a Spark session\n",
    "spark = SparkSession.builder.appName(\"CricketPrediction\").getOrCreate()\n",
    "\n",
    "\n",
    "# Specify the directory where your CSV files are located\n",
    "directory = r'D:\\github\\Cricket-Prediction\\data\\1_rawData'\n",
    "batting_data = spark.read.csv(os.path.join(directory, 't20_batting_stats.csv'), header=True, inferSchema=True)\n",
    "batting_data.show(5)"
   ]
  },
  {
   "cell_type": "code",
   "execution_count": 14,
   "metadata": {},
   "outputs": [
    {
     "name": "stdout",
     "output_type": "stream",
     "text": [
      "+----------------+-------+---+----+----+------+----+\n",
      "|          Player| Season|Mat|Inns|Runs|    SR| Ave|\n",
      "+----------------+-------+---+----+----+------+----+\n",
      "|A Ahmadhel (BUL)|2019/20|  3|   2|  16|100.00|8.00|\n",
      "|A Ahmadhel (BUL)|   2020|  1|   1|   8|100.00|   -|\n",
      "|A Ahmadhel (BUL)|2020/21|  2|   1|   2| 28.57|2.00|\n",
      "|A Ahmadhel (BUL)|   2021|  3|   3|   5| 38.46|1.66|\n",
      "|A Ahmadhel (BUL)|   2023|  2|   -|   -|     -|   -|\n",
      "+----------------+-------+---+----+----+------+----+\n",
      "only showing top 5 rows\n",
      "\n"
     ]
    }
   ],
   "source": [
    "batting_data = batting_data.select(\"Player\",\"Season\",\"Mat\",\"Inns\",\"Runs\",\"SR\",\"Ave\").sort(\"Player\",\"Season\")\n",
    "batting_data.show(5)"
   ]
  },
  {
   "cell_type": "code",
   "execution_count": 15,
   "metadata": {},
   "outputs": [
    {
     "name": "stdout",
     "output_type": "stream",
     "text": [
      "+----------------+-------+---+----+----+-----+----+\n",
      "|          Player| Season|Mat|Inns|Runs|   SR| Ave|\n",
      "+----------------+-------+---+----+----+-----+----+\n",
      "|A Ahmadhel (BUL)|2019/20|  3|   2|  16|100.0| 8.0|\n",
      "|A Ahmadhel (BUL)|   2020|  1|   1|   8|100.0| 8.0|\n",
      "|A Ahmadhel (BUL)|2020/21|  2|   1|   2|28.57| 2.0|\n",
      "|A Ahmadhel (BUL)|   2021|  3|   3|   5|38.46|1.66|\n",
      "|A Ahmadhel (BUL)|   2023|  2|   0|   0|  0.0| 0.0|\n",
      "+----------------+-------+---+----+----+-----+----+\n",
      "only showing top 5 rows\n",
      "\n"
     ]
    }
   ],
   "source": [
    "from pyspark.sql.functions import when,col\n",
    "batting_data = batting_data.withColumn(\"Inns\", when(col(\"Inns\") == \"-\", \"0\").otherwise(col(\"Inns\")).cast(\"int\"))\n",
    "batting_data = batting_data.withColumn(\"Runs\", when(col(\"Runs\") == \"-\", \"0\").otherwise(col(\"Runs\")).cast(\"int\"))\n",
    "batting_data = batting_data.withColumn(\"SR\", when(col(\"SR\") == \"-\", \"0\").otherwise(col(\"SR\")).cast(\"float\"))\n",
    "batting_data = batting_data.withColumn(\"Ave\", when(col(\"Ave\") == \"-\", col(\"Runs\")/col(\"Inns\")).otherwise(col(\"Ave\")).cast(\"float\")).na.fill(0)\n",
    "batting_data.show(5)"
   ]
  },
  {
   "cell_type": "code",
   "execution_count": 16,
   "metadata": {},
   "outputs": [
    {
     "data": {
      "text/plain": [
       "DataFrame[Player: string, Season: string, Mat: int, Inns: int, Runs: int, SR: float, Ave: float, Country: string]"
      ]
     },
     "metadata": {},
     "output_type": "display_data"
    }
   ],
   "source": [
    "from pyspark.sql.functions import regexp_extract, regexp_replace\n",
    "\n",
    "# Extract the country name between '(' and ')'\n",
    "batting_data = batting_data.withColumn(\"Country\", regexp_extract(col(\"Player\"), r\"\\((.*?)\\)\", 1))\n",
    "\n",
    "# Extract the player's name before the first '('\n",
    "batting_data = batting_data.withColumn(\"Player\", regexp_extract(col(\"Player\"), r\"^(.*?)\\s\\(\", 1))\n",
    "\n",
    "# Show the result\n",
    "display(batting_data)"
   ]
  },
  {
   "cell_type": "code",
   "execution_count": 17,
   "metadata": {},
   "outputs": [
    {
     "name": "stdout",
     "output_type": "stream",
     "text": [
      "+----------+-------+---+----+----+-----+----+-------+-------------+--------------+--------------+---------------+------+\n",
      "|    Player| Season|Mat|Inns|Runs|   SR| Ave|Country|Cum Mat Total|Cum Inns Total|Cum Runs Total|Cum Batting Ave|Cum SR|\n",
      "+----------+-------+---+----+----+-----+----+-------+-------------+--------------+--------------+---------------+------+\n",
      "|A Ahmadhel|2019/20|  3|   2|  16|100.0| 8.0|    BUL|            0|             0|             0|            0.0|   0.0|\n",
      "|A Ahmadhel|   2020|  1|   1|   8|100.0| 8.0|    BUL|            3|             2|            16|            8.0| 100.0|\n",
      "|A Ahmadhel|2020/21|  2|   1|   2|28.57| 2.0|    BUL|            4|             3|            24|            8.0| 100.0|\n",
      "|A Ahmadhel|   2021|  3|   3|   5|38.46|1.66|    BUL|            6|             4|            26|            6.5| 82.14|\n",
      "|A Ahmadhel|   2023|  2|   0|   0|  0.0| 0.0|    BUL|            9|             7|            31|           4.43| 63.42|\n",
      "+----------+-------+---+----+----+-----+----+-------+-------------+--------------+--------------+---------------+------+\n",
      "only showing top 5 rows\n",
      "\n"
     ]
    }
   ],
   "source": [
    "from pyspark.sql import Window\n",
    "from pyspark.sql.functions import col, sum as spark_sum, when, row_number, round\n",
    "\n",
    "# Define a window for cumulative calculations up to the previous season\n",
    "window_spec = Window.partitionBy(\"Player\", \"Country\").orderBy(\"Season\").rowsBetween(Window.unboundedPreceding, -1)\n",
    "\n",
    "# Window for row number to identify the first row per player and country\n",
    "row_num_window = Window.partitionBy(\"Player\", \"Country\").orderBy(\"Season\")\n",
    "\n",
    "# Calculate cumulative metrics excluding the current season and set to 0 if it's the first row\n",
    "batting_data = batting_data.withColumn(\"row_num\", row_number().over(row_num_window)) \\\n",
    "       .withColumn(\"Cum Mat Total\", \n",
    "                   when(col(\"row_num\") == 1, 0)\n",
    "                   .otherwise(spark_sum(\"Mat\").over(window_spec))) \\\n",
    "       .withColumn(\"Cum Inns Total\", \n",
    "                   when(col(\"row_num\") == 1, 0)\n",
    "                   .otherwise(spark_sum(\"Inns\").over(window_spec))) \\\n",
    "       .withColumn(\"Cum Runs Total\", \n",
    "                   when(col(\"row_num\") == 1, 0)\n",
    "                   .otherwise(spark_sum(\"Runs\").over(window_spec))) \\\n",
    "       .withColumn(\"Cum Batting Ave\", \n",
    "                   when(col(\"row_num\") == 1, 0)\n",
    "                   .otherwise(\n",
    "                       round(when(spark_sum(\"Inns\").over(window_spec) != 0,\n",
    "                                  spark_sum(col(\"Inns\") * col(\"Ave\")).over(window_spec) / spark_sum(\"Inns\").over(window_spec))\n",
    "                             .otherwise(0), 2))) \\\n",
    "       .withColumn(\"Cum SR\", \n",
    "                   when(col(\"row_num\") == 1, 0)\n",
    "                   .otherwise(\n",
    "                       round(when(spark_sum(\"Inns\").over(window_spec) != 0,\n",
    "                                  spark_sum(col(\"Inns\") * col(\"SR\")).over(window_spec) / spark_sum(\"Inns\").over(window_spec))\n",
    "                             .otherwise(0), 2))) \\\n",
    "       .drop(\"row_num\")\n",
    "\n",
    "# Show the resulting DataFrame\n",
    "batting_data.show(5)"
   ]
  },
  {
   "cell_type": "code",
   "execution_count": 18,
   "metadata": {},
   "outputs": [
    {
     "name": "stdout",
     "output_type": "stream",
     "text": [
      "+-------+-------+---+----+----+------+-----+-------+-------------+--------------+--------------+---------------+------+\n",
      "| Player| Season|Mat|Inns|Runs|    SR|  Ave|Country|Cum Mat Total|Cum Inns Total|Cum Runs Total|Cum Batting Ave|Cum SR|\n",
      "+-------+-------+---+----+----+------+-----+-------+-------------+--------------+--------------+---------------+------+\n",
      "|V Kohli|   2010|  2|   1|  26| 123.8| 26.0|    IND|            0|             0|             0|            0.0|   0.0|\n",
      "|V Kohli|2010/11|  1|   1|  28|147.36| 28.0|    IND|            2|             1|            26|           26.0| 123.8|\n",
      "|V Kohli|   2011|  2|   2|  18|105.88|  9.0|    IND|            3|             2|            54|           27.0|135.58|\n",
      "|V Kohli|2011/12|  4|   3|  68|111.47|22.66|    IND|            5|             4|            72|           18.0|120.73|\n",
      "|V Kohli|   2012|  2|   2| 138|155.05| 69.0|    IND|            9|             7|           140|           20.0|116.76|\n",
      "|V Kohli|2012/13|  9|   9| 280|126.69| 35.0|    IND|           11|             9|           278|          30.89|125.27|\n",
      "|V Kohli|2013/14|  7|   7| 348|129.36| 87.0|    IND|           20|            18|           558|          32.94|125.98|\n",
      "|V Kohli|   2014|  1|   1|  66|160.97| 66.0|    IND|           27|            25|           906|          48.08|126.93|\n",
      "|V Kohli|2015/16| 15|  14| 669|140.54|95.57|    IND|           28|            26|           972|          48.77|128.24|\n",
      "|V Kohli|   2016|  2|   1|  16|177.77| 16.0|    IND|           43|            40|          1641|          65.15|132.54|\n",
      "|V Kohli|2016/17|  3|   3|  52|115.55|17.33|    IND|           45|            41|          1657|          63.95|133.65|\n",
      "|V Kohli|   2017|  2|   2| 121|159.21| 60.5|    IND|           48|            44|          1709|          60.77|132.41|\n",
      "|V Kohli|2017/18|  7|   7| 153| 153.0| 30.6|    IND|           50|            46|          1830|          60.76|133.58|\n",
      "|V Kohli|   2018|  5|   5| 119| 120.2|29.75|    IND|           57|            53|          1983|          56.78|136.14|\n",
      "|V Kohli|2018/19|  5|   4| 161| 154.8| 80.5|    IND|           62|            58|          2102|          54.45|134.77|\n",
      "|V Kohli|   2019|  3|   3| 106|109.27|35.33|    IND|           67|            62|          2263|          56.13|136.06|\n",
      "|V Kohli|2019/20| 12|  11| 425|153.42|60.71|    IND|           70|            65|          2369|          55.17|134.82|\n",
      "|V Kohli|2020/21|  8|   8| 365|145.41| 73.0|    IND|           82|            76|          2794|          55.97|137.52|\n",
      "|V Kohli|2021/22|  7|   5| 137|112.29|34.25|    IND|           90|            84|          3159|          57.59|138.27|\n",
      "|V Kohli|   2022| 10|  10| 364|141.63| 45.5|    IND|           97|            89|          3296|          56.28|136.81|\n",
      "+-------+-------+---+----+----+------+-----+-------+-------------+--------------+--------------+---------------+------+\n",
      "only showing top 20 rows\n",
      "\n"
     ]
    }
   ],
   "source": [
    "batting_data.filter(col(\"Player\").contains(\"V Kohli\")).show()"
   ]
  },
  {
   "cell_type": "code",
   "execution_count": 19,
   "metadata": {},
   "outputs": [
    {
     "data": {
      "text/plain": [
       "(103, 11, 5, 103)"
      ]
     },
     "execution_count": 19,
     "metadata": {},
     "output_type": "execute_result"
    }
   ],
   "source": [
    "country_codes = {\n",
    "    'LES': 'Lesotho',\n",
    "    'BUL': 'Bulgaria',\n",
    "    'VAN': 'Vanuatu',\n",
    "    'ROM': 'Romania',\n",
    "    'Aut': 'Austria',\n",
    "    'COK': 'Cook Islands',\n",
    "    'Fran': 'France',\n",
    "    'SRB': 'Serbia',\n",
    "    'PAK': 'Pakistan',\n",
    "    'HUN': 'Hungary',\n",
    "    'CYP': 'Cyprus',\n",
    "    'Fiji': 'Fiji',\n",
    "    'FIN': 'Finland',\n",
    "    'EST': 'Estonia',\n",
    "    'CHN': 'China',\n",
    "    'GRC': 'Greece',\n",
    "    'CAM': 'Cambodia',\n",
    "    'GUE': 'Guernsey',\n",
    "    'SEY': 'Seychelles',\n",
    "    'JPN': 'Japan',\n",
    "    'TAN': 'Tanzania',\n",
    "    'JER': 'Jersey',\n",
    "    'QAT': 'Qatar',\n",
    "    'ENG': 'England',\n",
    "    'UGA': 'Uganda',\n",
    "    'BER': 'Bermuda',\n",
    "    'CZK-R': 'Czech Republic',\n",
    "    'CAY': 'Cayman Islands',\n",
    "    'IRE': 'Ireland',\n",
    "    'Mali': 'Mali',\n",
    "    'BRA': 'Brazil',\n",
    "    'SUI': 'Switzerland',\n",
    "    'Peru': 'Peru',\n",
    "    'Mex': 'Mexico',\n",
    "    'MOZ': 'Mozambique',\n",
    "    'Samoa': 'Samoa',\n",
    "    'HKG': 'Hong Kong',\n",
    "    'BAN': 'Bangladesh',\n",
    "    'SL': 'Sri Lanka',\n",
    "    'PNG': 'Papua New Guinea',\n",
    "    'ZIM': 'Zimbabwe',\n",
    "    'GHA': 'Ghana',\n",
    "    'SWZ': 'Eswatini',  # Swaziland's official name now is Eswatini\n",
    "    'MYAN': 'Myanmar',\n",
    "    'IND': 'India',\n",
    "    'USA': 'United States of America',\n",
    "    'NEP': 'Nepal',\n",
    "    'AFG': 'Afghanistan',\n",
    "    'PAN': 'Panama',\n",
    "    'NGA': 'Nigeria',\n",
    "    'SLE': 'Sierra Leone',\n",
    "    'ESP': 'Spain',\n",
    "    'Bhm': 'Bahamas',\n",
    "    'TKY': 'Turkey',\n",
    "    'MWI': 'Malawi',\n",
    "    'WI': 'West Indies',\n",
    "    'IOM': 'Isle of Man',\n",
    "    'THA': 'Thailand',\n",
    "    'SWA': 'Eswatini',  # another code for Eswatini\n",
    "    'SKOR': 'South Korea',\n",
    "    'GMB': 'Gambia',\n",
    "    'ISR': 'Israel',\n",
    "    'KUW': 'Kuwait',\n",
    "    'Belg': 'Belgium',\n",
    "    'GER': 'Germany',\n",
    "    'ITA': 'Italy',\n",
    "    'CAN': 'Canada',\n",
    "    'MDV': 'Maldives',\n",
    "    'Blz': 'Belize',\n",
    "    'DEN': 'Denmark',\n",
    "    'INA': 'Indonesia',\n",
    "    'KENYA': 'Kenya',\n",
    "    'LUX': 'Luxembourg',\n",
    "    'STHEL': 'Saint Helena',\n",
    "    'BHR': 'Bahrain',\n",
    "    'KSA': 'Saudi Arabia',\n",
    "    'MLT': 'Malta',\n",
    "    'Arg': 'Argentina',\n",
    "    'MNG': 'Mongolia',\n",
    "    'AUS': 'Australia',\n",
    "    'GIBR': 'Gibraltar',\n",
    "    'SGP': 'Singapore',\n",
    "    'Chile': 'Chile',\n",
    "    'UAE': 'United Arab Emirates',\n",
    "    'NZ': 'New Zealand',\n",
    "    'SCOT': 'Scotland',\n",
    "    'BHU': 'Bhutan',\n",
    "    'MAS': 'Malaysia',\n",
    "    'BOT': 'Botswana',\n",
    "    'CRC': 'Costa Rica',\n",
    "    'PHI': 'Philippines',\n",
    "    'NAM': 'Namibia',\n",
    "    'RWN': 'Rwanda',\n",
    "    'OMA': 'Oman',\n",
    "    'NOR': 'Norway',\n",
    "    'CRT': 'Croatia',\n",
    "    'SWE': 'Sweden',\n",
    "    'Iran': 'Iran',\n",
    "    'PORT': 'Portugal',\n",
    "    'NED': 'Netherlands',\n",
    "    'SA': 'South Africa',\n",
    "    'SVN': 'Slovenia',\n",
    "    'GUE': 'Guernsey',\n",
    "    'MDV': 'Maldives',\n",
    "    'BHM': 'Bahamas',\n",
    "    'SWE': 'Sweden',\n",
    "    'MLT': 'Malta',\n",
    "    'ITA': 'Italy',\n",
    "}\n",
    "\n",
    "# ICC and World teams\n",
    "icc_world = {\n",
    "    'ICC/PAK': 'Pakistan',\n",
    "    'ICC/SL': 'Sri Lanka',\n",
    "    'ICC/IND': 'India',\n",
    "    'ICC/NEP': 'Nepal',\n",
    "    'BAN/ICC': 'Bangladesh',\n",
    "    'AFG/ICC': 'Afghanistan',\n",
    "    'SL/World': 'Sri Lanka',\n",
    "    'SA/World': 'South Africa',\n",
    "    'AUS/World': 'Australia',\n",
    "    'BAN/World': 'Bangladesh',\n",
    "    'WI/World': 'West Indies',\n",
    "}\n",
    "\n",
    "# Outlier/Miscellaneous Countries\n",
    "outlier_countries = {\n",
    "    '1': 'Miscellaneous Country 1',\n",
    "    '2': 'Miscellaneous Country 2',\n",
    "    '3': 'Miscellaneous Country 3',\n",
    "    'ICC': 'International Cricket Council',\n",
    "    'World': 'World XI',\n",
    "}\n",
    "\n",
    "# Filtered country codes excluding ICC, World teams, and miscellaneous\n",
    "filtered_countries = {\n",
    "    code: country\n",
    "    for code, country in country_codes.items()\n",
    "    if code not in icc_world and code not in outlier_countries\n",
    "}\n",
    "len(country_codes), len(icc_world), len(outlier_countries), len(filtered_countries)"
   ]
  },
  {
   "cell_type": "code",
   "execution_count": 20,
   "metadata": {},
   "outputs": [
    {
     "name": "stdout",
     "output_type": "stream",
     "text": [
      "+----------+-------+---+----+----+-----+----+-------+-------------+--------------+--------------+---------------+------+\n",
      "|    Player| Season|Mat|Inns|Runs|   SR| Ave|Country|Cum Mat Total|Cum Inns Total|Cum Runs Total|Cum Batting Ave|Cum SR|\n",
      "+----------+-------+---+----+----+-----+----+-------+-------------+--------------+--------------+---------------+------+\n",
      "|A Ahmadhel|2019/20|  3|   2|  16|100.0| 8.0|    BUL|            0|             0|             0|            0.0|   0.0|\n",
      "|A Ahmadhel|   2020|  1|   1|   8|100.0| 8.0|    BUL|            3|             2|            16|            8.0| 100.0|\n",
      "|A Ahmadhel|2020/21|  2|   1|   2|28.57| 2.0|    BUL|            4|             3|            24|            8.0| 100.0|\n",
      "|A Ahmadhel|   2021|  3|   3|   5|38.46|1.66|    BUL|            6|             4|            26|            6.5| 82.14|\n",
      "|A Ahmadhel|   2023|  2|   0|   0|  0.0| 0.0|    BUL|            9|             7|            31|           4.43| 63.42|\n",
      "+----------+-------+---+----+----+-----+----+-------+-------------+--------------+--------------+---------------+------+\n",
      "only showing top 5 rows\n",
      "\n"
     ]
    }
   ],
   "source": [
    "batting_data = batting_data.filter(col('Country').isin(list(filtered_countries.keys())))\n",
    "batting_data.show(5)"
   ]
  },
  {
   "cell_type": "code",
   "execution_count": 22,
   "metadata": {},
   "outputs": [
    {
     "name": "stdout",
     "output_type": "stream",
     "text": [
      "+----------+-------+---+----+----+-----+----+--------+-------------+--------------+--------------+---------------+------+\n",
      "|    Player| Season|Mat|Inns|Runs|   SR| Ave| Country|Cum Mat Total|Cum Inns Total|Cum Runs Total|Cum Batting Ave|Cum SR|\n",
      "+----------+-------+---+----+----+-----+----+--------+-------------+--------------+--------------+---------------+------+\n",
      "|A Ahmadhel|2019/20|  3|   2|  16|100.0| 8.0|Bulgaria|            0|             0|             0|            0.0|   0.0|\n",
      "|A Ahmadhel|   2020|  1|   1|   8|100.0| 8.0|Bulgaria|            3|             2|            16|            8.0| 100.0|\n",
      "|A Ahmadhel|2020/21|  2|   1|   2|28.57| 2.0|Bulgaria|            4|             3|            24|            8.0| 100.0|\n",
      "|A Ahmadhel|   2021|  3|   3|   5|38.46|1.66|Bulgaria|            6|             4|            26|            6.5| 82.14|\n",
      "|A Ahmadhel|   2023|  2|   0|   0|  0.0| 0.0|Bulgaria|            9|             7|            31|           4.43| 63.42|\n",
      "+----------+-------+---+----+----+-----+----+--------+-------------+--------------+--------------+---------------+------+\n",
      "only showing top 5 rows\n",
      "\n"
     ]
    }
   ],
   "source": [
    "batting_data = batting_data.replace(filtered_countries,subset=['Country'])\n",
    "batting_data.show(5)"
   ]
  },
  {
   "cell_type": "code",
   "execution_count": 23,
   "metadata": {},
   "outputs": [
    {
     "data": {
      "text/plain": [
       "(4129, 4074, 14035)"
      ]
     },
     "execution_count": 23,
     "metadata": {},
     "output_type": "execute_result"
    }
   ],
   "source": [
    "batting_data[['Player','Country']].distinct().count(), batting_data[['Player']].distinct().count(), batting_data.distinct().count()"
   ]
  },
  {
   "cell_type": "code",
   "execution_count": 24,
   "metadata": {},
   "outputs": [
    {
     "name": "stdout",
     "output_type": "stream",
     "text": [
      "+----------+-------+---+----+----+-----+----+--------+-------------+--------------+--------------+---------------+------+\n",
      "|    Player| Season|Mat|Inns|Runs|   SR| Ave| Country|Cum Mat Total|Cum Inns Total|Cum Runs Total|Cum Batting Ave|Cum SR|\n",
      "+----------+-------+---+----+----+-----+----+--------+-------------+--------------+--------------+---------------+------+\n",
      "|A Ahmadhel|2019/20|  3|   2|  16|100.0| 8.0|Bulgaria|            0|             0|             0|            0.0|   0.0|\n",
      "|A Ahmadhel|   2020|  1|   1|   8|100.0| 8.0|Bulgaria|            3|             2|            16|            8.0| 100.0|\n",
      "|A Ahmadhel|2020/21|  2|   1|   2|28.57| 2.0|Bulgaria|            4|             3|            24|            8.0| 100.0|\n",
      "|A Ahmadhel|   2021|  3|   3|   5|38.46|1.66|Bulgaria|            6|             4|            26|            6.5| 82.14|\n",
      "|A Ahmadhel|   2023|  2|   0|   0|  0.0| 0.0|Bulgaria|            9|             7|            31|           4.43| 63.42|\n",
      "+----------+-------+---+----+----+-----+----+--------+-------------+--------------+--------------+---------------+------+\n",
      "only showing top 5 rows\n",
      "\n"
     ]
    }
   ],
   "source": [
    "batting_data.show(5)"
   ]
  },
  {
   "cell_type": "code",
   "execution_count": null,
   "metadata": {},
   "outputs": [],
   "source": []
  }
 ],
 "metadata": {
  "kernelspec": {
   "display_name": "eda",
   "language": "python",
   "name": "python3"
  },
  "language_info": {
   "codemirror_mode": {
    "name": "ipython",
    "version": 3
   },
   "file_extension": ".py",
   "mimetype": "text/x-python",
   "name": "python",
   "nbconvert_exporter": "python",
   "pygments_lexer": "ipython3",
   "version": "3.8.19"
  }
 },
 "nbformat": 4,
 "nbformat_minor": 2
}
