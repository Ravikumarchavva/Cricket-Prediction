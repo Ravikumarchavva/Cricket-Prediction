{
 "cells": [
  {
   "cell_type": "markdown",
   "metadata": {},
   "source": [
    "# Adding paths and files"
   ]
  },
  {
   "cell_type": "code",
   "execution_count": 13,
   "metadata": {},
   "outputs": [
    {
     "name": "stdout",
     "output_type": "stream",
     "text": [
      "/usr/ravi/t20/data/1_rawData/t20s_csv2\n",
      "[\u001b[34m2024-11-19T00:52:54.399+0530\u001b[0m] {\u001b[34mclient.py:\u001b[0m192} INFO\u001b[0m - Instantiated <InsecureClient(url='http://192.168.245.142:9870')>.\u001b[0m\n",
      "[\u001b[34m2024-11-19T00:52:54.400+0530\u001b[0m] {\u001b[34mclient.py:\u001b[0m1116} INFO\u001b[0m - Listing '/usr/ravi/t20/data/1_rawData/t20s_csv2'.\u001b[0m\n"
     ]
    }
   ],
   "source": [
    "import os\n",
    "import sys\n",
    "\n",
    "sys.path.append(os.path.join(os.getcwd(), '..', '..'))\n",
    "import config,utils\n",
    "\n",
    "# Specify the directory where your CSV files are located\n",
    "directory = os.path.join(config.RAW_DATA_DIR, 't20s_csv2')\n",
    "print(directory)\n",
    "from hdfs import InsecureClient\n",
    "client = InsecureClient(config.HDFS_URL, user=config.HDFS_USER)\n",
    "\n",
    "all_files = client.list(directory)\n",
    "info_files = [os.path.join(directory, file) for file in all_files if 'info' in file]\n",
    "\n",
    "matches=[]\n",
    "# Print the list of CSV files\n",
    "for info_file in info_files:\n",
    "    matches.append(info_file.split('/')[-1])\n",
    "\n",
    "match_ids=[]\n",
    "for csv_file in matches:\n",
    "    match_ids.append(csv_file.split('_')[0])"
   ]
  },
  {
   "cell_type": "code",
   "execution_count": 16,
   "metadata": {},
   "outputs": [],
   "source": [
    "import pandas as pd\n",
    "import io\n",
    "def process_single_match(client, match_id: str) -> pd.DataFrame:\n",
    "    \"\"\"\n",
    "    Process a single match file and return the processed DataFrame or None on failure.\n",
    "\n",
    "    Args:\n",
    "        client: The HDFS client for file operations.\n",
    "        match_id: Unique ID for each match.\n",
    "\n",
    "    Returns:\n",
    "        DataFrame of the processed match or None if an error occurs.\n",
    "    \"\"\"\n",
    "    try:\n",
    "        with client.read(os.path.join(config.RAW_DATA_DIR, 't20s_csv2', f'{match_id}_info.csv')) as reader:\n",
    "            data = reader.read()\n",
    "        match_df = pd.read_csv(io.StringIO(data.decode('utf-8')), header=None, names=['col1', 'attributes', 'values', 'players', 'code'])\n",
    "        match_df = match_df.drop(columns=['col1', 'players', 'code']).T\n",
    "        match_df.columns = match_df.iloc[0]\n",
    "        match_df['match_id'] = match_id\n",
    "        match_df = match_df[['match_id', 'team', 'team', 'gender', 'season', 'winner']].drop('attributes')\n",
    "        match_df = match_df.reset_index(drop=True)\n",
    "        return match_df\n",
    "    except Exception as e:\n",
    "        print(f\"Error processing match {match_id}: {e}\")\n",
    "        return None"
   ]
  },
  {
   "cell_type": "code",
   "execution_count": 20,
   "metadata": {},
   "outputs": [
    {
     "name": "stderr",
     "output_type": "stream",
     "text": [
      "Processing Matches:   1%|          | 46/3800 [00:00<00:18, 207.31it/s]"
     ]
    },
    {
     "name": "stdout",
     "output_type": "stream",
     "text": [
      "Error processing match 1041617: \"['winner'] not in index\"\n",
      "Error processing match 1115799: \"['winner'] not in index\"\n"
     ]
    },
    {
     "name": "stderr",
     "output_type": "stream",
     "text": [
      "Processing Matches:   3%|▎         | 106/3800 [00:00<00:20, 179.52it/s]"
     ]
    },
    {
     "name": "stdout",
     "output_type": "stream",
     "text": [
      "Error processing match 1123209: \"['winner'] not in index\"\n"
     ]
    },
    {
     "name": "stderr",
     "output_type": "stream",
     "text": [
      "Processing Matches:   4%|▍         | 162/3800 [00:00<00:22, 163.79it/s]"
     ]
    },
    {
     "name": "stdout",
     "output_type": "stream",
     "text": [
      "Error processing match 1141835: \"['winner'] not in index\"\n",
      "Error processing match 1142504: \"['winner'] not in index\"\n",
      "Error processing match 1144172: \"['winner'] not in index\"\n",
      "Error processing match 1144991: \"['winner'] not in index\"\n"
     ]
    },
    {
     "name": "stderr",
     "output_type": "stream",
     "text": [
      "Processing Matches:   6%|▌         | 217/3800 [00:01<00:21, 165.92it/s]"
     ]
    },
    {
     "name": "stdout",
     "output_type": "stream",
     "text": [
      "Error processing match 1147733: \"['winner'] not in index\"\n"
     ]
    },
    {
     "name": "stderr",
     "output_type": "stream",
     "text": [
      "Processing Matches:   7%|▋         | 269/3800 [00:01<00:22, 155.87it/s]"
     ]
    },
    {
     "name": "stdout",
     "output_type": "stream",
     "text": [
      "Error processing match 1157710: \"['winner'] not in index\"\n"
     ]
    },
    {
     "name": "stderr",
     "output_type": "stream",
     "text": [
      "Processing Matches:   8%|▊         | 319/3800 [00:01<00:22, 152.99it/s]"
     ]
    },
    {
     "name": "stdout",
     "output_type": "stream",
     "text": [
      "Error processing match 1172470: \"['winner'] not in index\"\n"
     ]
    },
    {
     "name": "stderr",
     "output_type": "stream",
     "text": [
      "Processing Matches:   9%|▉         | 355/3800 [00:02<00:21, 161.65it/s]"
     ]
    },
    {
     "name": "stdout",
     "output_type": "stream",
     "text": [
      "Error processing match 1173066: \"['winner'] not in index\"\n",
      "Error processing match 1176795: \"['winner'] not in index\"\n",
      "Error processing match 1177484: \"['winner'] not in index\"\n"
     ]
    },
    {
     "name": "stderr",
     "output_type": "stream",
     "text": [
      "Processing Matches:  10%|▉         | 372/3800 [00:02<00:21, 161.62it/s]"
     ]
    },
    {
     "name": "stdout",
     "output_type": "stream",
     "text": [
      "[\u001b[34m2024-11-19T00:56:41.123+0530\u001b[0m] {\u001b[34mconnectionpool.py:\u001b[0m329} \u001b[33mWARNING\u001b[0m - \u001b[33mConnection pool is full, discarding connection: ravikumar.. Connection pool size: 10\u001b[0m\n"
     ]
    },
    {
     "name": "stderr",
     "output_type": "stream",
     "text": [
      "Processing Matches:  11%|█         | 406/3800 [00:02<00:21, 154.39it/s]"
     ]
    },
    {
     "name": "stdout",
     "output_type": "stream",
     "text": [
      "Error processing match 1183527: \"['winner'] not in index\"Error processing match 1183544: \"['winner'] not in index\"\n",
      "\n"
     ]
    },
    {
     "name": "stderr",
     "output_type": "stream",
     "text": [
      "Processing Matches:  11%|█         | 424/3800 [00:02<00:21, 158.49it/s]"
     ]
    },
    {
     "name": "stdout",
     "output_type": "stream",
     "text": [
      "Error processing match 1185187: \"['winner'] not in index\"\n"
     ]
    },
    {
     "name": "stderr",
     "output_type": "stream",
     "text": [
      "Processing Matches:  12%|█▏        | 440/3800 [00:02<00:22, 148.98it/s]"
     ]
    },
    {
     "name": "stdout",
     "output_type": "stream",
     "text": [
      "Error processing match 1186492: \"['winner'] not in index\"\n",
      "Error processing match 1187669: \"['winner'] not in index\"\n",
      "Error processing match 1187680: \"['winner'] not in index\"\n",
      "Error processing match 1187679: \"['winner'] not in index\"\n",
      "Error processing match 1188380: \"['winner'] not in index\"\n"
     ]
    },
    {
     "name": "stderr",
     "output_type": "stream",
     "text": [
      "Processing Matches:  12%|█▏        | 458/3800 [00:02<00:22, 151.79it/s]"
     ]
    },
    {
     "name": "stdout",
     "output_type": "stream",
     "text": [
      "Error processing match 1190607: \"['winner'] not in index\"\n"
     ]
    },
    {
     "name": "stderr",
     "output_type": "stream",
     "text": [
      "Processing Matches:  13%|█▎        | 493/3800 [00:03<00:21, 156.00it/s]"
     ]
    },
    {
     "name": "stdout",
     "output_type": "stream",
     "text": [
      "Error processing match 1190751: \"['winner'] not in index\"\n"
     ]
    },
    {
     "name": "stderr",
     "output_type": "stream",
     "text": [
      "Processing Matches:  14%|█▍        | 545/3800 [00:03<00:20, 159.15it/s]"
     ]
    },
    {
     "name": "stdout",
     "output_type": "stream",
     "text": [
      "Error processing match 1197398: \"['winner'] not in index\"\n"
     ]
    },
    {
     "name": "stderr",
     "output_type": "stream",
     "text": [
      "Processing Matches:  15%|█▌        | 578/3800 [00:03<00:21, 151.62it/s]"
     ]
    },
    {
     "name": "stdout",
     "output_type": "stream",
     "text": [
      "Error processing match 1198244: \"['winner'] not in index\"\n"
     ]
    },
    {
     "name": "stderr",
     "output_type": "stream",
     "text": [
      "Processing Matches:  18%|█▊        | 668/3800 [00:04<00:19, 163.92it/s]"
     ]
    },
    {
     "name": "stdout",
     "output_type": "stream",
     "text": [
      "Error processing match 1203677: \"['winner'] not in index\"\n"
     ]
    },
    {
     "name": "stderr",
     "output_type": "stream",
     "text": [
      "Processing Matches:  19%|█▉        | 740/3800 [00:04<00:17, 171.89it/s]"
     ]
    },
    {
     "name": "stdout",
     "output_type": "stream",
     "text": [
      "Error processing match 1233956: \"['winner'] not in index\"\n"
     ]
    },
    {
     "name": "stderr",
     "output_type": "stream",
     "text": [
      "Processing Matches:  20%|██        | 776/3800 [00:04<00:18, 165.78it/s]"
     ]
    },
    {
     "name": "stdout",
     "output_type": "stream",
     "text": [
      "Error processing match 1249240: \"['winner'] not in index\"\n",
      "Error processing match 1257949: \"['winner'] not in index\"\n"
     ]
    },
    {
     "name": "stderr",
     "output_type": "stream",
     "text": [
      "Processing Matches:  22%|██▏       | 832/3800 [00:05<00:17, 171.41it/s]"
     ]
    },
    {
     "name": "stdout",
     "output_type": "stream",
     "text": [
      "Error processing match 1263164: \"['winner'] not in index\"\n",
      "Error processing match 1263166: \"['winner'] not in index\"\n",
      "Error processing match 1263573: \"['winner'] not in index\"\n",
      "Error processing match 1263167: \"['winner'] not in index\"\n",
      "Error processing match 1263621: \"['winner'] not in index\"\n",
      "Error processing match 1263472: \"['winner'] not in index\"\n",
      "Error processing match 1267311: \"['winner'] not in index\"\n"
     ]
    },
    {
     "name": "stderr",
     "output_type": "stream",
     "text": [
      "Processing Matches:  23%|██▎       | 888/3800 [00:05<00:16, 175.97it/s]"
     ]
    },
    {
     "name": "stdout",
     "output_type": "stream",
     "text": [
      "Error processing match 1273415: \"['winner'] not in index\"\n",
      "Error processing match 1278691: \"['winner'] not in index\"\n",
      "Error processing match 1286674: \"['winner'] not in index\"\n",
      "[\u001b[34m2024-11-19T00:56:43.877+0530\u001b[0m] {\u001b[34mconnectionpool.py:\u001b[0m329} \u001b[33mWARNING\u001b[0m - \u001b[33mConnection pool is full, discarding connection: ravikumar.. Connection pool size: 10\u001b[0m\n",
      "[\u001b[34m2024-11-19T00:56:44.061+0530\u001b[0m] {\u001b[34mconnectionpool.py:\u001b[0m329} \u001b[33mWARNING\u001b[0m - \u001b[33mConnection pool is full, discarding connection: ravikumar.. Connection pool size: 10\u001b[0m\n",
      "[\u001b[34m2024-11-19T00:56:44.103+0530\u001b[0m] {\u001b[34mconnectionpool.py:\u001b[0m329} \u001b[33mWARNING\u001b[0m - \u001b[33mConnection pool is full, discarding connection: ravikumar.. Connection pool size: 10\u001b[0m\n",
      "Error processing match 1298152: \"['winner'] not in index\"\n"
     ]
    },
    {
     "name": "stderr",
     "output_type": "stream",
     "text": [
      "Processing Matches:  36%|███▌      | 1374/3800 [00:06<00:08, 277.83it/s] "
     ]
    },
    {
     "name": "stdout",
     "output_type": "stream",
     "text": [
      "Error processing match 1317149: \"['winner'] not in index\"\n",
      "Error processing match 1317635: \"['winner'] not in index\"\n",
      "Error processing match 1317488: \"['winner'] not in index\"\n",
      "Error processing match 1317639: \"['winner'] not in index\"\n",
      "Error processing match 1320193: \"['winner'] not in index\"\n",
      "Error processing match 1320192: \"['winner'] not in index\"\n",
      "Error processing match 1320210: \"['winner'] not in index\"\n",
      "[\u001b[34m2024-11-19T00:56:45.801+0530\u001b[0m] {\u001b[34mconnectionpool.py:\u001b[0m329} \u001b[33mWARNING\u001b[0m - \u001b[33mConnection pool is full, discarding connection: ravikumar.. Connection pool size: 10\u001b[0m\n"
     ]
    },
    {
     "name": "stderr",
     "output_type": "stream",
     "text": [
      "Processing Matches:  41%|████      | 1542/3800 [00:07<00:11, 204.73it/s]"
     ]
    },
    {
     "name": "stdout",
     "output_type": "stream",
     "text": [
      "Error processing match 1322277: \"['winner'] not in index\"\n",
      "Error processing match 1322362: \"['winner'] not in index\"\n"
     ]
    },
    {
     "name": "stderr",
     "output_type": "stream",
     "text": [
      "Processing Matches:  43%|████▎     | 1634/3800 [00:08<00:12, 174.45it/s]"
     ]
    },
    {
     "name": "stdout",
     "output_type": "stream",
     "text": [
      "Error processing match 1334418: \"['winner'] not in index\"\n"
     ]
    },
    {
     "name": "stderr",
     "output_type": "stream",
     "text": [
      "Processing Matches:  44%|████▍     | 1689/3800 [00:08<00:12, 173.64it/s]"
     ]
    },
    {
     "name": "stdout",
     "output_type": "stream",
     "text": [
      "Error processing match 1336982: \"['winner'] not in index\"\n",
      "Error processing match 1339617: \"['winner'] not in index\"\n"
     ]
    },
    {
     "name": "stderr",
     "output_type": "stream",
     "text": [
      "Processing Matches:  45%|████▌     | 1727/3800 [00:08<00:12, 166.77it/s]"
     ]
    },
    {
     "name": "stdout",
     "output_type": "stream",
     "text": [
      "Error processing match 1343742: \"['winner'] not in index\"\n",
      "Error processing match 1343746: \"['winner'] not in index\"\n",
      "Error processing match 1343743: \"['winner'] not in index\"\n",
      "Error processing match 1343747: \"['winner'] not in index\"\n",
      "Error processing match 1343758: \"['winner'] not in index\"\n",
      "Error processing match 1343767: \"['winner'] not in index\"\n"
     ]
    },
    {
     "name": "stderr",
     "output_type": "stream",
     "text": [
      "Processing Matches:  46%|████▋     | 1763/3800 [00:09<00:12, 164.53it/s]"
     ]
    },
    {
     "name": "stdout",
     "output_type": "stream",
     "text": [
      "Error processing match 1343790: \"['winner'] not in index\"\n",
      "Error processing match 1344515: \"['winner'] not in index\"\n",
      "Error processing match 1345425: \"['winner'] not in index\"\n"
     ]
    },
    {
     "name": "stderr",
     "output_type": "stream",
     "text": [
      "Processing Matches:  48%|████▊     | 1837/3800 [00:09<00:11, 170.42it/s]"
     ]
    },
    {
     "name": "stdout",
     "output_type": "stream",
     "text": [
      "Error processing match 1349127: \"['winner'] not in index\"\n",
      "Error processing match 1349387: \"['winner'] not in index\"\n",
      "Error processing match 1349389: \"['winner'] not in index\"\n"
     ]
    },
    {
     "name": "stderr",
     "output_type": "stream",
     "text": [
      "Processing Matches:  49%|████▉     | 1872/3800 [00:09<00:11, 161.99it/s]"
     ]
    },
    {
     "name": "stdout",
     "output_type": "stream",
     "text": [
      "Error processing match 1354799: \"['winner'] not in index\"\n"
     ]
    },
    {
     "name": "stderr",
     "output_type": "stream",
     "text": [
      "Processing Matches:  50%|█████     | 1909/3800 [00:09<00:11, 166.75it/s]"
     ]
    },
    {
     "name": "stdout",
     "output_type": "stream",
     "text": [
      "Error processing match 1370791: \"['winner'] not in index\"\n"
     ]
    },
    {
     "name": "stderr",
     "output_type": "stream",
     "text": [
      "Processing Matches:  51%|█████     | 1943/3800 [00:10<00:11, 165.20it/s]"
     ]
    },
    {
     "name": "stdout",
     "output_type": "stream",
     "text": [
      "[\u001b[34m2024-11-19T00:56:48.941+0530\u001b[0m] {\u001b[34mconnectionpool.py:\u001b[0m329} \u001b[33mWARNING\u001b[0m - \u001b[33mConnection pool is full, discarding connection: ravikumar.. Connection pool size: 10\u001b[0m\n",
      "[\u001b[34m2024-11-19T00:56:49.024+0530\u001b[0m] {\u001b[34mconnectionpool.py:\u001b[0m329} \u001b[33mWARNING\u001b[0m - \u001b[33mConnection pool is full, discarding connection: ravikumar.. Connection pool size: 10\u001b[0m\n"
     ]
    },
    {
     "name": "stderr",
     "output_type": "stream",
     "text": [
      "Processing Matches:  52%|█████▏    | 1960/3800 [00:10<00:11, 160.28it/s]"
     ]
    },
    {
     "name": "stdout",
     "output_type": "stream",
     "text": [
      "[\u001b[34m2024-11-19T00:56:49.024+0530\u001b[0m] {\u001b[34mconnectionpool.py:\u001b[0m329} \u001b[33mWARNING\u001b[0m - \u001b[33mConnection pool is full, discarding connection: ravikumar.. Connection pool size: 10\u001b[0m\n",
      "Error processing match 1380586: \"['winner'] not in index\"\n"
     ]
    },
    {
     "name": "stderr",
     "output_type": "stream",
     "text": [
      "Processing Matches:  55%|█████▌    | 2101/3800 [00:11<00:10, 166.35it/s]"
     ]
    },
    {
     "name": "stdout",
     "output_type": "stream",
     "text": [
      "Error processing match 1388214: \"['winner'] not in index\"\n"
     ]
    },
    {
     "name": "stderr",
     "output_type": "stream",
     "text": [
      "Processing Matches:  56%|█████▌    | 2134/3800 [00:11<00:10, 153.36it/s]"
     ]
    },
    {
     "name": "stdout",
     "output_type": "stream",
     "text": [
      "Error processing match 1391709: \"['winner'] not in index\"Error processing match 1392352: \"['winner'] not in index\"\n",
      "\n"
     ]
    },
    {
     "name": "stderr",
     "output_type": "stream",
     "text": [
      "Processing Matches:  58%|█████▊    | 2186/3800 [00:11<00:09, 161.77it/s]"
     ]
    },
    {
     "name": "stdout",
     "output_type": "stream",
     "text": [
      "Error processing match 1394770: \"['winner'] not in index\"\n"
     ]
    },
    {
     "name": "stderr",
     "output_type": "stream",
     "text": [
      "Processing Matches:  59%|█████▉    | 2255/3800 [00:12<00:09, 158.37it/s]"
     ]
    },
    {
     "name": "stdout",
     "output_type": "stream",
     "text": [
      "Error processing match 1398255: \"['winner'] not in index\"\n",
      "Error processing match 1399055: \"['winner'] not in index\"\n"
     ]
    },
    {
     "name": "stderr",
     "output_type": "stream",
     "text": [
      "Processing Matches:  61%|██████    | 2309/3800 [00:12<00:09, 164.60it/s]"
     ]
    },
    {
     "name": "stdout",
     "output_type": "stream",
     "text": [
      "Error processing match 1400975: \"['winner'] not in index\"\n"
     ]
    },
    {
     "name": "stderr",
     "output_type": "stream",
     "text": [
      "Processing Matches:  62%|██████▏   | 2362/3800 [00:12<00:08, 163.73it/s]"
     ]
    },
    {
     "name": "stdout",
     "output_type": "stream",
     "text": [
      "Error processing match 1405327: \"['winner'] not in index\"\n",
      "Error processing match 1407094: \"['winner'] not in index\"\n"
     ]
    },
    {
     "name": "stderr",
     "output_type": "stream",
     "text": [
      "Processing Matches:  64%|██████▍   | 2439/3800 [00:13<00:07, 177.34it/s]"
     ]
    },
    {
     "name": "stdout",
     "output_type": "stream",
     "text": [
      "Error processing match 1412534: \"['winner'] not in index\"\n",
      "Error processing match 1415703: \"['winner'] not in index\"\n",
      "Error processing match 1415711: \"['winner'] not in index\"\n",
      "Error processing match 1415706: \"['winner'] not in index\"\n"
     ]
    },
    {
     "name": "stderr",
     "output_type": "stream",
     "text": [
      "Processing Matches:  68%|██████▊   | 2566/3800 [00:13<00:07, 169.30it/s]"
     ]
    },
    {
     "name": "stdout",
     "output_type": "stream",
     "text": [
      "Error processing match 1422042: \"['winner'] not in index\"\n",
      "Error processing match 1422804: \"['winner'] not in index\"\n",
      "Error processing match 1423460: \"['winner'] not in index\"\n",
      "Error processing match 1423440: \"['winner'] not in index\"\n",
      "[\u001b[34m2024-11-19T00:56:52.789+0530\u001b[0m] {\u001b[34mconnectionpool.py:\u001b[0m329} \u001b[33mWARNING\u001b[0m - \u001b[33mConnection pool is full, discarding connection: ravikumar.. Connection pool size: 10\u001b[0m\n"
     ]
    },
    {
     "name": "stderr",
     "output_type": "stream",
     "text": [
      "Processing Matches:  68%|██████▊   | 2602/3800 [00:14<00:07, 165.39it/s]"
     ]
    },
    {
     "name": "stdout",
     "output_type": "stream",
     "text": [
      "Error processing match 1423474: \"['winner'] not in index\"\n",
      "Error processing match 1424829: \"['winner'] not in index\"\n"
     ]
    },
    {
     "name": "stderr",
     "output_type": "stream",
     "text": [
      "Processing Matches:  70%|███████   | 2675/3800 [00:14<00:06, 165.05it/s]"
     ]
    },
    {
     "name": "stdout",
     "output_type": "stream",
     "text": [
      "Error processing match 1426049: \"['winner'] not in index\"\n"
     ]
    },
    {
     "name": "stderr",
     "output_type": "stream",
     "text": [
      "Processing Matches:  73%|███████▎  | 2769/3800 [00:15<00:06, 168.90it/s]"
     ]
    },
    {
     "name": "stdout",
     "output_type": "stream",
     "text": [
      "Error processing match 1431122: \"['winner'] not in index\"\n",
      "Error processing match 1432196: \"['winner'] not in index\"\n"
     ]
    },
    {
     "name": "stderr",
     "output_type": "stream",
     "text": [
      "Processing Matches:  74%|███████▍  | 2821/3800 [00:15<00:06, 162.44it/s]"
     ]
    },
    {
     "name": "stdout",
     "output_type": "stream",
     "text": [
      "Error processing match 1434292: \"['winner'] not in index\"\n"
     ]
    },
    {
     "name": "stderr",
     "output_type": "stream",
     "text": [
      "Processing Matches:  77%|███████▋  | 2943/3800 [00:16<00:05, 165.68it/s]"
     ]
    },
    {
     "name": "stdout",
     "output_type": "stream",
     "text": [
      "Error processing match 1442989: \"['winner'] not in index\"\n"
     ]
    },
    {
     "name": "stderr",
     "output_type": "stream",
     "text": [
      "Processing Matches:  78%|███████▊  | 2977/3800 [00:16<00:05, 158.52it/s]"
     ]
    },
    {
     "name": "stdout",
     "output_type": "stream",
     "text": [
      "Error processing match 1444549: \"['winner'] not in index\"\n",
      "Error processing match 1446762: \"['winner'] not in index\"\n"
     ]
    },
    {
     "name": "stderr",
     "output_type": "stream",
     "text": [
      "Processing Matches:  80%|███████▉  | 3027/3800 [00:16<00:04, 157.38it/s]"
     ]
    },
    {
     "name": "stdout",
     "output_type": "stream",
     "text": [
      "Error processing match 1447497: \"['winner'] not in index\"\n"
     ]
    },
    {
     "name": "stderr",
     "output_type": "stream",
     "text": [
      "Processing Matches:  82%|████████▏ | 3133/3800 [00:17<00:04, 161.58it/s]"
     ]
    },
    {
     "name": "stdout",
     "output_type": "stream",
     "text": [
      "Error processing match 1453519: \"['winner'] not in index\"\n"
     ]
    },
    {
     "name": "stderr",
     "output_type": "stream",
     "text": [
      "Processing Matches:  84%|████████▍ | 3183/3800 [00:17<00:04, 153.27it/s]"
     ]
    },
    {
     "name": "stdout",
     "output_type": "stream",
     "text": [
      "Error processing match 237242: \"['winner'] not in index\"\n",
      "Error processing match 287862: \"['winner'] not in index\"\n"
     ]
    },
    {
     "name": "stderr",
     "output_type": "stream",
     "text": [
      "Processing Matches:  86%|████████▌ | 3259/3800 [00:18<00:03, 174.32it/s]"
     ]
    },
    {
     "name": "stdout",
     "output_type": "stream",
     "text": [
      "Error processing match 350050: \"['winner'] not in index\"\n"
     ]
    },
    {
     "name": "stderr",
     "output_type": "stream",
     "text": [
      "Processing Matches:  87%|████████▋ | 3296/3800 [00:18<00:02, 173.76it/s]"
     ]
    },
    {
     "name": "stdout",
     "output_type": "stream",
     "text": [
      "Error processing match 366707: \"['winner'] not in index\"\n",
      "Error processing match 412681: \"['winner'] not in index\"\n"
     ]
    },
    {
     "name": "stderr",
     "output_type": "stream",
     "text": [
      "Processing Matches:  88%|████████▊ | 3331/3800 [00:18<00:02, 163.88it/s]"
     ]
    },
    {
     "name": "stdout",
     "output_type": "stream",
     "text": [
      "Error processing match 423788: \"['winner'] not in index\"\n",
      "[\u001b[34m2024-11-19T00:56:57.503+0530\u001b[0m] {\u001b[34mconnectionpool.py:\u001b[0m329} \u001b[33mWARNING\u001b[0m - \u001b[33mConnection pool is full, discarding connection: ravikumar.. Connection pool size: 10\u001b[0m\n"
     ]
    },
    {
     "name": "stderr",
     "output_type": "stream",
     "text": [
      "Processing Matches:  89%|████████▉ | 3380/3800 [00:19<00:02, 145.60it/s]"
     ]
    },
    {
     "name": "stdout",
     "output_type": "stream",
     "text": [
      "Error processing match 527683: \"['winner'] not in index\"\n",
      "Error processing match 533284: \"['winner'] not in index\"\n",
      "Error processing match 533282: \"['winner'] not in index\"\n",
      "Error processing match 533292: \"['winner'] not in index\"\n",
      "[\u001b[34m2024-11-19T00:56:57.910+0530\u001b[0m] {\u001b[34mconnectionpool.py:\u001b[0m329} \u001b[33mWARNING\u001b[0m - \u001b[33mConnection pool is full, discarding connection: ravikumar.. Connection pool size: 10\u001b[0m\n"
     ]
    },
    {
     "name": "stderr",
     "output_type": "stream",
     "text": [
      "Processing Matches:  90%|█████████ | 3437/3800 [00:19<00:02, 163.33it/s]"
     ]
    },
    {
     "name": "stdout",
     "output_type": "stream",
     "text": [
      "Error processing match 534234: \"['winner'] not in index\"\n",
      "Error processing match 566927: \"['winner'] not in index\"\n"
     ]
    },
    {
     "name": "stderr",
     "output_type": "stream",
     "text": [
      "Processing Matches:  92%|█████████▏| 3491/3800 [00:19<00:01, 163.63it/s]"
     ]
    },
    {
     "name": "stdout",
     "output_type": "stream",
     "text": [
      "Error processing match 571149: \"['winner'] not in index\"\n",
      "Error processing match 582186: \"['winner'] not in index\"\n"
     ]
    },
    {
     "name": "stderr",
     "output_type": "stream",
     "text": [
      "Processing Matches:  93%|█████████▎| 3524/3800 [00:19<00:01, 149.83it/s]"
     ]
    },
    {
     "name": "stdout",
     "output_type": "stream",
     "text": [
      "Error processing match 640955: \"['winner'] not in index\"\n",
      "[\u001b[34m2024-11-19T00:56:58.797+0530\u001b[0m] {\u001b[34mconnectionpool.py:\u001b[0m329} \u001b[33mWARNING\u001b[0m - \u001b[33mConnection pool is full, discarding connection: ravikumar.. Connection pool size: 10\u001b[0m\n",
      "[\u001b[34m2024-11-19T00:56:58.808+0530\u001b[0m] {\u001b[34mconnectionpool.py:\u001b[0m329} \u001b[33mWARNING\u001b[0m - \u001b[33mConnection pool is full, discarding connection: ravikumar.. Connection pool size: 10\u001b[0m\n"
     ]
    },
    {
     "name": "stderr",
     "output_type": "stream",
     "text": [
      "Processing Matches:  96%|█████████▌| 3630/3800 [00:20<00:01, 162.84it/s]"
     ]
    },
    {
     "name": "stdout",
     "output_type": "stream",
     "text": [
      "Error processing match 730293: \"['winner'] not in index\"\n"
     ]
    },
    {
     "name": "stderr",
     "output_type": "stream",
     "text": [
      "Processing Matches:  98%|█████████▊| 3714/3800 [00:21<00:00, 156.45it/s]"
     ]
    },
    {
     "name": "stdout",
     "output_type": "stream",
     "text": [
      "Error processing match 902653: \"['winner'] not in index\"\n",
      "Error processing match 951319: \"['winner'] not in index\"\n"
     ]
    },
    {
     "name": "stderr",
     "output_type": "stream",
     "text": [
      "Processing Matches: 100%|██████████| 3800/3800 [00:21<00:00, 175.87it/s]\n"
     ]
    },
    {
     "data": {
      "text/html": [
       "<div>\n",
       "<style scoped>\n",
       "    .dataframe tbody tr th:only-of-type {\n",
       "        vertical-align: middle;\n",
       "    }\n",
       "\n",
       "    .dataframe tbody tr th {\n",
       "        vertical-align: top;\n",
       "    }\n",
       "\n",
       "    .dataframe thead th {\n",
       "        text-align: right;\n",
       "    }\n",
       "</style>\n",
       "<table border=\"1\" class=\"dataframe\">\n",
       "  <thead>\n",
       "    <tr style=\"text-align: right;\">\n",
       "      <th>attributes</th>\n",
       "      <th>match_id</th>\n",
       "      <th>team</th>\n",
       "      <th>team</th>\n",
       "      <th>team</th>\n",
       "      <th>team</th>\n",
       "      <th>gender</th>\n",
       "      <th>season</th>\n",
       "      <th>winner</th>\n",
       "    </tr>\n",
       "  </thead>\n",
       "  <tbody>\n",
       "    <tr>\n",
       "      <th>0</th>\n",
       "      <td>1001349</td>\n",
       "      <td>Australia</td>\n",
       "      <td>Sri Lanka</td>\n",
       "      <td>Australia</td>\n",
       "      <td>Sri Lanka</td>\n",
       "      <td>male</td>\n",
       "      <td>2016/17</td>\n",
       "      <td>Sri Lanka</td>\n",
       "    </tr>\n",
       "    <tr>\n",
       "      <th>1</th>\n",
       "      <td>1007657</td>\n",
       "      <td>Zimbabwe</td>\n",
       "      <td>India</td>\n",
       "      <td>Zimbabwe</td>\n",
       "      <td>India</td>\n",
       "      <td>male</td>\n",
       "      <td>2016</td>\n",
       "      <td>India</td>\n",
       "    </tr>\n",
       "    <tr>\n",
       "      <th>2</th>\n",
       "      <td>1001351</td>\n",
       "      <td>Australia</td>\n",
       "      <td>Sri Lanka</td>\n",
       "      <td>Australia</td>\n",
       "      <td>Sri Lanka</td>\n",
       "      <td>male</td>\n",
       "      <td>2016/17</td>\n",
       "      <td>Sri Lanka</td>\n",
       "    </tr>\n",
       "    <tr>\n",
       "      <th>3</th>\n",
       "      <td>1001353</td>\n",
       "      <td>Australia</td>\n",
       "      <td>Sri Lanka</td>\n",
       "      <td>Australia</td>\n",
       "      <td>Sri Lanka</td>\n",
       "      <td>male</td>\n",
       "      <td>2016/17</td>\n",
       "      <td>Australia</td>\n",
       "    </tr>\n",
       "    <tr>\n",
       "      <th>4</th>\n",
       "      <td>1004729</td>\n",
       "      <td>Ireland</td>\n",
       "      <td>Hong Kong</td>\n",
       "      <td>Ireland</td>\n",
       "      <td>Hong Kong</td>\n",
       "      <td>male</td>\n",
       "      <td>2016</td>\n",
       "      <td>Hong Kong</td>\n",
       "    </tr>\n",
       "    <tr>\n",
       "      <th>...</th>\n",
       "      <td>...</td>\n",
       "      <td>...</td>\n",
       "      <td>...</td>\n",
       "      <td>...</td>\n",
       "      <td>...</td>\n",
       "      <td>...</td>\n",
       "      <td>...</td>\n",
       "      <td>...</td>\n",
       "    </tr>\n",
       "    <tr>\n",
       "      <th>3682</th>\n",
       "      <td>966739</td>\n",
       "      <td>Hong Kong</td>\n",
       "      <td>United Arab Emirates</td>\n",
       "      <td>Hong Kong</td>\n",
       "      <td>United Arab Emirates</td>\n",
       "      <td>male</td>\n",
       "      <td>2015/16</td>\n",
       "      <td>United Arab Emirates</td>\n",
       "    </tr>\n",
       "    <tr>\n",
       "      <th>3683</th>\n",
       "      <td>966753</td>\n",
       "      <td>Bangladesh</td>\n",
       "      <td>Sri Lanka</td>\n",
       "      <td>Bangladesh</td>\n",
       "      <td>Sri Lanka</td>\n",
       "      <td>male</td>\n",
       "      <td>2015/16</td>\n",
       "      <td>Bangladesh</td>\n",
       "    </tr>\n",
       "    <tr>\n",
       "      <th>3684</th>\n",
       "      <td>966763</td>\n",
       "      <td>Pakistan</td>\n",
       "      <td>Sri Lanka</td>\n",
       "      <td>Pakistan</td>\n",
       "      <td>Sri Lanka</td>\n",
       "      <td>male</td>\n",
       "      <td>2015/16</td>\n",
       "      <td>Pakistan</td>\n",
       "    </tr>\n",
       "    <tr>\n",
       "      <th>3685</th>\n",
       "      <td>966765</td>\n",
       "      <td>Bangladesh</td>\n",
       "      <td>India</td>\n",
       "      <td>Bangladesh</td>\n",
       "      <td>India</td>\n",
       "      <td>male</td>\n",
       "      <td>2015/16</td>\n",
       "      <td>India</td>\n",
       "    </tr>\n",
       "    <tr>\n",
       "      <th>3686</th>\n",
       "      <td>995469</td>\n",
       "      <td>Sri Lanka</td>\n",
       "      <td>Australia</td>\n",
       "      <td>Sri Lanka</td>\n",
       "      <td>Australia</td>\n",
       "      <td>male</td>\n",
       "      <td>2016</td>\n",
       "      <td>Australia</td>\n",
       "    </tr>\n",
       "  </tbody>\n",
       "</table>\n",
       "<p>3687 rows × 8 columns</p>\n",
       "</div>"
      ],
      "text/plain": [
       "attributes match_id        team                  team        team  \\\n",
       "0           1001349   Australia             Sri Lanka   Australia   \n",
       "1           1007657    Zimbabwe                 India    Zimbabwe   \n",
       "2           1001351   Australia             Sri Lanka   Australia   \n",
       "3           1001353   Australia             Sri Lanka   Australia   \n",
       "4           1004729     Ireland             Hong Kong     Ireland   \n",
       "...             ...         ...                   ...         ...   \n",
       "3682         966739   Hong Kong  United Arab Emirates   Hong Kong   \n",
       "3683         966753  Bangladesh             Sri Lanka  Bangladesh   \n",
       "3684         966763    Pakistan             Sri Lanka    Pakistan   \n",
       "3685         966765  Bangladesh                 India  Bangladesh   \n",
       "3686         995469   Sri Lanka             Australia   Sri Lanka   \n",
       "\n",
       "attributes                  team gender   season                winner  \n",
       "0                      Sri Lanka   male  2016/17             Sri Lanka  \n",
       "1                          India   male     2016                 India  \n",
       "2                      Sri Lanka   male  2016/17             Sri Lanka  \n",
       "3                      Sri Lanka   male  2016/17             Australia  \n",
       "4                      Hong Kong   male     2016             Hong Kong  \n",
       "...                          ...    ...      ...                   ...  \n",
       "3682        United Arab Emirates   male  2015/16  United Arab Emirates  \n",
       "3683                   Sri Lanka   male  2015/16            Bangladesh  \n",
       "3684                   Sri Lanka   male  2015/16              Pakistan  \n",
       "3685                       India   male  2015/16                 India  \n",
       "3686                   Australia   male     2016             Australia  \n",
       "\n",
       "[3687 rows x 8 columns]"
      ]
     },
     "execution_count": 20,
     "metadata": {},
     "output_type": "execute_result"
    }
   ],
   "source": [
    "from tqdm import tqdm\n",
    "import concurrent.futures\n",
    "import logging\n",
    "logging.basicConfig(level=logging.ERROR)\n",
    "recalculated_matches = []\n",
    "\n",
    "# Set the logging level for the HDFS client to WARNING\n",
    "logging.getLogger('hdfs.client').setLevel(logging.CRITICAL)\n",
    "injured_matches = []\n",
    "\n",
    "# Process each match concurrently using ThreadPoolExecutor\n",
    "with concurrent.futures.ThreadPoolExecutor() as executor:\n",
    "    futures = {\n",
    "        executor.submit(process_single_match, client, match_id): match_id\n",
    "        for match_id in match_ids\n",
    "    }\n",
    "\n",
    "    # Gather results with tqdm for progress tracking\n",
    "    for future in tqdm(concurrent.futures.as_completed(futures), total=len(futures), desc=\"Processing Matches\"):\n",
    "        match = futures[future]\n",
    "        try:\n",
    "            result = future.result()\n",
    "            if result is not None:\n",
    "                recalculated_matches.append(result)\n",
    "            else:\n",
    "                injured_matches.append(match)\n",
    "        except Exception as e:\n",
    "            print(f\"Error in future for match {match}: {e}\")\n",
    "            injured_matches.append(match)\n",
    "\n",
    "if not recalculated_matches:\n",
    "    print('No matches were successfully processed.')\n",
    "    raise ValueError('No matches were successfully processed.')\n",
    "\n",
    "matches_data = pd.concat(recalculated_matches, ignore_index=True)\n",
    "matches_data"
   ]
  },
  {
   "cell_type": "code",
   "execution_count": 21,
   "metadata": {},
   "outputs": [
    {
     "name": "stdout",
     "output_type": "stream",
     "text": [
      "Matches data processing and saving completed successfully.\n",
      "Successfully processed matches: 3687\n",
      "Failed matches: 113\n"
     ]
    }
   ],
   "source": [
    "if recalculated_matches:\n",
    "    # Concatenate all match DataFrames\n",
    "    matches_data = pd.concat(recalculated_matches, ignore_index=True)\n",
    "    matches_data.columns = ['match_id', 'team1', 'team2', 'team1_duplicate', 'team2_duplicate', 'gender', 'season', 'winner']\n",
    "    matches_data = matches_data.drop(columns=['team1_duplicate', 'team2_duplicate'])\n",
    "\n",
    "    # Data quality checks\n",
    "    if matches_data.empty:\n",
    "        print(\"No match data consolidated.\")\n",
    "        raise ValueError(\"Consolidated match data is empty.\")\n",
    "    required_columns = [\"match_id\", \"team1\", \"team2\", \"gender\", \"season\", \"winner\"]\n",
    "    missing_columns = [col for col in required_columns if col not in matches_data.columns]\n",
    "    if missing_columns:\n",
    "        print(f\"Missing columns in matches data: {missing_columns}\")\n",
    "        raise ValueError(f\"Missing columns in matches data: {missing_columns}\")\n",
    "    \n",
    "    # Save matches_data directly to HDFS\n",
    "    utils.ensure_hdfs_directory(client, config.PROCESSED_DATA_DIR)\n",
    "    matches_csv_path = os.path.join(config.PROCESSED_DATA_DIR, 'matches.csv')\n",
    "    csv_data = matches_data.to_csv(index=False)\n",
    "    client.write(matches_csv_path, data=csv_data, overwrite=True)\n",
    "    print('Matches data processing and saving completed successfully.')\n",
    "else:\n",
    "    print('No matches were successfully processed.')\n",
    "    raise Exception('No matches were successfully processed.')\n",
    "\n",
    "print(f'Successfully processed matches: {len(recalculated_matches)}')\n",
    "print(f'Failed matches: {len(injured_matches)}')"
   ]
  }
 ],
 "metadata": {
  "kernelspec": {
   "display_name": "t20i",
   "language": "python",
   "name": "python3"
  },
  "language_info": {
   "codemirror_mode": {
    "name": "ipython",
    "version": 3
   },
   "file_extension": ".py",
   "mimetype": "text/x-python",
   "name": "python",
   "nbconvert_exporter": "python",
   "pygments_lexer": "ipython3",
   "version": "3.12.7"
  }
 },
 "nbformat": 4,
 "nbformat_minor": 2
}
