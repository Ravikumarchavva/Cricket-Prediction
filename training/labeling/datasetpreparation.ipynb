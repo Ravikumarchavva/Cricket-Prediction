{
 "cells": [
  {
   "cell_type": "code",
   "execution_count": 15,
   "metadata": {},
   "outputs": [],
   "source": [
    "import os\n",
    "import polars as pl\n",
    "\n",
    "\n",
    "# Load the data using polars\n",
    "directory = r'D:\\github\\Cricket-Prediction\\data\\filteredData'\n",
    "balltoball = pl.read_csv(os.path.join(directory, 'balltoball.csv'))\n",
    "teamStats = pl.read_csv(os.path.join(directory, 'team12Stats.csv'))\n",
    "playersStats = pl.read_csv(os.path.join(directory, 'playersStats.csv'))"
   ]
  },
  {
   "cell_type": "code",
   "execution_count": 16,
   "metadata": {},
   "outputs": [
    {
     "data": {
      "text/plain": [
       "(2312, 2312, 2312)"
      ]
     },
     "execution_count": 16,
     "metadata": {},
     "output_type": "execute_result"
    }
   ],
   "source": [
    "# Preprocess the data\n",
    "def partition_data(df, group_keys):\n",
    "    partitions = df.partition_by(group_keys, as_dict=True)\n",
    "    partition_dict = {}\n",
    "    for key, partition in partitions.items():\n",
    "        match_id = partition[group_keys[0]][0]\n",
    "        flip = partition[group_keys[1]][0]\n",
    "        key = (match_id, flip)\n",
    "        partition_dict[key] = partition.drop(group_keys).to_numpy()\n",
    "    return partition_dict\n",
    "\n",
    "ball_stats_partitions = partition_data(balltoball, ['match_id', 'flip'])\n",
    "team_stats_partitions = partition_data(teamStats, ['match_id', 'flip'])\n",
    "player_stats_partitions = partition_data(playersStats, ['match_id', 'flip'])\n",
    "\n",
    "len(ball_stats_partitions.keys()), len(team_stats_partitions.keys()), len(player_stats_partitions.keys())"
   ]
  },
  {
   "cell_type": "code",
   "execution_count": 17,
   "metadata": {},
   "outputs": [
    {
     "data": {
      "text/plain": [
       "(1, 22, 22)"
      ]
     },
     "execution_count": 17,
     "metadata": {},
     "output_type": "execute_result"
    }
   ],
   "source": [
    "player_stats_partitions_reshaped = {}\n",
    "for key, value in player_stats_partitions.items():\n",
    "    player_stats_partitions_reshaped[key] = value.reshape(1,22,22)\n",
    "\n",
    "player_stats_partitions_reshaped[(211028,0)].shape"
   ]
  },
  {
   "cell_type": "code",
   "execution_count": 18,
   "metadata": {},
   "outputs": [],
   "source": [
    "player_stats_partitions = player_stats_partitions_reshaped"
   ]
  },
  {
   "cell_type": "code",
   "execution_count": 19,
   "metadata": {},
   "outputs": [
    {
     "data": {
      "text/plain": [
       "(809, 173, 174)"
      ]
     },
     "execution_count": 19,
     "metadata": {},
     "output_type": "execute_result"
    }
   ],
   "source": [
    "from sklearn.model_selection import train_test_split\n",
    "# Split match IDs into training and validation sets\n",
    "match_ids = list(set([key[0] for key in team_stats_partitions.keys()]))\n",
    "train_matches, val_matches = train_test_split(match_ids, test_size=0.3, random_state=42)\n",
    "val_matches, test_matches = train_test_split(val_matches, test_size=0.5, random_state=42)\n",
    "len(train_matches), len(val_matches), len(test_matches)"
   ]
  },
  {
   "cell_type": "markdown",
   "metadata": {},
   "source": [
    "# Data Augumentation"
   ]
  },
  {
   "cell_type": "code",
   "execution_count": 20,
   "metadata": {},
   "outputs": [],
   "source": [
    "# Function to prepare data with overs limit\n",
    "def prepare_data(matches, is_test=False):\n",
    "    team_stats_list = []\n",
    "    player_stats_list = []\n",
    "    ball_stats_list = []\n",
    "\n",
    "    for match_id in matches:\n",
    "        for flip in [0, 1]:  # Team perspectives\n",
    "            key = (match_id, flip)\n",
    "            if key in team_stats_partitions and key in player_stats_partitions and key in ball_stats_partitions:\n",
    "                team_stats = team_stats_partitions[key]\n",
    "                player_stats = player_stats_partitions[key]\n",
    "                ball_stats = ball_stats_partitions[key]\n",
    "\n",
    "                # For any match min overs should be 5\n",
    "                min_overs = 6\n",
    "\n",
    "                # Determine max overs\n",
    "                if is_test:\n",
    "                    max_overs = 35  # Up to 2nd innings 15 overs\n",
    "                else:\n",
    "                    max_overs = 40  # Up to 2nd innings 20 overs\n",
    "\n",
    "                total_overs = ball_stats.shape[0] // 6  # Assuming 6 balls per over\n",
    "                max_overs = min(total_overs, max_overs)\n",
    "                start_idx = min_overs * 6\n",
    "                end_idx = max_overs * 6\n",
    "                \n",
    "                # Append the data\n",
    "                for idx in range(start_idx, end_idx):\n",
    "                    ball_stats_list.append(ball_stats[:idx])\n",
    "                    team_stats_list.append(team_stats)\n",
    "                    player_stats_list.append(player_stats)\n",
    "\n",
    "    return team_stats_list, player_stats_list, ball_stats_list"
   ]
  },
  {
   "cell_type": "code",
   "execution_count": 21,
   "metadata": {},
   "outputs": [
    {
     "data": {
      "text/plain": [
       "(306888, 306888, 306888, 65796, 65796, 65796, 58452, 58452, 58452)"
      ]
     },
     "execution_count": 21,
     "metadata": {},
     "output_type": "execute_result"
    }
   ],
   "source": [
    "# Prepare the data\n",
    "X_train_team, X_train_player, X_train_ball = prepare_data(train_matches, is_test=False)\n",
    "X_val_team, X_val_player, X_val_ball = prepare_data(val_matches, is_test=False)\n",
    "X_test_team, X_test_player, X_test_ball = prepare_data(test_matches, is_test=True)\n",
    "\n",
    "len(X_train_team), len(X_train_player), len(X_train_ball), len(X_val_team), len(X_val_player), len(X_val_ball), len(X_test_team), len(X_test_player), len(X_test_ball)"
   ]
  },
  {
   "cell_type": "code",
   "execution_count": 22,
   "metadata": {},
   "outputs": [],
   "source": [
    "from torch.utils.data import Dataset\n",
    "import torch\n",
    "\n",
    "class CricketDataset(Dataset):\n",
    "    def __init__(self, teamStats, playersStats, balltoball):\n",
    "        self.teamStats = teamStats\n",
    "        self.playersStats = playersStats\n",
    "        self.balltoball = balltoball\n",
    "\n",
    "    def __len__(self):\n",
    "        return len(self.teamStats)\n",
    "    \n",
    "    def __getitem__(self, idx):\n",
    "        team_input = torch.tensor(self.teamStats[idx], dtype=torch.float32)\n",
    "        player_input = torch.tensor(self.playersStats[idx], dtype=torch.float32)\n",
    "        ball_stats = torch.tensor(self.balltoball[idx], dtype=torch.float32)\n",
    "        label = ball_stats[:,-1].mean()\n",
    "        ball_input = ball_stats[:,:-1]\n",
    "        return team_input, player_input, ball_input, label\n",
    "train_dataset = CricketDataset(X_train_team, X_train_player, X_train_ball)\n",
    "val_dataset = CricketDataset(X_val_team, X_val_player, X_val_ball)\n",
    "test_dataset = CricketDataset(X_test_team, X_test_player, X_test_ball)"
   ]
  },
  {
   "cell_type": "code",
   "execution_count": 23,
   "metadata": {},
   "outputs": [
    {
     "data": {
      "text/plain": [
       "271"
      ]
     },
     "execution_count": 23,
     "metadata": {},
     "output_type": "execute_result"
    }
   ],
   "source": [
    "max_len = float('-inf')\n",
    "for i in ball_stats_partitions.keys():\n",
    "    if ball_stats_partitions[i].shape[0] > max_len:\n",
    "        max_len = ball_stats_partitions[i].shape[0]\n",
    "max_len"
   ]
  },
  {
   "cell_type": "code",
   "execution_count": 24,
   "metadata": {},
   "outputs": [],
   "source": [
    "# collate_fn to pad the sequences\n",
    "def collate_fn(batch):\n",
    "    max_len = 280\n",
    "    # pad balls upto max_len\n",
    "    team, player, balls, labels = zip(*batch)\n",
    "    padded_balls = torch.zeros(len(balls), max_len, balls[0].shape[1])\n",
    "    for i, ball in enumerate(balls):\n",
    "        padded_balls[i, :ball.shape[0], :] = ball\n",
    "    return torch.stack(team), torch.stack(player), padded_balls, torch.tensor(labels, dtype=torch.float32)\n",
    "\n",
    "from torch.utils.data import DataLoader\n",
    "\n",
    "train_loader = DataLoader(train_dataset, batch_size=64, shuffle=True, collate_fn=collate_fn)\n",
    "val_loader = DataLoader(val_dataset, batch_size=64, collate_fn=collate_fn)\n",
    "test_loader = DataLoader(test_dataset, batch_size=64, collate_fn=collate_fn)"
   ]
  },
  {
   "cell_type": "code",
   "execution_count": 25,
   "metadata": {},
   "outputs": [
    {
     "name": "stdout",
     "output_type": "stream",
     "text": [
      "torch.Size([64, 1, 23]) torch.Size([64, 1, 22, 22]) torch.Size([64, 280, 4]) torch.Size([64])\n"
     ]
    }
   ],
   "source": [
    "for team_input, player_input, ball_input, label in train_loader:\n",
    "    print(team_input.shape, player_input.shape, ball_input.shape, label.shape)\n",
    "    break"
   ]
  },
  {
   "cell_type": "code",
   "execution_count": 26,
   "metadata": {},
   "outputs": [],
   "source": [
    "# Save loaders\n",
    "import pickle\n",
    "\n",
    "# Save loaders\n",
    "with open(os.path.join(directory, '../pytorchData\\\\train_loader.pkl'), 'wb') as f:\n",
    "    pickle.dump(train_loader, f)\n",
    "with open(os.path.join(directory, '../pytorchData\\\\val_loader.pkl'), 'wb') as f:\n",
    "    pickle.dump(val_loader, f)\n",
    "with open(os.path.join(directory, '../pytorchData\\\\test_loader.pkl'), 'wb') as f:\n",
    "    pickle.dump(test_loader, f)"
   ]
  },
  {
   "cell_type": "code",
   "execution_count": 27,
   "metadata": {},
   "outputs": [
    {
     "name": "stdout",
     "output_type": "stream",
     "text": [
      "torch.Size([64, 1, 23]) torch.Size([64, 1, 22, 22]) torch.Size([64, 280, 4]) torch.Size([64])\n",
      "torch.Size([64, 1, 23]) torch.Size([64, 1, 22, 22]) torch.Size([64, 280, 4]) torch.Size([64])\n",
      "torch.Size([64, 1, 23]) torch.Size([64, 1, 22, 22]) torch.Size([64, 280, 4]) torch.Size([64])\n",
      "torch.Size([64, 1, 23]) torch.Size([64, 1, 22, 22]) torch.Size([64, 280, 4]) torch.Size([64])\n",
      "torch.Size([64, 1, 23]) torch.Size([64, 1, 22, 22]) torch.Size([64, 280, 4]) torch.Size([64])\n",
      "torch.Size([64, 1, 23]) torch.Size([64, 1, 22, 22]) torch.Size([64, 280, 4]) torch.Size([64])\n"
     ]
    }
   ],
   "source": [
    "i = 0\n",
    "for team_input, player_input, ball_input, label in train_loader:\n",
    "    i += 1\n",
    "    print(team_input.shape, player_input.shape, ball_input.shape, label.shape)\n",
    "    if i>5:\n",
    "        break"
   ]
  },
  {
   "cell_type": "code",
   "execution_count": null,
   "metadata": {},
   "outputs": [],
   "source": []
  }
 ],
 "metadata": {
  "kernelspec": {
   "display_name": "huggingface-torch",
   "language": "python",
   "name": "python3"
  },
  "language_info": {
   "codemirror_mode": {
    "name": "ipython",
    "version": 3
   },
   "file_extension": ".py",
   "mimetype": "text/x-python",
   "name": "python",
   "nbconvert_exporter": "python",
   "pygments_lexer": "ipython3",
   "version": "3.9.20"
  }
 },
 "nbformat": 4,
 "nbformat_minor": 2
}
