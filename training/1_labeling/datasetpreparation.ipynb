{
 "cells": [
  {
   "cell_type": "code",
   "execution_count": 18,
   "metadata": {},
   "outputs": [],
   "source": [
    "import os\n",
    "import numpy as np\n",
    "import pandas as pd\n",
    "import polars as pl\n",
    "import torch\n",
    "import torch.nn as nn\n",
    "import torch.optim as optim\n",
    "from torch.utils.data import Dataset, DataLoader\n",
    "from tqdm import tqdm\n",
    "import torch.nn.functional as F  # Import F module\n",
    "from sklearn.model_selection import train_test_split\n",
    "import matplotlib.pyplot as plt\n",
    "\n",
    "# Load the data using polars\n",
    "directory = r'D:\\github\\Cricket-prediction\\data\\4_filteredData'\n",
    "balltoball = pl.read_csv(os.path.join(directory, 'balltoball.csv'))\n",
    "teamStats = pl.read_csv(os.path.join(directory, 'team12Stats.csv'))\n",
    "playersStats = pl.read_csv(os.path.join(directory, 'playersStats.csv'))\n",
    "\n",
    "# Preprocess the data\n",
    "def partition_data(df, group_keys):\n",
    "    partitions = df.partition_by(group_keys)\n",
    "    partition_list = [partition.drop(group_keys).to_numpy() for partition in partitions]\n",
    "    return partition_list\n",
    "\n",
    "team_stats_partitions = partition_data(teamStats, ['match_id', 'flip'])\n",
    "player_stats_partitions = partition_data(playersStats, ['match_id', 'flip'])\n",
    "ball_stats_partitions = partition_data(balltoball, ['match_id', 'flip'])"
   ]
  },
  {
   "cell_type": "code",
   "execution_count": 19,
   "metadata": {},
   "outputs": [],
   "source": [
    "\n",
    "# Augment the data by creating new samples with different combinations of overs\n",
    "def augment_data(team_stats_list, player_stats_list, ball_stats_list, over_segments=np.arange(7, 40)): \n",
    "    augmented_team_stats = []\n",
    "    augmented_player_stats = []\n",
    "    augmented_ball_stats = []\n",
    "    \n",
    "    for team_stats, player_stats, ball_stats in zip(team_stats_list, player_stats_list, ball_stats_list):\n",
    "        total_overs = ball_stats.shape[0] // 6  # Assuming 6 balls per over\n",
    "        for segment in over_segments:\n",
    "            if total_overs >= segment:\n",
    "                end_idx = segment * 6\n",
    "                augmented_team_stats.append(team_stats)\n",
    "                augmented_player_stats.append(player_stats)\n",
    "                augmented_ball_stats.append(ball_stats[:end_idx])\n",
    "    \n",
    "    return augmented_team_stats, augmented_player_stats, augmented_ball_stats\n",
    "\n",
    "augmented_team_stats, augmented_player_stats, augmented_ball_stats = augment_data(\n",
    "    team_stats_partitions, player_stats_partitions, ball_stats_partitions)\n",
    "\n",
    "# Split the dataset into training and validation sets\n",
    "train_team_stats, val_team_stats, train_player_stats, val_player_stats, train_ball_stats, val_ball_stats = train_test_split(\n",
    "    augmented_team_stats, augmented_player_stats, augmented_ball_stats, test_size=0.25, random_state=42)\n",
    "# Split the dataset into validation and test sets\n",
    "val_team_stats, test_team_stats, val_player_stats, test_player_stats, val_ball_stats, test_ball_stats = train_test_split(\n",
    "    val_team_stats, val_player_stats, val_ball_stats, test_size=0.5, random_state=42)\n",
    "\n",
    "# Create a custom Dataset\n",
    "class CricketDataset(Dataset):\n",
    "    def __init__(self, team_stats_list, player_stats_list, ball_stats_list):\n",
    "        self.team_stats_list = team_stats_list\n",
    "        self.player_stats_list = player_stats_list\n",
    "        self.ball_stats_list = ball_stats_list\n",
    "\n",
    "    def __len__(self):\n",
    "        return len(self.team_stats_list)\n",
    "\n",
    "    def __getitem__(self, idx):\n",
    "        team_input = torch.tensor(self.team_stats_list[idx], dtype=torch.float32)\n",
    "        team_input = team_input.squeeze()  # Remove extra dimensions\n",
    "        player_input = torch.tensor(self.player_stats_list[idx], dtype=torch.float32)\n",
    "        ball_stats = torch.tensor(self.ball_stats_list[idx], dtype=torch.float32)\n",
    "        # Assuming the last column is the label\n",
    "        ball_input = ball_stats[:, :-1]\n",
    "        label = ball_stats[0, -1]\n",
    "        return team_input, player_input, ball_input, label\n",
    "\n",
    "# Define a collate function to handle variable-length sequences\n",
    "def collate_fn(batch):\n",
    "    team_inputs = []\n",
    "    player_inputs = []\n",
    "    ball_inputs = []\n",
    "    labels = []\n",
    "    ball_lengths = []\n",
    "\n",
    "    for team_input, player_input, ball_input, label in batch:\n",
    "        team_inputs.append(team_input)\n",
    "        player_inputs.append(player_input)\n",
    "        ball_inputs.append(ball_input)\n",
    "        labels.append(label)\n",
    "        ball_lengths.append(ball_input.shape[0])\n",
    "\n",
    "    # Pad ball_inputs to the maximum sequence length in the batch\n",
    "    max_seq_len = max(ball_lengths)\n",
    "    padded_ball_inputs = torch.zeros(len(ball_inputs), max_seq_len, ball_inputs[0].shape[1])\n",
    "    for i, ball_input in enumerate(ball_inputs):\n",
    "        seq_len = ball_input.shape[0]\n",
    "        padded_ball_inputs[i, :seq_len, :] = ball_input\n",
    "\n",
    "    team_inputs = torch.stack(team_inputs)\n",
    "    player_inputs = torch.stack(player_inputs)\n",
    "    labels = torch.tensor(labels, dtype=torch.float32)\n",
    "    return team_inputs, player_inputs, padded_ball_inputs, labels, ball_lengths\n",
    "\n",
    "# Create the training and validation datasets and dataloaders\n",
    "train_dataset = CricketDataset(train_team_stats, train_player_stats, train_ball_stats)\n",
    "val_dataset = CricketDataset(val_team_stats, val_player_stats, val_ball_stats)\n",
    "test_dataset = CricketDataset(test_team_stats, test_player_stats, test_ball_stats)\n",
    "\n",
    "train_dataloader = DataLoader(train_dataset, batch_size=32, shuffle=True, collate_fn=collate_fn)\n",
    "val_dataloader = DataLoader(val_dataset, batch_size=32, shuffle=False, collate_fn=collate_fn)\n",
    "test_dataloader = DataLoader(test_dataset, batch_size=32, shuffle=False, collate_fn=collate_fn)"
   ]
  },
  {
   "cell_type": "code",
   "execution_count": 20,
   "metadata": {},
   "outputs": [
    {
     "name": "stdout",
     "output_type": "stream",
     "text": [
      "torch.Size([32, 15]) torch.Size([32, 22, 13]) torch.Size([32, 228, 4]) torch.Size([32])\n",
      "torch.Size([32, 15]) torch.Size([32, 22, 13]) torch.Size([32, 222, 4]) torch.Size([32])\n",
      "torch.Size([32, 15]) torch.Size([32, 22, 13]) torch.Size([32, 228, 4]) torch.Size([32])\n",
      "torch.Size([32, 15]) torch.Size([32, 22, 13]) torch.Size([32, 234, 4]) torch.Size([32])\n",
      "torch.Size([32, 15]) torch.Size([32, 22, 13]) torch.Size([32, 234, 4]) torch.Size([32])\n"
     ]
    }
   ],
   "source": [
    "i = 0\n",
    "for team_inputs, player_inputs, ball_inputs, labels, ball_lengths in train_dataloader:\n",
    "    print(team_inputs.shape, player_inputs.shape, ball_inputs.shape, labels.shape)\n",
    "    i += 1\n",
    "    if i >= 5:\n",
    "        break"
   ]
  },
  {
   "cell_type": "code",
   "execution_count": 21,
   "metadata": {},
   "outputs": [],
   "source": [
    "# Save dataloaders\n",
    "import pickle\n",
    "\n",
    "directory = r'D:\\github\\Cricket-prediction\\data\\5_pytorchData'\n",
    "# Save dataloaders\n",
    "with open(os.path.join(directory, 'train_dataloader.pkl'), 'wb') as f:\n",
    "    pickle.dump(train_dataloader, f)\n",
    "with open(os.path.join(directory, 'val_dataloader.pkl'), 'wb') as f:\n",
    "    pickle.dump(val_dataloader, f)\n",
    "with open(os.path.join(directory, 'test_dataloader.pkl'), 'wb') as f:\n",
    "    pickle.dump(test_dataloader, f)"
   ]
  },
  {
   "cell_type": "code",
   "execution_count": 22,
   "metadata": {},
   "outputs": [
    {
     "data": {
      "text/html": [
       "<div><style>\n",
       ".dataframe > thead > tr,\n",
       ".dataframe > tbody > tr {\n",
       "  text-align: right;\n",
       "  white-space: pre-wrap;\n",
       "}\n",
       "</style>\n",
       "<small>shape: (534_910, 7)</small><table border=\"1\" class=\"dataframe\"><thead><tr><th>match_id</th><th>flip</th><th>innings</th><th>ball</th><th>curr_score</th><th>curr_wickets</th><th>won</th></tr><tr><td>i64</td><td>i64</td><td>i64</td><td>f64</td><td>i64</td><td>i64</td><td>i64</td></tr></thead><tbody><tr><td>211028</td><td>0</td><td>1</td><td>0.1</td><td>0</td><td>0</td><td>1</td></tr><tr><td>211028</td><td>0</td><td>1</td><td>0.2</td><td>1</td><td>0</td><td>1</td></tr><tr><td>211028</td><td>0</td><td>1</td><td>0.3</td><td>1</td><td>0</td><td>1</td></tr><tr><td>211028</td><td>0</td><td>1</td><td>0.4</td><td>1</td><td>0</td><td>1</td></tr><tr><td>211028</td><td>0</td><td>1</td><td>0.5</td><td>1</td><td>0</td><td>1</td></tr><tr><td>&hellip;</td><td>&hellip;</td><td>&hellip;</td><td>&hellip;</td><td>&hellip;</td><td>&hellip;</td><td>&hellip;</td></tr><tr><td>1450765</td><td>1</td><td>2</td><td>19.3</td><td>100</td><td>9</td><td>0</td></tr><tr><td>1450765</td><td>1</td><td>2</td><td>19.4</td><td>100</td><td>9</td><td>0</td></tr><tr><td>1450765</td><td>1</td><td>2</td><td>19.5</td><td>104</td><td>9</td><td>0</td></tr><tr><td>1450765</td><td>1</td><td>2</td><td>19.6</td><td>106</td><td>9</td><td>0</td></tr><tr><td>1450765</td><td>1</td><td>2</td><td>19.7</td><td>106</td><td>10</td><td>0</td></tr></tbody></table></div>"
      ],
      "text/plain": [
       "shape: (534_910, 7)\n",
       "┌──────────┬──────┬─────────┬──────┬────────────┬──────────────┬─────┐\n",
       "│ match_id ┆ flip ┆ innings ┆ ball ┆ curr_score ┆ curr_wickets ┆ won │\n",
       "│ ---      ┆ ---  ┆ ---     ┆ ---  ┆ ---        ┆ ---          ┆ --- │\n",
       "│ i64      ┆ i64  ┆ i64     ┆ f64  ┆ i64        ┆ i64          ┆ i64 │\n",
       "╞══════════╪══════╪═════════╪══════╪════════════╪══════════════╪═════╡\n",
       "│ 211028   ┆ 0    ┆ 1       ┆ 0.1  ┆ 0          ┆ 0            ┆ 1   │\n",
       "│ 211028   ┆ 0    ┆ 1       ┆ 0.2  ┆ 1          ┆ 0            ┆ 1   │\n",
       "│ 211028   ┆ 0    ┆ 1       ┆ 0.3  ┆ 1          ┆ 0            ┆ 1   │\n",
       "│ 211028   ┆ 0    ┆ 1       ┆ 0.4  ┆ 1          ┆ 0            ┆ 1   │\n",
       "│ 211028   ┆ 0    ┆ 1       ┆ 0.5  ┆ 1          ┆ 0            ┆ 1   │\n",
       "│ …        ┆ …    ┆ …       ┆ …    ┆ …          ┆ …            ┆ …   │\n",
       "│ 1450765  ┆ 1    ┆ 2       ┆ 19.3 ┆ 100        ┆ 9            ┆ 0   │\n",
       "│ 1450765  ┆ 1    ┆ 2       ┆ 19.4 ┆ 100        ┆ 9            ┆ 0   │\n",
       "│ 1450765  ┆ 1    ┆ 2       ┆ 19.5 ┆ 104        ┆ 9            ┆ 0   │\n",
       "│ 1450765  ┆ 1    ┆ 2       ┆ 19.6 ┆ 106        ┆ 9            ┆ 0   │\n",
       "│ 1450765  ┆ 1    ┆ 2       ┆ 19.7 ┆ 106        ┆ 10           ┆ 0   │\n",
       "└──────────┴──────┴─────────┴──────┴────────────┴──────────────┴─────┘"
      ]
     },
     "execution_count": 22,
     "metadata": {},
     "output_type": "execute_result"
    }
   ],
   "source": [
    "balltoball"
   ]
  },
  {
   "cell_type": "code",
   "execution_count": 23,
   "metadata": {},
   "outputs": [
    {
     "data": {
      "text/html": [
       "<div><style>\n",
       ".dataframe > thead > tr,\n",
       ".dataframe > tbody > tr {\n",
       "  text-align: right;\n",
       "  white-space: pre-wrap;\n",
       "}\n",
       "</style>\n",
       "<small>shape: (2_312, 17)</small><table border=\"1\" class=\"dataframe\"><thead><tr><th>match_id</th><th>flip</th><th>gender</th><th>Cumulative Won team1</th><th>Cumulative Lost team1</th><th>Cumulative Tied team1</th><th>Cumulative NR team1</th><th>Cumulative W/L team1</th><th>Cumulative AveRPW team1</th><th>Cumulative AveRPO team1</th><th>Cumulative Won team2</th><th>Cumulative Lost team2</th><th>Cumulative Tied team2</th><th>Cumulative NR team2</th><th>Cumulative W/L team2</th><th>Cumulative AveRPW team2</th><th>Cumulative AveRPO team2</th></tr><tr><td>i64</td><td>i64</td><td>i64</td><td>i64</td><td>i64</td><td>i64</td><td>i64</td><td>f64</td><td>f64</td><td>f64</td><td>i64</td><td>i64</td><td>i64</td><td>i64</td><td>f64</td><td>f64</td><td>f64</td></tr></thead><tbody><tr><td>211028</td><td>0</td><td>0</td><td>0</td><td>0</td><td>0</td><td>0</td><td>0.0</td><td>0.0</td><td>0.0</td><td>1</td><td>0</td><td>0</td><td>0</td><td>0.0</td><td>42.8</td><td>0.0</td></tr><tr><td>211028</td><td>1</td><td>0</td><td>1</td><td>0</td><td>0</td><td>0</td><td>0.0</td><td>42.8</td><td>0.0</td><td>0</td><td>0</td><td>0</td><td>0</td><td>0.0</td><td>0.0</td><td>0.0</td></tr><tr><td>211048</td><td>0</td><td>0</td><td>0</td><td>0</td><td>0</td><td>0</td><td>0.0</td><td>0.0</td><td>0.0</td><td>0</td><td>0</td><td>0</td><td>0</td><td>0.0</td><td>0.0</td><td>0.0</td></tr><tr><td>211048</td><td>1</td><td>0</td><td>0</td><td>0</td><td>0</td><td>0</td><td>0.0</td><td>0.0</td><td>0.0</td><td>0</td><td>0</td><td>0</td><td>0</td><td>0.0</td><td>0.0</td><td>0.0</td></tr><tr><td>225263</td><td>0</td><td>0</td><td>1</td><td>0</td><td>0</td><td>0</td><td>0.0</td><td>22.37</td><td>0.0</td><td>0</td><td>0</td><td>0</td><td>0</td><td>0.0</td><td>0.0</td><td>0.0</td></tr><tr><td>&hellip;</td><td>&hellip;</td><td>&hellip;</td><td>&hellip;</td><td>&hellip;</td><td>&hellip;</td><td>&hellip;</td><td>&hellip;</td><td>&hellip;</td><td>&hellip;</td><td>&hellip;</td><td>&hellip;</td><td>&hellip;</td><td>&hellip;</td><td>&hellip;</td><td>&hellip;</td><td>&hellip;</td></tr><tr><td>1450753</td><td>1</td><td>0</td><td>36</td><td>24</td><td>0</td><td>3</td><td>1.5</td><td>19.59</td><td>7.49</td><td>0</td><td>8</td><td>0</td><td>2</td><td>0.0</td><td>0.0</td><td>3.98</td></tr><tr><td>1450759</td><td>0</td><td>0</td><td>0</td><td>8</td><td>0</td><td>2</td><td>0.0</td><td>0.0</td><td>3.98</td><td>18</td><td>10</td><td>0</td><td>3</td><td>1.8</td><td>24.87</td><td>6.69</td></tr><tr><td>1450759</td><td>1</td><td>0</td><td>18</td><td>10</td><td>0</td><td>3</td><td>1.8</td><td>24.87</td><td>6.69</td><td>0</td><td>8</td><td>0</td><td>2</td><td>0.0</td><td>0.0</td><td>3.98</td></tr><tr><td>1450765</td><td>0</td><td>0</td><td>36</td><td>24</td><td>0</td><td>3</td><td>1.5</td><td>19.59</td><td>7.49</td><td>18</td><td>10</td><td>0</td><td>3</td><td>1.8</td><td>24.87</td><td>6.69</td></tr><tr><td>1450765</td><td>1</td><td>0</td><td>18</td><td>10</td><td>0</td><td>3</td><td>1.8</td><td>24.87</td><td>6.69</td><td>36</td><td>24</td><td>0</td><td>3</td><td>1.5</td><td>19.59</td><td>7.49</td></tr></tbody></table></div>"
      ],
      "text/plain": [
       "shape: (2_312, 17)\n",
       "┌──────────┬──────┬────────┬─────────────┬───┬─────────────┬─────────────┬────────────┬────────────┐\n",
       "│ match_id ┆ flip ┆ gender ┆ Cumulative  ┆ … ┆ Cumulative  ┆ Cumulative  ┆ Cumulative ┆ Cumulative │\n",
       "│ ---      ┆ ---  ┆ ---    ┆ Won team1   ┆   ┆ NR team2    ┆ W/L team2   ┆ AveRPW     ┆ AveRPO     │\n",
       "│ i64      ┆ i64  ┆ i64    ┆ ---         ┆   ┆ ---         ┆ ---         ┆ team2      ┆ team2      │\n",
       "│          ┆      ┆        ┆ i64         ┆   ┆ i64         ┆ f64         ┆ ---        ┆ ---        │\n",
       "│          ┆      ┆        ┆             ┆   ┆             ┆             ┆ f64        ┆ f64        │\n",
       "╞══════════╪══════╪════════╪═════════════╪═══╪═════════════╪═════════════╪════════════╪════════════╡\n",
       "│ 211028   ┆ 0    ┆ 0      ┆ 0           ┆ … ┆ 0           ┆ 0.0         ┆ 42.8       ┆ 0.0        │\n",
       "│ 211028   ┆ 1    ┆ 0      ┆ 1           ┆ … ┆ 0           ┆ 0.0         ┆ 0.0        ┆ 0.0        │\n",
       "│ 211048   ┆ 0    ┆ 0      ┆ 0           ┆ … ┆ 0           ┆ 0.0         ┆ 0.0        ┆ 0.0        │\n",
       "│ 211048   ┆ 1    ┆ 0      ┆ 0           ┆ … ┆ 0           ┆ 0.0         ┆ 0.0        ┆ 0.0        │\n",
       "│ 225263   ┆ 0    ┆ 0      ┆ 1           ┆ … ┆ 0           ┆ 0.0         ┆ 0.0        ┆ 0.0        │\n",
       "│ …        ┆ …    ┆ …      ┆ …           ┆ … ┆ …           ┆ …           ┆ …          ┆ …          │\n",
       "│ 1450753  ┆ 1    ┆ 0      ┆ 36          ┆ … ┆ 2           ┆ 0.0         ┆ 0.0        ┆ 3.98       │\n",
       "│ 1450759  ┆ 0    ┆ 0      ┆ 0           ┆ … ┆ 3           ┆ 1.8         ┆ 24.87      ┆ 6.69       │\n",
       "│ 1450759  ┆ 1    ┆ 0      ┆ 18          ┆ … ┆ 2           ┆ 0.0         ┆ 0.0        ┆ 3.98       │\n",
       "│ 1450765  ┆ 0    ┆ 0      ┆ 36          ┆ … ┆ 3           ┆ 1.8         ┆ 24.87      ┆ 6.69       │\n",
       "│ 1450765  ┆ 1    ┆ 0      ┆ 18          ┆ … ┆ 3           ┆ 1.5         ┆ 19.59      ┆ 7.49       │\n",
       "└──────────┴──────┴────────┴─────────────┴───┴─────────────┴─────────────┴────────────┴────────────┘"
      ]
     },
     "execution_count": 23,
     "metadata": {},
     "output_type": "execute_result"
    }
   ],
   "source": [
    "teamStats"
   ]
  },
  {
   "cell_type": "code",
   "execution_count": 24,
   "metadata": {},
   "outputs": [
    {
     "data": {
      "text/html": [
       "<div><style>\n",
       ".dataframe > thead > tr,\n",
       ".dataframe > tbody > tr {\n",
       "  text-align: right;\n",
       "  white-space: pre-wrap;\n",
       "}\n",
       "</style>\n",
       "<small>shape: (50_864, 15)</small><table border=\"1\" class=\"dataframe\"><thead><tr><th>match_id</th><th>flip</th><th>Cum Mat Total</th><th>Cum Inns Total</th><th>Cum Runs Total</th><th>Cum Batting Ave</th><th>Cum SR</th><th>Cumulative Overs</th><th>Cumulative Runs</th><th>Cumulative Wkts</th><th>Cumulative Econ</th><th>Cumulative Dis</th><th>Cumulative Ct</th><th>Cumulative St</th><th>Cumulative D/I</th></tr><tr><td>i64</td><td>i64</td><td>i64</td><td>i64</td><td>i64</td><td>f64</td><td>f64</td><td>f64</td><td>f64</td><td>f64</td><td>f64</td><td>f64</td><td>f64</td><td>f64</td><td>f64</td></tr></thead><tbody><tr><td>211028</td><td>0</td><td>1</td><td>1</td><td>1</td><td>1.0</td><td>33.33</td><td>0.0</td><td>0.0</td><td>0.0</td><td>0.0</td><td>0.0</td><td>0.0</td><td>0.0</td><td>0.0</td></tr><tr><td>211028</td><td>0</td><td>1</td><td>1</td><td>31</td><td>31.0</td><td>206.66</td><td>0.0</td><td>0.0</td><td>0.0</td><td>0.0</td><td>1.0</td><td>1.0</td><td>0.0</td><td>1.0</td></tr><tr><td>211028</td><td>0</td><td>1</td><td>1</td><td>3</td><td>3.0</td><td>60.0</td><td>0.0</td><td>0.0</td><td>0.0</td><td>0.0</td><td>0.0</td><td>0.0</td><td>0.0</td><td>0.0</td></tr><tr><td>211028</td><td>0</td><td>0</td><td>0</td><td>0</td><td>0.0</td><td>0.0</td><td>0.0</td><td>0.0</td><td>0.0</td><td>0.0</td><td>0.0</td><td>0.0</td><td>0.0</td><td>0.0</td></tr><tr><td>211028</td><td>0</td><td>1</td><td>1</td><td>98</td><td>98.0</td><td>178.18</td><td>0.0</td><td>0.0</td><td>0.0</td><td>0.0</td><td>1.0</td><td>1.0</td><td>0.0</td><td>1.0</td></tr><tr><td>&hellip;</td><td>&hellip;</td><td>&hellip;</td><td>&hellip;</td><td>&hellip;</td><td>&hellip;</td><td>&hellip;</td><td>&hellip;</td><td>&hellip;</td><td>&hellip;</td><td>&hellip;</td><td>&hellip;</td><td>&hellip;</td><td>&hellip;</td><td>&hellip;</td></tr><tr><td>1450765</td><td>1</td><td>22</td><td>20</td><td>216</td><td>16.36</td><td>107.44</td><td>56.799999</td><td>384.0</td><td>19.0</td><td>6.7</td><td>5.0</td><td>5.0</td><td>0.0</td><td>0.24</td></tr><tr><td>1450765</td><td>1</td><td>0</td><td>0</td><td>0</td><td>0.0</td><td>0.0</td><td>0.0</td><td>0.0</td><td>0.0</td><td>0.0</td><td>0.0</td><td>0.0</td><td>0.0</td><td>0.0</td></tr><tr><td>1450765</td><td>1</td><td>62</td><td>39</td><td>294</td><td>15.42</td><td>104.92</td><td>157.499999</td><td>1109.0</td><td>62.0</td><td>6.97</td><td>21.0</td><td>21.0</td><td>0.0</td><td>0.35</td></tr><tr><td>1450765</td><td>1</td><td>27</td><td>18</td><td>94</td><td>7.92</td><td>145.24</td><td>75.0</td><td>485.0</td><td>23.0</td><td>6.46</td><td>2.0</td><td>2.0</td><td>0.0</td><td>0.07</td></tr><tr><td>1450765</td><td>1</td><td>0</td><td>0</td><td>0</td><td>0.0</td><td>0.0</td><td>0.0</td><td>0.0</td><td>0.0</td><td>0.0</td><td>0.0</td><td>0.0</td><td>0.0</td><td>0.0</td></tr></tbody></table></div>"
      ],
      "text/plain": [
       "shape: (50_864, 15)\n",
       "┌──────────┬──────┬────────────┬────────────┬───┬────────────┬────────────┬────────────┬───────────┐\n",
       "│ match_id ┆ flip ┆ Cum Mat    ┆ Cum Inns   ┆ … ┆ Cumulative ┆ Cumulative ┆ Cumulative ┆ Cumulativ │\n",
       "│ ---      ┆ ---  ┆ Total      ┆ Total      ┆   ┆ Dis        ┆ Ct         ┆ St         ┆ e D/I     │\n",
       "│ i64      ┆ i64  ┆ ---        ┆ ---        ┆   ┆ ---        ┆ ---        ┆ ---        ┆ ---       │\n",
       "│          ┆      ┆ i64        ┆ i64        ┆   ┆ f64        ┆ f64        ┆ f64        ┆ f64       │\n",
       "╞══════════╪══════╪════════════╪════════════╪═══╪════════════╪════════════╪════════════╪═══════════╡\n",
       "│ 211028   ┆ 0    ┆ 1          ┆ 1          ┆ … ┆ 0.0        ┆ 0.0        ┆ 0.0        ┆ 0.0       │\n",
       "│ 211028   ┆ 0    ┆ 1          ┆ 1          ┆ … ┆ 1.0        ┆ 1.0        ┆ 0.0        ┆ 1.0       │\n",
       "│ 211028   ┆ 0    ┆ 1          ┆ 1          ┆ … ┆ 0.0        ┆ 0.0        ┆ 0.0        ┆ 0.0       │\n",
       "│ 211028   ┆ 0    ┆ 0          ┆ 0          ┆ … ┆ 0.0        ┆ 0.0        ┆ 0.0        ┆ 0.0       │\n",
       "│ 211028   ┆ 0    ┆ 1          ┆ 1          ┆ … ┆ 1.0        ┆ 1.0        ┆ 0.0        ┆ 1.0       │\n",
       "│ …        ┆ …    ┆ …          ┆ …          ┆ … ┆ …          ┆ …          ┆ …          ┆ …         │\n",
       "│ 1450765  ┆ 1    ┆ 22         ┆ 20         ┆ … ┆ 5.0        ┆ 5.0        ┆ 0.0        ┆ 0.24      │\n",
       "│ 1450765  ┆ 1    ┆ 0          ┆ 0          ┆ … ┆ 0.0        ┆ 0.0        ┆ 0.0        ┆ 0.0       │\n",
       "│ 1450765  ┆ 1    ┆ 62         ┆ 39         ┆ … ┆ 21.0       ┆ 21.0       ┆ 0.0        ┆ 0.35      │\n",
       "│ 1450765  ┆ 1    ┆ 27         ┆ 18         ┆ … ┆ 2.0        ┆ 2.0        ┆ 0.0        ┆ 0.07      │\n",
       "│ 1450765  ┆ 1    ┆ 0          ┆ 0          ┆ … ┆ 0.0        ┆ 0.0        ┆ 0.0        ┆ 0.0       │\n",
       "└──────────┴──────┴────────────┴────────────┴───┴────────────┴────────────┴────────────┴───────────┘"
      ]
     },
     "execution_count": 24,
     "metadata": {},
     "output_type": "execute_result"
    }
   ],
   "source": [
    "playersStats"
   ]
  },
  {
   "cell_type": "code",
   "execution_count": null,
   "metadata": {},
   "outputs": [],
   "source": []
  }
 ],
 "metadata": {
  "kernelspec": {
   "display_name": "huggingface-torch",
   "language": "python",
   "name": "python3"
  },
  "language_info": {
   "codemirror_mode": {
    "name": "ipython",
    "version": 3
   },
   "file_extension": ".py",
   "mimetype": "text/x-python",
   "name": "python",
   "nbconvert_exporter": "python",
   "pygments_lexer": "ipython3",
   "version": "3.9.20"
  }
 },
 "nbformat": 4,
 "nbformat_minor": 2
}
